{
 "cells": [
  {
   "cell_type": "markdown",
   "id": "41c5fb8d",
   "metadata": {},
   "source": [
    "# Embedding\n",
    "원핫에 비해 저차원이다.  \n",
    "표현 유사도를 가진다.  \n",
    "원핫은 유사도를 나타낼 수 없다."
   ]
  },
  {
   "cell_type": "markdown",
   "id": "883c06e6",
   "metadata": {},
   "source": [
    "# CBOW\n",
    "주변 단어로 가운데 단어를 유추해낸다"
   ]
  },
  {
   "cell_type": "markdown",
   "id": "36c952bb",
   "metadata": {},
   "source": [
    "# TF-IDF\n",
    "Term Frequency - Inverse Document Frequency  \n",
    "단어빈도 - 역문서 빈도"
   ]
  },
  {
   "cell_type": "code",
   "execution_count": null,
   "id": "8977d8aa",
   "metadata": {},
   "outputs": [],
   "source": []
  }
 ],
 "metadata": {
  "kernelspec": {
   "display_name": "Python 3 (ipykernel)",
   "language": "python",
   "name": "python3"
  },
  "language_info": {
   "codemirror_mode": {
    "name": "ipython",
    "version": 3
   },
   "file_extension": ".py",
   "mimetype": "text/x-python",
   "name": "python",
   "nbconvert_exporter": "python",
   "pygments_lexer": "ipython3",
   "version": "3.9.13"
  }
 },
 "nbformat": 4,
 "nbformat_minor": 5
}
