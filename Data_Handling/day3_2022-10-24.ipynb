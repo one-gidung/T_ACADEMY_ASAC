{
 "cells": [
  {
   "cell_type": "markdown",
   "id": "4e1594e7",
   "metadata": {},
   "source": [
    "데이터에 대한 접근 FM  \n",
    "1개: at/iat --> 하나로 가로, 세로를 다 몰아야함\n",
    "2개 이상: loc, iloc --> 경우에 따라서 숫자가 편할 때가 있고,  \n",
    "                        내가 만든 것이 편할 때 있어서 모두 다 핸들링 할 수 있어야함\n",
    "\n",
    "+++ 데이터 처리  \n",
    "줄 단위로 간단히 처리: lambda apply를 이용해서 내가 원하는 기능을 줄 단위로 적용  \n",
    "--> 내가 처리할 / 필요한 영역이 어디인지 파악  \n",
    "--> 전체인지, 일부인지!\n",
    "\n",
    "+++ for 전체 데이터를 돌아가면서 진행을 하는 경우  \n"
   ]
  },
  {
   "cell_type": "code",
   "execution_count": 2,
   "id": "bc66eead",
   "metadata": {},
   "outputs": [],
   "source": [
    "### 여러 개의 파일 일괄 처리"
   ]
  },
  {
   "cell_type": "code",
   "execution_count": 1,
   "id": "edbf0192",
   "metadata": {},
   "outputs": [],
   "source": [
    "import pandas as pd\n",
    "import numpy as np"
   ]
  },
  {
   "cell_type": "code",
   "execution_count": null,
   "id": "e64e29e1",
   "metadata": {},
   "outputs": [],
   "source": [
    "data1 = pd.read_csv(\"‪C:/Users/NTX550/Documents/GitHub/T_ACADEMY_ASAC/Numpy/data/06_manyfile/1763.csv\")\n",
    "data2 = pd.read_csv(\"~~~data2.csv\")\n",
    "...\n",
    "data100 = pd.read_csv(\"~~~data100..csv\")\n",
    "# ctrl + C / V : 반복되는 부분\n",
    "# pd.read_csv 동일\n",
    "# 바뀌는 친구들은 : 내가 불러야할 파일경로+이름, 변수명도 제"
   ]
  },
  {
   "cell_type": "code",
   "execution_count": 3,
   "id": "54757d83",
   "metadata": {},
   "outputs": [],
   "source": [
    "import os\n",
    "import sys\n",
    "import glob"
   ]
  },
  {
   "cell_type": "code",
   "execution_count": 10,
   "id": "56109e4b",
   "metadata": {},
   "outputs": [
    {
     "data": {
      "text/plain": [
       "['data/06_manyfile\\\\1763.csv',\n",
       " 'data/06_manyfile\\\\1764.csv',\n",
       " 'data/06_manyfile\\\\1765.csv',\n",
       " 'data/06_manyfile\\\\1766.csv',\n",
       " 'data/06_manyfile\\\\1767.csv',\n",
       " 'data/06_manyfile\\\\1768.csv',\n",
       " 'data/06_manyfile\\\\1769.csv',\n",
       " 'data/06_manyfile\\\\1770.csv',\n",
       " 'data/06_manyfile\\\\1771.csv',\n",
       " 'data/06_manyfile\\\\1772.csv']"
      ]
     },
     "execution_count": 10,
     "metadata": {},
     "output_type": "execute_result"
    }
   ],
   "source": [
    "# 내가 원하는 파일명을 리스트로 받아 처리하겠다\n",
    "# *.csv로 끝나는 파일을 찾는다\n",
    "many_file_path = \"data/06_manyfile/*.csv\"\n",
    "file_path = glob.glob(many_file_path)\n",
    "file_path"
   ]
  },
  {
   "cell_type": "code",
   "execution_count": 11,
   "id": "f9dc9f18",
   "metadata": {},
   "outputs": [
    {
     "data": {
      "text/html": [
       "<div>\n",
       "<style scoped>\n",
       "    .dataframe tbody tr th:only-of-type {\n",
       "        vertical-align: middle;\n",
       "    }\n",
       "\n",
       "    .dataframe tbody tr th {\n",
       "        vertical-align: top;\n",
       "    }\n",
       "\n",
       "    .dataframe thead th {\n",
       "        text-align: right;\n",
       "    }\n",
       "</style>\n",
       "<table border=\"1\" class=\"dataframe\">\n",
       "  <thead>\n",
       "    <tr style=\"text-align: right;\">\n",
       "      <th></th>\n",
       "      <th>ITE00100554</th>\n",
       "      <th>17660101</th>\n",
       "      <th>TMAX</th>\n",
       "      <th>-26</th>\n",
       "      <th>Unnamed: 4</th>\n",
       "      <th>Unnamed: 5</th>\n",
       "      <th>E</th>\n",
       "      <th>Unnamed: 7</th>\n",
       "    </tr>\n",
       "  </thead>\n",
       "  <tbody>\n",
       "    <tr>\n",
       "      <th>0</th>\n",
       "      <td>ITE00100554</td>\n",
       "      <td>17660101</td>\n",
       "      <td>TMIN</td>\n",
       "      <td>-50</td>\n",
       "      <td>NaN</td>\n",
       "      <td>NaN</td>\n",
       "      <td>E</td>\n",
       "      <td>NaN</td>\n",
       "    </tr>\n",
       "    <tr>\n",
       "      <th>1</th>\n",
       "      <td>ITE00100554</td>\n",
       "      <td>17660102</td>\n",
       "      <td>TMAX</td>\n",
       "      <td>-9</td>\n",
       "      <td>NaN</td>\n",
       "      <td>NaN</td>\n",
       "      <td>E</td>\n",
       "      <td>NaN</td>\n",
       "    </tr>\n",
       "    <tr>\n",
       "      <th>2</th>\n",
       "      <td>ITE00100554</td>\n",
       "      <td>17660102</td>\n",
       "      <td>TMIN</td>\n",
       "      <td>-29</td>\n",
       "      <td>NaN</td>\n",
       "      <td>NaN</td>\n",
       "      <td>E</td>\n",
       "      <td>NaN</td>\n",
       "    </tr>\n",
       "    <tr>\n",
       "      <th>3</th>\n",
       "      <td>ITE00100554</td>\n",
       "      <td>17660103</td>\n",
       "      <td>TMAX</td>\n",
       "      <td>1</td>\n",
       "      <td>NaN</td>\n",
       "      <td>NaN</td>\n",
       "      <td>E</td>\n",
       "      <td>NaN</td>\n",
       "    </tr>\n",
       "    <tr>\n",
       "      <th>4</th>\n",
       "      <td>ITE00100554</td>\n",
       "      <td>17660103</td>\n",
       "      <td>TMIN</td>\n",
       "      <td>-13</td>\n",
       "      <td>NaN</td>\n",
       "      <td>NaN</td>\n",
       "      <td>E</td>\n",
       "      <td>NaN</td>\n",
       "    </tr>\n",
       "  </tbody>\n",
       "</table>\n",
       "</div>"
      ],
      "text/plain": [
       "   ITE00100554  17660101  TMAX  -26  Unnamed: 4 Unnamed: 5  E  Unnamed: 7\n",
       "0  ITE00100554  17660101  TMIN  -50         NaN        NaN  E         NaN\n",
       "1  ITE00100554  17660102  TMAX   -9         NaN        NaN  E         NaN\n",
       "2  ITE00100554  17660102  TMIN  -29         NaN        NaN  E         NaN\n",
       "3  ITE00100554  17660103  TMAX    1         NaN        NaN  E         NaN\n",
       "4  ITE00100554  17660103  TMIN  -13         NaN        NaN  E         NaN"
      ]
     },
     "execution_count": 11,
     "metadata": {},
     "output_type": "execute_result"
    }
   ],
   "source": [
    "temp = pd.read_csv(file_path_list[3])\n",
    "temp.head()"
   ]
  },
  {
   "cell_type": "code",
   "execution_count": 13,
   "id": "55fb7cdc",
   "metadata": {},
   "outputs": [
    {
     "data": {
      "text/html": [
       "<div>\n",
       "<style scoped>\n",
       "    .dataframe tbody tr th:only-of-type {\n",
       "        vertical-align: middle;\n",
       "    }\n",
       "\n",
       "    .dataframe tbody tr th {\n",
       "        vertical-align: top;\n",
       "    }\n",
       "\n",
       "    .dataframe thead th {\n",
       "        text-align: right;\n",
       "    }\n",
       "</style>\n",
       "<table border=\"1\" class=\"dataframe\">\n",
       "  <thead>\n",
       "    <tr style=\"text-align: right;\">\n",
       "      <th></th>\n",
       "      <th>ITE00100554</th>\n",
       "      <th>17660101</th>\n",
       "      <th>TMAX</th>\n",
       "      <th>-26</th>\n",
       "      <th>Unnamed: 4</th>\n",
       "      <th>Unnamed: 5</th>\n",
       "      <th>E</th>\n",
       "      <th>Unnamed: 7</th>\n",
       "    </tr>\n",
       "  </thead>\n",
       "  <tbody>\n",
       "    <tr>\n",
       "      <th>0</th>\n",
       "      <td>ITE00100554</td>\n",
       "      <td>17660101</td>\n",
       "      <td>TMIN</td>\n",
       "      <td>-50</td>\n",
       "      <td>NaN</td>\n",
       "      <td>NaN</td>\n",
       "      <td>E</td>\n",
       "      <td>NaN</td>\n",
       "    </tr>\n",
       "    <tr>\n",
       "      <th>1</th>\n",
       "      <td>ITE00100554</td>\n",
       "      <td>17660102</td>\n",
       "      <td>TMAX</td>\n",
       "      <td>-9</td>\n",
       "      <td>NaN</td>\n",
       "      <td>NaN</td>\n",
       "      <td>E</td>\n",
       "      <td>NaN</td>\n",
       "    </tr>\n",
       "    <tr>\n",
       "      <th>2</th>\n",
       "      <td>ITE00100554</td>\n",
       "      <td>17660102</td>\n",
       "      <td>TMIN</td>\n",
       "      <td>-29</td>\n",
       "      <td>NaN</td>\n",
       "      <td>NaN</td>\n",
       "      <td>E</td>\n",
       "      <td>NaN</td>\n",
       "    </tr>\n",
       "    <tr>\n",
       "      <th>3</th>\n",
       "      <td>ITE00100554</td>\n",
       "      <td>17660103</td>\n",
       "      <td>TMAX</td>\n",
       "      <td>1</td>\n",
       "      <td>NaN</td>\n",
       "      <td>NaN</td>\n",
       "      <td>E</td>\n",
       "      <td>NaN</td>\n",
       "    </tr>\n",
       "    <tr>\n",
       "      <th>4</th>\n",
       "      <td>ITE00100554</td>\n",
       "      <td>17660103</td>\n",
       "      <td>TMIN</td>\n",
       "      <td>-13</td>\n",
       "      <td>NaN</td>\n",
       "      <td>NaN</td>\n",
       "      <td>E</td>\n",
       "      <td>NaN</td>\n",
       "    </tr>\n",
       "    <tr>\n",
       "      <th>...</th>\n",
       "      <td>...</td>\n",
       "      <td>...</td>\n",
       "      <td>...</td>\n",
       "      <td>...</td>\n",
       "      <td>...</td>\n",
       "      <td>...</td>\n",
       "      <td>...</td>\n",
       "      <td>...</td>\n",
       "    </tr>\n",
       "    <tr>\n",
       "      <th>724</th>\n",
       "      <td>ITE00100554</td>\n",
       "      <td>17661229</td>\n",
       "      <td>TMIN</td>\n",
       "      <td>9</td>\n",
       "      <td>NaN</td>\n",
       "      <td>NaN</td>\n",
       "      <td>E</td>\n",
       "      <td>NaN</td>\n",
       "    </tr>\n",
       "    <tr>\n",
       "      <th>725</th>\n",
       "      <td>ITE00100554</td>\n",
       "      <td>17661230</td>\n",
       "      <td>TMAX</td>\n",
       "      <td>28</td>\n",
       "      <td>NaN</td>\n",
       "      <td>NaN</td>\n",
       "      <td>E</td>\n",
       "      <td>NaN</td>\n",
       "    </tr>\n",
       "    <tr>\n",
       "      <th>726</th>\n",
       "      <td>ITE00100554</td>\n",
       "      <td>17661230</td>\n",
       "      <td>TMIN</td>\n",
       "      <td>-2</td>\n",
       "      <td>NaN</td>\n",
       "      <td>NaN</td>\n",
       "      <td>E</td>\n",
       "      <td>NaN</td>\n",
       "    </tr>\n",
       "    <tr>\n",
       "      <th>727</th>\n",
       "      <td>ITE00100554</td>\n",
       "      <td>17661231</td>\n",
       "      <td>TMAX</td>\n",
       "      <td>29</td>\n",
       "      <td>NaN</td>\n",
       "      <td>NaN</td>\n",
       "      <td>E</td>\n",
       "      <td>NaN</td>\n",
       "    </tr>\n",
       "    <tr>\n",
       "      <th>728</th>\n",
       "      <td>ITE00100554</td>\n",
       "      <td>17661231</td>\n",
       "      <td>TMIN</td>\n",
       "      <td>-1</td>\n",
       "      <td>NaN</td>\n",
       "      <td>NaN</td>\n",
       "      <td>E</td>\n",
       "      <td>NaN</td>\n",
       "    </tr>\n",
       "  </tbody>\n",
       "</table>\n",
       "<p>729 rows × 8 columns</p>\n",
       "</div>"
      ],
      "text/plain": [
       "     ITE00100554  17660101  TMAX  -26  Unnamed: 4 Unnamed: 5  E  Unnamed: 7\n",
       "0    ITE00100554  17660101  TMIN  -50         NaN        NaN  E         NaN\n",
       "1    ITE00100554  17660102  TMAX   -9         NaN        NaN  E         NaN\n",
       "2    ITE00100554  17660102  TMIN  -29         NaN        NaN  E         NaN\n",
       "3    ITE00100554  17660103  TMAX    1         NaN        NaN  E         NaN\n",
       "4    ITE00100554  17660103  TMIN  -13         NaN        NaN  E         NaN\n",
       "..           ...       ...   ...  ...         ...        ... ..         ...\n",
       "724  ITE00100554  17661229  TMIN    9         NaN        NaN  E         NaN\n",
       "725  ITE00100554  17661230  TMAX   28         NaN        NaN  E         NaN\n",
       "726  ITE00100554  17661230  TMIN   -2         NaN        NaN  E         NaN\n",
       "727  ITE00100554  17661231  TMAX   29         NaN        NaN  E         NaN\n",
       "728  ITE00100554  17661231  TMIN   -1         NaN        NaN  E         NaN\n",
       "\n",
       "[729 rows x 8 columns]"
      ]
     },
     "execution_count": 13,
     "metadata": {},
     "output_type": "execute_result"
    }
   ],
   "source": [
    "# vars함수 문자열을 변수명으로 처리한다\n",
    "vars()['temp']"
   ]
  },
  {
   "cell_type": "code",
   "execution_count": 14,
   "id": "9a36a41c",
   "metadata": {},
   "outputs": [
    {
     "data": {
      "text/plain": [
       "'1763.csv'"
      ]
     },
     "execution_count": 14,
     "metadata": {},
     "output_type": "execute_result"
    }
   ],
   "source": [
    "# 내가 관심있는 파일명과 확장자만 반환해준다.\n",
    "os.path.basename(\"C:/Users/NTX550/Documents/GitHub/T_ACADEMY_ASAC/Numpy/data/06_manyfile/1763.csv\")"
   ]
  },
  {
   "cell_type": "code",
   "execution_count": null,
   "id": "7dbc44f5",
   "metadata": {},
   "outputs": [],
   "source": [
    "data_1769 = pd.read_csv(\"~~~/1769.csv\")\n",
    "data_1780 = pd.read_csv(\"~~~/1769.csv\")"
   ]
  },
  {
   "cell_type": "code",
   "execution_count": 17,
   "id": "cc58b994",
   "metadata": {},
   "outputs": [
    {
     "name": "stdout",
     "output_type": "stream",
     "text": [
      "Done!\n"
     ]
    }
   ],
   "source": [
    "for f in file_path:\n",
    "    # 개별 파일마다 read_csv를 수행하는데...\n",
    "    # 변수명을 문자열을 통해서 자동...: vars()\n",
    "    temp = os.path.basename(f).split(\".\")[0]\n",
    "    vars()[\"data_\"+str(temp)] = pd.read_csv(f)      # 파일명을 다 다르게 해서 저장ㅜㅜ 코드 너무 이쁘다\n",
    "print(\"Done!\")"
   ]
  },
  {
   "cell_type": "code",
   "execution_count": 18,
   "id": "a24b6233",
   "metadata": {},
   "outputs": [
    {
     "data": {
      "text/html": [
       "<div>\n",
       "<style scoped>\n",
       "    .dataframe tbody tr th:only-of-type {\n",
       "        vertical-align: middle;\n",
       "    }\n",
       "\n",
       "    .dataframe tbody tr th {\n",
       "        vertical-align: top;\n",
       "    }\n",
       "\n",
       "    .dataframe thead th {\n",
       "        text-align: right;\n",
       "    }\n",
       "</style>\n",
       "<table border=\"1\" class=\"dataframe\">\n",
       "  <thead>\n",
       "    <tr style=\"text-align: right;\">\n",
       "      <th></th>\n",
       "      <th>ITE00100554</th>\n",
       "      <th>17690101</th>\n",
       "      <th>TMAX</th>\n",
       "      <th>49</th>\n",
       "      <th>Unnamed: 4</th>\n",
       "      <th>Unnamed: 5</th>\n",
       "      <th>E</th>\n",
       "      <th>Unnamed: 7</th>\n",
       "    </tr>\n",
       "  </thead>\n",
       "  <tbody>\n",
       "    <tr>\n",
       "      <th>0</th>\n",
       "      <td>ITE00100554</td>\n",
       "      <td>17690101</td>\n",
       "      <td>TMIN</td>\n",
       "      <td>29</td>\n",
       "      <td>NaN</td>\n",
       "      <td>NaN</td>\n",
       "      <td>E</td>\n",
       "      <td>NaN</td>\n",
       "    </tr>\n",
       "    <tr>\n",
       "      <th>1</th>\n",
       "      <td>ITE00100554</td>\n",
       "      <td>17690102</td>\n",
       "      <td>TMAX</td>\n",
       "      <td>47</td>\n",
       "      <td>NaN</td>\n",
       "      <td>NaN</td>\n",
       "      <td>E</td>\n",
       "      <td>NaN</td>\n",
       "    </tr>\n",
       "    <tr>\n",
       "      <th>2</th>\n",
       "      <td>ITE00100554</td>\n",
       "      <td>17690102</td>\n",
       "      <td>TMIN</td>\n",
       "      <td>33</td>\n",
       "      <td>NaN</td>\n",
       "      <td>NaN</td>\n",
       "      <td>E</td>\n",
       "      <td>NaN</td>\n",
       "    </tr>\n",
       "    <tr>\n",
       "      <th>3</th>\n",
       "      <td>ITE00100554</td>\n",
       "      <td>17690103</td>\n",
       "      <td>TMAX</td>\n",
       "      <td>38</td>\n",
       "      <td>NaN</td>\n",
       "      <td>NaN</td>\n",
       "      <td>E</td>\n",
       "      <td>NaN</td>\n",
       "    </tr>\n",
       "    <tr>\n",
       "      <th>4</th>\n",
       "      <td>ITE00100554</td>\n",
       "      <td>17690103</td>\n",
       "      <td>TMIN</td>\n",
       "      <td>14</td>\n",
       "      <td>NaN</td>\n",
       "      <td>NaN</td>\n",
       "      <td>E</td>\n",
       "      <td>NaN</td>\n",
       "    </tr>\n",
       "    <tr>\n",
       "      <th>...</th>\n",
       "      <td>...</td>\n",
       "      <td>...</td>\n",
       "      <td>...</td>\n",
       "      <td>...</td>\n",
       "      <td>...</td>\n",
       "      <td>...</td>\n",
       "      <td>...</td>\n",
       "      <td>...</td>\n",
       "    </tr>\n",
       "    <tr>\n",
       "      <th>724</th>\n",
       "      <td>ITE00100554</td>\n",
       "      <td>17691229</td>\n",
       "      <td>TMIN</td>\n",
       "      <td>19</td>\n",
       "      <td>NaN</td>\n",
       "      <td>NaN</td>\n",
       "      <td>E</td>\n",
       "      <td>NaN</td>\n",
       "    </tr>\n",
       "    <tr>\n",
       "      <th>725</th>\n",
       "      <td>ITE00100554</td>\n",
       "      <td>17691230</td>\n",
       "      <td>TMAX</td>\n",
       "      <td>26</td>\n",
       "      <td>NaN</td>\n",
       "      <td>NaN</td>\n",
       "      <td>E</td>\n",
       "      <td>NaN</td>\n",
       "    </tr>\n",
       "    <tr>\n",
       "      <th>726</th>\n",
       "      <td>ITE00100554</td>\n",
       "      <td>17691230</td>\n",
       "      <td>TMIN</td>\n",
       "      <td>2</td>\n",
       "      <td>NaN</td>\n",
       "      <td>NaN</td>\n",
       "      <td>E</td>\n",
       "      <td>NaN</td>\n",
       "    </tr>\n",
       "    <tr>\n",
       "      <th>727</th>\n",
       "      <td>ITE00100554</td>\n",
       "      <td>17691231</td>\n",
       "      <td>TMAX</td>\n",
       "      <td>6</td>\n",
       "      <td>NaN</td>\n",
       "      <td>NaN</td>\n",
       "      <td>E</td>\n",
       "      <td>NaN</td>\n",
       "    </tr>\n",
       "    <tr>\n",
       "      <th>728</th>\n",
       "      <td>ITE00100554</td>\n",
       "      <td>17691231</td>\n",
       "      <td>TMIN</td>\n",
       "      <td>-24</td>\n",
       "      <td>NaN</td>\n",
       "      <td>NaN</td>\n",
       "      <td>E</td>\n",
       "      <td>NaN</td>\n",
       "    </tr>\n",
       "  </tbody>\n",
       "</table>\n",
       "<p>729 rows × 8 columns</p>\n",
       "</div>"
      ],
      "text/plain": [
       "     ITE00100554  17690101  TMAX  49  Unnamed: 4 Unnamed: 5  E  Unnamed: 7\n",
       "0    ITE00100554  17690101  TMIN  29         NaN        NaN  E         NaN\n",
       "1    ITE00100554  17690102  TMAX  47         NaN        NaN  E         NaN\n",
       "2    ITE00100554  17690102  TMIN  33         NaN        NaN  E         NaN\n",
       "3    ITE00100554  17690103  TMAX  38         NaN        NaN  E         NaN\n",
       "4    ITE00100554  17690103  TMIN  14         NaN        NaN  E         NaN\n",
       "..           ...       ...   ...  ..         ...        ... ..         ...\n",
       "724  ITE00100554  17691229  TMIN  19         NaN        NaN  E         NaN\n",
       "725  ITE00100554  17691230  TMAX  26         NaN        NaN  E         NaN\n",
       "726  ITE00100554  17691230  TMIN   2         NaN        NaN  E         NaN\n",
       "727  ITE00100554  17691231  TMAX   6         NaN        NaN  E         NaN\n",
       "728  ITE00100554  17691231  TMIN -24         NaN        NaN  E         NaN\n",
       "\n",
       "[729 rows x 8 columns]"
      ]
     },
     "execution_count": 18,
     "metadata": {},
     "output_type": "execute_result"
    }
   ],
   "source": [
    "# 변수명에 잘 들어갔는지 확인\n",
    "data_1769"
   ]
  },
  {
   "cell_type": "code",
   "execution_count": 19,
   "id": "c4b0fea3",
   "metadata": {},
   "outputs": [],
   "source": [
    "# EXCEL : sheet 중심!! 1개 엑셀 파일에 여러개의 시트\n",
    "# --> 열 때 어떤 시트를 열까요"
   ]
  },
  {
   "cell_type": "code",
   "execution_count": 20,
   "id": "ee404d91",
   "metadata": {},
   "outputs": [
    {
     "data": {
      "text/html": [
       "<div>\n",
       "<style scoped>\n",
       "    .dataframe tbody tr th:only-of-type {\n",
       "        vertical-align: middle;\n",
       "    }\n",
       "\n",
       "    .dataframe tbody tr th {\n",
       "        vertical-align: top;\n",
       "    }\n",
       "\n",
       "    .dataframe thead th {\n",
       "        text-align: right;\n",
       "    }\n",
       "</style>\n",
       "<table border=\"1\" class=\"dataframe\">\n",
       "  <thead>\n",
       "    <tr style=\"text-align: right;\">\n",
       "      <th></th>\n",
       "      <th>Account</th>\n",
       "      <th>Name</th>\n",
       "      <th>Rep</th>\n",
       "      <th>Manager</th>\n",
       "      <th>Product</th>\n",
       "      <th>Quantity</th>\n",
       "      <th>Price</th>\n",
       "      <th>Status</th>\n",
       "    </tr>\n",
       "  </thead>\n",
       "  <tbody>\n",
       "    <tr>\n",
       "      <th>0</th>\n",
       "      <td>714466</td>\n",
       "      <td>Trantow-Barrows</td>\n",
       "      <td>Craig Booker</td>\n",
       "      <td>Debra Henley</td>\n",
       "      <td>CPU</td>\n",
       "      <td>1</td>\n",
       "      <td>30000</td>\n",
       "      <td>presented</td>\n",
       "    </tr>\n",
       "    <tr>\n",
       "      <th>1</th>\n",
       "      <td>714466</td>\n",
       "      <td>Trantow-Barrows</td>\n",
       "      <td>Craig Booker</td>\n",
       "      <td>Debra Henley</td>\n",
       "      <td>Software</td>\n",
       "      <td>1</td>\n",
       "      <td>10000</td>\n",
       "      <td>presented</td>\n",
       "    </tr>\n",
       "    <tr>\n",
       "      <th>2</th>\n",
       "      <td>714466</td>\n",
       "      <td>Trantow-Barrows</td>\n",
       "      <td>Craig Booker</td>\n",
       "      <td>Debra Henley</td>\n",
       "      <td>Maintenance</td>\n",
       "      <td>2</td>\n",
       "      <td>5000</td>\n",
       "      <td>pending</td>\n",
       "    </tr>\n",
       "    <tr>\n",
       "      <th>3</th>\n",
       "      <td>737550</td>\n",
       "      <td>Fritsch, Russel and Anderson</td>\n",
       "      <td>Craig Booker</td>\n",
       "      <td>Debra Henley</td>\n",
       "      <td>CPU</td>\n",
       "      <td>1</td>\n",
       "      <td>35000</td>\n",
       "      <td>declined</td>\n",
       "    </tr>\n",
       "    <tr>\n",
       "      <th>4</th>\n",
       "      <td>146832</td>\n",
       "      <td>Kiehn-Spinka</td>\n",
       "      <td>Daniel Hilton</td>\n",
       "      <td>Debra Henley</td>\n",
       "      <td>CPU</td>\n",
       "      <td>2</td>\n",
       "      <td>65000</td>\n",
       "      <td>won</td>\n",
       "    </tr>\n",
       "  </tbody>\n",
       "</table>\n",
       "</div>"
      ],
      "text/plain": [
       "   Account                          Name            Rep       Manager  \\\n",
       "0   714466               Trantow-Barrows   Craig Booker  Debra Henley   \n",
       "1   714466               Trantow-Barrows   Craig Booker  Debra Henley   \n",
       "2   714466               Trantow-Barrows   Craig Booker  Debra Henley   \n",
       "3   737550  Fritsch, Russel and Anderson   Craig Booker  Debra Henley   \n",
       "4   146832                  Kiehn-Spinka  Daniel Hilton  Debra Henley   \n",
       "\n",
       "       Product  Quantity  Price     Status  \n",
       "0          CPU         1  30000  presented  \n",
       "1     Software         1  10000  presented  \n",
       "2  Maintenance         2   5000    pending  \n",
       "3          CPU         1  35000   declined  \n",
       "4          CPU         2  65000        won  "
      ]
     },
     "execution_count": 20,
     "metadata": {},
     "output_type": "execute_result"
    }
   ],
   "source": [
    "path = \"C:/Users/NTX550/Documents/GitHub/T_ACADEMY_ASAC/Numpy/data/11_sales-funnel.xlsx\"\n",
    "data_excel = pd.read_excel(path, sheet_name=\"Sheet1\")\n",
    "data_excel.head()"
   ]
  },
  {
   "cell_type": "code",
   "execution_count": null,
   "id": "7d82efa1",
   "metadata": {},
   "outputs": [],
   "source": [
    "# 계속 버전업을 하면서\n",
    "# 엑셀의 구버전 xls는 되고, xlsx는 다른 xlsxwriter!!\n",
    "# 최근에는 구/신 모두 그냥 to_excel\n",
    "data_excel.to_excel(\"~~~/name.xlsx\")"
   ]
  },
  {
   "cell_type": "code",
   "execution_count": 27,
   "id": "89548d3b",
   "metadata": {},
   "outputs": [],
   "source": [
    "# 입력 : read_~~~\n",
    "# 출력 : 어떤 DF.to_~~~\n",
    "\n",
    "\n",
    "# 불러들이는 경우\n",
    "# case1) 파일 형태: read__~, to_~\n",
    "# case2) 데이터 주고 web"
   ]
  },
  {
   "cell_type": "code",
   "execution_count": 25,
   "id": "078722b8",
   "metadata": {},
   "outputs": [],
   "source": [
    "# JSON : 데이터를 주고 받는 용도로\n",
    "# ------> csv : 값하고, 그것들을 구별하는 구분자..\n",
    "# ------> json : 어떤 것은 뭐구요, 여러개가 있을 때는 뭐뭐뭐~~~\n",
    "#                파이썬의 리스트, dict와 모양이 유사\n",
    "#         파이썬을 이용하는 관점에서는 파이썬의 리스트, dict 바뀌..\n",
    "#         정수인덱스, 키값 등을 이용해서 편히 핸들링"
   ]
  },
  {
   "cell_type": "code",
   "execution_count": 26,
   "id": "3704480c",
   "metadata": {},
   "outputs": [],
   "source": [
    "import json"
   ]
  },
  {
   "cell_type": "code",
   "execution_count": 28,
   "id": "1729d1b8",
   "metadata": {},
   "outputs": [],
   "source": [
    "# json 데이터 샘플"
   ]
  },
  {
   "cell_type": "code",
   "execution_count": 29,
   "id": "181146e9",
   "metadata": {},
   "outputs": [
    {
     "data": {
      "text/plain": [
       "'{\\n    \"color\" : \"red\",\\n    \"value\" : \"$100\"\\n}\\n'"
      ]
     },
     "execution_count": 29,
     "metadata": {},
     "output_type": "execute_result"
    }
   ],
   "source": [
    "# json 데이터 양식\n",
    "json_data1 = \"\"\"{\n",
    "    \"color\" : \"red\",\n",
    "    \"value\" : \"$100\"\n",
    "}\n",
    "\"\"\"\n",
    "json_data1"
   ]
  },
  {
   "cell_type": "code",
   "execution_count": 31,
   "id": "83d75d33",
   "metadata": {},
   "outputs": [
    {
     "data": {
      "text/plain": [
       "{'color': 'red', 'value': '$100'}"
      ]
     },
     "execution_count": 31,
     "metadata": {},
     "output_type": "execute_result"
    }
   ],
   "source": [
    "result = json.loads(json_data1)\n",
    "result"
   ]
  },
  {
   "cell_type": "code",
   "execution_count": 32,
   "id": "2e30b25d",
   "metadata": {},
   "outputs": [
    {
     "data": {
      "text/plain": [
       "'red'"
      ]
     },
     "execution_count": 32,
     "metadata": {},
     "output_type": "execute_result"
    }
   ],
   "source": [
    "result[\"color\"]"
   ]
  },
  {
   "cell_type": "code",
   "execution_count": 33,
   "id": "926b9dd0",
   "metadata": {},
   "outputs": [
    {
     "data": {
      "text/plain": [
       "'$100'"
      ]
     },
     "execution_count": 33,
     "metadata": {},
     "output_type": "execute_result"
    }
   ],
   "source": [
    "result[\"value\"]"
   ]
  },
  {
   "cell_type": "code",
   "execution_count": 39,
   "id": "da638603",
   "metadata": {},
   "outputs": [],
   "source": [
    "# sample2\n",
    "json_data2 = \"\"\"{\n",
    "    \"id\" : \"0001\",\n",
    "    \"type\" : \"donut\",\n",
    "    \"name\" : \"Cake\",\n",
    "    \"ppu\" : 0.55,\n",
    "    \"groups\" : { \n",
    "        \"group\" : [ \n",
    "                    {\"id\":\"1001\", \"type\":\"Regular\"},\n",
    "                    {\"id\":\"1002\", \"type\":\"Choco\"},\n",
    "                    {\"id\":\"1003\", \"type\":\"Cream\"}\n",
    "                ]\n",
    "    },\n",
    "    \"topping\" : [\n",
    "        {\"id\":\"5001\", \"type\":\"None\"},\n",
    "        {\"id\":\"5002\", \"type\":\"Sugar\"},\n",
    "        {\"id\":\"5003\", \"type\":\"Choco\"}\n",
    "    ]\n",
    " \n",
    "}\n",
    "\"\"\""
   ]
  },
  {
   "cell_type": "code",
   "execution_count": 41,
   "id": "e5b59bfa",
   "metadata": {},
   "outputs": [
    {
     "data": {
      "text/plain": [
       "{'id': '0001',\n",
       " 'type': 'donut',\n",
       " 'name': 'Cake',\n",
       " 'ppu': 0.55,\n",
       " 'groups': {'group': [{'id': '1001', 'type': 'Regular'},\n",
       "   {'id': '1002', 'type': 'Choco'},\n",
       "   {'id': '1003', 'type': 'Cream'}]},\n",
       " 'topping': [{'id': '5001', 'type': 'None'},\n",
       "  {'id': '5002', 'type': 'Sugar'},\n",
       "  {'id': '5003', 'type': 'Choco'}]}"
      ]
     },
     "execution_count": 41,
     "metadata": {},
     "output_type": "execute_result"
    }
   ],
   "source": [
    "data = json.loads(json_data2)\n",
    "data"
   ]
  },
  {
   "cell_type": "code",
   "execution_count": 50,
   "id": "395157a6",
   "metadata": {},
   "outputs": [
    {
     "name": "stdout",
     "output_type": "stream",
     "text": [
      "<class 'str'> <class 'dict'>\n"
     ]
    }
   ],
   "source": [
    "# json 형식 데이터는 문자열\n",
    "# json 저장한 데이터는 dict\n",
    "print(type(json_data2), type(data))"
   ]
  },
  {
   "cell_type": "code",
   "execution_count": 51,
   "id": "0c4a29cc",
   "metadata": {},
   "outputs": [
    {
     "data": {
      "text/plain": [
       "dict_keys(['id', 'type', 'name', 'ppu', 'groups', 'topping'])"
      ]
     },
     "execution_count": 51,
     "metadata": {},
     "output_type": "execute_result"
    }
   ],
   "source": [
    "data.keys()\n",
    "# JSON: Depth별로 파악하는 것이 중요하다\n",
    "# ----> 한번에 가는 것이 아니라 Depth를 지나가면서 진행\n",
    "# ----> 탐색적으로 접근을 할 수 밖에 없다."
   ]
  },
  {
   "cell_type": "code",
   "execution_count": 55,
   "id": "0d0e0ef6",
   "metadata": {},
   "outputs": [
    {
     "data": {
      "text/plain": [
       "'0001'"
      ]
     },
     "execution_count": 55,
     "metadata": {},
     "output_type": "execute_result"
    }
   ],
   "source": [
    "# 받은 데이터의 id는 무엇?\n",
    "data['id']"
   ]
  },
  {
   "cell_type": "code",
   "execution_count": 56,
   "id": "5a956711",
   "metadata": {},
   "outputs": [
    {
     "data": {
      "text/plain": [
       "'Cake'"
      ]
     },
     "execution_count": 56,
     "metadata": {},
     "output_type": "execute_result"
    }
   ],
   "source": [
    "# 받은 데이터의 이름은 무엇?\n",
    "data['name']"
   ]
  },
  {
   "cell_type": "code",
   "execution_count": 72,
   "id": "350ae1cf",
   "metadata": {},
   "outputs": [
    {
     "data": {
      "text/plain": [
       "'5001'"
      ]
     },
     "execution_count": 72,
     "metadata": {},
     "output_type": "execute_result"
    }
   ],
   "source": [
    "# 받은 데이터의 topping 중에서 1번 토핑의 정보(id)는?\n",
    "data['topping'][0][\"id\"]"
   ]
  },
  {
   "cell_type": "code",
   "execution_count": 71,
   "id": "215e8520",
   "metadata": {},
   "outputs": [
    {
     "data": {
      "text/plain": [
       "'Choco'"
      ]
     },
     "execution_count": 71,
     "metadata": {},
     "output_type": "execute_result"
    }
   ],
   "source": [
    "# 받은 데이터 중에서 2번째 group의 type은?\n",
    "data['groups']['group'][1][\"type\"]"
   ]
  },
  {
   "cell_type": "code",
   "execution_count": null,
   "id": "35c733b3",
   "metadata": {},
   "outputs": [],
   "source": [
    "# 하실 일 : kobis api에서 개인별로 key 요청하고 발급받기\n",
    "# ----> 본인 key값으로\n",
    "# 영화목록 40개를 요청하는 주소 만들기\n",
    "# 11시 10분까지"
   ]
  },
  {
   "cell_type": "code",
   "execution_count": null,
   "id": "0ba45b54",
   "metadata": {},
   "outputs": [],
   "source": []
  }
 ],
 "metadata": {
  "kernelspec": {
   "display_name": "Python 3 (ipykernel)",
   "language": "python",
   "name": "python3"
  },
  "language_info": {
   "codemirror_mode": {
    "name": "ipython",
    "version": 3
   },
   "file_extension": ".py",
   "mimetype": "text/x-python",
   "name": "python",
   "nbconvert_exporter": "python",
   "pygments_lexer": "ipython3",
   "version": "3.9.12"
  }
 },
 "nbformat": 4,
 "nbformat_minor": 5
}
