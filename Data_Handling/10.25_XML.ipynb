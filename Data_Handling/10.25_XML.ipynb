{
 "cells": [
  {
   "cell_type": "code",
   "execution_count": 1,
   "id": "cf8acea4",
   "metadata": {},
   "outputs": [],
   "source": [
    "# api를 통해서 원하는 데이터를 받으려고 함\n",
    "# 양식 : XML"
   ]
  },
  {
   "cell_type": "code",
   "execution_count": 108,
   "id": "2119eca4",
   "metadata": {},
   "outputs": [],
   "source": [
    "# 필요한 패키지\n",
    "import pandas as pd\n",
    "# 통신 관련\n",
    "import urllib.request\n",
    "# xml, html tag 중심의 언어 처리...\n",
    "from bs4 import BeautifulSoup"
   ]
  },
  {
   "cell_type": "code",
   "execution_count": 125,
   "id": "272abd08",
   "metadata": {},
   "outputs": [
    {
     "data": {
      "text/plain": [
       "'http://www.kobis.or.kr/kobisopenapi/webservice/rest/movie/searchMovieList.xml?key=edef7c61e5650b860807260fc96f9504&itemPerPage40'"
      ]
     },
     "execution_count": 125,
     "metadata": {},
     "output_type": "execute_result"
    }
   ],
   "source": [
    "# 영화 목록 요청 url을 완성\n",
    "key = \"edef7c61e5650b860807260fc96f9504\"\n",
    "base_url = \"http://www.kobis.or.kr/kobisopenapi/webservice/rest/movie/searchMovieList.xml\"\n",
    "show_num = 40\n",
    "url = base_url + \"?key=\" + key + \"&itemPerPage\" + str(show_num)\n",
    "url"
   ]
  },
  {
   "cell_type": "code",
   "execution_count": 126,
   "id": "4ef69c16",
   "metadata": {
    "scrolled": true
   },
   "outputs": [
    {
     "name": "stdout",
     "output_type": "stream",
     "text": [
      "<?xml version=\"1.0\" encoding=\"utf-8\" standalone=\"yes\"?><movielistresult><totcnt>92585</totcnt><movielist><movie><moviecd>20210037</moviecd><movienm>존 덴버 죽이기</movienm><movienmen>John Denver Trending</movienmen><prdtyear>2019</prdtyear><opendt>20221123</opendt><typenm>장편</typenm><prdtstatnm>개봉예정</prdtstatnm><nationalt>필리핀</nationalt><genrealt>드라마</genrealt><repnationnm>필리핀</repnationnm><repgenrenm>드라마</repgenrenm><directors><director><peoplenm>아덴 로즈 콘데즈</peoplenm></director></directors><companys></companys></movie><movie><moviecd>20225237</moviecd><movienm>명탐정 코난: 할로윈의 신부</movienm><movienmen>Detective Conan: The Bride of Halloween</movienmen><prdtyear>2022</prdtyear><opendt>20220713</opendt><typenm>장편</typenm><prdtstatnm>개봉</prdtstatnm><nationalt>일본</nationalt><genrealt>애니메이션</genrealt><repnationnm>일본</repnationnm><repgenrenm>애니메이션</repgenrenm><directors><director><peoplenm>미츠나카 스스무</peoplenm></director></directors><companys></companys></movie><movie><moviecd>20228231</moviecd><movienm>관계의 일변</movienm><movienmen></movienmen><prdtyear>2022</prdtyear><opendt></opendt><typenm>장편</typenm><prdtstatnm>기타</prdtstatnm><nationalt>한국</nationalt><genrealt>드라마</genrealt><repnationnm>한국</repnationnm><repgenrenm>드라마</repgenrenm><directors></directors><companys><company><companycd>20154728</companycd><companynm>주식회사 씨엠닉스</companynm></company></companys></movie><movie><moviecd>20227797</moviecd><movienm>더 게임</movienm><movienmen>The Game</movienmen><prdtyear>2022</prdtyear><opendt></opendt><typenm>장편</typenm><prdtstatnm>개봉예정</prdtstatnm><nationalt>헝가리</nationalt><genrealt>드라마,스릴러</genrealt><repnationnm>헝가리</repnationnm><repgenrenm>드라마</repgenrenm><directors><director><peoplenm>페테르 퍼자카스</peoplenm></director></directors><companys></companys></movie><movie><moviecd>20227445</moviecd><movienm>원피스 필름 레드</movienm><movienmen>One Piece Film Red</movienmen><prdtyear>2022</prdtyear><opendt>20221130</opendt><typenm>장편</typenm><prdtstatnm>개봉예정</prdtstatnm><nationalt>일본</nationalt><genrealt>애니메이션</genrealt><repnationnm>일본</repnationnm><repgenrenm>애니메이션</repgenrenm><directors><director><peoplenm>타니구치 고로</peoplenm></director></directors><companys></companys></movie><movie><moviecd>20228028</moviecd><movienm>놈이 우리 안에 있다</movienm><movienmen>Werewolves Within</movienmen><prdtyear>2021</prdtyear><opendt>20221123</opendt><typenm>장편</typenm><prdtstatnm>개봉예정</prdtstatnm><nationalt>미국</nationalt><genrealt>미스터리,스릴러</genrealt><repnationnm>미국</repnationnm><repgenrenm>미스터리</repgenrenm><directors><director><peoplenm>조쉬 루벤</peoplenm></director></directors><companys></companys></movie><movie><moviecd>20198429</moviecd><movienm>자백</movienm><movienmen>Confession</movienmen><prdtyear>2020</prdtyear><opendt>20221026</opendt><typenm>장편</typenm><prdtstatnm>개봉예정</prdtstatnm><nationalt>한국</nationalt><genrealt>범죄,스릴러</genrealt><repnationnm>한국</repnationnm><repgenrenm>범죄</repgenrenm><directors><director><peoplenm>윤종석</peoplenm></director></directors><companys><company><companycd>20100540</companycd><companynm>리얼라이즈픽쳐스(주)</companynm></company></companys></movie><movie><moviecd>20227784</moviecd><movienm>내 친한 친구의 아침식사</movienm><movienmen>My Best Friend's Breakfast</movienmen><prdtyear>2022</prdtyear><opendt>20221110</opendt><typenm>장편</typenm><prdtstatnm>개봉예정</prdtstatnm><nationalt>대만</nationalt><genrealt>멜로/로맨스</genrealt><repnationnm>대만</repnationnm><repgenrenm>멜로/로맨스</repgenrenm><directors><director><peoplenm>두정철</peoplenm></director></directors><companys></companys></movie><movie><moviecd>20226585</moviecd><movienm>탑</movienm><movienmen>WALK UP</movienmen><prdtyear>2021</prdtyear><opendt></opendt><typenm>장편</typenm><prdtstatnm>개봉예정</prdtstatnm><nationalt>한국</nationalt><genrealt>드라마</genrealt><repnationnm>한국</repnationnm><repgenrenm>드라마</repgenrenm><directors><director><peoplenm>홍상수</peoplenm></director></directors><companys><company><companycd>20100332</companycd><companynm>(주)영화제작전원사 </companynm></company></companys></movie><movie><moviecd>20228230</moviecd><movienm>요정</movienm><movienmen></movienmen><prdtyear>2022</prdtyear><opendt></opendt><typenm>장편</typenm><prdtstatnm>기타</prdtstatnm><nationalt>한국</nationalt><genrealt>드라마</genrealt><repnationnm>한국</repnationnm><repgenrenm>드라마</repgenrenm><directors><director><peoplenm>신택수</peoplenm></director></directors><companys><company><companycd>20199901</companycd><companynm>한국예술종합학교 산학협력단</companynm></company></companys></movie></movielist><source/>영화진흥위원회</movielistresult>\n"
     ]
    }
   ],
   "source": [
    "# 이 영화 목록 요청하는 주소를 직접 api에 요청하자.. urllib\n",
    "res = urllib.request.urlopen(url)\n",
    "# xml 을 보다 쉽게 찾거나 접근하기 위한 패키지 : beautifulsoup\n",
    "soup = BeautifulSoup(res, \"html.parser\")\n",
    "print(soup)"
   ]
  },
  {
   "cell_type": "code",
   "execution_count": 9,
   "id": "299e2e84",
   "metadata": {
    "scrolled": true
   },
   "outputs": [
    {
     "name": "stdout",
     "output_type": "stream",
     "text": [
      "<?xml version=\"1.0\" encoding=\"utf-8\" standalone=\"yes\"?>\n",
      "<movielistresult>\n",
      " <totcnt>\n",
      "  92583\n",
      " </totcnt>\n",
      " <movielist>\n",
      "  <movie>\n",
      "   <moviecd>\n",
      "    20217624\n",
      "   </moviecd>\n",
      "   <movienm>\n",
      "    컴백홈\n",
      "   </movienm>\n",
      "   <movienmen>\n",
      "    Come Back Home\n",
      "   </movienmen>\n",
      "   <prdtyear>\n",
      "    2022\n",
      "   </prdtyear>\n",
      "   <opendt>\n",
      "    20221005\n",
      "   </opendt>\n",
      "   <typenm>\n",
      "    장편\n",
      "   </typenm>\n",
      "   <prdtstatnm>\n",
      "    개봉\n",
      "   </prdtstatnm>\n",
      "   <nationalt>\n",
      "    한국\n",
      "   </nationalt>\n",
      "   <genrealt>\n",
      "    드라마,코미디\n",
      "   </genrealt>\n",
      "   <repnationnm>\n",
      "    한국\n",
      "   </repnationnm>\n",
      "   <repgenrenm>\n",
      "    드라마\n",
      "   </repgenrenm>\n",
      "   <directors>\n",
      "    <director>\n",
      "     <peoplenm>\n",
      "      이연우\n",
      "     </peoplenm>\n",
      "    </director>\n",
      "   </directors>\n",
      "   <companys>\n",
      "    <company>\n",
      "     <companycd>\n",
      "      20205261\n",
      "     </companycd>\n",
      "     <companynm>\n",
      "      (주)슬기로운늑대\n",
      "     </companynm>\n",
      "    </company>\n",
      "    <company>\n",
      "     <companycd>\n",
      "      20142369\n",
      "     </companycd>\n",
      "     <companynm>\n",
      "      (유)조이앤시네마\n",
      "     </companynm>\n",
      "    </company>\n",
      "   </companys>\n",
      "  </movie>\n",
      "  <movie>\n",
      "   <moviecd>\n",
      "    20211566\n",
      "   </moviecd>\n",
      "   <movienm>\n",
      "    낮과 달\n",
      "   </movienm>\n",
      "   <movienmen>\n",
      "    The Cave\n",
      "   </movienmen>\n",
      "   <prdtyear>\n",
      "    2021\n",
      "   </prdtyear>\n",
      "   <opendt>\n",
      "    20221020\n",
      "   </opendt>\n",
      "   <typenm>\n",
      "    장편\n",
      "   </typenm>\n",
      "   <prdtstatnm>\n",
      "    개봉\n",
      "   </prdtstatnm>\n",
      "   <nationalt>\n",
      "    한국\n",
      "   </nationalt>\n",
      "   <genrealt>\n",
      "    드라마\n",
      "   </genrealt>\n",
      "   <repnationnm>\n",
      "    한국\n",
      "   </repnationnm>\n",
      "   <repgenrenm>\n",
      "    드라마\n",
      "   </repgenrenm>\n",
      "   <directors>\n",
      "    <director>\n",
      "     <peoplenm>\n",
      "      이영아\n",
      "     </peoplenm>\n",
      "    </director>\n",
      "   </directors>\n",
      "   <companys>\n",
      "    <company>\n",
      "     <companycd>\n",
      "      20100572\n",
      "     </companycd>\n",
      "     <companynm>\n",
      "      한국영화아카데미\n",
      "     </companynm>\n",
      "    </company>\n",
      "   </companys>\n",
      "  </movie>\n",
      "  <movie>\n",
      "   <moviecd>\n",
      "    20223740\n",
      "   </moviecd>\n",
      "   <movienm>\n",
      "    크리스마스 캐럴\n",
      "   </movienm>\n",
      "   <movienmen>\n",
      "    christmas carol\n",
      "   </movienmen>\n",
      "   <prdtyear>\n",
      "    2022\n",
      "   </prdtyear>\n",
      "   <opendt>\n",
      "   </opendt>\n",
      "   <typenm>\n",
      "    장편\n",
      "   </typenm>\n",
      "   <prdtstatnm>\n",
      "    개봉준비\n",
      "   </prdtstatnm>\n",
      "   <nationalt>\n",
      "    한국\n",
      "   </nationalt>\n",
      "   <genrealt>\n",
      "    드라마,액션\n",
      "   </genrealt>\n",
      "   <repnationnm>\n",
      "    한국\n",
      "   </repnationnm>\n",
      "   <repgenrenm>\n",
      "    드라마\n",
      "   </repgenrenm>\n",
      "   <directors>\n",
      "    <director>\n",
      "     <peoplenm>\n",
      "      김성수\n",
      "     </peoplenm>\n",
      "    </director>\n",
      "   </directors>\n",
      "   <companys>\n",
      "    <company>\n",
      "     <companycd>\n",
      "      20100851\n",
      "     </companycd>\n",
      "     <companynm>\n",
      "      (주)화인컷\n",
      "     </companynm>\n",
      "    </company>\n",
      "   </companys>\n",
      "  </movie>\n",
      "  <movie>\n",
      "   <moviecd>\n",
      "    20227751\n",
      "   </moviecd>\n",
      "   <movienm>\n",
      "    가재가 노래하는 곳\n",
      "   </movienm>\n",
      "   <movienmen>\n",
      "    Where the Crawdads Sing\n",
      "   </movienmen>\n",
      "   <prdtyear>\n",
      "    2021\n",
      "   </prdtyear>\n",
      "   <opendt>\n",
      "    20221102\n",
      "   </opendt>\n",
      "   <typenm>\n",
      "    장편\n",
      "   </typenm>\n",
      "   <prdtstatnm>\n",
      "    개봉예정\n",
      "   </prdtstatnm>\n",
      "   <nationalt>\n",
      "    미국\n",
      "   </nationalt>\n",
      "   <genrealt>\n",
      "    드라마\n",
      "   </genrealt>\n",
      "   <repnationnm>\n",
      "    미국\n",
      "   </repnationnm>\n",
      "   <repgenrenm>\n",
      "    드라마\n",
      "   </repgenrenm>\n",
      "   <directors>\n",
      "    <director>\n",
      "     <peoplenm>\n",
      "      올리비아 뉴먼\n",
      "     </peoplenm>\n",
      "    </director>\n",
      "   </directors>\n",
      "   <companys>\n",
      "   </companys>\n",
      "  </movie>\n",
      "  <movie>\n",
      "   <moviecd>\n",
      "    20192206\n",
      "   </moviecd>\n",
      "   <movienm>\n",
      "    백두산\n",
      "   </movienm>\n",
      "   <movienmen>\n",
      "    ASHFALL\n",
      "   </movienmen>\n",
      "   <prdtyear>\n",
      "    2019\n",
      "   </prdtyear>\n",
      "   <opendt>\n",
      "    20191219\n",
      "   </opendt>\n",
      "   <typenm>\n",
      "    장편\n",
      "   </typenm>\n",
      "   <prdtstatnm>\n",
      "    개봉\n",
      "   </prdtstatnm>\n",
      "   <nationalt>\n",
      "    한국\n",
      "   </nationalt>\n",
      "   <genrealt>\n",
      "    어드벤처,드라마\n",
      "   </genrealt>\n",
      "   <repnationnm>\n",
      "    한국\n",
      "   </repnationnm>\n",
      "   <repgenrenm>\n",
      "    어드벤처\n",
      "   </repgenrenm>\n",
      "   <directors>\n",
      "    <director>\n",
      "     <peoplenm>\n",
      "      이해준\n",
      "     </peoplenm>\n",
      "    </director>\n",
      "    <director>\n",
      "     <peoplenm>\n",
      "      김병서\n",
      "     </peoplenm>\n",
      "    </director>\n",
      "   </directors>\n",
      "   <companys>\n",
      "    <company>\n",
      "     <companycd>\n",
      "      20192641\n",
      "     </companycd>\n",
      "     <companynm>\n",
      "      주식회사 덱스터 픽쳐스\n",
      "     </companynm>\n",
      "    </company>\n",
      "    <company>\n",
      "     <companycd>\n",
      "      20140593\n",
      "     </companycd>\n",
      "     <companynm>\n",
      "      (주)퍼펙트스톰필름\n",
      "     </companynm>\n",
      "    </company>\n",
      "    <company>\n",
      "     <companycd>\n",
      "      20110854\n",
      "     </companycd>\n",
      "     <companynm>\n",
      "      (주)씨제이이엔엠\n",
      "     </companynm>\n",
      "    </company>\n",
      "   </companys>\n",
      "  </movie>\n",
      "  <movie>\n",
      "   <moviecd>\n",
      "    20227756\n",
      "   </moviecd>\n",
      "   <movienm>\n",
      "    킹덤2: 아득한 대지로\n",
      "   </movienm>\n",
      "   <movienmen>\n",
      "    Kingdom2\n",
      "   </movienmen>\n",
      "   <prdtyear>\n",
      "    2022\n",
      "   </prdtyear>\n",
      "   <opendt>\n",
      "    20221116\n",
      "   </opendt>\n",
      "   <typenm>\n",
      "    장편\n",
      "   </typenm>\n",
      "   <prdtstatnm>\n",
      "    개봉예정\n",
      "   </prdtstatnm>\n",
      "   <nationalt>\n",
      "    미국\n",
      "   </nationalt>\n",
      "   <genrealt>\n",
      "    액션,전쟁\n",
      "   </genrealt>\n",
      "   <repnationnm>\n",
      "    미국\n",
      "   </repnationnm>\n",
      "   <repgenrenm>\n",
      "    액션\n",
      "   </repgenrenm>\n",
      "   <directors>\n",
      "    <director>\n",
      "     <peoplenm>\n",
      "      사토 신스케\n",
      "     </peoplenm>\n",
      "    </director>\n",
      "   </directors>\n",
      "   <companys>\n",
      "   </companys>\n",
      "  </movie>\n",
      "  <movie>\n",
      "   <moviecd>\n",
      "    20227728\n",
      "   </moviecd>\n",
      "   <movienm>\n",
      "    극장판 유루캠△\n",
      "   </movienm>\n",
      "   <movienmen>\n",
      "    LAID-BACK CAMP THE MOVIE\n",
      "   </movienmen>\n",
      "   <prdtyear>\n",
      "    2022\n",
      "   </prdtyear>\n",
      "   <opendt>\n",
      "   </opendt>\n",
      "   <typenm>\n",
      "    장편\n",
      "   </typenm>\n",
      "   <prdtstatnm>\n",
      "    개봉예정\n",
      "   </prdtstatnm>\n",
      "   <nationalt>\n",
      "    일본\n",
      "   </nationalt>\n",
      "   <genrealt>\n",
      "    애니메이션,드라마\n",
      "   </genrealt>\n",
      "   <repnationnm>\n",
      "    일본\n",
      "   </repnationnm>\n",
      "   <repgenrenm>\n",
      "    애니메이션\n",
      "   </repgenrenm>\n",
      "   <directors>\n",
      "   </directors>\n",
      "   <companys>\n",
      "   </companys>\n",
      "  </movie>\n",
      "  <movie>\n",
      "   <moviecd>\n",
      "    20211242\n",
      "   </moviecd>\n",
      "   <movienm>\n",
      "    고속도로 가족\n",
      "   </movienm>\n",
      "   <movienmen>\n",
      "    Highway Family\n",
      "   </movienmen>\n",
      "   <prdtyear>\n",
      "    2022\n",
      "   </prdtyear>\n",
      "   <opendt>\n",
      "    20221102\n",
      "   </opendt>\n",
      "   <typenm>\n",
      "    장편\n",
      "   </typenm>\n",
      "   <prdtstatnm>\n",
      "    개봉예정\n",
      "   </prdtstatnm>\n",
      "   <nationalt>\n",
      "    한국\n",
      "   </nationalt>\n",
      "   <genrealt>\n",
      "    드라마\n",
      "   </genrealt>\n",
      "   <repnationnm>\n",
      "    한국\n",
      "   </repnationnm>\n",
      "   <repgenrenm>\n",
      "    드라마\n",
      "   </repgenrenm>\n",
      "   <directors>\n",
      "    <director>\n",
      "     <peoplenm>\n",
      "      이상문\n",
      "     </peoplenm>\n",
      "    </director>\n",
      "   </directors>\n",
      "   <companys>\n",
      "    <company>\n",
      "     <companycd>\n",
      "      20203424\n",
      "     </companycd>\n",
      "     <companynm>\n",
      "      (주)영화사 설렘\n",
      "     </companynm>\n",
      "    </company>\n",
      "    <company>\n",
      "     <companycd>\n",
      "      20217743\n",
      "     </companycd>\n",
      "     <companynm>\n",
      "      (주)고고스튜디오\n",
      "     </companynm>\n",
      "    </company>\n",
      "   </companys>\n",
      "  </movie>\n",
      "  <movie>\n",
      "   <moviecd>\n",
      "    20228105\n",
      "   </moviecd>\n",
      "   <movienm>\n",
      "    프레스 플레이\n",
      "   </movienm>\n",
      "   <movienmen>\n",
      "    Press Play\n",
      "   </movienmen>\n",
      "   <prdtyear>\n",
      "    2021\n",
      "   </prdtyear>\n",
      "   <opendt>\n",
      "    20221025\n",
      "   </opendt>\n",
      "   <typenm>\n",
      "    장편\n",
      "   </typenm>\n",
      "   <prdtstatnm>\n",
      "    개봉\n",
      "   </prdtstatnm>\n",
      "   <nationalt>\n",
      "    미국\n",
      "   </nationalt>\n",
      "   <genrealt>\n",
      "    멜로/로맨스,드라마,판타지\n",
      "   </genrealt>\n",
      "   <repnationnm>\n",
      "    미국\n",
      "   </repnationnm>\n",
      "   <repgenrenm>\n",
      "    멜로/로맨스\n",
      "   </repgenrenm>\n",
      "   <directors>\n",
      "    <director>\n",
      "     <peoplenm>\n",
      "      그렉 비요크만\n",
      "     </peoplenm>\n",
      "    </director>\n",
      "   </directors>\n",
      "   <companys>\n",
      "    <company>\n",
      "     <companycd>\n",
      "      20110854\n",
      "     </companycd>\n",
      "     <companynm>\n",
      "      (주)씨제이이엔엠\n",
      "     </companynm>\n",
      "    </company>\n",
      "   </companys>\n",
      "  </movie>\n",
      "  <movie>\n",
      "   <moviecd>\n",
      "    20228062\n",
      "   </moviecd>\n",
      "   <movienm>\n",
      "    살인청부업자\n",
      "   </movienm>\n",
      "   <movienmen>\n",
      "    HIT MAN\n",
      "   </movienmen>\n",
      "   <prdtyear>\n",
      "    2022\n",
      "   </prdtyear>\n",
      "   <opendt>\n",
      "   </opendt>\n",
      "   <typenm>\n",
      "    장편\n",
      "   </typenm>\n",
      "   <prdtstatnm>\n",
      "    개봉예정\n",
      "   </prdtstatnm>\n",
      "   <nationalt>\n",
      "    한국\n",
      "   </nationalt>\n",
      "   <genrealt>\n",
      "    범죄,스릴러\n",
      "   </genrealt>\n",
      "   <repnationnm>\n",
      "    한국\n",
      "   </repnationnm>\n",
      "   <repgenrenm>\n",
      "    범죄\n",
      "   </repgenrenm>\n",
      "   <directors>\n",
      "    <director>\n",
      "     <peoplenm>\n",
      "      강태호\n",
      "     </peoplenm>\n",
      "    </director>\n",
      "   </directors>\n",
      "   <companys>\n",
      "    <company>\n",
      "     <companycd>\n",
      "      20063058\n",
      "     </companycd>\n",
      "     <companynm>\n",
      "      (주)피터팬픽쳐스\n",
      "     </companynm>\n",
      "    </company>\n",
      "   </companys>\n",
      "  </movie>\n",
      " </movielist>\n",
      " <source/>\n",
      " 영화진흥위원회\n",
      "</movielistresult>\n"
     ]
    }
   ],
   "source": [
    "print(soup.prettify())\n",
    "# 전부 소문자로 converting된다!!!!\n",
    "# 치명적인 단점"
   ]
  },
  {
   "cell_type": "code",
   "execution_count": null,
   "id": "14b66c30",
   "metadata": {},
   "outputs": [],
   "source": [
    "# 내가 원하는 정보가 어느 태그로 있는지 파악\n",
    "# 찾는 것도 tag중심으로 찾게 됩니다\n",
    "# 1) find; 전체 태그들 중에서 내가 찾고자 하는 태그하고 매칭 중 처음 -> 값!\n",
    "# 2) find_all : 해당하는 태그들을 싹 다 찾아서 --> 리스트"
   ]
  },
  {
   "cell_type": "code",
   "execution_count": 34,
   "id": "f710248f",
   "metadata": {},
   "outputs": [
    {
     "data": {
      "text/plain": [
       "<movie><moviecd>20227913</moviecd><movienm>루팡의 딸 극장판</movienm><movienmen>Daughter of Lupin The Movie</movienmen><prdtyear>2021</prdtyear><opendt></opendt><typenm>장편</typenm><prdtstatnm>개봉예정</prdtstatnm><nationalt>일본</nationalt><genrealt>판타지,액션</genrealt><repnationnm>일본</repnationnm><repgenrenm>판타지</repgenrenm><directors><director><peoplenm>타케우치 히데키</peoplenm></director></directors><companys></companys></movie>"
      ]
     },
     "execution_count": 34,
     "metadata": {},
     "output_type": "execute_result"
    }
   ],
   "source": [
    "soup.find('movie')"
   ]
  },
  {
   "cell_type": "code",
   "execution_count": 51,
   "id": "cde8f1d6",
   "metadata": {},
   "outputs": [
    {
     "data": {
      "text/plain": [
       "<movie><moviecd>20212665</moviecd><movienm>심야카페: 미씽 허니</movienm><movienmen>Cafe Midnight</movienmen><prdtyear>2021</prdtyear><opendt></opendt><typenm>장편</typenm><prdtstatnm>개봉예정</prdtstatnm><nationalt>한국</nationalt><genrealt>멜로/로맨스,판타지</genrealt><repnationnm>한국</repnationnm><repgenrenm>멜로/로맨스</repgenrenm><directors><director><peoplenm>정윤수</peoplenm></director></directors><companys><company><companycd>20168628</companycd><companynm>(주)케이드래곤</companynm></company></companys></movie>"
      ]
     },
     "execution_count": 51,
     "metadata": {},
     "output_type": "execute_result"
    }
   ],
   "source": [
    "soup.find_all(\"movie\")[1]"
   ]
  },
  {
   "cell_type": "code",
   "execution_count": null,
   "id": "25ab8c48",
   "metadata": {},
   "outputs": [],
   "source": [
    "#  처음 영화의 코드값을 확인하자"
   ]
  },
  {
   "cell_type": "code",
   "execution_count": 36,
   "id": "b410a691",
   "metadata": {},
   "outputs": [
    {
     "data": {
      "text/plain": [
       "<movie><moviecd>20227913</moviecd><movienm>루팡의 딸 극장판</movienm><movienmen>Daughter of Lupin The Movie</movienmen><prdtyear>2021</prdtyear><opendt></opendt><typenm>장편</typenm><prdtstatnm>개봉예정</prdtstatnm><nationalt>일본</nationalt><genrealt>판타지,액션</genrealt><repnationnm>일본</repnationnm><repgenrenm>판타지</repgenrenm><directors><director><peoplenm>타케우치 히데키</peoplenm></director></directors><companys></companys></movie>"
      ]
     },
     "execution_count": 36,
     "metadata": {},
     "output_type": "execute_result"
    }
   ],
   "source": [
    "# 1) 순차적으로 접근\n",
    "soup.find_all(\"movie\")[0]"
   ]
  },
  {
   "cell_type": "code",
   "execution_count": 37,
   "id": "c0f8220a",
   "metadata": {},
   "outputs": [
    {
     "data": {
      "text/plain": [
       "<moviecd>20227913</moviecd>"
      ]
     },
     "execution_count": 37,
     "metadata": {},
     "output_type": "execute_result"
    }
   ],
   "source": [
    "soup.find_all('movie')[0].find(\"moviecd\")"
   ]
  },
  {
   "cell_type": "code",
   "execution_count": 38,
   "id": "834a2ef6",
   "metadata": {},
   "outputs": [
    {
     "data": {
      "text/plain": [
       "<moviecd>20227913</moviecd>"
      ]
     },
     "execution_count": 38,
     "metadata": {},
     "output_type": "execute_result"
    }
   ],
   "source": [
    "soup.find_all('movie')[0].find_all(\"moviecd\")[0]"
   ]
  },
  {
   "cell_type": "code",
   "execution_count": 39,
   "id": "27e77016",
   "metadata": {},
   "outputs": [
    {
     "data": {
      "text/plain": [
       "'20227913'"
      ]
     },
     "execution_count": 39,
     "metadata": {},
     "output_type": "execute_result"
    }
   ],
   "source": [
    "soup.find_all(\"movie\")[0].find(\"moviecd\").text"
   ]
  },
  {
   "cell_type": "code",
   "execution_count": 40,
   "id": "056ab9a0",
   "metadata": {},
   "outputs": [
    {
     "data": {
      "text/plain": [
       "'20227913'"
      ]
     },
     "execution_count": 40,
     "metadata": {},
     "output_type": "execute_result"
    }
   ],
   "source": [
    "soup.find_all(\"movie\")[0].find(\"moviecd\").get_text()"
   ]
  },
  {
   "cell_type": "code",
   "execution_count": 41,
   "id": "824c3bc4",
   "metadata": {},
   "outputs": [
    {
     "data": {
      "text/plain": [
       "[<peoplenm>타케우치 히데키</peoplenm>,\n",
       " <peoplenm>정윤수</peoplenm>,\n",
       " <peoplenm>박세암</peoplenm>,\n",
       " <peoplenm>허정재</peoplenm>,\n",
       " <peoplenm>박강</peoplenm>,\n",
       " <peoplenm>이연우</peoplenm>,\n",
       " <peoplenm>이영아</peoplenm>,\n",
       " <peoplenm>김성수</peoplenm>]"
      ]
     },
     "execution_count": 41,
     "metadata": {},
     "output_type": "execute_result"
    }
   ],
   "source": [
    "soup.find_all('peoplenm')"
   ]
  },
  {
   "cell_type": "code",
   "execution_count": 72,
   "id": "55cd3ae1",
   "metadata": {},
   "outputs": [
    {
     "data": {
      "text/plain": [
       "<peoplenm>박세암</peoplenm>"
      ]
     },
     "execution_count": 72,
     "metadata": {},
     "output_type": "execute_result"
    }
   ],
   "source": [
    "soup.find_all(\"movie\")[3].find(\"peoplenm\")"
   ]
  },
  {
   "cell_type": "code",
   "execution_count": null,
   "id": "79329816",
   "metadata": {},
   "outputs": [],
   "source": [
    "# 일단 처음 영화에 대해서\n",
    "# 코드값, 제목, 영문제목, 개봉날짜, 감독 있으면 1번 감독이름\n",
    "\n",
    "# *** 내가 수집할 데이터의 레벨이 영화단위이니 -> 영화별로\n",
    "#     정보를 추린 후에 상세적인 정보 추출\n",
    "\n",
    "# 5번째 영화에 대해서도\n",
    "# 코드값, 제목, 영문제목, 개봉날짜, 감독 있으면 1번 감독이름"
   ]
  },
  {
   "cell_type": "code",
   "execution_count": 62,
   "id": "f81e4b69",
   "metadata": {},
   "outputs": [
    {
     "name": "stdout",
     "output_type": "stream",
     "text": [
      "20223740\n",
      "크리스마스 캐럴\n",
      "christmas carol\n",
      "\n",
      "김성수\n"
     ]
    }
   ],
   "source": [
    "idx = 9\n",
    "i_movie = soup.find_all(\"movie\")[idx] # idx 번째 영화 정보.\n",
    "print(i_movie.find(\"moviecd\").text)\n",
    "print(i_movie.find(\"movienm\").text)\n",
    "print(i_movie.find(\"movienmen\").text)\n",
    "print(i_movie.find(\"opendt\").text)\n",
    "if i_movie.find_all(\"peoplenm\") !=[]:\n",
    "    print(i_movie.find(\"peoplenm\").text)\n",
    "else:\n",
    "    print(\"감독테그 없음!!!\")"
   ]
  },
  {
   "cell_type": "code",
   "execution_count": 60,
   "id": "d882b707",
   "metadata": {},
   "outputs": [
    {
     "data": {
      "text/plain": [
       "10"
      ]
     },
     "execution_count": 60,
     "metadata": {},
     "output_type": "execute_result"
    }
   ],
   "source": [
    "len(soup.find_all(\"movie\"))"
   ]
  },
  {
   "cell_type": "code",
   "execution_count": 59,
   "id": "1292c25d",
   "metadata": {
    "scrolled": true
   },
   "outputs": [
    {
     "name": "stdout",
     "output_type": "stream",
     "text": [
      "20227913\n",
      "루팡의 딸 극장판\n",
      "Daughter of Lupin The Movie\n",
      "\n",
      "타케우치 히데키\n",
      "-------------------------------\n",
      "20212665\n",
      "심야카페: 미씽 허니\n",
      "Cafe Midnight\n",
      "\n",
      "정윤수\n",
      "-------------------------------\n",
      "20226869\n",
      "양성인간\n",
      "Born to Be Human\n",
      "\n",
      "감독테그 없음!!!\n",
      "-------------------------------\n",
      "20228110\n",
      "마음 속에 남는 사람\n",
      "A heartful person\n",
      "\n",
      "박세암\n",
      "-------------------------------\n",
      "20227925\n",
      "몬스터 신부: 101번째 프로포즈\n",
      "How to Save the Immortal\n",
      "\n",
      "감독테그 없음!!!\n",
      "-------------------------------\n",
      "20217126\n",
      "첫번째 아이\n",
      "First Child\n",
      "20221110\n",
      "허정재\n",
      "-------------------------------\n",
      "20225314\n",
      "세이레\n",
      "Seire\n",
      "\n",
      "박강\n",
      "-------------------------------\n",
      "20217624\n",
      "컴백홈\n",
      "Come Back Home\n",
      "20221005\n",
      "이연우\n",
      "-------------------------------\n",
      "20211566\n",
      "낮과 달\n",
      "The Cave\n",
      "20221020\n",
      "이영아\n",
      "-------------------------------\n",
      "20223740\n",
      "크리스마스 캐럴\n",
      "christmas carol\n",
      "\n",
      "김성수\n",
      "-------------------------------\n"
     ]
    }
   ],
   "source": [
    "tot_cnt = len(soup.find_all(\"movie\"))\n",
    "for i in range(tot_cnt):\n",
    "    idx = i\n",
    "    i_movie = soup.find_all(\"movie\")[idx] # idx 번째 영화 정보.\n",
    "    print(i_movie.find(\"moviecd\").text)\n",
    "    print(i_movie.find(\"movienm\").text)\n",
    "    print(i_movie.find(\"movienmen\").text)\n",
    "    print(i_movie.find(\"opendt\").text)\n",
    "    if i_movie.find_all(\"peoplenm\") !=[]:\n",
    "        print(i_movie.find(\"peoplenm\").text)\n",
    "    else:\n",
    "        print(\"감독테그 없음!!!\")\n",
    "    print(\"-------------------------------\")"
   ]
  },
  {
   "cell_type": "markdown",
   "id": "74faf545",
   "metadata": {},
   "source": [
    "# 시작"
   ]
  },
  {
   "cell_type": "code",
   "execution_count": 120,
   "id": "8158b2b4",
   "metadata": {},
   "outputs": [],
   "source": [
    "import pandas as pd\n",
    "import urllib.request\n",
    "from bs4 import BeautifulSoup"
   ]
  },
  {
   "cell_type": "code",
   "execution_count": 75,
   "id": "29075511",
   "metadata": {},
   "outputs": [],
   "source": [
    "# 영화목록 DF 만들고, year/month/day\n",
    "# movieCd 컬럼 가로 인덱스로\n",
    "# 상세 영화정보 요청해서\n",
    "# 장르, 배우수, 1번 배우 이름, 배역"
   ]
  },
  {
   "cell_type": "code",
   "execution_count": 127,
   "id": "58556bae",
   "metadata": {},
   "outputs": [
    {
     "data": {
      "text/plain": [
       "'http://www.kobis.or.kr/kobisopenapi/webservice/rest/movie/searchMovieList.xml?key=edef7c61e5650b860807260fc96f9504&itemPerPage40'"
      ]
     },
     "execution_count": 127,
     "metadata": {},
     "output_type": "execute_result"
    }
   ],
   "source": [
    "# 영화 목록 요청 url을 완성\n",
    "key = \"edef7c61e5650b860807260fc96f9504\"\n",
    "base_url = \"http://www.kobis.or.kr/kobisopenapi/webservice/rest/movie/searchMovieList.xml\"\n",
    "show_num = 40\n",
    "url = base_url + \"?key=\" + key + \"&itemPerPage\" + str(show_num)\n",
    "url"
   ]
  },
  {
   "cell_type": "code",
   "execution_count": 128,
   "id": "7225c9f6",
   "metadata": {
    "collapsed": true
   },
   "outputs": [
    {
     "name": "stdout",
     "output_type": "stream",
     "text": [
      "<?xml version=\"1.0\" encoding=\"utf-8\" standalone=\"yes\"?><movielistresult><totcnt>92585</totcnt><movielist><movie><moviecd>20210037</moviecd><movienm>존 덴버 죽이기</movienm><movienmen>John Denver Trending</movienmen><prdtyear>2019</prdtyear><opendt>20221123</opendt><typenm>장편</typenm><prdtstatnm>개봉예정</prdtstatnm><nationalt>필리핀</nationalt><genrealt>드라마</genrealt><repnationnm>필리핀</repnationnm><repgenrenm>드라마</repgenrenm><directors><director><peoplenm>아덴 로즈 콘데즈</peoplenm></director></directors><companys></companys></movie><movie><moviecd>20225237</moviecd><movienm>명탐정 코난: 할로윈의 신부</movienm><movienmen>Detective Conan: The Bride of Halloween</movienmen><prdtyear>2022</prdtyear><opendt>20220713</opendt><typenm>장편</typenm><prdtstatnm>개봉</prdtstatnm><nationalt>일본</nationalt><genrealt>애니메이션</genrealt><repnationnm>일본</repnationnm><repgenrenm>애니메이션</repgenrenm><directors><director><peoplenm>미츠나카 스스무</peoplenm></director></directors><companys></companys></movie><movie><moviecd>20228231</moviecd><movienm>관계의 일변</movienm><movienmen></movienmen><prdtyear>2022</prdtyear><opendt></opendt><typenm>장편</typenm><prdtstatnm>기타</prdtstatnm><nationalt>한국</nationalt><genrealt>드라마</genrealt><repnationnm>한국</repnationnm><repgenrenm>드라마</repgenrenm><directors></directors><companys><company><companycd>20154728</companycd><companynm>주식회사 씨엠닉스</companynm></company></companys></movie><movie><moviecd>20227797</moviecd><movienm>더 게임</movienm><movienmen>The Game</movienmen><prdtyear>2022</prdtyear><opendt></opendt><typenm>장편</typenm><prdtstatnm>개봉예정</prdtstatnm><nationalt>헝가리</nationalt><genrealt>드라마,스릴러</genrealt><repnationnm>헝가리</repnationnm><repgenrenm>드라마</repgenrenm><directors><director><peoplenm>페테르 퍼자카스</peoplenm></director></directors><companys></companys></movie><movie><moviecd>20227445</moviecd><movienm>원피스 필름 레드</movienm><movienmen>One Piece Film Red</movienmen><prdtyear>2022</prdtyear><opendt>20221130</opendt><typenm>장편</typenm><prdtstatnm>개봉예정</prdtstatnm><nationalt>일본</nationalt><genrealt>애니메이션</genrealt><repnationnm>일본</repnationnm><repgenrenm>애니메이션</repgenrenm><directors><director><peoplenm>타니구치 고로</peoplenm></director></directors><companys></companys></movie><movie><moviecd>20228028</moviecd><movienm>놈이 우리 안에 있다</movienm><movienmen>Werewolves Within</movienmen><prdtyear>2021</prdtyear><opendt>20221123</opendt><typenm>장편</typenm><prdtstatnm>개봉예정</prdtstatnm><nationalt>미국</nationalt><genrealt>미스터리,스릴러</genrealt><repnationnm>미국</repnationnm><repgenrenm>미스터리</repgenrenm><directors><director><peoplenm>조쉬 루벤</peoplenm></director></directors><companys></companys></movie><movie><moviecd>20198429</moviecd><movienm>자백</movienm><movienmen>Confession</movienmen><prdtyear>2020</prdtyear><opendt>20221026</opendt><typenm>장편</typenm><prdtstatnm>개봉예정</prdtstatnm><nationalt>한국</nationalt><genrealt>범죄,스릴러</genrealt><repnationnm>한국</repnationnm><repgenrenm>범죄</repgenrenm><directors><director><peoplenm>윤종석</peoplenm></director></directors><companys><company><companycd>20100540</companycd><companynm>리얼라이즈픽쳐스(주)</companynm></company></companys></movie><movie><moviecd>20227784</moviecd><movienm>내 친한 친구의 아침식사</movienm><movienmen>My Best Friend's Breakfast</movienmen><prdtyear>2022</prdtyear><opendt>20221110</opendt><typenm>장편</typenm><prdtstatnm>개봉예정</prdtstatnm><nationalt>대만</nationalt><genrealt>멜로/로맨스</genrealt><repnationnm>대만</repnationnm><repgenrenm>멜로/로맨스</repgenrenm><directors><director><peoplenm>두정철</peoplenm></director></directors><companys></companys></movie><movie><moviecd>20226585</moviecd><movienm>탑</movienm><movienmen>WALK UP</movienmen><prdtyear>2021</prdtyear><opendt></opendt><typenm>장편</typenm><prdtstatnm>개봉예정</prdtstatnm><nationalt>한국</nationalt><genrealt>드라마</genrealt><repnationnm>한국</repnationnm><repgenrenm>드라마</repgenrenm><directors><director><peoplenm>홍상수</peoplenm></director></directors><companys><company><companycd>20100332</companycd><companynm>(주)영화제작전원사 </companynm></company></companys></movie><movie><moviecd>20228230</moviecd><movienm>요정</movienm><movienmen></movienmen><prdtyear>2022</prdtyear><opendt></opendt><typenm>장편</typenm><prdtstatnm>기타</prdtstatnm><nationalt>한국</nationalt><genrealt>드라마</genrealt><repnationnm>한국</repnationnm><repgenrenm>드라마</repgenrenm><directors><director><peoplenm>신택수</peoplenm></director></directors><companys><company><companycd>20199901</companycd><companynm>한국예술종합학교 산학협력단</companynm></company></companys></movie></movielist><source/>영화진흥위원회</movielistresult>\n"
     ]
    }
   ],
   "source": [
    "# 이 영화 목록 요청하는 주소를 직접 api에 요청하자.. urllib\n",
    "res = urllib.request.urlopen(url)\n",
    "# xml 을 보다 쉽게 찾거나 접근하기 위한 패키지 : beautifulsoup\n",
    "soup = BeautifulSoup(res, \"html.parser\")\n",
    "print(soup)"
   ]
  },
  {
   "cell_type": "code",
   "execution_count": 92,
   "id": "75a175bb",
   "metadata": {},
   "outputs": [
    {
     "data": {
      "text/html": [
       "<div>\n",
       "<style scoped>\n",
       "    .dataframe tbody tr th:only-of-type {\n",
       "        vertical-align: middle;\n",
       "    }\n",
       "\n",
       "    .dataframe tbody tr th {\n",
       "        vertical-align: top;\n",
       "    }\n",
       "\n",
       "    .dataframe thead th {\n",
       "        text-align: right;\n",
       "    }\n",
       "</style>\n",
       "<table border=\"1\" class=\"dataframe\">\n",
       "  <thead>\n",
       "    <tr style=\"text-align: right;\">\n",
       "      <th></th>\n",
       "      <th>movieCd</th>\n",
       "      <th>movieTitle</th>\n",
       "      <th>movieETitle</th>\n",
       "      <th>openDay</th>\n",
       "      <th>DirName</th>\n",
       "      <th>movieType</th>\n",
       "    </tr>\n",
       "  </thead>\n",
       "  <tbody>\n",
       "    <tr>\n",
       "      <th>0</th>\n",
       "      <td></td>\n",
       "      <td></td>\n",
       "      <td></td>\n",
       "      <td></td>\n",
       "      <td></td>\n",
       "      <td></td>\n",
       "    </tr>\n",
       "  </tbody>\n",
       "</table>\n",
       "</div>"
      ],
      "text/plain": [
       "  movieCd movieTitle movieETitle openDay DirName movieType\n",
       "0                                                         "
      ]
     },
     "execution_count": 92,
     "metadata": {},
     "output_type": "execute_result"
    }
   ],
   "source": [
    "movie_df = pd.DataFrame()\n",
    "movie_df_temp = pd.DataFrame(\n",
    "    data = {\n",
    "    \"movieCd\" : \"\", \n",
    "    \"movieTitle\" : \"\", \n",
    "    \"movieETitle\" : \"\", \n",
    "    \"openDay\" : \"\", \n",
    "    \"DirName\" : \"\",\n",
    "    \"movieType\" : \"\"},\n",
    "    index=[\"i-data\"]\n",
    ")\n",
    "\n",
    "temp_code_id = movie_df_temp.columns.get_loc(\"movieCd\")\n",
    "temp_title_id = movie_df_temp.columns.get_loc(\"movieTitle\")\n",
    "temp_etitle_id = movie_df_temp.columns.get_loc(\"movieETitle\")\n",
    "temp_open_id = movie_df_temp.columns.get_loc(\"openDay\")\n",
    "temp_dir_id = movie_df_temp.columns.get_loc(\"DirName\")\n",
    "\n",
    "temp_type_id = movie_df_temp.columns.get_loc(\"movieType\")\n",
    "\n",
    "pd.concat([movie_df, movie_df_temp], ignore_index=True)"
   ]
  },
  {
   "cell_type": "code",
   "execution_count": 89,
   "id": "027ccc0f",
   "metadata": {},
   "outputs": [
    {
     "data": {
      "text/plain": [
       "40"
      ]
     },
     "execution_count": 89,
     "metadata": {},
     "output_type": "execute_result"
    }
   ],
   "source": [
    "tot_cnt = len(soup.find_all(\"movie\"))\n",
    "for i in range(tot_cnt):\n",
    "    idx = i\n",
    "    i_movie = soup.find_all(\"movie\")[idx] # idx 번째 영화 정보.\n",
    "    \n",
    "    movie_df_temp.iat[0,temp_code_id] = i_movie.find(\"moviecd\").text\n",
    "    movie_df_temp.iat[0,temp_title_id] = i_movie.find(\"movienm\").text\n",
    "    movie_df_temp.iat[0,temp_etitle_id] = i_movie.find(\"movienmen\").text\n",
    "    movie_df_temp.iat[0,temp_open_id] = i_movie.find(\"opendt\").text\n",
    "    movie_df_temp.iat[0,temp_type_id] = i_movie.find(\"typenm\").text\n",
    "    # 감독\n",
    "    if i_movie.find_all(\"peoplenm\") !=[]:\n",
    "        movie_df_temp.iat[0,temp_dir_id] = i_movie.find(\"peoplenm\").text\n",
    "    else:\n",
    "        movie_df_temp.iat[0,temp_dir_id] = \"\"\n",
    "    \n",
    "    movie_df = pd.concat([movie_df, movie_df_temp], ignore_index=True)\n",
    "    \n",
    "    for j in range(len(movie_df_temp.columns)):\n",
    "        "
   ]
  },
  {
   "cell_type": "code",
   "execution_count": null,
   "id": "d430f95b",
   "metadata": {},
   "outputs": [],
   "source": []
  }
 ],
 "metadata": {
  "kernelspec": {
   "display_name": "Python 3 (ipykernel)",
   "language": "python",
   "name": "python3"
  },
  "language_info": {
   "codemirror_mode": {
    "name": "ipython",
    "version": 3
   },
   "file_extension": ".py",
   "mimetype": "text/x-python",
   "name": "python",
   "nbconvert_exporter": "python",
   "pygments_lexer": "ipython3",
   "version": "3.9.12"
  }
 },
 "nbformat": 4,
 "nbformat_minor": 5
}
