{
 "cells": [
  {
   "cell_type": "code",
   "execution_count": 30,
   "id": "b6e06b8c",
   "metadata": {},
   "outputs": [],
   "source": [
    "import numpy as np\n",
    "import pandas as pd"
   ]
  },
  {
   "cell_type": "code",
   "execution_count": 3,
   "id": "01727fa1",
   "metadata": {},
   "outputs": [
    {
     "data": {
      "text/plain": [
       "[0, 100, 200, 300, 400, 500, 600, 700, 800, 900]"
      ]
     },
     "execution_count": 3,
     "metadata": {},
     "output_type": "execute_result"
    }
   ],
   "source": [
    "a = [i*100 for i in range(10)]\n",
    "a"
   ]
  },
  {
   "cell_type": "code",
   "execution_count": 4,
   "id": "c8e0ea68",
   "metadata": {},
   "outputs": [
    {
     "data": {
      "text/plain": [
       "array([  0, 100, 200, 300, 400, 500, 600, 700, 800, 900])"
      ]
     },
     "execution_count": 4,
     "metadata": {},
     "output_type": "execute_result"
    }
   ],
   "source": [
    "a_arr = np.array(a)\n",
    "a_arr"
   ]
  },
  {
   "cell_type": "code",
   "execution_count": 5,
   "id": "d34bb147",
   "metadata": {},
   "outputs": [
    {
     "data": {
      "text/plain": [
       "array([ 10, 110, 210, 310, 410, 510, 610, 710, 810, 910])"
      ]
     },
     "execution_count": 5,
     "metadata": {},
     "output_type": "execute_result"
    }
   ],
   "source": [
    "a_arr+10"
   ]
  },
  {
   "cell_type": "code",
   "execution_count": 8,
   "id": "394d8570",
   "metadata": {},
   "outputs": [],
   "source": [
    "# case 2)\n",
    "x = [1, 2, 3, 4, 5]\n",
    "y = [10, 20, 30, 40, 50]"
   ]
  },
  {
   "cell_type": "code",
   "execution_count": 9,
   "id": "0a02e77f",
   "metadata": {},
   "outputs": [],
   "source": [
    "test_arr = np.array(x)"
   ]
  },
  {
   "cell_type": "code",
   "execution_count": 10,
   "id": "734f5f33",
   "metadata": {},
   "outputs": [
    {
     "data": {
      "text/plain": [
       "dtype('int32')"
      ]
     },
     "execution_count": 10,
     "metadata": {},
     "output_type": "execute_result"
    }
   ],
   "source": [
    "test_arr.dtype"
   ]
  },
  {
   "cell_type": "code",
   "execution_count": 11,
   "id": "f68462b1",
   "metadata": {},
   "outputs": [
    {
     "data": {
      "text/plain": [
       "1"
      ]
     },
     "execution_count": 11,
     "metadata": {},
     "output_type": "execute_result"
    }
   ],
   "source": [
    "test_arr.ndim"
   ]
  },
  {
   "cell_type": "code",
   "execution_count": 15,
   "id": "516b6adf",
   "metadata": {},
   "outputs": [
    {
     "data": {
      "text/plain": [
       "array([[1, 2, 3, 4, 5],\n",
       "       [9, 8, 7, 6, 5],\n",
       "       [2, 4, 6, 8, 9]])"
      ]
     },
     "execution_count": 15,
     "metadata": {},
     "output_type": "execute_result"
    }
   ],
   "source": [
    "test_arr = np.array([\n",
    "                    [1,2,3,4,5],\n",
    "                    [9,8,7,6,5],\n",
    "                    [2,4,6,8,9]\n",
    "                    ])\n",
    "test_arr"
   ]
  },
  {
   "cell_type": "code",
   "execution_count": 16,
   "id": "a36033ac",
   "metadata": {},
   "outputs": [
    {
     "data": {
      "text/plain": [
       "2"
      ]
     },
     "execution_count": 16,
     "metadata": {},
     "output_type": "execute_result"
    }
   ],
   "source": [
    "test_arr[0][1]"
   ]
  },
  {
   "cell_type": "code",
   "execution_count": 17,
   "id": "014d0974",
   "metadata": {},
   "outputs": [
    {
     "data": {
      "text/plain": [
       "2"
      ]
     },
     "execution_count": 17,
     "metadata": {},
     "output_type": "execute_result"
    }
   ],
   "source": [
    "test_arr.ndim"
   ]
  },
  {
   "cell_type": "code",
   "execution_count": 18,
   "id": "b4e0d927",
   "metadata": {},
   "outputs": [
    {
     "data": {
      "text/plain": [
       "array([0, 1, 2, 3, 4, 5])"
      ]
     },
     "execution_count": 18,
     "metadata": {},
     "output_type": "execute_result"
    }
   ],
   "source": [
    "np.arange(0, 6, 1)"
   ]
  },
  {
   "cell_type": "code",
   "execution_count": 19,
   "id": "6bf4ec61",
   "metadata": {},
   "outputs": [
    {
     "data": {
      "text/plain": [
       "array([ 0, 10, 20, 30, 40, 50])"
      ]
     },
     "execution_count": 19,
     "metadata": {},
     "output_type": "execute_result"
    }
   ],
   "source": [
    "np.arange(0, 51, 10)"
   ]
  },
  {
   "cell_type": "code",
   "execution_count": 20,
   "id": "dfdbc467",
   "metadata": {},
   "outputs": [
    {
     "data": {
      "text/plain": [
       "array([[ 0,  1,  2,  3,  4,  5],\n",
       "       [10, 11, 12, 13, 14, 15],\n",
       "       [20, 21, 22, 23, 24, 25],\n",
       "       [30, 31, 32, 33, 34, 35],\n",
       "       [40, 41, 42, 43, 44, 45],\n",
       "       [50, 51, 52, 53, 54, 55]])"
      ]
     },
     "execution_count": 20,
     "metadata": {},
     "output_type": "execute_result"
    }
   ],
   "source": [
    "np.arange(0, 51, 10)[:, np.newaxis] + np.arange(0, 6, 1)"
   ]
  },
  {
   "cell_type": "code",
   "execution_count": 24,
   "id": "386eb7f1",
   "metadata": {},
   "outputs": [],
   "source": [
    "a = np.arange(0, 51, 10)[:, np.newaxis] + np.arange(0, 6, 1)"
   ]
  },
  {
   "cell_type": "code",
   "execution_count": 25,
   "id": "d820b2ee",
   "metadata": {},
   "outputs": [
    {
     "data": {
      "text/plain": [
       "array([[ 0,  1,  2,  3,  4,  5],\n",
       "       [10, 11, 12, 13, 14, 15],\n",
       "       [20, 21, 22, 23, 24, 25],\n",
       "       [30, 31, 32, 33, 34, 35],\n",
       "       [40, 41, 42, 43, 44, 45],\n",
       "       [50, 51, 52, 53, 54, 55]])"
      ]
     },
     "execution_count": 25,
     "metadata": {},
     "output_type": "execute_result"
    }
   ],
   "source": [
    "a"
   ]
  },
  {
   "cell_type": "code",
   "execution_count": 28,
   "id": "003e2778",
   "metadata": {},
   "outputs": [
    {
     "data": {
      "text/plain": [
       "array([3, 4])"
      ]
     },
     "execution_count": 28,
     "metadata": {},
     "output_type": "execute_result"
    }
   ],
   "source": [
    "a[0][3:5]"
   ]
  },
  {
   "cell_type": "code",
   "execution_count": 36,
   "id": "a04ab17e",
   "metadata": {},
   "outputs": [
    {
     "name": "stdout",
     "output_type": "stream",
     "text": [
      "[10000, 10300, 9900, 10500, 11000]\n",
      "[10000 10300  9900 10500 11000]\n",
      "0    10000\n",
      "1    10300\n",
      "2     9900\n",
      "3    10500\n",
      "4    11000\n",
      "dtype: int64\n"
     ]
    }
   ],
   "source": [
    "# 주식가격 리스트를 pandas series로 만들기.\n",
    "stock_price_list = [10000,10300,9900,10500,11000]\n",
    "stock_price_array = np.array(stock_price_list)\n",
    "stock_price_series = pd.Series(stock_price_list)\n",
    "\n",
    "print(stock_price_list)\n",
    "print(stock_price_array)\n",
    "print(stock_price_series)"
   ]
  },
  {
   "cell_type": "code",
   "execution_count": 37,
   "id": "b09233fa",
   "metadata": {},
   "outputs": [],
   "source": [
    "stock_price_Series_index = pd.Series(stock_price_list,\n",
    "                                    index=[\"2022-10-01\",\n",
    "                                           \"2022-10-02\",\n",
    "                                           \"2022-10-03\",\n",
    "                                           \"2022-10-04\",\n",
    "                                           \"2022-10-5\"])"
   ]
  },
  {
   "cell_type": "code",
   "execution_count": 38,
   "id": "9e5e428a",
   "metadata": {},
   "outputs": [
    {
     "data": {
      "text/plain": [
       "2022-10-01    10000\n",
       "2022-10-02    10300\n",
       "2022-10-03     9900\n",
       "2022-10-04    10500\n",
       "2022-10-5     11000\n",
       "dtype: int64"
      ]
     },
     "execution_count": 38,
     "metadata": {},
     "output_type": "execute_result"
    }
   ],
   "source": [
    "stock_price_Series_index"
   ]
  },
  {
   "cell_type": "code",
   "execution_count": null,
   "id": "7af563d9",
   "metadata": {},
   "outputs": [],
   "source": [
    "#  참고) 파이썬의 기본 자료형인 dict와 상당히 유사\n",
    "# dict : key      ---  pandas : index\n",
    "# "
   ]
  },
  {
   "cell_type": "code",
   "execution_count": 42,
   "id": "de4f4815",
   "metadata": {},
   "outputs": [
    {
     "data": {
      "text/plain": [
       "APPL      1000\n",
       "MS        2000\n",
       "AMAZON    3000\n",
       "dtype: int64"
      ]
     },
     "execution_count": 42,
     "metadata": {},
     "output_type": "execute_result"
    }
   ],
   "source": [
    "s_data = {\"APPL\":1000, \"MS\":2000, \"AMAZON\":3000}\n",
    "s_data_Series = pd.Series(s_data)\n",
    "s_data_Series"
   ]
  },
  {
   "cell_type": "code",
   "execution_count": 41,
   "id": "cb80d156",
   "metadata": {},
   "outputs": [
    {
     "data": {
      "text/plain": [
       "GOOGLE       NaN\n",
       "APPL      1000.0\n",
       "AMAZON    3000.0\n",
       "dtype: float64"
      ]
     },
     "execution_count": 41,
     "metadata": {},
     "output_type": "execute_result"
    }
   ],
   "source": [
    "# pandas는 index 가 상당히 특징\n",
    "# ----> 대부분의 움직임이 index를 중심으로 움직이게 된다\n",
    "# 기준 : index\n",
    "ticker = [\"GOOGLE\", \"APPL\", \"AMAZON\"]\n",
    "s_data_Series2 = pd.Series(s_data, index = ticker)\n",
    "s_data_Series2"
   ]
  },
  {
   "cell_type": "code",
   "execution_count": 44,
   "id": "d1384961",
   "metadata": {},
   "outputs": [
    {
     "data": {
      "text/plain": [
       "AMAZON    6000.0\n",
       "APPL      2000.0\n",
       "GOOGLE       NaN\n",
       "MS           NaN\n",
       "dtype: float64"
      ]
     },
     "execution_count": 44,
     "metadata": {},
     "output_type": "execute_result"
    }
   ],
   "source": [
    "temp = s_data_Series + s_data_Series2\n",
    "temp"
   ]
  },
  {
   "cell_type": "code",
   "execution_count": 45,
   "id": "25fe7d91",
   "metadata": {},
   "outputs": [
    {
     "data": {
      "text/plain": [
       "AMAZON    False\n",
       "APPL      False\n",
       "GOOGLE     True\n",
       "MS         True\n",
       "dtype: bool"
      ]
     },
     "execution_count": 45,
     "metadata": {},
     "output_type": "execute_result"
    }
   ],
   "source": [
    "temp.isnull()"
   ]
  },
  {
   "cell_type": "code",
   "execution_count": 46,
   "id": "d21e4431",
   "metadata": {
    "scrolled": true
   },
   "outputs": [
    {
     "data": {
      "text/plain": [
       "AMAZON     True\n",
       "APPL       True\n",
       "GOOGLE    False\n",
       "MS        False\n",
       "dtype: bool"
      ]
     },
     "execution_count": 46,
     "metadata": {},
     "output_type": "execute_result"
    }
   ],
   "source": [
    "temp.notnull()"
   ]
  },
  {
   "cell_type": "code",
   "execution_count": 48,
   "id": "3d806e2d",
   "metadata": {},
   "outputs": [
    {
     "data": {
      "text/plain": [
       "GOOGLE   NaN\n",
       "MS       NaN\n",
       "dtype: float64"
      ]
     },
     "execution_count": 48,
     "metadata": {},
     "output_type": "execute_result"
    }
   ],
   "source": [
    "temp[temp.isnull()]"
   ]
  },
  {
   "cell_type": "code",
   "execution_count": 47,
   "id": "c7006e0f",
   "metadata": {},
   "outputs": [
    {
     "data": {
      "text/plain": [
       "AMAZON    6000.0\n",
       "APPL      2000.0\n",
       "dtype: float64"
      ]
     },
     "execution_count": 47,
     "metadata": {},
     "output_type": "execute_result"
    }
   ],
   "source": [
    "temp[temp.notnull()]"
   ]
  },
  {
   "cell_type": "code",
   "execution_count": 49,
   "id": "82fc98ab",
   "metadata": {},
   "outputs": [
    {
     "data": {
      "text/plain": [
       "(4,)"
      ]
     },
     "execution_count": 49,
     "metadata": {},
     "output_type": "execute_result"
    }
   ],
   "source": [
    "temp.shape"
   ]
  },
  {
   "cell_type": "code",
   "execution_count": 51,
   "id": "6e69d8e2",
   "metadata": {},
   "outputs": [
    {
     "data": {
      "text/plain": [
       "dtype('float64')"
      ]
     },
     "execution_count": 51,
     "metadata": {},
     "output_type": "execute_result"
    }
   ],
   "source": [
    "temp.dtype"
   ]
  },
  {
   "cell_type": "code",
   "execution_count": null,
   "id": "d43cf15f",
   "metadata": {},
   "outputs": [],
   "source": []
  },
  {
   "cell_type": "code",
   "execution_count": null,
   "id": "6608095e",
   "metadata": {},
   "outputs": [],
   "source": []
  },
  {
   "cell_type": "code",
   "execution_count": null,
   "id": "9758d7fc",
   "metadata": {},
   "outputs": [],
   "source": []
  },
  {
   "cell_type": "code",
   "execution_count": null,
   "id": "4579dc0f",
   "metadata": {},
   "outputs": [],
   "source": []
  }
 ],
 "metadata": {
  "kernelspec": {
   "display_name": "Python 3 (ipykernel)",
   "language": "python",
   "name": "python3"
  },
  "language_info": {
   "codemirror_mode": {
    "name": "ipython",
    "version": 3
   },
   "file_extension": ".py",
   "mimetype": "text/x-python",
   "name": "python",
   "nbconvert_exporter": "python",
   "pygments_lexer": "ipython3",
   "version": "3.9.12"
  }
 },
 "nbformat": 4,
 "nbformat_minor": 5
}
