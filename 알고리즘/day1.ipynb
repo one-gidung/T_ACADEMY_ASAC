{
 "cells": [
  {
   "cell_type": "markdown",
   "id": "b9e2e604",
   "metadata": {},
   "source": [
    "# 정렬 알고리즘 ( Sorting Algorithm )\n",
    "\n",
    "### 정렬 문제 ( Sorting problem )\n",
    "### 기본 정렬 알고리즘 (Basig Sorting algorithms)\n",
    "### "
   ]
  },
  {
   "cell_type": "markdown",
   "id": "191f1ba3",
   "metadata": {},
   "source": [
    "###### 선택 정렬 (Selection sort)\n",
    "**최소값 선택정렬**\n",
    "1. 정렬되지 않은 것 중 가장 작은 숫자 선택\n",
    "2. 정렬되지 않은 것 중에 첫 번째와 자리바꿈\n",
    "3. 1,2 반복"
   ]
  },
  {
   "cell_type": "markdown",
   "id": "cba0fe38",
   "metadata": {},
   "source": [
    "**성능분석**\n",
    "1. 최선/최악의 경우 수행시간 $\\theta(n^2)$\n",
    "2. 최선/최악의 경우 공간: $\\theta(n)$"
   ]
  },
  {
   "cell_type": "code",
   "execution_count": 32,
   "id": "98b85a22",
   "metadata": {},
   "outputs": [
    {
     "name": "stdout",
     "output_type": "stream",
     "text": [
      "[4, 3, 9, 7, 1, 6, 2, 8, 0, 5]\n"
     ]
    }
   ],
   "source": [
    "## selection sort\n",
    "\n",
    "import random\n",
    "import numpy as np\n",
    "\n",
    "A = list(range(10))\n",
    "random.shuffle(A)\n",
    "print(A)"
   ]
  },
  {
   "cell_type": "code",
   "execution_count": 31,
   "id": "c604d7bf",
   "metadata": {},
   "outputs": [
    {
     "name": "stdout",
     "output_type": "stream",
     "text": [
      "[0, 1, 2, 3, 4, 5, 6, 7, 8, 9]\n"
     ]
    }
   ],
   "source": [
    "for i in range(len(A)-1):\n",
    "    min_idx = i\n",
    "    for j in range(i+1, len(A)):\n",
    "        if A[j] < A[min_idx]:\n",
    "            min_idx = j\n",
    "    A[i], A[min_idx] = A[min_idx], A[i]\n",
    "print(li)"
   ]
  },
  {
   "cell_type": "markdown",
   "id": "ebe4030c",
   "metadata": {},
   "source": [
    "###### 삽입 정렬 (Insertion sort)\n",
    "\n"
   ]
  },
  {
   "cell_type": "code",
   "execution_count": 33,
   "id": "c5c94bd9",
   "metadata": {},
   "outputs": [
    {
     "name": "stdout",
     "output_type": "stream",
     "text": [
      "[0, 1, 2, 3, 4, 5, 6, 7, 8, 9]\n"
     ]
    }
   ],
   "source": [
    "## insertion sort\n",
    "for end in range(1, len(A)):\n",
    "    for i in range(end, 0, -1):\n",
    "        if A[i-1] > A[i]:\n",
    "            A[i-1], A[i] = A[i], A[i-1]\n",
    "print(A)"
   ]
  },
  {
   "cell_type": "markdown",
   "id": "88553839",
   "metadata": {},
   "source": [
    "삽입정렬의 수행시간\n",
    "\n",
    "- 입력의 크기가 동일하더라도 입력의 수행시간은  \n",
    "최선의 경우, 선형시간에 정리를 한다.  \n",
    "최악의 경우, $O(n^2)$  \n",
    "평균의 경우, "
   ]
  },
  {
   "attachments": {
    "image.png": {
     "image/png": "[encoded data removed]"
    }
   },
   "cell_type": "markdown",
   "id": "f2f59f6f",
   "metadata": {},
   "source": [
    "## 실행시간 측정하기\n",
    "\n",
    "#### 입력되는 정수의 개수에 따라 변하는 시간을 측정해봅시다.\n",
    "![image.png](attachment:image.png)"
   ]
  },
  {
   "cell_type": "code",
   "execution_count": 2,
   "id": "8fefe4ec",
   "metadata": {},
   "outputs": [
    {
     "ename": "TypeError",
     "evalue": "'list' object cannot be interpreted as an integer",
     "output_type": "error",
     "traceback": [
      "\u001b[1;31m---------------------------------------------------------------------------\u001b[0m",
      "\u001b[1;31mTypeError\u001b[0m                                 Traceback (most recent call last)",
      "Input \u001b[1;32mIn [2]\u001b[0m, in \u001b[0;36m<cell line: 5>\u001b[1;34m()\u001b[0m\n\u001b[0;32m      2\u001b[0m listLength \u001b[38;5;241m=\u001b[39m [\u001b[38;5;241m100\u001b[39m, \u001b[38;5;241m500\u001b[39m, \u001b[38;5;241m1000\u001b[39m, \u001b[38;5;241m5000\u001b[39m, \u001b[38;5;241m10000\u001b[39m, \u001b[38;5;241m20000\u001b[39m, \u001b[38;5;241m40000\u001b[39m, \u001b[38;5;241m80000\u001b[39m]\n\u001b[0;32m      4\u001b[0m \u001b[38;5;66;03m## selection sort\u001b[39;00m\n\u001b[1;32m----> 5\u001b[0m \u001b[38;5;28;01mfor\u001b[39;00m i \u001b[38;5;129;01min\u001b[39;00m \u001b[38;5;28;43mrange\u001b[39;49m\u001b[43m(\u001b[49m\u001b[43mlistLength\u001b[49m\u001b[43m)\u001b[49m:\n\u001b[0;32m      6\u001b[0m     random\u001b[38;5;241m.\u001b[39mshuffle(A)\n\u001b[0;32m      7\u001b[0m     start \u001b[38;5;241m=\u001b[39m time\u001b[38;5;241m.\u001b[39mtime()  \u001b[38;5;66;03m# 시작 시간 저장\u001b[39;00m\n",
      "\u001b[1;31mTypeError\u001b[0m: 'list' object cannot be interpreted as an integer"
     ]
    }
   ],
   "source": [
    "import time, random\n",
    "listLength = [100, 500, 1000, 5000, 10000, 20000, 40000, 80000]\n",
    "\n",
    "## selection sort\n",
    "for i in range(listLength):\n",
    "    random.shuffle(A)\n",
    "    start = time.time()  # 시작 시간 저장\n",
    "\n",
    "    for i in range(len(A)-1):\n",
    "        min_idx = i\n",
    "        for j in range(i+1, len(A)):\n",
    "            if A[j] < A[min_idx]:\n",
    "                min_idx = j\n",
    "        A[i], A[min_idx] = A[min_idx], A[i]\n",
    "    end = time.time()\n",
    "    print(end - start)\n",
    "\n",
    "\n",
    "\n",
    "## insertion sort\n",
    "    A = list(range(n))\n",
    "    random.shuffle(A)\n",
    "    start = time.time()  # 시작 시간 저장\n",
    "\n",
    "    for end in range(1, len(A)):\n",
    "        for i in range(end, 0, -1):\n",
    "            if A[i-1] > A[i]:\n",
    "                A[i-1], A[i] = A[i], A[i-1]\n",
    "    end = time.time()\n",
    "    print(end - start)"
   ]
  },
  {
   "cell_type": "code",
   "execution_count": null,
   "id": "1496be6c",
   "metadata": {},
   "outputs": [],
   "source": [
    "# 선택 정렬                  삽입 정렬\n",
    "#  0.0002911090850830078      0.0009989738464355469\n",
    "#  0.019578218460083008       0.0492162                                                                                                                                                                                                                                                                                                                                                                                                                                                                                                                                                                                                                                                                          22286987305\n",
    "#  1.6370365619659424         3.7595431804656982\n",
    "#  6.861301898956299         15.080358505249023\n",
    "# 25.79306125640869          57.62922120094299\n",
    "#          "
   ]
  },
  {
   "cell_type": "markdown",
   "id": "8c14a606",
   "metadata": {},
   "source": []
  },
  {
   "cell_type": "code",
   "execution_count": null,
   "id": "c45a3025",
   "metadata": {},
   "outputs": [],
   "source": [
    "def GCD(a, b):\n",
    "    if b == 0:\n",
    "        return a\n",
    "    else:\n",
    "        print(f'call ==> EGCD({b},{a%b})')\n",
    "        return EGCD(b, a%b)\n",
    "    return GCD()"
   ]
  },
  {
   "cell_type": "code",
   "execution_count": null,
   "id": "18444616",
   "metadata": {},
   "outputs": [],
   "source": [
    "def mergeSort(listA):\n",
    "    if len(listA)<=1:         return listA\n",
    "    mid = len(listA)\n",
    "    print(list[:mid], '\\t', list]mid:)\n",
    "    left = mergeSort(listA[:mid])\n",
    "    right = mergeSort(listA[mid:])\n",
    "    return merge(left, right)\n",
    "\n",
    "def merge(left, right):\n",
    "    merged = []\n",
    "    while (len(left)>0) or (len(right)>0):\n",
    "        if len(right) <= 0:  # 왼쪽에만 아이템이 있으면\n",
    "            print('merged-->', merged+left)\n",
    "            return merged+left\n",
    "        elif len(left) <= 0:  # 오른쪽에만 아이템이 있으면\n",
    "            print('merged-->', merged+right)\n",
    "            return merged+right\n",
    "        else:  # 왼쪽과 오른쪽에 모두 있으면\n",
    "            if left[0]<=right[0]:\n",
    "                merged.append(left[0])\n",
    "                def left[0]\n",
    "            else:\n",
    "                merged.append(right[0])\n",
    "                del right[0]\n",
    "    print('merged-->', merged)\n",
    "    return merged\n",
    "\n",
    "start = time.time()\n",
    "sorted_List = mergeSort(listA)\n",
    "#print(sortedList)"
   ]
  },
  {
   "cell_type": "code",
   "execution_count": null,
   "id": "a7313644",
   "metadata": {},
   "outputs": [],
   "source": []
  },
  {
   "cell_type": "markdown",
   "id": "0ffd447e",
   "metadata": {},
   "source": [
    "###### 퀵 정렬 ( Quick Sort )\n",
    "**Partitioning**"
   ]
  },
  {
   "cell_type": "code",
   "execution_count": null,
   "id": "f75ecd83",
   "metadata": {},
   "outputs": [],
   "source": []
  },
  {
   "cell_type": "code",
   "execution_count": null,
   "id": "9e735729",
   "metadata": {},
   "outputs": [],
   "source": []
  },
  {
   "cell_type": "code",
   "execution_count": null,
   "id": "a9c4deea",
   "metadata": {},
   "outputs": [],
   "source": []
  },
  {
   "cell_type": "code",
   "execution_count": null,
   "id": "193079d1",
   "metadata": {},
   "outputs": [],
   "source": [
    "def qSort(listA, start, end):\n",
    "    if start < end:\n",
    "        pvt, listA = partition(listA, start, end)\n",
    "        qSort(listA, sstart, pvt-1)\n",
    "        qSort(listA, pvt+1, end)\n",
    "    return listA\n",
    "\n",
    "def partition(listA, start, end):\n",
    "    pvt = listA[end]\n",
    "    pvtIdx = end\n",
    "    print('partition:', listA[start:end+1])\n",
    "    while start < end :\n",
    "        if listA[start] < pvt:\n",
    "            start = start + 1\n",
    "            print('<=:', listA, start, end)\n",
    "        else:\n",
    "            listA[start], listA[end-1] = listA[end-1], listA[start]\n",
    "            end = end - 1\n",
    "            print('> :', listA, start, end)\n",
    "    listA[pvtIdx], listA[start] = listA[start], listA[pvtIdx]\n",
    "    print('return', listA)\n",
    "    return start, listA"
   ]
  },
  {
   "cell_type": "code",
   "execution_count": null,
   "id": "0311c519",
   "metadata": {},
   "outputs": [],
   "source": []
  },
  {
   "cell_type": "code",
   "execution_count": null,
   "id": "0560b03f",
   "metadata": {},
   "outputs": [],
   "source": []
  },
  {
   "cell_type": "code",
   "execution_count": null,
   "id": "53daca8a",
   "metadata": {},
   "outputs": [],
   "source": []
  }
 ],
 "metadata": {
  "kernelspec": {
   "display_name": "Python 3 (ipykernel)",
   "language": "python",
   "name": "python3"
  },
  "language_info": {
   "codemirror_mode": {
    "name": "ipython",
    "version": 3
   },
   "file_extension": ".py",
   "mimetype": "text/x-python",
   "name": "python",
   "nbconvert_exporter": "python",
   "pygments_lexer": "ipython3",
   "version": "3.9.12"
  }
 },
 "nbformat": 4,
 "nbformat_minor": 5
}
