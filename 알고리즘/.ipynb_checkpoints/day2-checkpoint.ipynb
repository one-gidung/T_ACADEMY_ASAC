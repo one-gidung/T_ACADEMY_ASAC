{
 "cells": [
  {
   "cell_type": "markdown",
   "id": "6dc85a8d",
   "metadata": {},
   "source": [
    "# 계수 정렬 (Counting sort)"
   ]
  },
  {
   "cell_type": "code",
   "execution_count": 2,
   "id": "76fdc704",
   "metadata": {},
   "outputs": [
    {
     "name": "stdout",
     "output_type": "stream",
     "text": [
      "[3, 7, 1, 2, 3, 1, 2, 3, 1, 3] [0, 3, 2, 4, 0, 0, 0, 1] []\n",
      "[3, 7, 1, 2, 3, 1, 2, 3, 1, 3] [0, 0, 2, 4, 0, 0, 0, 1] [1, 1, 1]\n",
      "[3, 7, 1, 2, 3, 1, 2, 3, 1, 3] [0, 0, 0, 4, 0, 0, 0, 1] [1, 1, 1, 2, 2]\n",
      "[3, 7, 1, 2, 3, 1, 2, 3, 1, 3] [0, 0, 0, 0, 0, 0, 0, 1] [1, 1, 1, 2, 2, 3, 3, 3, 3]\n",
      "[3, 7, 1, 2, 3, 1, 2, 3, 1, 3] [0, 0, 0, 0, 0, 0, 0, 1] [1, 1, 1, 2, 2, 3, 3, 3, 3]\n",
      "[3, 7, 1, 2, 3, 1, 2, 3, 1, 3] [0, 0, 0, 0, 0, 0, 0, 1] [1, 1, 1, 2, 2, 3, 3, 3, 3]\n",
      "[3, 7, 1, 2, 3, 1, 2, 3, 1, 3] [0, 0, 0, 0, 0, 0, 0, 1] [1, 1, 1, 2, 2, 3, 3, 3, 3]\n",
      "[3, 7, 1, 2, 3, 1, 2, 3, 1, 3] [0, 0, 0, 0, 0, 0, 0, 0] [1, 1, 1, 2, 2, 3, 3, 3, 3, 7]\n",
      "[3, 7, 1, 2, 3, 1, 2, 3, 1, 3] [0, 0, 0, 0, 0, 0, 0, 0] [1, 1, 1, 2, 2, 3, 3, 3, 3, 7]\n",
      "[3, 7, 1, 2, 3, 1, 2, 3, 1, 3] [0, 0, 0, 0, 0, 0, 0, 0] [1, 1, 1, 2, 2, 3, 3, 3, 3, 7]\n"
     ]
    }
   ],
   "source": [
    "# count sort\n",
    "# 참고용\n",
    "\n",
    "listA = [3, 7, 1, 2, 3, 1, 2, 3, 1, 3]    ## input(unsorted) list\n",
    "listC = [0, 0, 0, 0, 0, 0, 0, 0]          ## count list\n",
    "listB = []\n",
    "\n",
    "num = 0\n",
    "while num < len(listA):\n",
    "    listC[listA[num]] = (listC[listA[num]]+1)\n",
    "    num = num + 1\n",
    "\n",
    "num = 0\n",
    "while num < len(listA):\n",
    "    while num < len(listC) and listC[num] > 0:\n",
    "        listB.append(num)\n",
    "        listC[num] = listC[num] - 1\n",
    "    num = num + 1\n",
    "    \n",
    "    print(listA, listC, listB)"
   ]
  },
  {
   "cell_type": "markdown",
   "id": "872e20ee",
   "metadata": {},
   "source": [
    "# 기수 정렬 (Radix sort)\n",
    "\n",
    "### 기수정렬의 예 MSB $->$ LSB"
   ]
  },
  {
   "cell_type": "code",
   "execution_count": null,
   "id": "7d9a89b0",
   "metadata": {},
   "outputs": [],
   "source": []
  },
  {
   "cell_type": "code",
   "execution_count": null,
   "id": "86d1d544",
   "metadata": {},
   "outputs": [],
   "source": []
  },
  {
   "cell_type": "markdown",
   "id": "05b3b6ef",
   "metadata": {},
   "source": [
    "# 프림 알고리즘 (Prim's Algorithm)\n",
    "\n",
    "1. 인접 정점들 중에서 간선의 값이 가장 작은 정점을 찾는다.\n",
    "2. 찾은 정점을 추가했을 때 순환(cycle)이 있는지 검사한다.\n",
    "3. 순환이 있다면 순환이 없는 정점을 찾을 때까지 차례대로 검사한다.\n",
    "4. 순환하지 않는 정점을 찾으면 이를 완료된 정점에 추가한다.\n",
    "5. 모든 정점이 추가될 때까지 1-4를 반복한다."
   ]
  },
  {
   "cell_type": "markdown",
   "id": "e3356260",
   "metadata": {},
   "source": [
    "# 쿠루스칼 알고리즘 (Kruskal's Algorithm)"
   ]
  },
  {
   "cell_type": "code",
   "execution_count": null,
   "id": "02c997f8",
   "metadata": {},
   "outputs": [],
   "source": []
  }
 ],
 "metadata": {
  "kernelspec": {
   "display_name": "Python 3 (ipykernel)",
   "language": "python",
   "name": "python3"
  },
  "language_info": {
   "codemirror_mode": {
    "name": "ipython",
    "version": 3
   },
   "file_extension": ".py",
   "mimetype": "text/x-python",
   "name": "python",
   "nbconvert_exporter": "python",
   "pygments_lexer": "ipython3",
   "version": "3.9.12"
  }
 },
 "nbformat": 4,
 "nbformat_minor": 5
}
