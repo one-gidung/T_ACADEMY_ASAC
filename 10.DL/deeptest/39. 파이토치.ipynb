{
 "cells": [
  {
   "cell_type": "code",
   "execution_count": 1,
   "id": "d35e666e",
   "metadata": {},
   "outputs": [],
   "source": [
    "import torch\n",
    "from torch.optim import Adam\n",
    "import torch.nn.functional as F\n",
    "import numpy as np\n",
    "import pandas as pd\n",
    "import matplotlib.pyplot as plt\n",
    "from sklearn.metrics import accuracy_score"
   ]
  },
  {
   "cell_type": "code",
   "execution_count": 2,
   "id": "219fc420",
   "metadata": {},
   "outputs": [],
   "source": [
    "x_data = np.array( [[0,0],[0,1],[1,0],[1,1]])\n",
    "y_data = np.array( [[0],[1],[1],[0]])"
   ]
  },
  {
   "cell_type": "code",
   "execution_count": 3,
   "id": "917686e5",
   "metadata": {},
   "outputs": [
    {
     "data": {
      "text/plain": [
       "tensor([0.9498], requires_grad=True)"
      ]
     },
     "execution_count": 3,
     "metadata": {},
     "output_type": "execute_result"
    }
   ],
   "source": [
    "w = torch.empty( [2,1],requires_grad=True) # [특성데이터갯수, 라벨갯수]\n",
    "b = torch.empty( [1],requires_grad=True)# [라벨갯수]\n",
    "torch.nn.init.uniform_(w)\n",
    "torch.nn.init.uniform_(b)"
   ]
  },
  {
   "cell_type": "code",
   "execution_count": 8,
   "id": "7196fdfc",
   "metadata": {},
   "outputs": [],
   "source": [
    "def cost():\n",
    "    z =torch.matmul(x,w) + b\n",
    "    c_i = F.binary_cross_entropy_with_logits(z, y)\n",
    "    c = torch.mean( c_i )\n",
    "    return c"
   ]
  },
  {
   "cell_type": "code",
   "execution_count": 9,
   "id": "9b3449ea",
   "metadata": {},
   "outputs": [
    {
     "ename": "NameError",
     "evalue": "name 'x' is not defined",
     "output_type": "error",
     "traceback": [
      "\u001b[1;31m---------------------------------------------------------------------------\u001b[0m",
      "\u001b[1;31mNameError\u001b[0m                                 Traceback (most recent call last)",
      "Cell \u001b[1;32mIn [9], line 3\u001b[0m\n\u001b[0;32m      1\u001b[0m optimizer \u001b[38;5;241m=\u001b[39m Adam( [w,b] ,lr\u001b[38;5;241m=\u001b[39m\u001b[38;5;241m0.01\u001b[39m )\n\u001b[0;32m      2\u001b[0m \u001b[38;5;28;01mfor\u001b[39;00m epoch \u001b[38;5;129;01min\u001b[39;00m \u001b[38;5;28mrange\u001b[39m(\u001b[38;5;241m2000\u001b[39m):\n\u001b[1;32m----> 3\u001b[0m     c \u001b[38;5;241m=\u001b[39m \u001b[43mcost\u001b[49m\u001b[43m(\u001b[49m\u001b[43m)\u001b[49m\n\u001b[0;32m      4\u001b[0m     optimizer\u001b[38;5;241m.\u001b[39mzero_grad()\n\u001b[0;32m      5\u001b[0m     c\u001b[38;5;241m.\u001b[39mbackward()\n",
      "Cell \u001b[1;32mIn [8], line 2\u001b[0m, in \u001b[0;36mcost\u001b[1;34m()\u001b[0m\n\u001b[0;32m      1\u001b[0m \u001b[38;5;28;01mdef\u001b[39;00m \u001b[38;5;21mcost\u001b[39m():\n\u001b[1;32m----> 2\u001b[0m     z \u001b[38;5;241m=\u001b[39mtorch\u001b[38;5;241m.\u001b[39mmatmul(\u001b[43mx\u001b[49m,w) \u001b[38;5;241m+\u001b[39m b\n\u001b[0;32m      3\u001b[0m     c_i \u001b[38;5;241m=\u001b[39m F\u001b[38;5;241m.\u001b[39mbinary_cross_entropy_with_logits(z, y)\n\u001b[0;32m      4\u001b[0m     c \u001b[38;5;241m=\u001b[39m torch\u001b[38;5;241m.\u001b[39mmean( c_i )\n",
      "\u001b[1;31mNameError\u001b[0m: name 'x' is not defined"
     ]
    }
   ],
   "source": [
    "optimizer = Adam( [w,b] ,lr=0.01 )\n",
    "for epoch in range(2000):\n",
    "    c = cost()\n",
    "    optimizer.zero_grad()\n",
    "    c.backward()\n",
    "    optimizer.step()\n",
    "    \n",
    "    print('cost', c.item() )"
   ]
  },
  {
   "cell_type": "code",
   "execution_count": null,
   "id": "9e1e52c4",
   "metadata": {},
   "outputs": [],
   "source": []
  }
 ],
 "metadata": {
  "kernelspec": {
   "display_name": "Python 3 (ipykernel)",
   "language": "python",
   "name": "python3"
  },
  "language_info": {
   "codemirror_mode": {
    "name": "ipython",
    "version": 3
   },
   "file_extension": ".py",
   "mimetype": "text/x-python",
   "name": "python",
   "nbconvert_exporter": "python",
   "pygments_lexer": "ipython3",
   "version": "3.9.12"
  }
 },
 "nbformat": 4,
 "nbformat_minor": 5
}
