{
 "cells": [
  {
   "cell_type": "code",
   "execution_count": 1,
   "id": "d16998ba",
   "metadata": {},
   "outputs": [],
   "source": [
    "import tensorflow as tf"
   ]
  },
  {
   "cell_type": "code",
   "execution_count": 2,
   "id": "49aab6df",
   "metadata": {},
   "outputs": [],
   "source": [
    "w =3\n",
    "x = tf.constant( [1,2,3], tf.float32 )\n",
    "y = tf.constant( [1,2,3], tf.float32 )"
   ]
  },
  {
   "cell_type": "code",
   "execution_count": null,
   "id": "7de43c09",
   "metadata": {},
   "outputs": [],
   "source": [
    "hx = tf.multiply( w,x )\n",
    "m = tf.subtract( hx,y )\n",
    "sq = tf.square( m )\n",
    "c = tf.reduce_mean( sq)"
   ]
  },
  {
   "cell_type": "code",
   "execution_count": 3,
   "id": "662c4bcf",
   "metadata": {},
   "outputs": [],
   "source": [
    "def cost( w ):\n",
    "    hx = w*x # [3,3,3]*[1,2,3] = [3,6,9]\n",
    "    c = tf.reduce_mean( (hx-y)**2) # [3,6,9]-[1,2,3]=[2,4,6]\n",
    "    return c"
   ]
  },
  {
   "cell_type": "code",
   "execution_count": 5,
   "id": "90cae113",
   "metadata": {},
   "outputs": [
    {
     "data": {
      "text/plain": [
       "18.666666"
      ]
     },
     "execution_count": 5,
     "metadata": {},
     "output_type": "execute_result"
    }
   ],
   "source": [
    "cost( 3 ).numpy()"
   ]
  }
 ],
 "metadata": {
  "kernelspec": {
   "display_name": "Python 3 (ipykernel)",
   "language": "python",
   "name": "python3"
  },
  "language_info": {
   "codemirror_mode": {
    "name": "ipython",
    "version": 3
   },
   "file_extension": ".py",
   "mimetype": "text/x-python",
   "name": "python",
   "nbconvert_exporter": "python",
   "pygments_lexer": "ipython3",
   "version": "3.10.8"
  }
 },
 "nbformat": 4,
 "nbformat_minor": 5
}
