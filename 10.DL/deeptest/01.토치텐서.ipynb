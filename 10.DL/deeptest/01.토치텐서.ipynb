{
 "cells": [
  {
   "cell_type": "code",
   "execution_count": 1,
   "id": "f3725e01",
   "metadata": {},
   "outputs": [],
   "source": [
    "import torch"
   ]
  },
  {
   "cell_type": "code",
   "execution_count": 2,
   "id": "e799f799",
   "metadata": {},
   "outputs": [
    {
     "data": {
      "text/plain": [
       "tensor(100)"
      ]
     },
     "execution_count": 2,
     "metadata": {},
     "output_type": "execute_result"
    }
   ],
   "source": [
    "aa = torch.tensor( 100 )\n",
    "aa"
   ]
  },
  {
   "cell_type": "code",
   "execution_count": 4,
   "id": "57cc852d",
   "metadata": {},
   "outputs": [
    {
     "data": {
      "text/plain": [
       "100"
      ]
     },
     "execution_count": 4,
     "metadata": {},
     "output_type": "execute_result"
    }
   ],
   "source": [
    "aa.item()"
   ]
  },
  {
   "cell_type": "code",
   "execution_count": 9,
   "id": "49b0ba8d",
   "metadata": {},
   "outputs": [
    {
     "data": {
      "text/plain": [
       "tensor([10., 20., 30., 40.])"
      ]
     },
     "execution_count": 9,
     "metadata": {},
     "output_type": "execute_result"
    }
   ],
   "source": [
    "# bb = torch.tensor( [10,20,30,40] , dtype=torch.int32)\n",
    "bb = torch.tensor( [10,20,30,40] , dtype=torch.float32)\n",
    "bb"
   ]
  },
  {
   "cell_type": "code",
   "execution_count": 8,
   "id": "e158d230",
   "metadata": {},
   "outputs": [],
   "source": [
    "cc = torch.IntTensor([10,20,30,40]  )"
   ]
  },
  {
   "cell_type": "code",
   "execution_count": 7,
   "id": "b697881a",
   "metadata": {},
   "outputs": [],
   "source": [
    "dd = torch.LongTensor([10,20,30,40]  )"
   ]
  },
  {
   "cell_type": "code",
   "execution_count": null,
   "id": "f6680e12",
   "metadata": {},
   "outputs": [],
   "source": [
    "dd = torch.FloatTensor([10,20,30,40]  )"
   ]
  },
  {
   "cell_type": "code",
   "execution_count": 5,
   "id": "2f8b7033",
   "metadata": {},
   "outputs": [
    {
     "data": {
      "text/plain": [
       "array([10, 20, 30, 40], dtype=int64)"
      ]
     },
     "execution_count": 5,
     "metadata": {},
     "output_type": "execute_result"
    }
   ],
   "source": [
    "bb.numpy()"
   ]
  },
  {
   "cell_type": "code",
   "execution_count": 10,
   "id": "9855add5",
   "metadata": {},
   "outputs": [],
   "source": [
    "a = torch.tensor( 3 )\n",
    "b = torch.tensor([10,20,30])\n",
    "c = torch.multiply( a, b) # c = a*b\n",
    "# c = b.multiply(a)"
   ]
  },
  {
   "cell_type": "code",
   "execution_count": 11,
   "id": "c1d37f6a",
   "metadata": {},
   "outputs": [
    {
     "data": {
      "text/plain": [
       "tensor([30, 60, 90])"
      ]
     },
     "execution_count": 11,
     "metadata": {},
     "output_type": "execute_result"
    }
   ],
   "source": [
    "c"
   ]
  },
  {
   "cell_type": "code",
   "execution_count": null,
   "id": "d9e23b0a",
   "metadata": {},
   "outputs": [],
   "source": [
    "b.mean() # torch.mean(b)"
   ]
  }
 ],
 "metadata": {
  "kernelspec": {
   "display_name": "Python 3 (ipykernel)",
   "language": "python",
   "name": "python3"
  },
  "language_info": {
   "codemirror_mode": {
    "name": "ipython",
    "version": 3
   },
   "file_extension": ".py",
   "mimetype": "text/x-python",
   "name": "python",
   "nbconvert_exporter": "python",
   "pygments_lexer": "ipython3",
   "version": "3.10.8"
  }
 },
 "nbformat": 4,
 "nbformat_minor": 5
}
