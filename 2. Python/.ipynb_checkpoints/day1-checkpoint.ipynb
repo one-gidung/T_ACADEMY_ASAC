{
 "cells": [
  {
   "cell_type": "markdown",
   "id": "cba45399",
   "metadata": {},
   "source": [
    "# Markdown 사용법\n",
    "\n",
    "이텔릭체 *별표* 혹은 _언더바_ 사용  \n",
    "Bold체 **별표2개** 혹은 __언더바2개__ 사용  \n",
    "응용하면 **_이텔릭체 두껍게_**도 가능  \n",
    "취소선은 ~~물결표시2개~~ 사용  \n",
    "밑줄은 <u>이렇게</u>"
   ]
  },
  {
   "cell_type": "markdown",
   "id": "6d20e9ca",
   "metadata": {},
   "source": [
    "### 연산자"
   ]
  },
  {
   "cell_type": "code",
   "execution_count": 3,
   "id": "31a23ea5",
   "metadata": {},
   "outputs": [
    {
     "data": {
      "text/plain": [
       "3"
      ]
     },
     "execution_count": 3,
     "metadata": {},
     "output_type": "execute_result"
    }
   ],
   "source": [
    "# 몫\n",
    "10 // 3"
   ]
  },
  {
   "cell_type": "code",
   "execution_count": 4,
   "id": "d096f88b",
   "metadata": {},
   "outputs": [
    {
     "data": {
      "text/plain": [
       "1"
      ]
     },
     "execution_count": 4,
     "metadata": {},
     "output_type": "execute_result"
    }
   ],
   "source": [
    "# 나머지\n",
    "10 % 3"
   ]
  },
  {
   "cell_type": "code",
   "execution_count": 5,
   "id": "af9891be",
   "metadata": {},
   "outputs": [
    {
     "data": {
      "text/plain": [
       "3.3333333333333335"
      ]
     },
     "execution_count": 5,
     "metadata": {},
     "output_type": "execute_result"
    }
   ],
   "source": [
    "10/3"
   ]
  },
  {
   "cell_type": "code",
   "execution_count": 9,
   "id": "42a3c777",
   "metadata": {},
   "outputs": [],
   "source": [
    "# 2가지 방법으로\n",
    "# 인덱스로 돌리는 것\n",
    "# 값 자체로 돌리는 것"
   ]
  },
  {
   "cell_type": "code",
   "execution_count": 10,
   "id": "a4a59bed",
   "metadata": {},
   "outputs": [],
   "source": [
    "# 결과를 담을 빈 리스트 b = []\n",
    "\n",
    "# a의 1번재 원소를 보고\n",
    "# 그 값이 c인지 아닌지 판단\n",
    "# c가 아니면 b에 추가, c이면 그냥 패스~~\n",
    "\n",
    "# a의 2번째 원소를 보고\n",
    "# 그 값이 c인지 아닌지 판단\n",
    "# c가 아니면 b에 추가, c이면 그냥 패스~~\n",
    "\n",
    "### ->->->\n",
    "\n",
    "# a의 8번째 원소를 보고\n",
    "# 그 값이 c인지 아닌지 판단\n",
    "# c가 아니면 b에 추가, c이면 그냥 패스~~"
   ]
  },
  {
   "cell_type": "code",
   "execution_count": 6,
   "id": "e9b34e4e",
   "metadata": {},
   "outputs": [
    {
     "name": "stdout",
     "output_type": "stream",
     "text": [
      "['a', 'b', 'd', 'e', 'f', 'g', 'h', 'i']\n"
     ]
    }
   ],
   "source": [
    "a = [\"a\", \"b\", \"c\", \"d\", \"e\", \"f\", \"g\", \"h\", \"i\"]\n",
    "b = []\n",
    "\n",
    "for i in a:\n",
    "    if i == \"c\":\n",
    "        pass\n",
    "    else:\n",
    "        b.append(i)\n",
    "\n",
    "print(b)"
   ]
  },
  {
   "cell_type": "code",
   "execution_count": 8,
   "id": "dd63bba7",
   "metadata": {},
   "outputs": [
    {
     "name": "stdout",
     "output_type": "stream",
     "text": [
      "['a', 'b', 'd', 'e', 'f', 'g', 'h', 'i']\n"
     ]
    }
   ],
   "source": [
    "b = []\n",
    "for i in range(len(a)):\n",
    "    if a[i] == \"c\":\n",
    "        pass\n",
    "    else:\n",
    "        b.append(a[i])\n",
    "print(b)"
   ]
  },
  {
   "cell_type": "code",
   "execution_count": 11,
   "id": "029462f7",
   "metadata": {},
   "outputs": [
    {
     "name": "stdout",
     "output_type": "stream",
     "text": [
      "['a', 'b', 'd', 'f', 'g', 'i']\n"
     ]
    }
   ],
   "source": [
    "a = [[\"a\", \"b\", \"c\", \"d\"], \"f\", \"g\", [\"c\", \"i\"]]\n",
    "b = []\n",
    "for i in a:\n",
    "    for j in i:\n",
    "        if j != \"c\":\n",
    "            b.append(j)\n",
    "        else:\n",
    "            pass\n",
    "print(b)"
   ]
  },
  {
   "cell_type": "code",
   "execution_count": null,
   "id": "4f4158f1",
   "metadata": {},
   "outputs": [],
   "source": []
  }
 ],
 "metadata": {
  "kernelspec": {
   "display_name": "Python 3 (ipykernel)",
   "language": "python",
   "name": "python3"
  },
  "language_info": {
   "codemirror_mode": {
    "name": "ipython",
    "version": 3
   },
   "file_extension": ".py",
   "mimetype": "text/x-python",
   "name": "python",
   "nbconvert_exporter": "python",
   "pygments_lexer": "ipython3",
   "version": "3.9.12"
  }
 },
 "nbformat": 4,
 "nbformat_minor": 5
}
