{
 "cells": [
  {
   "cell_type": "markdown",
   "id": "0858d81f",
   "metadata": {},
   "source": [
    "# Markdown 사용법\n",
    "\n",
    "이텔릭체 *별표* 혹은 _언더바_ 사용  \n",
    "Bold체 **별표2개** 혹은 __언더바2개__ 사용  \n",
    "응용하면 **_이텔릭체 두껍게_**도 가능  \n",
    "취소선은 ~~물결표시2개~~ 사용  \n",
    "밑줄은 <u>이렇게</u>"
   ]
  },
  {
   "cell_type": "markdown",
   "id": "d692c8a6",
   "metadata": {},
   "source": [
    "# 연산자\n",
    "\n",
    "- 몫과 나머지 전체 계산 : /\n",
    "- 몫 계산 : //\n",
    "- 나머지 계산 : %"
   ]
  },
  {
   "cell_type": "markdown",
   "id": "3617691b",
   "metadata": {},
   "source": [
    "# 리스트 기능\n",
    "\n",
    "- 추가:\n",
    "    - x.append(v) : v라는 값을 맨 뒤에 추가\n",
    "    - x.insert(i, v) : x[i] = v 를 수행\n",
    "- 제거:\n",
    "    - x.remove(v) : v라는 값을 찾아서 제거 ( 동일한 값이 있는 경우 가장 처음 값만 제거 됨 )\n",
    "    - x.pop(i) : x[i]값을 제거해서 반환해줌\n"
   ]
  },
  {
   "cell_type": "markdown",
   "id": "326ac204",
   "metadata": {},
   "source": [
    "# Dict 의 기능\n",
    "\n",
    "- dict는 key와 value로 이루어져있다.\n",
    "- dict.values() : dict의 value만 추출해 반환해준다.\n",
    "- key 와 value의 max값을 찾기 위해서는 아래와 같이 해야한다.\n",
    "    - key:\n",
    "        max(dict_name, key=dict_name.get)\n",
    "    - value:\n",
    "        max(dict_name.values())"
   ]
  },
  {
   "cell_type": "markdown",
   "id": "a5ca812e",
   "metadata": {},
   "source": [
    "# enumerate\n",
    "\n",
    "- dict와 같이 key와 value로 나눠져 있는 자료형을 다룰 때 유용하다\n",
    "- 주로 for문을 돌릴 때 사용한다"
   ]
  },
  {
   "cell_type": "code",
   "execution_count": 6,
   "id": "8db2f4d3",
   "metadata": {},
   "outputs": [
    {
     "name": "stdout",
     "output_type": "stream",
     "text": [
      "[30, 29, 31, 43, 32, 38]\n"
     ]
    }
   ],
   "source": [
    "a = {'Matt': 30, 'Katie': 29, 'Nik': 31, 'Jack': 43, 'Alison': 32, 'Kevin': 38}\n",
    "print(list(a.values()))"
   ]
  },
  {
   "cell_type": "code",
   "execution_count": null,
   "id": "09150447",
   "metadata": {},
   "outputs": [],
   "source": []
  }
 ],
 "metadata": {
  "kernelspec": {
   "display_name": "Python 3 (ipykernel)",
   "language": "python",
   "name": "python3"
  },
  "language_info": {
   "codemirror_mode": {
    "name": "ipython",
    "version": 3
   },
   "file_extension": ".py",
   "mimetype": "text/x-python",
   "name": "python",
   "nbconvert_exporter": "python",
   "pygments_lexer": "ipython3",
   "version": "3.9.12"
  }
 },
 "nbformat": 4,
 "nbformat_minor": 5
}
