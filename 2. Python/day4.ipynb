{
 "cells": [
  {
   "cell_type": "markdown",
   "id": "79d70ae9",
   "metadata": {},
   "source": [
    "실패율 문제"
   ]
  },
  {
   "cell_type": "markdown",
   "id": "488524bb",
   "metadata": {},
   "source": [
    "N = 5  \n",
    "stages = [2 1 2 6 2 4 3 3]  \n",
    "--> 도전자의 정보는 stages 담겨  \n",
    "도전자의 수 : len(stages)  \n",
    "\n",
    "\\[1번 스테이지\\]  \n",
    "참가자 : 8명 --> len(stages)  \n",
    "실패자 : 1명 --> stages 리스트에 값이 1인 친구 몇 개? --> 리스트.count(1)  \n",
    "실패율 : 1/8  \n",
    "다음 스테이지 참가자: 8 - 1 = 7\n",
    "\n",
    "\\[2번 스테이지\\]  \n",
    "참가자 : 7명 \\[1단계 참가자 - 1단계 실패자\\]  \n",
    "실패자 : 3명 --> stages 리스트에 값이 2인 친구 몇 개? --> 리스트.count(2)  \n",
    "실패율 : 3/7"
   ]
  },
  {
   "cell_type": "code",
   "execution_count": null,
   "id": "08a750ca",
   "metadata": {},
   "outputs": [],
   "source": [
    "N = 5\n",
    "stages = [2, 1, 2, 6, 2, 4, 3, 3]\n",
    "n = len(stages)\n",
    "\n",
    "participant = len(stages)\n",
    "failure = stages.count(1)\n",
    "filaure_late = failure/participant\n",
    "stages.pop(1)\n",
    "stages"
   ]
  },
  {
   "cell_type": "code",
   "execution_count": null,
   "id": "85aebee7",
   "metadata": {},
   "outputs": [],
   "source": [
    "# 0) 최종 정리할 변수 선언 : dict(s, F)\n",
    "\n",
    "# 1) 각 단계별로 실패율을 계산 --> 단계별로 맞물리면서\n",
    "#    큰 틀은 각 단계별로 "
   ]
  },
  {
   "cell_type": "code",
   "execution_count": null,
   "id": "34857350",
   "metadata": {},
   "outputs": [],
   "source": [
    "def solution(N, stages):\n",
    "    answer = []\n",
    "    \n",
    "    # 초기화 작업\n",
    "    fail_dict = {}\n",
    "    num_people = len(stages)\n",
    "\n",
    "    # 1) N스테이지 돌아가면서\n",
    "    for stage in range(1, N+1):\n",
    "        # n stage에서 뭐할지\n",
    "        fail_num = stages.counts(stage)\n",
    "        if num_people > 0:\n",
    "            fail_dict[stage] = fail_num / num_people\n",
    "        else:\n",
    "            fail_dict[stages] = 0\n",
    "        num_people -= fail_num\n",
    "        \n",
    "    # 2) 이제 계산한 자료를 정리\n",
    "    fail_list = sorted( fail_dict.items(), key = lambda x:x[1], reverse=True)\n",
    "    # 3) 문제에서 요구한 사항\n",
    "    answer = [ info[0] for info in fail_list ]\n",
    "    return answer"
   ]
  },
  {
   "cell_type": "code",
   "execution_count": null,
   "id": "00c1d647",
   "metadata": {},
   "outputs": [],
   "source": [
    "# 더 효율적이게\n",
    "def solution(N, stages):\n",
    "    answer = []\n",
    "    fail_dict = { i : 0 for i in range(1, N+1)}\n",
    "    num_people = len(stages)\n",
    "\n",
    "    for stage in range(1, N+1):\n",
    "        fail_num = stages.counts(stage)\n",
    "        if num_people > 0:\n",
    "            fail_dict[stage] = fail_num / num_people\n",
    "        else:\n",
    "            fail_dict[stages] = 0\n",
    "            break\n",
    "        num_people -= fail_num\n",
    "        \n",
    "    fail_list = sorted( fail_dict.items(), key = lambda x:x[1], reverse=True)\n",
    "    answer = [ info[0] for info in fail_list ]\n",
    "    return answer"
   ]
  },
  {
   "cell_type": "code",
   "execution_count": null,
   "id": "2a7186c8",
   "metadata": {},
   "outputs": [],
   "source": []
  },
  {
   "cell_type": "code",
   "execution_count": null,
   "id": "95439701",
   "metadata": {},
   "outputs": [],
   "source": []
  }
 ],
 "metadata": {
  "kernelspec": {
   "display_name": "Python 3 (ipykernel)",
   "language": "python",
   "name": "python3"
  },
  "language_info": {
   "codemirror_mode": {
    "name": "ipython",
    "version": 3
   },
   "file_extension": ".py",
   "mimetype": "text/x-python",
   "name": "python",
   "nbconvert_exporter": "python",
   "pygments_lexer": "ipython3",
   "version": "3.9.12"
  }
 },
 "nbformat": 4,
 "nbformat_minor": 5
}
