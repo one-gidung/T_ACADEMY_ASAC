{
 "cells": [
  {
   "cell_type": "code",
   "execution_count": 1,
   "id": "bcfb92ea",
   "metadata": {},
   "outputs": [],
   "source": [
    "import numpy as np\n",
    "import pandas as pd"
   ]
  },
  {
   "cell_type": "code",
   "execution_count": null,
   "id": "af7fa571",
   "metadata": {},
   "outputs": [],
   "source": [
    "# 기존의 방식 ) 인덱스 자리에 내가 필요한\n",
    "#               정수 인덱스, 내가 만든 인덱스\n"
   ]
  },
  {
   "cell_type": "code",
   "execution_count": null,
   "id": "b57059b2",
   "metadata": {},
   "outputs": [],
   "source": [
    "#  1개 at, iat\n",
    "#  여러개 loc, iloc"
   ]
  },
  {
   "cell_type": "code",
   "execution_count": 2,
   "id": "bfbdf6f5",
   "metadata": {},
   "outputs": [
    {
     "name": "stdout",
     "output_type": "stream",
     "text": [
      "[10000, 10300, 9900, 10500, 11000]\n",
      "[10000 10300  9900 10500 11000]\n",
      "0    10000\n",
      "1    10300\n",
      "2     9900\n",
      "3    10500\n",
      "4    11000\n",
      "dtype: int64\n"
     ]
    }
   ],
   "source": [
    "# 주식가격 리스트를 pandas series로 만들기.\n",
    "stock_price_list = [10000,10300,9900,10500,11000]\n",
    "stock_price_array = np.array(stock_price_list)\n",
    "stock_price_series = pd.Series(stock_price_list)\n",
    "\n",
    "print(stock_price_list)\n",
    "print(stock_price_array)\n",
    "print(stock_price_series)"
   ]
  },
  {
   "cell_type": "code",
   "execution_count": 3,
   "id": "3ac24e4c",
   "metadata": {},
   "outputs": [],
   "source": [
    "stock_price_Series_index = pd.Series(stock_price_list,\n",
    "                                    index=[\"2022-10-01\",\n",
    "                                           \"2022-10-02\",\n",
    "                                           \"2022-10-03\",\n",
    "                                           \"2022-10-04\",\n",
    "                                           \"2022-10-5\"])"
   ]
  },
  {
   "cell_type": "code",
   "execution_count": 4,
   "id": "7509d813",
   "metadata": {},
   "outputs": [
    {
     "data": {
      "text/plain": [
       "2022-10-01    10000\n",
       "2022-10-02    10300\n",
       "2022-10-03     9900\n",
       "2022-10-04    10500\n",
       "2022-10-5     11000\n",
       "dtype: int64"
      ]
     },
     "execution_count": 4,
     "metadata": {},
     "output_type": "execute_result"
    }
   ],
   "source": [
    "stock_price_Series_index"
   ]
  },
  {
   "cell_type": "code",
   "execution_count": 5,
   "id": "ed1e375f",
   "metadata": {},
   "outputs": [
    {
     "data": {
      "text/plain": [
       "10000"
      ]
     },
     "execution_count": 5,
     "metadata": {},
     "output_type": "execute_result"
    }
   ],
   "source": [
    "stock_price_Series_index.at['2022-10-01']"
   ]
  },
  {
   "cell_type": "code",
   "execution_count": 7,
   "id": "e91d1d58",
   "metadata": {},
   "outputs": [
    {
     "data": {
      "text/plain": [
       "10000"
      ]
     },
     "execution_count": 7,
     "metadata": {},
     "output_type": "execute_result"
    }
   ],
   "source": [
    "stock_price_Series_index[0]"
   ]
  },
  {
   "cell_type": "code",
   "execution_count": 8,
   "id": "a8340b80",
   "metadata": {},
   "outputs": [
    {
     "data": {
      "text/plain": [
       "10000"
      ]
     },
     "execution_count": 8,
     "metadata": {},
     "output_type": "execute_result"
    }
   ],
   "source": [
    "stock_price_Series_index.iat[0]"
   ]
  },
  {
   "cell_type": "code",
   "execution_count": 9,
   "id": "3c490364",
   "metadata": {},
   "outputs": [
    {
     "data": {
      "text/plain": [
       "10000"
      ]
     },
     "execution_count": 9,
     "metadata": {},
     "output_type": "execute_result"
    }
   ],
   "source": [
    "stock_price_Series_index.iloc[0]"
   ]
  },
  {
   "cell_type": "code",
   "execution_count": 10,
   "id": "eb41624e",
   "metadata": {},
   "outputs": [
    {
     "data": {
      "text/plain": [
       "2022-10-01    10000\n",
       "2022-10-02    10300\n",
       "2022-10-03     9900\n",
       "dtype: int64"
      ]
     },
     "execution_count": 10,
     "metadata": {},
     "output_type": "execute_result"
    }
   ],
   "source": [
    "stock_price_Series_index.iloc[0:3]"
   ]
  },
  {
   "cell_type": "code",
   "execution_count": 12,
   "id": "d0447f3f",
   "metadata": {},
   "outputs": [
    {
     "data": {
      "text/plain": [
       "2022-10-01    10000\n",
       "2022-10-02    10300\n",
       "2022-10-03     9900\n",
       "dtype: int64"
      ]
     },
     "execution_count": 12,
     "metadata": {},
     "output_type": "execute_result"
    }
   ],
   "source": [
    "stock_price_Series_index.loc[\"2022-10-01\":\"2022-10-03\"]"
   ]
  },
  {
   "cell_type": "code",
   "execution_count": 14,
   "id": "c22568b2",
   "metadata": {},
   "outputs": [
    {
     "data": {
      "text/plain": [
       "9900"
      ]
     },
     "execution_count": 14,
     "metadata": {},
     "output_type": "execute_result"
    }
   ],
   "source": [
    "stock_price_Series_index.min()"
   ]
  },
  {
   "cell_type": "code",
   "execution_count": 16,
   "id": "78adb8b6",
   "metadata": {},
   "outputs": [
    {
     "data": {
      "text/plain": [
       "11000"
      ]
     },
     "execution_count": 16,
     "metadata": {},
     "output_type": "execute_result"
    }
   ],
   "source": [
    "stock_price_Series_index.max()"
   ]
  },
  {
   "cell_type": "code",
   "execution_count": 17,
   "id": "a305add5",
   "metadata": {},
   "outputs": [
    {
     "data": {
      "text/plain": [
       "5"
      ]
     },
     "execution_count": 17,
     "metadata": {},
     "output_type": "execute_result"
    }
   ],
   "source": [
    "stock_price_Series_index.count()"
   ]
  },
  {
   "cell_type": "code",
   "execution_count": null,
   "id": "1f7010ef",
   "metadata": {},
   "outputs": [],
   "source": [
    "# pandas에서 데이터를 지우는 기능 drop\n",
    "# option\n",
    "# 가로 줄 제거 (rocord) : axis = 0\n",
    "# 세로 줄 제거(column) : axis = 1\n",
    "# inplace = True : 원본을 바꾼다\n",
    "# inplace = False : 당장의 출력값에서만 바꾼다 (default)"
   ]
  },
  {
   "cell_type": "code",
   "execution_count": null,
   "id": "cf096c8f",
   "metadata": {},
   "outputs": [],
   "source": [
    "# 세로 줄 제거\n",
    "# column명 기준\n",
    "# df.drop(column1, axis = 0)"
   ]
  },
  {
   "cell_type": "code",
   "execution_count": null,
   "id": "fabfd6a7",
   "metadata": {},
   "outputs": [],
   "source": [
    "# 가로 줄 제거\n",
    "# 인덱스 기준\n",
    "# df.drop(인덱스, axis = 1)"
   ]
  },
  {
   "cell_type": "code",
   "execution_count": null,
   "id": "46ca5424",
   "metadata": {},
   "outputs": [],
   "source": [
    "# 누락 되었다면 1번 컬럼은 0으로 채우고 2번 컬럼은 100으로 채우고 싶을 때\n",
    "# data.fillna( {1:0, 2:100} )"
   ]
  }
 ],
 "metadata": {
  "kernelspec": {
   "display_name": "Python 3 (ipykernel)",
   "language": "python",
   "name": "python3"
  },
  "language_info": {
   "codemirror_mode": {
    "name": "ipython",
    "version": 3
   },
   "file_extension": ".py",
   "mimetype": "text/x-python",
   "name": "python",
   "nbconvert_exporter": "python",
   "pygments_lexer": "ipython3",
   "version": "3.9.12"
  }
 },
 "nbformat": 4,
 "nbformat_minor": 5
}
