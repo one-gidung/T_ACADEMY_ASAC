{
 "cells": [
  {
   "cell_type": "markdown",
   "id": "da1134c7",
   "metadata": {},
   "source": [
    "# 계수 정렬 (Counting sort)"
   ]
  },
  {
   "cell_type": "code",
   "execution_count": 2,
   "id": "48eb1dbe",
   "metadata": {},
   "outputs": [
    {
     "name": "stdout",
     "output_type": "stream",
     "text": [
      "[3, 7, 1, 2, 3, 1, 2, 3, 1, 3] [0, 3, 2, 4, 0, 0, 0, 1] []\n",
      "[3, 7, 1, 2, 3, 1, 2, 3, 1, 3] [0, 0, 2, 4, 0, 0, 0, 1] [1, 1, 1]\n",
      "[3, 7, 1, 2, 3, 1, 2, 3, 1, 3] [0, 0, 0, 4, 0, 0, 0, 1] [1, 1, 1, 2, 2]\n",
      "[3, 7, 1, 2, 3, 1, 2, 3, 1, 3] [0, 0, 0, 0, 0, 0, 0, 1] [1, 1, 1, 2, 2, 3, 3, 3, 3]\n",
      "[3, 7, 1, 2, 3, 1, 2, 3, 1, 3] [0, 0, 0, 0, 0, 0, 0, 1] [1, 1, 1, 2, 2, 3, 3, 3, 3]\n",
      "[3, 7, 1, 2, 3, 1, 2, 3, 1, 3] [0, 0, 0, 0, 0, 0, 0, 1] [1, 1, 1, 2, 2, 3, 3, 3, 3]\n",
      "[3, 7, 1, 2, 3, 1, 2, 3, 1, 3] [0, 0, 0, 0, 0, 0, 0, 1] [1, 1, 1, 2, 2, 3, 3, 3, 3]\n",
      "[3, 7, 1, 2, 3, 1, 2, 3, 1, 3] [0, 0, 0, 0, 0, 0, 0, 0] [1, 1, 1, 2, 2, 3, 3, 3, 3, 7]\n",
      "[3, 7, 1, 2, 3, 1, 2, 3, 1, 3] [0, 0, 0, 0, 0, 0, 0, 0] [1, 1, 1, 2, 2, 3, 3, 3, 3, 7]\n",
      "[3, 7, 1, 2, 3, 1, 2, 3, 1, 3] [0, 0, 0, 0, 0, 0, 0, 0] [1, 1, 1, 2, 2, 3, 3, 3, 3, 7]\n"
     ]
    }
   ],
   "source": [
    "# count sort\n",
    "# 참고용\n",
    "\n",
    "listA = [3, 7, 1, 2, 3, 1, 2, 3, 1, 3]    ## input(unsorted) list\n",
    "listC = [0, 0, 0, 0, 0, 0, 0, 0]          ## count list\n",
    "listB = []\n",
    "\n",
    "num = 0\n",
    "while num < len(listA):\n",
    "    listC[listA[num]] = (listC[listA[num]]+1)\n",
    "    num = num + 1\n",
    "\n",
    "num = 0\n",
    "while num < len(listA):\n",
    "    while num < len(listC) and listC[num] > 0:\n",
    "        listB.append(num)\n",
    "        listC[num] = listC[num] - 1\n",
    "    num = num + 1\n",
    "    \n",
    "    print(listA, listC, listB)"
   ]
  },
  {
   "cell_type": "markdown",
   "id": "f664a93a",
   "metadata": {},
   "source": [
    "# 기수 정렬 (Radix sort)\n",
    "\n",
    "### 기수정렬의 예 MSB $->$ LSB"
   ]
  },
  {
   "cell_type": "code",
   "execution_count": null,
   "id": "3913f4c5",
   "metadata": {},
   "outputs": [],
   "source": []
  },
  {
   "cell_type": "code",
   "execution_count": null,
   "id": "f66221cb",
   "metadata": {},
   "outputs": [],
   "source": []
  },
  {
   "cell_type": "markdown",
   "id": "33f2574e",
   "metadata": {},
   "source": [
    "# 프림 알고리즘 (Prim's Algorithm)\n",
    "\n",
    "1. 인접 정점들 중에서 간선의 값이 가장 작은 정점을 찾는다.\n",
    "2. 찾은 정점을 추가했을 때 순환(cycle)이 있는지 검사한다.\n",
    "3. 순환이 있다면 순환이 없는 정점을 찾을 때까지 차례대로 검사한다.\n",
    "4. 순환하지 않는 정점을 찾으면 이를 완료된 정점에 추가한다.\n",
    "5. 모든 정점이 추가될 때까지 1-4를 반복한다."
   ]
  },
  {
   "cell_type": "markdown",
   "id": "2c1f866f",
   "metadata": {},
   "source": [
    "# 쿠루스칼 알고리즘 (Kruskal's Algorithm)"
   ]
  },
  {
   "cell_type": "code",
   "execution_count": null,
   "id": "82d4b8bb",
   "metadata": {},
   "outputs": [],
   "source": []
  },
  {
   "cell_type": "markdown",
   "id": "e33a58d1",
   "metadata": {},
   "source": [
    "# 그래프 기초 (Graph Basics)\n",
    "\n",
    "##### 그래프 G는  (V, E)의 쌍이다.\n",
    "- 이때 V는 정점(vertex)의 집합(set)이고 E는 간선(edge)의 집합이다.\n",
    "- 정점은 독립된 개체(Stand-alone object)로 동그라밍로 표현한다.\n",
    "- 간선은 두 정점을 잇는 개체로 선이나 화살표가 있는 선으로 표현한다.\n",
    "\n",
    "### 차수 (Degree)\n",
    "### 경로 (Path)\n",
    "- 길이(length): 경로가 거쳐가야 하는 간선의 수\n",
    "- 정점 u에서 v까지 경로가 있다면, v가 u에서 도달 가능하다고 한다.\n",
    "\n",
    "### 단순경로 (Simple path)\n",
    "- 단순 경로는 경로에 있는 모든 정점들이 서로 다른 경우이다.\n",
    "\n",
    "### 순환과 단일순환 (Cycle and simple cycle)\n",
    "- 경로 $<v_0, v_1, v_2, ..., v_k>$ 에서 $v_0 = v_k$라면 순환이 된다.\n",
    "\n",
    "### 비순환 그래프 (An acyclic graph)\n",
    "- 순환이 없는 그래프\n",
    "\n",
    "### 연결 그래프 (A connected graph)\n",
    "- 정점의 모든 쌍이 경로를 가지는 무방향성 그래프\n",
    "\n",
    "### 연결 요소 (Connected components)\n",
    "- 무방향성 그래프에서 정점들이 최대한 연결되어 있는 하위 그래프\n",
    "\n",
    "### 강한 연결 (Srtongly connected)\n",
    "\n",
    "### 완전 그래프 (A complete graph)\n",
    "- 무방향성 그래프에서 모든 정점의 쌍이 서로 인접하는 경우이다.\n",
    "\n",
    "### 트리 (Tree) : 연결된 비순환 무방향성 그래프\n",
    "##### (connected, acyclie, and undirected graph)"
   ]
  },
  {
   "cell_type": "code",
   "execution_count": null,
   "id": "a0db796f",
   "metadata": {},
   "outputs": [],
   "source": []
  },
  {
   "cell_type": "code",
   "execution_count": null,
   "id": "756adede",
   "metadata": {},
   "outputs": [],
   "source": []
  }
 ],
 "metadata": {
  "kernelspec": {
   "display_name": "Python 3 (ipykernel)",
   "language": "python",
   "name": "python3"
  },
  "language_info": {
   "codemirror_mode": {
    "name": "ipython",
    "version": 3
   },
   "file_extension": ".py",
   "mimetype": "text/x-python",
   "name": "python",
   "nbconvert_exporter": "python",
   "pygments_lexer": "ipython3",
   "version": "3.9.12"
  }
 },
 "nbformat": 4,
 "nbformat_minor": 5
}
