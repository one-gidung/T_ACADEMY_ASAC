{
 "cells": [
  {
   "cell_type": "code",
   "execution_count": 2,
   "id": "b21af980",
   "metadata": {},
   "outputs": [],
   "source": [
    "import pandas as pd\n",
    "import numpy as np\n",
    "import matplotlib.pyplot as plt"
   ]
  },
  {
   "cell_type": "code",
   "execution_count": 3,
   "id": "021ed5a3",
   "metadata": {},
   "outputs": [
    {
     "data": {
      "text/html": [
       "<div>\n",
       "<style scoped>\n",
       "    .dataframe tbody tr th:only-of-type {\n",
       "        vertical-align: middle;\n",
       "    }\n",
       "\n",
       "    .dataframe tbody tr th {\n",
       "        vertical-align: top;\n",
       "    }\n",
       "\n",
       "    .dataframe thead th {\n",
       "        text-align: right;\n",
       "    }\n",
       "</style>\n",
       "<table border=\"1\" class=\"dataframe\">\n",
       "  <thead>\n",
       "    <tr style=\"text-align: right;\">\n",
       "      <th></th>\n",
       "      <th>PassengerId</th>\n",
       "      <th>Survived</th>\n",
       "      <th>Pclass</th>\n",
       "      <th>Name</th>\n",
       "      <th>Sex</th>\n",
       "      <th>Age</th>\n",
       "      <th>SibSp</th>\n",
       "      <th>Parch</th>\n",
       "      <th>Ticket</th>\n",
       "      <th>Fare</th>\n",
       "      <th>Cabin</th>\n",
       "      <th>Embarked</th>\n",
       "    </tr>\n",
       "  </thead>\n",
       "  <tbody>\n",
       "    <tr>\n",
       "      <th>0</th>\n",
       "      <td>1</td>\n",
       "      <td>0</td>\n",
       "      <td>3</td>\n",
       "      <td>Braund, Mr. Owen Harris</td>\n",
       "      <td>male</td>\n",
       "      <td>22.0</td>\n",
       "      <td>1</td>\n",
       "      <td>0</td>\n",
       "      <td>A/5 21171</td>\n",
       "      <td>7.2500</td>\n",
       "      <td>NaN</td>\n",
       "      <td>S</td>\n",
       "    </tr>\n",
       "    <tr>\n",
       "      <th>1</th>\n",
       "      <td>2</td>\n",
       "      <td>1</td>\n",
       "      <td>1</td>\n",
       "      <td>Cumings, Mrs. John Bradley (Florence Briggs Th...</td>\n",
       "      <td>female</td>\n",
       "      <td>38.0</td>\n",
       "      <td>1</td>\n",
       "      <td>0</td>\n",
       "      <td>PC 17599</td>\n",
       "      <td>71.2833</td>\n",
       "      <td>C85</td>\n",
       "      <td>C</td>\n",
       "    </tr>\n",
       "    <tr>\n",
       "      <th>2</th>\n",
       "      <td>3</td>\n",
       "      <td>1</td>\n",
       "      <td>3</td>\n",
       "      <td>Heikkinen, Miss. Laina</td>\n",
       "      <td>female</td>\n",
       "      <td>26.0</td>\n",
       "      <td>0</td>\n",
       "      <td>0</td>\n",
       "      <td>STON/O2. 3101282</td>\n",
       "      <td>7.9250</td>\n",
       "      <td>NaN</td>\n",
       "      <td>S</td>\n",
       "    </tr>\n",
       "    <tr>\n",
       "      <th>3</th>\n",
       "      <td>4</td>\n",
       "      <td>1</td>\n",
       "      <td>1</td>\n",
       "      <td>Futrelle, Mrs. Jacques Heath (Lily May Peel)</td>\n",
       "      <td>female</td>\n",
       "      <td>35.0</td>\n",
       "      <td>1</td>\n",
       "      <td>0</td>\n",
       "      <td>113803</td>\n",
       "      <td>53.1000</td>\n",
       "      <td>C123</td>\n",
       "      <td>S</td>\n",
       "    </tr>\n",
       "    <tr>\n",
       "      <th>4</th>\n",
       "      <td>5</td>\n",
       "      <td>0</td>\n",
       "      <td>3</td>\n",
       "      <td>Allen, Mr. William Henry</td>\n",
       "      <td>male</td>\n",
       "      <td>35.0</td>\n",
       "      <td>0</td>\n",
       "      <td>0</td>\n",
       "      <td>373450</td>\n",
       "      <td>8.0500</td>\n",
       "      <td>NaN</td>\n",
       "      <td>S</td>\n",
       "    </tr>\n",
       "  </tbody>\n",
       "</table>\n",
       "</div>"
      ],
      "text/plain": [
       "   PassengerId  Survived  Pclass  \\\n",
       "0            1         0       3   \n",
       "1            2         1       1   \n",
       "2            3         1       3   \n",
       "3            4         1       1   \n",
       "4            5         0       3   \n",
       "\n",
       "                                                Name     Sex   Age  SibSp  \\\n",
       "0                            Braund, Mr. Owen Harris    male  22.0      1   \n",
       "1  Cumings, Mrs. John Bradley (Florence Briggs Th...  female  38.0      1   \n",
       "2                             Heikkinen, Miss. Laina  female  26.0      0   \n",
       "3       Futrelle, Mrs. Jacques Heath (Lily May Peel)  female  35.0      1   \n",
       "4                           Allen, Mr. William Henry    male  35.0      0   \n",
       "\n",
       "   Parch            Ticket     Fare Cabin Embarked  \n",
       "0      0         A/5 21171   7.2500   NaN        S  \n",
       "1      0          PC 17599  71.2833   C85        C  \n",
       "2      0  STON/O2. 3101282   7.9250   NaN        S  \n",
       "3      0            113803  53.1000  C123        S  \n",
       "4      0            373450   8.0500   NaN        S  "
      ]
     },
     "execution_count": 3,
     "metadata": {},
     "output_type": "execute_result"
    }
   ],
   "source": [
    "data = pd.read_csv(\"./data/train.csv\")\n",
    "data.head()"
   ]
  },
  {
   "cell_type": "code",
   "execution_count": 4,
   "id": "eedcc0d7",
   "metadata": {},
   "outputs": [
    {
     "name": "stdout",
     "output_type": "stream",
     "text": [
      "PassengerId: 0.0\n",
      "Survived: 0.0\n",
      "Pclass: 0.0\n",
      "Name: 0.0\n",
      "Sex: 0.0\n",
      "Age: 0.19865319865319866\n",
      "SibSp: 0.0\n",
      "Parch: 0.0\n",
      "Ticket: 0.0\n",
      "Fare: 0.0\n",
      "Cabin: 0.7710437710437711\n",
      "Embarked: 0.002244668911335578\n"
     ]
    }
   ],
   "source": [
    "# 1) 누락된 데이터가 있는지 확인!!!!!!\n",
    "for col in data.columns:\n",
    "    print(str(col)+\":\", data[col].isnull().sum()/len(data))"
   ]
  },
  {
   "cell_type": "code",
   "execution_count": 5,
   "id": "6a4df6f7",
   "metadata": {},
   "outputs": [],
   "source": [
    "# 빵구난 데이터 중에서 Age에 대해서 고민해보자"
   ]
  },
  {
   "cell_type": "code",
   "execution_count": 6,
   "id": "2fe8ffc2",
   "metadata": {},
   "outputs": [
    {
     "data": {
      "text/plain": [
       "<AxesSubplot:ylabel='Frequency'>"
      ]
     },
     "execution_count": 6,
     "metadata": {},
     "output_type": "execute_result"
    },
    {
     "data": {
      "image/png": "[encoded data removed]",
      "text/plain": [
       "<Figure size 432x288 with 1 Axes>"
      ]
     },
     "metadata": {
      "needs_background": "light"
     },
     "output_type": "display_data"
    }
   ],
   "source": [
    "data[\"Age\"].plot(kind=\"hist\")"
   ]
  },
  {
   "cell_type": "code",
   "execution_count": 7,
   "id": "94dd4d7c",
   "metadata": {},
   "outputs": [],
   "source": [
    "# Age 데이터 중에서 20% 정도가 누락\n",
    "# 그냥 제거를 해버리기엔 좀 많이 누락되었다\n",
    "# 채우자! --> 어떻게?\n",
    "# 일단 가장 노멀하게 평균 대표값으로 채운다"
   ]
  },
  {
   "cell_type": "code",
   "execution_count": 8,
   "id": "69d33355",
   "metadata": {},
   "outputs": [],
   "source": [
    "data[\"Age\"].fillna(data[\"Age\"].mean(), inplace=True)"
   ]
  },
  {
   "cell_type": "code",
   "execution_count": 9,
   "id": "2b5240f5",
   "metadata": {},
   "outputs": [
    {
     "data": {
      "text/plain": [
       "0"
      ]
     },
     "execution_count": 9,
     "metadata": {},
     "output_type": "execute_result"
    }
   ],
   "source": [
    "# 다 채워졌는지 확인한다\n",
    "data[\"Age\"].isnull().sum()"
   ]
  },
  {
   "cell_type": "code",
   "execution_count": 10,
   "id": "554d3aba",
   "metadata": {},
   "outputs": [],
   "source": [
    "# Cabin컬럼, Embarked컬럼에 대해서도 처리를 해야합니다...\n",
    "# 문자열의 값으로 누락되어 있는 변수들!!!!\n",
    "# ---> 새로운 문자열로 채운다!!!(N)"
   ]
  },
  {
   "cell_type": "code",
   "execution_count": 11,
   "id": "f0db4254",
   "metadata": {},
   "outputs": [],
   "source": [
    "data[\"Embarked\"].fillna(\"N\", inplace=True)"
   ]
  },
  {
   "cell_type": "code",
   "execution_count": 12,
   "id": "548cae71",
   "metadata": {},
   "outputs": [],
   "source": [
    "data[\"Cabin\"].fillna(\"N\", inplace=True)"
   ]
  },
  {
   "cell_type": "code",
   "execution_count": 13,
   "id": "d7e1b00c",
   "metadata": {},
   "outputs": [
    {
     "data": {
      "text/plain": [
       "0"
      ]
     },
     "execution_count": 13,
     "metadata": {},
     "output_type": "execute_result"
    }
   ],
   "source": [
    "data.isnull().sum().sum()"
   ]
  },
  {
   "cell_type": "code",
   "execution_count": 14,
   "id": "633db515",
   "metadata": {},
   "outputs": [
    {
     "name": "stdout",
     "output_type": "stream",
     "text": [
      "<class 'pandas.core.frame.DataFrame'>\n",
      "RangeIndex: 891 entries, 0 to 890\n",
      "Data columns (total 12 columns):\n",
      " #   Column       Non-Null Count  Dtype  \n",
      "---  ------       --------------  -----  \n",
      " 0   PassengerId  891 non-null    int64  \n",
      " 1   Survived     891 non-null    int64  \n",
      " 2   Pclass       891 non-null    int64  \n",
      " 3   Name         891 non-null    object \n",
      " 4   Sex          891 non-null    object \n",
      " 5   Age          891 non-null    float64\n",
      " 6   SibSp        891 non-null    int64  \n",
      " 7   Parch        891 non-null    int64  \n",
      " 8   Ticket       891 non-null    object \n",
      " 9   Fare         891 non-null    float64\n",
      " 10  Cabin        891 non-null    object \n",
      " 11  Embarked     891 non-null    object \n",
      "dtypes: float64(2), int64(5), object(5)\n",
      "memory usage: 83.7+ KB\n"
     ]
    }
   ],
   "source": [
    "# 빵구난 데이터가 다 없어졌는지 체크\n",
    "data.info()"
   ]
  },
  {
   "cell_type": "code",
   "execution_count": null,
   "id": "eb95c826",
   "metadata": {},
   "outputs": [],
   "source": [
    "# 2) 빵구난 데이터는 처리가 되었으니, 이제는\n",
    "#    학습을 위한 숫자로 변환!!!!! ---> 인코딩!!!"
   ]
  },
  {
   "cell_type": "code",
   "execution_count": null,
   "id": "bb730ee4",
   "metadata": {},
   "outputs": [],
   "source": [
    "# 인코딩 : 라벨인코딩 vs 원핫인코딩\n",
    "\n",
    "# 성별 : 남자, 연자 //초등,중등,고등\n",
    "# --> 라벨인코딩 : 항목의 종류에 따라서 숫자를 부여\n",
    "# 남자 :0, 여자 : 1 // 초등0, 중등1, 고등2\n",
    "# 컬럼의 수는 그대로!!!! 다만 값만 숫자로...\n",
    "\n",
    "# 남자 ,여자 ------> 원핫인코딩 ----> 남자냐,    여자냐\n",
    "# 남자                                  1           0\n",
    "# 여자                                  0           1\n",
    "# --> 종류가 늘어나면 컬러의 수가 증가!!!!\n",
    "#     데이터의 크기가 증가를 하는데,,,대부분의 영역이 0 :sparse\n",
    "#     너무 종류가 많으면 차원이 엄청 증가할 수 있다!!!!"
   ]
  },
  {
   "cell_type": "code",
   "execution_count": 15,
   "id": "e697efc3",
   "metadata": {},
   "outputs": [],
   "source": [
    "# 예) \n",
    "from sklearn.preprocessing import LabelEncoder"
   ]
  },
  {
   "cell_type": "code",
   "execution_count": 16,
   "id": "59d8765b",
   "metadata": {},
   "outputs": [
    {
     "data": {
      "text/plain": [
       "array([0, 1, 2, 0, 1])"
      ]
     },
     "execution_count": 16,
     "metadata": {},
     "output_type": "execute_result"
    }
   ],
   "source": [
    "items = [\"TV\",\"냉장고\",\"세탁기\",\"TV\",\"냉장고\"]\n",
    "label_enc = LabelEncoder()\n",
    "label_enc.fit(items)\n",
    "label_items = label_enc.transform(items)\n",
    "label_items"
   ]
  },
  {
   "cell_type": "code",
   "execution_count": 17,
   "id": "f1e9a617",
   "metadata": {},
   "outputs": [
    {
     "data": {
      "text/plain": [
       "array(['TV', '냉장고', '세탁기'], dtype='<U3')"
      ]
     },
     "execution_count": 17,
     "metadata": {},
     "output_type": "execute_result"
    }
   ],
   "source": [
    "label_enc.classes_"
   ]
  },
  {
   "cell_type": "code",
   "execution_count": 18,
   "id": "477bbe62",
   "metadata": {},
   "outputs": [
    {
     "data": {
      "text/plain": [
       "['TV', '냉장고', '커피포트', '냉장고']"
      ]
     },
     "execution_count": 18,
     "metadata": {},
     "output_type": "execute_result"
    }
   ],
   "source": [
    "# test 셋에는 전혀 train에 없는 값이 나타날 수 있음!!!\n",
    "# unseen data 문제 : 커피포트\n",
    "test_items = [\"TV\",\"냉장고\",\"커피포트\",\"냉장고\"]\n",
    "test_items"
   ]
  },
  {
   "cell_type": "code",
   "execution_count": 19,
   "id": "ebdde8a5",
   "metadata": {
    "scrolled": true
   },
   "outputs": [
    {
     "ename": "ValueError",
     "evalue": "y contains previously unseen labels: '커피포트'",
     "output_type": "error",
     "traceback": [
      "\u001b[1;31m---------------------------------------------------------------------------\u001b[0m",
      "\u001b[1;31mKeyError\u001b[0m                                  Traceback (most recent call last)",
      "File \u001b[1;32m~\\anaconda3\\lib\\site-packages\\sklearn\\utils\\_encode.py:182\u001b[0m, in \u001b[0;36m_encode\u001b[1;34m(values, uniques, check_unknown)\u001b[0m\n\u001b[0;32m    181\u001b[0m \u001b[38;5;28;01mtry\u001b[39;00m:\n\u001b[1;32m--> 182\u001b[0m     \u001b[38;5;28;01mreturn\u001b[39;00m \u001b[43m_map_to_integer\u001b[49m\u001b[43m(\u001b[49m\u001b[43mvalues\u001b[49m\u001b[43m,\u001b[49m\u001b[43m \u001b[49m\u001b[43muniques\u001b[49m\u001b[43m)\u001b[49m\n\u001b[0;32m    183\u001b[0m \u001b[38;5;28;01mexcept\u001b[39;00m \u001b[38;5;167;01mKeyError\u001b[39;00m \u001b[38;5;28;01mas\u001b[39;00m e:\n",
      "File \u001b[1;32m~\\anaconda3\\lib\\site-packages\\sklearn\\utils\\_encode.py:126\u001b[0m, in \u001b[0;36m_map_to_integer\u001b[1;34m(values, uniques)\u001b[0m\n\u001b[0;32m    125\u001b[0m table \u001b[38;5;241m=\u001b[39m _nandict({val: i \u001b[38;5;28;01mfor\u001b[39;00m i, val \u001b[38;5;129;01min\u001b[39;00m \u001b[38;5;28menumerate\u001b[39m(uniques)})\n\u001b[1;32m--> 126\u001b[0m \u001b[38;5;28;01mreturn\u001b[39;00m np\u001b[38;5;241m.\u001b[39marray([table[v] \u001b[38;5;28;01mfor\u001b[39;00m v \u001b[38;5;129;01min\u001b[39;00m values])\n",
      "File \u001b[1;32m~\\anaconda3\\lib\\site-packages\\sklearn\\utils\\_encode.py:126\u001b[0m, in \u001b[0;36m<listcomp>\u001b[1;34m(.0)\u001b[0m\n\u001b[0;32m    125\u001b[0m table \u001b[38;5;241m=\u001b[39m _nandict({val: i \u001b[38;5;28;01mfor\u001b[39;00m i, val \u001b[38;5;129;01min\u001b[39;00m \u001b[38;5;28menumerate\u001b[39m(uniques)})\n\u001b[1;32m--> 126\u001b[0m \u001b[38;5;28;01mreturn\u001b[39;00m np\u001b[38;5;241m.\u001b[39marray([\u001b[43mtable\u001b[49m\u001b[43m[\u001b[49m\u001b[43mv\u001b[49m\u001b[43m]\u001b[49m \u001b[38;5;28;01mfor\u001b[39;00m v \u001b[38;5;129;01min\u001b[39;00m values])\n",
      "File \u001b[1;32m~\\anaconda3\\lib\\site-packages\\sklearn\\utils\\_encode.py:120\u001b[0m, in \u001b[0;36m_nandict.__missing__\u001b[1;34m(self, key)\u001b[0m\n\u001b[0;32m    119\u001b[0m     \u001b[38;5;28;01mreturn\u001b[39;00m \u001b[38;5;28mself\u001b[39m\u001b[38;5;241m.\u001b[39mnan_value\n\u001b[1;32m--> 120\u001b[0m \u001b[38;5;28;01mraise\u001b[39;00m \u001b[38;5;167;01mKeyError\u001b[39;00m(key)\n",
      "\u001b[1;31mKeyError\u001b[0m: '커피포트'",
      "\nDuring handling of the above exception, another exception occurred:\n",
      "\u001b[1;31mValueError\u001b[0m                                Traceback (most recent call last)",
      "Input \u001b[1;32mIn [19]\u001b[0m, in \u001b[0;36m<cell line: 1>\u001b[1;34m()\u001b[0m\n\u001b[1;32m----> 1\u001b[0m \u001b[43mlabel_enc\u001b[49m\u001b[38;5;241;43m.\u001b[39;49m\u001b[43mtransform\u001b[49m\u001b[43m(\u001b[49m\u001b[43mtest_items\u001b[49m\u001b[43m)\u001b[49m\n",
      "File \u001b[1;32m~\\anaconda3\\lib\\site-packages\\sklearn\\preprocessing\\_label.py:138\u001b[0m, in \u001b[0;36mLabelEncoder.transform\u001b[1;34m(self, y)\u001b[0m\n\u001b[0;32m    135\u001b[0m \u001b[38;5;28;01mif\u001b[39;00m _num_samples(y) \u001b[38;5;241m==\u001b[39m \u001b[38;5;241m0\u001b[39m:\n\u001b[0;32m    136\u001b[0m     \u001b[38;5;28;01mreturn\u001b[39;00m np\u001b[38;5;241m.\u001b[39marray([])\n\u001b[1;32m--> 138\u001b[0m \u001b[38;5;28;01mreturn\u001b[39;00m \u001b[43m_encode\u001b[49m\u001b[43m(\u001b[49m\u001b[43my\u001b[49m\u001b[43m,\u001b[49m\u001b[43m \u001b[49m\u001b[43muniques\u001b[49m\u001b[38;5;241;43m=\u001b[39;49m\u001b[38;5;28;43mself\u001b[39;49m\u001b[38;5;241;43m.\u001b[39;49m\u001b[43mclasses_\u001b[49m\u001b[43m)\u001b[49m\n",
      "File \u001b[1;32m~\\anaconda3\\lib\\site-packages\\sklearn\\utils\\_encode.py:184\u001b[0m, in \u001b[0;36m_encode\u001b[1;34m(values, uniques, check_unknown)\u001b[0m\n\u001b[0;32m    182\u001b[0m         \u001b[38;5;28;01mreturn\u001b[39;00m _map_to_integer(values, uniques)\n\u001b[0;32m    183\u001b[0m     \u001b[38;5;28;01mexcept\u001b[39;00m \u001b[38;5;167;01mKeyError\u001b[39;00m \u001b[38;5;28;01mas\u001b[39;00m e:\n\u001b[1;32m--> 184\u001b[0m         \u001b[38;5;28;01mraise\u001b[39;00m \u001b[38;5;167;01mValueError\u001b[39;00m(\u001b[38;5;124mf\u001b[39m\u001b[38;5;124m\"\u001b[39m\u001b[38;5;124my contains previously unseen labels: \u001b[39m\u001b[38;5;132;01m{\u001b[39;00m\u001b[38;5;28mstr\u001b[39m(e)\u001b[38;5;132;01m}\u001b[39;00m\u001b[38;5;124m\"\u001b[39m)\n\u001b[0;32m    185\u001b[0m \u001b[38;5;28;01melse\u001b[39;00m:\n\u001b[0;32m    186\u001b[0m     \u001b[38;5;28;01mif\u001b[39;00m check_unknown:\n",
      "\u001b[1;31mValueError\u001b[0m: y contains previously unseen labels: '커피포트'"
     ]
    }
   ],
   "source": [
    "label_enc.transform(test_items)"
   ]
  },
  {
   "cell_type": "code",
   "execution_count": null,
   "id": "89da7922",
   "metadata": {},
   "outputs": [],
   "source": [
    "# 그러면 이렇게 새로운 값들이 나타나면 어떻게 하지;;;;;?????"
   ]
  },
  {
   "cell_type": "code",
   "execution_count": 20,
   "id": "47efd7ca",
   "metadata": {},
   "outputs": [
    {
     "data": {
      "text/plain": [
       "array([0, 1, 3, 1])"
      ]
     },
     "execution_count": 20,
     "metadata": {},
     "output_type": "execute_result"
    }
   ],
   "source": [
    "# 1) 기존 변환률에 대한 종류를 리스트업하고, 갱신!!!\n",
    "prev_class = list(label_enc.classes_)\n",
    "# 2) unseen data가 나타나면 classes에 추가...\n",
    "for label in np.unique(test_items):\n",
    "    if label not in prev_class:\n",
    "        prev_class.append(label) # <- 뒤로 새로운 값을 추가\n",
    "# 왜냐 앞으로 넣으면 기존의 0이 TV인데, 0 커피포트로 혼선!!!!\n",
    "# 3) 기존의 값과 새로 나타난 것을 합쳐서...\n",
    "label_enc.classes_ = np.array(prev_class)\n",
    "label_enc.transform(test_items)"
   ]
  },
  {
   "cell_type": "code",
   "execution_count": 21,
   "id": "eab2e6d4",
   "metadata": {},
   "outputs": [],
   "source": [
    "# 원핫인코딩~~~\n",
    "# scikit-learn에서는 1단계) 라벨인코딩 --> 2단계) 원핫인코딩\n",
    "from sklearn.preprocessing import LabelEncoder\n",
    "from sklearn.preprocessing import OneHotEncoder\n",
    "# 원핫인코딩을 하기 위해서는 위의 2개 라벨인코더/원핫인코더 모두 필요.."
   ]
  },
  {
   "cell_type": "code",
   "execution_count": 22,
   "id": "06fb2723",
   "metadata": {},
   "outputs": [
    {
     "name": "stdout",
     "output_type": "stream",
     "text": [
      "라벨인코딩결과: [0 1 2 0 1]\n"
     ]
    },
    {
     "data": {
      "text/plain": [
       "<5x3 sparse matrix of type '<class 'numpy.float64'>'\n",
       "\twith 5 stored elements in Compressed Sparse Row format>"
      ]
     },
     "execution_count": 22,
     "metadata": {},
     "output_type": "execute_result"
    }
   ],
   "source": [
    "# 1단계) 라벨인코딩을 먼저 수행\n",
    "label_enc = LabelEncoder()\n",
    "label_enc.fit(items)\n",
    "label_items = label_enc.transform(items)\n",
    "print(\"라벨인코딩결과:\", label_items)\n",
    "# 2단계 원핫인코딩 : 1단계 결과를 가지고...\n",
    "oh_enc = OneHotEncoder()\n",
    "oh_label_items = label_items.reshape(-1,1) # <- DL : Shape 변경\n",
    "oh_label_labels = oh_enc.fit_transform(oh_label_items)\n",
    "oh_label_labels"
   ]
  },
  {
   "cell_type": "code",
   "execution_count": 23,
   "id": "4e25db06",
   "metadata": {},
   "outputs": [
    {
     "data": {
      "text/plain": [
       "array([[1., 0., 0.],\n",
       "       [0., 1., 0.],\n",
       "       [0., 0., 1.],\n",
       "       [1., 0., 0.],\n",
       "       [0., 1., 0.]])"
      ]
     },
     "execution_count": 23,
     "metadata": {},
     "output_type": "execute_result"
    }
   ],
   "source": [
    "oh_label_labels.toarray()"
   ]
  },
  {
   "cell_type": "code",
   "execution_count": 24,
   "id": "866a4a37",
   "metadata": {},
   "outputs": [
    {
     "data": {
      "text/plain": [
       "array([[0],\n",
       "       [1],\n",
       "       [2],\n",
       "       [0],\n",
       "       [1]])"
      ]
     },
     "execution_count": 24,
     "metadata": {},
     "output_type": "execute_result"
    }
   ],
   "source": [
    "label_items.reshape(-1,1)"
   ]
  },
  {
   "cell_type": "code",
   "execution_count": null,
   "id": "e49f8c60",
   "metadata": {},
   "outputs": [],
   "source": [
    "# scaling 관련\n",
    "# min/max, standarScler"
   ]
  },
  {
   "cell_type": "code",
   "execution_count": null,
   "id": "703b7d34",
   "metadata": {},
   "outputs": [],
   "source": [
    "### 전처리들에 대한 함수화!!!!---> scikit-learn pieline\n",
    "#  함수로 만들면,,,,함수만 수정."
   ]
  },
  {
   "cell_type": "code",
   "execution_count": null,
   "id": "62216a2a",
   "metadata": {},
   "outputs": [],
   "source": [
    "# 1) 전처리 : 인코딩을 부분을 함수\n",
    "#    입력 : DF전체를 받아서.\n",
    "#    수행 : 내가 원하는 커럶에 인코딩\n",
    "#    출력 : 인코딩이 된 DF"
   ]
  },
  {
   "cell_type": "code",
   "execution_count": 25,
   "id": "eb673186",
   "metadata": {},
   "outputs": [
    {
     "name": "stdout",
     "output_type": "stream",
     "text": [
      "<class 'pandas.core.frame.DataFrame'>\n",
      "RangeIndex: 891 entries, 0 to 890\n",
      "Data columns (total 12 columns):\n",
      " #   Column       Non-Null Count  Dtype  \n",
      "---  ------       --------------  -----  \n",
      " 0   PassengerId  891 non-null    int64  \n",
      " 1   Survived     891 non-null    int64  \n",
      " 2   Pclass       891 non-null    int64  \n",
      " 3   Name         891 non-null    object \n",
      " 4   Sex          891 non-null    object \n",
      " 5   Age          891 non-null    float64\n",
      " 6   SibSp        891 non-null    int64  \n",
      " 7   Parch        891 non-null    int64  \n",
      " 8   Ticket       891 non-null    object \n",
      " 9   Fare         891 non-null    float64\n",
      " 10  Cabin        891 non-null    object \n",
      " 11  Embarked     891 non-null    object \n",
      "dtypes: float64(2), int64(5), object(5)\n",
      "memory usage: 83.7+ KB\n"
     ]
    }
   ],
   "source": [
    "data.info()"
   ]
  },
  {
   "cell_type": "code",
   "execution_count": 26,
   "id": "e2206c7d",
   "metadata": {},
   "outputs": [],
   "source": [
    "def encode_feature(df):\n",
    "    # cabin : 너무 종류가 많습니다 --> 앞자리 1개만 \n",
    "    df.loc[:, \"Cabin\"] = df.loc[:, \"Cabin\"].apply(lambda x: str(x)[:1])\n",
    "    # 인코딩을 하려는 컬럼을 리스트업\n",
    "    features = [\"Cabin\",\"Sex\",\"Embarked\"]\n",
    "    # 위의 컬럼들을 인코딩....\n",
    "    for f in features:\n",
    "        le = LabelEncoder()\n",
    "        le.fit(df.loc[:,f])\n",
    "        df.loc[:,f] = le.transform(df.loc[:,f])\n",
    "    return df"
   ]
  },
  {
   "cell_type": "code",
   "execution_count": 27,
   "id": "1660b30d",
   "metadata": {},
   "outputs": [],
   "source": [
    "# 2) 빵구난데이터들에 대한 체크 함수\n",
    "# Age, Cabin, Embarked, Fare\n",
    "# 입력: df ---> 누락처리 --> 출력:df\n",
    "def check_fillna(df):\n",
    "    df[\"Age\"].fillna(df[\"Age\"].mean(), inplace=True)\n",
    "    df[\"Cabin\"].fillna(\"N\",inplace=True)\n",
    "    df[\"Embarked\"].fillna(\"N\", inplace=True)\n",
    "    df[\"Fare\"].fillna(0, inplace=True)\n",
    "    return df"
   ]
  },
  {
   "cell_type": "code",
   "execution_count": 28,
   "id": "a3cffef0",
   "metadata": {},
   "outputs": [],
   "source": [
    "# 불필요한 컬럼 제거 함수\n",
    "# df--> 컬럼제거 --> df\n",
    "def drop_features(df):\n",
    "    df.drop([\"PassengerId\", \"Name\",\"Ticket\"], axis=1, inplace=True)\n",
    "    return df"
   ]
  },
  {
   "cell_type": "code",
   "execution_count": 29,
   "id": "0a852fa9",
   "metadata": {},
   "outputs": [],
   "source": [
    "#### 전처리를 함수화를 프로세스로..\n",
    "def titanic_preprocess(df):\n",
    "    df = check_fillna(df)\n",
    "    df = drop_features(df)\n",
    "    df = encode_feature(df)\n",
    "    return df\n",
    "#######"
   ]
  },
  {
   "cell_type": "code",
   "execution_count": null,
   "id": "ddc227ab",
   "metadata": {},
   "outputs": [],
   "source": [
    "#############################################"
   ]
  },
  {
   "cell_type": "code",
   "execution_count": 31,
   "id": "ae1ea178",
   "metadata": {},
   "outputs": [
    {
     "data": {
      "text/html": [
       "<div>\n",
       "<style scoped>\n",
       "    .dataframe tbody tr th:only-of-type {\n",
       "        vertical-align: middle;\n",
       "    }\n",
       "\n",
       "    .dataframe tbody tr th {\n",
       "        vertical-align: top;\n",
       "    }\n",
       "\n",
       "    .dataframe thead th {\n",
       "        text-align: right;\n",
       "    }\n",
       "</style>\n",
       "<table border=\"1\" class=\"dataframe\">\n",
       "  <thead>\n",
       "    <tr style=\"text-align: right;\">\n",
       "      <th></th>\n",
       "      <th>PassengerId</th>\n",
       "      <th>Survived</th>\n",
       "      <th>Pclass</th>\n",
       "      <th>Name</th>\n",
       "      <th>Sex</th>\n",
       "      <th>Age</th>\n",
       "      <th>SibSp</th>\n",
       "      <th>Parch</th>\n",
       "      <th>Ticket</th>\n",
       "      <th>Fare</th>\n",
       "      <th>Cabin</th>\n",
       "      <th>Embarked</th>\n",
       "    </tr>\n",
       "  </thead>\n",
       "  <tbody>\n",
       "    <tr>\n",
       "      <th>0</th>\n",
       "      <td>1</td>\n",
       "      <td>0</td>\n",
       "      <td>3</td>\n",
       "      <td>Braund, Mr. Owen Harris</td>\n",
       "      <td>male</td>\n",
       "      <td>22.0</td>\n",
       "      <td>1</td>\n",
       "      <td>0</td>\n",
       "      <td>A/5 21171</td>\n",
       "      <td>7.2500</td>\n",
       "      <td>NaN</td>\n",
       "      <td>S</td>\n",
       "    </tr>\n",
       "    <tr>\n",
       "      <th>1</th>\n",
       "      <td>2</td>\n",
       "      <td>1</td>\n",
       "      <td>1</td>\n",
       "      <td>Cumings, Mrs. John Bradley (Florence Briggs Th...</td>\n",
       "      <td>female</td>\n",
       "      <td>38.0</td>\n",
       "      <td>1</td>\n",
       "      <td>0</td>\n",
       "      <td>PC 17599</td>\n",
       "      <td>71.2833</td>\n",
       "      <td>C85</td>\n",
       "      <td>C</td>\n",
       "    </tr>\n",
       "    <tr>\n",
       "      <th>2</th>\n",
       "      <td>3</td>\n",
       "      <td>1</td>\n",
       "      <td>3</td>\n",
       "      <td>Heikkinen, Miss. Laina</td>\n",
       "      <td>female</td>\n",
       "      <td>26.0</td>\n",
       "      <td>0</td>\n",
       "      <td>0</td>\n",
       "      <td>STON/O2. 3101282</td>\n",
       "      <td>7.9250</td>\n",
       "      <td>NaN</td>\n",
       "      <td>S</td>\n",
       "    </tr>\n",
       "    <tr>\n",
       "      <th>3</th>\n",
       "      <td>4</td>\n",
       "      <td>1</td>\n",
       "      <td>1</td>\n",
       "      <td>Futrelle, Mrs. Jacques Heath (Lily May Peel)</td>\n",
       "      <td>female</td>\n",
       "      <td>35.0</td>\n",
       "      <td>1</td>\n",
       "      <td>0</td>\n",
       "      <td>113803</td>\n",
       "      <td>53.1000</td>\n",
       "      <td>C123</td>\n",
       "      <td>S</td>\n",
       "    </tr>\n",
       "    <tr>\n",
       "      <th>4</th>\n",
       "      <td>5</td>\n",
       "      <td>0</td>\n",
       "      <td>3</td>\n",
       "      <td>Allen, Mr. William Henry</td>\n",
       "      <td>male</td>\n",
       "      <td>35.0</td>\n",
       "      <td>0</td>\n",
       "      <td>0</td>\n",
       "      <td>373450</td>\n",
       "      <td>8.0500</td>\n",
       "      <td>NaN</td>\n",
       "      <td>S</td>\n",
       "    </tr>\n",
       "  </tbody>\n",
       "</table>\n",
       "</div>"
      ],
      "text/plain": [
       "   PassengerId  Survived  Pclass  \\\n",
       "0            1         0       3   \n",
       "1            2         1       1   \n",
       "2            3         1       3   \n",
       "3            4         1       1   \n",
       "4            5         0       3   \n",
       "\n",
       "                                                Name     Sex   Age  SibSp  \\\n",
       "0                            Braund, Mr. Owen Harris    male  22.0      1   \n",
       "1  Cumings, Mrs. John Bradley (Florence Briggs Th...  female  38.0      1   \n",
       "2                             Heikkinen, Miss. Laina  female  26.0      0   \n",
       "3       Futrelle, Mrs. Jacques Heath (Lily May Peel)  female  35.0      1   \n",
       "4                           Allen, Mr. William Henry    male  35.0      0   \n",
       "\n",
       "   Parch            Ticket     Fare Cabin Embarked  \n",
       "0      0         A/5 21171   7.2500   NaN        S  \n",
       "1      0          PC 17599  71.2833   C85        C  \n",
       "2      0  STON/O2. 3101282   7.9250   NaN        S  \n",
       "3      0            113803  53.1000  C123        S  \n",
       "4      0            373450   8.0500   NaN        S  "
      ]
     },
     "execution_count": 31,
     "metadata": {},
     "output_type": "execute_result"
    }
   ],
   "source": [
    "path = \"./data/train.csv\"\n",
    "data = pd.read_csv(path)\n",
    "data.head()"
   ]
  },
  {
   "cell_type": "code",
   "execution_count": 32,
   "id": "864ce54c",
   "metadata": {},
   "outputs": [
    {
     "name": "stdout",
     "output_type": "stream",
     "text": [
      "<class 'pandas.core.frame.DataFrame'>\n",
      "RangeIndex: 891 entries, 0 to 890\n",
      "Data columns (total 11 columns):\n",
      " #   Column       Non-Null Count  Dtype  \n",
      "---  ------       --------------  -----  \n",
      " 0   PassengerId  891 non-null    int64  \n",
      " 1   Pclass       891 non-null    int64  \n",
      " 2   Name         891 non-null    object \n",
      " 3   Sex          891 non-null    object \n",
      " 4   Age          714 non-null    float64\n",
      " 5   SibSp        891 non-null    int64  \n",
      " 6   Parch        891 non-null    int64  \n",
      " 7   Ticket       891 non-null    object \n",
      " 8   Fare         891 non-null    float64\n",
      " 9   Cabin        204 non-null    object \n",
      " 10  Embarked     889 non-null    object \n",
      "dtypes: float64(2), int64(4), object(5)\n",
      "memory usage: 76.7+ KB\n"
     ]
    }
   ],
   "source": [
    "# 정답지와 문제지를 분리!!!!\n",
    "y_titanic = data.loc[:, \"Survived\"]\n",
    "X_titanic = data.drop(\"Survived\", axis = 1)\n",
    "X_titanic.info()"
   ]
  },
  {
   "cell_type": "code",
   "execution_count": 33,
   "id": "cc35fe3f",
   "metadata": {},
   "outputs": [
    {
     "name": "stdout",
     "output_type": "stream",
     "text": [
      "<class 'pandas.core.frame.DataFrame'>\n",
      "RangeIndex: 891 entries, 0 to 890\n",
      "Data columns (total 8 columns):\n",
      " #   Column    Non-Null Count  Dtype  \n",
      "---  ------    --------------  -----  \n",
      " 0   Pclass    891 non-null    int64  \n",
      " 1   Sex       891 non-null    int32  \n",
      " 2   Age       891 non-null    float64\n",
      " 3   SibSp     891 non-null    int64  \n",
      " 4   Parch     891 non-null    int64  \n",
      " 5   Fare      891 non-null    float64\n",
      " 6   Cabin     891 non-null    int32  \n",
      " 7   Embarked  891 non-null    int32  \n",
      "dtypes: float64(2), int32(3), int64(3)\n",
      "memory usage: 45.4 KB\n"
     ]
    }
   ],
   "source": [
    "X_titanic = titanic_preprocess(X_titanic)\n",
    "X_titanic.info()"
   ]
  },
  {
   "cell_type": "code",
   "execution_count": null,
   "id": "31782d77",
   "metadata": {},
   "outputs": [],
   "source": [
    "### train을 가지고 자체적으로 검증을 위해서 셋을 분리\n",
    "#  test---> validation"
   ]
  },
  {
   "cell_type": "code",
   "execution_count": 34,
   "id": "e0fe5fa5",
   "metadata": {},
   "outputs": [],
   "source": [
    "from sklearn.model_selection import train_test_split"
   ]
  },
  {
   "cell_type": "code",
   "execution_count": 35,
   "id": "c9de80a2",
   "metadata": {},
   "outputs": [
    {
     "data": {
      "text/plain": [
       "0    0.616162\n",
       "1    0.383838\n",
       "Name: Survived, dtype: float64"
      ]
     },
     "execution_count": 35,
     "metadata": {},
     "output_type": "execute_result"
    }
   ],
   "source": [
    "y_titanic.value_counts()/len(y_titanic)"
   ]
  },
  {
   "cell_type": "code",
   "execution_count": 36,
   "id": "579c4df0",
   "metadata": {},
   "outputs": [],
   "source": [
    "X_train, X_test, y_train, y_test = train_test_split(\n",
    "    X_titanic,y_titanic, test_size = 0.2, random_state=1234,\n",
    "    stratify=y_titanic\n",
    ")"
   ]
  },
  {
   "cell_type": "code",
   "execution_count": 37,
   "id": "792f1bac",
   "metadata": {},
   "outputs": [
    {
     "data": {
      "text/plain": [
       "0    0.616573\n",
       "1    0.383427\n",
       "Name: Survived, dtype: float64"
      ]
     },
     "execution_count": 37,
     "metadata": {},
     "output_type": "execute_result"
    }
   ],
   "source": [
    "y_train.value_counts()/len(y_train)"
   ]
  },
  {
   "cell_type": "code",
   "execution_count": 38,
   "id": "5c3e9ce7",
   "metadata": {},
   "outputs": [
    {
     "data": {
      "text/plain": [
       "0    0.614525\n",
       "1    0.385475\n",
       "Name: Survived, dtype: float64"
      ]
     },
     "execution_count": 38,
     "metadata": {},
     "output_type": "execute_result"
    }
   ],
   "source": [
    "y_test.value_counts()/len(y_test)"
   ]
  },
  {
   "cell_type": "code",
   "execution_count": 39,
   "id": "315ff0d1",
   "metadata": {},
   "outputs": [],
   "source": [
    "######## 주어진 train에 대해서 k-fold CV를 하려고 할때 고정!!!"
   ]
  },
  {
   "cell_type": "code",
   "execution_count": null,
   "id": "092ee2fa",
   "metadata": {},
   "outputs": [],
   "source": [
    "# 1) 일반적인 K-Fold"
   ]
  },
  {
   "cell_type": "code",
   "execution_count": 40,
   "id": "4bc32239",
   "metadata": {},
   "outputs": [],
   "source": [
    "from sklearn.model_selection import KFold"
   ]
  },
  {
   "cell_type": "code",
   "execution_count": 41,
   "id": "4dc8f453",
   "metadata": {},
   "outputs": [],
   "source": [
    "kfold = KFold(n_splits=5, random_state=1234, shuffle=True)"
   ]
  },
  {
   "cell_type": "code",
   "execution_count": 42,
   "id": "1bd2e8cf",
   "metadata": {},
   "outputs": [
    {
     "name": "stdout",
     "output_type": "stream",
     "text": [
      "0번째 구분: train용 데이터[ 0  1  2  3  4  5  6  8  9 10],검증용[ 7 11 21 24 28 29 58 60 61 64]\n",
      "1번째 구분: train용 데이터[ 0  1  2  3  4  5  6  7  9 10],검증용[ 8 13 20 27 34 39 40 44 47 50]\n",
      "2번째 구분: train용 데이터[ 1  3  4  5  7  8  9 10 11 12],검증용[ 0  2  6 17 19 22 25 33 35 36]\n",
      "3번째 구분: train용 데이터[ 0  1  2  3  4  6  7  8 10 11],검증용[ 5  9 12 16 23 31 32 42 48 49]\n",
      "4번째 구분: train용 데이터[ 0  2  5  6  7  8  9 11 12 13],검증용[ 1  3  4 10 14 15 18 26 30 41]\n"
     ]
    }
   ],
   "source": [
    "for idx, (x_tr, x_val) in enumerate(kfold.split(X_train, y_train)):\n",
    "    print(str(idx) +\"번째 구분: train용 데이터\"+str(x_tr[:10])+\",검증용\"+str(x_val[:10]))"
   ]
  },
  {
   "cell_type": "code",
   "execution_count": 43,
   "id": "215f8718",
   "metadata": {},
   "outputs": [
    {
     "name": "stdout",
     "output_type": "stream",
     "text": [
      "0    0.643357\n",
      "1    0.356643\n",
      "Name: Survived, dtype: float64\n",
      "----\n",
      "0    0.58042\n",
      "1    0.41958\n",
      "Name: Survived, dtype: float64\n",
      "----\n",
      "0    0.647887\n",
      "1    0.352113\n",
      "Name: Survived, dtype: float64\n",
      "----\n",
      "0    0.605634\n",
      "1    0.394366\n",
      "Name: Survived, dtype: float64\n",
      "----\n",
      "0    0.605634\n",
      "1    0.394366\n",
      "Name: Survived, dtype: float64\n",
      "----\n"
     ]
    }
   ],
   "source": [
    "for idx, (x_tr, x_val) in enumerate(kfold.split(X_train, y_train)):\n",
    "    print(y_train.iloc[x_val].value_counts(normalize=True))\n",
    "    print(\"----\")"
   ]
  },
  {
   "cell_type": "code",
   "execution_count": 46,
   "id": "aa8cc27e",
   "metadata": {},
   "outputs": [],
   "source": [
    "# 2) Stratified K-Fold"
   ]
  },
  {
   "cell_type": "code",
   "execution_count": 47,
   "id": "3af4ddd9",
   "metadata": {},
   "outputs": [],
   "source": [
    "from sklearn.model_selection import StratifiedKFold"
   ]
  },
  {
   "cell_type": "code",
   "execution_count": 48,
   "id": "e2e02a00",
   "metadata": {},
   "outputs": [],
   "source": [
    "str_kfold = StratifiedKFold(n_splits=5, random_state=1234, shuffle=True)"
   ]
  },
  {
   "cell_type": "code",
   "execution_count": 49,
   "id": "da9b84a2",
   "metadata": {},
   "outputs": [
    {
     "name": "stdout",
     "output_type": "stream",
     "text": [
      "0    0.615385\n",
      "1    0.384615\n",
      "Name: Survived, dtype: float64\n",
      "----\n",
      "0    0.615385\n",
      "1    0.384615\n",
      "Name: Survived, dtype: float64\n",
      "----\n",
      "0    0.619718\n",
      "1    0.380282\n",
      "Name: Survived, dtype: float64\n",
      "----\n",
      "0    0.619718\n",
      "1    0.380282\n",
      "Name: Survived, dtype: float64\n",
      "----\n",
      "0    0.612676\n",
      "1    0.387324\n",
      "Name: Survived, dtype: float64\n",
      "----\n"
     ]
    }
   ],
   "source": [
    "for idx, (x_tr, x_val) in enumerate(str_kfold.split(X_train, y_train)):\n",
    "    print(y_train.iloc[x_val].value_counts(normalize=True))\n",
    "    print(\"----\")"
   ]
  },
  {
   "cell_type": "code",
   "execution_count": 50,
   "id": "e005b9b3",
   "metadata": {},
   "outputs": [],
   "source": [
    "# 3) reopeated K-Fold # --> 데이터가 좀 부족할 때 "
   ]
  },
  {
   "cell_type": "code",
   "execution_count": 51,
   "id": "b31d05d7",
   "metadata": {},
   "outputs": [],
   "source": [
    "from sklearn.model_selection import RepeatedKFold"
   ]
  },
  {
   "cell_type": "code",
   "execution_count": 52,
   "id": "db93c6ca",
   "metadata": {},
   "outputs": [],
   "source": [
    "rkfold = RepeatedKFold(n_splits=5, random_state=1234, n_repeats=10)"
   ]
  },
  {
   "cell_type": "code",
   "execution_count": 53,
   "id": "fc33ba57",
   "metadata": {},
   "outputs": [],
   "source": [
    "# 4) Repeated Stratified K-Fold -> 데이터부족 & 비율!!!"
   ]
  },
  {
   "cell_type": "code",
   "execution_count": 54,
   "id": "0857e4c9",
   "metadata": {},
   "outputs": [],
   "source": [
    "from sklearn.model_selection import RepeatedStratifiedKFold"
   ]
  },
  {
   "cell_type": "code",
   "execution_count": 55,
   "id": "35148048",
   "metadata": {},
   "outputs": [],
   "source": [
    "rskfold = RepeatedStratifiedKFold(n_splits=5, random_state=1234, n_repeats=10)"
   ]
  },
  {
   "cell_type": "code",
   "execution_count": 56,
   "id": "a46074d6",
   "metadata": {},
   "outputs": [],
   "source": [
    "# 오해하지 말아야하는게,,,나눌려는 준비만 한 것임!!!\n",
    "# -->실제 나누는 것은 cv를 사용한 모듈에서 알아서 진행을 합니다~~~"
   ]
  },
  {
   "cell_type": "code",
   "execution_count": 57,
   "id": "3c768890",
   "metadata": {},
   "outputs": [],
   "source": [
    "# knn, svm, rf, xgboost, lightgbm\n",
    "# --> baseline, HPT(GridSearch/RancomGridSearch)\n",
    "# ----------- Bayesian HPT : optuna(메뉴얼과 코드 좀 많이 손대야...)\n",
    "\n",
    "# 여러 모델을 종합해서 하는 voting을 해서 new_model\n",
    "\n",
    "# (  <- stacking /// regression해볼것 )\n",
    "\n",
    "# 최종 모델을 선정!!!"
   ]
  },
  {
   "cell_type": "code",
   "execution_count": 58,
   "id": "7e79e8c4",
   "metadata": {},
   "outputs": [],
   "source": [
    "# K-Fold 통해서 돌려가면서 모델을 평가 : cross-val\n",
    "from sklearn.model_selection import cross_val_score\n",
    "# 평가 : \n",
    "from sklearn.metrics import accuracy_score, precision_score, recall_score\n",
    "# HPT\n",
    "# gridsearch : 내가 테스트할 파라미터 조합들을 주면 그것들 다 함.100가지\n",
    "# randomgridsearch : 그 조합들 중에서 random 선택해서 수행 -> 속도적인 빠름\n",
    "#                    내가 시킨 조합을 다 하지는 않습니다1!!!\n",
    "# +++ OPTUNA\n",
    "from sklearn.model_selection import GridSearchCV\n",
    "from sklearn.model_selection import RandomizedSearchCV\n",
    "# -> 장점 : 제일 모델을 바로 불러올 수 있음!!! 재학습X"
   ]
  },
  {
   "cell_type": "code",
   "execution_count": 59,
   "id": "722acc26",
   "metadata": {},
   "outputs": [],
   "source": [
    "## 1번 모델 : knn"
   ]
  },
  {
   "cell_type": "code",
   "execution_count": 60,
   "id": "2e445c2d",
   "metadata": {},
   "outputs": [],
   "source": [
    "from sklearn.neighbors import KNeighborsClassifier"
   ]
  },
  {
   "cell_type": "code",
   "execution_count": 61,
   "id": "65ad0589",
   "metadata": {},
   "outputs": [],
   "source": [
    "knn = KNeighborsClassifier(n_jobs = -1)"
   ]
  },
  {
   "cell_type": "code",
   "execution_count": 62,
   "id": "092cf1ad",
   "metadata": {},
   "outputs": [],
   "source": [
    "# BaseLine을 체크를 하려고 하는데,,cross-val"
   ]
  },
  {
   "cell_type": "code",
   "execution_count": 64,
   "id": "8fda3d4a",
   "metadata": {},
   "outputs": [
    {
     "name": "stdout",
     "output_type": "stream",
     "text": [
      "KNN 0번째 검증 ACC:0.7343\n",
      "KNN 1번째 검증 ACC:0.7063\n",
      "KNN 2번째 검증 ACC:0.6549\n",
      "KNN 3번째 검증 ACC:0.6831\n",
      "KNN 4번째 검증 ACC:0.7817\n",
      "KNN 평균 ACC: 0.7120555500837191\n"
     ]
    }
   ],
   "source": [
    "scores = cross_val_score(knn, \n",
    "                         X_train, y_train,\n",
    "                         cv = kfold, scoring=\"accuracy\")\n",
    "for iter_count, acc in enumerate(scores):\n",
    "    print(\"KNN {0}번째 검증 ACC:{1:.4f}\".format(iter_count,acc))\n",
    "print(\"KNN 평균 ACC:\", scores.mean())"
   ]
  },
  {
   "cell_type": "code",
   "execution_count": null,
   "id": "7d46c1db",
   "metadata": {},
   "outputs": [],
   "source": [
    "# 최소한 0.7X보다는 높도록 모델을 튜닝!!!!===> HPT"
   ]
  },
  {
   "cell_type": "code",
   "execution_count": 65,
   "id": "71c27adb",
   "metadata": {},
   "outputs": [],
   "source": [
    "# KNN의 메뉴얼을 봤더니 Test할 파라미터는 n_neighbors\n",
    "# 규칙 : 내가 테스트할 파라미터의 이름을 키, 테스할 값을 values 지정\n",
    "parametrs = {\n",
    "    \"n_neighbors\" : [1,3,5,7,9,11]\n",
    "}"
   ]
  },
  {
   "cell_type": "code",
   "execution_count": 66,
   "id": "adadb0f8",
   "metadata": {},
   "outputs": [
    {
     "name": "stderr",
     "output_type": "stream",
     "text": [
      "C:\\Users\\NTX550\\anaconda3\\lib\\site-packages\\sklearn\\model_selection\\_search.py:292: UserWarning: The total space of parameters 6 is smaller than n_iter=10. Running 6 iterations. For exhaustive searches, use GridSearchCV.\n",
      "  warnings.warn(\n"
     ]
    },
    {
     "data": {
      "text/plain": [
       "RandomizedSearchCV(cv=KFold(n_splits=5, random_state=1234, shuffle=True),\n",
       "                   estimator=KNeighborsClassifier(n_jobs=-1), n_jobs=-1,\n",
       "                   param_distributions={'n_neighbors': [1, 3, 5, 7, 9, 11]},\n",
       "                   random_state=1234, scoring='accuracy')"
      ]
     },
     "execution_count": 66,
     "metadata": {},
     "output_type": "execute_result"
    }
   ],
   "source": [
    "# RadnomGridSearch를 먼저 사용해서 대략적인 범위가 어딘지 체크\n",
    "# 1) 사용할 모델\n",
    "knn = KNeighborsClassifier(n_jobs = -1)\n",
    "# 2) 몇 번 반복하면서 찾을 것인가? rrandomGridSearch\n",
    "n_iter_search = 10\n",
    "# 3) RFSCV세팅\n",
    "knn_kf_rgs = RandomizedSearchCV(knn,\n",
    "                                param_distributions=parametrs,\n",
    "                                cv = kfold,\n",
    "                                scoring=\"accuracy\",\n",
    "                                n_jobs = -1 ,\n",
    "                                random_state= 1234,\n",
    "                                n_iter = n_iter_search\n",
    "                                )\n",
    "# 4) 실질적으로 데이터를 밀어서 RGSCV하기위해서 \n",
    "knn_kf_rgs.fit(X_train, y_train)"
   ]
  },
  {
   "cell_type": "code",
   "execution_count": 67,
   "id": "0bec41e1",
   "metadata": {},
   "outputs": [
    {
     "data": {
      "text/plain": [
       "{'mean_fit_time': array([0.00379944, 0.00357533, 0.00339699, 0.00416374, 0.00344925,\n",
       "        0.00394158]),\n",
       " 'std_fit_time': array([0.0004059 , 0.00047495, 0.00033321, 0.00124775, 0.0003158 ,\n",
       "        0.00018731]),\n",
       " 'mean_score_time': array([0.02282381, 0.01690044, 0.01505313, 0.0180459 , 0.02341003,\n",
       "        0.01770253]),\n",
       " 'std_score_time': array([0.00372278, 0.00235298, 0.00109584, 0.00221315, 0.00506407,\n",
       "        0.00189278]),\n",
       " 'param_n_neighbors': masked_array(data=[1, 3, 5, 7, 9, 11],\n",
       "              mask=[False, False, False, False, False, False],\n",
       "        fill_value='?',\n",
       "             dtype=object),\n",
       " 'params': [{'n_neighbors': 1},\n",
       "  {'n_neighbors': 3},\n",
       "  {'n_neighbors': 5},\n",
       "  {'n_neighbors': 7},\n",
       "  {'n_neighbors': 9},\n",
       "  {'n_neighbors': 11}],\n",
       " 'split0_test_score': array([0.68531469, 0.72027972, 0.73426573, 0.72727273, 0.72027972,\n",
       "        0.71328671]),\n",
       " 'split1_test_score': array([0.65734266, 0.70629371, 0.70629371, 0.6993007 , 0.6993007 ,\n",
       "        0.70629371]),\n",
       " 'split2_test_score': array([0.66197183, 0.67605634, 0.65492958, 0.67605634, 0.6971831 ,\n",
       "        0.70422535]),\n",
       " 'split3_test_score': array([0.69014085, 0.69014085, 0.68309859, 0.69014085, 0.71126761,\n",
       "        0.70422535]),\n",
       " 'split4_test_score': array([0.82394366, 0.76056338, 0.78169014, 0.77464789, 0.76760563,\n",
       "        0.74647887]),\n",
       " 'mean_test_score': array([0.70374274, 0.7106668 , 0.71205555, 0.7134837 , 0.71912735,\n",
       "        0.714902  ]),\n",
       " 'std_test_score': array([0.06143394, 0.02905305, 0.04353699, 0.0348656 , 0.0256433 ,\n",
       "        0.01613563]),\n",
       " 'rank_test_score': array([6, 5, 4, 3, 1, 2])}"
      ]
     },
     "execution_count": 67,
     "metadata": {},
     "output_type": "execute_result"
    }
   ],
   "source": [
    "# 실제 수행한 결과들을\n",
    "knn_kf_rgs.cv_results_"
   ]
  },
  {
   "cell_type": "code",
   "execution_count": 68,
   "id": "196de91e",
   "metadata": {},
   "outputs": [
    {
     "data": {
      "text/plain": [
       "{'n_neighbors': 9}"
      ]
     },
     "execution_count": 68,
     "metadata": {},
     "output_type": "execute_result"
    }
   ],
   "source": [
    "# 대표적으로 잘 나온 파라미터가 뭐야\n",
    "knn_kf_rgs.best_params_"
   ]
  },
  {
   "cell_type": "code",
   "execution_count": 69,
   "id": "aa1ce92d",
   "metadata": {},
   "outputs": [
    {
     "data": {
      "text/plain": [
       "0.7191273515217178"
      ]
     },
     "execution_count": 69,
     "metadata": {},
     "output_type": "execute_result"
    }
   ],
   "source": [
    "# 제일 잘 나왔을 때 성능? <- 내가 지정한 acc\n",
    "knn_kf_rgs.best_score_"
   ]
  },
  {
   "cell_type": "code",
   "execution_count": 70,
   "id": "26d50baa",
   "metadata": {},
   "outputs": [
    {
     "name": "stdout",
     "output_type": "stream",
     "text": [
      "KNN-Kfold-RGS-Test Score: 0.6871508379888268\n"
     ]
    }
   ],
   "source": [
    "# 제일 좋았던 모델을 가지오자..\n",
    "knn_kf_rgs_best = knn_kf_rgs.best_estimator_\n",
    "knn_kf_rgs_best_ypred =knn_kf_rgs_best.predict(X_test)\n",
    "knn_kf_rgs_best_acc = accuracy_score(y_test,knn_kf_rgs_best_ypred )\n",
    "print(\"KNN-Kfold-RGS-Test Score:\",knn_kf_rgs_best_acc)"
   ]
  },
  {
   "cell_type": "code",
   "execution_count": 75,
   "id": "33e46e49",
   "metadata": {},
   "outputs": [
    {
     "data": {
      "text/plain": [
       "GridSearchCV(cv=KFold(n_splits=5, random_state=1234, shuffle=True),\n",
       "             estimator=KNeighborsClassifier(n_jobs=-1), n_jobs=-1,\n",
       "             param_grid={'n_neighbors': [7, 9, 11]}, scoring='accuracy')"
      ]
     },
     "execution_count": 75,
     "metadata": {},
     "output_type": "execute_result"
    }
   ],
   "source": [
    "### 시간이 여유로워서 더 그 주변을 디테일하게 탐사하려고 할 때\n",
    "# gridsearch\n",
    "# 1) 디테일하게 직접 체크할 파라미터들의 조합\n",
    "parameters = {\n",
    "    \"n_neighbors\" : [7,9,11]\n",
    "}\n",
    "# 2) 사용할 모델\n",
    "knn = KNeighborsClassifier(n_jobs = -1)\n",
    "# 3) 직접 탐사할 세팅 GridSearchCV\n",
    "knn_kf_gs = GridSearchCV(knn, \n",
    "                         param_grid = parameters,\n",
    "                         cv = kfold, scoring=\"accuracy\",\n",
    "                         n_jobs=-1)\n",
    "# 4) 실제 데이터를 넣어서 학습\n",
    "knn_kf_gs.fit(X_train, y_train)"
   ]
  },
  {
   "cell_type": "code",
   "execution_count": 76,
   "id": "6e599227",
   "metadata": {},
   "outputs": [
    {
     "data": {
      "text/plain": [
       "0.7191273515217178"
      ]
     },
     "execution_count": 76,
     "metadata": {},
     "output_type": "execute_result"
    }
   ],
   "source": [
    "knn_kf_gs.best_score_"
   ]
  },
  {
   "cell_type": "code",
   "execution_count": 77,
   "id": "c63767d6",
   "metadata": {},
   "outputs": [
    {
     "data": {
      "text/plain": [
       "{'n_neighbors': 9}"
      ]
     },
     "execution_count": 77,
     "metadata": {},
     "output_type": "execute_result"
    }
   ],
   "source": [
    "knn_kf_gs.best_params_"
   ]
  },
  {
   "cell_type": "code",
   "execution_count": 78,
   "id": "a653f0b7",
   "metadata": {},
   "outputs": [
    {
     "data": {
      "text/plain": [
       "{'mean_fit_time': array([0.00331092, 0.00365076, 0.00370541]),\n",
       " 'std_fit_time': array([0.00049456, 0.00038126, 0.00037487]),\n",
       " 'mean_score_time': array([0.0144012 , 0.02004504, 0.01509538]),\n",
       " 'std_score_time': array([0.00108857, 0.00402759, 0.00208257]),\n",
       " 'param_n_neighbors': masked_array(data=[7, 9, 11],\n",
       "              mask=[False, False, False],\n",
       "        fill_value='?',\n",
       "             dtype=object),\n",
       " 'params': [{'n_neighbors': 7}, {'n_neighbors': 9}, {'n_neighbors': 11}],\n",
       " 'split0_test_score': array([0.72727273, 0.72027972, 0.71328671]),\n",
       " 'split1_test_score': array([0.6993007 , 0.6993007 , 0.70629371]),\n",
       " 'split2_test_score': array([0.67605634, 0.6971831 , 0.70422535]),\n",
       " 'split3_test_score': array([0.69014085, 0.71126761, 0.70422535]),\n",
       " 'split4_test_score': array([0.77464789, 0.76760563, 0.74647887]),\n",
       " 'mean_test_score': array([0.7134837 , 0.71912735, 0.714902  ]),\n",
       " 'std_test_score': array([0.0348656 , 0.0256433 , 0.01613563]),\n",
       " 'rank_test_score': array([3, 1, 2])}"
      ]
     },
     "execution_count": 78,
     "metadata": {},
     "output_type": "execute_result"
    }
   ],
   "source": [
    "# 세로로 조합을 해줘야함\n",
    "# 세로로 보기\n",
    "knn_kf_gs.cv_results_"
   ]
  },
  {
   "cell_type": "code",
   "execution_count": 79,
   "id": "9f8236fa",
   "metadata": {},
   "outputs": [
    {
     "name": "stdout",
     "output_type": "stream",
     "text": [
      "KNN-Kfold-GS-Test: 0.6871508379888268\n"
     ]
    }
   ],
   "source": [
    "# GS의 best모델을 찾아서 평가\n",
    "knn_kf_gs_best = knn_kf_gs.best_estimator_\n",
    "knn_kf_gs_ypred = knn_kf_gs_best.predict(X_test)\n",
    "knn_kf_gs_best_acc = accuracy_score(y_test, knn_kf_gs_ypred)\n",
    "print(\"KNN-Kfold-GS-Test:\",knn_kf_gs_best_acc )"
   ]
  },
  {
   "cell_type": "code",
   "execution_count": null,
   "id": "0e636f55",
   "metadata": {},
   "outputs": [],
   "source": [
    "############################ Radnom Forest ###################################"
   ]
  },
  {
   "cell_type": "code",
   "execution_count": 80,
   "id": "55f4ef4f",
   "metadata": {},
   "outputs": [],
   "source": [
    "from sklearn.ensemble import RandomForestClassifier"
   ]
  },
  {
   "cell_type": "code",
   "execution_count": null,
   "id": "0a90670c",
   "metadata": {},
   "outputs": [],
   "source": [
    "# BaseLine Check :  Default param -> n_jobs, random_states"
   ]
  },
  {
   "cell_type": "code",
   "execution_count": 81,
   "id": "c2f31d99",
   "metadata": {},
   "outputs": [
    {
     "name": "stdout",
     "output_type": "stream",
     "text": [
      "RF 0번째 검증 ACC:0.8112\n",
      "RF 1번째 검증 ACC:0.8462\n",
      "RF 2번째 검증 ACC:0.7887\n",
      "RF 3번째 검증 ACC:0.7606\n",
      "RF 4번째 검증 ACC:0.8310\n",
      "RF 평균 ACC: 0.8075248694967005\n"
     ]
    }
   ],
   "source": [
    "rf = RandomForestClassifier(n_jobs=-1, random_state=1234)\n",
    "scores = cross_val_score(rf, \n",
    "                         X_train, y_train,\n",
    "                         cv = kfold, scoring=\"accuracy\")\n",
    "for iter_count, acc in enumerate(scores):\n",
    "    print(\"RF {0}번째 검증 ACC:{1:.4f}\".format(iter_count,acc))\n",
    "print(\"RF 평균 ACC:\", scores.mean())"
   ]
  },
  {
   "cell_type": "code",
   "execution_count": null,
   "id": "2dd59977",
   "metadata": {},
   "outputs": [],
   "source": [
    "# 목적은 RF BaseLine 0.80보다는 더 잘 나오게 HPT\n",
    "# 일반 RGS"
   ]
  },
  {
   "cell_type": "code",
   "execution_count": 85,
   "id": "1458924c",
   "metadata": {},
   "outputs": [
    {
     "data": {
      "text/plain": [
       "RandomizedSearchCV(cv=KFold(n_splits=5, random_state=1234, shuffle=True),\n",
       "                   estimator=RandomForestClassifier(n_jobs=-1,\n",
       "                                                    random_state=1234),\n",
       "                   n_jobs=-1,\n",
       "                   param_distributions={'max_depth': [2, 3, 5, 10, 30, 50],\n",
       "                                        'max_features': ['sqrt', 'log2'],\n",
       "                                        'min_samples_leaf': [1, 2, 3, 5, 10],\n",
       "                                        'min_samples_split': [2, 4, 6, 10, 30],\n",
       "                                        'n_estimators': [10, 50, 100, 500]},\n",
       "                   random_state=1234, scoring='accuracy')"
      ]
     },
     "execution_count": 85,
     "metadata": {},
     "output_type": "execute_result"
    }
   ],
   "source": [
    "rf = RandomForestClassifier(n_jobs=-1, random_state=1234)\n",
    "# 1) 파라미터 조합 : RGS -> 좀 범위를 크게크게..\n",
    "parameters={\n",
    "    \"n_estimators\" : [10,50, 100,500],\n",
    "    \"max_features\" :[\"sqrt\",\"log2\"],\n",
    "    \"max_depth\" :[2, 3,5, 10,30, 50],\n",
    "    \"min_samples_split\":[2, 4,6, 10,30],\n",
    "    \"min_samples_leaf\":[1, 2,3,5, 10]\n",
    "}\n",
    "# 2) RGS 몇 번 반복할 것이냐.\n",
    "n_iter_search = 10\n",
    "# 3) RGSCV세팅\n",
    "rf_kf_rgs = RandomizedSearchCV(rf,\n",
    "                                param_distributions=parameters,\n",
    "                                cv = kfold,\n",
    "                                scoring=\"accuracy\",\n",
    "                                n_jobs = -1 ,\n",
    "                                random_state= 1234,\n",
    "                                n_iter = n_iter_search\n",
    "                                )\n",
    "# 4) 실질적으로 데이터를 밀어서 RGSCV하기위해서 \n",
    "rf_kf_rgs.fit(X_train, y_train)"
   ]
  },
  {
   "cell_type": "code",
   "execution_count": 86,
   "id": "c4d1d36c",
   "metadata": {},
   "outputs": [
    {
     "data": {
      "text/plain": [
       "{'mean_fit_time': array([0.84192395, 0.99467382, 0.10688844, 0.02901216, 0.09085903,\n",
       "        0.90405922, 0.26398749, 0.2112412 , 0.19988503, 0.18649068]),\n",
       " 'std_fit_time': array([0.00542983, 0.14871506, 0.00705898, 0.00480488, 0.00823028,\n",
       "        0.03826719, 0.10653529, 0.03093842, 0.02735625, 0.03045811]),\n",
       " 'mean_score_time': array([0.10924649, 0.13221884, 0.0214736 , 0.01018605, 0.01510615,\n",
       "        0.08776498, 0.03062873, 0.02450395, 0.02452374, 0.0171102 ]),\n",
       " 'std_score_time': array([0.01012333, 0.04394947, 0.00242898, 0.00049356, 0.00056982,\n",
       "        0.00746828, 0.00710907, 0.00278551, 0.00184734, 0.0026582 ]),\n",
       " 'param_n_estimators': masked_array(data=[500, 500, 50, 10, 50, 500, 100, 100, 100, 100],\n",
       "              mask=[False, False, False, False, False, False, False, False,\n",
       "                    False, False],\n",
       "        fill_value='?',\n",
       "             dtype=object),\n",
       " 'param_min_samples_split': masked_array(data=[10, 2, 30, 4, 6, 30, 30, 6, 2, 2],\n",
       "              mask=[False, False, False, False, False, False, False, False,\n",
       "                    False, False],\n",
       "        fill_value='?',\n",
       "             dtype=object),\n",
       " 'param_min_samples_leaf': masked_array(data=[1, 2, 5, 5, 10, 5, 5, 2, 10, 3],\n",
       "              mask=[False, False, False, False, False, False, False, False,\n",
       "                    False, False],\n",
       "        fill_value='?',\n",
       "             dtype=object),\n",
       " 'param_max_features': masked_array(data=['sqrt', 'log2', 'sqrt', 'sqrt', 'sqrt', 'sqrt', 'log2',\n",
       "                    'sqrt', 'log2', 'sqrt'],\n",
       "              mask=[False, False, False, False, False, False, False, False,\n",
       "                    False, False],\n",
       "        fill_value='?',\n",
       "             dtype=object),\n",
       " 'param_max_depth': masked_array(data=[30, 10, 50, 10, 10, 3, 50, 2, 50, 5],\n",
       "              mask=[False, False, False, False, False, False, False, False,\n",
       "                    False, False],\n",
       "        fill_value='?',\n",
       "             dtype=object),\n",
       " 'params': [{'n_estimators': 500,\n",
       "   'min_samples_split': 10,\n",
       "   'min_samples_leaf': 1,\n",
       "   'max_features': 'sqrt',\n",
       "   'max_depth': 30},\n",
       "  {'n_estimators': 500,\n",
       "   'min_samples_split': 2,\n",
       "   'min_samples_leaf': 2,\n",
       "   'max_features': 'log2',\n",
       "   'max_depth': 10},\n",
       "  {'n_estimators': 50,\n",
       "   'min_samples_split': 30,\n",
       "   'min_samples_leaf': 5,\n",
       "   'max_features': 'sqrt',\n",
       "   'max_depth': 50},\n",
       "  {'n_estimators': 10,\n",
       "   'min_samples_split': 4,\n",
       "   'min_samples_leaf': 5,\n",
       "   'max_features': 'sqrt',\n",
       "   'max_depth': 10},\n",
       "  {'n_estimators': 50,\n",
       "   'min_samples_split': 6,\n",
       "   'min_samples_leaf': 10,\n",
       "   'max_features': 'sqrt',\n",
       "   'max_depth': 10},\n",
       "  {'n_estimators': 500,\n",
       "   'min_samples_split': 30,\n",
       "   'min_samples_leaf': 5,\n",
       "   'max_features': 'sqrt',\n",
       "   'max_depth': 3},\n",
       "  {'n_estimators': 100,\n",
       "   'min_samples_split': 30,\n",
       "   'min_samples_leaf': 5,\n",
       "   'max_features': 'log2',\n",
       "   'max_depth': 50},\n",
       "  {'n_estimators': 100,\n",
       "   'min_samples_split': 6,\n",
       "   'min_samples_leaf': 2,\n",
       "   'max_features': 'sqrt',\n",
       "   'max_depth': 2},\n",
       "  {'n_estimators': 100,\n",
       "   'min_samples_split': 2,\n",
       "   'min_samples_leaf': 10,\n",
       "   'max_features': 'log2',\n",
       "   'max_depth': 50},\n",
       "  {'n_estimators': 100,\n",
       "   'min_samples_split': 2,\n",
       "   'min_samples_leaf': 3,\n",
       "   'max_features': 'sqrt',\n",
       "   'max_depth': 5}],\n",
       " 'split0_test_score': array([0.83216783, 0.85314685, 0.83216783, 0.82517483, 0.83916084,\n",
       "        0.84615385, 0.82517483, 0.81118881, 0.82517483, 0.84615385]),\n",
       " 'split1_test_score': array([0.84615385, 0.84615385, 0.83216783, 0.82517483, 0.83916084,\n",
       "        0.82517483, 0.83916084, 0.81118881, 0.84615385, 0.85314685]),\n",
       " 'split2_test_score': array([0.81690141, 0.81690141, 0.8028169 , 0.8028169 , 0.8028169 ,\n",
       "        0.78873239, 0.78873239, 0.78169014, 0.78873239, 0.78873239]),\n",
       " 'split3_test_score': array([0.8028169 , 0.76760563, 0.79577465, 0.78873239, 0.81690141,\n",
       "        0.82394366, 0.79577465, 0.78873239, 0.78873239, 0.79577465]),\n",
       " 'split4_test_score': array([0.81690141, 0.80985915, 0.84507042, 0.79577465, 0.82394366,\n",
       "        0.81690141, 0.83098592, 0.76760563, 0.82394366, 0.84507042]),\n",
       " 'mean_test_score': array([0.82298828, 0.81873338, 0.82159953, 0.80753472, 0.82439673,\n",
       "        0.82018123, 0.81596572, 0.79208116, 0.81454742, 0.82577563]),\n",
       " 'std_test_score': array([0.01484515, 0.03043788, 0.01894187, 0.01507602, 0.0138422 ,\n",
       "        0.01851192, 0.0199888 , 0.01702024, 0.0225079 , 0.02760074]),\n",
       " 'rank_test_score': array([ 3,  6,  4,  9,  2,  5,  7, 10,  8,  1])}"
      ]
     },
     "execution_count": 86,
     "metadata": {},
     "output_type": "execute_result"
    }
   ],
   "source": [
    "rf_kf_rgs.cv_results_"
   ]
  },
  {
   "cell_type": "code",
   "execution_count": 87,
   "id": "0e88a27d",
   "metadata": {},
   "outputs": [
    {
     "data": {
      "text/plain": [
       "0.8257756328178862"
      ]
     },
     "execution_count": 87,
     "metadata": {},
     "output_type": "execute_result"
    }
   ],
   "source": [
    "rf_kf_rgs.best_score_"
   ]
  },
  {
   "cell_type": "code",
   "execution_count": 88,
   "id": "9fbd5dde",
   "metadata": {},
   "outputs": [
    {
     "data": {
      "text/plain": [
       "{'n_estimators': 100,\n",
       " 'min_samples_split': 2,\n",
       " 'min_samples_leaf': 3,\n",
       " 'max_features': 'sqrt',\n",
       " 'max_depth': 5}"
      ]
     },
     "execution_count": 88,
     "metadata": {},
     "output_type": "execute_result"
    }
   ],
   "source": [
    "rf_kf_rgs.best_params_"
   ]
  },
  {
   "cell_type": "code",
   "execution_count": 89,
   "id": "f2fbb1e4",
   "metadata": {},
   "outputs": [
    {
     "name": "stdout",
     "output_type": "stream",
     "text": [
      "RF-Kfold-RGS-Acc: 0.8044692737430168\n"
     ]
    }
   ],
   "source": [
    "# 지금 상태의 성능?\n",
    "rf_kf_rgs_best = rf_kf_rgs.best_estimator_\n",
    "rf_kf_rgs_best_ypred = rf_kf_rgs_best.predict(X_test)\n",
    "rf_kf_rgs_best_acc = accuracy_score(y_test,rf_kf_rgs_best_ypred )\n",
    "print(\"RF-Kfold-RGS-Acc:\", rf_kf_rgs_best_acc)"
   ]
  },
  {
   "cell_type": "code",
   "execution_count": null,
   "id": "a1f4e9e3",
   "metadata": {},
   "outputs": [],
   "source": []
  },
  {
   "cell_type": "code",
   "execution_count": 90,
   "id": "a1cb932e",
   "metadata": {},
   "outputs": [
    {
     "data": {
      "text/plain": [
       "{'n_estimators': 100,\n",
       " 'min_samples_split': 2,\n",
       " 'min_samples_leaf': 3,\n",
       " 'max_features': 'sqrt',\n",
       " 'max_depth': 5}"
      ]
     },
     "execution_count": 90,
     "metadata": {},
     "output_type": "execute_result"
    }
   ],
   "source": [
    "rf_kf_rgs.best_params_"
   ]
  },
  {
   "cell_type": "code",
   "execution_count": 97,
   "id": "f6947fae",
   "metadata": {
    "scrolled": true
   },
   "outputs": [
    {
     "name": "stderr",
     "output_type": "stream",
     "text": [
      "C:\\Users\\NTX550\\anaconda3\\lib\\site-packages\\sklearn\\model_selection\\_validation.py:372: FitFailedWarning: \n",
      "600 fits failed out of a total of 2400.\n",
      "The score on these train-test partitions for these parameters will be set to nan.\n",
      "If these failures are not expected, you can try to debug them by setting error_score='raise'.\n",
      "\n",
      "Below are more details about the failures:\n",
      "--------------------------------------------------------------------------------\n",
      "600 fits failed with the following error:\n",
      "Traceback (most recent call last):\n",
      "  File \"C:\\Users\\NTX550\\anaconda3\\lib\\site-packages\\sklearn\\model_selection\\_validation.py\", line 680, in _fit_and_score\n",
      "    estimator.fit(X_train, y_train, **fit_params)\n",
      "  File \"C:\\Users\\NTX550\\anaconda3\\lib\\site-packages\\sklearn\\ensemble\\_forest.py\", line 450, in fit\n",
      "    trees = Parallel(\n",
      "  File \"C:\\Users\\NTX550\\anaconda3\\lib\\site-packages\\joblib\\parallel.py\", line 1056, in __call__\n",
      "    self.retrieve()\n",
      "  File \"C:\\Users\\NTX550\\anaconda3\\lib\\site-packages\\joblib\\parallel.py\", line 935, in retrieve\n",
      "    self._output.extend(job.get(timeout=self.timeout))\n",
      "  File \"C:\\Users\\NTX550\\anaconda3\\lib\\multiprocessing\\pool.py\", line 771, in get\n",
      "    raise self._value\n",
      "  File \"C:\\Users\\NTX550\\anaconda3\\lib\\multiprocessing\\pool.py\", line 125, in worker\n",
      "    result = (True, func(*args, **kwds))\n",
      "  File \"C:\\Users\\NTX550\\anaconda3\\lib\\site-packages\\joblib\\_parallel_backends.py\", line 595, in __call__\n",
      "    return self.func(*args, **kwargs)\n",
      "  File \"C:\\Users\\NTX550\\anaconda3\\lib\\site-packages\\joblib\\parallel.py\", line 262, in __call__\n",
      "    return [func(*args, **kwargs)\n",
      "  File \"C:\\Users\\NTX550\\anaconda3\\lib\\site-packages\\joblib\\parallel.py\", line 262, in <listcomp>\n",
      "    return [func(*args, **kwargs)\n",
      "  File \"C:\\Users\\NTX550\\anaconda3\\lib\\site-packages\\sklearn\\utils\\fixes.py\", line 216, in __call__\n",
      "    return self.function(*args, **kwargs)\n",
      "  File \"C:\\Users\\NTX550\\anaconda3\\lib\\site-packages\\sklearn\\ensemble\\_forest.py\", line 185, in _parallel_build_trees\n",
      "    tree.fit(X, y, sample_weight=curr_sample_weight, check_input=False)\n",
      "  File \"C:\\Users\\NTX550\\anaconda3\\lib\\site-packages\\sklearn\\tree\\_classes.py\", line 937, in fit\n",
      "    super().fit(\n",
      "  File \"C:\\Users\\NTX550\\anaconda3\\lib\\site-packages\\sklearn\\tree\\_classes.py\", line 250, in fit\n",
      "    raise ValueError(\n",
      "ValueError: min_samples_split must be an integer greater than 1 or a float in (0.0, 1.0]; got the integer 1\n",
      "\n",
      "  warnings.warn(some_fits_failed_message, FitFailedWarning)\n",
      "C:\\Users\\NTX550\\anaconda3\\lib\\site-packages\\sklearn\\model_selection\\_search.py:969: UserWarning: One or more of the test scores are non-finite: [       nan        nan        nan        nan 0.82858268 0.82579533\n",
      " 0.82578548 0.82858268 0.82858268 0.82719393 0.82438688 0.82576578\n",
      " 0.82858268 0.82718408 0.82719393 0.82576578        nan        nan\n",
      "        nan        nan 0.82715454 0.82856299 0.82576578 0.82717423\n",
      " 0.82715454 0.82856299 0.82576578 0.82717423 0.82715454 0.82856299\n",
      " 0.82576578 0.82717423        nan        nan        nan        nan\n",
      " 0.82717423 0.82577563 0.82155028 0.82576578 0.82717423 0.82577563\n",
      " 0.82155028 0.82576578 0.82717423 0.82577563 0.82155028 0.82576578\n",
      "        nan        nan        nan        nan 0.82018123 0.82439673\n",
      " 0.82438688 0.82578548 0.82018123 0.82439673 0.82438688 0.82578548\n",
      " 0.82018123 0.82439673 0.82438688 0.82578548        nan        nan\n",
      "        nan        nan 0.82296858 0.82578548 0.82156998 0.82577563\n",
      " 0.82296858 0.82578548 0.82156998 0.82577563 0.82296858 0.82578548\n",
      " 0.82156998 0.82577563        nan        nan        nan        nan\n",
      " 0.82861223 0.83001083 0.82722348 0.83143898 0.82579533 0.82861223\n",
      " 0.82579533 0.83143898 0.82439673 0.82720378 0.82581503 0.83425588\n",
      "        nan        nan        nan        nan 0.82720378 0.82721363\n",
      " 0.82723333 0.83143898 0.82720378 0.82721363 0.82723333 0.83143898\n",
      " 0.82720378 0.82721363 0.82723333 0.83143898        nan        nan\n",
      "        nan        nan 0.82018123 0.82018123 0.82300798 0.82581503\n",
      " 0.82018123 0.82018123 0.82300798 0.82581503 0.82018123 0.82018123\n",
      " 0.82300798 0.82581503        nan        nan        nan        nan\n",
      " 0.82018123 0.82157983 0.82579533 0.82580518 0.82018123 0.82157983\n",
      " 0.82579533 0.82580518 0.82018123 0.82157983 0.82579533 0.82580518\n",
      "        nan        nan        nan        nan 0.81738402 0.81597557\n",
      " 0.81878263 0.82018123 0.81738402 0.81597557 0.81878263 0.82018123\n",
      " 0.81738402 0.81597557 0.81878263 0.82018123        nan        nan\n",
      "        nan        nan 0.82578548 0.82296858 0.82295873 0.82577563\n",
      " 0.83000098 0.82858268 0.82718408 0.83281789 0.83002068 0.82860238\n",
      " 0.83139959 0.82578548        nan        nan        nan        nan\n",
      " 0.82858268 0.83139959 0.83280804 0.82860238 0.82858268 0.83139959\n",
      " 0.83280804 0.82860238 0.82858268 0.83139959 0.83280804 0.82860238\n",
      "        nan        nan        nan        nan 0.82155028 0.82577563\n",
      " 0.82718408 0.82857284 0.82155028 0.82577563 0.82718408 0.82857284\n",
      " 0.82155028 0.82577563 0.82718408 0.82857284        nan        nan\n",
      "        nan        nan 0.83137989 0.82575593 0.82998129 0.82857284\n",
      " 0.83137989 0.82575593 0.82998129 0.82857284 0.83137989 0.82575593\n",
      " 0.82998129 0.82857284        nan        nan        nan        nan\n",
      " 0.82296858 0.82155028 0.82435733 0.82717423 0.82296858 0.82155028\n",
      " 0.82435733 0.82717423 0.82296858 0.82155028 0.82435733 0.82717423\n",
      "        nan        nan        nan        nan 0.82435733 0.82295873\n",
      " 0.82295873 0.82719393 0.82295873 0.82295873 0.82155028 0.82578548\n",
      " 0.82016153 0.82156013 0.82155028 0.82438688        nan        nan\n",
      "        nan        nan 0.82296858 0.82156013 0.82578548 0.82719393\n",
      " 0.82296858 0.82156013 0.82578548 0.82719393 0.82296858 0.82156013\n",
      " 0.82578548 0.82719393        nan        nan        nan        nan\n",
      " 0.81733478 0.82156013 0.82436718 0.82721363 0.81733478 0.82156013\n",
      " 0.82436718 0.82721363 0.81733478 0.82156013 0.82436718 0.82721363\n",
      "        nan        nan        nan        nan 0.81734463 0.81594603\n",
      " 0.82156998 0.82720378 0.81734463 0.81594603 0.82156998 0.82720378\n",
      " 0.81734463 0.81594603 0.82156998 0.82720378        nan        nan\n",
      "        nan        nan 0.81876293 0.82579533 0.83002068 0.82440658\n",
      " 0.81876293 0.82579533 0.83002068 0.82440658 0.81876293 0.82579533\n",
      " 0.83002068 0.82440658        nan        nan        nan        nan\n",
      " 0.82155028 0.82155028 0.82015168 0.82296858 0.82016153 0.81874323\n",
      " 0.82437703 0.81874323 0.82156998 0.82156013 0.82295873 0.82438688\n",
      "        nan        nan        nan        nan 0.82295873 0.82577563\n",
      " 0.82999114 0.82860238 0.82295873 0.82577563 0.82999114 0.82860238\n",
      " 0.82295873 0.82577563 0.82999114 0.82860238        nan        nan\n",
      "        nan        nan 0.82577563 0.82435733 0.82576578 0.82720378\n",
      " 0.82577563 0.82435733 0.82576578 0.82720378 0.82577563 0.82435733\n",
      " 0.82576578 0.82720378        nan        nan        nan        nan\n",
      " 0.82716438 0.82716438 0.82999114 0.83000098 0.82716438 0.82716438\n",
      " 0.82999114 0.83000098 0.82716438 0.82716438 0.82999114 0.83000098\n",
      "        nan        nan        nan        nan 0.81874323 0.82296858\n",
      " 0.82718408 0.82156013 0.81874323 0.82296858 0.82718408 0.82156013\n",
      " 0.81874323 0.82296858 0.82718408 0.82156013        nan        nan\n",
      "        nan        nan 0.82156998 0.81875308 0.81875308 0.81595588\n",
      " 0.81735448 0.81593618 0.81734463 0.82157983 0.82018123 0.82299813\n",
      " 0.82297843 0.82721363        nan        nan        nan        nan\n",
      " 0.81876293 0.82297843 0.82156998 0.81878263 0.81876293 0.82297843\n",
      " 0.82156998 0.81878263 0.81876293 0.82297843 0.82156998 0.81878263\n",
      "        nan        nan        nan        nan 0.82156013 0.82156998\n",
      " 0.82437703 0.81736433 0.82156013 0.82156998 0.82437703 0.81736433\n",
      " 0.82156013 0.82156998 0.82437703 0.81736433        nan        nan\n",
      "        nan        nan 0.82019108 0.81736433 0.82158968 0.82721363\n",
      " 0.82019108 0.81736433 0.82158968 0.82721363 0.82019108 0.81736433\n",
      " 0.82158968 0.82721363        nan        nan        nan        nan\n",
      " 0.81175022 0.81313897 0.81735448 0.82018123 0.81175022 0.81313897\n",
      " 0.81735448 0.82018123 0.81175022 0.81313897 0.81735448 0.82018123]\n",
      "  warnings.warn(\n"
     ]
    },
    {
     "data": {
      "text/plain": [
       "GridSearchCV(cv=KFold(n_splits=5, random_state=1234, shuffle=True),\n",
       "             estimator=RandomForestClassifier(n_jobs=-1, random_state=1234),\n",
       "             n_jobs=-1,\n",
       "             param_grid={'max_depth': [4, 5, 6],\n",
       "                         'max_features': ['sqrt', 'log2'],\n",
       "                         'min_samples_leaf': [1, 2, 3, 4, 5],\n",
       "                         'min_samples_split': [1, 2, 3, 4],\n",
       "                         'n_estimators': [90, 100, 110, 300]},\n",
       "             scoring='accuracy')"
      ]
     },
     "execution_count": 97,
     "metadata": {},
     "output_type": "execute_result"
    }
   ],
   "source": [
    "rf = RandomForestClassifier(n_jobs=-1, random_state=1234)\n",
    "\n",
    "parameters={\n",
    "    \"n_estimators\" : [90, 100, 110, 300],\n",
    "    \"max_features\" :[\"sqrt\",\"log2\"],\n",
    "    \"max_depth\" :[4, 5, 6],\n",
    "    \"min_samples_split\":[1, 2, 3, 4],\n",
    "    \"min_samples_leaf\":[1, 2, 3, 4, 5]\n",
    "}# 4 * 2* 3 * 4 * 5  = 4800??\n",
    "\n",
    "# 2) RGSCV세팅\n",
    "rf_kf_gs = GridSearchCV(rf,\n",
    "                        param_grid=parameters,\n",
    "                        cv = kfold,\n",
    "                        scoring=\"accuracy\",\n",
    "                        n_jobs = -1\n",
    "                        )\n",
    "# 3) 실질적으로 데이터를 밀어서 RGSCV하기위해서 \n",
    "rf_kf_gs.fit(X_train, y_train)"
   ]
  },
  {
   "cell_type": "code",
   "execution_count": 98,
   "id": "9d558f2e",
   "metadata": {},
   "outputs": [
    {
     "data": {
      "text/plain": [
       "0.8342558849601105"
      ]
     },
     "execution_count": 98,
     "metadata": {},
     "output_type": "execute_result"
    }
   ],
   "source": [
    "rf_kf_gs.best_score_"
   ]
  },
  {
   "cell_type": "code",
   "execution_count": 99,
   "id": "1015043b",
   "metadata": {},
   "outputs": [
    {
     "data": {
      "text/plain": [
       "{'max_depth': 4,\n",
       " 'max_features': 'log2',\n",
       " 'min_samples_leaf': 1,\n",
       " 'min_samples_split': 4,\n",
       " 'n_estimators': 300}"
      ]
     },
     "execution_count": 99,
     "metadata": {},
     "output_type": "execute_result"
    }
   ],
   "source": [
    "rf_kf_gs.best_params_"
   ]
  },
  {
   "cell_type": "code",
   "execution_count": 100,
   "id": "8329bd05",
   "metadata": {},
   "outputs": [
    {
     "name": "stdout",
     "output_type": "stream",
     "text": [
      "RF_Kfold-GS-Acc 0.8100558659217877\n"
     ]
    }
   ],
   "source": [
    "rf_kf_gs_best = rf_kf_gs.best_estimator_\n",
    "rf_kf_gs_best_ypred = rf_kf_gs_best.predict(X_test)\n",
    "rf_kf_gs_best_ypred_acc = accuracy_score(y_test, rf_kf_gs_best_ypred)\n",
    "print(\"RF_Kfold-GS-Acc\", rf_kf_gs_best_ypred_acc)"
   ]
  },
  {
   "cell_type": "code",
   "execution_count": 101,
   "id": "998af7a7",
   "metadata": {},
   "outputs": [
    {
     "data": {
      "text/plain": [
       "0.8044692737430168"
      ]
     },
     "execution_count": 101,
     "metadata": {},
     "output_type": "execute_result"
    }
   ],
   "source": [
    "rf_kf_rgs_best_acc"
   ]
  },
  {
   "cell_type": "code",
   "execution_count": 102,
   "id": "0ea0e177",
   "metadata": {},
   "outputs": [],
   "source": [
    "###### 만든 모델에 대한 저장하고 불러오는 것들 ####\n",
    "###### Model Save & Load #####"
   ]
  },
  {
   "cell_type": "code",
   "execution_count": 103,
   "id": "3192889f",
   "metadata": {},
   "outputs": [],
   "source": [
    "import joblib"
   ]
  },
  {
   "cell_type": "code",
   "execution_count": 105,
   "id": "99b73b0e",
   "metadata": {},
   "outputs": [
    {
     "data": {
      "text/plain": [
       "['rf_model_kf_gs_best.pkl']"
      ]
     },
     "execution_count": 105,
     "metadata": {},
     "output_type": "execute_result"
    }
   ],
   "source": [
    "# 모델 저장)\n",
    "# 파이썬에서는 pickle 입으로 저장을 합니다.\n",
    "# joblib.dump\n",
    "joblib.dump(rf_kf_gs_best, \"rf_model_kf_gs_best.pkl\")"
   ]
  },
  {
   "cell_type": "code",
   "execution_count": 107,
   "id": "82ef7933",
   "metadata": {},
   "outputs": [],
   "source": [
    "# 모델을 불러오기...\n",
    "model_path = \"./rf_model_kf_gs_best.pkl\"\n",
    "rf_kfold_backup = joblib.load(model_path)"
   ]
  },
  {
   "cell_type": "code",
   "execution_count": 108,
   "id": "c9a6d424",
   "metadata": {},
   "outputs": [
    {
     "data": {
      "text/plain": [
       "array([ True,  True,  True,  True,  True,  True,  True,  True,  True,\n",
       "        True,  True,  True,  True,  True,  True,  True,  True,  True,\n",
       "        True,  True,  True,  True,  True,  True,  True,  True,  True,\n",
       "        True,  True,  True,  True,  True,  True,  True,  True,  True,\n",
       "        True,  True,  True,  True,  True,  True,  True,  True,  True,\n",
       "        True,  True,  True,  True,  True,  True,  True,  True,  True,\n",
       "        True,  True,  True,  True,  True,  True,  True,  True,  True,\n",
       "        True,  True,  True,  True,  True,  True,  True,  True,  True,\n",
       "        True,  True,  True,  True,  True,  True,  True,  True,  True,\n",
       "        True,  True,  True,  True,  True,  True,  True,  True,  True,\n",
       "        True,  True,  True,  True,  True,  True,  True,  True,  True,\n",
       "        True,  True,  True,  True,  True,  True,  True,  True,  True,\n",
       "        True,  True,  True,  True,  True,  True,  True,  True,  True,\n",
       "        True,  True,  True,  True,  True,  True,  True,  True,  True,\n",
       "        True,  True,  True,  True,  True,  True,  True,  True,  True,\n",
       "        True,  True,  True,  True,  True,  True,  True,  True,  True,\n",
       "        True,  True,  True,  True,  True,  True,  True,  True,  True,\n",
       "        True,  True,  True,  True,  True,  True,  True,  True,  True,\n",
       "        True,  True,  True,  True,  True,  True,  True,  True,  True,\n",
       "        True,  True,  True,  True,  True,  True,  True,  True])"
      ]
     },
     "execution_count": 108,
     "metadata": {},
     "output_type": "execute_result"
    }
   ],
   "source": [
    "rf_kfold_backup.predict(X_test) ==rf_kf_gs_best.predict(X_test)"
   ]
  },
  {
   "cell_type": "markdown",
   "id": "9b02b4e7",
   "metadata": {},
   "source": [
    "# Xgboost"
   ]
  },
  {
   "cell_type": "code",
   "execution_count": null,
   "id": "77398f24",
   "metadata": {},
   "outputs": [],
   "source": [
    "##################### Xgboost #####"
   ]
  },
  {
   "cell_type": "code",
   "execution_count": 109,
   "id": "f8be4710",
   "metadata": {},
   "outputs": [],
   "source": [
    "from xgboost import XGBClassifier\n",
    "# colab은 설치가 되어 있고, local에서 하시려면 설치가 있어야 함!!!!"
   ]
  },
  {
   "cell_type": "code",
   "execution_count": 111,
   "id": "15d2f589",
   "metadata": {},
   "outputs": [],
   "source": [
    "xgbc = XGBClassifier(n_jobs = -1, random_state=1234, use_label_encoder=False)"
   ]
  },
  {
   "cell_type": "code",
   "execution_count": 112,
   "id": "db3d6582",
   "metadata": {},
   "outputs": [],
   "source": [
    "# xgboost Clf로 BaseLine"
   ]
  },
  {
   "cell_type": "code",
   "execution_count": 113,
   "id": "25953e9f",
   "metadata": {
    "scrolled": true
   },
   "outputs": [
    {
     "name": "stderr",
     "output_type": "stream",
     "text": [
      "C:\\Users\\NTX550\\anaconda3\\lib\\site-packages\\xgboost\\data.py:250: FutureWarning: pandas.Int64Index is deprecated and will be removed from pandas in a future version. Use pandas.Index with the appropriate dtype instead.\n",
      "  elif isinstance(data.columns, (pd.Int64Index, pd.RangeIndex)):\n",
      "C:\\Users\\NTX550\\anaconda3\\lib\\site-packages\\xgboost\\data.py:250: FutureWarning: pandas.Int64Index is deprecated and will be removed from pandas in a future version. Use pandas.Index with the appropriate dtype instead.\n",
      "  elif isinstance(data.columns, (pd.Int64Index, pd.RangeIndex)):\n",
      "C:\\Users\\NTX550\\anaconda3\\lib\\site-packages\\xgboost\\data.py:250: FutureWarning: pandas.Int64Index is deprecated and will be removed from pandas in a future version. Use pandas.Index with the appropriate dtype instead.\n",
      "  elif isinstance(data.columns, (pd.Int64Index, pd.RangeIndex)):\n",
      "C:\\Users\\NTX550\\anaconda3\\lib\\site-packages\\xgboost\\data.py:250: FutureWarning: pandas.Int64Index is deprecated and will be removed from pandas in a future version. Use pandas.Index with the appropriate dtype instead.\n",
      "  elif isinstance(data.columns, (pd.Int64Index, pd.RangeIndex)):\n"
     ]
    },
    {
     "name": "stdout",
     "output_type": "stream",
     "text": [
      "[13:45:52] WARNING: ..\\src\\learner.cc:1115: Starting in XGBoost 1.3.0, the default evaluation metric used with the objective 'binary:logistic' was changed from 'error' to 'logloss'. Explicitly set eval_metric if you'd like to restore the old behavior.\n",
      "[13:45:52] WARNING: ..\\src\\learner.cc:1115: Starting in XGBoost 1.3.0, the default evaluation metric used with the objective 'binary:logistic' was changed from 'error' to 'logloss'. Explicitly set eval_metric if you'd like to restore the old behavior.\n",
      "[13:45:52] WARNING: ..\\src\\learner.cc:1115: Starting in XGBoost 1.3.0, the default evaluation metric used with the objective 'binary:logistic' was changed from 'error' to 'logloss'. Explicitly set eval_metric if you'd like to restore the old behavior.\n",
      "[13:45:52] WARNING: ..\\src\\learner.cc:1115: Starting in XGBoost 1.3.0, the default evaluation metric used with the objective 'binary:logistic' was changed from 'error' to 'logloss'. Explicitly set eval_metric if you'd like to restore the old behavior.\n",
      "[13:45:52] WARNING: ..\\src\\learner.cc:1115: Starting in XGBoost 1.3.0, the default evaluation metric used with the objective 'binary:logistic' was changed from 'error' to 'logloss'. Explicitly set eval_metric if you'd like to restore the old behavior.\n",
      "XGB 0번째 검증 ACC:0.8252\n",
      "XGB 1번째 검증 ACC:0.8112\n",
      "XGB 2번째 검증 ACC:0.7746\n",
      "XGB 3번째 검증 ACC:0.8028\n",
      "XGB 4번째 검증 ACC:0.8380\n",
      "XGB 평균 ACC: 0.810371318822023\n"
     ]
    },
    {
     "name": "stderr",
     "output_type": "stream",
     "text": [
      "C:\\Users\\NTX550\\anaconda3\\lib\\site-packages\\xgboost\\data.py:250: FutureWarning: pandas.Int64Index is deprecated and will be removed from pandas in a future version. Use pandas.Index with the appropriate dtype instead.\n",
      "  elif isinstance(data.columns, (pd.Int64Index, pd.RangeIndex)):\n"
     ]
    }
   ],
   "source": [
    "scores = cross_val_score(xgbc, \n",
    "                         X_train, y_train,\n",
    "                         cv = kfold, scoring=\"accuracy\")\n",
    "for iter_count, acc in enumerate(scores):\n",
    "    print(\"XGB {0}번째 검증 ACC:{1:.4f}\".format(iter_count,acc))\n",
    "print(\"XGB 평균 ACC:\", scores.mean())"
   ]
  },
  {
   "cell_type": "code",
   "execution_count": null,
   "id": "1fea97b9",
   "metadata": {},
   "outputs": [],
   "source": [
    "# 아무것도 안 해도 xgboost를 사용하면 baseline : 0.81~0.82\n",
    "# ---> 부스팅같은 경우는 데이터의 수가 아주 많지않으면.\n",
    "#       baseline에서 크게 향상이 거의 없습니다!!!!\n",
    "#       kfold : repeated 계열로 펌핑하고 해보던가...너무 힘을 안쓰던가..\n",
    "#       HPT 의한 성능향상이 아주~~크지 않을듯....경향...."
   ]
  },
  {
   "cell_type": "code",
   "execution_count": null,
   "id": "dfea2665",
   "metadata": {},
   "outputs": [],
   "source": [
    "# xgb에서 RGS를 통해서 대략적인 범위를 찾아보자~~~"
   ]
  },
  {
   "cell_type": "code",
   "execution_count": 114,
   "id": "2ee5170e",
   "metadata": {},
   "outputs": [],
   "source": [
    "xgbc = XGBClassifier(\n",
    "    n_jobs = -1, random_state=1234, use_label_encoder=False,\n",
    "    # 학습관련된 부분을 설정.\n",
    "    objective = \"binary:logistic\",\n",
    "    eval_metric  =\" error\")"
   ]
  },
  {
   "cell_type": "code",
   "execution_count": 118,
   "id": "a9c447dd",
   "metadata": {},
   "outputs": [
    {
     "name": "stderr",
     "output_type": "stream",
     "text": [
      "C:\\Users\\NTX550\\anaconda3\\lib\\site-packages\\sklearn\\model_selection\\_validation.py:372: FitFailedWarning: \n",
      "50 fits failed out of a total of 50.\n",
      "The score on these train-test partitions for these parameters will be set to nan.\n",
      "If these failures are not expected, you can try to debug them by setting error_score='raise'.\n",
      "\n",
      "Below are more details about the failures:\n",
      "--------------------------------------------------------------------------------\n",
      "50 fits failed with the following error:\n",
      "Traceback (most recent call last):\n",
      "  File \"C:\\Users\\NTX550\\anaconda3\\lib\\site-packages\\sklearn\\model_selection\\_validation.py\", line 680, in _fit_and_score\n",
      "    estimator.fit(X_train, y_train, **fit_params)\n",
      "  File \"C:\\Users\\NTX550\\anaconda3\\lib\\site-packages\\xgboost\\core.py\", line 506, in inner_f\n",
      "    return f(**kwargs)\n",
      "  File \"C:\\Users\\NTX550\\anaconda3\\lib\\site-packages\\xgboost\\sklearn.py\", line 1250, in fit\n",
      "    self._Booster = train(\n",
      "  File \"C:\\Users\\NTX550\\anaconda3\\lib\\site-packages\\xgboost\\training.py\", line 188, in train\n",
      "    bst = _train_internal(params, dtrain,\n",
      "  File \"C:\\Users\\NTX550\\anaconda3\\lib\\site-packages\\xgboost\\training.py\", line 81, in _train_internal\n",
      "    bst.update(dtrain, i, obj)\n",
      "  File \"C:\\Users\\NTX550\\anaconda3\\lib\\site-packages\\xgboost\\core.py\", line 1680, in update\n",
      "    _check_call(_LIB.XGBoosterUpdateOneIter(self.handle,\n",
      "  File \"C:\\Users\\NTX550\\anaconda3\\lib\\site-packages\\xgboost\\core.py\", line 218, in _check_call\n",
      "    raise XGBoostError(py_str(_LIB.XGBGetLastError()))\n",
      "xgboost.core.XGBoostError: [14:24:28] ..\\src\\metric\\metric.cc:49: Unknown metric function  error\n",
      "\n",
      "  warnings.warn(some_fits_failed_message, FitFailedWarning)\n"
     ]
    },
    {
     "ename": "XGBoostError",
     "evalue": "[14:24:28] ..\\src\\metric\\metric.cc:49: Unknown metric function  error",
     "output_type": "error",
     "traceback": [
      "\u001b[1;31m---------------------------------------------------------------------------\u001b[0m",
      "\u001b[1;31mXGBoostError\u001b[0m                              Traceback (most recent call last)",
      "Input \u001b[1;32mIn [118]\u001b[0m, in \u001b[0;36m<cell line: 33>\u001b[1;34m()\u001b[0m\n\u001b[0;32m     24\u001b[0m xgb_kf_rgs \u001b[38;5;241m=\u001b[39m RandomizedSearchCV(xgbc,\n\u001b[0;32m     25\u001b[0m                                 param_distributions\u001b[38;5;241m=\u001b[39mparameters,\n\u001b[0;32m     26\u001b[0m                                 cv \u001b[38;5;241m=\u001b[39m kfold,\n\u001b[1;32m   (...)\u001b[0m\n\u001b[0;32m     30\u001b[0m                                 n_iter \u001b[38;5;241m=\u001b[39m n_iter_search\n\u001b[0;32m     31\u001b[0m                                 )\n\u001b[0;32m     32\u001b[0m \u001b[38;5;66;03m# 4) 실질적으로 데이터를 밀어서 RGSCV하기위해서 \u001b[39;00m\n\u001b[1;32m---> 33\u001b[0m \u001b[43mxgb_kf_rgs\u001b[49m\u001b[38;5;241;43m.\u001b[39;49m\u001b[43mfit\u001b[49m\u001b[43m(\u001b[49m\u001b[43mX_train\u001b[49m\u001b[43m,\u001b[49m\u001b[43m \u001b[49m\u001b[43my_train\u001b[49m\u001b[43m)\u001b[49m\n",
      "File \u001b[1;32m~\\anaconda3\\lib\\site-packages\\sklearn\\model_selection\\_search.py:926\u001b[0m, in \u001b[0;36mBaseSearchCV.fit\u001b[1;34m(self, X, y, groups, **fit_params)\u001b[0m\n\u001b[0;32m    924\u001b[0m refit_start_time \u001b[38;5;241m=\u001b[39m time\u001b[38;5;241m.\u001b[39mtime()\n\u001b[0;32m    925\u001b[0m \u001b[38;5;28;01mif\u001b[39;00m y \u001b[38;5;129;01mis\u001b[39;00m \u001b[38;5;129;01mnot\u001b[39;00m \u001b[38;5;28;01mNone\u001b[39;00m:\n\u001b[1;32m--> 926\u001b[0m     \u001b[38;5;28mself\u001b[39m\u001b[38;5;241m.\u001b[39mbest_estimator_\u001b[38;5;241m.\u001b[39mfit(X, y, \u001b[38;5;241m*\u001b[39m\u001b[38;5;241m*\u001b[39mfit_params)\n\u001b[0;32m    927\u001b[0m \u001b[38;5;28;01melse\u001b[39;00m:\n\u001b[0;32m    928\u001b[0m     \u001b[38;5;28mself\u001b[39m\u001b[38;5;241m.\u001b[39mbest_estimator_\u001b[38;5;241m.\u001b[39mfit(X, \u001b[38;5;241m*\u001b[39m\u001b[38;5;241m*\u001b[39mfit_params)\n",
      "File \u001b[1;32m~\\anaconda3\\lib\\site-packages\\xgboost\\core.py:506\u001b[0m, in \u001b[0;36m_deprecate_positional_args.<locals>.inner_f\u001b[1;34m(*args, **kwargs)\u001b[0m\n\u001b[0;32m    504\u001b[0m \u001b[38;5;28;01mfor\u001b[39;00m k, arg \u001b[38;5;129;01min\u001b[39;00m \u001b[38;5;28mzip\u001b[39m(sig\u001b[38;5;241m.\u001b[39mparameters, args):\n\u001b[0;32m    505\u001b[0m     kwargs[k] \u001b[38;5;241m=\u001b[39m arg\n\u001b[1;32m--> 506\u001b[0m \u001b[38;5;28;01mreturn\u001b[39;00m f(\u001b[38;5;241m*\u001b[39m\u001b[38;5;241m*\u001b[39mkwargs)\n",
      "File \u001b[1;32m~\\anaconda3\\lib\\site-packages\\xgboost\\sklearn.py:1250\u001b[0m, in \u001b[0;36mXGBClassifier.fit\u001b[1;34m(self, X, y, sample_weight, base_margin, eval_set, eval_metric, early_stopping_rounds, verbose, xgb_model, sample_weight_eval_set, base_margin_eval_set, feature_weights, callbacks)\u001b[0m\n\u001b[0;32m   1230\u001b[0m model, feval, params \u001b[38;5;241m=\u001b[39m \u001b[38;5;28mself\u001b[39m\u001b[38;5;241m.\u001b[39m_configure_fit(xgb_model, eval_metric, params)\n\u001b[0;32m   1231\u001b[0m train_dmatrix, evals \u001b[38;5;241m=\u001b[39m _wrap_evaluation_matrices(\n\u001b[0;32m   1232\u001b[0m     missing\u001b[38;5;241m=\u001b[39m\u001b[38;5;28mself\u001b[39m\u001b[38;5;241m.\u001b[39mmissing,\n\u001b[0;32m   1233\u001b[0m     X\u001b[38;5;241m=\u001b[39mX,\n\u001b[1;32m   (...)\u001b[0m\n\u001b[0;32m   1247\u001b[0m     label_transform\u001b[38;5;241m=\u001b[39mlabel_transform,\n\u001b[0;32m   1248\u001b[0m )\n\u001b[1;32m-> 1250\u001b[0m \u001b[38;5;28mself\u001b[39m\u001b[38;5;241m.\u001b[39m_Booster \u001b[38;5;241m=\u001b[39m \u001b[43mtrain\u001b[49m\u001b[43m(\u001b[49m\n\u001b[0;32m   1251\u001b[0m \u001b[43m    \u001b[49m\u001b[43mparams\u001b[49m\u001b[43m,\u001b[49m\n\u001b[0;32m   1252\u001b[0m \u001b[43m    \u001b[49m\u001b[43mtrain_dmatrix\u001b[49m\u001b[43m,\u001b[49m\n\u001b[0;32m   1253\u001b[0m \u001b[43m    \u001b[49m\u001b[38;5;28;43mself\u001b[39;49m\u001b[38;5;241;43m.\u001b[39;49m\u001b[43mget_num_boosting_rounds\u001b[49m\u001b[43m(\u001b[49m\u001b[43m)\u001b[49m\u001b[43m,\u001b[49m\n\u001b[0;32m   1254\u001b[0m \u001b[43m    \u001b[49m\u001b[43mevals\u001b[49m\u001b[38;5;241;43m=\u001b[39;49m\u001b[43mevals\u001b[49m\u001b[43m,\u001b[49m\n\u001b[0;32m   1255\u001b[0m \u001b[43m    \u001b[49m\u001b[43mearly_stopping_rounds\u001b[49m\u001b[38;5;241;43m=\u001b[39;49m\u001b[43mearly_stopping_rounds\u001b[49m\u001b[43m,\u001b[49m\n\u001b[0;32m   1256\u001b[0m \u001b[43m    \u001b[49m\u001b[43mevals_result\u001b[49m\u001b[38;5;241;43m=\u001b[39;49m\u001b[43mevals_result\u001b[49m\u001b[43m,\u001b[49m\n\u001b[0;32m   1257\u001b[0m \u001b[43m    \u001b[49m\u001b[43mobj\u001b[49m\u001b[38;5;241;43m=\u001b[39;49m\u001b[43mobj\u001b[49m\u001b[43m,\u001b[49m\n\u001b[0;32m   1258\u001b[0m \u001b[43m    \u001b[49m\u001b[43mfeval\u001b[49m\u001b[38;5;241;43m=\u001b[39;49m\u001b[43mfeval\u001b[49m\u001b[43m,\u001b[49m\n\u001b[0;32m   1259\u001b[0m \u001b[43m    \u001b[49m\u001b[43mverbose_eval\u001b[49m\u001b[38;5;241;43m=\u001b[39;49m\u001b[43mverbose\u001b[49m\u001b[43m,\u001b[49m\n\u001b[0;32m   1260\u001b[0m \u001b[43m    \u001b[49m\u001b[43mxgb_model\u001b[49m\u001b[38;5;241;43m=\u001b[39;49m\u001b[43mmodel\u001b[49m\u001b[43m,\u001b[49m\n\u001b[0;32m   1261\u001b[0m \u001b[43m    \u001b[49m\u001b[43mcallbacks\u001b[49m\u001b[38;5;241;43m=\u001b[39;49m\u001b[43mcallbacks\u001b[49m\u001b[43m,\u001b[49m\n\u001b[0;32m   1262\u001b[0m \u001b[43m\u001b[49m\u001b[43m)\u001b[49m\n\u001b[0;32m   1264\u001b[0m \u001b[38;5;28;01mif\u001b[39;00m \u001b[38;5;129;01mnot\u001b[39;00m callable(\u001b[38;5;28mself\u001b[39m\u001b[38;5;241m.\u001b[39mobjective):\n\u001b[0;32m   1265\u001b[0m     \u001b[38;5;28mself\u001b[39m\u001b[38;5;241m.\u001b[39mobjective \u001b[38;5;241m=\u001b[39m params[\u001b[38;5;124m\"\u001b[39m\u001b[38;5;124mobjective\u001b[39m\u001b[38;5;124m\"\u001b[39m]\n",
      "File \u001b[1;32m~\\anaconda3\\lib\\site-packages\\xgboost\\training.py:188\u001b[0m, in \u001b[0;36mtrain\u001b[1;34m(params, dtrain, num_boost_round, evals, obj, feval, maximize, early_stopping_rounds, evals_result, verbose_eval, xgb_model, callbacks)\u001b[0m\n\u001b[0;32m    115\u001b[0m \u001b[38;5;28;01mdef\u001b[39;00m \u001b[38;5;21mtrain\u001b[39m(params, dtrain, num_boost_round\u001b[38;5;241m=\u001b[39m\u001b[38;5;241m10\u001b[39m, evals\u001b[38;5;241m=\u001b[39m(), obj\u001b[38;5;241m=\u001b[39m\u001b[38;5;28;01mNone\u001b[39;00m, feval\u001b[38;5;241m=\u001b[39m\u001b[38;5;28;01mNone\u001b[39;00m,\n\u001b[0;32m    116\u001b[0m           maximize\u001b[38;5;241m=\u001b[39m\u001b[38;5;28;01mNone\u001b[39;00m, early_stopping_rounds\u001b[38;5;241m=\u001b[39m\u001b[38;5;28;01mNone\u001b[39;00m, evals_result\u001b[38;5;241m=\u001b[39m\u001b[38;5;28;01mNone\u001b[39;00m,\n\u001b[0;32m    117\u001b[0m           verbose_eval\u001b[38;5;241m=\u001b[39m\u001b[38;5;28;01mTrue\u001b[39;00m, xgb_model\u001b[38;5;241m=\u001b[39m\u001b[38;5;28;01mNone\u001b[39;00m, callbacks\u001b[38;5;241m=\u001b[39m\u001b[38;5;28;01mNone\u001b[39;00m):\n\u001b[0;32m    118\u001b[0m     \u001b[38;5;66;03m# pylint: disable=too-many-statements,too-many-branches, attribute-defined-outside-init\u001b[39;00m\n\u001b[0;32m    119\u001b[0m     \u001b[38;5;124;03m\"\"\"Train a booster with given parameters.\u001b[39;00m\n\u001b[0;32m    120\u001b[0m \n\u001b[0;32m    121\u001b[0m \u001b[38;5;124;03m    Parameters\u001b[39;00m\n\u001b[1;32m   (...)\u001b[0m\n\u001b[0;32m    186\u001b[0m \u001b[38;5;124;03m    Booster : a trained booster model\u001b[39;00m\n\u001b[0;32m    187\u001b[0m \u001b[38;5;124;03m    \"\"\"\u001b[39;00m\n\u001b[1;32m--> 188\u001b[0m     bst \u001b[38;5;241m=\u001b[39m \u001b[43m_train_internal\u001b[49m\u001b[43m(\u001b[49m\u001b[43mparams\u001b[49m\u001b[43m,\u001b[49m\u001b[43m \u001b[49m\u001b[43mdtrain\u001b[49m\u001b[43m,\u001b[49m\n\u001b[0;32m    189\u001b[0m \u001b[43m                          \u001b[49m\u001b[43mnum_boost_round\u001b[49m\u001b[38;5;241;43m=\u001b[39;49m\u001b[43mnum_boost_round\u001b[49m\u001b[43m,\u001b[49m\n\u001b[0;32m    190\u001b[0m \u001b[43m                          \u001b[49m\u001b[43mevals\u001b[49m\u001b[38;5;241;43m=\u001b[39;49m\u001b[43mevals\u001b[49m\u001b[43m,\u001b[49m\n\u001b[0;32m    191\u001b[0m \u001b[43m                          \u001b[49m\u001b[43mobj\u001b[49m\u001b[38;5;241;43m=\u001b[39;49m\u001b[43mobj\u001b[49m\u001b[43m,\u001b[49m\u001b[43m \u001b[49m\u001b[43mfeval\u001b[49m\u001b[38;5;241;43m=\u001b[39;49m\u001b[43mfeval\u001b[49m\u001b[43m,\u001b[49m\n\u001b[0;32m    192\u001b[0m \u001b[43m                          \u001b[49m\u001b[43mxgb_model\u001b[49m\u001b[38;5;241;43m=\u001b[39;49m\u001b[43mxgb_model\u001b[49m\u001b[43m,\u001b[49m\u001b[43m \u001b[49m\u001b[43mcallbacks\u001b[49m\u001b[38;5;241;43m=\u001b[39;49m\u001b[43mcallbacks\u001b[49m\u001b[43m,\u001b[49m\n\u001b[0;32m    193\u001b[0m \u001b[43m                          \u001b[49m\u001b[43mverbose_eval\u001b[49m\u001b[38;5;241;43m=\u001b[39;49m\u001b[43mverbose_eval\u001b[49m\u001b[43m,\u001b[49m\n\u001b[0;32m    194\u001b[0m \u001b[43m                          \u001b[49m\u001b[43mevals_result\u001b[49m\u001b[38;5;241;43m=\u001b[39;49m\u001b[43mevals_result\u001b[49m\u001b[43m,\u001b[49m\n\u001b[0;32m    195\u001b[0m \u001b[43m                          \u001b[49m\u001b[43mmaximize\u001b[49m\u001b[38;5;241;43m=\u001b[39;49m\u001b[43mmaximize\u001b[49m\u001b[43m,\u001b[49m\n\u001b[0;32m    196\u001b[0m \u001b[43m                          \u001b[49m\u001b[43mearly_stopping_rounds\u001b[49m\u001b[38;5;241;43m=\u001b[39;49m\u001b[43mearly_stopping_rounds\u001b[49m\u001b[43m)\u001b[49m\n\u001b[0;32m    197\u001b[0m     \u001b[38;5;28;01mreturn\u001b[39;00m bst\n",
      "File \u001b[1;32m~\\anaconda3\\lib\\site-packages\\xgboost\\training.py:81\u001b[0m, in \u001b[0;36m_train_internal\u001b[1;34m(params, dtrain, num_boost_round, evals, obj, feval, xgb_model, callbacks, evals_result, maximize, verbose_eval, early_stopping_rounds)\u001b[0m\n\u001b[0;32m     79\u001b[0m \u001b[38;5;28;01mif\u001b[39;00m callbacks\u001b[38;5;241m.\u001b[39mbefore_iteration(bst, i, dtrain, evals):\n\u001b[0;32m     80\u001b[0m     \u001b[38;5;28;01mbreak\u001b[39;00m\n\u001b[1;32m---> 81\u001b[0m \u001b[43mbst\u001b[49m\u001b[38;5;241;43m.\u001b[39;49m\u001b[43mupdate\u001b[49m\u001b[43m(\u001b[49m\u001b[43mdtrain\u001b[49m\u001b[43m,\u001b[49m\u001b[43m \u001b[49m\u001b[43mi\u001b[49m\u001b[43m,\u001b[49m\u001b[43m \u001b[49m\u001b[43mobj\u001b[49m\u001b[43m)\u001b[49m\n\u001b[0;32m     82\u001b[0m \u001b[38;5;28;01mif\u001b[39;00m callbacks\u001b[38;5;241m.\u001b[39mafter_iteration(bst, i, dtrain, evals):\n\u001b[0;32m     83\u001b[0m     \u001b[38;5;28;01mbreak\u001b[39;00m\n",
      "File \u001b[1;32m~\\anaconda3\\lib\\site-packages\\xgboost\\core.py:1680\u001b[0m, in \u001b[0;36mBooster.update\u001b[1;34m(self, dtrain, iteration, fobj)\u001b[0m\n\u001b[0;32m   1677\u001b[0m \u001b[38;5;28mself\u001b[39m\u001b[38;5;241m.\u001b[39m_validate_features(dtrain)\n\u001b[0;32m   1679\u001b[0m \u001b[38;5;28;01mif\u001b[39;00m fobj \u001b[38;5;129;01mis\u001b[39;00m \u001b[38;5;28;01mNone\u001b[39;00m:\n\u001b[1;32m-> 1680\u001b[0m     \u001b[43m_check_call\u001b[49m\u001b[43m(\u001b[49m\u001b[43m_LIB\u001b[49m\u001b[38;5;241;43m.\u001b[39;49m\u001b[43mXGBoosterUpdateOneIter\u001b[49m\u001b[43m(\u001b[49m\u001b[38;5;28;43mself\u001b[39;49m\u001b[38;5;241;43m.\u001b[39;49m\u001b[43mhandle\u001b[49m\u001b[43m,\u001b[49m\n\u001b[0;32m   1681\u001b[0m \u001b[43m                                            \u001b[49m\u001b[43mctypes\u001b[49m\u001b[38;5;241;43m.\u001b[39;49m\u001b[43mc_int\u001b[49m\u001b[43m(\u001b[49m\u001b[43miteration\u001b[49m\u001b[43m)\u001b[49m\u001b[43m,\u001b[49m\n\u001b[0;32m   1682\u001b[0m \u001b[43m                                            \u001b[49m\u001b[43mdtrain\u001b[49m\u001b[38;5;241;43m.\u001b[39;49m\u001b[43mhandle\u001b[49m\u001b[43m)\u001b[49m\u001b[43m)\u001b[49m\n\u001b[0;32m   1683\u001b[0m \u001b[38;5;28;01melse\u001b[39;00m:\n\u001b[0;32m   1684\u001b[0m     pred \u001b[38;5;241m=\u001b[39m \u001b[38;5;28mself\u001b[39m\u001b[38;5;241m.\u001b[39mpredict(dtrain, output_margin\u001b[38;5;241m=\u001b[39m\u001b[38;5;28;01mTrue\u001b[39;00m, training\u001b[38;5;241m=\u001b[39m\u001b[38;5;28;01mTrue\u001b[39;00m)\n",
      "File \u001b[1;32m~\\anaconda3\\lib\\site-packages\\xgboost\\core.py:218\u001b[0m, in \u001b[0;36m_check_call\u001b[1;34m(ret)\u001b[0m\n\u001b[0;32m    207\u001b[0m \u001b[38;5;124;03m\"\"\"Check the return value of C API call\u001b[39;00m\n\u001b[0;32m    208\u001b[0m \n\u001b[0;32m    209\u001b[0m \u001b[38;5;124;03mThis function will raise exception when error occurs.\u001b[39;00m\n\u001b[1;32m   (...)\u001b[0m\n\u001b[0;32m    215\u001b[0m \u001b[38;5;124;03m    return value from API calls\u001b[39;00m\n\u001b[0;32m    216\u001b[0m \u001b[38;5;124;03m\"\"\"\u001b[39;00m\n\u001b[0;32m    217\u001b[0m \u001b[38;5;28;01mif\u001b[39;00m ret \u001b[38;5;241m!=\u001b[39m \u001b[38;5;241m0\u001b[39m:\n\u001b[1;32m--> 218\u001b[0m     \u001b[38;5;28;01mraise\u001b[39;00m XGBoostError(py_str(_LIB\u001b[38;5;241m.\u001b[39mXGBGetLastError()))\n",
      "\u001b[1;31mXGBoostError\u001b[0m: [14:24:28] ..\\src\\metric\\metric.cc:49: Unknown metric function  error"
     ]
    }
   ],
   "source": [
    "# RGS - XGBparameter\n",
    "parameters = {\n",
    "    \"booster\": [\"gbtree\"],\n",
    "\n",
    "    # 몇 개의 모델을 만들어서 이어달리기를 할지..\n",
    "    \"n_estimators\" : [10, 50, 100, 300, 500],\n",
    "    # 조금씩 이동하면서 에러 보상할까, 크게 크게 움직이면서 에러 보상..\n",
    "    \"learning_rate\":[0.01, 0.1, 0.3,0.8],\n",
    "\n",
    "    # Tree모형에 대한 조절\n",
    "    \"max_depth\":[2, 4, 6, 8, 10, 20],\n",
    "    \"min_child_weight\":[0.5, 1, 1.5],\n",
    "    \"gamma\":[0, 0.1, 0.5], \n",
    "\n",
    "    # 샘플링쪽 컨트롤\n",
    "    \"subsample\":[0.3, 0.5, 0.7, 0.9],\n",
    "    \"colsample_bytree\":[0.3, 0.5, 0.7, 0.9],\n",
    "\n",
    "    # 부스팅자체가 overfit--> 규약\n",
    "    \"reg_alpha\":[0, 0.01, 0.1, 0.5, 1, 10],\n",
    "    \"reg_lambda\":[0, 0.01, 0.1, 0.5, 1, 10]\n",
    "}\n",
    "n_iter_search = 10\n",
    "xgb_kf_rgs = RandomizedSearchCV(xgbc,\n",
    "                                param_distributions=parameters,\n",
    "                                cv = kfold,\n",
    "                                scoring=\"accuracy\",\n",
    "                                n_jobs = -1 ,\n",
    "                                random_state= 1234,\n",
    "                                n_iter = n_iter_search\n",
    "                                )\n",
    "# 4) 실질적으로 데이터를 밀어서 RGSCV하기위해서 \n",
    "xgb_kf_rgs.fit(X_train, y_train)"
   ]
  },
  {
   "cell_type": "code",
   "execution_count": null,
   "id": "3338dc1c",
   "metadata": {},
   "outputs": [],
   "source": []
  }
 ],
 "metadata": {
  "kernelspec": {
   "display_name": "Python 3 (ipykernel)",
   "language": "python",
   "name": "python3"
  },
  "language_info": {
   "codemirror_mode": {
    "name": "ipython",
    "version": 3
   },
   "file_extension": ".py",
   "mimetype": "text/x-python",
   "name": "python",
   "nbconvert_exporter": "python",
   "pygments_lexer": "ipython3",
   "version": "3.9.12"
  }
 },
 "nbformat": 4,
 "nbformat_minor": 5
}
