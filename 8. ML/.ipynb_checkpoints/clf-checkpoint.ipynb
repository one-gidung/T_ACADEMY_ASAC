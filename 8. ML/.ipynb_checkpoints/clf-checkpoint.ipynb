{
 "cells": [
  {
   "cell_type": "code",
   "execution_count": 2,
   "id": "b21af980",
   "metadata": {},
   "outputs": [],
   "source": [
    "import pandas as pd\n",
    "import numpy as np\n",
    "import matplotlib.pyplot as plt"
   ]
  },
  {
   "cell_type": "code",
   "execution_count": 3,
   "id": "021ed5a3",
   "metadata": {},
   "outputs": [
    {
     "data": {
      "text/html": [
       "<div>\n",
       "<style scoped>\n",
       "    .dataframe tbody tr th:only-of-type {\n",
       "        vertical-align: middle;\n",
       "    }\n",
       "\n",
       "    .dataframe tbody tr th {\n",
       "        vertical-align: top;\n",
       "    }\n",
       "\n",
       "    .dataframe thead th {\n",
       "        text-align: right;\n",
       "    }\n",
       "</style>\n",
       "<table border=\"1\" class=\"dataframe\">\n",
       "  <thead>\n",
       "    <tr style=\"text-align: right;\">\n",
       "      <th></th>\n",
       "      <th>PassengerId</th>\n",
       "      <th>Survived</th>\n",
       "      <th>Pclass</th>\n",
       "      <th>Name</th>\n",
       "      <th>Sex</th>\n",
       "      <th>Age</th>\n",
       "      <th>SibSp</th>\n",
       "      <th>Parch</th>\n",
       "      <th>Ticket</th>\n",
       "      <th>Fare</th>\n",
       "      <th>Cabin</th>\n",
       "      <th>Embarked</th>\n",
       "    </tr>\n",
       "  </thead>\n",
       "  <tbody>\n",
       "    <tr>\n",
       "      <th>0</th>\n",
       "      <td>1</td>\n",
       "      <td>0</td>\n",
       "      <td>3</td>\n",
       "      <td>Braund, Mr. Owen Harris</td>\n",
       "      <td>male</td>\n",
       "      <td>22.0</td>\n",
       "      <td>1</td>\n",
       "      <td>0</td>\n",
       "      <td>A/5 21171</td>\n",
       "      <td>7.2500</td>\n",
       "      <td>NaN</td>\n",
       "      <td>S</td>\n",
       "    </tr>\n",
       "    <tr>\n",
       "      <th>1</th>\n",
       "      <td>2</td>\n",
       "      <td>1</td>\n",
       "      <td>1</td>\n",
       "      <td>Cumings, Mrs. John Bradley (Florence Briggs Th...</td>\n",
       "      <td>female</td>\n",
       "      <td>38.0</td>\n",
       "      <td>1</td>\n",
       "      <td>0</td>\n",
       "      <td>PC 17599</td>\n",
       "      <td>71.2833</td>\n",
       "      <td>C85</td>\n",
       "      <td>C</td>\n",
       "    </tr>\n",
       "    <tr>\n",
       "      <th>2</th>\n",
       "      <td>3</td>\n",
       "      <td>1</td>\n",
       "      <td>3</td>\n",
       "      <td>Heikkinen, Miss. Laina</td>\n",
       "      <td>female</td>\n",
       "      <td>26.0</td>\n",
       "      <td>0</td>\n",
       "      <td>0</td>\n",
       "      <td>STON/O2. 3101282</td>\n",
       "      <td>7.9250</td>\n",
       "      <td>NaN</td>\n",
       "      <td>S</td>\n",
       "    </tr>\n",
       "    <tr>\n",
       "      <th>3</th>\n",
       "      <td>4</td>\n",
       "      <td>1</td>\n",
       "      <td>1</td>\n",
       "      <td>Futrelle, Mrs. Jacques Heath (Lily May Peel)</td>\n",
       "      <td>female</td>\n",
       "      <td>35.0</td>\n",
       "      <td>1</td>\n",
       "      <td>0</td>\n",
       "      <td>113803</td>\n",
       "      <td>53.1000</td>\n",
       "      <td>C123</td>\n",
       "      <td>S</td>\n",
       "    </tr>\n",
       "    <tr>\n",
       "      <th>4</th>\n",
       "      <td>5</td>\n",
       "      <td>0</td>\n",
       "      <td>3</td>\n",
       "      <td>Allen, Mr. William Henry</td>\n",
       "      <td>male</td>\n",
       "      <td>35.0</td>\n",
       "      <td>0</td>\n",
       "      <td>0</td>\n",
       "      <td>373450</td>\n",
       "      <td>8.0500</td>\n",
       "      <td>NaN</td>\n",
       "      <td>S</td>\n",
       "    </tr>\n",
       "  </tbody>\n",
       "</table>\n",
       "</div>"
      ],
      "text/plain": [
       "   PassengerId  Survived  Pclass  \\\n",
       "0            1         0       3   \n",
       "1            2         1       1   \n",
       "2            3         1       3   \n",
       "3            4         1       1   \n",
       "4            5         0       3   \n",
       "\n",
       "                                                Name     Sex   Age  SibSp  \\\n",
       "0                            Braund, Mr. Owen Harris    male  22.0      1   \n",
       "1  Cumings, Mrs. John Bradley (Florence Briggs Th...  female  38.0      1   \n",
       "2                             Heikkinen, Miss. Laina  female  26.0      0   \n",
       "3       Futrelle, Mrs. Jacques Heath (Lily May Peel)  female  35.0      1   \n",
       "4                           Allen, Mr. William Henry    male  35.0      0   \n",
       "\n",
       "   Parch            Ticket     Fare Cabin Embarked  \n",
       "0      0         A/5 21171   7.2500   NaN        S  \n",
       "1      0          PC 17599  71.2833   C85        C  \n",
       "2      0  STON/O2. 3101282   7.9250   NaN        S  \n",
       "3      0            113803  53.1000  C123        S  \n",
       "4      0            373450   8.0500   NaN        S  "
      ]
     },
     "execution_count": 3,
     "metadata": {},
     "output_type": "execute_result"
    }
   ],
   "source": [
    "data = pd.read_csv(\"./data/train.csv\")\n",
    "data.head()"
   ]
  },
  {
   "cell_type": "code",
   "execution_count": 4,
   "id": "eedcc0d7",
   "metadata": {},
   "outputs": [
    {
     "name": "stdout",
     "output_type": "stream",
     "text": [
      "PassengerId: 0.0\n",
      "Survived: 0.0\n",
      "Pclass: 0.0\n",
      "Name: 0.0\n",
      "Sex: 0.0\n",
      "Age: 0.19865319865319866\n",
      "SibSp: 0.0\n",
      "Parch: 0.0\n",
      "Ticket: 0.0\n",
      "Fare: 0.0\n",
      "Cabin: 0.7710437710437711\n",
      "Embarked: 0.002244668911335578\n"
     ]
    }
   ],
   "source": [
    "# 1) 누락된 데이터가 있는지 확인!!!!!!\n",
    "for col in data.columns:\n",
    "    print(str(col)+\":\", data[col].isnull().sum()/len(data))"
   ]
  },
  {
   "cell_type": "code",
   "execution_count": 5,
   "id": "6a4df6f7",
   "metadata": {},
   "outputs": [],
   "source": [
    "# 빵구난 데이터 중에서 Age에 대해서 고민해보자"
   ]
  },
  {
   "cell_type": "code",
   "execution_count": 6,
   "id": "2fe8ffc2",
   "metadata": {},
   "outputs": [
    {
     "data": {
      "text/plain": [
       "<AxesSubplot:ylabel='Frequency'>"
      ]
     },
     "execution_count": 6,
     "metadata": {},
     "output_type": "execute_result"
    },
    {
     "data": {
      "image/png": "[encoded data removed]",
      "text/plain": [
       "<Figure size 432x288 with 1 Axes>"
      ]
     },
     "metadata": {
      "needs_background": "light"
     },
     "output_type": "display_data"
    }
   ],
   "source": [
    "data[\"Age\"].plot(kind=\"hist\")"
   ]
  },
  {
   "cell_type": "code",
   "execution_count": 7,
   "id": "94dd4d7c",
   "metadata": {},
   "outputs": [],
   "source": [
    "# Age 데이터 중에서 20% 정도가 누락\n",
    "# 그냥 제거를 해버리기엔 좀 많이 누락되었다\n",
    "# 채우자! --> 어떻게?\n",
    "# 일단 가장 노멀하게 평균 대표값으로 채운다"
   ]
  },
  {
   "cell_type": "code",
   "execution_count": 8,
   "id": "69d33355",
   "metadata": {},
   "outputs": [],
   "source": [
    "data[\"Age\"].fillna(data[\"Age\"].mean(), inplace=True)"
   ]
  },
  {
   "cell_type": "code",
   "execution_count": 9,
   "id": "2b5240f5",
   "metadata": {},
   "outputs": [
    {
     "data": {
      "text/plain": [
       "0"
      ]
     },
     "execution_count": 9,
     "metadata": {},
     "output_type": "execute_result"
    }
   ],
   "source": [
    "# 다 채워졌는지 확인한다\n",
    "data[\"Age\"].isnull().sum()"
   ]
  },
  {
   "cell_type": "code",
   "execution_count": 10,
   "id": "4d4d215f",
   "metadata": {},
   "outputs": [],
   "source": [
    "# Cabin컬럼, Embarked컬럼에 대해서도 처리를 해야합니다...\n",
    "# 문자열의 값으로 누락되어 있는 변수들!!!!\n",
    "# ---> 새로운 문자열로 채운다!!!(N)"
   ]
  },
  {
   "cell_type": "code",
   "execution_count": 11,
   "id": "687e54ed",
   "metadata": {},
   "outputs": [],
   "source": [
    "data[\"Embarked\"].fillna(\"N\", inplace=True)"
   ]
  },
  {
   "cell_type": "code",
   "execution_count": 12,
   "id": "a76d115b",
   "metadata": {},
   "outputs": [],
   "source": [
    "data[\"Cabin\"].fillna(\"N\", inplace=True)"
   ]
  },
  {
   "cell_type": "code",
   "execution_count": 13,
   "id": "085ce233",
   "metadata": {},
   "outputs": [
    {
     "data": {
      "text/plain": [
       "0"
      ]
     },
     "execution_count": 13,
     "metadata": {},
     "output_type": "execute_result"
    }
   ],
   "source": [
    "data.isnull().sum().sum()"
   ]
  },
  {
   "cell_type": "code",
   "execution_count": 14,
   "id": "478991f9",
   "metadata": {},
   "outputs": [
    {
     "name": "stdout",
     "output_type": "stream",
     "text": [
      "<class 'pandas.core.frame.DataFrame'>\n",
      "RangeIndex: 891 entries, 0 to 890\n",
      "Data columns (total 12 columns):\n",
      " #   Column       Non-Null Count  Dtype  \n",
      "---  ------       --------------  -----  \n",
      " 0   PassengerId  891 non-null    int64  \n",
      " 1   Survived     891 non-null    int64  \n",
      " 2   Pclass       891 non-null    int64  \n",
      " 3   Name         891 non-null    object \n",
      " 4   Sex          891 non-null    object \n",
      " 5   Age          891 non-null    float64\n",
      " 6   SibSp        891 non-null    int64  \n",
      " 7   Parch        891 non-null    int64  \n",
      " 8   Ticket       891 non-null    object \n",
      " 9   Fare         891 non-null    float64\n",
      " 10  Cabin        891 non-null    object \n",
      " 11  Embarked     891 non-null    object \n",
      "dtypes: float64(2), int64(5), object(5)\n",
      "memory usage: 83.7+ KB\n"
     ]
    }
   ],
   "source": [
    "# 빵구난 데이터가 다 없어졌는지 체크\n",
    "data.info()"
   ]
  },
  {
   "cell_type": "code",
   "execution_count": null,
   "id": "bc0388e3",
   "metadata": {},
   "outputs": [],
   "source": [
    "# 2) 빵구난 데이터는 처리가 되었으니, 이제는\n",
    "#    학습을 위한 숫자로 변환!!!!! ---> 인코딩!!!"
   ]
  },
  {
   "cell_type": "code",
   "execution_count": null,
   "id": "2daf0f08",
   "metadata": {},
   "outputs": [],
   "source": [
    "# 인코딩 : 라벨인코딩 vs 원핫인코딩\n",
    "\n",
    "# 성별 : 남자, 연자 //초등,중등,고등\n",
    "# --> 라벨인코딩 : 항목의 종류에 따라서 숫자를 부여\n",
    "# 남자 :0, 여자 : 1 // 초등0, 중등1, 고등2\n",
    "# 컬럼의 수는 그대로!!!! 다만 값만 숫자로...\n",
    "\n",
    "# 남자 ,여자 ------> 원핫인코딩 ----> 남자냐,    여자냐\n",
    "# 남자                                  1           0\n",
    "# 여자                                  0           1\n",
    "# --> 종류가 늘어나면 컬러의 수가 증가!!!!\n",
    "#     데이터의 크기가 증가를 하는데,,,대부분의 영역이 0 :sparse\n",
    "#     너무 종류가 많으면 차원이 엄청 증가할 수 있다!!!!"
   ]
  },
  {
   "cell_type": "code",
   "execution_count": 15,
   "id": "9431c89a",
   "metadata": {},
   "outputs": [],
   "source": [
    "# 예) \n",
    "from sklearn.preprocessing import LabelEncoder"
   ]
  },
  {
   "cell_type": "code",
   "execution_count": 16,
   "id": "4779de1e",
   "metadata": {},
   "outputs": [
    {
     "data": {
      "text/plain": [
       "array([0, 1, 2, 0, 1])"
      ]
     },
     "execution_count": 16,
     "metadata": {},
     "output_type": "execute_result"
    }
   ],
   "source": [
    "items = [\"TV\",\"냉장고\",\"세탁기\",\"TV\",\"냉장고\"]\n",
    "label_enc = LabelEncoder()\n",
    "label_enc.fit(items)\n",
    "label_items = label_enc.transform(items)\n",
    "label_items"
   ]
  },
  {
   "cell_type": "code",
   "execution_count": 17,
   "id": "2e2f444f",
   "metadata": {},
   "outputs": [
    {
     "data": {
      "text/plain": [
       "array(['TV', '냉장고', '세탁기'], dtype='<U3')"
      ]
     },
     "execution_count": 17,
     "metadata": {},
     "output_type": "execute_result"
    }
   ],
   "source": [
    "label_enc.classes_"
   ]
  },
  {
   "cell_type": "code",
   "execution_count": 18,
   "id": "77cef0e8",
   "metadata": {},
   "outputs": [
    {
     "data": {
      "text/plain": [
       "['TV', '냉장고', '커피포트', '냉장고']"
      ]
     },
     "execution_count": 18,
     "metadata": {},
     "output_type": "execute_result"
    }
   ],
   "source": [
    "# test 셋에는 전혀 train에 없는 값이 나타날 수 있음!!!\n",
    "# unseen data 문제 : 커피포트\n",
    "test_items = [\"TV\",\"냉장고\",\"커피포트\",\"냉장고\"]\n",
    "test_items"
   ]
  },
  {
   "cell_type": "code",
   "execution_count": 19,
   "id": "8ebe97ac",
   "metadata": {
    "scrolled": true
   },
   "outputs": [
    {
     "ename": "ValueError",
     "evalue": "y contains previously unseen labels: '커피포트'",
     "output_type": "error",
     "traceback": [
      "\u001b[1;31m---------------------------------------------------------------------------\u001b[0m",
      "\u001b[1;31mKeyError\u001b[0m                                  Traceback (most recent call last)",
      "File \u001b[1;32m~\\anaconda3\\lib\\site-packages\\sklearn\\utils\\_encode.py:182\u001b[0m, in \u001b[0;36m_encode\u001b[1;34m(values, uniques, check_unknown)\u001b[0m\n\u001b[0;32m    181\u001b[0m \u001b[38;5;28;01mtry\u001b[39;00m:\n\u001b[1;32m--> 182\u001b[0m     \u001b[38;5;28;01mreturn\u001b[39;00m \u001b[43m_map_to_integer\u001b[49m\u001b[43m(\u001b[49m\u001b[43mvalues\u001b[49m\u001b[43m,\u001b[49m\u001b[43m \u001b[49m\u001b[43muniques\u001b[49m\u001b[43m)\u001b[49m\n\u001b[0;32m    183\u001b[0m \u001b[38;5;28;01mexcept\u001b[39;00m \u001b[38;5;167;01mKeyError\u001b[39;00m \u001b[38;5;28;01mas\u001b[39;00m e:\n",
      "File \u001b[1;32m~\\anaconda3\\lib\\site-packages\\sklearn\\utils\\_encode.py:126\u001b[0m, in \u001b[0;36m_map_to_integer\u001b[1;34m(values, uniques)\u001b[0m\n\u001b[0;32m    125\u001b[0m table \u001b[38;5;241m=\u001b[39m _nandict({val: i \u001b[38;5;28;01mfor\u001b[39;00m i, val \u001b[38;5;129;01min\u001b[39;00m \u001b[38;5;28menumerate\u001b[39m(uniques)})\n\u001b[1;32m--> 126\u001b[0m \u001b[38;5;28;01mreturn\u001b[39;00m np\u001b[38;5;241m.\u001b[39marray([table[v] \u001b[38;5;28;01mfor\u001b[39;00m v \u001b[38;5;129;01min\u001b[39;00m values])\n",
      "File \u001b[1;32m~\\anaconda3\\lib\\site-packages\\sklearn\\utils\\_encode.py:126\u001b[0m, in \u001b[0;36m<listcomp>\u001b[1;34m(.0)\u001b[0m\n\u001b[0;32m    125\u001b[0m table \u001b[38;5;241m=\u001b[39m _nandict({val: i \u001b[38;5;28;01mfor\u001b[39;00m i, val \u001b[38;5;129;01min\u001b[39;00m \u001b[38;5;28menumerate\u001b[39m(uniques)})\n\u001b[1;32m--> 126\u001b[0m \u001b[38;5;28;01mreturn\u001b[39;00m np\u001b[38;5;241m.\u001b[39marray([\u001b[43mtable\u001b[49m\u001b[43m[\u001b[49m\u001b[43mv\u001b[49m\u001b[43m]\u001b[49m \u001b[38;5;28;01mfor\u001b[39;00m v \u001b[38;5;129;01min\u001b[39;00m values])\n",
      "File \u001b[1;32m~\\anaconda3\\lib\\site-packages\\sklearn\\utils\\_encode.py:120\u001b[0m, in \u001b[0;36m_nandict.__missing__\u001b[1;34m(self, key)\u001b[0m\n\u001b[0;32m    119\u001b[0m     \u001b[38;5;28;01mreturn\u001b[39;00m \u001b[38;5;28mself\u001b[39m\u001b[38;5;241m.\u001b[39mnan_value\n\u001b[1;32m--> 120\u001b[0m \u001b[38;5;28;01mraise\u001b[39;00m \u001b[38;5;167;01mKeyError\u001b[39;00m(key)\n",
      "\u001b[1;31mKeyError\u001b[0m: '커피포트'",
      "\nDuring handling of the above exception, another exception occurred:\n",
      "\u001b[1;31mValueError\u001b[0m                                Traceback (most recent call last)",
      "Input \u001b[1;32mIn [19]\u001b[0m, in \u001b[0;36m<cell line: 1>\u001b[1;34m()\u001b[0m\n\u001b[1;32m----> 1\u001b[0m \u001b[43mlabel_enc\u001b[49m\u001b[38;5;241;43m.\u001b[39;49m\u001b[43mtransform\u001b[49m\u001b[43m(\u001b[49m\u001b[43mtest_items\u001b[49m\u001b[43m)\u001b[49m\n",
      "File \u001b[1;32m~\\anaconda3\\lib\\site-packages\\sklearn\\preprocessing\\_label.py:138\u001b[0m, in \u001b[0;36mLabelEncoder.transform\u001b[1;34m(self, y)\u001b[0m\n\u001b[0;32m    135\u001b[0m \u001b[38;5;28;01mif\u001b[39;00m _num_samples(y) \u001b[38;5;241m==\u001b[39m \u001b[38;5;241m0\u001b[39m:\n\u001b[0;32m    136\u001b[0m     \u001b[38;5;28;01mreturn\u001b[39;00m np\u001b[38;5;241m.\u001b[39marray([])\n\u001b[1;32m--> 138\u001b[0m \u001b[38;5;28;01mreturn\u001b[39;00m \u001b[43m_encode\u001b[49m\u001b[43m(\u001b[49m\u001b[43my\u001b[49m\u001b[43m,\u001b[49m\u001b[43m \u001b[49m\u001b[43muniques\u001b[49m\u001b[38;5;241;43m=\u001b[39;49m\u001b[38;5;28;43mself\u001b[39;49m\u001b[38;5;241;43m.\u001b[39;49m\u001b[43mclasses_\u001b[49m\u001b[43m)\u001b[49m\n",
      "File \u001b[1;32m~\\anaconda3\\lib\\site-packages\\sklearn\\utils\\_encode.py:184\u001b[0m, in \u001b[0;36m_encode\u001b[1;34m(values, uniques, check_unknown)\u001b[0m\n\u001b[0;32m    182\u001b[0m         \u001b[38;5;28;01mreturn\u001b[39;00m _map_to_integer(values, uniques)\n\u001b[0;32m    183\u001b[0m     \u001b[38;5;28;01mexcept\u001b[39;00m \u001b[38;5;167;01mKeyError\u001b[39;00m \u001b[38;5;28;01mas\u001b[39;00m e:\n\u001b[1;32m--> 184\u001b[0m         \u001b[38;5;28;01mraise\u001b[39;00m \u001b[38;5;167;01mValueError\u001b[39;00m(\u001b[38;5;124mf\u001b[39m\u001b[38;5;124m\"\u001b[39m\u001b[38;5;124my contains previously unseen labels: \u001b[39m\u001b[38;5;132;01m{\u001b[39;00m\u001b[38;5;28mstr\u001b[39m(e)\u001b[38;5;132;01m}\u001b[39;00m\u001b[38;5;124m\"\u001b[39m)\n\u001b[0;32m    185\u001b[0m \u001b[38;5;28;01melse\u001b[39;00m:\n\u001b[0;32m    186\u001b[0m     \u001b[38;5;28;01mif\u001b[39;00m check_unknown:\n",
      "\u001b[1;31mValueError\u001b[0m: y contains previously unseen labels: '커피포트'"
     ]
    }
   ],
   "source": [
    "label_enc.transform(test_items)"
   ]
  },
  {
   "cell_type": "code",
   "execution_count": null,
   "id": "627cfe14",
   "metadata": {},
   "outputs": [],
   "source": [
    "# 그러면 이렇게 새로운 값들이 나타나면 어떻게 하지;;;;;?????"
   ]
  },
  {
   "cell_type": "code",
   "execution_count": 20,
   "id": "6b0496f5",
   "metadata": {},
   "outputs": [
    {
     "data": {
      "text/plain": [
       "array([0, 1, 3, 1])"
      ]
     },
     "execution_count": 20,
     "metadata": {},
     "output_type": "execute_result"
    }
   ],
   "source": [
    "# 1) 기존 변환률에 대한 종류를 리스트업하고, 갱신!!!\n",
    "prev_class = list(label_enc.classes_)\n",
    "# 2) unseen data가 나타나면 classes에 추가...\n",
    "for label in np.unique(test_items):\n",
    "    if label not in prev_class:\n",
    "        prev_class.append(label) # <- 뒤로 새로운 값을 추가\n",
    "# 왜냐 앞으로 넣으면 기존의 0이 TV인데, 0 커피포트로 혼선!!!!\n",
    "# 3) 기존의 값과 새로 나타난 것을 합쳐서...\n",
    "label_enc.classes_ = np.array(prev_class)\n",
    "label_enc.transform(test_items)"
   ]
  },
  {
   "cell_type": "code",
   "execution_count": 21,
   "id": "19e335b6",
   "metadata": {},
   "outputs": [],
   "source": [
    "# 원핫인코딩~~~\n",
    "# scikit-learn에서는 1단계) 라벨인코딩 --> 2단계) 원핫인코딩\n",
    "from sklearn.preprocessing import LabelEncoder\n",
    "from sklearn.preprocessing import OneHotEncoder\n",
    "# 원핫인코딩을 하기 위해서는 위의 2개 라벨인코더/원핫인코더 모두 필요.."
   ]
  },
  {
   "cell_type": "code",
   "execution_count": 22,
   "id": "9e9f4cd8",
   "metadata": {},
   "outputs": [
    {
     "name": "stdout",
     "output_type": "stream",
     "text": [
      "라벨인코딩결과: [0 1 2 0 1]\n"
     ]
    },
    {
     "data": {
      "text/plain": [
       "<5x3 sparse matrix of type '<class 'numpy.float64'>'\n",
       "\twith 5 stored elements in Compressed Sparse Row format>"
      ]
     },
     "execution_count": 22,
     "metadata": {},
     "output_type": "execute_result"
    }
   ],
   "source": [
    "# 1단계) 라벨인코딩을 먼저 수행\n",
    "label_enc = LabelEncoder()\n",
    "label_enc.fit(items)\n",
    "label_items = label_enc.transform(items)\n",
    "print(\"라벨인코딩결과:\", label_items)\n",
    "# 2단계 원핫인코딩 : 1단계 결과를 가지고...\n",
    "oh_enc = OneHotEncoder()\n",
    "oh_label_items = label_items.reshape(-1,1) # <- DL : Shape 변경\n",
    "oh_label_labels = oh_enc.fit_transform(oh_label_items)\n",
    "oh_label_labels"
   ]
  },
  {
   "cell_type": "code",
   "execution_count": 23,
   "id": "ceb8ca71",
   "metadata": {},
   "outputs": [
    {
     "data": {
      "text/plain": [
       "array([[1., 0., 0.],\n",
       "       [0., 1., 0.],\n",
       "       [0., 0., 1.],\n",
       "       [1., 0., 0.],\n",
       "       [0., 1., 0.]])"
      ]
     },
     "execution_count": 23,
     "metadata": {},
     "output_type": "execute_result"
    }
   ],
   "source": [
    "oh_label_labels.toarray()"
   ]
  },
  {
   "cell_type": "code",
   "execution_count": 24,
   "id": "2ee2241f",
   "metadata": {},
   "outputs": [
    {
     "data": {
      "text/plain": [
       "array([[0],\n",
       "       [1],\n",
       "       [2],\n",
       "       [0],\n",
       "       [1]])"
      ]
     },
     "execution_count": 24,
     "metadata": {},
     "output_type": "execute_result"
    }
   ],
   "source": [
    "label_items.reshape(-1,1)"
   ]
  },
  {
   "cell_type": "code",
   "execution_count": null,
   "id": "a2d9ed81",
   "metadata": {},
   "outputs": [],
   "source": [
    "# scaling 관련\n",
    "# min/max, standarScler"
   ]
  },
  {
   "cell_type": "code",
   "execution_count": null,
   "id": "8ef06899",
   "metadata": {},
   "outputs": [],
   "source": [
    "### 전처리들에 대한 함수화!!!!---> scikit-learn pieline\n",
    "#  함수로 만들면,,,,함수만 수정."
   ]
  },
  {
   "cell_type": "code",
   "execution_count": null,
   "id": "bb8955da",
   "metadata": {},
   "outputs": [],
   "source": [
    "# 1) 전처리 : 인코딩을 부분을 함수\n",
    "#    입력 : DF전체를 받아서.\n",
    "#    수행 : 내가 원하는 커럶에 인코딩\n",
    "#    출력 : 인코딩이 된 DF"
   ]
  },
  {
   "cell_type": "code",
   "execution_count": 25,
   "id": "e1d75dd7",
   "metadata": {},
   "outputs": [
    {
     "name": "stdout",
     "output_type": "stream",
     "text": [
      "<class 'pandas.core.frame.DataFrame'>\n",
      "RangeIndex: 891 entries, 0 to 890\n",
      "Data columns (total 12 columns):\n",
      " #   Column       Non-Null Count  Dtype  \n",
      "---  ------       --------------  -----  \n",
      " 0   PassengerId  891 non-null    int64  \n",
      " 1   Survived     891 non-null    int64  \n",
      " 2   Pclass       891 non-null    int64  \n",
      " 3   Name         891 non-null    object \n",
      " 4   Sex          891 non-null    object \n",
      " 5   Age          891 non-null    float64\n",
      " 6   SibSp        891 non-null    int64  \n",
      " 7   Parch        891 non-null    int64  \n",
      " 8   Ticket       891 non-null    object \n",
      " 9   Fare         891 non-null    float64\n",
      " 10  Cabin        891 non-null    object \n",
      " 11  Embarked     891 non-null    object \n",
      "dtypes: float64(2), int64(5), object(5)\n",
      "memory usage: 83.7+ KB\n"
     ]
    }
   ],
   "source": [
    "data.info()"
   ]
  },
  {
   "cell_type": "code",
   "execution_count": 26,
   "id": "f6fbad3a",
   "metadata": {},
   "outputs": [],
   "source": [
    "def encode_feature(df):\n",
    "    # cabin : 너무 종류가 많습니다 --> 앞자리 1개만 \n",
    "    df.loc[:, \"Cabin\"] = df.loc[:, \"Cabin\"].apply(lambda x: str(x)[:1])\n",
    "    # 인코딩을 하려는 컬럼을 리스트업\n",
    "    features = [\"Cabin\",\"Sex\",\"Embarked\"]\n",
    "    # 위의 컬럼들을 인코딩....\n",
    "    for f in features:\n",
    "        le = LabelEncoder()\n",
    "        le.fit(df.loc[:,f])\n",
    "        df.loc[:,f] = le.transform(df.loc[:,f])\n",
    "    return df"
   ]
  },
  {
   "cell_type": "code",
   "execution_count": 27,
   "id": "2c12aef7",
   "metadata": {},
   "outputs": [],
   "source": [
    "# 2) 빵구난데이터들에 대한 체크 함수\n",
    "# Age, Cabin, Embarked, Fare\n",
    "# 입력: df ---> 누락처리 --> 출력:df\n",
    "def check_fillna(df):\n",
    "    df[\"Age\"].fillna(df[\"Age\"].mean(), inplace=True)\n",
    "    df[\"Cabin\"].fillna(\"N\",inplace=True)\n",
    "    df[\"Embarked\"].fillna(\"N\", inplace=True)\n",
    "    df[\"Fare\"].fillna(0, inplace=True)\n",
    "    return df"
   ]
  },
  {
   "cell_type": "code",
   "execution_count": 28,
   "id": "864a7ac5",
   "metadata": {},
   "outputs": [],
   "source": [
    "# 불필요한 컬럼 제거 함수\n",
    "# df--> 컬럼제거 --> df\n",
    "def drop_features(df):\n",
    "    df.drop([\"PassengerId\", \"Name\",\"Ticket\"], axis=1, inplace=True)\n",
    "    return df"
   ]
  },
  {
   "cell_type": "code",
   "execution_count": 29,
   "id": "6e38b620",
   "metadata": {},
   "outputs": [],
   "source": [
    "#### 전처리를 함수화를 프로세스로..\n",
    "def titanic_preprocess(df):\n",
    "    df = check_fillna(df)\n",
    "    df = drop_features(df)\n",
    "    df = encode_feature(df)\n",
    "    return df\n",
    "#######"
   ]
  },
  {
   "cell_type": "code",
   "execution_count": null,
   "id": "66e9b3a9",
   "metadata": {},
   "outputs": [],
   "source": [
    "#############################################"
   ]
  },
  {
   "cell_type": "code",
   "execution_count": 31,
   "id": "3535dd2e",
   "metadata": {},
   "outputs": [
    {
     "data": {
      "text/html": [
       "<div>\n",
       "<style scoped>\n",
       "    .dataframe tbody tr th:only-of-type {\n",
       "        vertical-align: middle;\n",
       "    }\n",
       "\n",
       "    .dataframe tbody tr th {\n",
       "        vertical-align: top;\n",
       "    }\n",
       "\n",
       "    .dataframe thead th {\n",
       "        text-align: right;\n",
       "    }\n",
       "</style>\n",
       "<table border=\"1\" class=\"dataframe\">\n",
       "  <thead>\n",
       "    <tr style=\"text-align: right;\">\n",
       "      <th></th>\n",
       "      <th>PassengerId</th>\n",
       "      <th>Survived</th>\n",
       "      <th>Pclass</th>\n",
       "      <th>Name</th>\n",
       "      <th>Sex</th>\n",
       "      <th>Age</th>\n",
       "      <th>SibSp</th>\n",
       "      <th>Parch</th>\n",
       "      <th>Ticket</th>\n",
       "      <th>Fare</th>\n",
       "      <th>Cabin</th>\n",
       "      <th>Embarked</th>\n",
       "    </tr>\n",
       "  </thead>\n",
       "  <tbody>\n",
       "    <tr>\n",
       "      <th>0</th>\n",
       "      <td>1</td>\n",
       "      <td>0</td>\n",
       "      <td>3</td>\n",
       "      <td>Braund, Mr. Owen Harris</td>\n",
       "      <td>male</td>\n",
       "      <td>22.0</td>\n",
       "      <td>1</td>\n",
       "      <td>0</td>\n",
       "      <td>A/5 21171</td>\n",
       "      <td>7.2500</td>\n",
       "      <td>NaN</td>\n",
       "      <td>S</td>\n",
       "    </tr>\n",
       "    <tr>\n",
       "      <th>1</th>\n",
       "      <td>2</td>\n",
       "      <td>1</td>\n",
       "      <td>1</td>\n",
       "      <td>Cumings, Mrs. John Bradley (Florence Briggs Th...</td>\n",
       "      <td>female</td>\n",
       "      <td>38.0</td>\n",
       "      <td>1</td>\n",
       "      <td>0</td>\n",
       "      <td>PC 17599</td>\n",
       "      <td>71.2833</td>\n",
       "      <td>C85</td>\n",
       "      <td>C</td>\n",
       "    </tr>\n",
       "    <tr>\n",
       "      <th>2</th>\n",
       "      <td>3</td>\n",
       "      <td>1</td>\n",
       "      <td>3</td>\n",
       "      <td>Heikkinen, Miss. Laina</td>\n",
       "      <td>female</td>\n",
       "      <td>26.0</td>\n",
       "      <td>0</td>\n",
       "      <td>0</td>\n",
       "      <td>STON/O2. 3101282</td>\n",
       "      <td>7.9250</td>\n",
       "      <td>NaN</td>\n",
       "      <td>S</td>\n",
       "    </tr>\n",
       "    <tr>\n",
       "      <th>3</th>\n",
       "      <td>4</td>\n",
       "      <td>1</td>\n",
       "      <td>1</td>\n",
       "      <td>Futrelle, Mrs. Jacques Heath (Lily May Peel)</td>\n",
       "      <td>female</td>\n",
       "      <td>35.0</td>\n",
       "      <td>1</td>\n",
       "      <td>0</td>\n",
       "      <td>113803</td>\n",
       "      <td>53.1000</td>\n",
       "      <td>C123</td>\n",
       "      <td>S</td>\n",
       "    </tr>\n",
       "    <tr>\n",
       "      <th>4</th>\n",
       "      <td>5</td>\n",
       "      <td>0</td>\n",
       "      <td>3</td>\n",
       "      <td>Allen, Mr. William Henry</td>\n",
       "      <td>male</td>\n",
       "      <td>35.0</td>\n",
       "      <td>0</td>\n",
       "      <td>0</td>\n",
       "      <td>373450</td>\n",
       "      <td>8.0500</td>\n",
       "      <td>NaN</td>\n",
       "      <td>S</td>\n",
       "    </tr>\n",
       "  </tbody>\n",
       "</table>\n",
       "</div>"
      ],
      "text/plain": [
       "   PassengerId  Survived  Pclass  \\\n",
       "0            1         0       3   \n",
       "1            2         1       1   \n",
       "2            3         1       3   \n",
       "3            4         1       1   \n",
       "4            5         0       3   \n",
       "\n",
       "                                                Name     Sex   Age  SibSp  \\\n",
       "0                            Braund, Mr. Owen Harris    male  22.0      1   \n",
       "1  Cumings, Mrs. John Bradley (Florence Briggs Th...  female  38.0      1   \n",
       "2                             Heikkinen, Miss. Laina  female  26.0      0   \n",
       "3       Futrelle, Mrs. Jacques Heath (Lily May Peel)  female  35.0      1   \n",
       "4                           Allen, Mr. William Henry    male  35.0      0   \n",
       "\n",
       "   Parch            Ticket     Fare Cabin Embarked  \n",
       "0      0         A/5 21171   7.2500   NaN        S  \n",
       "1      0          PC 17599  71.2833   C85        C  \n",
       "2      0  STON/O2. 3101282   7.9250   NaN        S  \n",
       "3      0            113803  53.1000  C123        S  \n",
       "4      0            373450   8.0500   NaN        S  "
      ]
     },
     "execution_count": 31,
     "metadata": {},
     "output_type": "execute_result"
    }
   ],
   "source": [
    "path = \"./data/train.csv\"\n",
    "data = pd.read_csv(path)\n",
    "data.head()"
   ]
  },
  {
   "cell_type": "code",
   "execution_count": 32,
   "id": "cd6d33d7",
   "metadata": {},
   "outputs": [
    {
     "name": "stdout",
     "output_type": "stream",
     "text": [
      "<class 'pandas.core.frame.DataFrame'>\n",
      "RangeIndex: 891 entries, 0 to 890\n",
      "Data columns (total 11 columns):\n",
      " #   Column       Non-Null Count  Dtype  \n",
      "---  ------       --------------  -----  \n",
      " 0   PassengerId  891 non-null    int64  \n",
      " 1   Pclass       891 non-null    int64  \n",
      " 2   Name         891 non-null    object \n",
      " 3   Sex          891 non-null    object \n",
      " 4   Age          714 non-null    float64\n",
      " 5   SibSp        891 non-null    int64  \n",
      " 6   Parch        891 non-null    int64  \n",
      " 7   Ticket       891 non-null    object \n",
      " 8   Fare         891 non-null    float64\n",
      " 9   Cabin        204 non-null    object \n",
      " 10  Embarked     889 non-null    object \n",
      "dtypes: float64(2), int64(4), object(5)\n",
      "memory usage: 76.7+ KB\n"
     ]
    }
   ],
   "source": [
    "# 정답지와 문제지를 분리!!!!\n",
    "y_titanic = data.loc[:, \"Survived\"]\n",
    "X_titanic = data.drop(\"Survived\", axis = 1)\n",
    "X_titanic.info()"
   ]
  },
  {
   "cell_type": "code",
   "execution_count": 33,
   "id": "f9222d98",
   "metadata": {},
   "outputs": [
    {
     "name": "stdout",
     "output_type": "stream",
     "text": [
      "<class 'pandas.core.frame.DataFrame'>\n",
      "RangeIndex: 891 entries, 0 to 890\n",
      "Data columns (total 8 columns):\n",
      " #   Column    Non-Null Count  Dtype  \n",
      "---  ------    --------------  -----  \n",
      " 0   Pclass    891 non-null    int64  \n",
      " 1   Sex       891 non-null    int32  \n",
      " 2   Age       891 non-null    float64\n",
      " 3   SibSp     891 non-null    int64  \n",
      " 4   Parch     891 non-null    int64  \n",
      " 5   Fare      891 non-null    float64\n",
      " 6   Cabin     891 non-null    int32  \n",
      " 7   Embarked  891 non-null    int32  \n",
      "dtypes: float64(2), int32(3), int64(3)\n",
      "memory usage: 45.4 KB\n"
     ]
    }
   ],
   "source": [
    "X_titanic = titanic_preprocess(X_titanic)\n",
    "X_titanic.info()"
   ]
  },
  {
   "cell_type": "code",
   "execution_count": null,
   "id": "053bf604",
   "metadata": {},
   "outputs": [],
   "source": [
    "### train을 가지고 자체적으로 검증을 위해서 셋을 분리\n",
    "#  test---> validation"
   ]
  },
  {
   "cell_type": "code",
   "execution_count": 34,
   "id": "c9579547",
   "metadata": {},
   "outputs": [],
   "source": [
    "from sklearn.model_selection import train_test_split"
   ]
  },
  {
   "cell_type": "code",
   "execution_count": 35,
   "id": "677e837b",
   "metadata": {},
   "outputs": [
    {
     "data": {
      "text/plain": [
       "0    0.616162\n",
       "1    0.383838\n",
       "Name: Survived, dtype: float64"
      ]
     },
     "execution_count": 35,
     "metadata": {},
     "output_type": "execute_result"
    }
   ],
   "source": [
    "y_titanic.value_counts()/len(y_titanic)"
   ]
  },
  {
   "cell_type": "code",
   "execution_count": 36,
   "id": "3751359c",
   "metadata": {},
   "outputs": [],
   "source": [
    "X_train, X_test, y_train, y_test = train_test_split(\n",
    "    X_titanic,y_titanic, test_size = 0.2, random_state=1234,\n",
    "    stratify=y_titanic\n",
    ")"
   ]
  },
  {
   "cell_type": "code",
   "execution_count": 37,
   "id": "adf03de5",
   "metadata": {},
   "outputs": [
    {
     "data": {
      "text/plain": [
       "0    0.616573\n",
       "1    0.383427\n",
       "Name: Survived, dtype: float64"
      ]
     },
     "execution_count": 37,
     "metadata": {},
     "output_type": "execute_result"
    }
   ],
   "source": [
    "y_train.value_counts()/len(y_train)"
   ]
  },
  {
   "cell_type": "code",
   "execution_count": 38,
   "id": "f89b9792",
   "metadata": {},
   "outputs": [
    {
     "data": {
      "text/plain": [
       "0    0.614525\n",
       "1    0.385475\n",
       "Name: Survived, dtype: float64"
      ]
     },
     "execution_count": 38,
     "metadata": {},
     "output_type": "execute_result"
    }
   ],
   "source": [
    "y_test.value_counts()/len(y_test)"
   ]
  },
  {
   "cell_type": "code",
   "execution_count": 39,
   "id": "eefbe8d1",
   "metadata": {},
   "outputs": [],
   "source": [
    "######## 주어진 train에 대해서 k-fold CV를 하려고 할때 고정!!!"
   ]
  },
  {
   "cell_type": "code",
   "execution_count": null,
   "id": "b11662be",
   "metadata": {},
   "outputs": [],
   "source": [
    "# 1) 일반적인 K-Fold"
   ]
  },
  {
   "cell_type": "code",
   "execution_count": 40,
   "id": "e18fd5cc",
   "metadata": {},
   "outputs": [],
   "source": [
    "from sklearn.model_selection import KFold"
   ]
  },
  {
   "cell_type": "code",
   "execution_count": 41,
   "id": "e8e5bf05",
   "metadata": {},
   "outputs": [],
   "source": [
    "kfold = KFold(n_splits=5, random_state=1234, shuffle=True)"
   ]
  },
  {
   "cell_type": "code",
   "execution_count": 42,
   "id": "b5af1a2a",
   "metadata": {},
   "outputs": [
    {
     "name": "stdout",
     "output_type": "stream",
     "text": [
      "0번째 구분: train용 데이터[ 0  1  2  3  4  5  6  8  9 10],검증용[ 7 11 21 24 28 29 58 60 61 64]\n",
      "1번째 구분: train용 데이터[ 0  1  2  3  4  5  6  7  9 10],검증용[ 8 13 20 27 34 39 40 44 47 50]\n",
      "2번째 구분: train용 데이터[ 1  3  4  5  7  8  9 10 11 12],검증용[ 0  2  6 17 19 22 25 33 35 36]\n",
      "3번째 구분: train용 데이터[ 0  1  2  3  4  6  7  8 10 11],검증용[ 5  9 12 16 23 31 32 42 48 49]\n",
      "4번째 구분: train용 데이터[ 0  2  5  6  7  8  9 11 12 13],검증용[ 1  3  4 10 14 15 18 26 30 41]\n"
     ]
    }
   ],
   "source": [
    "for idx, (x_tr, x_val) in enumerate(kfold.split(X_train, y_train)):\n",
    "    print(str(idx) +\"번째 구분: train용 데이터\"+str(x_tr[:10])+\",검증용\"+str(x_val[:10]))"
   ]
  },
  {
   "cell_type": "code",
   "execution_count": 43,
   "id": "b8b62b87",
   "metadata": {},
   "outputs": [
    {
     "name": "stdout",
     "output_type": "stream",
     "text": [
      "0    0.643357\n",
      "1    0.356643\n",
      "Name: Survived, dtype: float64\n",
      "----\n",
      "0    0.58042\n",
      "1    0.41958\n",
      "Name: Survived, dtype: float64\n",
      "----\n",
      "0    0.647887\n",
      "1    0.352113\n",
      "Name: Survived, dtype: float64\n",
      "----\n",
      "0    0.605634\n",
      "1    0.394366\n",
      "Name: Survived, dtype: float64\n",
      "----\n",
      "0    0.605634\n",
      "1    0.394366\n",
      "Name: Survived, dtype: float64\n",
      "----\n"
     ]
    }
   ],
   "source": [
    "for idx, (x_tr, x_val) in enumerate(kfold.split(X_train, y_train)):\n",
    "    print(y_train.iloc[x_val].value_counts(normalize=True))\n",
    "    print(\"----\")"
   ]
  },
  {
   "cell_type": "code",
   "execution_count": 46,
   "id": "b082a15a",
   "metadata": {},
   "outputs": [],
   "source": [
    "# 2) Stratified K-Fold"
   ]
  },
  {
   "cell_type": "code",
   "execution_count": 47,
   "id": "97a92cd5",
   "metadata": {},
   "outputs": [],
   "source": [
    "from sklearn.model_selection import StratifiedKFold"
   ]
  },
  {
   "cell_type": "code",
   "execution_count": 48,
   "id": "83c9d2c1",
   "metadata": {},
   "outputs": [],
   "source": [
    "str_kfold = StratifiedKFold(n_splits=5, random_state=1234, shuffle=True)"
   ]
  },
  {
   "cell_type": "code",
   "execution_count": 49,
   "id": "9c5e07cb",
   "metadata": {},
   "outputs": [
    {
     "name": "stdout",
     "output_type": "stream",
     "text": [
      "0    0.615385\n",
      "1    0.384615\n",
      "Name: Survived, dtype: float64\n",
      "----\n",
      "0    0.615385\n",
      "1    0.384615\n",
      "Name: Survived, dtype: float64\n",
      "----\n",
      "0    0.619718\n",
      "1    0.380282\n",
      "Name: Survived, dtype: float64\n",
      "----\n",
      "0    0.619718\n",
      "1    0.380282\n",
      "Name: Survived, dtype: float64\n",
      "----\n",
      "0    0.612676\n",
      "1    0.387324\n",
      "Name: Survived, dtype: float64\n",
      "----\n"
     ]
    }
   ],
   "source": [
    "for idx, (x_tr, x_val) in enumerate(str_kfold.split(X_train, y_train)):\n",
    "    print(y_train.iloc[x_val].value_counts(normalize=True))\n",
    "    print(\"----\")"
   ]
  },
  {
   "cell_type": "code",
   "execution_count": 50,
   "id": "cd84a52e",
   "metadata": {},
   "outputs": [],
   "source": [
    "# 3) reopeated K-Fold # --> 데이터가 좀 부족할 때 "
   ]
  },
  {
   "cell_type": "code",
   "execution_count": 51,
   "id": "489d6f3f",
   "metadata": {},
   "outputs": [],
   "source": [
    "from sklearn.model_selection import RepeatedKFold"
   ]
  },
  {
   "cell_type": "code",
   "execution_count": 52,
   "id": "01530075",
   "metadata": {},
   "outputs": [],
   "source": [
    "rkfold = RepeatedKFold(n_splits=5, random_state=1234, n_repeats=10)"
   ]
  },
  {
   "cell_type": "code",
   "execution_count": 53,
   "id": "3fac47cb",
   "metadata": {},
   "outputs": [],
   "source": [
    "# 4) Repeated Stratified K-Fold -> 데이터부족 & 비율!!!"
   ]
  },
  {
   "cell_type": "code",
   "execution_count": 54,
   "id": "59e56199",
   "metadata": {},
   "outputs": [],
   "source": [
    "from sklearn.model_selection import RepeatedStratifiedKFold"
   ]
  },
  {
   "cell_type": "code",
   "execution_count": 55,
   "id": "0d599fa5",
   "metadata": {},
   "outputs": [],
   "source": [
    "rskfold = RepeatedStratifiedKFold(n_splits=5, random_state=1234, n_repeats=10)"
   ]
  },
  {
   "cell_type": "code",
   "execution_count": 56,
   "id": "66544eb9",
   "metadata": {},
   "outputs": [],
   "source": [
    "# 오해하지 말아야하는게,,,나눌려는 준비만 한 것임!!!\n",
    "# -->실제 나누는 것은 cv를 사용한 모듈에서 알아서 진행을 합니다~~~"
   ]
  },
  {
   "cell_type": "code",
   "execution_count": 57,
   "id": "085f73e8",
   "metadata": {},
   "outputs": [],
   "source": [
    "# knn, svm, rf, xgboost, lightgbm\n",
    "# --> baseline, HPT(GridSearch/RancomGridSearch)\n",
    "# ----------- Bayesian HPT : optuna(메뉴얼과 코드 좀 많이 손대야...)\n",
    "\n",
    "# 여러 모델을 종합해서 하는 voting을 해서 new_model\n",
    "\n",
    "# (  <- stacking /// regression해볼것 )\n",
    "\n",
    "# 최종 모델을 선정!!!"
   ]
  },
  {
   "cell_type": "code",
   "execution_count": 58,
   "id": "13d194b4",
   "metadata": {},
   "outputs": [],
   "source": [
    "# K-Fold 통해서 돌려가면서 모델을 평가 : cross-val\n",
    "from sklearn.model_selection import cross_val_score\n",
    "# 평가 : \n",
    "from sklearn.metrics import accuracy_score, precision_score, recall_score\n",
    "# HPT\n",
    "# gridsearch : 내가 테스트할 파라미터 조합들을 주면 그것들 다 함.100가지\n",
    "# randomgridsearch : 그 조합들 중에서 random 선택해서 수행 -> 속도적인 빠름\n",
    "#                    내가 시킨 조합을 다 하지는 않습니다1!!!\n",
    "# +++ OPTUNA\n",
    "from sklearn.model_selection import GridSearchCV\n",
    "from sklearn.model_selection import RandomizedSearchCV\n",
    "# -> 장점 : 제일 모델을 바로 불러올 수 있음!!! 재학습X"
   ]
  },
  {
   "cell_type": "code",
   "execution_count": 59,
   "id": "c453ab2a",
   "metadata": {},
   "outputs": [],
   "source": [
    "## 1번 모델 : knn"
   ]
  },
  {
   "cell_type": "code",
   "execution_count": 60,
   "id": "be613f42",
   "metadata": {},
   "outputs": [],
   "source": [
    "from sklearn.neighbors import KNeighborsClassifier"
   ]
  },
  {
   "cell_type": "code",
   "execution_count": 61,
   "id": "6eb17297",
   "metadata": {},
   "outputs": [],
   "source": [
    "knn = KNeighborsClassifier(n_jobs = -1)"
   ]
  },
  {
   "cell_type": "code",
   "execution_count": 62,
   "id": "110ab431",
   "metadata": {},
   "outputs": [],
   "source": [
    "# BaseLine을 체크를 하려고 하는데,,cross-val"
   ]
  },
  {
   "cell_type": "code",
   "execution_count": 64,
   "id": "d1fae3a8",
   "metadata": {},
   "outputs": [
    {
     "name": "stdout",
     "output_type": "stream",
     "text": [
      "KNN 0번째 검증 ACC:0.7343\n",
      "KNN 1번째 검증 ACC:0.7063\n",
      "KNN 2번째 검증 ACC:0.6549\n",
      "KNN 3번째 검증 ACC:0.6831\n",
      "KNN 4번째 검증 ACC:0.7817\n",
      "KNN 평균 ACC: 0.7120555500837191\n"
     ]
    }
   ],
   "source": [
    "scores = cross_val_score(knn, \n",
    "                         X_train, y_train,\n",
    "                         cv = kfold, scoring=\"accuracy\")\n",
    "for iter_count, acc in enumerate(scores):\n",
    "    print(\"KNN {0}번째 검증 ACC:{1:.4f}\".format(iter_count,acc))\n",
    "print(\"KNN 평균 ACC:\", scores.mean())"
   ]
  },
  {
   "cell_type": "code",
   "execution_count": null,
   "id": "c2517509",
   "metadata": {},
   "outputs": [],
   "source": [
    "# 최소한 0.7X보다는 높도록 모델을 튜닝!!!!===> HPT"
   ]
  },
  {
   "cell_type": "code",
   "execution_count": 65,
   "id": "b8a139b9",
   "metadata": {},
   "outputs": [],
   "source": [
    "# KNN의 메뉴얼을 봤더니 Test할 파라미터는 n_neighbors\n",
    "# 규칙 : 내가 테스트할 파라미터의 이름을 키, 테스할 값을 values 지정\n",
    "parametrs = {\n",
    "    \"n_neighbors\" : [1,3,5,7,9,11]\n",
    "}"
   ]
  },
  {
   "cell_type": "code",
   "execution_count": 66,
   "id": "b902d2c6",
   "metadata": {},
   "outputs": [
    {
     "name": "stderr",
     "output_type": "stream",
     "text": [
      "C:\\Users\\NTX550\\anaconda3\\lib\\site-packages\\sklearn\\model_selection\\_search.py:292: UserWarning: The total space of parameters 6 is smaller than n_iter=10. Running 6 iterations. For exhaustive searches, use GridSearchCV.\n",
      "  warnings.warn(\n"
     ]
    },
    {
     "data": {
      "text/plain": [
       "RandomizedSearchCV(cv=KFold(n_splits=5, random_state=1234, shuffle=True),\n",
       "                   estimator=KNeighborsClassifier(n_jobs=-1), n_jobs=-1,\n",
       "                   param_distributions={'n_neighbors': [1, 3, 5, 7, 9, 11]},\n",
       "                   random_state=1234, scoring='accuracy')"
      ]
     },
     "execution_count": 66,
     "metadata": {},
     "output_type": "execute_result"
    }
   ],
   "source": [
    "# RadnomGridSearch를 먼저 사용해서 대략적인 범위가 어딘지 체크\n",
    "# 1) 사용할 모델\n",
    "knn = KNeighborsClassifier(n_jobs = -1)\n",
    "# 2) 몇 번 반복하면서 찾을 것인가? rrandomGridSearch\n",
    "n_iter_search = 10\n",
    "# 3) RFSCV세팅\n",
    "knn_kf_rgs = RandomizedSearchCV(knn,\n",
    "                                param_distributions=parametrs,\n",
    "                                cv = kfold,\n",
    "                                scoring=\"accuracy\",\n",
    "                                n_jobs = -1 ,\n",
    "                                random_state= 1234,\n",
    "                                n_iter = n_iter_search\n",
    "                                )\n",
    "# 4) 실질적으로 데이터를 밀어서 RGSCV하기위해서 \n",
    "knn_kf_rgs.fit(X_train, y_train)"
   ]
  },
  {
   "cell_type": "code",
   "execution_count": 67,
   "id": "297ab98d",
   "metadata": {},
   "outputs": [
    {
     "data": {
      "text/plain": [
       "{'mean_fit_time': array([0.00379944, 0.00357533, 0.00339699, 0.00416374, 0.00344925,\n",
       "        0.00394158]),\n",
       " 'std_fit_time': array([0.0004059 , 0.00047495, 0.00033321, 0.00124775, 0.0003158 ,\n",
       "        0.00018731]),\n",
       " 'mean_score_time': array([0.02282381, 0.01690044, 0.01505313, 0.0180459 , 0.02341003,\n",
       "        0.01770253]),\n",
       " 'std_score_time': array([0.00372278, 0.00235298, 0.00109584, 0.00221315, 0.00506407,\n",
       "        0.00189278]),\n",
       " 'param_n_neighbors': masked_array(data=[1, 3, 5, 7, 9, 11],\n",
       "              mask=[False, False, False, False, False, False],\n",
       "        fill_value='?',\n",
       "             dtype=object),\n",
       " 'params': [{'n_neighbors': 1},\n",
       "  {'n_neighbors': 3},\n",
       "  {'n_neighbors': 5},\n",
       "  {'n_neighbors': 7},\n",
       "  {'n_neighbors': 9},\n",
       "  {'n_neighbors': 11}],\n",
       " 'split0_test_score': array([0.68531469, 0.72027972, 0.73426573, 0.72727273, 0.72027972,\n",
       "        0.71328671]),\n",
       " 'split1_test_score': array([0.65734266, 0.70629371, 0.70629371, 0.6993007 , 0.6993007 ,\n",
       "        0.70629371]),\n",
       " 'split2_test_score': array([0.66197183, 0.67605634, 0.65492958, 0.67605634, 0.6971831 ,\n",
       "        0.70422535]),\n",
       " 'split3_test_score': array([0.69014085, 0.69014085, 0.68309859, 0.69014085, 0.71126761,\n",
       "        0.70422535]),\n",
       " 'split4_test_score': array([0.82394366, 0.76056338, 0.78169014, 0.77464789, 0.76760563,\n",
       "        0.74647887]),\n",
       " 'mean_test_score': array([0.70374274, 0.7106668 , 0.71205555, 0.7134837 , 0.71912735,\n",
       "        0.714902  ]),\n",
       " 'std_test_score': array([0.06143394, 0.02905305, 0.04353699, 0.0348656 , 0.0256433 ,\n",
       "        0.01613563]),\n",
       " 'rank_test_score': array([6, 5, 4, 3, 1, 2])}"
      ]
     },
     "execution_count": 67,
     "metadata": {},
     "output_type": "execute_result"
    }
   ],
   "source": [
    "# 실제 수행한 결과들을\n",
    "knn_kf_rgs.cv_results_"
   ]
  },
  {
   "cell_type": "code",
   "execution_count": 68,
   "id": "b6c15f58",
   "metadata": {},
   "outputs": [
    {
     "data": {
      "text/plain": [
       "{'n_neighbors': 9}"
      ]
     },
     "execution_count": 68,
     "metadata": {},
     "output_type": "execute_result"
    }
   ],
   "source": [
    "# 대표적으로 잘 나온 파라미터가 뭐야\n",
    "knn_kf_rgs.best_params_"
   ]
  },
  {
   "cell_type": "code",
   "execution_count": 69,
   "id": "962b2061",
   "metadata": {},
   "outputs": [
    {
     "data": {
      "text/plain": [
       "0.7191273515217178"
      ]
     },
     "execution_count": 69,
     "metadata": {},
     "output_type": "execute_result"
    }
   ],
   "source": [
    "# 제일 잘 나왔을 때 성능? <- 내가 지정한 acc\n",
    "knn_kf_rgs.best_score_"
   ]
  },
  {
   "cell_type": "code",
   "execution_count": 70,
   "id": "4cbc588f",
   "metadata": {},
   "outputs": [
    {
     "name": "stdout",
     "output_type": "stream",
     "text": [
      "KNN-Kfold-RGS-Test Score: 0.6871508379888268\n"
     ]
    }
   ],
   "source": [
    "# 제일 좋았던 모델을 가지오자..\n",
    "knn_kf_rgs_best = knn_kf_rgs.best_estimator_\n",
    "knn_kf_rgs_best_ypred =knn_kf_rgs_best.predict(X_test)\n",
    "knn_kf_rgs_best_acc = accuracy_score(y_test,knn_kf_rgs_best_ypred )\n",
    "print(\"KNN-Kfold-RGS-Test Score:\",knn_kf_rgs_best_acc)"
   ]
  },
  {
   "cell_type": "code",
   "execution_count": 75,
   "id": "c1943d57",
   "metadata": {},
   "outputs": [
    {
     "data": {
      "text/plain": [
       "GridSearchCV(cv=KFold(n_splits=5, random_state=1234, shuffle=True),\n",
       "             estimator=KNeighborsClassifier(n_jobs=-1), n_jobs=-1,\n",
       "             param_grid={'n_neighbors': [7, 9, 11]}, scoring='accuracy')"
      ]
     },
     "execution_count": 75,
     "metadata": {},
     "output_type": "execute_result"
    }
   ],
   "source": [
    "### 시간이 여유로워서 더 그 주변을 디테일하게 탐사하려고 할 때\n",
    "# gridsearch\n",
    "# 1) 디테일하게 직접 체크할 파라미터들의 조합\n",
    "parameters = {\n",
    "    \"n_neighbors\" : [7,9,11]\n",
    "}\n",
    "# 2) 사용할 모델\n",
    "knn = KNeighborsClassifier(n_jobs = -1)\n",
    "# 3) 직접 탐사할 세팅 GridSearchCV\n",
    "knn_kf_gs = GridSearchCV(knn, \n",
    "                         param_grid = parameters,\n",
    "                         cv = kfold, scoring=\"accuracy\",\n",
    "                         n_jobs=-1)\n",
    "# 4) 실제 데이터를 넣어서 학습\n",
    "knn_kf_gs.fit(X_train, y_train)"
   ]
  },
  {
   "cell_type": "code",
   "execution_count": 76,
   "id": "8cbf8355",
   "metadata": {},
   "outputs": [
    {
     "data": {
      "text/plain": [
       "0.7191273515217178"
      ]
     },
     "execution_count": 76,
     "metadata": {},
     "output_type": "execute_result"
    }
   ],
   "source": [
    "knn_kf_gs.best_score_"
   ]
  },
  {
   "cell_type": "code",
   "execution_count": 77,
   "id": "12372b75",
   "metadata": {},
   "outputs": [
    {
     "data": {
      "text/plain": [
       "{'n_neighbors': 9}"
      ]
     },
     "execution_count": 77,
     "metadata": {},
     "output_type": "execute_result"
    }
   ],
   "source": [
    "knn_kf_gs.best_params_"
   ]
  },
  {
   "cell_type": "code",
   "execution_count": 78,
   "id": "eae4fafd",
   "metadata": {},
   "outputs": [
    {
     "data": {
      "text/plain": [
       "{'mean_fit_time': array([0.00331092, 0.00365076, 0.00370541]),\n",
       " 'std_fit_time': array([0.00049456, 0.00038126, 0.00037487]),\n",
       " 'mean_score_time': array([0.0144012 , 0.02004504, 0.01509538]),\n",
       " 'std_score_time': array([0.00108857, 0.00402759, 0.00208257]),\n",
       " 'param_n_neighbors': masked_array(data=[7, 9, 11],\n",
       "              mask=[False, False, False],\n",
       "        fill_value='?',\n",
       "             dtype=object),\n",
       " 'params': [{'n_neighbors': 7}, {'n_neighbors': 9}, {'n_neighbors': 11}],\n",
       " 'split0_test_score': array([0.72727273, 0.72027972, 0.71328671]),\n",
       " 'split1_test_score': array([0.6993007 , 0.6993007 , 0.70629371]),\n",
       " 'split2_test_score': array([0.67605634, 0.6971831 , 0.70422535]),\n",
       " 'split3_test_score': array([0.69014085, 0.71126761, 0.70422535]),\n",
       " 'split4_test_score': array([0.77464789, 0.76760563, 0.74647887]),\n",
       " 'mean_test_score': array([0.7134837 , 0.71912735, 0.714902  ]),\n",
       " 'std_test_score': array([0.0348656 , 0.0256433 , 0.01613563]),\n",
       " 'rank_test_score': array([3, 1, 2])}"
      ]
     },
     "execution_count": 78,
     "metadata": {},
     "output_type": "execute_result"
    }
   ],
   "source": [
    "knn_kf_gs.cv_results_"
   ]
  },
  {
   "cell_type": "code",
   "execution_count": null,
   "id": "a862594c",
   "metadata": {},
   "outputs": [],
   "source": []
  },
  {
   "cell_type": "code",
   "execution_count": null,
   "id": "51463dfc",
   "metadata": {},
   "outputs": [],
   "source": []
  },
  {
   "cell_type": "code",
   "execution_count": null,
   "id": "b749f4db",
   "metadata": {},
   "outputs": [],
   "source": []
  },
  {
   "cell_type": "code",
   "execution_count": null,
   "id": "66816720",
   "metadata": {},
   "outputs": [],
   "source": []
  },
  {
   "cell_type": "code",
   "execution_count": 44,
   "id": "10dc27b1",
   "metadata": {},
   "outputs": [
    {
     "name": "stderr",
     "output_type": "stream",
     "text": [
      "C:\\Users\\NTX550\\anaconda3\\lib\\site-packages\\xgboost\\compat.py:36: FutureWarning: pandas.Int64Index is deprecated and will be removed from pandas in a future version. Use pandas.Index with the appropriate dtype instead.\n",
      "  from pandas import MultiIndex, Int64Index\n"
     ]
    }
   ],
   "source": [
    "import xgboost\n",
    "# colab은 이미 설치가 되어 있음...\n",
    "# 본인 노트북은 설치해야함!!!!"
   ]
  },
  {
   "cell_type": "code",
   "execution_count": 45,
   "id": "9b0b0157",
   "metadata": {},
   "outputs": [],
   "source": [
    "from xgboost import XGBClassifier"
   ]
  },
  {
   "cell_type": "code",
   "execution_count": null,
   "id": "897595c2",
   "metadata": {},
   "outputs": [],
   "source": []
  }
 ],
 "metadata": {
  "kernelspec": {
   "display_name": "Python 3 (ipykernel)",
   "language": "python",
   "name": "python3"
  },
  "language_info": {
   "codemirror_mode": {
    "name": "ipython",
    "version": 3
   },
   "file_extension": ".py",
   "mimetype": "text/x-python",
   "name": "python",
   "nbconvert_exporter": "python",
   "pygments_lexer": "ipython3",
   "version": "3.9.12"
  }
 },
 "nbformat": 4,
 "nbformat_minor": 5
}
