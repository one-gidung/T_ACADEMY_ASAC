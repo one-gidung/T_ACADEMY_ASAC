{
 "cells": [
  {
   "cell_type": "code",
   "execution_count": 1,
   "id": "f0a4e0ae",
   "metadata": {},
   "outputs": [],
   "source": [
    "import pandas as pd\n",
    "import numpy as np\n",
    "import matplotlib.pyplot as plt\n",
    "\n",
    "# one-hot encoding\n",
    "from sklearn.preprocessing import OneHotEncoder\n",
    "from sklearn.preprocessing import LabelEncoder"
   ]
  },
  {
   "cell_type": "code",
   "execution_count": 95,
   "id": "daa4abe5",
   "metadata": {},
   "outputs": [],
   "source": [
    "plt.rcParams['font.family'] = 'Malgun Gothic' # 한글 폰트 설정 (맑은 고딕체)\n",
    "plt.rcParams['axes.unicode_minus'] = False    # 마이너스 깨짐 방지"
   ]
  },
  {
   "cell_type": "code",
   "execution_count": 10,
   "id": "0db7c6cb",
   "metadata": {},
   "outputs": [
    {
     "data": {
      "text/html": [
       "<div>\n",
       "<style scoped>\n",
       "    .dataframe tbody tr th:only-of-type {\n",
       "        vertical-align: middle;\n",
       "    }\n",
       "\n",
       "    .dataframe tbody tr th {\n",
       "        vertical-align: top;\n",
       "    }\n",
       "\n",
       "    .dataframe thead th {\n",
       "        text-align: right;\n",
       "    }\n",
       "</style>\n",
       "<table border=\"1\" class=\"dataframe\">\n",
       "  <thead>\n",
       "    <tr style=\"text-align: right;\">\n",
       "      <th></th>\n",
       "      <th>마명</th>\n",
       "      <th>승률(%)</th>\n",
       "      <th>복승률(%)</th>\n",
       "      <th>경주번호</th>\n",
       "      <th>경주명</th>\n",
       "      <th>거리</th>\n",
       "      <th>군(등급)</th>\n",
       "      <th>번호</th>\n",
       "      <th>순위</th>\n",
       "      <th>출전두수</th>\n",
       "      <th>주로상태</th>\n",
       "      <th>기록</th>\n",
       "      <th>S1F기록</th>\n",
       "      <th>G3F기록</th>\n",
       "      <th>G1F기록</th>\n",
       "      <th>수득상금</th>\n",
       "      <th>부담중량</th>\n",
       "      <th>마체중</th>\n",
       "      <th>기수</th>\n",
       "      <th>조교사</th>\n",
       "    </tr>\n",
       "  </thead>\n",
       "  <tbody>\n",
       "    <tr>\n",
       "      <th>0</th>\n",
       "      <td>가나패션</td>\n",
       "      <td>0.0</td>\n",
       "      <td>66.6</td>\n",
       "      <td>22-11-13-9</td>\n",
       "      <td>일반</td>\n",
       "      <td>1200</td>\n",
       "      <td>혼4등급</td>\n",
       "      <td>2</td>\n",
       "      <td>3</td>\n",
       "      <td>8</td>\n",
       "      <td>포화</td>\n",
       "      <td>72.6</td>\n",
       "      <td>13.7</td>\n",
       "      <td>36.3</td>\n",
       "      <td>12.4</td>\n",
       "      <td>8400000</td>\n",
       "      <td>51.0</td>\n",
       "      <td>461</td>\n",
       "      <td>김용근</td>\n",
       "      <td>안해양</td>\n",
       "    </tr>\n",
       "    <tr>\n",
       "      <th>1</th>\n",
       "      <td>가나패션</td>\n",
       "      <td>0.0</td>\n",
       "      <td>66.6</td>\n",
       "      <td>22-10-09-5</td>\n",
       "      <td>일반</td>\n",
       "      <td>1200</td>\n",
       "      <td>국5등급</td>\n",
       "      <td>7</td>\n",
       "      <td>2</td>\n",
       "      <td>8</td>\n",
       "      <td>다습</td>\n",
       "      <td>74.0</td>\n",
       "      <td>13.6</td>\n",
       "      <td>37.3</td>\n",
       "      <td>12.8</td>\n",
       "      <td>8800000</td>\n",
       "      <td>54.5</td>\n",
       "      <td>463</td>\n",
       "      <td>문세영</td>\n",
       "      <td>안해양</td>\n",
       "    </tr>\n",
       "    <tr>\n",
       "      <th>2</th>\n",
       "      <td>가나패션</td>\n",
       "      <td>0.0</td>\n",
       "      <td>66.6</td>\n",
       "      <td>22-08-13-7</td>\n",
       "      <td>일반</td>\n",
       "      <td>1200</td>\n",
       "      <td>국5등급</td>\n",
       "      <td>1</td>\n",
       "      <td>2</td>\n",
       "      <td>12</td>\n",
       "      <td>포화</td>\n",
       "      <td>73.7</td>\n",
       "      <td>13.3</td>\n",
       "      <td>37.5</td>\n",
       "      <td>12.8</td>\n",
       "      <td>8800000</td>\n",
       "      <td>52.5</td>\n",
       "      <td>468</td>\n",
       "      <td>장추열</td>\n",
       "      <td>안해양</td>\n",
       "    </tr>\n",
       "    <tr>\n",
       "      <th>3</th>\n",
       "      <td>가나패션</td>\n",
       "      <td>0.0</td>\n",
       "      <td>66.6</td>\n",
       "      <td>22-07-10-4</td>\n",
       "      <td>일반</td>\n",
       "      <td>1300</td>\n",
       "      <td>국5등급</td>\n",
       "      <td>7</td>\n",
       "      <td>3</td>\n",
       "      <td>7</td>\n",
       "      <td>다습</td>\n",
       "      <td>82.1</td>\n",
       "      <td>13.8</td>\n",
       "      <td>39.0</td>\n",
       "      <td>12.8</td>\n",
       "      <td>5600000</td>\n",
       "      <td>52.0</td>\n",
       "      <td>462</td>\n",
       "      <td>다비드</td>\n",
       "      <td>안해양</td>\n",
       "    </tr>\n",
       "    <tr>\n",
       "      <th>4</th>\n",
       "      <td>가나패션</td>\n",
       "      <td>0.0</td>\n",
       "      <td>66.6</td>\n",
       "      <td>22-06-11-2</td>\n",
       "      <td>일반</td>\n",
       "      <td>1200</td>\n",
       "      <td>국6등급</td>\n",
       "      <td>7</td>\n",
       "      <td>2</td>\n",
       "      <td>12</td>\n",
       "      <td>건조</td>\n",
       "      <td>75.3</td>\n",
       "      <td>13.7</td>\n",
       "      <td>38.3</td>\n",
       "      <td>12.9</td>\n",
       "      <td>8800000</td>\n",
       "      <td>54.0</td>\n",
       "      <td>459</td>\n",
       "      <td>다비드</td>\n",
       "      <td>안해양</td>\n",
       "    </tr>\n",
       "    <tr>\n",
       "      <th>...</th>\n",
       "      <td>...</td>\n",
       "      <td>...</td>\n",
       "      <td>...</td>\n",
       "      <td>...</td>\n",
       "      <td>...</td>\n",
       "      <td>...</td>\n",
       "      <td>...</td>\n",
       "      <td>...</td>\n",
       "      <td>...</td>\n",
       "      <td>...</td>\n",
       "      <td>...</td>\n",
       "      <td>...</td>\n",
       "      <td>...</td>\n",
       "      <td>...</td>\n",
       "      <td>...</td>\n",
       "      <td>...</td>\n",
       "      <td>...</td>\n",
       "      <td>...</td>\n",
       "      <td>...</td>\n",
       "      <td>...</td>\n",
       "    </tr>\n",
       "    <tr>\n",
       "      <th>10384</th>\n",
       "      <td>히트에이스</td>\n",
       "      <td>0.0</td>\n",
       "      <td>16.6</td>\n",
       "      <td>21-06-05-2</td>\n",
       "      <td>일반</td>\n",
       "      <td>1200</td>\n",
       "      <td>국6등급</td>\n",
       "      <td>11</td>\n",
       "      <td>5</td>\n",
       "      <td>13</td>\n",
       "      <td>포화</td>\n",
       "      <td>76.7</td>\n",
       "      <td>13.7</td>\n",
       "      <td>39.3</td>\n",
       "      <td>13.5</td>\n",
       "      <td>1540000</td>\n",
       "      <td>54.0</td>\n",
       "      <td>473</td>\n",
       "      <td>함완식</td>\n",
       "      <td>이관호</td>\n",
       "    </tr>\n",
       "    <tr>\n",
       "      <th>10385</th>\n",
       "      <td>히트에이스</td>\n",
       "      <td>0.0</td>\n",
       "      <td>16.6</td>\n",
       "      <td>21-04-24-3</td>\n",
       "      <td>일반</td>\n",
       "      <td>1300</td>\n",
       "      <td>국6등급</td>\n",
       "      <td>2</td>\n",
       "      <td>7</td>\n",
       "      <td>14</td>\n",
       "      <td>건조</td>\n",
       "      <td>83.4</td>\n",
       "      <td>13.5</td>\n",
       "      <td>40.3</td>\n",
       "      <td>14.2</td>\n",
       "      <td>0</td>\n",
       "      <td>55.0</td>\n",
       "      <td>479</td>\n",
       "      <td>함완식</td>\n",
       "      <td>이관호</td>\n",
       "    </tr>\n",
       "    <tr>\n",
       "      <th>10386</th>\n",
       "      <td>히트에이스</td>\n",
       "      <td>0.0</td>\n",
       "      <td>16.6</td>\n",
       "      <td>21-01-15-2</td>\n",
       "      <td>일반</td>\n",
       "      <td>1200</td>\n",
       "      <td>국6등급</td>\n",
       "      <td>2</td>\n",
       "      <td>6</td>\n",
       "      <td>12</td>\n",
       "      <td>양호</td>\n",
       "      <td>78.1</td>\n",
       "      <td>13.9</td>\n",
       "      <td>40.8</td>\n",
       "      <td>14.6</td>\n",
       "      <td>0</td>\n",
       "      <td>54.5</td>\n",
       "      <td>471</td>\n",
       "      <td>박현우</td>\n",
       "      <td>이관호</td>\n",
       "    </tr>\n",
       "    <tr>\n",
       "      <th>10387</th>\n",
       "      <td>히트파워</td>\n",
       "      <td>50.0</td>\n",
       "      <td>50.0</td>\n",
       "      <td>22-10-02-8</td>\n",
       "      <td>문화일보배(L)</td>\n",
       "      <td>1200</td>\n",
       "      <td>국OPEN</td>\n",
       "      <td>11</td>\n",
       "      <td>12</td>\n",
       "      <td>14</td>\n",
       "      <td>양호</td>\n",
       "      <td>75.8</td>\n",
       "      <td>13.5</td>\n",
       "      <td>40.2</td>\n",
       "      <td>14.7</td>\n",
       "      <td>0</td>\n",
       "      <td>55.0</td>\n",
       "      <td>476</td>\n",
       "      <td>최범현</td>\n",
       "      <td>우창구</td>\n",
       "    </tr>\n",
       "    <tr>\n",
       "      <th>10388</th>\n",
       "      <td>히트파워</td>\n",
       "      <td>50.0</td>\n",
       "      <td>50.0</td>\n",
       "      <td>22-08-21-2</td>\n",
       "      <td>일반</td>\n",
       "      <td>1000</td>\n",
       "      <td>국6등급</td>\n",
       "      <td>1</td>\n",
       "      <td>1</td>\n",
       "      <td>12</td>\n",
       "      <td>포화</td>\n",
       "      <td>61.7</td>\n",
       "      <td>13.2</td>\n",
       "      <td>37.6</td>\n",
       "      <td>13.3</td>\n",
       "      <td>33000000</td>\n",
       "      <td>55.0</td>\n",
       "      <td>476</td>\n",
       "      <td>최범현</td>\n",
       "      <td>우창구</td>\n",
       "    </tr>\n",
       "  </tbody>\n",
       "</table>\n",
       "<p>10389 rows × 20 columns</p>\n",
       "</div>"
      ],
      "text/plain": [
       "          마명  승률(%)  복승률(%)        경주번호       경주명    거리  군(등급)  번호  순위  출전두수  \\\n",
       "0       가나패션    0.0    66.6  22-11-13-9        일반  1200   혼4등급   2   3     8   \n",
       "1       가나패션    0.0    66.6  22-10-09-5        일반  1200   국5등급   7   2     8   \n",
       "2       가나패션    0.0    66.6  22-08-13-7        일반  1200   국5등급   1   2    12   \n",
       "3       가나패션    0.0    66.6  22-07-10-4        일반  1300   국5등급   7   3     7   \n",
       "4       가나패션    0.0    66.6  22-06-11-2        일반  1200   국6등급   7   2    12   \n",
       "...      ...    ...     ...         ...       ...   ...    ...  ..  ..   ...   \n",
       "10384  히트에이스    0.0    16.6  21-06-05-2        일반  1200   국6등급  11   5    13   \n",
       "10385  히트에이스    0.0    16.6  21-04-24-3        일반  1300   국6등급   2   7    14   \n",
       "10386  히트에이스    0.0    16.6  21-01-15-2        일반  1200   국6등급   2   6    12   \n",
       "10387   히트파워   50.0    50.0  22-10-02-8  문화일보배(L)  1200  국OPEN  11  12    14   \n",
       "10388   히트파워   50.0    50.0  22-08-21-2        일반  1000   국6등급   1   1    12   \n",
       "\n",
       "         주로상태    기록  S1F기록  G3F기록  G1F기록      수득상금  부담중량  마체중   기수  조교사  \n",
       "0      포화      72.6   13.7   36.3   12.4   8400000  51.0  461  김용근  안해양  \n",
       "1      다습      74.0   13.6   37.3   12.8   8800000  54.5  463  문세영  안해양  \n",
       "2      포화      73.7   13.3   37.5   12.8   8800000  52.5  468  장추열  안해양  \n",
       "3      다습      82.1   13.8   39.0   12.8   5600000  52.0  462  다비드  안해양  \n",
       "4      건조      75.3   13.7   38.3   12.9   8800000  54.0  459  다비드  안해양  \n",
       "...       ...   ...    ...    ...    ...       ...   ...  ...  ...  ...  \n",
       "10384  포화      76.7   13.7   39.3   13.5   1540000  54.0  473  함완식  이관호  \n",
       "10385  건조      83.4   13.5   40.3   14.2         0  55.0  479  함완식  이관호  \n",
       "10386  양호      78.1   13.9   40.8   14.6         0  54.5  471  박현우  이관호  \n",
       "10387  양호      75.8   13.5   40.2   14.7         0  55.0  476  최범현  우창구  \n",
       "10388  포화      61.7   13.2   37.6   13.3  33000000  55.0  476  최범현  우창구  \n",
       "\n",
       "[10389 rows x 20 columns]"
      ]
     },
     "execution_count": 10,
     "metadata": {},
     "output_type": "execute_result"
    }
   ],
   "source": [
    "asdf = pd.read_csv(\"./data/asdf.csv\")\n",
    "asdf"
   ]
  },
  {
   "cell_type": "code",
   "execution_count": 65,
   "id": "c4a47f2e",
   "metadata": {
    "scrolled": true
   },
   "outputs": [
    {
     "name": "stdout",
     "output_type": "stream",
     "text": [
      "<class 'pandas.core.frame.DataFrame'>\n",
      "RangeIndex: 10389 entries, 0 to 10388\n",
      "Data columns (total 18 columns):\n",
      " #   Column  Non-Null Count  Dtype  \n",
      "---  ------  --------------  -----  \n",
      " 0   마명      10389 non-null  object \n",
      " 1   경주번호    10389 non-null  object \n",
      " 2   경주명     10389 non-null  object \n",
      " 3   거리      10389 non-null  int64  \n",
      " 4   군(등급)   10389 non-null  object \n",
      " 5   번호      10389 non-null  int64  \n",
      " 6   순위      10389 non-null  int32  \n",
      " 7   출전두수    10389 non-null  int64  \n",
      " 8   주로상태    10389 non-null  int64  \n",
      " 9   기록      10389 non-null  float64\n",
      " 10  S1F기록   10389 non-null  float64\n",
      " 11  G3F기록   10389 non-null  float64\n",
      " 12  G1F기록   10389 non-null  float64\n",
      " 13  수득상금    10389 non-null  int64  \n",
      " 14  부담중량    10389 non-null  float64\n",
      " 15  마체중     10389 non-null  int64  \n",
      " 16  기수      10389 non-null  object \n",
      " 17  조교사     10389 non-null  object \n",
      "dtypes: float64(5), int32(1), int64(6), object(6)\n",
      "memory usage: 1.4+ MB\n"
     ]
    }
   ],
   "source": [
    "asdf.info()"
   ]
  },
  {
   "cell_type": "code",
   "execution_count": 62,
   "id": "71d49cef",
   "metadata": {},
   "outputs": [],
   "source": [
    "asdf['순위'] = asdf['순위'].astype(int)"
   ]
  },
  {
   "cell_type": "code",
   "execution_count": 47,
   "id": "ad868c72",
   "metadata": {},
   "outputs": [
    {
     "data": {
      "text/plain": [
       "0    3710\n",
       "2    2626\n",
       "1    2375\n",
       "3    1322\n",
       "4     356\n",
       "Name: 주로상태, dtype: int64"
      ]
     },
     "execution_count": 47,
     "metadata": {},
     "output_type": "execute_result"
    }
   ],
   "source": [
    "# 주로상태 라벨인코딩\n",
    "cl = {\"건조    \" : 0, \"양호    \" : 1, \"다습    \" : 2, \"포화    \" : 3, \"불량    \" : 4}\n",
    "asdf['주로상태'] = asdf['주로상태'].replace(cl)\n",
    "asdf[\"주로상태\"].value_counts()"
   ]
  },
  {
   "cell_type": "code",
   "execution_count": 11,
   "id": "0ba7e6d5",
   "metadata": {},
   "outputs": [
    {
     "data": {
      "text/html": [
       "<div>\n",
       "<style scoped>\n",
       "    .dataframe tbody tr th:only-of-type {\n",
       "        vertical-align: middle;\n",
       "    }\n",
       "\n",
       "    .dataframe tbody tr th {\n",
       "        vertical-align: top;\n",
       "    }\n",
       "\n",
       "    .dataframe thead th {\n",
       "        text-align: right;\n",
       "    }\n",
       "</style>\n",
       "<table border=\"1\" class=\"dataframe\">\n",
       "  <thead>\n",
       "    <tr style=\"text-align: right;\">\n",
       "      <th></th>\n",
       "      <th>마명</th>\n",
       "      <th>경주번호</th>\n",
       "      <th>경주명</th>\n",
       "      <th>거리</th>\n",
       "      <th>군(등급)</th>\n",
       "      <th>번호</th>\n",
       "      <th>순위</th>\n",
       "      <th>출전두수</th>\n",
       "      <th>주로상태</th>\n",
       "      <th>기록</th>\n",
       "      <th>S1F기록</th>\n",
       "      <th>G3F기록</th>\n",
       "      <th>G1F기록</th>\n",
       "      <th>수득상금</th>\n",
       "      <th>부담중량</th>\n",
       "      <th>마체중</th>\n",
       "      <th>기수</th>\n",
       "      <th>조교사</th>\n",
       "    </tr>\n",
       "  </thead>\n",
       "  <tbody>\n",
       "    <tr>\n",
       "      <th>0</th>\n",
       "      <td>가나패션</td>\n",
       "      <td>22-11-13-9</td>\n",
       "      <td>일반</td>\n",
       "      <td>1200</td>\n",
       "      <td>혼4등급</td>\n",
       "      <td>2</td>\n",
       "      <td>3</td>\n",
       "      <td>8</td>\n",
       "      <td>포화</td>\n",
       "      <td>72.6</td>\n",
       "      <td>13.7</td>\n",
       "      <td>36.3</td>\n",
       "      <td>12.4</td>\n",
       "      <td>8400000</td>\n",
       "      <td>51.0</td>\n",
       "      <td>461</td>\n",
       "      <td>김용근</td>\n",
       "      <td>안해양</td>\n",
       "    </tr>\n",
       "    <tr>\n",
       "      <th>1</th>\n",
       "      <td>가나패션</td>\n",
       "      <td>22-10-09-5</td>\n",
       "      <td>일반</td>\n",
       "      <td>1200</td>\n",
       "      <td>국5등급</td>\n",
       "      <td>7</td>\n",
       "      <td>2</td>\n",
       "      <td>8</td>\n",
       "      <td>다습</td>\n",
       "      <td>74.0</td>\n",
       "      <td>13.6</td>\n",
       "      <td>37.3</td>\n",
       "      <td>12.8</td>\n",
       "      <td>8800000</td>\n",
       "      <td>54.5</td>\n",
       "      <td>463</td>\n",
       "      <td>문세영</td>\n",
       "      <td>안해양</td>\n",
       "    </tr>\n",
       "    <tr>\n",
       "      <th>2</th>\n",
       "      <td>가나패션</td>\n",
       "      <td>22-08-13-7</td>\n",
       "      <td>일반</td>\n",
       "      <td>1200</td>\n",
       "      <td>국5등급</td>\n",
       "      <td>1</td>\n",
       "      <td>2</td>\n",
       "      <td>12</td>\n",
       "      <td>포화</td>\n",
       "      <td>73.7</td>\n",
       "      <td>13.3</td>\n",
       "      <td>37.5</td>\n",
       "      <td>12.8</td>\n",
       "      <td>8800000</td>\n",
       "      <td>52.5</td>\n",
       "      <td>468</td>\n",
       "      <td>장추열</td>\n",
       "      <td>안해양</td>\n",
       "    </tr>\n",
       "    <tr>\n",
       "      <th>3</th>\n",
       "      <td>가나패션</td>\n",
       "      <td>22-07-10-4</td>\n",
       "      <td>일반</td>\n",
       "      <td>1300</td>\n",
       "      <td>국5등급</td>\n",
       "      <td>7</td>\n",
       "      <td>3</td>\n",
       "      <td>7</td>\n",
       "      <td>다습</td>\n",
       "      <td>82.1</td>\n",
       "      <td>13.8</td>\n",
       "      <td>39.0</td>\n",
       "      <td>12.8</td>\n",
       "      <td>5600000</td>\n",
       "      <td>52.0</td>\n",
       "      <td>462</td>\n",
       "      <td>다비드</td>\n",
       "      <td>안해양</td>\n",
       "    </tr>\n",
       "    <tr>\n",
       "      <th>4</th>\n",
       "      <td>가나패션</td>\n",
       "      <td>22-06-11-2</td>\n",
       "      <td>일반</td>\n",
       "      <td>1200</td>\n",
       "      <td>국6등급</td>\n",
       "      <td>7</td>\n",
       "      <td>2</td>\n",
       "      <td>12</td>\n",
       "      <td>건조</td>\n",
       "      <td>75.3</td>\n",
       "      <td>13.7</td>\n",
       "      <td>38.3</td>\n",
       "      <td>12.9</td>\n",
       "      <td>8800000</td>\n",
       "      <td>54.0</td>\n",
       "      <td>459</td>\n",
       "      <td>다비드</td>\n",
       "      <td>안해양</td>\n",
       "    </tr>\n",
       "    <tr>\n",
       "      <th>...</th>\n",
       "      <td>...</td>\n",
       "      <td>...</td>\n",
       "      <td>...</td>\n",
       "      <td>...</td>\n",
       "      <td>...</td>\n",
       "      <td>...</td>\n",
       "      <td>...</td>\n",
       "      <td>...</td>\n",
       "      <td>...</td>\n",
       "      <td>...</td>\n",
       "      <td>...</td>\n",
       "      <td>...</td>\n",
       "      <td>...</td>\n",
       "      <td>...</td>\n",
       "      <td>...</td>\n",
       "      <td>...</td>\n",
       "      <td>...</td>\n",
       "      <td>...</td>\n",
       "    </tr>\n",
       "    <tr>\n",
       "      <th>10384</th>\n",
       "      <td>히트에이스</td>\n",
       "      <td>21-06-05-2</td>\n",
       "      <td>일반</td>\n",
       "      <td>1200</td>\n",
       "      <td>국6등급</td>\n",
       "      <td>11</td>\n",
       "      <td>5</td>\n",
       "      <td>13</td>\n",
       "      <td>포화</td>\n",
       "      <td>76.7</td>\n",
       "      <td>13.7</td>\n",
       "      <td>39.3</td>\n",
       "      <td>13.5</td>\n",
       "      <td>1540000</td>\n",
       "      <td>54.0</td>\n",
       "      <td>473</td>\n",
       "      <td>함완식</td>\n",
       "      <td>이관호</td>\n",
       "    </tr>\n",
       "    <tr>\n",
       "      <th>10385</th>\n",
       "      <td>히트에이스</td>\n",
       "      <td>21-04-24-3</td>\n",
       "      <td>일반</td>\n",
       "      <td>1300</td>\n",
       "      <td>국6등급</td>\n",
       "      <td>2</td>\n",
       "      <td>7</td>\n",
       "      <td>14</td>\n",
       "      <td>건조</td>\n",
       "      <td>83.4</td>\n",
       "      <td>13.5</td>\n",
       "      <td>40.3</td>\n",
       "      <td>14.2</td>\n",
       "      <td>0</td>\n",
       "      <td>55.0</td>\n",
       "      <td>479</td>\n",
       "      <td>함완식</td>\n",
       "      <td>이관호</td>\n",
       "    </tr>\n",
       "    <tr>\n",
       "      <th>10386</th>\n",
       "      <td>히트에이스</td>\n",
       "      <td>21-01-15-2</td>\n",
       "      <td>일반</td>\n",
       "      <td>1200</td>\n",
       "      <td>국6등급</td>\n",
       "      <td>2</td>\n",
       "      <td>6</td>\n",
       "      <td>12</td>\n",
       "      <td>양호</td>\n",
       "      <td>78.1</td>\n",
       "      <td>13.9</td>\n",
       "      <td>40.8</td>\n",
       "      <td>14.6</td>\n",
       "      <td>0</td>\n",
       "      <td>54.5</td>\n",
       "      <td>471</td>\n",
       "      <td>박현우</td>\n",
       "      <td>이관호</td>\n",
       "    </tr>\n",
       "    <tr>\n",
       "      <th>10387</th>\n",
       "      <td>히트파워</td>\n",
       "      <td>22-10-02-8</td>\n",
       "      <td>문화일보배(L)</td>\n",
       "      <td>1200</td>\n",
       "      <td>국OPEN</td>\n",
       "      <td>11</td>\n",
       "      <td>12</td>\n",
       "      <td>14</td>\n",
       "      <td>양호</td>\n",
       "      <td>75.8</td>\n",
       "      <td>13.5</td>\n",
       "      <td>40.2</td>\n",
       "      <td>14.7</td>\n",
       "      <td>0</td>\n",
       "      <td>55.0</td>\n",
       "      <td>476</td>\n",
       "      <td>최범현</td>\n",
       "      <td>우창구</td>\n",
       "    </tr>\n",
       "    <tr>\n",
       "      <th>10388</th>\n",
       "      <td>히트파워</td>\n",
       "      <td>22-08-21-2</td>\n",
       "      <td>일반</td>\n",
       "      <td>1000</td>\n",
       "      <td>국6등급</td>\n",
       "      <td>1</td>\n",
       "      <td>1</td>\n",
       "      <td>12</td>\n",
       "      <td>포화</td>\n",
       "      <td>61.7</td>\n",
       "      <td>13.2</td>\n",
       "      <td>37.6</td>\n",
       "      <td>13.3</td>\n",
       "      <td>33000000</td>\n",
       "      <td>55.0</td>\n",
       "      <td>476</td>\n",
       "      <td>최범현</td>\n",
       "      <td>우창구</td>\n",
       "    </tr>\n",
       "  </tbody>\n",
       "</table>\n",
       "<p>10389 rows × 18 columns</p>\n",
       "</div>"
      ],
      "text/plain": [
       "          마명        경주번호       경주명    거리  군(등급)  번호  순위  출전두수    주로상태    기록  \\\n",
       "0       가나패션  22-11-13-9        일반  1200   혼4등급   2   3     8  포화      72.6   \n",
       "1       가나패션  22-10-09-5        일반  1200   국5등급   7   2     8  다습      74.0   \n",
       "2       가나패션  22-08-13-7        일반  1200   국5등급   1   2    12  포화      73.7   \n",
       "3       가나패션  22-07-10-4        일반  1300   국5등급   7   3     7  다습      82.1   \n",
       "4       가나패션  22-06-11-2        일반  1200   국6등급   7   2    12  건조      75.3   \n",
       "...      ...         ...       ...   ...    ...  ..  ..   ...     ...   ...   \n",
       "10384  히트에이스  21-06-05-2        일반  1200   국6등급  11   5    13  포화      76.7   \n",
       "10385  히트에이스  21-04-24-3        일반  1300   국6등급   2   7    14  건조      83.4   \n",
       "10386  히트에이스  21-01-15-2        일반  1200   국6등급   2   6    12  양호      78.1   \n",
       "10387   히트파워  22-10-02-8  문화일보배(L)  1200  국OPEN  11  12    14  양호      75.8   \n",
       "10388   히트파워  22-08-21-2        일반  1000   국6등급   1   1    12  포화      61.7   \n",
       "\n",
       "       S1F기록  G3F기록  G1F기록      수득상금  부담중량  마체중   기수  조교사  \n",
       "0       13.7   36.3   12.4   8400000  51.0  461  김용근  안해양  \n",
       "1       13.6   37.3   12.8   8800000  54.5  463  문세영  안해양  \n",
       "2       13.3   37.5   12.8   8800000  52.5  468  장추열  안해양  \n",
       "3       13.8   39.0   12.8   5600000  52.0  462  다비드  안해양  \n",
       "4       13.7   38.3   12.9   8800000  54.0  459  다비드  안해양  \n",
       "...      ...    ...    ...       ...   ...  ...  ...  ...  \n",
       "10384   13.7   39.3   13.5   1540000  54.0  473  함완식  이관호  \n",
       "10385   13.5   40.3   14.2         0  55.0  479  함완식  이관호  \n",
       "10386   13.9   40.8   14.6         0  54.5  471  박현우  이관호  \n",
       "10387   13.5   40.2   14.7         0  55.0  476  최범현  우창구  \n",
       "10388   13.2   37.6   13.3  33000000  55.0  476  최범현  우창구  \n",
       "\n",
       "[10389 rows x 18 columns]"
      ]
     },
     "execution_count": 11,
     "metadata": {},
     "output_type": "execute_result"
    }
   ],
   "source": [
    "asdf.drop(columns=['승률(%)', '복승률(%)'], inplace=True)\n",
    "asdf"
   ]
  },
  {
   "cell_type": "code",
   "execution_count": 14,
   "id": "0657f439",
   "metadata": {},
   "outputs": [
    {
     "data": {
      "text/html": [
       "<div>\n",
       "<style scoped>\n",
       "    .dataframe tbody tr th:only-of-type {\n",
       "        vertical-align: middle;\n",
       "    }\n",
       "\n",
       "    .dataframe tbody tr th {\n",
       "        vertical-align: top;\n",
       "    }\n",
       "\n",
       "    .dataframe thead th {\n",
       "        text-align: right;\n",
       "    }\n",
       "</style>\n",
       "<table border=\"1\" class=\"dataframe\">\n",
       "  <thead>\n",
       "    <tr style=\"text-align: right;\">\n",
       "      <th></th>\n",
       "      <th>마명</th>\n",
       "      <th>경주번호</th>\n",
       "      <th>경주명</th>\n",
       "      <th>거리</th>\n",
       "      <th>군(등급)</th>\n",
       "      <th>번호</th>\n",
       "      <th>순위</th>\n",
       "      <th>출전두수</th>\n",
       "      <th>주로상태</th>\n",
       "      <th>기록</th>\n",
       "      <th>S1F기록</th>\n",
       "      <th>G3F기록</th>\n",
       "      <th>G1F기록</th>\n",
       "      <th>수득상금</th>\n",
       "      <th>부담중량</th>\n",
       "      <th>마체중</th>\n",
       "      <th>기수</th>\n",
       "      <th>조교사</th>\n",
       "    </tr>\n",
       "  </thead>\n",
       "  <tbody>\n",
       "    <tr>\n",
       "      <th>2701</th>\n",
       "      <td>리월마</td>\n",
       "      <td>22-11-13-9</td>\n",
       "      <td>일반</td>\n",
       "      <td>1200</td>\n",
       "      <td>혼4등급</td>\n",
       "      <td>3</td>\n",
       "      <td>2</td>\n",
       "      <td>8</td>\n",
       "      <td>포화</td>\n",
       "      <td>71.6</td>\n",
       "      <td>13.3</td>\n",
       "      <td>35.6</td>\n",
       "      <td>12.4</td>\n",
       "      <td>13200000</td>\n",
       "      <td>54.0</td>\n",
       "      <td>469</td>\n",
       "      <td>문세영</td>\n",
       "      <td>서홍수</td>\n",
       "    </tr>\n",
       "    <tr>\n",
       "      <th>3398</th>\n",
       "      <td>문학스톰</td>\n",
       "      <td>22-11-13-9</td>\n",
       "      <td>일반</td>\n",
       "      <td>1200</td>\n",
       "      <td>혼4등급</td>\n",
       "      <td>1</td>\n",
       "      <td>1</td>\n",
       "      <td>8</td>\n",
       "      <td>포화</td>\n",
       "      <td>71.6</td>\n",
       "      <td>13.3</td>\n",
       "      <td>35.8</td>\n",
       "      <td>12.4</td>\n",
       "      <td>33000000</td>\n",
       "      <td>53.0</td>\n",
       "      <td>525</td>\n",
       "      <td>장추열</td>\n",
       "      <td>정호익</td>\n",
       "    </tr>\n",
       "    <tr>\n",
       "      <th>0</th>\n",
       "      <td>가나패션</td>\n",
       "      <td>22-11-13-9</td>\n",
       "      <td>일반</td>\n",
       "      <td>1200</td>\n",
       "      <td>혼4등급</td>\n",
       "      <td>2</td>\n",
       "      <td>3</td>\n",
       "      <td>8</td>\n",
       "      <td>포화</td>\n",
       "      <td>72.6</td>\n",
       "      <td>13.7</td>\n",
       "      <td>36.3</td>\n",
       "      <td>12.4</td>\n",
       "      <td>8400000</td>\n",
       "      <td>51.0</td>\n",
       "      <td>461</td>\n",
       "      <td>김용근</td>\n",
       "      <td>안해양</td>\n",
       "    </tr>\n",
       "    <tr>\n",
       "      <th>5829</th>\n",
       "      <td>알렉산더원</td>\n",
       "      <td>22-11-13-9</td>\n",
       "      <td>일반</td>\n",
       "      <td>1200</td>\n",
       "      <td>혼4등급</td>\n",
       "      <td>7</td>\n",
       "      <td>4</td>\n",
       "      <td>8</td>\n",
       "      <td>포화</td>\n",
       "      <td>72.6</td>\n",
       "      <td>14.5</td>\n",
       "      <td>35.8</td>\n",
       "      <td>12.4</td>\n",
       "      <td>3000000</td>\n",
       "      <td>55.5</td>\n",
       "      <td>491</td>\n",
       "      <td>송재철</td>\n",
       "      <td>우창구</td>\n",
       "    </tr>\n",
       "    <tr>\n",
       "      <th>327</th>\n",
       "      <td>국제공항</td>\n",
       "      <td>22-11-13-9</td>\n",
       "      <td>일반</td>\n",
       "      <td>1200</td>\n",
       "      <td>혼4등급</td>\n",
       "      <td>4</td>\n",
       "      <td>5</td>\n",
       "      <td>8</td>\n",
       "      <td>포화</td>\n",
       "      <td>73.5</td>\n",
       "      <td>13.9</td>\n",
       "      <td>36.9</td>\n",
       "      <td>13.1</td>\n",
       "      <td>2400000</td>\n",
       "      <td>52.0</td>\n",
       "      <td>472</td>\n",
       "      <td>먼로</td>\n",
       "      <td>강환민</td>\n",
       "    </tr>\n",
       "    <tr>\n",
       "      <th>...</th>\n",
       "      <td>...</td>\n",
       "      <td>...</td>\n",
       "      <td>...</td>\n",
       "      <td>...</td>\n",
       "      <td>...</td>\n",
       "      <td>...</td>\n",
       "      <td>...</td>\n",
       "      <td>...</td>\n",
       "      <td>...</td>\n",
       "      <td>...</td>\n",
       "      <td>...</td>\n",
       "      <td>...</td>\n",
       "      <td>...</td>\n",
       "      <td>...</td>\n",
       "      <td>...</td>\n",
       "      <td>...</td>\n",
       "      <td>...</td>\n",
       "      <td>...</td>\n",
       "    </tr>\n",
       "    <tr>\n",
       "      <th>7611</th>\n",
       "      <td>제이에스군주</td>\n",
       "      <td>19-09-21-7</td>\n",
       "      <td>일반</td>\n",
       "      <td>1000</td>\n",
       "      <td>혼4등급</td>\n",
       "      <td>5</td>\n",
       "      <td>4</td>\n",
       "      <td>12</td>\n",
       "      <td>건조</td>\n",
       "      <td>61.5</td>\n",
       "      <td>14.6</td>\n",
       "      <td>36.0</td>\n",
       "      <td>12.6</td>\n",
       "      <td>3750000</td>\n",
       "      <td>55.0</td>\n",
       "      <td>494</td>\n",
       "      <td>김동수</td>\n",
       "      <td>박재우</td>\n",
       "    </tr>\n",
       "    <tr>\n",
       "      <th>4939</th>\n",
       "      <td>소울메리트</td>\n",
       "      <td>19-09-21-7</td>\n",
       "      <td>일반</td>\n",
       "      <td>1000</td>\n",
       "      <td>혼4등급</td>\n",
       "      <td>3</td>\n",
       "      <td>7</td>\n",
       "      <td>12</td>\n",
       "      <td>건조</td>\n",
       "      <td>62.4</td>\n",
       "      <td>14.1</td>\n",
       "      <td>37.7</td>\n",
       "      <td>13.4</td>\n",
       "      <td>0</td>\n",
       "      <td>55.0</td>\n",
       "      <td>512</td>\n",
       "      <td>송재철</td>\n",
       "      <td>안병기</td>\n",
       "    </tr>\n",
       "    <tr>\n",
       "      <th>258</th>\n",
       "      <td>골든서비스</td>\n",
       "      <td>19-09-21-7</td>\n",
       "      <td>일반</td>\n",
       "      <td>1000</td>\n",
       "      <td>혼4등급</td>\n",
       "      <td>10</td>\n",
       "      <td>8</td>\n",
       "      <td>12</td>\n",
       "      <td>건조</td>\n",
       "      <td>62.8</td>\n",
       "      <td>13.8</td>\n",
       "      <td>38.2</td>\n",
       "      <td>13.7</td>\n",
       "      <td>0</td>\n",
       "      <td>55.0</td>\n",
       "      <td>496</td>\n",
       "      <td>안토니오</td>\n",
       "      <td>최용구</td>\n",
       "    </tr>\n",
       "    <tr>\n",
       "      <th>6317</th>\n",
       "      <td>옥룡</td>\n",
       "      <td>19-09-21-7</td>\n",
       "      <td>일반</td>\n",
       "      <td>1000</td>\n",
       "      <td>혼4등급</td>\n",
       "      <td>11</td>\n",
       "      <td>9</td>\n",
       "      <td>12</td>\n",
       "      <td>건조</td>\n",
       "      <td>62.9</td>\n",
       "      <td>13.9</td>\n",
       "      <td>38.2</td>\n",
       "      <td>13.8</td>\n",
       "      <td>0</td>\n",
       "      <td>55.0</td>\n",
       "      <td>486</td>\n",
       "      <td>다나카</td>\n",
       "      <td>강성오</td>\n",
       "    </tr>\n",
       "    <tr>\n",
       "      <th>7473</th>\n",
       "      <td>정문에이스</td>\n",
       "      <td>19-09-21-7</td>\n",
       "      <td>일반</td>\n",
       "      <td>1000</td>\n",
       "      <td>혼4등급</td>\n",
       "      <td>7</td>\n",
       "      <td>12</td>\n",
       "      <td>12</td>\n",
       "      <td>건조</td>\n",
       "      <td>63.5</td>\n",
       "      <td>14.9</td>\n",
       "      <td>37.5</td>\n",
       "      <td>13.3</td>\n",
       "      <td>0</td>\n",
       "      <td>55.0</td>\n",
       "      <td>491</td>\n",
       "      <td>김태훈</td>\n",
       "      <td>홍대유</td>\n",
       "    </tr>\n",
       "  </tbody>\n",
       "</table>\n",
       "<p>10389 rows × 18 columns</p>\n",
       "</div>"
      ],
      "text/plain": [
       "          마명        경주번호 경주명    거리 군(등급)  번호  순위  출전두수    주로상태    기록  S1F기록  \\\n",
       "2701     리월마  22-11-13-9  일반  1200  혼4등급   3   2     8  포화      71.6   13.3   \n",
       "3398    문학스톰  22-11-13-9  일반  1200  혼4등급   1   1     8  포화      71.6   13.3   \n",
       "0       가나패션  22-11-13-9  일반  1200  혼4등급   2   3     8  포화      72.6   13.7   \n",
       "5829   알렉산더원  22-11-13-9  일반  1200  혼4등급   7   4     8  포화      72.6   14.5   \n",
       "327     국제공항  22-11-13-9  일반  1200  혼4등급   4   5     8  포화      73.5   13.9   \n",
       "...      ...         ...  ..   ...   ...  ..  ..   ...     ...   ...    ...   \n",
       "7611  제이에스군주  19-09-21-7  일반  1000  혼4등급   5   4    12  건조      61.5   14.6   \n",
       "4939   소울메리트  19-09-21-7  일반  1000  혼4등급   3   7    12  건조      62.4   14.1   \n",
       "258    골든서비스  19-09-21-7  일반  1000  혼4등급  10   8    12  건조      62.8   13.8   \n",
       "6317      옥룡  19-09-21-7  일반  1000  혼4등급  11   9    12  건조      62.9   13.9   \n",
       "7473   정문에이스  19-09-21-7  일반  1000  혼4등급   7  12    12  건조      63.5   14.9   \n",
       "\n",
       "      G3F기록  G1F기록      수득상금  부담중량  마체중    기수  조교사  \n",
       "2701   35.6   12.4  13200000  54.0  469   문세영  서홍수  \n",
       "3398   35.8   12.4  33000000  53.0  525   장추열  정호익  \n",
       "0      36.3   12.4   8400000  51.0  461   김용근  안해양  \n",
       "5829   35.8   12.4   3000000  55.5  491   송재철  우창구  \n",
       "327    36.9   13.1   2400000  52.0  472    먼로  강환민  \n",
       "...     ...    ...       ...   ...  ...   ...  ...  \n",
       "7611   36.0   12.6   3750000  55.0  494   김동수  박재우  \n",
       "4939   37.7   13.4         0  55.0  512   송재철  안병기  \n",
       "258    38.2   13.7         0  55.0  496  안토니오  최용구  \n",
       "6317   38.2   13.8         0  55.0  486   다나카  강성오  \n",
       "7473   37.5   13.3         0  55.0  491   김태훈  홍대유  \n",
       "\n",
       "[10389 rows x 18 columns]"
      ]
     },
     "execution_count": 14,
     "metadata": {},
     "output_type": "execute_result"
    }
   ],
   "source": [
    "asdf_sort = asdf.sort_values(by=[\"경주번호\",\"기록\"], ascending=[False,True])\n",
    "asdf = asdf_sort\n",
    "asdf"
   ]
  },
  {
   "cell_type": "code",
   "execution_count": 15,
   "id": "73696444",
   "metadata": {},
   "outputs": [
    {
     "data": {
      "text/html": [
       "<div>\n",
       "<style scoped>\n",
       "    .dataframe tbody tr th:only-of-type {\n",
       "        vertical-align: middle;\n",
       "    }\n",
       "\n",
       "    .dataframe tbody tr th {\n",
       "        vertical-align: top;\n",
       "    }\n",
       "\n",
       "    .dataframe thead th {\n",
       "        text-align: right;\n",
       "    }\n",
       "</style>\n",
       "<table border=\"1\" class=\"dataframe\">\n",
       "  <thead>\n",
       "    <tr style=\"text-align: right;\">\n",
       "      <th></th>\n",
       "      <th>마명</th>\n",
       "      <th>경주번호</th>\n",
       "      <th>경주명</th>\n",
       "      <th>거리</th>\n",
       "      <th>군(등급)</th>\n",
       "      <th>번호</th>\n",
       "      <th>순위</th>\n",
       "      <th>출전두수</th>\n",
       "      <th>주로상태</th>\n",
       "      <th>기록</th>\n",
       "      <th>S1F기록</th>\n",
       "      <th>G3F기록</th>\n",
       "      <th>G1F기록</th>\n",
       "      <th>수득상금</th>\n",
       "      <th>부담중량</th>\n",
       "      <th>마체중</th>\n",
       "      <th>기수</th>\n",
       "      <th>조교사</th>\n",
       "    </tr>\n",
       "  </thead>\n",
       "  <tbody>\n",
       "    <tr>\n",
       "      <th>0</th>\n",
       "      <td>정문에이스</td>\n",
       "      <td>19-09-21-7</td>\n",
       "      <td>일반</td>\n",
       "      <td>1000</td>\n",
       "      <td>혼4등급</td>\n",
       "      <td>7</td>\n",
       "      <td>12</td>\n",
       "      <td>12</td>\n",
       "      <td>건조</td>\n",
       "      <td>63.5</td>\n",
       "      <td>14.9</td>\n",
       "      <td>37.5</td>\n",
       "      <td>13.3</td>\n",
       "      <td>0</td>\n",
       "      <td>55.0</td>\n",
       "      <td>491</td>\n",
       "      <td>김태훈</td>\n",
       "      <td>홍대유</td>\n",
       "    </tr>\n",
       "    <tr>\n",
       "      <th>1</th>\n",
       "      <td>옥룡</td>\n",
       "      <td>19-09-21-7</td>\n",
       "      <td>일반</td>\n",
       "      <td>1000</td>\n",
       "      <td>혼4등급</td>\n",
       "      <td>11</td>\n",
       "      <td>9</td>\n",
       "      <td>12</td>\n",
       "      <td>건조</td>\n",
       "      <td>62.9</td>\n",
       "      <td>13.9</td>\n",
       "      <td>38.2</td>\n",
       "      <td>13.8</td>\n",
       "      <td>0</td>\n",
       "      <td>55.0</td>\n",
       "      <td>486</td>\n",
       "      <td>다나카</td>\n",
       "      <td>강성오</td>\n",
       "    </tr>\n",
       "    <tr>\n",
       "      <th>2</th>\n",
       "      <td>골든서비스</td>\n",
       "      <td>19-09-21-7</td>\n",
       "      <td>일반</td>\n",
       "      <td>1000</td>\n",
       "      <td>혼4등급</td>\n",
       "      <td>10</td>\n",
       "      <td>8</td>\n",
       "      <td>12</td>\n",
       "      <td>건조</td>\n",
       "      <td>62.8</td>\n",
       "      <td>13.8</td>\n",
       "      <td>38.2</td>\n",
       "      <td>13.7</td>\n",
       "      <td>0</td>\n",
       "      <td>55.0</td>\n",
       "      <td>496</td>\n",
       "      <td>안토니오</td>\n",
       "      <td>최용구</td>\n",
       "    </tr>\n",
       "    <tr>\n",
       "      <th>3</th>\n",
       "      <td>소울메리트</td>\n",
       "      <td>19-09-21-7</td>\n",
       "      <td>일반</td>\n",
       "      <td>1000</td>\n",
       "      <td>혼4등급</td>\n",
       "      <td>3</td>\n",
       "      <td>7</td>\n",
       "      <td>12</td>\n",
       "      <td>건조</td>\n",
       "      <td>62.4</td>\n",
       "      <td>14.1</td>\n",
       "      <td>37.7</td>\n",
       "      <td>13.4</td>\n",
       "      <td>0</td>\n",
       "      <td>55.0</td>\n",
       "      <td>512</td>\n",
       "      <td>송재철</td>\n",
       "      <td>안병기</td>\n",
       "    </tr>\n",
       "    <tr>\n",
       "      <th>4</th>\n",
       "      <td>제이에스군주</td>\n",
       "      <td>19-09-21-7</td>\n",
       "      <td>일반</td>\n",
       "      <td>1000</td>\n",
       "      <td>혼4등급</td>\n",
       "      <td>5</td>\n",
       "      <td>4</td>\n",
       "      <td>12</td>\n",
       "      <td>건조</td>\n",
       "      <td>61.5</td>\n",
       "      <td>14.6</td>\n",
       "      <td>36.0</td>\n",
       "      <td>12.6</td>\n",
       "      <td>3750000</td>\n",
       "      <td>55.0</td>\n",
       "      <td>494</td>\n",
       "      <td>김동수</td>\n",
       "      <td>박재우</td>\n",
       "    </tr>\n",
       "    <tr>\n",
       "      <th>...</th>\n",
       "      <td>...</td>\n",
       "      <td>...</td>\n",
       "      <td>...</td>\n",
       "      <td>...</td>\n",
       "      <td>...</td>\n",
       "      <td>...</td>\n",
       "      <td>...</td>\n",
       "      <td>...</td>\n",
       "      <td>...</td>\n",
       "      <td>...</td>\n",
       "      <td>...</td>\n",
       "      <td>...</td>\n",
       "      <td>...</td>\n",
       "      <td>...</td>\n",
       "      <td>...</td>\n",
       "      <td>...</td>\n",
       "      <td>...</td>\n",
       "      <td>...</td>\n",
       "    </tr>\n",
       "    <tr>\n",
       "      <th>10384</th>\n",
       "      <td>국제공항</td>\n",
       "      <td>22-11-13-9</td>\n",
       "      <td>일반</td>\n",
       "      <td>1200</td>\n",
       "      <td>혼4등급</td>\n",
       "      <td>4</td>\n",
       "      <td>5</td>\n",
       "      <td>8</td>\n",
       "      <td>포화</td>\n",
       "      <td>73.5</td>\n",
       "      <td>13.9</td>\n",
       "      <td>36.9</td>\n",
       "      <td>13.1</td>\n",
       "      <td>2400000</td>\n",
       "      <td>52.0</td>\n",
       "      <td>472</td>\n",
       "      <td>먼로</td>\n",
       "      <td>강환민</td>\n",
       "    </tr>\n",
       "    <tr>\n",
       "      <th>10385</th>\n",
       "      <td>알렉산더원</td>\n",
       "      <td>22-11-13-9</td>\n",
       "      <td>일반</td>\n",
       "      <td>1200</td>\n",
       "      <td>혼4등급</td>\n",
       "      <td>7</td>\n",
       "      <td>4</td>\n",
       "      <td>8</td>\n",
       "      <td>포화</td>\n",
       "      <td>72.6</td>\n",
       "      <td>14.5</td>\n",
       "      <td>35.8</td>\n",
       "      <td>12.4</td>\n",
       "      <td>3000000</td>\n",
       "      <td>55.5</td>\n",
       "      <td>491</td>\n",
       "      <td>송재철</td>\n",
       "      <td>우창구</td>\n",
       "    </tr>\n",
       "    <tr>\n",
       "      <th>10386</th>\n",
       "      <td>가나패션</td>\n",
       "      <td>22-11-13-9</td>\n",
       "      <td>일반</td>\n",
       "      <td>1200</td>\n",
       "      <td>혼4등급</td>\n",
       "      <td>2</td>\n",
       "      <td>3</td>\n",
       "      <td>8</td>\n",
       "      <td>포화</td>\n",
       "      <td>72.6</td>\n",
       "      <td>13.7</td>\n",
       "      <td>36.3</td>\n",
       "      <td>12.4</td>\n",
       "      <td>8400000</td>\n",
       "      <td>51.0</td>\n",
       "      <td>461</td>\n",
       "      <td>김용근</td>\n",
       "      <td>안해양</td>\n",
       "    </tr>\n",
       "    <tr>\n",
       "      <th>10387</th>\n",
       "      <td>문학스톰</td>\n",
       "      <td>22-11-13-9</td>\n",
       "      <td>일반</td>\n",
       "      <td>1200</td>\n",
       "      <td>혼4등급</td>\n",
       "      <td>1</td>\n",
       "      <td>1</td>\n",
       "      <td>8</td>\n",
       "      <td>포화</td>\n",
       "      <td>71.6</td>\n",
       "      <td>13.3</td>\n",
       "      <td>35.8</td>\n",
       "      <td>12.4</td>\n",
       "      <td>33000000</td>\n",
       "      <td>53.0</td>\n",
       "      <td>525</td>\n",
       "      <td>장추열</td>\n",
       "      <td>정호익</td>\n",
       "    </tr>\n",
       "    <tr>\n",
       "      <th>10388</th>\n",
       "      <td>리월마</td>\n",
       "      <td>22-11-13-9</td>\n",
       "      <td>일반</td>\n",
       "      <td>1200</td>\n",
       "      <td>혼4등급</td>\n",
       "      <td>3</td>\n",
       "      <td>2</td>\n",
       "      <td>8</td>\n",
       "      <td>포화</td>\n",
       "      <td>71.6</td>\n",
       "      <td>13.3</td>\n",
       "      <td>35.6</td>\n",
       "      <td>12.4</td>\n",
       "      <td>13200000</td>\n",
       "      <td>54.0</td>\n",
       "      <td>469</td>\n",
       "      <td>문세영</td>\n",
       "      <td>서홍수</td>\n",
       "    </tr>\n",
       "  </tbody>\n",
       "</table>\n",
       "<p>10389 rows × 18 columns</p>\n",
       "</div>"
      ],
      "text/plain": [
       "           마명        경주번호 경주명    거리 군(등급)  번호  순위  출전두수    주로상태    기록  S1F기록  \\\n",
       "0       정문에이스  19-09-21-7  일반  1000  혼4등급   7  12    12  건조      63.5   14.9   \n",
       "1          옥룡  19-09-21-7  일반  1000  혼4등급  11   9    12  건조      62.9   13.9   \n",
       "2       골든서비스  19-09-21-7  일반  1000  혼4등급  10   8    12  건조      62.8   13.8   \n",
       "3       소울메리트  19-09-21-7  일반  1000  혼4등급   3   7    12  건조      62.4   14.1   \n",
       "4      제이에스군주  19-09-21-7  일반  1000  혼4등급   5   4    12  건조      61.5   14.6   \n",
       "...       ...         ...  ..   ...   ...  ..  ..   ...     ...   ...    ...   \n",
       "10384    국제공항  22-11-13-9  일반  1200  혼4등급   4   5     8  포화      73.5   13.9   \n",
       "10385   알렉산더원  22-11-13-9  일반  1200  혼4등급   7   4     8  포화      72.6   14.5   \n",
       "10386    가나패션  22-11-13-9  일반  1200  혼4등급   2   3     8  포화      72.6   13.7   \n",
       "10387    문학스톰  22-11-13-9  일반  1200  혼4등급   1   1     8  포화      71.6   13.3   \n",
       "10388     리월마  22-11-13-9  일반  1200  혼4등급   3   2     8  포화      71.6   13.3   \n",
       "\n",
       "       G3F기록  G1F기록      수득상금  부담중량  마체중    기수  조교사  \n",
       "0       37.5   13.3         0  55.0  491   김태훈  홍대유  \n",
       "1       38.2   13.8         0  55.0  486   다나카  강성오  \n",
       "2       38.2   13.7         0  55.0  496  안토니오  최용구  \n",
       "3       37.7   13.4         0  55.0  512   송재철  안병기  \n",
       "4       36.0   12.6   3750000  55.0  494   김동수  박재우  \n",
       "...      ...    ...       ...   ...  ...   ...  ...  \n",
       "10384   36.9   13.1   2400000  52.0  472    먼로  강환민  \n",
       "10385   35.8   12.4   3000000  55.5  491   송재철  우창구  \n",
       "10386   36.3   12.4   8400000  51.0  461   김용근  안해양  \n",
       "10387   35.8   12.4  33000000  53.0  525   장추열  정호익  \n",
       "10388   35.6   12.4  13200000  54.0  469   문세영  서홍수  \n",
       "\n",
       "[10389 rows x 18 columns]"
      ]
     },
     "execution_count": 15,
     "metadata": {},
     "output_type": "execute_result"
    }
   ],
   "source": [
    "asdf = asdf[::-1]\n",
    "asdf = asdf.reset_index()\n",
    "asdf.drop(columns='index', inplace=True)\n",
    "asdf"
   ]
  },
  {
   "cell_type": "code",
   "execution_count": 17,
   "id": "a2bc0d33",
   "metadata": {},
   "outputs": [
    {
     "data": {
      "text/plain": [
       "1       1125\n",
       "2       1072\n",
       "3       1063\n",
       "4       1046\n",
       "5        980\n",
       "6        951\n",
       "7        934\n",
       "8        867\n",
       "9        726\n",
       "10       642\n",
       "11       490\n",
       "12       320\n",
       "13        94\n",
       "14        50\n",
       "주행중지      22\n",
       "실격         3\n",
       "17         3\n",
       "16         1\n",
       "Name: 순위, dtype: int64"
      ]
     },
     "execution_count": 17,
     "metadata": {},
     "output_type": "execute_result"
    }
   ],
   "source": [
    "asdf[\"순위\"].value_counts()"
   ]
  },
  {
   "cell_type": "code",
   "execution_count": 45,
   "id": "e7de13b1",
   "metadata": {},
   "outputs": [
    {
     "data": {
      "text/plain": [
       "1     1125\n",
       "2     1072\n",
       "3     1063\n",
       "4     1046\n",
       "5      980\n",
       "6      951\n",
       "7      934\n",
       "8      867\n",
       "9      726\n",
       "10     642\n",
       "11     490\n",
       "12     320\n",
       "13      94\n",
       "14      50\n",
       "15      25\n",
       "17       3\n",
       "16       1\n",
       "Name: 순위, dtype: int64"
      ]
     },
     "execution_count": 45,
     "metadata": {},
     "output_type": "execute_result"
    }
   ],
   "source": [
    "#순위의 주행중지, 실격 값을 15로 바꿉니다\n",
    "\n",
    "asdf = asdf.replace([\"주행중지\", \"실격\"], [15, 15])\n",
    "asdf[\"순위\"].value_counts()"
   ]
  },
  {
   "cell_type": "code",
   "execution_count": 53,
   "id": "62444d0a",
   "metadata": {},
   "outputs": [
    {
     "data": {
      "text/plain": [
       "송재철     543\n",
       "장추열     453\n",
       "김용근     437\n",
       "유승완     414\n",
       "이혁      411\n",
       "       ... \n",
       "요아니스      1\n",
       "이강서       1\n",
       "최은경       1\n",
       "최시대       1\n",
       "채상현       1\n",
       "Name: 기수, Length: 76, dtype: int64"
      ]
     },
     "execution_count": 53,
     "metadata": {},
     "output_type": "execute_result"
    }
   ],
   "source": [
    "asdf['기수'].value_counts()"
   ]
  },
  {
   "cell_type": "code",
   "execution_count": 75,
   "id": "c2c49964",
   "metadata": {},
   "outputs": [
    {
     "data": {
      "text/html": [
       "<div>\n",
       "<style scoped>\n",
       "    .dataframe tbody tr th:only-of-type {\n",
       "        vertical-align: middle;\n",
       "    }\n",
       "\n",
       "    .dataframe tbody tr th {\n",
       "        vertical-align: top;\n",
       "    }\n",
       "\n",
       "    .dataframe thead th {\n",
       "        text-align: right;\n",
       "    }\n",
       "</style>\n",
       "<table border=\"1\" class=\"dataframe\">\n",
       "  <thead>\n",
       "    <tr style=\"text-align: right;\">\n",
       "      <th></th>\n",
       "      <th>순위</th>\n",
       "      <th>기록</th>\n",
       "    </tr>\n",
       "    <tr>\n",
       "      <th>기수</th>\n",
       "      <th></th>\n",
       "      <th></th>\n",
       "    </tr>\n",
       "  </thead>\n",
       "  <tbody>\n",
       "    <tr>\n",
       "      <th>권석원</th>\n",
       "      <td>7.600000</td>\n",
       "      <td>77.880000</td>\n",
       "    </tr>\n",
       "    <tr>\n",
       "      <th>김귀배</th>\n",
       "      <td>6.386364</td>\n",
       "      <td>85.259091</td>\n",
       "    </tr>\n",
       "    <tr>\n",
       "      <th>김덕현</th>\n",
       "      <td>6.692308</td>\n",
       "      <td>78.107692</td>\n",
       "    </tr>\n",
       "    <tr>\n",
       "      <th>김동수</th>\n",
       "      <td>5.855372</td>\n",
       "      <td>86.531405</td>\n",
       "    </tr>\n",
       "    <tr>\n",
       "      <th>김아현</th>\n",
       "      <td>6.503876</td>\n",
       "      <td>86.044186</td>\n",
       "    </tr>\n",
       "    <tr>\n",
       "      <th>...</th>\n",
       "      <td>...</td>\n",
       "      <td>...</td>\n",
       "    </tr>\n",
       "    <tr>\n",
       "      <th>페로비치</th>\n",
       "      <td>3.500000</td>\n",
       "      <td>102.500000</td>\n",
       "    </tr>\n",
       "    <tr>\n",
       "      <th>하정훈</th>\n",
       "      <td>6.934211</td>\n",
       "      <td>85.926316</td>\n",
       "    </tr>\n",
       "    <tr>\n",
       "      <th>함완식</th>\n",
       "      <td>4.845283</td>\n",
       "      <td>86.536981</td>\n",
       "    </tr>\n",
       "    <tr>\n",
       "      <th>황순도</th>\n",
       "      <td>5.857143</td>\n",
       "      <td>79.200000</td>\n",
       "    </tr>\n",
       "    <tr>\n",
       "      <th>황종우</th>\n",
       "      <td>6.000000</td>\n",
       "      <td>76.300000</td>\n",
       "    </tr>\n",
       "  </tbody>\n",
       "</table>\n",
       "<p>76 rows × 2 columns</p>\n",
       "</div>"
      ],
      "text/plain": [
       "            순위          기록\n",
       "기수                        \n",
       "권석원   7.600000   77.880000\n",
       "김귀배   6.386364   85.259091\n",
       "김덕현   6.692308   78.107692\n",
       "김동수   5.855372   86.531405\n",
       "김아현   6.503876   86.044186\n",
       "...        ...         ...\n",
       "페로비치  3.500000  102.500000\n",
       "하정훈   6.934211   85.926316\n",
       "함완식   4.845283   86.536981\n",
       "황순도   5.857143   79.200000\n",
       "황종우   6.000000   76.300000\n",
       "\n",
       "[76 rows x 2 columns]"
      ]
     },
     "execution_count": 75,
     "metadata": {},
     "output_type": "execute_result"
    }
   ],
   "source": [
    "asdf.groupby(['기수'])[['순위', '기록']].mean()"
   ]
  },
  {
   "cell_type": "code",
   "execution_count": 79,
   "id": "4c4a10b2",
   "metadata": {},
   "outputs": [
    {
     "data": {
      "text/html": [
       "<div>\n",
       "<style scoped>\n",
       "    .dataframe tbody tr th:only-of-type {\n",
       "        vertical-align: middle;\n",
       "    }\n",
       "\n",
       "    .dataframe tbody tr th {\n",
       "        vertical-align: top;\n",
       "    }\n",
       "\n",
       "    .dataframe thead th {\n",
       "        text-align: right;\n",
       "    }\n",
       "</style>\n",
       "<table border=\"1\" class=\"dataframe\">\n",
       "  <thead>\n",
       "    <tr style=\"text-align: right;\">\n",
       "      <th></th>\n",
       "      <th>마명</th>\n",
       "      <th>경주번호</th>\n",
       "      <th>경주명</th>\n",
       "      <th>거리</th>\n",
       "      <th>군(등급)</th>\n",
       "      <th>번호</th>\n",
       "      <th>순위</th>\n",
       "      <th>출전두수</th>\n",
       "      <th>주로상태</th>\n",
       "      <th>기록</th>\n",
       "      <th>S1F기록</th>\n",
       "      <th>G3F기록</th>\n",
       "      <th>G1F기록</th>\n",
       "      <th>수득상금</th>\n",
       "      <th>부담중량</th>\n",
       "      <th>마체중</th>\n",
       "      <th>기수</th>\n",
       "      <th>조교사</th>\n",
       "    </tr>\n",
       "  </thead>\n",
       "  <tbody>\n",
       "    <tr>\n",
       "      <th>63</th>\n",
       "      <td>옥스퍼드킹</td>\n",
       "      <td>20-06-21-1</td>\n",
       "      <td>일반</td>\n",
       "      <td>1000</td>\n",
       "      <td>국6등급</td>\n",
       "      <td>4</td>\n",
       "      <td>2</td>\n",
       "      <td>12</td>\n",
       "      <td>0</td>\n",
       "      <td>62.2</td>\n",
       "      <td>13.5</td>\n",
       "      <td>38.2</td>\n",
       "      <td>13.8</td>\n",
       "      <td>16500000</td>\n",
       "      <td>55.0</td>\n",
       "      <td>470</td>\n",
       "      <td>함완식</td>\n",
       "      <td>박재우</td>\n",
       "    </tr>\n",
       "    <tr>\n",
       "      <th>74</th>\n",
       "      <td>흥드림</td>\n",
       "      <td>20-07-18-1</td>\n",
       "      <td>일반</td>\n",
       "      <td>1000</td>\n",
       "      <td>국6등급</td>\n",
       "      <td>3</td>\n",
       "      <td>6</td>\n",
       "      <td>12</td>\n",
       "      <td>1</td>\n",
       "      <td>62.2</td>\n",
       "      <td>13.1</td>\n",
       "      <td>38.7</td>\n",
       "      <td>14.3</td>\n",
       "      <td>0</td>\n",
       "      <td>55.0</td>\n",
       "      <td>490</td>\n",
       "      <td>함완식</td>\n",
       "      <td>정호익</td>\n",
       "    </tr>\n",
       "    <tr>\n",
       "      <th>83</th>\n",
       "      <td>화이트코멧</td>\n",
       "      <td>20-07-19-8</td>\n",
       "      <td>일반</td>\n",
       "      <td>1400</td>\n",
       "      <td>혼4등급</td>\n",
       "      <td>1</td>\n",
       "      <td>3</td>\n",
       "      <td>11</td>\n",
       "      <td>4</td>\n",
       "      <td>86.6</td>\n",
       "      <td>13.3</td>\n",
       "      <td>39.0</td>\n",
       "      <td>13.7</td>\n",
       "      <td>8400000</td>\n",
       "      <td>56.5</td>\n",
       "      <td>487</td>\n",
       "      <td>함완식</td>\n",
       "      <td>정호익</td>\n",
       "    </tr>\n",
       "    <tr>\n",
       "      <th>109</th>\n",
       "      <td>두손멍군</td>\n",
       "      <td>20-07-26-6</td>\n",
       "      <td>일반</td>\n",
       "      <td>1200</td>\n",
       "      <td>혼4등급</td>\n",
       "      <td>11</td>\n",
       "      <td>5</td>\n",
       "      <td>12</td>\n",
       "      <td>2</td>\n",
       "      <td>76.2</td>\n",
       "      <td>13.9</td>\n",
       "      <td>39.4</td>\n",
       "      <td>13.9</td>\n",
       "      <td>3000000</td>\n",
       "      <td>54.5</td>\n",
       "      <td>454</td>\n",
       "      <td>함완식</td>\n",
       "      <td>정호익</td>\n",
       "    </tr>\n",
       "    <tr>\n",
       "      <th>131</th>\n",
       "      <td>엠제이파워</td>\n",
       "      <td>20-08-23-10</td>\n",
       "      <td>서울마주협회장배(GⅢ)</td>\n",
       "      <td>1200</td>\n",
       "      <td>혼OPEN</td>\n",
       "      <td>5</td>\n",
       "      <td>5</td>\n",
       "      <td>15</td>\n",
       "      <td>3</td>\n",
       "      <td>73.0</td>\n",
       "      <td>13.2</td>\n",
       "      <td>37.6</td>\n",
       "      <td>13.2</td>\n",
       "      <td>16000000</td>\n",
       "      <td>57.0</td>\n",
       "      <td>522</td>\n",
       "      <td>함완식</td>\n",
       "      <td>김동균</td>\n",
       "    </tr>\n",
       "    <tr>\n",
       "      <th>...</th>\n",
       "      <td>...</td>\n",
       "      <td>...</td>\n",
       "      <td>...</td>\n",
       "      <td>...</td>\n",
       "      <td>...</td>\n",
       "      <td>...</td>\n",
       "      <td>...</td>\n",
       "      <td>...</td>\n",
       "      <td>...</td>\n",
       "      <td>...</td>\n",
       "      <td>...</td>\n",
       "      <td>...</td>\n",
       "      <td>...</td>\n",
       "      <td>...</td>\n",
       "      <td>...</td>\n",
       "      <td>...</td>\n",
       "      <td>...</td>\n",
       "      <td>...</td>\n",
       "    </tr>\n",
       "    <tr>\n",
       "      <th>10211</th>\n",
       "      <td>화이트위치</td>\n",
       "      <td>22-11-12-3</td>\n",
       "      <td>일반</td>\n",
       "      <td>1200</td>\n",
       "      <td>국6등급</td>\n",
       "      <td>1</td>\n",
       "      <td>10</td>\n",
       "      <td>11</td>\n",
       "      <td>0</td>\n",
       "      <td>77.2</td>\n",
       "      <td>13.8</td>\n",
       "      <td>40.0</td>\n",
       "      <td>14.2</td>\n",
       "      <td>0</td>\n",
       "      <td>53.0</td>\n",
       "      <td>468</td>\n",
       "      <td>함완식</td>\n",
       "      <td>홍대유</td>\n",
       "    </tr>\n",
       "    <tr>\n",
       "      <th>10281</th>\n",
       "      <td>에이스함성</td>\n",
       "      <td>22-11-12-9</td>\n",
       "      <td>일반</td>\n",
       "      <td>1800</td>\n",
       "      <td>국3등급</td>\n",
       "      <td>3</td>\n",
       "      <td>1</td>\n",
       "      <td>11</td>\n",
       "      <td>0</td>\n",
       "      <td>116.8</td>\n",
       "      <td>14.9</td>\n",
       "      <td>38.5</td>\n",
       "      <td>13.0</td>\n",
       "      <td>41250000</td>\n",
       "      <td>58.0</td>\n",
       "      <td>487</td>\n",
       "      <td>함완식</td>\n",
       "      <td>이관호</td>\n",
       "    </tr>\n",
       "    <tr>\n",
       "      <th>10286</th>\n",
       "      <td>나올행복</td>\n",
       "      <td>22-11-13-1</td>\n",
       "      <td>일반</td>\n",
       "      <td>1000</td>\n",
       "      <td>국6등급</td>\n",
       "      <td>5</td>\n",
       "      <td>2</td>\n",
       "      <td>12</td>\n",
       "      <td>3</td>\n",
       "      <td>60.9</td>\n",
       "      <td>13.4</td>\n",
       "      <td>36.9</td>\n",
       "      <td>12.9</td>\n",
       "      <td>13200000</td>\n",
       "      <td>53.0</td>\n",
       "      <td>503</td>\n",
       "      <td>함완식</td>\n",
       "      <td>곽영효</td>\n",
       "    </tr>\n",
       "    <tr>\n",
       "      <th>10337</th>\n",
       "      <td>피엔에스빌</td>\n",
       "      <td>22-11-13-4</td>\n",
       "      <td>일반</td>\n",
       "      <td>1300</td>\n",
       "      <td>국5등급</td>\n",
       "      <td>6</td>\n",
       "      <td>5</td>\n",
       "      <td>10</td>\n",
       "      <td>3</td>\n",
       "      <td>80.7</td>\n",
       "      <td>13.9</td>\n",
       "      <td>37.8</td>\n",
       "      <td>12.9</td>\n",
       "      <td>2400000</td>\n",
       "      <td>55.5</td>\n",
       "      <td>473</td>\n",
       "      <td>함완식</td>\n",
       "      <td>유재길</td>\n",
       "    </tr>\n",
       "    <tr>\n",
       "      <th>10370</th>\n",
       "      <td>포에버드림</td>\n",
       "      <td>22-11-13-8</td>\n",
       "      <td>대통령배(GradeⅠ)</td>\n",
       "      <td>2000</td>\n",
       "      <td>국OPEN</td>\n",
       "      <td>14</td>\n",
       "      <td>14</td>\n",
       "      <td>14</td>\n",
       "      <td>3</td>\n",
       "      <td>134.8</td>\n",
       "      <td>13.6</td>\n",
       "      <td>45.5</td>\n",
       "      <td>16.5</td>\n",
       "      <td>0</td>\n",
       "      <td>55.5</td>\n",
       "      <td>476</td>\n",
       "      <td>함완식</td>\n",
       "      <td>이관호</td>\n",
       "    </tr>\n",
       "  </tbody>\n",
       "</table>\n",
       "<p>265 rows × 18 columns</p>\n",
       "</div>"
      ],
      "text/plain": [
       "          마명         경주번호           경주명    거리  군(등급)  번호  순위  출전두수  주로상태  \\\n",
       "63     옥스퍼드킹   20-06-21-1            일반  1000   국6등급   4   2    12     0   \n",
       "74       흥드림   20-07-18-1            일반  1000   국6등급   3   6    12     1   \n",
       "83     화이트코멧   20-07-19-8            일반  1400   혼4등급   1   3    11     4   \n",
       "109     두손멍군   20-07-26-6            일반  1200   혼4등급  11   5    12     2   \n",
       "131    엠제이파워  20-08-23-10  서울마주협회장배(GⅢ)  1200  혼OPEN   5   5    15     3   \n",
       "...      ...          ...           ...   ...    ...  ..  ..   ...   ...   \n",
       "10211  화이트위치   22-11-12-3            일반  1200   국6등급   1  10    11     0   \n",
       "10281  에이스함성   22-11-12-9            일반  1800   국3등급   3   1    11     0   \n",
       "10286   나올행복   22-11-13-1            일반  1000   국6등급   5   2    12     3   \n",
       "10337  피엔에스빌   22-11-13-4            일반  1300   국5등급   6   5    10     3   \n",
       "10370  포에버드림   22-11-13-8  대통령배(GradeⅠ)  2000  국OPEN  14  14    14     3   \n",
       "\n",
       "          기록  S1F기록  G3F기록  G1F기록      수득상금  부담중량  마체중   기수  조교사  \n",
       "63      62.2   13.5   38.2   13.8  16500000  55.0  470  함완식  박재우  \n",
       "74      62.2   13.1   38.7   14.3         0  55.0  490  함완식  정호익  \n",
       "83      86.6   13.3   39.0   13.7   8400000  56.5  487  함완식  정호익  \n",
       "109     76.2   13.9   39.4   13.9   3000000  54.5  454  함완식  정호익  \n",
       "131     73.0   13.2   37.6   13.2  16000000  57.0  522  함완식  김동균  \n",
       "...      ...    ...    ...    ...       ...   ...  ...  ...  ...  \n",
       "10211   77.2   13.8   40.0   14.2         0  53.0  468  함완식  홍대유  \n",
       "10281  116.8   14.9   38.5   13.0  41250000  58.0  487  함완식  이관호  \n",
       "10286   60.9   13.4   36.9   12.9  13200000  53.0  503  함완식  곽영효  \n",
       "10337   80.7   13.9   37.8   12.9   2400000  55.5  473  함완식  유재길  \n",
       "10370  134.8   13.6   45.5   16.5         0  55.5  476  함완식  이관호  \n",
       "\n",
       "[265 rows x 18 columns]"
      ]
     },
     "execution_count": 79,
     "metadata": {},
     "output_type": "execute_result"
    }
   ],
   "source": [
    "asdf[asdf['기수']=='함완식']"
   ]
  },
  {
   "cell_type": "markdown",
   "id": "218f0c42",
   "metadata": {},
   "source": [
    "# 기수 순위"
   ]
  },
  {
   "cell_type": "code",
   "execution_count": 96,
   "id": "55ab8bfa",
   "metadata": {},
   "outputs": [
    {
     "data": {
      "text/plain": [
       "array([[<AxesSubplot:title={'center':'순위'}>]], dtype=object)"
      ]
     },
     "execution_count": 96,
     "metadata": {},
     "output_type": "execute_result"
    },
    {
     "data": {
      "image/png": "[encoded data removed]",
      "text/plain": [
       "<Figure size 432x288 with 1 Axes>"
      ]
     },
     "metadata": {
      "needs_background": "light"
     },
     "output_type": "display_data"
    }
   ],
   "source": [
    "asdf[asdf['기수']=='함완식'].hist(column='순위')"
   ]
  },
  {
   "cell_type": "code",
   "execution_count": 110,
   "id": "60555936",
   "metadata": {},
   "outputs": [
    {
     "data": {
      "image/png": "[encoded data removed]",
      "text/plain": [
       "<Figure size 432x288 with 1 Axes>"
      ]
     },
     "metadata": {
      "needs_background": "light"
     },
     "output_type": "display_data"
    }
   ],
   "source": [
    "fig = plt.figure(); \n",
    "ax = fig.add_subplot(1, 1, 1)\n",
    "for i in asdf['기수'].unique():\n",
    "    plt.hist(asdf[asdf['기수'] ==i])\n",
    "    plt.xlabel(i)\n",
    "    plt.xlim=(0,15)\n",
    "    plt.ylim=(0,150)"
   ]
  },
  {
   "cell_type": "code",
   "execution_count": 109,
   "id": "c624de84",
   "metadata": {
    "scrolled": false
   },
   "outputs": [
    {
     "name": "stderr",
     "output_type": "stream",
     "text": [
      "C:\\Users\\NTX550\\anaconda3\\lib\\site-packages\\pandas\\plotting\\_matplotlib\\tools.py:223: RuntimeWarning: More than 20 figures have been opened. Figures created through the pyplot interface (`matplotlib.pyplot.figure`) are retained until explicitly closed and may consume too much memory. (To control this warning, see the rcParam `figure.max_open_warning`).\n",
      "  fig = plt.figure(**fig_kw)\n"
     ]
    },
    {
     "data": {
      "image/png": "[encoded data removed]",
      "text/plain": [
       "<Figure size 432x288 with 1 Axes>"
      ]
     },
     "metadata": {
      "needs_background": "light"
     },
     "output_type": "display_data"
    },
    {
     "data": {
      "image/png": "[encoded data removed]",
      "text/plain": [
       "<Figure size 432x288 with 1 Axes>"
      ]
     },
     "metadata": {
      "needs_background": "light"
     },
     "output_type": "display_data"
    },
    {
     "data": {
      "image/png": "[encoded data removed]",
      "text/plain": [
       "<Figure size 432x288 with 1 Axes>"
      ]
     },
     "metadata": {
      "needs_background": "light"
     },
     "output_type": "display_data"
    },
    {
     "data": {
      "image/png": "[encoded data removed]",
      "text/plain": [
       "<Figure size 432x288 with 1 Axes>"
      ]
     },
     "metadata": {
      "needs_background": "light"
     },
     "output_type": "display_data"
    },
    {
     "data": {
      "image/png": "[encoded data removed]",
      "text/plain": [
       "<Figure size 432x288 with 1 Axes>"
      ]
     },
     "metadata": {
      "needs_background": "light"
     },
     "output_type": "display_data"
    },
    {
     "data": {
      "image/png": "[encoded data removed]",
      "text/plain": [
       "<Figure size 432x288 with 1 Axes>"
      ]
     },
     "metadata": {
      "needs_background": "light"
     },
     "output_type": "display_data"
    },
    {
     "data": {
      "image/png": "[encoded data removed]",
      "text/plain": [
       "<Figure size 432x288 with 1 Axes>"
      ]
     },
     "metadata": {
      "needs_background": "light"
     },
     "output_type": "display_data"
    },
    {
     "data": {
      "image/png": "[encoded data removed]",
      "text/plain": [
       "<Figure size 432x288 with 1 Axes>"
      ]
     },
     "metadata": {
      "needs_background": "light"
     },
     "output_type": "display_data"
    },
    {
     "data": {
      "image/png": "[encoded data removed]",
      "text/plain": [
       "<Figure size 432x288 with 1 Axes>"
      ]
     },
     "metadata": {
      "needs_background": "light"
     },
     "output_type": "display_data"
    },
    {
     "data": {
      "image/png": "[encoded data removed]",
      "text/plain": [
       "<Figure size 432x288 with 1 Axes>"
      ]
     },
     "metadata": {
      "needs_background": "light"
     },
     "output_type": "display_data"
    },
    {
     "data": {
      "image/png": "[encoded data removed]",
      "text/plain": [
       "<Figure size 432x288 with 1 Axes>"
      ]
     },
     "metadata": {
      "needs_background": "light"
     },
     "output_type": "display_data"
    },
    {
     "data": {
      "image/png": "[encoded data removed]",
      "text/plain": [
       "<Figure size 432x288 with 1 Axes>"
      ]
     },
     "metadata": {
      "needs_background": "light"
     },
     "output_type": "display_data"
    },
    {
     "data": {
      "image/png": "[encoded data removed]",
      "text/plain": [
       "<Figure size 432x288 with 1 Axes>"
      ]
     },
     "metadata": {
      "needs_background": "light"
     },
     "output_type": "display_data"
    },
    {
     "data": {
      "image/png": "[encoded data removed]",
      "text/plain": [
       "<Figure size 432x288 with 1 Axes>"
      ]
     },
     "metadata": {
      "needs_background": "light"
     },
     "output_type": "display_data"
    },
    {
     "data": {
      "image/png": "[encoded data removed]",
      "text/plain": [
       "<Figure size 432x288 with 1 Axes>"
      ]
     },
     "metadata": {
      "needs_background": "light"
     },
     "output_type": "display_data"
    },
    {
     "data": {
      "image/png": "[encoded data removed]",
      "text/plain": [
       "<Figure size 432x288 with 1 Axes>"
      ]
     },
     "metadata": {
      "needs_background": "light"
     },
     "output_type": "display_data"
    },
    {
     "data": {
      "image/png": "[encoded data removed]",
      "text/plain": [
       "<Figure size 432x288 with 1 Axes>"
      ]
     },
     "metadata": {
      "needs_background": "light"
     },
     "output_type": "display_data"
    },
    {
     "data": {
      "image/png": "[encoded data removed]",
      "text/plain": [
       "<Figure size 432x288 with 1 Axes>"
      ]
     },
     "metadata": {
      "needs_background": "light"
     },
     "output_type": "display_data"
    },
    {
     "data": {
      "image/png": "[encoded data removed]",
      "text/plain": [
       "<Figure size 432x288 with 1 Axes>"
      ]
     },
     "metadata": {
      "needs_background": "light"
     },
     "output_type": "display_data"
    },
    {
     "data": {
      "image/png": "[encoded data removed]",
      "text/plain": [
       "<Figure size 432x288 with 1 Axes>"
      ]
     },
     "metadata": {
      "needs_background": "light"
     },
     "output_type": "display_data"
    },
    {
     "data": {
      "image/png": "[encoded data removed]",
      "text/plain": [
       "<Figure size 432x288 with 1 Axes>"
      ]
     },
     "metadata": {
      "needs_background": "light"
     },
     "output_type": "display_data"
    },
    {
     "data": {
      "image/png": "[encoded data removed]",
      "text/plain": [
       "<Figure size 432x288 with 1 Axes>"
      ]
     },
     "metadata": {
      "needs_background": "light"
     },
     "output_type": "display_data"
    },
    {
     "data": {
      "image/png": "[encoded data removed]",
      "text/plain": [
       "<Figure size 432x288 with 1 Axes>"
      ]
     },
     "metadata": {
      "needs_background": "light"
     },
     "output_type": "display_data"
    },
    {
     "data": {
      "image/png": "[encoded data removed]",
      "text/plain": [
       "<Figure size 432x288 with 1 Axes>"
      ]
     },
     "metadata": {
      "needs_background": "light"
     },
     "output_type": "display_data"
    },
    {
     "data": {
      "image/png": "[encoded data removed]",
      "text/plain": [
       "<Figure size 432x288 with 1 Axes>"
      ]
     },
     "metadata": {
      "needs_background": "light"
     },
     "output_type": "display_data"
    },
    {
     "data": {
      "image/png": "[encoded data removed]",
      "text/plain": [
       "<Figure size 432x288 with 1 Axes>"
      ]
     },
     "metadata": {
      "needs_background": "light"
     },
     "output_type": "display_data"
    },
    {
     "data": {
      "image/png": "[encoded data removed]",
      "text/plain": [
       "<Figure size 432x288 with 1 Axes>"
      ]
     },
     "metadata": {
      "needs_background": "light"
     },
     "output_type": "display_data"
    },
    {
     "data": {
      "image/png": "[encoded data removed]",
      "text/plain": [
       "<Figure size 432x288 with 1 Axes>"
      ]
     },
     "metadata": {
      "needs_background": "light"
     },
     "output_type": "display_data"
    },
    {
     "data": {
      "image/png": "[encoded data removed]",
      "text/plain": [
       "<Figure size 432x288 with 1 Axes>"
      ]
     },
     "metadata": {
      "needs_background": "light"
     },
     "output_type": "display_data"
    },
    {
     "data": {
      "image/png": "[encoded data removed]",
      "text/plain": [
       "<Figure size 432x288 with 1 Axes>"
      ]
     },
     "metadata": {
      "needs_background": "light"
     },
     "output_type": "display_data"
    },
    {
     "data": {
      "image/png": "[encoded data removed]",
      "text/plain": [
       "<Figure size 432x288 with 1 Axes>"
      ]
     },
     "metadata": {
      "needs_background": "light"
     },
     "output_type": "display_data"
    },
    {
     "data": {
      "image/png": "[encoded data removed]",
      "text/plain": [
       "<Figure size 432x288 with 1 Axes>"
      ]
     },
     "metadata": {
      "needs_background": "light"
     },
     "output_type": "display_data"
    },
    {
     "data": {
      "image/png": "[encoded data removed]",
      "text/plain": [
       "<Figure size 432x288 with 1 Axes>"
      ]
     },
     "metadata": {
      "needs_background": "light"
     },
     "output_type": "display_data"
    },
    {
     "data": {
      "image/png": "[encoded data removed]",
      "text/plain": [
       "<Figure size 432x288 with 1 Axes>"
      ]
     },
     "metadata": {
      "needs_background": "light"
     },
     "output_type": "display_data"
    },
    {
     "data": {
      "image/png": "[encoded data removed]",
      "text/plain": [
       "<Figure size 432x288 with 1 Axes>"
      ]
     },
     "metadata": {
      "needs_background": "light"
     },
     "output_type": "display_data"
    },
    {
     "data": {
      "image/png": "[encoded data removed]",
      "text/plain": [
       "<Figure size 432x288 with 1 Axes>"
      ]
     },
     "metadata": {
      "needs_background": "light"
     },
     "output_type": "display_data"
    },
    {
     "data": {
      "image/png": "[encoded data removed]",
      "text/plain": [
       "<Figure size 432x288 with 1 Axes>"
      ]
     },
     "metadata": {
      "needs_background": "light"
     },
     "output_type": "display_data"
    },
    {
     "data": {
      "image/png": "[encoded data removed]",
      "text/plain": [
       "<Figure size 432x288 with 1 Axes>"
      ]
     },
     "metadata": {
      "needs_background": "light"
     },
     "output_type": "display_data"
    },
    {
     "data": {
      "image/png": "[encoded data removed]",
      "text/plain": [
       "<Figure size 432x288 with 1 Axes>"
      ]
     },
     "metadata": {
      "needs_background": "light"
     },
     "output_type": "display_data"
    },
    {
     "data": {
      "image/png": "[encoded data removed]",
      "text/plain": [
       "<Figure size 432x288 with 1 Axes>"
      ]
     },
     "metadata": {
      "needs_background": "light"
     },
     "output_type": "display_data"
    },
    {
     "data": {
      "image/png": "[encoded data removed]",
      "text/plain": [
       "<Figure size 432x288 with 1 Axes>"
      ]
     },
     "metadata": {
      "needs_background": "light"
     },
     "output_type": "display_data"
    },
    {
     "data": {
      "image/png": "[encoded data removed]",
      "text/plain": [
       "<Figure size 432x288 with 1 Axes>"
      ]
     },
     "metadata": {
      "needs_background": "light"
     },
     "output_type": "display_data"
    },
    {
     "data": {
      "image/png": "[encoded data removed]",
      "text/plain": [
       "<Figure size 432x288 with 1 Axes>"
      ]
     },
     "metadata": {
      "needs_background": "light"
     },
     "output_type": "display_data"
    },
    {
     "data": {
      "image/png": "[encoded data removed]",
      "text/plain": [
       "<Figure size 432x288 with 1 Axes>"
      ]
     },
     "metadata": {
      "needs_background": "light"
     },
     "output_type": "display_data"
    },
    {
     "data": {
      "image/png": "[encoded data removed]",
      "text/plain": [
       "<Figure size 432x288 with 1 Axes>"
      ]
     },
     "metadata": {
      "needs_background": "light"
     },
     "output_type": "display_data"
    },
    {
     "data": {
      "image/png": "[encoded data removed]",
      "text/plain": [
       "<Figure size 432x288 with 1 Axes>"
      ]
     },
     "metadata": {
      "needs_background": "light"
     },
     "output_type": "display_data"
    },
    {
     "data": {
      "image/png": "[encoded data removed]",
      "text/plain": [
       "<Figure size 432x288 with 1 Axes>"
      ]
     },
     "metadata": {
      "needs_background": "light"
     },
     "output_type": "display_data"
    },
    {
     "data": {
      "image/png": "[encoded data removed]",
      "text/plain": [
       "<Figure size 432x288 with 1 Axes>"
      ]
     },
     "metadata": {
      "needs_background": "light"
     },
     "output_type": "display_data"
    },
    {
     "data": {
      "image/png": "[encoded data removed]",
      "text/plain": [
       "<Figure size 432x288 with 1 Axes>"
      ]
     },
     "metadata": {
      "needs_background": "light"
     },
     "output_type": "display_data"
    },
    {
     "data": {
      "image/png": "[encoded data removed]",
      "text/plain": [
       "<Figure size 432x288 with 1 Axes>"
      ]
     },
     "metadata": {
      "needs_background": "light"
     },
     "output_type": "display_data"
    },
    {
     "data": {
      "image/png": "[encoded data removed]",
      "text/plain": [
       "<Figure size 432x288 with 1 Axes>"
      ]
     },
     "metadata": {
      "needs_background": "light"
     },
     "output_type": "display_data"
    },
    {
     "data": {
      "image/png": "[encoded data removed]",
      "text/plain": [
       "<Figure size 432x288 with 1 Axes>"
      ]
     },
     "metadata": {
      "needs_background": "light"
     },
     "output_type": "display_data"
    },
    {
     "data": {
      "image/png": "[encoded data removed]",
      "text/plain": [
       "<Figure size 432x288 with 1 Axes>"
      ]
     },
     "metadata": {
      "needs_background": "light"
     },
     "output_type": "display_data"
    },
    {
     "data": {
      "image/png": "[encoded data removed]",
      "text/plain": [
       "<Figure size 432x288 with 1 Axes>"
      ]
     },
     "metadata": {
      "needs_background": "light"
     },
     "output_type": "display_data"
    },
    {
     "data": {
      "image/png": "[encoded data removed]",
      "text/plain": [
       "<Figure size 432x288 with 1 Axes>"
      ]
     },
     "metadata": {
      "needs_background": "light"
     },
     "output_type": "display_data"
    },
    {
     "data": {
      "image/png": "[encoded data removed]",
      "text/plain": [
       "<Figure size 432x288 with 1 Axes>"
      ]
     },
     "metadata": {
      "needs_background": "light"
     },
     "output_type": "display_data"
    },
    {
     "data": {
      "image/png": "[encoded data removed]",
      "text/plain": [
       "<Figure size 432x288 with 1 Axes>"
      ]
     },
     "metadata": {
      "needs_background": "light"
     },
     "output_type": "display_data"
    },
    {
     "data": {
      "image/png": "[encoded data removed]",
      "text/plain": [
       "<Figure size 432x288 with 1 Axes>"
      ]
     },
     "metadata": {
      "needs_background": "light"
     },
     "output_type": "display_data"
    },
    {
     "data": {
      "image/png": "[encoded data removed]",
      "text/plain": [
       "<Figure size 432x288 with 1 Axes>"
      ]
     },
     "metadata": {
      "needs_background": "light"
     },
     "output_type": "display_data"
    },
    {
     "data": {
      "image/png": "[encoded data removed]",
      "text/plain": [
       "<Figure size 432x288 with 1 Axes>"
      ]
     },
     "metadata": {
      "needs_background": "light"
     },
     "output_type": "display_data"
    },
    {
     "data": {
      "image/png": "[encoded data removed]",
      "text/plain": [
       "<Figure size 432x288 with 1 Axes>"
      ]
     },
     "metadata": {
      "needs_background": "light"
     },
     "output_type": "display_data"
    },
    {
     "data": {
      "image/png": "[encoded data removed]",
      "text/plain": [
       "<Figure size 432x288 with 1 Axes>"
      ]
     },
     "metadata": {
      "needs_background": "light"
     },
     "output_type": "display_data"
    },
    {
     "data": {
      "image/png": "[encoded data removed]",
      "text/plain": [
       "<Figure size 432x288 with 1 Axes>"
      ]
     },
     "metadata": {
      "needs_background": "light"
     },
     "output_type": "display_data"
    },
    {
     "data": {
      "image/png": "[encoded data removed]",
      "text/plain": [
       "<Figure size 432x288 with 1 Axes>"
      ]
     },
     "metadata": {
      "needs_background": "light"
     },
     "output_type": "display_data"
    },
    {
     "data": {
      "image/png": "[encoded data removed]",
      "text/plain": [
       "<Figure size 432x288 with 1 Axes>"
      ]
     },
     "metadata": {
      "needs_background": "light"
     },
     "output_type": "display_data"
    },
    {
     "data": {
      "image/png": "[encoded data removed]",
      "text/plain": [
       "<Figure size 432x288 with 1 Axes>"
      ]
     },
     "metadata": {
      "needs_background": "light"
     },
     "output_type": "display_data"
    },
    {
     "data": {
      "image/png": "[encoded data removed]",
      "text/plain": [
       "<Figure size 432x288 with 1 Axes>"
      ]
     },
     "metadata": {
      "needs_background": "light"
     },
     "output_type": "display_data"
    },
    {
     "data": {
      "image/png": "[encoded data removed]",
      "text/plain": [
       "<Figure size 432x288 with 1 Axes>"
      ]
     },
     "metadata": {
      "needs_background": "light"
     },
     "output_type": "display_data"
    },
    {
     "data": {
      "image/png": "[encoded data removed]",
      "text/plain": [
       "<Figure size 432x288 with 1 Axes>"
      ]
     },
     "metadata": {
      "needs_background": "light"
     },
     "output_type": "display_data"
    },
    {
     "data": {
      "image/png": "[encoded data removed]",
      "text/plain": [
       "<Figure size 432x288 with 1 Axes>"
      ]
     },
     "metadata": {
      "needs_background": "light"
     },
     "output_type": "display_data"
    },
    {
     "data": {
      "image/png": "[encoded data removed]",
      "text/plain": [
       "<Figure size 432x288 with 1 Axes>"
      ]
     },
     "metadata": {
      "needs_background": "light"
     },
     "output_type": "display_data"
    },
    {
     "data": {
      "image/png": "[encoded data removed]",
      "text/plain": [
       "<Figure size 432x288 with 1 Axes>"
      ]
     },
     "metadata": {
      "needs_background": "light"
     },
     "output_type": "display_data"
    },
    {
     "data": {
      "image/png": "[encoded data removed]",
      "text/plain": [
       "<Figure size 432x288 with 1 Axes>"
      ]
     },
     "metadata": {
      "needs_background": "light"
     },
     "output_type": "display_data"
    },
    {
     "data": {
      "image/png": "[encoded data removed]",
      "text/plain": [
       "<Figure size 432x288 with 1 Axes>"
      ]
     },
     "metadata": {
      "needs_background": "light"
     },
     "output_type": "display_data"
    },
    {
     "data": {
      "image/png": "[encoded data removed]",
      "text/plain": [
       "<Figure size 432x288 with 1 Axes>"
      ]
     },
     "metadata": {
      "needs_background": "light"
     },
     "output_type": "display_data"
    },
    {
     "data": {
      "image/png": "[encoded data removed]",
      "text/plain": [
       "<Figure size 432x288 with 1 Axes>"
      ]
     },
     "metadata": {
      "needs_background": "light"
     },
     "output_type": "display_data"
    }
   ],
   "source": [
    "for i in asdf['기수'].unique():\n",
    "    asdf[asdf['기수'] ==i].hist(column='순위')\n",
    "    plt.xlabel(i)\n",
    "    plt.xlim=(0,15)\n",
    "    plt.ylim=(0,150)"
   ]
  },
  {
   "cell_type": "code",
   "execution_count": 83,
   "id": "020fc470",
   "metadata": {},
   "outputs": [
    {
     "data": {
      "text/plain": [
       "array(['김태훈', '다나카', '안토니오', '송재철', '김동수', '김용근', '먼로', '박태종', '김정준',\n",
       "       '다비드', '조한별', '임기원', '이준철', '빅투아르', '이혁', '최범현', '박을운', '문정균',\n",
       "       '이현종', '조상범', '조재로', '이동하', '유승완', '문세영', '함완식', '하정훈', '박상우',\n",
       "       '김덕현', '박현우', '임다빈', '이동진', '김아현', '문성혁', '박병윤', '우에다', '권석원',\n",
       "       '김옥성', '신형철', '정평수', '장추열', '김효정', '이기회', '이철경', '부민호', '윤태혁',\n",
       "       '지하주', '안효리', '이동국', '이용호', '황순도', '김귀배', '방춘식', '정정희', '이강서',\n",
       "       '최원준', '김태희', '송경윤', '유현명', '윤영민', '이해동', '다실바', '페로비치', '조인권',\n",
       "       '진겸', '전진구', '김철호', '박재이', '서승운', '황종우', '요아니스', '이상규', '오수철',\n",
       "       '최은경', '최시대', '채상현', '이성재'], dtype=object)"
      ]
     },
     "execution_count": 83,
     "metadata": {},
     "output_type": "execute_result"
    }
   ],
   "source": [
    "# 말 데이터에 있는 기수 이름들\n",
    "asdf['기수'].unique()"
   ]
  },
  {
   "cell_type": "code",
   "execution_count": null,
   "id": "c326c1e8",
   "metadata": {},
   "outputs": [],
   "source": [
    "# 기수 데이터에 없는 기수 이름들\n",
    "result = ['다나카', '이준철','우에다', '권석원','정평수', '이기회', '윤태혁', '지하주',  '이동국',  '황순도', '이강서',\n",
    "     '최원준',  '송경윤', '유현명', '윤영민', '이해동', '다실바', '페로비치', '조인권','진겸', '전진구', '김철호',\n",
    "     '박재이', '서승운', '요아니스','최은경', '최시대', '채상현', '이성재']\n"
   ]
  },
  {
   "cell_type": "code",
   "execution_count": 88,
   "id": "6c298ad2",
   "metadata": {
    "collapsed": true
   },
   "outputs": [
    {
     "data": {
      "text/plain": [
       "['홍대유',\n",
       " '강성오',\n",
       " '최용구',\n",
       " '안병기',\n",
       " '박재우',\n",
       " '서홍수',\n",
       " '임봉춘',\n",
       " '서인석',\n",
       " '박종곤',\n",
       " '송문길',\n",
       " '배대선',\n",
       " '최상식',\n",
       " '지용철',\n",
       " '이관호',\n",
       " '김대근',\n",
       " '박희철',\n",
       " '정호익',\n",
       " '유재길',\n",
       " '서범석',\n",
       " '김동철',\n",
       " '박대흥',\n",
       " '전승규',\n",
       " '최봉주',\n",
       " '이희영',\n",
       " '김점오',\n",
       " '리카디',\n",
       " '박윤규',\n",
       " '강환민',\n",
       " '우창구',\n",
       " '김동균',\n",
       " '이신영',\n",
       " '신삼영',\n",
       " '박천서',\n",
       " '토니',\n",
       " '김윤섭',\n",
       " '구자흥',\n",
       " '최용건',\n",
       " '최영주',\n",
       " '박병일',\n",
       " '곽영효',\n",
       " '임채덕',\n",
       " '손영표',\n",
       " '안해양',\n",
       " '조현수',\n",
       " '심승태',\n",
       " '서정하',\n",
       " '배휴준',\n",
       " '이준철',\n",
       " '문병기']"
      ]
     },
     "execution_count": 88,
     "metadata": {},
     "output_type": "execute_result"
    }
   ],
   "source": [
    "# 말 데이터에 있는 조교사 이름\n",
    "mal  = list(asdf['조교사'].unique())\n",
    "mal"
   ]
  },
  {
   "cell_type": "code",
   "execution_count": 86,
   "id": "0630c4f4",
   "metadata": {
    "collapsed": true
   },
   "outputs": [
    {
     "data": {
      "text/plain": [
       "['강성오',\n",
       " '강환민',\n",
       " '곽영효',\n",
       " '구자흥',\n",
       " '김동균',\n",
       " '김동철',\n",
       " '김윤섭',\n",
       " '리카디',\n",
       " '문병기',\n",
       " '박병일',\n",
       " '박윤규',\n",
       " '박재우',\n",
       " '박종곤',\n",
       " '박천서',\n",
       " '박희철',\n",
       " '배대선',\n",
       " '배휴준',\n",
       " '서범석',\n",
       " '서인석',\n",
       " '서홍수',\n",
       " '손영표',\n",
       " '송문길',\n",
       " '신삼영',\n",
       " '심승태',\n",
       " '안병기',\n",
       " '안해양',\n",
       " '우창구',\n",
       " '유재길',\n",
       " '이관호',\n",
       " '이신영',\n",
       " '이준철',\n",
       " '이희영',\n",
       " '임채덕',\n",
       " '전승규',\n",
       " '정호익',\n",
       " '조현수',\n",
       " '최봉주',\n",
       " '최상식',\n",
       " '최영주',\n",
       " '최용건',\n",
       " '최용구',\n",
       " '토니',\n",
       " '홍대유']"
      ]
     },
     "execution_count": 86,
     "metadata": {},
     "output_type": "execute_result"
    }
   ],
   "source": [
    "# 조교사 데이터에 있는 이름\n",
    "a = ['강성오', '강환민', '곽영효', '구자흥', '김동균', '김동철', '김윤섭', '리카디', '문병기',\n",
    "       '박병일', '박윤규', '박재우', '박종곤', '박천서', '박희철', '배대선', '배휴준', '서범석',\n",
    "       '서인석', '서홍수', '손영표', '송문길', '신삼영', '심승태', '안병기', '안해양', '우창구',\n",
    "       '유재길', '이관호', '이신영', '이준철', '이희영', '임채덕', '전승규', '정호익', '조현수',\n",
    "       '최봉주', '최상식', '최영주', '최용건', '최용구', '토니', '홍대유']"
   ]
  },
  {
   "cell_type": "code",
   "execution_count": 87,
   "id": "4335cf8f",
   "metadata": {},
   "outputs": [
    {
     "data": {
      "text/plain": [
       "['임봉춘', '지용철', '김대근', '박대흥', '김점오', '서정하']"
      ]
     },
     "execution_count": 87,
     "metadata": {},
     "output_type": "execute_result"
    }
   ],
   "source": [
    "# 조교사 데이터에 없는 조교사들 ( 추가 데이터 필요한 사람들 )\n",
    "for i in a:\n",
    "    if i in mal:\n",
    "        mal.remove(i)\n",
    "mal"
   ]
  }
 ],
 "metadata": {
  "kernelspec": {
   "display_name": "Python 3 (ipykernel)",
   "language": "python",
   "name": "python3"
  },
  "language_info": {
   "codemirror_mode": {
    "name": "ipython",
    "version": 3
   },
   "file_extension": ".py",
   "mimetype": "text/x-python",
   "name": "python",
   "nbconvert_exporter": "python",
   "pygments_lexer": "ipython3",
   "version": "3.9.12"
  }
 },
 "nbformat": 4,
 "nbformat_minor": 5
}
