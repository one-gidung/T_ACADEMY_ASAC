{
 "cells": [
  {
   "cell_type": "code",
   "execution_count": 1,
   "id": "b668d827",
   "metadata": {},
   "outputs": [],
   "source": [
    "import pandas as pd\n",
    "import numpy as np\n",
    "import re"
   ]
  },
  {
   "cell_type": "code",
   "execution_count": 30,
   "id": "89b388b2",
   "metadata": {},
   "outputs": [],
   "source": [
    "df_f = pd.read_csv(\"./data/부마데이터(최종).csv\", encoding =\"cp949\")"
   ]
  },
  {
   "cell_type": "code",
   "execution_count": 31,
   "id": "4873d534",
   "metadata": {},
   "outputs": [
    {
     "data": {
      "text/html": [
       "<div>\n",
       "<style scoped>\n",
       "    .dataframe tbody tr th:only-of-type {\n",
       "        vertical-align: middle;\n",
       "    }\n",
       "\n",
       "    .dataframe tbody tr th {\n",
       "        vertical-align: top;\n",
       "    }\n",
       "\n",
       "    .dataframe thead th {\n",
       "        text-align: right;\n",
       "    }\n",
       "</style>\n",
       "<table border=\"1\" class=\"dataframe\">\n",
       "  <thead>\n",
       "    <tr style=\"text-align: right;\">\n",
       "      <th></th>\n",
       "      <th>마번</th>\n",
       "      <th>마명</th>\n",
       "      <th>부마성적</th>\n",
       "    </tr>\n",
       "  </thead>\n",
       "  <tbody>\n",
       "    <tr>\n",
       "      <th>0</th>\n",
       "      <td>15477</td>\n",
       "      <td>백광</td>\n",
       "      <td>25전(11/8/3)</td>\n",
       "    </tr>\n",
       "    <tr>\n",
       "      <th>1</th>\n",
       "      <td>15625</td>\n",
       "      <td>홍지</td>\n",
       "      <td>44전(12/13/5)</td>\n",
       "    </tr>\n",
       "    <tr>\n",
       "      <th>2</th>\n",
       "      <td>18206</td>\n",
       "      <td>엑스플로잇</td>\n",
       "      <td>6전(5/1/0)</td>\n",
       "    </tr>\n",
       "    <tr>\n",
       "      <th>3</th>\n",
       "      <td>18733</td>\n",
       "      <td>비와신세이키</td>\n",
       "      <td>33전(10/7/8)</td>\n",
       "    </tr>\n",
       "    <tr>\n",
       "      <th>4</th>\n",
       "      <td>18771</td>\n",
       "      <td>캐피털스팬딩</td>\n",
       "      <td>12전(2/4/1)</td>\n",
       "    </tr>\n",
       "    <tr>\n",
       "      <th>...</th>\n",
       "      <td>...</td>\n",
       "      <td>...</td>\n",
       "      <td>...</td>\n",
       "    </tr>\n",
       "    <tr>\n",
       "      <th>244</th>\n",
       "      <td>6992422</td>\n",
       "      <td>SKY KINGDOM</td>\n",
       "      <td>21전(6/2/4)</td>\n",
       "    </tr>\n",
       "    <tr>\n",
       "      <th>245</th>\n",
       "      <td>6993812</td>\n",
       "      <td>CENTRAL BANKER</td>\n",
       "      <td>13전(4/3/2)</td>\n",
       "    </tr>\n",
       "    <tr>\n",
       "      <th>246</th>\n",
       "      <td>6994066</td>\n",
       "      <td>TAMARKUZ</td>\n",
       "      <td>20전(8/4/0)</td>\n",
       "    </tr>\n",
       "    <tr>\n",
       "      <th>247</th>\n",
       "      <td>6995237</td>\n",
       "      <td>BIG BLUE KITTEN</td>\n",
       "      <td>33전(14/8/5)</td>\n",
       "    </tr>\n",
       "    <tr>\n",
       "      <th>248</th>\n",
       "      <td>6995985</td>\n",
       "      <td>BAL A BALI</td>\n",
       "      <td>26전(15/1/4)</td>\n",
       "    </tr>\n",
       "  </tbody>\n",
       "</table>\n",
       "<p>249 rows × 3 columns</p>\n",
       "</div>"
      ],
      "text/plain": [
       "          마번               마명          부마성적\n",
       "0      15477               백광   25전(11/8/3)\n",
       "1      15625               홍지  44전(12/13/5)\n",
       "2      18206            엑스플로잇     6전(5/1/0)\n",
       "3      18733           비와신세이키   33전(10/7/8)\n",
       "4      18771           캐피털스팬딩    12전(2/4/1)\n",
       "..       ...              ...           ...\n",
       "244  6992422      SKY KINGDOM    21전(6/2/4)\n",
       "245  6993812   CENTRAL BANKER    13전(4/3/2)\n",
       "246  6994066         TAMARKUZ    20전(8/4/0)\n",
       "247  6995237  BIG BLUE KITTEN   33전(14/8/5)\n",
       "248  6995985       BAL A BALI   26전(15/1/4)\n",
       "\n",
       "[249 rows x 3 columns]"
      ]
     },
     "execution_count": 31,
     "metadata": {},
     "output_type": "execute_result"
    }
   ],
   "source": [
    "df_f"
   ]
  },
  {
   "cell_type": "code",
   "execution_count": 32,
   "id": "4cebd8cb",
   "metadata": {},
   "outputs": [],
   "source": [
    "df_f.drop(columns='마번', inplace=True)"
   ]
  },
  {
   "cell_type": "code",
   "execution_count": 33,
   "id": "b7994f59",
   "metadata": {},
   "outputs": [
    {
     "data": {
      "text/html": [
       "<div>\n",
       "<style scoped>\n",
       "    .dataframe tbody tr th:only-of-type {\n",
       "        vertical-align: middle;\n",
       "    }\n",
       "\n",
       "    .dataframe tbody tr th {\n",
       "        vertical-align: top;\n",
       "    }\n",
       "\n",
       "    .dataframe thead th {\n",
       "        text-align: right;\n",
       "    }\n",
       "</style>\n",
       "<table border=\"1\" class=\"dataframe\">\n",
       "  <thead>\n",
       "    <tr style=\"text-align: right;\">\n",
       "      <th></th>\n",
       "      <th>마명</th>\n",
       "      <th>부마성적</th>\n",
       "    </tr>\n",
       "  </thead>\n",
       "  <tbody>\n",
       "    <tr>\n",
       "      <th>0</th>\n",
       "      <td>백광</td>\n",
       "      <td>25전(11/8/3)</td>\n",
       "    </tr>\n",
       "    <tr>\n",
       "      <th>1</th>\n",
       "      <td>홍지</td>\n",
       "      <td>44전(12/13/5)</td>\n",
       "    </tr>\n",
       "    <tr>\n",
       "      <th>2</th>\n",
       "      <td>엑스플로잇</td>\n",
       "      <td>6전(5/1/0)</td>\n",
       "    </tr>\n",
       "    <tr>\n",
       "      <th>3</th>\n",
       "      <td>비와신세이키</td>\n",
       "      <td>33전(10/7/8)</td>\n",
       "    </tr>\n",
       "    <tr>\n",
       "      <th>4</th>\n",
       "      <td>캐피털스팬딩</td>\n",
       "      <td>12전(2/4/1)</td>\n",
       "    </tr>\n",
       "    <tr>\n",
       "      <th>...</th>\n",
       "      <td>...</td>\n",
       "      <td>...</td>\n",
       "    </tr>\n",
       "    <tr>\n",
       "      <th>244</th>\n",
       "      <td>SKY KINGDOM</td>\n",
       "      <td>21전(6/2/4)</td>\n",
       "    </tr>\n",
       "    <tr>\n",
       "      <th>245</th>\n",
       "      <td>CENTRAL BANKER</td>\n",
       "      <td>13전(4/3/2)</td>\n",
       "    </tr>\n",
       "    <tr>\n",
       "      <th>246</th>\n",
       "      <td>TAMARKUZ</td>\n",
       "      <td>20전(8/4/0)</td>\n",
       "    </tr>\n",
       "    <tr>\n",
       "      <th>247</th>\n",
       "      <td>BIG BLUE KITTEN</td>\n",
       "      <td>33전(14/8/5)</td>\n",
       "    </tr>\n",
       "    <tr>\n",
       "      <th>248</th>\n",
       "      <td>BAL A BALI</td>\n",
       "      <td>26전(15/1/4)</td>\n",
       "    </tr>\n",
       "  </tbody>\n",
       "</table>\n",
       "<p>249 rows × 2 columns</p>\n",
       "</div>"
      ],
      "text/plain": [
       "                  마명          부마성적\n",
       "0                 백광   25전(11/8/3)\n",
       "1                 홍지  44전(12/13/5)\n",
       "2              엑스플로잇     6전(5/1/0)\n",
       "3             비와신세이키   33전(10/7/8)\n",
       "4             캐피털스팬딩    12전(2/4/1)\n",
       "..               ...           ...\n",
       "244      SKY KINGDOM    21전(6/2/4)\n",
       "245   CENTRAL BANKER    13전(4/3/2)\n",
       "246         TAMARKUZ    20전(8/4/0)\n",
       "247  BIG BLUE KITTEN   33전(14/8/5)\n",
       "248       BAL A BALI   26전(15/1/4)\n",
       "\n",
       "[249 rows x 2 columns]"
      ]
     },
     "execution_count": 33,
     "metadata": {},
     "output_type": "execute_result"
    }
   ],
   "source": [
    "df_f"
   ]
  },
  {
   "cell_type": "code",
   "execution_count": 21,
   "id": "96ca0740",
   "metadata": {},
   "outputs": [
    {
     "data": {
      "text/plain": [
       "0       [25, 11, 8, 3]\n",
       "1      [44, 12, 13, 5]\n",
       "2         [6, 5, 1, 0]\n",
       "3       [33, 10, 7, 8]\n",
       "4        [12, 2, 4, 1]\n",
       "            ...       \n",
       "244      [21, 6, 2, 4]\n",
       "245      [13, 4, 3, 2]\n",
       "246      [20, 8, 4, 0]\n",
       "247     [33, 14, 8, 5]\n",
       "248     [26, 15, 1, 4]\n",
       "Name: 부마성적, Length: 249, dtype: object"
      ]
     },
     "execution_count": 21,
     "metadata": {},
     "output_type": "execute_result"
    }
   ],
   "source": [
    "# 부마전적 컬럼 숫자 분리\n",
    "temp1 = df_f.loc[:,\"부마성적\"].apply(lambda x: re.sub(r\"[^0-9]\", \" \", x).split())\n",
    "temp1"
   ]
  },
  {
   "cell_type": "code",
   "execution_count": 22,
   "id": "bbf896a3",
   "metadata": {},
   "outputs": [
    {
     "name": "stdout",
     "output_type": "stream",
     "text": [
      "['9', '3', '2'] 121\n"
     ]
    }
   ],
   "source": [
    "# len이 다른게 발생\n",
    "for i in range(len(temp1)):\n",
    "    if len(temp1[i]) < 4:\n",
    "        print(temp1[i], i)"
   ]
  },
  {
   "cell_type": "code",
   "execution_count": 23,
   "id": "410effeb",
   "metadata": {},
   "outputs": [
    {
     "data": {
      "text/plain": [
       "마명      GREENPOINTCRUSADER\n",
       "부마성적              9전(3/2/)\n",
       "Name: 121, dtype: object"
      ]
     },
     "execution_count": 23,
     "metadata": {},
     "output_type": "execute_result"
    }
   ],
   "source": [
    "df_f.loc[121]"
   ]
  },
  {
   "cell_type": "code",
   "execution_count": 24,
   "id": "5accc690",
   "metadata": {},
   "outputs": [
    {
     "data": {
      "text/plain": [
       "['9', '3', '2', 0]"
      ]
     },
     "execution_count": 24,
     "metadata": {},
     "output_type": "execute_result"
    }
   ],
   "source": [
    "# 결측값 0으로 채우기\n",
    "temp1[121].append(0)\n",
    "temp1[121]"
   ]
  },
  {
   "cell_type": "code",
   "execution_count": 25,
   "id": "58378153",
   "metadata": {},
   "outputs": [
    {
     "data": {
      "text/html": [
       "<div>\n",
       "<style scoped>\n",
       "    .dataframe tbody tr th:only-of-type {\n",
       "        vertical-align: middle;\n",
       "    }\n",
       "\n",
       "    .dataframe tbody tr th {\n",
       "        vertical-align: top;\n",
       "    }\n",
       "\n",
       "    .dataframe thead th {\n",
       "        text-align: right;\n",
       "    }\n",
       "</style>\n",
       "<table border=\"1\" class=\"dataframe\">\n",
       "  <thead>\n",
       "    <tr style=\"text-align: right;\">\n",
       "      <th></th>\n",
       "      <th>마명</th>\n",
       "      <th>부마성적</th>\n",
       "    </tr>\n",
       "  </thead>\n",
       "  <tbody>\n",
       "    <tr>\n",
       "      <th>0</th>\n",
       "      <td>백광</td>\n",
       "      <td>49.120000</td>\n",
       "    </tr>\n",
       "    <tr>\n",
       "      <th>1</th>\n",
       "      <td>홍지</td>\n",
       "      <td>62.113636</td>\n",
       "    </tr>\n",
       "    <tr>\n",
       "      <th>2</th>\n",
       "      <td>엑스플로잇</td>\n",
       "      <td>17.000000</td>\n",
       "    </tr>\n",
       "    <tr>\n",
       "      <th>3</th>\n",
       "      <td>비와신세이키</td>\n",
       "      <td>44.242424</td>\n",
       "    </tr>\n",
       "    <tr>\n",
       "      <th>4</th>\n",
       "      <td>캐피털스팬딩</td>\n",
       "      <td>14.083333</td>\n",
       "    </tr>\n",
       "    <tr>\n",
       "      <th>...</th>\n",
       "      <td>...</td>\n",
       "      <td>...</td>\n",
       "    </tr>\n",
       "    <tr>\n",
       "      <th>244</th>\n",
       "      <td>SKY KINGDOM</td>\n",
       "      <td>22.190476</td>\n",
       "    </tr>\n",
       "    <tr>\n",
       "      <th>245</th>\n",
       "      <td>CENTRAL BANKER</td>\n",
       "      <td>18.153846</td>\n",
       "    </tr>\n",
       "    <tr>\n",
       "      <th>246</th>\n",
       "      <td>TAMARKUZ</td>\n",
       "      <td>32.000000</td>\n",
       "    </tr>\n",
       "    <tr>\n",
       "      <th>247</th>\n",
       "      <td>BIG BLUE KITTEN</td>\n",
       "      <td>58.151515</td>\n",
       "    </tr>\n",
       "    <tr>\n",
       "      <th>248</th>\n",
       "      <td>BAL A BALI</td>\n",
       "      <td>47.153846</td>\n",
       "    </tr>\n",
       "  </tbody>\n",
       "</table>\n",
       "<p>249 rows × 2 columns</p>\n",
       "</div>"
      ],
      "text/plain": [
       "                  마명       부마성적\n",
       "0                 백광  49.120000\n",
       "1                 홍지  62.113636\n",
       "2              엑스플로잇  17.000000\n",
       "3             비와신세이키  44.242424\n",
       "4             캐피털스팬딩  14.083333\n",
       "..               ...        ...\n",
       "244      SKY KINGDOM  22.190476\n",
       "245   CENTRAL BANKER  18.153846\n",
       "246         TAMARKUZ  32.000000\n",
       "247  BIG BLUE KITTEN  58.151515\n",
       "248       BAL A BALI  47.153846\n",
       "\n",
       "[249 rows x 2 columns]"
      ]
     },
     "execution_count": 25,
     "metadata": {},
     "output_type": "execute_result"
    }
   ],
   "source": [
    "df_f['부마성적'] = temp1.apply(lambda x : int(x[1])*3 + int(x[2])*2 + int(x[3])*1  / int(x[0]) if x[0]!='0' else 0)\n",
    "df_f"
   ]
  },
  {
   "cell_type": "code",
   "execution_count": 45,
   "id": "c9e8267a",
   "metadata": {},
   "outputs": [
    {
     "data": {
      "text/plain": [
       "마명       BAL A BALI\n",
       "부마성적    26전(15/1/4)\n",
       "Name: 248, dtype: object"
      ]
     },
     "execution_count": 45,
     "metadata": {},
     "output_type": "execute_result"
    }
   ],
   "source": [
    "df_f.loc[248, :]"
   ]
  },
  {
   "cell_type": "code",
   "execution_count": null,
   "id": "1a23a673",
   "metadata": {},
   "outputs": [],
   "source": []
  },
  {
   "cell_type": "code",
   "execution_count": null,
   "id": "ce9827af",
   "metadata": {},
   "outputs": [],
   "source": []
  }
 ],
 "metadata": {
  "kernelspec": {
   "display_name": "Python 3 (ipykernel)",
   "language": "python",
   "name": "python3"
  },
  "language_info": {
   "codemirror_mode": {
    "name": "ipython",
    "version": 3
   },
   "file_extension": ".py",
   "mimetype": "text/x-python",
   "name": "python",
   "nbconvert_exporter": "python",
   "pygments_lexer": "ipython3",
   "version": "3.9.12"
  }
 },
 "nbformat": 4,
 "nbformat_minor": 5
}
