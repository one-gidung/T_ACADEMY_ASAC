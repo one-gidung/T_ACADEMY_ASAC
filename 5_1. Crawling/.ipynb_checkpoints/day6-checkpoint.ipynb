{
 "cells": [
  {
   "cell_type": "code",
   "execution_count": 1,
   "id": "f898383c",
   "metadata": {},
   "outputs": [],
   "source": [
    "########### 다음 증권 사이트 접속 ##########\n",
    "########### 기존 : full URL만 있으면 접속이 되는 환경 ###########\n",
    "###########        ---> 개발자"
   ]
  },
  {
   "cell_type": "code",
   "execution_count": 2,
   "id": "8eeff309",
   "metadata": {},
   "outputs": [],
   "source": [
    "import urllib.request"
   ]
  },
  {
   "cell_type": "code",
   "execution_count": 8,
   "id": "ed88bb92",
   "metadata": {},
   "outputs": [
    {
     "data": {
      "text/plain": [
       "'{\"data\":[{\"rank\":1,\"rankChange\":0,\"symbolCode\":\"A035720\",\"code\":\"KR7035720002\",\"name\":\"카카오\",\"tradePrice\":48200,\"change\":\"RISE\",\"changePrice\":500,\"changeRate\":0.0104821803,\"chartSlideImage\":null,\"isNew\":false},{\"rank\":2,\"rankChange\":0,\"symbolCode\":\"A005930\",\"code\":\"KR7005930003\",\"name\":\"삼성전자\",\"tradePrice\":59500,\"change\":\"RISE\",\"changePrice\":100,\"changeRate\":0.0016835017,\"chartSlideImage\":null,\"isNew\":false},{\"rank\":3,\"rankChange\":0,\"symbolCode\":\"A373220\",\"code\":\"KR7373220003\",\"name\":\"LG에너지솔루션\",\"tradePrice\":542000,\"change\":\"RISE\",\"changePrice\":13000,\"changeRate\":0.0245746692,\"chartSlideImage\":null,\"isNew\":false},{\"rank\":4,\"rankChange\":0,\"symbolCode\":\"A068270\",\"code\":\"KR7068270008\",\"name\":\"셀트리온\",\"tradePrice\":188000,\"change\":\"RISE\",\"changePrice\":2500,\"changeRate\":0.0134770889,\"chartSlideImage\":null,\"isNew\":false},{\"rank\":5,\"rankChange\":1,\"symbolCode\":\"A950160\",\"code\":\"KR8840120008\",\"name\":\"코오롱티슈진\",\"tradePrice\":18450,\"change\":\"FALL\",\"changePrice\":400,\"changeRate\":0.0212201592,\"chartSlideImage\":null,\"isNew\":false},{\"rank\":6,\"rankChange\":4,\"symbolCode\":\"A215600\",\"code\":\"KR7215600008\",\"name\":\"신라젠\",\"tradePrice\":11200,\"change\":\"FALL\",\"changePrice\":100,\"changeRate\":0.0088495575,\"chartSlideImage\":null,\"isNew\":false},{\"rank\":7,\"rankChange\":-2,\"symbolCode\":\"A034020\",\"code\":\"KR7034020008\",\"name\":\"두산에너빌리티\",\"tradePrice\":13350,\"change\":\"RISE\",\"changePrice\":400,\"changeRate\":0.0308880309,\"chartSlideImage\":null,\"isNew\":false},{\"rank\":8,\"rankChange\":-1,\"symbolCode\":\"A000660\",\"code\":\"KR7000660001\",\"name\":\"SK하이닉스\",\"tradePrice\":93100,\"change\":\"FALL\",\"changePrice\":800,\"changeRate\":0.0085197018,\"chartSlideImage\":null,\"isNew\":false},{\"rank\":9,\"rankChange\":0,\"symbolCode\":\"A382480\",\"code\":\"KR7382480002\",\"name\":\"지아이텍\",\"tradePrice\":4425,\"change\":\"RISE\",\"changePrice\":270,\"changeRate\":0.0649819495,\"chartSlideImage\":null,\"isNew\":true},{\"rank\":10,\"rankChange\":-2,\"symbolCode\":\"A035420\",\"code\":\"KR7035420009\",\"name\":\"NAVER\",\"tradePrice\":159500,\"change\":\"EVEN\",\"changePrice\":0,\"changeRate\":0,\"chartSlideImage\":null,\"isNew\":false}]}'"
      ]
     },
     "execution_count": 8,
     "metadata": {},
     "output_type": "execute_result"
    }
   ],
   "source": [
    "url = \"https://finance.daum.net/api/search/ranks?limit=10\"\n",
    "req = urllib.request.Request(\n",
    "    url,\n",
    "    headers = {\n",
    "        \n",
    "        \"user-agent\" : \"Mozilla/5.0 (Windows NT 10.0; Win64; x64) AppleWebKit/537.36 (KHTML, like Gecko) Chrome/106.0.0.0 Safari/537.36\",\n",
    "        \"referer\" : \"https://finance.daum.net/\"\n",
    "    }\n",
    ")\n",
    "# 요청 헤더의 refer와 user_agent를 가져와야 한다\n",
    "f = urllib.request.urlopen(req).read().decode(\"utf-8\")\n",
    "f"
   ]
  },
  {
   "cell_type": "code",
   "execution_count": 9,
   "id": "40021efe",
   "metadata": {},
   "outputs": [],
   "source": [
    "import json"
   ]
  },
  {
   "cell_type": "code",
   "execution_count": 10,
   "id": "53db6844",
   "metadata": {},
   "outputs": [
    {
     "data": {
      "text/plain": [
       "{'data': [{'rank': 1,\n",
       "   'rankChange': 0,\n",
       "   'symbolCode': 'A035720',\n",
       "   'code': 'KR7035720002',\n",
       "   'name': '카카오',\n",
       "   'tradePrice': 48200,\n",
       "   'change': 'RISE',\n",
       "   'changePrice': 500,\n",
       "   'changeRate': 0.0104821803,\n",
       "   'chartSlideImage': None,\n",
       "   'isNew': False},\n",
       "  {'rank': 2,\n",
       "   'rankChange': 0,\n",
       "   'symbolCode': 'A005930',\n",
       "   'code': 'KR7005930003',\n",
       "   'name': '삼성전자',\n",
       "   'tradePrice': 59500,\n",
       "   'change': 'RISE',\n",
       "   'changePrice': 100,\n",
       "   'changeRate': 0.0016835017,\n",
       "   'chartSlideImage': None,\n",
       "   'isNew': False},\n",
       "  {'rank': 3,\n",
       "   'rankChange': 0,\n",
       "   'symbolCode': 'A373220',\n",
       "   'code': 'KR7373220003',\n",
       "   'name': 'LG에너지솔루션',\n",
       "   'tradePrice': 542000,\n",
       "   'change': 'RISE',\n",
       "   'changePrice': 13000,\n",
       "   'changeRate': 0.0245746692,\n",
       "   'chartSlideImage': None,\n",
       "   'isNew': False},\n",
       "  {'rank': 4,\n",
       "   'rankChange': 0,\n",
       "   'symbolCode': 'A068270',\n",
       "   'code': 'KR7068270008',\n",
       "   'name': '셀트리온',\n",
       "   'tradePrice': 188000,\n",
       "   'change': 'RISE',\n",
       "   'changePrice': 2500,\n",
       "   'changeRate': 0.0134770889,\n",
       "   'chartSlideImage': None,\n",
       "   'isNew': False},\n",
       "  {'rank': 5,\n",
       "   'rankChange': 1,\n",
       "   'symbolCode': 'A950160',\n",
       "   'code': 'KR8840120008',\n",
       "   'name': '코오롱티슈진',\n",
       "   'tradePrice': 18450,\n",
       "   'change': 'FALL',\n",
       "   'changePrice': 400,\n",
       "   'changeRate': 0.0212201592,\n",
       "   'chartSlideImage': None,\n",
       "   'isNew': False},\n",
       "  {'rank': 6,\n",
       "   'rankChange': 4,\n",
       "   'symbolCode': 'A215600',\n",
       "   'code': 'KR7215600008',\n",
       "   'name': '신라젠',\n",
       "   'tradePrice': 11200,\n",
       "   'change': 'FALL',\n",
       "   'changePrice': 100,\n",
       "   'changeRate': 0.0088495575,\n",
       "   'chartSlideImage': None,\n",
       "   'isNew': False},\n",
       "  {'rank': 7,\n",
       "   'rankChange': -2,\n",
       "   'symbolCode': 'A034020',\n",
       "   'code': 'KR7034020008',\n",
       "   'name': '두산에너빌리티',\n",
       "   'tradePrice': 13350,\n",
       "   'change': 'RISE',\n",
       "   'changePrice': 400,\n",
       "   'changeRate': 0.0308880309,\n",
       "   'chartSlideImage': None,\n",
       "   'isNew': False},\n",
       "  {'rank': 8,\n",
       "   'rankChange': -1,\n",
       "   'symbolCode': 'A000660',\n",
       "   'code': 'KR7000660001',\n",
       "   'name': 'SK하이닉스',\n",
       "   'tradePrice': 93100,\n",
       "   'change': 'FALL',\n",
       "   'changePrice': 800,\n",
       "   'changeRate': 0.0085197018,\n",
       "   'chartSlideImage': None,\n",
       "   'isNew': False},\n",
       "  {'rank': 9,\n",
       "   'rankChange': 0,\n",
       "   'symbolCode': 'A382480',\n",
       "   'code': 'KR7382480002',\n",
       "   'name': '지아이텍',\n",
       "   'tradePrice': 4425,\n",
       "   'change': 'RISE',\n",
       "   'changePrice': 270,\n",
       "   'changeRate': 0.0649819495,\n",
       "   'chartSlideImage': None,\n",
       "   'isNew': True},\n",
       "  {'rank': 10,\n",
       "   'rankChange': -2,\n",
       "   'symbolCode': 'A035420',\n",
       "   'code': 'KR7035420009',\n",
       "   'name': 'NAVER',\n",
       "   'tradePrice': 159500,\n",
       "   'change': 'EVEN',\n",
       "   'changePrice': 0,\n",
       "   'changeRate': 0,\n",
       "   'chartSlideImage': None,\n",
       "   'isNew': False}]}"
      ]
     },
     "execution_count": 10,
     "metadata": {},
     "output_type": "execute_result"
    }
   ],
   "source": [
    "data = json.loads(f)\n",
    "data"
   ]
  },
  {
   "cell_type": "code",
   "execution_count": 13,
   "id": "036c64c1",
   "metadata": {},
   "outputs": [
    {
     "data": {
      "text/plain": [
       "[{'rank': 1,\n",
       "  'rankChange': 0,\n",
       "  'symbolCode': 'A035720',\n",
       "  'code': 'KR7035720002',\n",
       "  'name': '카카오',\n",
       "  'tradePrice': 48200,\n",
       "  'change': 'RISE',\n",
       "  'changePrice': 500,\n",
       "  'changeRate': 0.0104821803,\n",
       "  'chartSlideImage': None,\n",
       "  'isNew': False},\n",
       " {'rank': 2,\n",
       "  'rankChange': 0,\n",
       "  'symbolCode': 'A005930',\n",
       "  'code': 'KR7005930003',\n",
       "  'name': '삼성전자',\n",
       "  'tradePrice': 59500,\n",
       "  'change': 'RISE',\n",
       "  'changePrice': 100,\n",
       "  'changeRate': 0.0016835017,\n",
       "  'chartSlideImage': None,\n",
       "  'isNew': False},\n",
       " {'rank': 3,\n",
       "  'rankChange': 0,\n",
       "  'symbolCode': 'A373220',\n",
       "  'code': 'KR7373220003',\n",
       "  'name': 'LG에너지솔루션',\n",
       "  'tradePrice': 542000,\n",
       "  'change': 'RISE',\n",
       "  'changePrice': 13000,\n",
       "  'changeRate': 0.0245746692,\n",
       "  'chartSlideImage': None,\n",
       "  'isNew': False},\n",
       " {'rank': 4,\n",
       "  'rankChange': 0,\n",
       "  'symbolCode': 'A068270',\n",
       "  'code': 'KR7068270008',\n",
       "  'name': '셀트리온',\n",
       "  'tradePrice': 188000,\n",
       "  'change': 'RISE',\n",
       "  'changePrice': 2500,\n",
       "  'changeRate': 0.0134770889,\n",
       "  'chartSlideImage': None,\n",
       "  'isNew': False},\n",
       " {'rank': 5,\n",
       "  'rankChange': 1,\n",
       "  'symbolCode': 'A950160',\n",
       "  'code': 'KR8840120008',\n",
       "  'name': '코오롱티슈진',\n",
       "  'tradePrice': 18450,\n",
       "  'change': 'FALL',\n",
       "  'changePrice': 400,\n",
       "  'changeRate': 0.0212201592,\n",
       "  'chartSlideImage': None,\n",
       "  'isNew': False},\n",
       " {'rank': 6,\n",
       "  'rankChange': 4,\n",
       "  'symbolCode': 'A215600',\n",
       "  'code': 'KR7215600008',\n",
       "  'name': '신라젠',\n",
       "  'tradePrice': 11200,\n",
       "  'change': 'FALL',\n",
       "  'changePrice': 100,\n",
       "  'changeRate': 0.0088495575,\n",
       "  'chartSlideImage': None,\n",
       "  'isNew': False},\n",
       " {'rank': 7,\n",
       "  'rankChange': -2,\n",
       "  'symbolCode': 'A034020',\n",
       "  'code': 'KR7034020008',\n",
       "  'name': '두산에너빌리티',\n",
       "  'tradePrice': 13350,\n",
       "  'change': 'RISE',\n",
       "  'changePrice': 400,\n",
       "  'changeRate': 0.0308880309,\n",
       "  'chartSlideImage': None,\n",
       "  'isNew': False},\n",
       " {'rank': 8,\n",
       "  'rankChange': -1,\n",
       "  'symbolCode': 'A000660',\n",
       "  'code': 'KR7000660001',\n",
       "  'name': 'SK하이닉스',\n",
       "  'tradePrice': 93100,\n",
       "  'change': 'FALL',\n",
       "  'changePrice': 800,\n",
       "  'changeRate': 0.0085197018,\n",
       "  'chartSlideImage': None,\n",
       "  'isNew': False},\n",
       " {'rank': 9,\n",
       "  'rankChange': 0,\n",
       "  'symbolCode': 'A382480',\n",
       "  'code': 'KR7382480002',\n",
       "  'name': '지아이텍',\n",
       "  'tradePrice': 4425,\n",
       "  'change': 'RISE',\n",
       "  'changePrice': 270,\n",
       "  'changeRate': 0.0649819495,\n",
       "  'chartSlideImage': None,\n",
       "  'isNew': True},\n",
       " {'rank': 10,\n",
       "  'rankChange': -2,\n",
       "  'symbolCode': 'A035420',\n",
       "  'code': 'KR7035420009',\n",
       "  'name': 'NAVER',\n",
       "  'tradePrice': 159500,\n",
       "  'change': 'EVEN',\n",
       "  'changePrice': 0,\n",
       "  'changeRate': 0,\n",
       "  'chartSlideImage': None,\n",
       "  'isNew': False}]"
      ]
     },
     "execution_count": 13,
     "metadata": {},
     "output_type": "execute_result"
    }
   ],
   "source": [
    "data.keys()\n",
    "data['data']"
   ]
  },
  {
   "cell_type": "code",
   "execution_count": 16,
   "id": "4d30d653",
   "metadata": {
    "scrolled": true
   },
   "outputs": [
    {
     "name": "stdout",
     "output_type": "stream",
     "text": [
      "순위:  1\n",
      "회사명:  카카오\n",
      "현재가:  48200\n",
      "----------------------------------------\n",
      "순위:  2\n",
      "회사명:  삼성전자\n",
      "현재가:  59500\n",
      "----------------------------------------\n",
      "순위:  3\n",
      "회사명:  LG에너지솔루션\n",
      "현재가:  542000\n",
      "----------------------------------------\n",
      "순위:  4\n",
      "회사명:  셀트리온\n",
      "현재가:  188000\n",
      "----------------------------------------\n",
      "순위:  5\n",
      "회사명:  코오롱티슈진\n",
      "현재가:  18450\n",
      "----------------------------------------\n",
      "순위:  6\n",
      "회사명:  신라젠\n",
      "현재가:  11200\n",
      "----------------------------------------\n",
      "순위:  7\n",
      "회사명:  두산에너빌리티\n",
      "현재가:  13350\n",
      "----------------------------------------\n",
      "순위:  8\n",
      "회사명:  SK하이닉스\n",
      "현재가:  93100\n",
      "----------------------------------------\n",
      "순위:  9\n",
      "회사명:  지아이텍\n",
      "현재가:  4425\n",
      "----------------------------------------\n",
      "순위:  10\n",
      "회사명:  NAVER\n",
      "현재가:  159500\n",
      "----------------------------------------\n"
     ]
    }
   ],
   "source": [
    "for i in data['data']:   # 1개 정보는 dict로 되어있음\n",
    "    print('순위: ', i['rank'])\n",
    "    print('회사명: ', i['name'])\n",
    "    print('현재가: ', i['tradePrice'])\n",
    "    print('-'*40)"
   ]
  },
  {
   "cell_type": "code",
   "execution_count": 22,
   "id": "6a7787cf",
   "metadata": {},
   "outputs": [],
   "source": [
    "import selenium\n",
    "from selenium import webdriver\n",
    "import time\n",
    "from selenium.webdriver.chrome.service import Service"
   ]
  },
  {
   "cell_type": "code",
   "execution_count": 19,
   "id": "e74ba440",
   "metadata": {},
   "outputs": [
    {
     "data": {
      "text/plain": [
       "'4.5.0'"
      ]
     },
     "execution_count": 19,
     "metadata": {},
     "output_type": "execute_result"
    }
   ],
   "source": [
    "selenium.__version__"
   ]
  },
  {
   "cell_type": "code",
   "execution_count": 25,
   "id": "fc904243",
   "metadata": {},
   "outputs": [
    {
     "data": {
      "text/plain": [
       "'\\u202aC:/Users/NTX550/Desktop/chromedriver.exe'"
      ]
     },
     "execution_count": 25,
     "metadata": {},
     "output_type": "execute_result"
    }
   ],
   "source": [
    "d_path = \"‪C:/Users/NTX550/Desktop/chromedriver.exe\"\n",
    "d_path"
   ]
  },
  {
   "cell_type": "code",
   "execution_count": 26,
   "id": "2f0d39be",
   "metadata": {},
   "outputs": [
    {
     "ename": "WebDriverException",
     "evalue": "Message: 'chromedriver.exe' executable needs to be in PATH. Please see https://chromedriver.chromium.org/home\n",
     "output_type": "error",
     "traceback": [
      "\u001b[1;31m---------------------------------------------------------------------------\u001b[0m",
      "\u001b[1;31mFileNotFoundError\u001b[0m                         Traceback (most recent call last)",
      "File \u001b[1;32m~\\anaconda3\\lib\\site-packages\\selenium\\webdriver\\common\\service.py:71\u001b[0m, in \u001b[0;36mService.start\u001b[1;34m(self)\u001b[0m\n\u001b[0;32m     70\u001b[0m     cmd\u001b[38;5;241m.\u001b[39mextend(\u001b[38;5;28mself\u001b[39m\u001b[38;5;241m.\u001b[39mcommand_line_args())\n\u001b[1;32m---> 71\u001b[0m     \u001b[38;5;28mself\u001b[39m\u001b[38;5;241m.\u001b[39mprocess \u001b[38;5;241m=\u001b[39m \u001b[43msubprocess\u001b[49m\u001b[38;5;241;43m.\u001b[39;49m\u001b[43mPopen\u001b[49m\u001b[43m(\u001b[49m\u001b[43mcmd\u001b[49m\u001b[43m,\u001b[49m\u001b[43m \u001b[49m\u001b[43menv\u001b[49m\u001b[38;5;241;43m=\u001b[39;49m\u001b[38;5;28;43mself\u001b[39;49m\u001b[38;5;241;43m.\u001b[39;49m\u001b[43menv\u001b[49m\u001b[43m,\u001b[49m\n\u001b[0;32m     72\u001b[0m \u001b[43m                                    \u001b[49m\u001b[43mclose_fds\u001b[49m\u001b[38;5;241;43m=\u001b[39;49m\u001b[43msystem\u001b[49m\u001b[43m(\u001b[49m\u001b[43m)\u001b[49m\u001b[43m \u001b[49m\u001b[38;5;241;43m!=\u001b[39;49m\u001b[43m \u001b[49m\u001b[38;5;124;43m'\u001b[39;49m\u001b[38;5;124;43mWindows\u001b[39;49m\u001b[38;5;124;43m'\u001b[39;49m\u001b[43m,\u001b[49m\n\u001b[0;32m     73\u001b[0m \u001b[43m                                    \u001b[49m\u001b[43mstdout\u001b[49m\u001b[38;5;241;43m=\u001b[39;49m\u001b[38;5;28;43mself\u001b[39;49m\u001b[38;5;241;43m.\u001b[39;49m\u001b[43mlog_file\u001b[49m\u001b[43m,\u001b[49m\n\u001b[0;32m     74\u001b[0m \u001b[43m                                    \u001b[49m\u001b[43mstderr\u001b[49m\u001b[38;5;241;43m=\u001b[39;49m\u001b[38;5;28;43mself\u001b[39;49m\u001b[38;5;241;43m.\u001b[39;49m\u001b[43mlog_file\u001b[49m\u001b[43m,\u001b[49m\n\u001b[0;32m     75\u001b[0m \u001b[43m                                    \u001b[49m\u001b[43mstdin\u001b[49m\u001b[38;5;241;43m=\u001b[39;49m\u001b[43mPIPE\u001b[49m\u001b[43m,\u001b[49m\n\u001b[0;32m     76\u001b[0m \u001b[43m                                    \u001b[49m\u001b[43mcreationflags\u001b[49m\u001b[38;5;241;43m=\u001b[39;49m\u001b[38;5;28;43mself\u001b[39;49m\u001b[38;5;241;43m.\u001b[39;49m\u001b[43mcreationflags\u001b[49m\u001b[43m)\u001b[49m\n\u001b[0;32m     77\u001b[0m \u001b[38;5;28;01mexcept\u001b[39;00m \u001b[38;5;167;01mTypeError\u001b[39;00m:\n",
      "File \u001b[1;32m~\\anaconda3\\lib\\subprocess.py:951\u001b[0m, in \u001b[0;36mPopen.__init__\u001b[1;34m(self, args, bufsize, executable, stdin, stdout, stderr, preexec_fn, close_fds, shell, cwd, env, universal_newlines, startupinfo, creationflags, restore_signals, start_new_session, pass_fds, user, group, extra_groups, encoding, errors, text, umask)\u001b[0m\n\u001b[0;32m    948\u001b[0m             \u001b[38;5;28mself\u001b[39m\u001b[38;5;241m.\u001b[39mstderr \u001b[38;5;241m=\u001b[39m io\u001b[38;5;241m.\u001b[39mTextIOWrapper(\u001b[38;5;28mself\u001b[39m\u001b[38;5;241m.\u001b[39mstderr,\n\u001b[0;32m    949\u001b[0m                     encoding\u001b[38;5;241m=\u001b[39mencoding, errors\u001b[38;5;241m=\u001b[39merrors)\n\u001b[1;32m--> 951\u001b[0m     \u001b[38;5;28;43mself\u001b[39;49m\u001b[38;5;241;43m.\u001b[39;49m\u001b[43m_execute_child\u001b[49m\u001b[43m(\u001b[49m\u001b[43margs\u001b[49m\u001b[43m,\u001b[49m\u001b[43m \u001b[49m\u001b[43mexecutable\u001b[49m\u001b[43m,\u001b[49m\u001b[43m \u001b[49m\u001b[43mpreexec_fn\u001b[49m\u001b[43m,\u001b[49m\u001b[43m \u001b[49m\u001b[43mclose_fds\u001b[49m\u001b[43m,\u001b[49m\n\u001b[0;32m    952\u001b[0m \u001b[43m                        \u001b[49m\u001b[43mpass_fds\u001b[49m\u001b[43m,\u001b[49m\u001b[43m \u001b[49m\u001b[43mcwd\u001b[49m\u001b[43m,\u001b[49m\u001b[43m \u001b[49m\u001b[43menv\u001b[49m\u001b[43m,\u001b[49m\n\u001b[0;32m    953\u001b[0m \u001b[43m                        \u001b[49m\u001b[43mstartupinfo\u001b[49m\u001b[43m,\u001b[49m\u001b[43m \u001b[49m\u001b[43mcreationflags\u001b[49m\u001b[43m,\u001b[49m\u001b[43m \u001b[49m\u001b[43mshell\u001b[49m\u001b[43m,\u001b[49m\n\u001b[0;32m    954\u001b[0m \u001b[43m                        \u001b[49m\u001b[43mp2cread\u001b[49m\u001b[43m,\u001b[49m\u001b[43m \u001b[49m\u001b[43mp2cwrite\u001b[49m\u001b[43m,\u001b[49m\n\u001b[0;32m    955\u001b[0m \u001b[43m                        \u001b[49m\u001b[43mc2pread\u001b[49m\u001b[43m,\u001b[49m\u001b[43m \u001b[49m\u001b[43mc2pwrite\u001b[49m\u001b[43m,\u001b[49m\n\u001b[0;32m    956\u001b[0m \u001b[43m                        \u001b[49m\u001b[43merrread\u001b[49m\u001b[43m,\u001b[49m\u001b[43m \u001b[49m\u001b[43merrwrite\u001b[49m\u001b[43m,\u001b[49m\n\u001b[0;32m    957\u001b[0m \u001b[43m                        \u001b[49m\u001b[43mrestore_signals\u001b[49m\u001b[43m,\u001b[49m\n\u001b[0;32m    958\u001b[0m \u001b[43m                        \u001b[49m\u001b[43mgid\u001b[49m\u001b[43m,\u001b[49m\u001b[43m \u001b[49m\u001b[43mgids\u001b[49m\u001b[43m,\u001b[49m\u001b[43m \u001b[49m\u001b[43muid\u001b[49m\u001b[43m,\u001b[49m\u001b[43m \u001b[49m\u001b[43mumask\u001b[49m\u001b[43m,\u001b[49m\n\u001b[0;32m    959\u001b[0m \u001b[43m                        \u001b[49m\u001b[43mstart_new_session\u001b[49m\u001b[43m)\u001b[49m\n\u001b[0;32m    960\u001b[0m \u001b[38;5;28;01mexcept\u001b[39;00m:\n\u001b[0;32m    961\u001b[0m     \u001b[38;5;66;03m# Cleanup if the child failed starting.\u001b[39;00m\n",
      "File \u001b[1;32m~\\anaconda3\\lib\\subprocess.py:1420\u001b[0m, in \u001b[0;36mPopen._execute_child\u001b[1;34m(self, args, executable, preexec_fn, close_fds, pass_fds, cwd, env, startupinfo, creationflags, shell, p2cread, p2cwrite, c2pread, c2pwrite, errread, errwrite, unused_restore_signals, unused_gid, unused_gids, unused_uid, unused_umask, unused_start_new_session)\u001b[0m\n\u001b[0;32m   1419\u001b[0m \u001b[38;5;28;01mtry\u001b[39;00m:\n\u001b[1;32m-> 1420\u001b[0m     hp, ht, pid, tid \u001b[38;5;241m=\u001b[39m \u001b[43m_winapi\u001b[49m\u001b[38;5;241;43m.\u001b[39;49m\u001b[43mCreateProcess\u001b[49m\u001b[43m(\u001b[49m\u001b[43mexecutable\u001b[49m\u001b[43m,\u001b[49m\u001b[43m \u001b[49m\u001b[43margs\u001b[49m\u001b[43m,\u001b[49m\n\u001b[0;32m   1421\u001b[0m \u001b[43m                             \u001b[49m\u001b[38;5;66;43;03m# no special security\u001b[39;49;00m\n\u001b[0;32m   1422\u001b[0m \u001b[43m                             \u001b[49m\u001b[38;5;28;43;01mNone\u001b[39;49;00m\u001b[43m,\u001b[49m\u001b[43m \u001b[49m\u001b[38;5;28;43;01mNone\u001b[39;49;00m\u001b[43m,\u001b[49m\n\u001b[0;32m   1423\u001b[0m \u001b[43m                             \u001b[49m\u001b[38;5;28;43mint\u001b[39;49m\u001b[43m(\u001b[49m\u001b[38;5;129;43;01mnot\u001b[39;49;00m\u001b[43m \u001b[49m\u001b[43mclose_fds\u001b[49m\u001b[43m)\u001b[49m\u001b[43m,\u001b[49m\n\u001b[0;32m   1424\u001b[0m \u001b[43m                             \u001b[49m\u001b[43mcreationflags\u001b[49m\u001b[43m,\u001b[49m\n\u001b[0;32m   1425\u001b[0m \u001b[43m                             \u001b[49m\u001b[43menv\u001b[49m\u001b[43m,\u001b[49m\n\u001b[0;32m   1426\u001b[0m \u001b[43m                             \u001b[49m\u001b[43mcwd\u001b[49m\u001b[43m,\u001b[49m\n\u001b[0;32m   1427\u001b[0m \u001b[43m                             \u001b[49m\u001b[43mstartupinfo\u001b[49m\u001b[43m)\u001b[49m\n\u001b[0;32m   1428\u001b[0m \u001b[38;5;28;01mfinally\u001b[39;00m:\n\u001b[0;32m   1429\u001b[0m     \u001b[38;5;66;03m# Child is launched. Close the parent's copy of those pipe\u001b[39;00m\n\u001b[0;32m   1430\u001b[0m     \u001b[38;5;66;03m# handles that only the child should have open.  You need\u001b[39;00m\n\u001b[1;32m   (...)\u001b[0m\n\u001b[0;32m   1433\u001b[0m     \u001b[38;5;66;03m# pipe will not close when the child process exits and the\u001b[39;00m\n\u001b[0;32m   1434\u001b[0m     \u001b[38;5;66;03m# ReadFile will hang.\u001b[39;00m\n",
      "\u001b[1;31mFileNotFoundError\u001b[0m: [WinError 2] 지정된 파일을 찾을 수 없습니다",
      "\nDuring handling of the above exception, another exception occurred:\n",
      "\u001b[1;31mWebDriverException\u001b[0m                        Traceback (most recent call last)",
      "Input \u001b[1;32mIn [26]\u001b[0m, in \u001b[0;36m<cell line: 2>\u001b[1;34m()\u001b[0m\n\u001b[0;32m      1\u001b[0m s \u001b[38;5;241m=\u001b[39m Service(d_path)\n\u001b[1;32m----> 2\u001b[0m driver \u001b[38;5;241m=\u001b[39m \u001b[43mwebdriver\u001b[49m\u001b[38;5;241;43m.\u001b[39;49m\u001b[43mChrome\u001b[49m\u001b[43m(\u001b[49m\u001b[43mservice\u001b[49m\u001b[43m \u001b[49m\u001b[38;5;241;43m=\u001b[39;49m\u001b[43m \u001b[49m\u001b[43ms\u001b[49m\u001b[43m)\u001b[49m\n",
      "File \u001b[1;32m~\\anaconda3\\lib\\site-packages\\selenium\\webdriver\\chrome\\webdriver.py:69\u001b[0m, in \u001b[0;36mWebDriver.__init__\u001b[1;34m(self, executable_path, port, options, service_args, desired_capabilities, service_log_path, chrome_options, service, keep_alive)\u001b[0m\n\u001b[0;32m     66\u001b[0m \u001b[38;5;28;01mif\u001b[39;00m \u001b[38;5;129;01mnot\u001b[39;00m service:\n\u001b[0;32m     67\u001b[0m     service \u001b[38;5;241m=\u001b[39m Service(executable_path, port, service_args, service_log_path)\n\u001b[1;32m---> 69\u001b[0m \u001b[38;5;28;43msuper\u001b[39;49m\u001b[43m(\u001b[49m\u001b[43m)\u001b[49m\u001b[38;5;241;43m.\u001b[39;49m\u001b[38;5;21;43m__init__\u001b[39;49m\u001b[43m(\u001b[49m\u001b[43mDesiredCapabilities\u001b[49m\u001b[38;5;241;43m.\u001b[39;49m\u001b[43mCHROME\u001b[49m\u001b[43m[\u001b[49m\u001b[38;5;124;43m'\u001b[39;49m\u001b[38;5;124;43mbrowserName\u001b[39;49m\u001b[38;5;124;43m'\u001b[39;49m\u001b[43m]\u001b[49m\u001b[43m,\u001b[49m\u001b[43m \u001b[49m\u001b[38;5;124;43m\"\u001b[39;49m\u001b[38;5;124;43mgoog\u001b[39;49m\u001b[38;5;124;43m\"\u001b[39;49m\u001b[43m,\u001b[49m\n\u001b[0;32m     70\u001b[0m \u001b[43m                 \u001b[49m\u001b[43mport\u001b[49m\u001b[43m,\u001b[49m\u001b[43m \u001b[49m\u001b[43moptions\u001b[49m\u001b[43m,\u001b[49m\n\u001b[0;32m     71\u001b[0m \u001b[43m                 \u001b[49m\u001b[43mservice_args\u001b[49m\u001b[43m,\u001b[49m\u001b[43m \u001b[49m\u001b[43mdesired_capabilities\u001b[49m\u001b[43m,\u001b[49m\n\u001b[0;32m     72\u001b[0m \u001b[43m                 \u001b[49m\u001b[43mservice_log_path\u001b[49m\u001b[43m,\u001b[49m\u001b[43m \u001b[49m\u001b[43mservice\u001b[49m\u001b[43m,\u001b[49m\u001b[43m \u001b[49m\u001b[43mkeep_alive\u001b[49m\u001b[43m)\u001b[49m\n",
      "File \u001b[1;32m~\\anaconda3\\lib\\site-packages\\selenium\\webdriver\\chromium\\webdriver.py:89\u001b[0m, in \u001b[0;36mChromiumDriver.__init__\u001b[1;34m(self, browser_name, vendor_prefix, port, options, service_args, desired_capabilities, service_log_path, service, keep_alive)\u001b[0m\n\u001b[0;32m     86\u001b[0m     \u001b[38;5;28;01mraise\u001b[39;00m \u001b[38;5;167;01mAttributeError\u001b[39;00m(\u001b[38;5;124m'\u001b[39m\u001b[38;5;124mservice cannot be None\u001b[39m\u001b[38;5;124m'\u001b[39m)\n\u001b[0;32m     88\u001b[0m \u001b[38;5;28mself\u001b[39m\u001b[38;5;241m.\u001b[39mservice \u001b[38;5;241m=\u001b[39m service\n\u001b[1;32m---> 89\u001b[0m \u001b[38;5;28;43mself\u001b[39;49m\u001b[38;5;241;43m.\u001b[39;49m\u001b[43mservice\u001b[49m\u001b[38;5;241;43m.\u001b[39;49m\u001b[43mstart\u001b[49m\u001b[43m(\u001b[49m\u001b[43m)\u001b[49m\n\u001b[0;32m     91\u001b[0m \u001b[38;5;28;01mtry\u001b[39;00m:\n\u001b[0;32m     92\u001b[0m     \u001b[38;5;28msuper\u001b[39m()\u001b[38;5;241m.\u001b[39m\u001b[38;5;21m__init__\u001b[39m(\n\u001b[0;32m     93\u001b[0m         command_executor\u001b[38;5;241m=\u001b[39mChromiumRemoteConnection(\n\u001b[0;32m     94\u001b[0m             remote_server_addr\u001b[38;5;241m=\u001b[39m\u001b[38;5;28mself\u001b[39m\u001b[38;5;241m.\u001b[39mservice\u001b[38;5;241m.\u001b[39mservice_url,\n\u001b[0;32m     95\u001b[0m             browser_name\u001b[38;5;241m=\u001b[39mbrowser_name, vendor_prefix\u001b[38;5;241m=\u001b[39mvendor_prefix,\n\u001b[0;32m     96\u001b[0m             keep_alive\u001b[38;5;241m=\u001b[39mkeep_alive, ignore_proxy\u001b[38;5;241m=\u001b[39m_ignore_proxy),\n\u001b[0;32m     97\u001b[0m         options\u001b[38;5;241m=\u001b[39moptions)\n",
      "File \u001b[1;32m~\\anaconda3\\lib\\site-packages\\selenium\\webdriver\\common\\service.py:81\u001b[0m, in \u001b[0;36mService.start\u001b[1;34m(self)\u001b[0m\n\u001b[0;32m     79\u001b[0m \u001b[38;5;28;01mexcept\u001b[39;00m \u001b[38;5;167;01mOSError\u001b[39;00m \u001b[38;5;28;01mas\u001b[39;00m err:\n\u001b[0;32m     80\u001b[0m     \u001b[38;5;28;01mif\u001b[39;00m err\u001b[38;5;241m.\u001b[39merrno \u001b[38;5;241m==\u001b[39m errno\u001b[38;5;241m.\u001b[39mENOENT:\n\u001b[1;32m---> 81\u001b[0m         \u001b[38;5;28;01mraise\u001b[39;00m WebDriverException(\n\u001b[0;32m     82\u001b[0m             \u001b[38;5;124m\"\u001b[39m\u001b[38;5;124m'\u001b[39m\u001b[38;5;132;01m{}\u001b[39;00m\u001b[38;5;124m'\u001b[39m\u001b[38;5;124m executable needs to be in PATH. \u001b[39m\u001b[38;5;132;01m{}\u001b[39;00m\u001b[38;5;124m\"\u001b[39m\u001b[38;5;241m.\u001b[39mformat(\n\u001b[0;32m     83\u001b[0m                 os\u001b[38;5;241m.\u001b[39mpath\u001b[38;5;241m.\u001b[39mbasename(\u001b[38;5;28mself\u001b[39m\u001b[38;5;241m.\u001b[39mpath), \u001b[38;5;28mself\u001b[39m\u001b[38;5;241m.\u001b[39mstart_error_message)\n\u001b[0;32m     84\u001b[0m         )\n\u001b[0;32m     85\u001b[0m     \u001b[38;5;28;01melif\u001b[39;00m err\u001b[38;5;241m.\u001b[39merrno \u001b[38;5;241m==\u001b[39m errno\u001b[38;5;241m.\u001b[39mEACCES:\n\u001b[0;32m     86\u001b[0m         \u001b[38;5;28;01mraise\u001b[39;00m WebDriverException(\n\u001b[0;32m     87\u001b[0m             \u001b[38;5;124m\"\u001b[39m\u001b[38;5;124m'\u001b[39m\u001b[38;5;132;01m{}\u001b[39;00m\u001b[38;5;124m'\u001b[39m\u001b[38;5;124m executable may have wrong permissions. \u001b[39m\u001b[38;5;132;01m{}\u001b[39;00m\u001b[38;5;124m\"\u001b[39m\u001b[38;5;241m.\u001b[39mformat(\n\u001b[0;32m     88\u001b[0m                 os\u001b[38;5;241m.\u001b[39mpath\u001b[38;5;241m.\u001b[39mbasename(\u001b[38;5;28mself\u001b[39m\u001b[38;5;241m.\u001b[39mpath), \u001b[38;5;28mself\u001b[39m\u001b[38;5;241m.\u001b[39mstart_error_message)\n\u001b[0;32m     89\u001b[0m         )\n",
      "\u001b[1;31mWebDriverException\u001b[0m: Message: 'chromedriver.exe' executable needs to be in PATH. Please see https://chromedriver.chromium.org/home\n"
     ]
    }
   ],
   "source": [
    "s = Service(d_path)\n",
    "driver = webdriver.Chrome(service = s)\n"
   ]
  },
  {
   "cell_type": "code",
   "execution_count": null,
   "id": "0dfbe188",
   "metadata": {},
   "outputs": [],
   "source": []
  },
  {
   "cell_type": "code",
   "execution_count": null,
   "id": "1c13e7e9",
   "metadata": {},
   "outputs": [],
   "source": []
  },
  {
   "cell_type": "code",
   "execution_count": null,
   "id": "67cad08a",
   "metadata": {},
   "outputs": [],
   "source": []
  },
  {
   "cell_type": "code",
   "execution_count": null,
   "id": "f293c8e6",
   "metadata": {},
   "outputs": [],
   "source": []
  },
  {
   "cell_type": "code",
   "execution_count": null,
   "id": "4fdbc4cc",
   "metadata": {},
   "outputs": [],
   "source": []
  },
  {
   "cell_type": "code",
   "execution_count": null,
   "id": "0659b554",
   "metadata": {},
   "outputs": [],
   "source": []
  },
  {
   "cell_type": "code",
   "execution_count": null,
   "id": "e9babdee",
   "metadata": {},
   "outputs": [],
   "source": []
  },
  {
   "cell_type": "code",
   "execution_count": null,
   "id": "5542b0fc",
   "metadata": {},
   "outputs": [],
   "source": []
  },
  {
   "cell_type": "code",
   "execution_count": null,
   "id": "303f7873",
   "metadata": {},
   "outputs": [],
   "source": []
  },
  {
   "cell_type": "code",
   "execution_count": null,
   "id": "13b06339",
   "metadata": {},
   "outputs": [],
   "source": []
  },
  {
   "cell_type": "code",
   "execution_count": null,
   "id": "46c2940b",
   "metadata": {},
   "outputs": [],
   "source": []
  },
  {
   "cell_type": "code",
   "execution_count": null,
   "id": "ba25d544",
   "metadata": {},
   "outputs": [],
   "source": []
  },
  {
   "cell_type": "code",
   "execution_count": null,
   "id": "bffda2bb",
   "metadata": {},
   "outputs": [],
   "source": []
  },
  {
   "cell_type": "code",
   "execution_count": null,
   "id": "0d5b1d44",
   "metadata": {},
   "outputs": [],
   "source": []
  },
  {
   "cell_type": "code",
   "execution_count": null,
   "id": "e3d00a21",
   "metadata": {},
   "outputs": [],
   "source": []
  },
  {
   "cell_type": "code",
   "execution_count": null,
   "id": "9af6e0af",
   "metadata": {},
   "outputs": [],
   "source": []
  },
  {
   "cell_type": "code",
   "execution_count": null,
   "id": "ae97440e",
   "metadata": {},
   "outputs": [],
   "source": []
  },
  {
   "cell_type": "code",
   "execution_count": null,
   "id": "e94cf290",
   "metadata": {},
   "outputs": [],
   "source": []
  }
 ],
 "metadata": {
  "kernelspec": {
   "display_name": "Python 3 (ipykernel)",
   "language": "python",
   "name": "python3"
  },
  "language_info": {
   "codemirror_mode": {
    "name": "ipython",
    "version": 3
   },
   "file_extension": ".py",
   "mimetype": "text/x-python",
   "name": "python",
   "nbconvert_exporter": "python",
   "pygments_lexer": "ipython3",
   "version": "3.9.12"
  }
 },
 "nbformat": 4,
 "nbformat_minor": 5
}
