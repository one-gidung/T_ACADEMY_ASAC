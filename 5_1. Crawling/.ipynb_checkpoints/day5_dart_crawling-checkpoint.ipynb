{
 "cells": [
  {
   "cell_type": "markdown",
   "id": "5ab3651f",
   "metadata": {},
   "source": [
    "수집할 데이터  \n",
    "1) 파일로 존재: pandas --> read_XXX, 여러개 파일 os/sys/glob 일괄처리  \n",
    "2) 정보를 규칙에 맞게 주고받은 openAPI를 이용하는 경우 --> http통신(utllib, requests, etc)\n",
    "+ json, xml: 패키지로 json, bs4\n",
    "3) 내가 수집할 정보가 사이트상 --> 크롤링 정적인 주소"
   ]
  },
  {
   "cell_type": "code",
   "execution_count": null,
   "id": "c03ed7b1",
   "metadata": {},
   "outputs": [],
   "source": [
    "# 필요한 패키지\n",
    "import requests # urllib, request, etc\n",
    "# 데이터 처리\n",
    "import pandas as pd\n",
    "import numpy as np\n",
    "# 기타 필요 : 정규식: 시낙\n",
    "import re\n",
    "import time"
   ]
  },
  {
   "cell_type": "code",
   "execution_count": null,
   "id": "229f0c67",
   "metadata": {},
   "outputs": [],
   "source": []
  },
  {
   "cell_type": "code",
   "execution_count": null,
   "id": "26c2f877",
   "metadata": {},
   "outputs": [],
   "source": []
  },
  {
   "cell_type": "code",
   "execution_count": null,
   "id": "fa8a70fc",
   "metadata": {},
   "outputs": [],
   "source": []
  },
  {
   "cell_type": "code",
   "execution_count": null,
   "id": "120ac1fe",
   "metadata": {},
   "outputs": [],
   "source": []
  },
  {
   "cell_type": "code",
   "execution_count": null,
   "id": "2804443b",
   "metadata": {},
   "outputs": [],
   "source": []
  },
  {
   "cell_type": "code",
   "execution_count": null,
   "id": "5e48635c",
   "metadata": {},
   "outputs": [],
   "source": []
  }
 ],
 "metadata": {
  "kernelspec": {
   "display_name": "Python 3 (ipykernel)",
   "language": "python",
   "name": "python3"
  },
  "language_info": {
   "codemirror_mode": {
    "name": "ipython",
    "version": 3
   },
   "file_extension": ".py",
   "mimetype": "text/x-python",
   "name": "python",
   "nbconvert_exporter": "python",
   "pygments_lexer": "ipython3",
   "version": "3.9.12"
  }
 },
 "nbformat": 4,
 "nbformat_minor": 5
}
