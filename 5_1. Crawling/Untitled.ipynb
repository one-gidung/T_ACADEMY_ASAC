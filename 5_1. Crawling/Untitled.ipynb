{
 "cells": [
  {
   "cell_type": "code",
   "execution_count": 1,
   "id": "6c7dc6a1",
   "metadata": {},
   "outputs": [
    {
     "data": {
      "text/plain": [
       "97"
      ]
     },
     "execution_count": 1,
     "metadata": {},
     "output_type": "execute_result"
    }
   ],
   "source": [
    "ord('a')"
   ]
  },
  {
   "cell_type": "code",
   "execution_count": 2,
   "id": "bbb551a7",
   "metadata": {},
   "outputs": [
    {
     "data": {
      "text/plain": [
       "65"
      ]
     },
     "execution_count": 2,
     "metadata": {},
     "output_type": "execute_result"
    }
   ],
   "source": [
    "ord('A')"
   ]
  },
  {
   "cell_type": "code",
   "execution_count": 3,
   "id": "5412a410",
   "metadata": {},
   "outputs": [],
   "source": [
    "##### 함수 작성"
   ]
  },
  {
   "cell_type": "code",
   "execution_count": 4,
   "id": "00ed5b0c",
   "metadata": {},
   "outputs": [],
   "source": [
    "import re\n",
    "\n",
    "def solution(files):\n",
    "    answer = []\n",
    "    ########\n",
    "    # 1) 정렬 : 파일의 header, 파일의 number, 원본의 순서\n",
    "    my_files = []\n",
    "    # 2) 입력 files를 돌아가면서, header(대소문자 통일), number(0패딩처리: int형으로 변환하면 자동으로 0날라감)\n",
    "    for idx, i in enumerate(files):\n",
    "        # 2-1) number 파트 추출 : re\n",
    "        number = re.findall(\"\\d+\", i)[0]      # <--- 숫자파트 추출\n",
    "        # 2-2) header 파트: number 나타나기 직전!!!!! 슬라이싱\n",
    "        head = i[:i.index(number)]\n",
    "        # 2-3) number, head 처리\n",
    "        number = int(number)                  # <--- 0패딩 제거\n",
    "        head = head.lower()                   # <--- 소문자 통일\n",
    "        # 2-4) 내가 필요한 정모를 만들었으니... 처리 my_files\n",
    "        my_files.append([head, number, idx])\n",
    "        \n",
    "    # 3) my_files를 대상으로 정렬에 기준!!! key~~~ : 정렬\n",
    "    my_files.sort(key = lambda x: (x[0], x[1]))\n",
    "    # 4) 입력 files의 이름으로 출력하기..\n",
    "    answer = [ files[ j[2] ] for j in my_files ]\n",
    "    \n",
    "    \n",
    "    ########\n",
    "    return answer"
   ]
  },
  {
   "cell_type": "code",
   "execution_count": 5,
   "id": "ba97a5dd",
   "metadata": {},
   "outputs": [
    {
     "data": {
      "text/plain": [
       "['img1.png', 'IMG01.GIF', 'img02.png', 'img2.JPG', 'img10.png', 'img12.png']"
      ]
     },
     "execution_count": 5,
     "metadata": {},
     "output_type": "execute_result"
    }
   ],
   "source": [
    "solution([\"img12.png\", \"img10.png\", \"img02.png\", \"img1.png\", \"IMG01.GIF\", \"img2.JPG\"])"
   ]
  },
  {
   "cell_type": "code",
   "execution_count": null,
   "id": "a575a2fe",
   "metadata": {},
   "outputs": [],
   "source": []
  }
 ],
 "metadata": {
  "kernelspec": {
   "display_name": "Python 3 (ipykernel)",
   "language": "python",
   "name": "python3"
  },
  "language_info": {
   "codemirror_mode": {
    "name": "ipython",
    "version": 3
   },
   "file_extension": ".py",
   "mimetype": "text/x-python",
   "name": "python",
   "nbconvert_exporter": "python",
   "pygments_lexer": "ipython3",
   "version": "3.9.12"
  }
 },
 "nbformat": 4,
 "nbformat_minor": 5
}
