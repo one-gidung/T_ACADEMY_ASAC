{
 "cells": [
  {
   "cell_type": "code",
   "execution_count": 1,
   "id": "f898383c",
   "metadata": {},
   "outputs": [],
   "source": [
    "########### 다음 증권 사이트 접속 ##########\n",
    "########### 기존 : full URL만 있으면 접속이 되는 환경 ###########\n",
    "###########        ---> 개발자"
   ]
  },
  {
   "cell_type": "code",
   "execution_count": 2,
   "id": "8eeff309",
   "metadata": {},
   "outputs": [],
   "source": [
    "import urllib.request"
   ]
  },
  {
   "cell_type": "code",
   "execution_count": 8,
   "id": "ed88bb92",
   "metadata": {},
   "outputs": [
    {
     "data": {
      "text/plain": [
       "'{\"data\":[{\"rank\":1,\"rankChange\":0,\"symbolCode\":\"A035720\",\"code\":\"KR7035720002\",\"name\":\"카카오\",\"tradePrice\":48200,\"change\":\"RISE\",\"changePrice\":500,\"changeRate\":0.0104821803,\"chartSlideImage\":null,\"isNew\":false},{\"rank\":2,\"rankChange\":0,\"symbolCode\":\"A005930\",\"code\":\"KR7005930003\",\"name\":\"삼성전자\",\"tradePrice\":59500,\"change\":\"RISE\",\"changePrice\":100,\"changeRate\":0.0016835017,\"chartSlideImage\":null,\"isNew\":false},{\"rank\":3,\"rankChange\":0,\"symbolCode\":\"A373220\",\"code\":\"KR7373220003\",\"name\":\"LG에너지솔루션\",\"tradePrice\":542000,\"change\":\"RISE\",\"changePrice\":13000,\"changeRate\":0.0245746692,\"chartSlideImage\":null,\"isNew\":false},{\"rank\":4,\"rankChange\":0,\"symbolCode\":\"A068270\",\"code\":\"KR7068270008\",\"name\":\"셀트리온\",\"tradePrice\":188000,\"change\":\"RISE\",\"changePrice\":2500,\"changeRate\":0.0134770889,\"chartSlideImage\":null,\"isNew\":false},{\"rank\":5,\"rankChange\":1,\"symbolCode\":\"A950160\",\"code\":\"KR8840120008\",\"name\":\"코오롱티슈진\",\"tradePrice\":18450,\"change\":\"FALL\",\"changePrice\":400,\"changeRate\":0.0212201592,\"chartSlideImage\":null,\"isNew\":false},{\"rank\":6,\"rankChange\":4,\"symbolCode\":\"A215600\",\"code\":\"KR7215600008\",\"name\":\"신라젠\",\"tradePrice\":11200,\"change\":\"FALL\",\"changePrice\":100,\"changeRate\":0.0088495575,\"chartSlideImage\":null,\"isNew\":false},{\"rank\":7,\"rankChange\":-2,\"symbolCode\":\"A034020\",\"code\":\"KR7034020008\",\"name\":\"두산에너빌리티\",\"tradePrice\":13350,\"change\":\"RISE\",\"changePrice\":400,\"changeRate\":0.0308880309,\"chartSlideImage\":null,\"isNew\":false},{\"rank\":8,\"rankChange\":-1,\"symbolCode\":\"A000660\",\"code\":\"KR7000660001\",\"name\":\"SK하이닉스\",\"tradePrice\":93100,\"change\":\"FALL\",\"changePrice\":800,\"changeRate\":0.0085197018,\"chartSlideImage\":null,\"isNew\":false},{\"rank\":9,\"rankChange\":0,\"symbolCode\":\"A382480\",\"code\":\"KR7382480002\",\"name\":\"지아이텍\",\"tradePrice\":4425,\"change\":\"RISE\",\"changePrice\":270,\"changeRate\":0.0649819495,\"chartSlideImage\":null,\"isNew\":true},{\"rank\":10,\"rankChange\":-2,\"symbolCode\":\"A035420\",\"code\":\"KR7035420009\",\"name\":\"NAVER\",\"tradePrice\":159500,\"change\":\"EVEN\",\"changePrice\":0,\"changeRate\":0,\"chartSlideImage\":null,\"isNew\":false}]}'"
      ]
     },
     "execution_count": 8,
     "metadata": {},
     "output_type": "execute_result"
    }
   ],
   "source": [
    "url = \"https://finance.daum.net/api/search/ranks?limit=10\"\n",
    "req = urllib.request.Request(\n",
    "    url,\n",
    "    headers = {\n",
    "        \n",
    "        \"user-agent\" : \"Mozilla/5.0 (Windows NT 10.0; Win64; x64) AppleWebKit/537.36 (KHTML, like Gecko) Chrome/106.0.0.0 Safari/537.36\",\n",
    "        \"referer\" : \"https://finance.daum.net/\"\n",
    "    }\n",
    ")\n",
    "# 요청 헤더의 refer와 user_agent를 가져와야 한다\n",
    "f = urllib.request.urlopen(req).read().decode(\"utf-8\")\n",
    "f"
   ]
  },
  {
   "cell_type": "code",
   "execution_count": 9,
   "id": "40021efe",
   "metadata": {},
   "outputs": [],
   "source": [
    "import json"
   ]
  },
  {
   "cell_type": "code",
   "execution_count": 10,
   "id": "53db6844",
   "metadata": {},
   "outputs": [
    {
     "data": {
      "text/plain": [
       "{'data': [{'rank': 1,\n",
       "   'rankChange': 0,\n",
       "   'symbolCode': 'A035720',\n",
       "   'code': 'KR7035720002',\n",
       "   'name': '카카오',\n",
       "   'tradePrice': 48200,\n",
       "   'change': 'RISE',\n",
       "   'changePrice': 500,\n",
       "   'changeRate': 0.0104821803,\n",
       "   'chartSlideImage': None,\n",
       "   'isNew': False},\n",
       "  {'rank': 2,\n",
       "   'rankChange': 0,\n",
       "   'symbolCode': 'A005930',\n",
       "   'code': 'KR7005930003',\n",
       "   'name': '삼성전자',\n",
       "   'tradePrice': 59500,\n",
       "   'change': 'RISE',\n",
       "   'changePrice': 100,\n",
       "   'changeRate': 0.0016835017,\n",
       "   'chartSlideImage': None,\n",
       "   'isNew': False},\n",
       "  {'rank': 3,\n",
       "   'rankChange': 0,\n",
       "   'symbolCode': 'A373220',\n",
       "   'code': 'KR7373220003',\n",
       "   'name': 'LG에너지솔루션',\n",
       "   'tradePrice': 542000,\n",
       "   'change': 'RISE',\n",
       "   'changePrice': 13000,\n",
       "   'changeRate': 0.0245746692,\n",
       "   'chartSlideImage': None,\n",
       "   'isNew': False},\n",
       "  {'rank': 4,\n",
       "   'rankChange': 0,\n",
       "   'symbolCode': 'A068270',\n",
       "   'code': 'KR7068270008',\n",
       "   'name': '셀트리온',\n",
       "   'tradePrice': 188000,\n",
       "   'change': 'RISE',\n",
       "   'changePrice': 2500,\n",
       "   'changeRate': 0.0134770889,\n",
       "   'chartSlideImage': None,\n",
       "   'isNew': False},\n",
       "  {'rank': 5,\n",
       "   'rankChange': 1,\n",
       "   'symbolCode': 'A950160',\n",
       "   'code': 'KR8840120008',\n",
       "   'name': '코오롱티슈진',\n",
       "   'tradePrice': 18450,\n",
       "   'change': 'FALL',\n",
       "   'changePrice': 400,\n",
       "   'changeRate': 0.0212201592,\n",
       "   'chartSlideImage': None,\n",
       "   'isNew': False},\n",
       "  {'rank': 6,\n",
       "   'rankChange': 4,\n",
       "   'symbolCode': 'A215600',\n",
       "   'code': 'KR7215600008',\n",
       "   'name': '신라젠',\n",
       "   'tradePrice': 11200,\n",
       "   'change': 'FALL',\n",
       "   'changePrice': 100,\n",
       "   'changeRate': 0.0088495575,\n",
       "   'chartSlideImage': None,\n",
       "   'isNew': False},\n",
       "  {'rank': 7,\n",
       "   'rankChange': -2,\n",
       "   'symbolCode': 'A034020',\n",
       "   'code': 'KR7034020008',\n",
       "   'name': '두산에너빌리티',\n",
       "   'tradePrice': 13350,\n",
       "   'change': 'RISE',\n",
       "   'changePrice': 400,\n",
       "   'changeRate': 0.0308880309,\n",
       "   'chartSlideImage': None,\n",
       "   'isNew': False},\n",
       "  {'rank': 8,\n",
       "   'rankChange': -1,\n",
       "   'symbolCode': 'A000660',\n",
       "   'code': 'KR7000660001',\n",
       "   'name': 'SK하이닉스',\n",
       "   'tradePrice': 93100,\n",
       "   'change': 'FALL',\n",
       "   'changePrice': 800,\n",
       "   'changeRate': 0.0085197018,\n",
       "   'chartSlideImage': None,\n",
       "   'isNew': False},\n",
       "  {'rank': 9,\n",
       "   'rankChange': 0,\n",
       "   'symbolCode': 'A382480',\n",
       "   'code': 'KR7382480002',\n",
       "   'name': '지아이텍',\n",
       "   'tradePrice': 4425,\n",
       "   'change': 'RISE',\n",
       "   'changePrice': 270,\n",
       "   'changeRate': 0.0649819495,\n",
       "   'chartSlideImage': None,\n",
       "   'isNew': True},\n",
       "  {'rank': 10,\n",
       "   'rankChange': -2,\n",
       "   'symbolCode': 'A035420',\n",
       "   'code': 'KR7035420009',\n",
       "   'name': 'NAVER',\n",
       "   'tradePrice': 159500,\n",
       "   'change': 'EVEN',\n",
       "   'changePrice': 0,\n",
       "   'changeRate': 0,\n",
       "   'chartSlideImage': None,\n",
       "   'isNew': False}]}"
      ]
     },
     "execution_count": 10,
     "metadata": {},
     "output_type": "execute_result"
    }
   ],
   "source": [
    "data = json.loads(f)\n",
    "data"
   ]
  },
  {
   "cell_type": "code",
   "execution_count": 13,
   "id": "036c64c1",
   "metadata": {},
   "outputs": [
    {
     "data": {
      "text/plain": [
       "[{'rank': 1,\n",
       "  'rankChange': 0,\n",
       "  'symbolCode': 'A035720',\n",
       "  'code': 'KR7035720002',\n",
       "  'name': '카카오',\n",
       "  'tradePrice': 48200,\n",
       "  'change': 'RISE',\n",
       "  'changePrice': 500,\n",
       "  'changeRate': 0.0104821803,\n",
       "  'chartSlideImage': None,\n",
       "  'isNew': False},\n",
       " {'rank': 2,\n",
       "  'rankChange': 0,\n",
       "  'symbolCode': 'A005930',\n",
       "  'code': 'KR7005930003',\n",
       "  'name': '삼성전자',\n",
       "  'tradePrice': 59500,\n",
       "  'change': 'RISE',\n",
       "  'changePrice': 100,\n",
       "  'changeRate': 0.0016835017,\n",
       "  'chartSlideImage': None,\n",
       "  'isNew': False},\n",
       " {'rank': 3,\n",
       "  'rankChange': 0,\n",
       "  'symbolCode': 'A373220',\n",
       "  'code': 'KR7373220003',\n",
       "  'name': 'LG에너지솔루션',\n",
       "  'tradePrice': 542000,\n",
       "  'change': 'RISE',\n",
       "  'changePrice': 13000,\n",
       "  'changeRate': 0.0245746692,\n",
       "  'chartSlideImage': None,\n",
       "  'isNew': False},\n",
       " {'rank': 4,\n",
       "  'rankChange': 0,\n",
       "  'symbolCode': 'A068270',\n",
       "  'code': 'KR7068270008',\n",
       "  'name': '셀트리온',\n",
       "  'tradePrice': 188000,\n",
       "  'change': 'RISE',\n",
       "  'changePrice': 2500,\n",
       "  'changeRate': 0.0134770889,\n",
       "  'chartSlideImage': None,\n",
       "  'isNew': False},\n",
       " {'rank': 5,\n",
       "  'rankChange': 1,\n",
       "  'symbolCode': 'A950160',\n",
       "  'code': 'KR8840120008',\n",
       "  'name': '코오롱티슈진',\n",
       "  'tradePrice': 18450,\n",
       "  'change': 'FALL',\n",
       "  'changePrice': 400,\n",
       "  'changeRate': 0.0212201592,\n",
       "  'chartSlideImage': None,\n",
       "  'isNew': False},\n",
       " {'rank': 6,\n",
       "  'rankChange': 4,\n",
       "  'symbolCode': 'A215600',\n",
       "  'code': 'KR7215600008',\n",
       "  'name': '신라젠',\n",
       "  'tradePrice': 11200,\n",
       "  'change': 'FALL',\n",
       "  'changePrice': 100,\n",
       "  'changeRate': 0.0088495575,\n",
       "  'chartSlideImage': None,\n",
       "  'isNew': False},\n",
       " {'rank': 7,\n",
       "  'rankChange': -2,\n",
       "  'symbolCode': 'A034020',\n",
       "  'code': 'KR7034020008',\n",
       "  'name': '두산에너빌리티',\n",
       "  'tradePrice': 13350,\n",
       "  'change': 'RISE',\n",
       "  'changePrice': 400,\n",
       "  'changeRate': 0.0308880309,\n",
       "  'chartSlideImage': None,\n",
       "  'isNew': False},\n",
       " {'rank': 8,\n",
       "  'rankChange': -1,\n",
       "  'symbolCode': 'A000660',\n",
       "  'code': 'KR7000660001',\n",
       "  'name': 'SK하이닉스',\n",
       "  'tradePrice': 93100,\n",
       "  'change': 'FALL',\n",
       "  'changePrice': 800,\n",
       "  'changeRate': 0.0085197018,\n",
       "  'chartSlideImage': None,\n",
       "  'isNew': False},\n",
       " {'rank': 9,\n",
       "  'rankChange': 0,\n",
       "  'symbolCode': 'A382480',\n",
       "  'code': 'KR7382480002',\n",
       "  'name': '지아이텍',\n",
       "  'tradePrice': 4425,\n",
       "  'change': 'RISE',\n",
       "  'changePrice': 270,\n",
       "  'changeRate': 0.0649819495,\n",
       "  'chartSlideImage': None,\n",
       "  'isNew': True},\n",
       " {'rank': 10,\n",
       "  'rankChange': -2,\n",
       "  'symbolCode': 'A035420',\n",
       "  'code': 'KR7035420009',\n",
       "  'name': 'NAVER',\n",
       "  'tradePrice': 159500,\n",
       "  'change': 'EVEN',\n",
       "  'changePrice': 0,\n",
       "  'changeRate': 0,\n",
       "  'chartSlideImage': None,\n",
       "  'isNew': False}]"
      ]
     },
     "execution_count": 13,
     "metadata": {},
     "output_type": "execute_result"
    }
   ],
   "source": [
    "data.keys()\n",
    "data['data']"
   ]
  },
  {
   "cell_type": "code",
   "execution_count": 16,
   "id": "4d30d653",
   "metadata": {
    "scrolled": true
   },
   "outputs": [
    {
     "name": "stdout",
     "output_type": "stream",
     "text": [
      "순위:  1\n",
      "회사명:  카카오\n",
      "현재가:  48200\n",
      "----------------------------------------\n",
      "순위:  2\n",
      "회사명:  삼성전자\n",
      "현재가:  59500\n",
      "----------------------------------------\n",
      "순위:  3\n",
      "회사명:  LG에너지솔루션\n",
      "현재가:  542000\n",
      "----------------------------------------\n",
      "순위:  4\n",
      "회사명:  셀트리온\n",
      "현재가:  188000\n",
      "----------------------------------------\n",
      "순위:  5\n",
      "회사명:  코오롱티슈진\n",
      "현재가:  18450\n",
      "----------------------------------------\n",
      "순위:  6\n",
      "회사명:  신라젠\n",
      "현재가:  11200\n",
      "----------------------------------------\n",
      "순위:  7\n",
      "회사명:  두산에너빌리티\n",
      "현재가:  13350\n",
      "----------------------------------------\n",
      "순위:  8\n",
      "회사명:  SK하이닉스\n",
      "현재가:  93100\n",
      "----------------------------------------\n",
      "순위:  9\n",
      "회사명:  지아이텍\n",
      "현재가:  4425\n",
      "----------------------------------------\n",
      "순위:  10\n",
      "회사명:  NAVER\n",
      "현재가:  159500\n",
      "----------------------------------------\n"
     ]
    }
   ],
   "source": [
    "for i in data['data']:   # 1개 정보는 dict로 되어있음\n",
    "    print('순위: ', i['rank'])\n",
    "    print('회사명: ', i['name'])\n",
    "    print('현재가: ', i['tradePrice'])\n",
    "    print('-'*40)"
   ]
  },
  {
   "cell_type": "markdown",
   "id": "5d05ca89",
   "metadata": {},
   "source": [
    "# 셀레니움"
   ]
  },
  {
   "cell_type": "code",
   "execution_count": 52,
   "id": "6a7787cf",
   "metadata": {},
   "outputs": [],
   "source": [
    "import selenium\n",
    "from selenium import webdriver\n",
    "import time\n",
    "from selenium.webdriver.chrome.service import Service\n",
    "from selenium.webdriver.common.by import By"
   ]
  },
  {
   "cell_type": "code",
   "execution_count": 19,
   "id": "e74ba440",
   "metadata": {},
   "outputs": [
    {
     "data": {
      "text/plain": [
       "'4.5.0'"
      ]
     },
     "execution_count": 19,
     "metadata": {},
     "output_type": "execute_result"
    }
   ],
   "source": [
    "selenium.__version__"
   ]
  },
  {
   "cell_type": "code",
   "execution_count": 31,
   "id": "fc904243",
   "metadata": {},
   "outputs": [
    {
     "data": {
      "text/plain": [
       "'C:/Users/NTX550/Desktop/chromedriver.exe'"
      ]
     },
     "execution_count": 31,
     "metadata": {},
     "output_type": "execute_result"
    }
   ],
   "source": [
    "d_path = \"C:/Users/NTX550/Desktop/chromedriver.exe\"\n",
    "d_path"
   ]
  },
  {
   "cell_type": "code",
   "execution_count": 32,
   "id": "2f0d39be",
   "metadata": {},
   "outputs": [],
   "source": [
    "s = Service(d_path)\n",
    "driver = webdriver.Chrome(service = s)"
   ]
  },
  {
   "cell_type": "code",
   "execution_count": 36,
   "id": "0dfbe188",
   "metadata": {},
   "outputs": [
    {
     "data": {
      "text/plain": [
       "'https://dart.fss.or.kr/dsac001/mainAll.do?selectDate=2022.10.19&sort=&series=&mdayCnt=0'"
      ]
     },
     "execution_count": 36,
     "metadata": {},
     "output_type": "execute_result"
    }
   ],
   "source": [
    "url = \"https://dart.fss.or.kr/dsac001/mainAll.do?selectDate=2022.10.19&sort=&series=&mdayCnt=0\"\n",
    "url"
   ]
  },
  {
   "cell_type": "code",
   "execution_count": 39,
   "id": "1c13e7e9",
   "metadata": {},
   "outputs": [],
   "source": [
    "s = Service(d_path)\n",
    "driver = webdriver.Chrome(service = s)\n",
    "driver.get(url)\n",
    "driver.implicitly_wait(2)\n",
    "driver.set_window_size(1600, 800)\n",
    "# 브라우저 기본적인 컨트롤은 webdriver.Chrome(service = s) 받은 변수에서"
   ]
  },
  {
   "cell_type": "markdown",
   "id": "0ba20b43",
   "metadata": {},
   "source": [
    "# Dart로 다시"
   ]
  },
  {
   "cell_type": "code",
   "execution_count": 40,
   "id": "f293c8e6",
   "metadata": {},
   "outputs": [],
   "source": [
    "import re\n",
    "import datetime  # 시간, 날짜 관련된 패키지"
   ]
  },
  {
   "cell_type": "code",
   "execution_count": 121,
   "id": "4fdbc4cc",
   "metadata": {},
   "outputs": [
    {
     "data": {
      "text/plain": [
       "datetime.datetime(2022, 10, 19, 0, 0)"
      ]
     },
     "execution_count": 121,
     "metadata": {},
     "output_type": "execute_result"
    }
   ],
   "source": [
    "date_year = 2022\n",
    "date_month = 10\n",
    "date_day = 19\n",
    "date = datetime.datetime(date_year, date_month, date_day)\n",
    "date"
   ]
  },
  {
   "cell_type": "code",
   "execution_count": 122,
   "id": "0659b554",
   "metadata": {},
   "outputs": [
    {
     "data": {
      "text/plain": [
       "'2022.10.19'"
      ]
     },
     "execution_count": 122,
     "metadata": {},
     "output_type": "execute_result"
    }
   ],
   "source": [
    "dateYYYYMMDD = date.strftime('%Y.%m.%d')\n",
    "dateYYYYMMDD"
   ]
  },
  {
   "cell_type": "code",
   "execution_count": 123,
   "id": "e9babdee",
   "metadata": {},
   "outputs": [
    {
     "data": {
      "text/plain": [
       "'https://dart.fss.or.kr/dsac001/mainAll.do?selectDate=2022.10.19&sort=&series=&mdayCnt=0'"
      ]
     },
     "execution_count": 123,
     "metadata": {},
     "output_type": "execute_result"
    }
   ],
   "source": [
    "url = 'https://dart.fss.or.kr/dsac001/mainAll.do?selectDate='\n",
    "url = url + dateYYYYMMDD + '&sort=&series=&mdayCnt=0'\n",
    "url"
   ]
  },
  {
   "cell_type": "code",
   "execution_count": 124,
   "id": "5542b0fc",
   "metadata": {},
   "outputs": [],
   "source": [
    "s = Service(d_path)                         # 내가 사용하려고 하는 웹드라이버.exe 파일의 경로\n",
    "driver = webdriver.Chrome(service = s)      # 이용해서 크롬브라우저 실행\n",
    "driver.get(url)                             \n",
    "# driver.implicitly_wait(2)\n",
    "driver.set_window_size(1600, 800)\n",
    "# 브라우저 기본적인 컨트롤은 webdriver.Chrome(service = s) 받은 변수에서"
   ]
  },
  {
   "cell_type": "code",
   "execution_count": 54,
   "id": "303f7873",
   "metadata": {},
   "outputs": [
    {
     "data": {
      "text/plain": [
       "'19:25'"
      ]
     },
     "execution_count": 54,
     "metadata": {},
     "output_type": "execute_result"
    }
   ],
   "source": [
    "b_path = '//*[@id=\"listContents\"]/div[2]/table/tbody/tr[1]/td[1]'\n",
    "# b_path2 = '//*[@id=\"listContents\"]/div[2]/table/tbody/tr[2]/td[1]'\n",
    "\n",
    "temp = driver.find_element(By.XPATH, b_path)\n",
    "temp.text"
   ]
  },
  {
   "cell_type": "code",
   "execution_count": 55,
   "id": "13b06339",
   "metadata": {},
   "outputs": [
    {
     "data": {
      "text/plain": [
       "<selenium.webdriver.remote.webelement.WebElement (session=\"7d230e6ddca4b2e38c35b70d347498ae\", element=\"d1a699d1-c4bf-4f6b-a572-7641c4c46ec4\")>"
      ]
     },
     "execution_count": 55,
     "metadata": {},
     "output_type": "execute_result"
    }
   ],
   "source": [
    "temp"
   ]
  },
  {
   "cell_type": "code",
   "execution_count": 153,
   "id": "46c2940b",
   "metadata": {},
   "outputs": [
    {
     "data": {
      "text/plain": [
       "'멜파스'"
      ]
     },
     "execution_count": 153,
     "metadata": {},
     "output_type": "execute_result"
    }
   ],
   "source": [
    "n_path = '//*[@id=\"listContents\"]/div[2]/table/tbody/tr[1]/td[2]/span/a'\n",
    "temp = driver.find_element(By.XPATH, n_path)\n",
    "temp.text"
   ]
  },
  {
   "cell_type": "code",
   "execution_count": 154,
   "id": "ba25d544",
   "metadata": {},
   "outputs": [
    {
     "data": {
      "text/plain": [
       "\"javascript:openCorpInfoNew('00609315', 'winCorpInfo', '/dsae001/selectPopup.ax');\""
      ]
     },
     "execution_count": 154,
     "metadata": {},
     "output_type": "execute_result"
    }
   ],
   "source": [
    "# 태그에 있는 속성값 땡겨오기\n",
    "temp.get_attribute('href')"
   ]
  },
  {
   "cell_type": "code",
   "execution_count": 155,
   "id": "bffda2bb",
   "metadata": {},
   "outputs": [
    {
     "data": {
      "text/plain": [
       "'멜파스 기업개황 새창'"
      ]
     },
     "execution_count": 155,
     "metadata": {},
     "output_type": "execute_result"
    }
   ],
   "source": [
    "temp.get_attribute('title')"
   ]
  },
  {
   "cell_type": "code",
   "execution_count": 160,
   "id": "0d5b1d44",
   "metadata": {},
   "outputs": [
    {
     "data": {
      "text/plain": [
       "'[기재정정]기타시장안내(최대주주의의무보유관련)'"
      ]
     },
     "execution_count": 160,
     "metadata": {},
     "output_type": "execute_result"
    }
   ],
   "source": [
    "#  이번에는 full Xpath로 땡겨옴\n",
    "r_path = '/html/body/div[4]/div[2]/div[1]/div[2]/div[3]/div[2]/table/tbody/tr[1]/td[3]/a'\n",
    "driver.find_element(By.XPATH, r_path).text"
   ]
  },
  {
   "cell_type": "code",
   "execution_count": 157,
   "id": "b7a82a3a",
   "metadata": {},
   "outputs": [
    {
     "data": {
      "text/plain": [
       "'r_20220426900674'"
      ]
     },
     "execution_count": 157,
     "metadata": {},
     "output_type": "execute_result"
    }
   ],
   "source": [
    "driver.find_element(By.XPATH, r_path ).get_attribute(\"id\")"
   ]
  },
  {
   "cell_type": "code",
   "execution_count": null,
   "id": "e3d00a21",
   "metadata": {},
   "outputs": [],
   "source": [
    "# 2페이지 경로\n",
    "//*[@id=\"listContents\"]/div[3]/div[2]/ul/li[2]/a\n",
    "# 3페이지 경로\n",
    "//*[@id=\"listContents\"]/div[3]/div[2]/ul/li[3]/a\n",
    "# 페이지 갯수 찾으려면 li 갯수를 세면 된다"
   ]
  },
  {
   "cell_type": "code",
   "execution_count": 64,
   "id": "9af6e0af",
   "metadata": {},
   "outputs": [
    {
     "data": {
      "text/plain": [
       "[<selenium.webdriver.remote.webelement.WebElement (session=\"7d230e6ddca4b2e38c35b70d347498ae\", element=\"a59b4f24-a0ae-4d89-a930-80becdd95b90\")>,\n",
       " <selenium.webdriver.remote.webelement.WebElement (session=\"7d230e6ddca4b2e38c35b70d347498ae\", element=\"28503786-4cb3-4fe7-862a-e9b0869a4e0e\")>,\n",
       " <selenium.webdriver.remote.webelement.WebElement (session=\"7d230e6ddca4b2e38c35b70d347498ae\", element=\"94daa16e-28f7-449a-a256-df471026ad5c\")>,\n",
       " <selenium.webdriver.remote.webelement.WebElement (session=\"7d230e6ddca4b2e38c35b70d347498ae\", element=\"ea556bed-f499-4134-ab4a-db03d6b7c9f3\")>,\n",
       " <selenium.webdriver.remote.webelement.WebElement (session=\"7d230e6ddca4b2e38c35b70d347498ae\", element=\"446e0f7f-9cfd-4c09-937b-b24652446cc2\")>]"
      ]
     },
     "execution_count": 64,
     "metadata": {},
     "output_type": "execute_result"
    }
   ],
   "source": [
    "# 몇 페이지까지 클릭버튼이 있는지 확인\n",
    "driver.find_element(By.XPATH, '//*[@id=\"listContents\"]/div[3]/div[2]/ul')\\\n",
    ".find_elements(By.TAG_NAME, 'li')"
   ]
  },
  {
   "cell_type": "code",
   "execution_count": 65,
   "id": "ae97440e",
   "metadata": {},
   "outputs": [
    {
     "data": {
      "text/plain": [
       "5"
      ]
     },
     "execution_count": 65,
     "metadata": {},
     "output_type": "execute_result"
    }
   ],
   "source": [
    "len(driver.find_element(By.XPATH, '//*[@id=\"listContents\"]/div[3]/div[2]/ul')\\\n",
    ".find_elements(By.TAG_NAME, 'li'))"
   ]
  },
  {
   "cell_type": "code",
   "execution_count": 66,
   "id": "e94cf290",
   "metadata": {},
   "outputs": [],
   "source": [
    "next_page = '//*[@id=\"listContents\"]/div[3]/div[2]/ul/li[2]/a'\n",
    "driver.find_element(By.XPATH, next_page).click()\n",
    "time.sleep(2)"
   ]
  },
  {
   "cell_type": "code",
   "execution_count": 161,
   "id": "1a64ff2b",
   "metadata": {},
   "outputs": [],
   "source": [
    "driver.quit()"
   ]
  },
  {
   "cell_type": "markdown",
   "id": "a2c3d2e6",
   "metadata": {},
   "source": [
    "# 셀레니움 + BeautifulSoup"
   ]
  },
  {
   "cell_type": "code",
   "execution_count": 146,
   "id": "6f22a056",
   "metadata": {},
   "outputs": [],
   "source": [
    "from bs4 import BeautifulSoup"
   ]
  },
  {
   "cell_type": "code",
   "execution_count": 149,
   "id": "cca3ca84",
   "metadata": {},
   "outputs": [],
   "source": [
    "soup = BeautifulSoup(driver.page_source, 'html.parser')"
   ]
  },
  {
   "cell_type": "code",
   "execution_count": 162,
   "id": "4840c59b",
   "metadata": {},
   "outputs": [
    {
     "data": {
      "text/plain": [
       "<td>\n",
       "\t\t\t\t\t\t\t\t\n",
       "\t\t\t\t\t\t\t\t\n",
       "\t\t\t\t\t\t\t\t\n",
       "\t\t\t\t\t\t\t\t19:25\n",
       "\t\t\t\t\t\t\t</td>"
      ]
     },
     "execution_count": 162,
     "metadata": {},
     "output_type": "execute_result"
    }
   ],
   "source": [
    "soup.find(\"tbody\").find_all(\"tr\")[0].find(\"td\")"
   ]
  },
  {
   "cell_type": "markdown",
   "id": "8bb452a0",
   "metadata": {},
   "source": [
    "### Dart 사이트에서 특정 날짜에 대한 정보 (시간, 회사이름, 회사코드, 속한 시장, 공시이름, 공시번호, 제출일) 을 출력하세요\n",
    "단 모든 페이지 돌아가면서....  \n",
    "(브라우저의 클릭을 활용해서 넘어가세요~) 참고)  \n",
    "다음 페이지 클릭 후에는 시간을 좀 여유를 줘야 합니다.."
   ]
  },
  {
   "cell_type": "code",
   "execution_count": 133,
   "id": "4e7bdbcd",
   "metadata": {},
   "outputs": [
    {
     "data": {
      "text/plain": [
       "datetime.datetime(2022, 4, 26, 0, 0)"
      ]
     },
     "execution_count": 133,
     "metadata": {},
     "output_type": "execute_result"
    }
   ],
   "source": [
    "date_year = 2022\n",
    "date_month = 4\n",
    "date_day = 26\n",
    "date = datetime.datetime(date_year, date_month, date_day)\n",
    "# 날짜시간 처리 패키지로 형태를 변환\n",
    "dateYYYYMMDD = date.strftime('%Y.%m.%d')\n",
    "url = 'https://dart.fss.or.kr/dsac001/mainAll.do?selectDate='\n",
    "url = url + dateYYYYMMDD + '&sort=&series=&mdayCnt=0'\n",
    "s = Service(d_path)                         # 내가 사용하려고 하는 웹드라이버.exe 파일의 경로\n",
    "driver = webdriver.Chrome(service = s)      # 이용해서 크롬브라우저 실행\n",
    "driver.get(url)\n",
    "\n",
    "\n",
    "page = 1\n",
    "while True:\n",
    "    # 1개 페이지에 들어왔다 생각하고 처리\n",
    "    tot_num = len(driver.find_elements(By.TAG_NAME, 'tr'))\n",
    "    print(f'지금 진행 페이지 : {page}, 이 페이지 데이터 수 : {tot_num}')\n",
    "    for i in range(1, tot_num):\n",
    "        # 시간 Xpath : //*[@id=\"listContents\"]/div[2]/table/tbody/tr[1]/td[1]\n",
    "        b_path = '//*[@id=\"listContents\"]/div[2]/table/tbody/tr[' + str(i) + ']/td[1]'\n",
    "        p_time = driver.find_element(By.XPATH, b_path).text\n",
    "        print(p_time)\n",
    "        \n",
    "        # 회사이름, 코드: //*[@id=\"listContents\"]/div[2]/table/tbody/tr[1]/td[2]/span/a\n",
    "        cn_path = '//*[@id=\"listContents\"]/div[2]/table/tbody/tr[' + str(i) + ']/td[2]/span/a'\n",
    "        co_element = driver.find_element(By.XPATH, cn_path)\n",
    "        # 회사이름\n",
    "        co_name = co_element.text\n",
    "        print(co_name)\n",
    "        # 회사코드\n",
    "        co_id = co_element.get_attribute(\"href\")\n",
    "        co_id - re.findall('[09]')\n",
    "        "
   ]
  },
  {
   "cell_type": "code",
   "execution_count": 135,
   "id": "05a3fe7d",
   "metadata": {},
   "outputs": [
    {
     "data": {
      "text/plain": [
       "'https://dart.fss.or.kr/dsac001/mainAll.do?selectDate=2022.04.26&sort=&series=&mdayCnt=0'"
      ]
     },
     "execution_count": 135,
     "metadata": {},
     "output_type": "execute_result"
    }
   ],
   "source": [
    "\n",
    "url"
   ]
  },
  {
   "cell_type": "code",
   "execution_count": 148,
   "id": "7a1dee86",
   "metadata": {},
   "outputs": [],
   "source": []
  },
  {
   "cell_type": "code",
   "execution_count": 152,
   "id": "469a1d86",
   "metadata": {},
   "outputs": [
    {
     "data": {
      "text/plain": [
       "'2022.04.26'"
      ]
     },
     "execution_count": 152,
     "metadata": {},
     "output_type": "execute_result"
    }
   ],
   "source": [
    "time_path = '//*[@id=\"listContents\"]/div[2]/table/tbody/tr[1]/td[1]'          # 시간\n",
    "driver.find_element(By.XPATH, time_path).text\n",
    "\n",
    "name_path = '//*[@id=\"listContents\"]/div[2]/table/tbody/tr[1]/td[2]/span/a'   # 회사이름, 회사코드\n",
    "driver.find_element(By.XPATH, name_path).text                                 # 회사이름\n",
    "driver.find_element(By.XPATH, name_path).get_attribute('href')[28:36]         # 회사코드\n",
    "\n",
    "com_path = '//*[@id=\"listContents\"]/div[2]/table/tbody/tr[1]/td[2]/span/span' # 속한시장\n",
    "driver.find_element(By.XPATH, com_path).get_attribute('title')                # 속한시장\n",
    "\n",
    "rcp_path = '//*[@id=\"r_20220426900674\"]'                                      # 공시이름, 공시번호\n",
    "driver.find_element(By.XPATH, rcp_path).text                                  # 공시이름\n",
    "driver.find_element(By.XPATH, rcp_path).get_attribute('id')[2:]               # 공시번호\n",
    "\n",
    "\n",
    "day_path = '//*[@id=\"listContents\"]/div[2]/table/tbody/tr[1]/td[5]'           # 공시날짜\n",
    "driver.find_element(By.XPATH, day_path).text"
   ]
  }
 ],
 "metadata": {
  "kernelspec": {
   "display_name": "Python 3 (ipykernel)",
   "language": "python",
   "name": "python3"
  },
  "language_info": {
   "codemirror_mode": {
    "name": "ipython",
    "version": 3
   },
   "file_extension": ".py",
   "mimetype": "text/x-python",
   "name": "python",
   "nbconvert_exporter": "python",
   "pygments_lexer": "ipython3",
   "version": "3.9.12"
  }
 },
 "nbformat": 4,
 "nbformat_minor": 5
}
