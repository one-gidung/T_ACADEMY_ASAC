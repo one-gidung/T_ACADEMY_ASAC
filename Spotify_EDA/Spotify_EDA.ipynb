{
 "cells": [
  {
   "cell_type": "code",
   "execution_count": 1,
   "id": "195a1013",
   "metadata": {},
   "outputs": [
    {
     "name": "stdout",
     "output_type": "stream",
     "text": [
      "Collecting pyspark\n",
      "  Downloading pyspark-3.3.1.tar.gz (281.4 MB)\n",
      "\u001b[2K     \u001b[38;2;114;156;31m━━━━━━━━━━━━━━━━━━━━━━━━━━━━━━━━━━━━━━━\u001b[0m \u001b[32m281.4/281.4 MB\u001b[0m \u001b[31m2.1 MB/s\u001b[0m eta \u001b[36m0:00:00\u001b[0mm eta \u001b[36m0:00:01\u001b[0m[36m0:00:02\u001b[0m\n",
      "\u001b[?25h  Preparing metadata (setup.py) ... \u001b[?25ldone\n",
      "\u001b[?25hCollecting py4j==0.10.9.5\n",
      "  Downloading py4j-0.10.9.5-py2.py3-none-any.whl (199 kB)\n",
      "\u001b[2K     \u001b[38;2;114;156;31m━━━━━━━━━━━━━━━━━━━━━━━━━━━━━━━━━━━━━━\u001b[0m \u001b[32m199.7/199.7 kB\u001b[0m \u001b[31m23.4 MB/s\u001b[0m eta \u001b[36m0:00:00\u001b[0m\n",
      "\u001b[?25hBuilding wheels for collected packages: pyspark\n",
      "  Building wheel for pyspark (setup.py) ... \u001b[?25ldone\n",
      "\u001b[?25h  Created wheel for pyspark: filename=pyspark-3.3.1-py2.py3-none-any.whl size=281845499 sha256=6c115fc57299225bd368d084898fa3ef0697809eaf91172faa3063face9e5143\n",
      "  Stored in directory: /home/mobile/.cache/pip/wheels/51/c8/18/298a4ced8ebb3ab8a7d26a7198c0cc7035abb906bde94a4c4b\n",
      "Successfully built pyspark\n",
      "Installing collected packages: py4j, pyspark\n",
      "Successfully installed py4j-0.10.9.5 pyspark-3.3.1\n"
     ]
    },
    {
     "data": {
      "text/html": [
       "        <script type=\"text/javascript\">\n",
       "        window.PlotlyConfig = {MathJaxConfig: 'local'};\n",
       "        if (window.MathJax && window.MathJax.Hub && window.MathJax.Hub.Config) {window.MathJax.Hub.Config({SVG: {font: \"STIX-Web\"}});}\n",
       "        if (typeof require !== 'undefined') {\n",
       "        require.undef(\"plotly\");\n",
       "        requirejs.config({\n",
       "            paths: {\n",
       "                'plotly': ['https://cdn.plot.ly/plotly-2.12.1.min']\n",
       "            }\n",
       "        });\n",
       "        require(['plotly'], function(Plotly) {\n",
       "            window._Plotly = Plotly;\n",
       "        });\n",
       "        }\n",
       "        </script>\n",
       "        "
      ]
     },
     "metadata": {},
     "output_type": "display_data"
    }
   ],
   "source": [
    "# !pip install pyspark\n",
    "import numpy as np \n",
    "import pandas as pd\n",
    "import os\n",
    "import matplotlib.pyplot as plt\n",
    "import seaborn as sns\n",
    "%config InlineBackend.figure_format = 'svg'\n",
    "sns.set_palette('rainbow')\n",
    "sns.set_style('whitegrid')\n",
    "import plotly.express as px\n",
    "# these 2 lines fix a sporatic loading error in plotly\n",
    "from plotly.offline import plot, iplot, init_notebook_mode\n",
    "init_notebook_mode(connected=True)\n",
    "sns.set_style('darkgrid')\n",
    "# pyspark\n",
    "from pyspark import SparkConf, SparkContext\n",
    "from pyspark.sql import SparkSession, SQLContext\n",
    "\n",
    "from pyspark.sql.types import *\n",
    "import pyspark.sql.functions as F\n",
    "from pyspark.sql.functions import udf, col\n",
    "\n",
    "\n",
    "from sklearn.pipeline import Pipeline\n",
    "# from sklearn.manifold import TSNE\n",
    "from sklearn.decomposition import PCA\n",
    "from sklearn.cluster import KMeans\n",
    "\n",
    "CSV_FILE= '/home/mobile/miniSpark/data/Final database.csv'"
   ]
  },
  {
   "cell_type": "code",
   "execution_count": 7,
   "id": "2d157c1c",
   "metadata": {},
   "outputs": [
    {
     "data": {
      "text/html": [
       "\n",
       "            <div>\n",
       "                <p><b>SparkSession - in-memory</b></p>\n",
       "                \n",
       "        <div>\n",
       "            <p><b>SparkContext</b></p>\n",
       "\n",
       "            <p><a href=\"http://192.168.207.128:4040\">Spark UI</a></p>\n",
       "\n",
       "            <dl>\n",
       "              <dt>Version</dt>\n",
       "                <dd><code>v3.3.1</code></dd>\n",
       "              <dt>Master</dt>\n",
       "                <dd><code>local[2]</code></dd>\n",
       "              <dt>AppName</dt>\n",
       "                <dd><code>Spotify-Huge-Dataset</code></dd>\n",
       "            </dl>\n",
       "        </div>\n",
       "        \n",
       "            </div>\n",
       "        "
      ],
      "text/plain": [
       "<pyspark.sql.session.SparkSession at 0x7fc8830705b0>"
      ]
     },
     "execution_count": 7,
     "metadata": {},
     "output_type": "execute_result"
    }
   ],
   "source": [
    "spark = SparkSession.builder.master(\"local[2]\").appName(\"Spotify-Huge-Dataset\").getOrCreate() #.enableHiveSupport()\n",
    "spark"
   ]
  },
  {
   "cell_type": "code",
   "execution_count": 8,
   "id": "3d9da05b",
   "metadata": {},
   "outputs": [],
   "source": [
    "# Old way depreciated in 3.0.0\n",
    "sc = spark.sparkContext\n",
    "sqlContext = SQLContext(sc)\n",
    "# sqlContext = SQLContext(spark)"
   ]
  },
  {
   "cell_type": "code",
   "execution_count": 17,
   "id": "cf7805c8",
   "metadata": {
    "scrolled": true
   },
   "outputs": [
    {
     "name": "stderr",
     "output_type": "stream",
     "text": [
      "                                                                                \r"
     ]
    },
    {
     "name": "stdout",
     "output_type": "stream",
     "text": [
      "22/12/26 10:32:31 WARN package: Truncated the string representation of a plan since it was too large. This behavior can be adjusted by setting 'spark.sql.debug.maxToStringFields'.\n"
     ]
    },
    {
     "name": "stderr",
     "output_type": "stream",
     "text": [
      "\r",
      "[Stage 1:>                                                          (0 + 2) / 2]\r"
     ]
    },
    {
     "name": "stdout",
     "output_type": "stream",
     "text": [
      "22/12/26 10:32:33 WARN CSVHeaderChecker: CSV header does not conform to the schema.\n",
      " Header: Country, Uri, Popularity, Title, Artist, Album/Single, Genre, Artist_followers, Explicit, Album, Release_date, Track_number, Tracks_in_album, danceability, energy, key, loudness, mode, speechiness, acoustics, instrumentalness, liveliness, valence, tempo, duration_ms, time_signature, Genre_new, Days_since_release, Released_after_2017, Explicit_false, Explicit_true, album, compilation, single, bolero, boy band, country, dance/electronic, else, funk, hip hop, house, indie, jazz, k-pop, latin, metal, opm, pop, r&b/soul, rap, reggae, reggaeton, rock, trap, bing_norm, afinn_norm, nrc_norm, syuzhet, bing, afinn, nrc, anger, anticipation, disgust, fear, joy, sadness, surprise, trust, negative, positive, n_words, anger_norm, anticipation_norm, disgust_norm, fear_norm, joy_norm, sadness_norm, surprise_norm, trust_norm, negative_norm, positive_norm, anger_norm2, anticipation_norm2, disgust_norm2, fear_norm2, joy_norm2, sadness_norm2, surprise_norm2, trust_norm2, negative_norm2, positive_norm2, negative_bog_jr, positive_bog_jr, Bayes, Negative_Bayes, Neutral_Bayes, Positive_Bayes, LDA_Topic, Celebrate, Desire, Explore, Fun, Hope, Love, Nostalgia, Thug, bing_norm_negative, bing_norm_neutral, bing_norm_positive, Argentina, Australia, Austria, Belgium, Brazil, Canada, Chile, Colombia, Costa Rica, Denmark, Ecuador, Finland, France, Germany, Global, Indonesia, Ireland, Italy, Malaysia, Mexico, Netherlands, New Zealand, Norway, Peru, Philippines, Poland, Portugal, Singapore, Spain, Sweden, Switzerland, Taiwan, Turkey, UK, USA, Popu_max, Top10_dummy, Top50_dummy, Cluster\n",
      " Schema: Country0, Uri, Popularity, Title, Artist, Album/Single, Genre, Artist_followers, Explicit, Album9, Release_date, Track_number, Tracks_in_album, danceability, energy, key, loudness, mode, speechiness, acoustics, instrumentalness, liveliness, valence, tempo, duration_ms, time_signature, Genre_new, Days_since_release, Released_after_2017, Explicit_false, Explicit_true, album31, compilation, single, bolero, boy band, country36, dance/electronic, else, funk, hip hop, house, indie, jazz, k-pop, latin, metal, opm, pop, r&b/soul, rap, reggae, reggaeton, rock, trap, bing_norm, afinn_norm, nrc_norm, syuzhet, bing, afinn, nrc, anger, anticipation, disgust, fear, joy, sadness, surprise, trust, negative, positive, n_words, anger_norm, anticipation_norm, disgust_norm, fear_norm, joy_norm, sadness_norm, surprise_norm, trust_norm, negative_norm, positive_norm, anger_norm2, anticipation_norm2, disgust_norm2, fear_norm2, joy_norm2, sadness_norm2, surprise_norm2, trust_norm2, negative_norm2, positive_norm2, negative_bog_jr, positive_bog_jr, Bayes, Negative_Bayes, Neutral_Bayes, Positive_Bayes, LDA_Topic, Celebrate, Desire, Explore, Fun, Hope, Love, Nostalgia, Thug, bing_norm_negative, bing_norm_neutral, bing_norm_positive, Argentina, Australia, Austria, Belgium, Brazil, Canada, Chile, Colombia, Costa Rica, Denmark, Ecuador, Finland, France, Germany, Global, Indonesia, Ireland, Italy, Malaysia, Mexico, Netherlands, New Zealand, Norway, Peru, Philippines, Poland, Portugal, Singapore, Spain, Sweden, Switzerland, Taiwan, Turkey, UK, USA, Popu_max, Top10_dummy, Top50_dummy, Cluster\n",
      "Expected: Country0 but found: Country\n",
      "CSV file: file:///home/mobile/miniSpark/data/Final%20database.csv\n"
     ]
    },
    {
     "name": "stderr",
     "output_type": "stream",
     "text": [
      "                                                                                \r"
     ]
    },
    {
     "name": "stdout",
     "output_type": "stream",
     "text": [
      "22/12/26 10:33:30 WARN CSVHeaderChecker: CSV header does not conform to the schema.\n",
      " Header: Country, Uri, Popularity, Title, Artist, Album/Single, Genre, Artist_followers, Explicit, Album, Release_date, Track_number, Tracks_in_album, danceability, energy, key, loudness, mode, speechiness, acoustics, instrumentalness, liveliness, valence, tempo, duration_ms, time_signature, Genre_new, Days_since_release, Released_after_2017, Explicit_false, Explicit_true, album, compilation, single, bolero, boy band, country, dance/electronic, else, funk, hip hop, house, indie, jazz, k-pop, latin, metal, opm, pop, r&b/soul, rap, reggae, reggaeton, rock, trap, syuzhet_norm, afinn_norm, nrc_norm, syuzhet, bing, afinn, nrc, anger, anticipation, disgust, fear, joy, sadness, surprise, trust, negative, positive, n_words, anger_norm, anticipation_norm, disgust_norm, fear_norm, joy_norm, sadness_norm, surprise_norm, trust_norm, negative_norm, positive_norm, anger_norm2, anticipation_norm2, disgust_norm2, fear_norm2, joy_norm2, sadness_norm2, surprise_norm2, trust_norm2, negative_norm2, positive_norm2, negative_bog_jr, positive_bog_jr, Bayes, Negative_Bayes, Neutral_Bayes, Positive_Bayes, LDA_Topic, Celebrate, Desire, Explore, Fun, Hope, Love, Nostalgia, Thug, bing_norm_negative, bing_norm_neutral, bing_norm_positive, Argentina, Australia, Austria, Belgium, Brazil, Canada, Chile, Colombia, Costa Rica, Denmark, Ecuador, Finland, France, Germany, Global, Indonesia, Ireland, Italy, Malaysia, Mexico, Netherlands, New Zealand, Norway, Peru, Philippines, Poland, Portugal, Singapore, Spain, Sweden, Switzerland, Taiwan, Turkey, UK, USA, Popu_max, Top10_dummy, Top50_dummy, Cluster\n",
      " Schema: Country0, Uri, Popularity, Title, Artist, Album/Single, Genre, Artist_followers, Explicit, Album9, Release_date, Track_number, Tracks_in_album, danceability, energy, key, loudness, mode, speechiness, acoustics, instrumentalness, liveliness, valence, tempo, duration_ms, time_signature, Genre_new, Days_since_release, Released_after_2017, Explicit_false, Explicit_true, album31, compilation, single, bolero, boy band, country36, dance/electronic, else, funk, hip hop, house, indie, jazz, k-pop, latin, metal, opm, pop, r&b/soul, rap, reggae, reggaeton, rock, trap, syuzhet_norm, afinn_norm, nrc_norm, syuzhet, bing, afinn, nrc, anger, anticipation, disgust, fear, joy, sadness, surprise, trust, negative, positive, n_words, anger_norm, anticipation_norm, disgust_norm, fear_norm, joy_norm, sadness_norm, surprise_norm, trust_norm, negative_norm, positive_norm, anger_norm2, anticipation_norm2, disgust_norm2, fear_norm2, joy_norm2, sadness_norm2, surprise_norm2, trust_norm2, negative_norm2, positive_norm2, negative_bog_jr, positive_bog_jr, Bayes, Negative_Bayes, Neutral_Bayes, Positive_Bayes, LDA_Topic, Celebrate, Desire, Explore, Fun, Hope, Love, Nostalgia, Thug, bing_norm_negative, bing_norm_neutral, bing_norm_positive, Argentina, Australia, Austria, Belgium, Brazil, Canada, Chile, Colombia, Costa Rica, Denmark, Ecuador, Finland, France, Germany, Global, Indonesia, Ireland, Italy, Malaysia, Mexico, Netherlands, New Zealand, Norway, Peru, Philippines, Poland, Portugal, Singapore, Spain, Sweden, Switzerland, Taiwan, Turkey, UK, USA, Popu_max, Top10_dummy, Top50_dummy, Cluster\n",
      "Expected: Country0 but found: Country\n",
      "CSV file: file:///home/mobile/miniSpark/data/Final%20database.csv\n"
     ]
    },
    {
     "name": "stderr",
     "output_type": "stream",
     "text": [
      "                                                                                \r"
     ]
    },
    {
     "name": "stdout",
     "output_type": "stream",
     "text": [
      "22/12/26 10:34:15 WARN CSVHeaderChecker: CSV header does not conform to the schema.\n",
      " Header: Country, Uri, Popularity, Title, Artist, Album/Single, Genre, Artist_followers, Explicit, Album, Release_date, Track_number, Tracks_in_album, danceability, energy, key, loudness, mode, speechiness, acoustics, instrumentalness, liveliness, valence, tempo, duration_ms, time_signature, Genre_new, Days_since_release, Released_after_2017, Explicit_false, Explicit_true, album, compilation, single, bolero, boy band, country, dance/electronic, else, funk, hip hop, house, indie, jazz, k-pop, latin, metal, opm, pop, r&b/soul, rap, reggae, reggaeton, rock, trap, syuzhet_norm, bing_norm, nrc_norm, syuzhet, bing, afinn, nrc, anger, anticipation, disgust, fear, joy, sadness, surprise, trust, negative, positive, n_words, anger_norm, anticipation_norm, disgust_norm, fear_norm, joy_norm, sadness_norm, surprise_norm, trust_norm, negative_norm, positive_norm, anger_norm2, anticipation_norm2, disgust_norm2, fear_norm2, joy_norm2, sadness_norm2, surprise_norm2, trust_norm2, negative_norm2, positive_norm2, negative_bog_jr, positive_bog_jr, Bayes, Negative_Bayes, Neutral_Bayes, Positive_Bayes, LDA_Topic, Celebrate, Desire, Explore, Fun, Hope, Love, Nostalgia, Thug, bing_norm_negative, bing_norm_neutral, bing_norm_positive, Argentina, Australia, Austria, Belgium, Brazil, Canada, Chile, Colombia, Costa Rica, Denmark, Ecuador, Finland, France, Germany, Global, Indonesia, Ireland, Italy, Malaysia, Mexico, Netherlands, New Zealand, Norway, Peru, Philippines, Poland, Portugal, Singapore, Spain, Sweden, Switzerland, Taiwan, Turkey, UK, USA, Popu_max, Top10_dummy, Top50_dummy, Cluster\n",
      " Schema: Country0, Uri, Popularity, Title, Artist, Album/Single, Genre, Artist_followers, Explicit, Album9, Release_date, Track_number, Tracks_in_album, danceability, energy, key, loudness, mode, speechiness, acoustics, instrumentalness, liveliness, valence, tempo, duration_ms, time_signature, Genre_new, Days_since_release, Released_after_2017, Explicit_false, Explicit_true, album31, compilation, single, bolero, boy band, country36, dance/electronic, else, funk, hip hop, house, indie, jazz, k-pop, latin, metal, opm, pop, r&b/soul, rap, reggae, reggaeton, rock, trap, syuzhet_norm, bing_norm, nrc_norm, syuzhet, bing, afinn, nrc, anger, anticipation, disgust, fear, joy, sadness, surprise, trust, negative, positive, n_words, anger_norm, anticipation_norm, disgust_norm, fear_norm, joy_norm, sadness_norm, surprise_norm, trust_norm, negative_norm, positive_norm, anger_norm2, anticipation_norm2, disgust_norm2, fear_norm2, joy_norm2, sadness_norm2, surprise_norm2, trust_norm2, negative_norm2, positive_norm2, negative_bog_jr, positive_bog_jr, Bayes, Negative_Bayes, Neutral_Bayes, Positive_Bayes, LDA_Topic, Celebrate, Desire, Explore, Fun, Hope, Love, Nostalgia, Thug, bing_norm_negative, bing_norm_neutral, bing_norm_positive, Argentina, Australia, Austria, Belgium, Brazil, Canada, Chile, Colombia, Costa Rica, Denmark, Ecuador, Finland, France, Germany, Global, Indonesia, Ireland, Italy, Malaysia, Mexico, Netherlands, New Zealand, Norway, Peru, Philippines, Poland, Portugal, Singapore, Spain, Sweden, Switzerland, Taiwan, Turkey, UK, USA, Popu_max, Top10_dummy, Top50_dummy, Cluster\n",
      "Expected: Country0 but found: Country\n",
      "CSV file: file:///home/mobile/miniSpark/data/Final%20database.csv\n"
     ]
    },
    {
     "name": "stderr",
     "output_type": "stream",
     "text": [
      "                                                                                \r"
     ]
    },
    {
     "name": "stdout",
     "output_type": "stream",
     "text": [
      "22/12/26 10:34:57 WARN CSVHeaderChecker: CSV header does not conform to the schema.\n",
      " Header: Country, Uri, Popularity, Title, Artist, Album/Single, Genre, Artist_followers, Explicit, Album, Release_date, Track_number, Tracks_in_album, danceability, energy, key, loudness, mode, speechiness, acoustics, instrumentalness, liveliness, valence, tempo, duration_ms, time_signature, Genre_new, Days_since_release, Released_after_2017, Explicit_false, Explicit_true, album, compilation, single, bolero, boy band, country, dance/electronic, else, funk, hip hop, house, indie, jazz, k-pop, latin, metal, opm, pop, r&b/soul, rap, reggae, reggaeton, rock, trap, syuzhet_norm, bing_norm, afinn_norm, syuzhet, bing, afinn, nrc, anger, anticipation, disgust, fear, joy, sadness, surprise, trust, negative, positive, n_words, anger_norm, anticipation_norm, disgust_norm, fear_norm, joy_norm, sadness_norm, surprise_norm, trust_norm, negative_norm, positive_norm, anger_norm2, anticipation_norm2, disgust_norm2, fear_norm2, joy_norm2, sadness_norm2, surprise_norm2, trust_norm2, negative_norm2, positive_norm2, negative_bog_jr, positive_bog_jr, Bayes, Negative_Bayes, Neutral_Bayes, Positive_Bayes, LDA_Topic, Celebrate, Desire, Explore, Fun, Hope, Love, Nostalgia, Thug, bing_norm_negative, bing_norm_neutral, bing_norm_positive, Argentina, Australia, Austria, Belgium, Brazil, Canada, Chile, Colombia, Costa Rica, Denmark, Ecuador, Finland, France, Germany, Global, Indonesia, Ireland, Italy, Malaysia, Mexico, Netherlands, New Zealand, Norway, Peru, Philippines, Poland, Portugal, Singapore, Spain, Sweden, Switzerland, Taiwan, Turkey, UK, USA, Popu_max, Top10_dummy, Top50_dummy, Cluster\n",
      " Schema: Country0, Uri, Popularity, Title, Artist, Album/Single, Genre, Artist_followers, Explicit, Album9, Release_date, Track_number, Tracks_in_album, danceability, energy, key, loudness, mode, speechiness, acoustics, instrumentalness, liveliness, valence, tempo, duration_ms, time_signature, Genre_new, Days_since_release, Released_after_2017, Explicit_false, Explicit_true, album31, compilation, single, bolero, boy band, country36, dance/electronic, else, funk, hip hop, house, indie, jazz, k-pop, latin, metal, opm, pop, r&b/soul, rap, reggae, reggaeton, rock, trap, syuzhet_norm, bing_norm, afinn_norm, syuzhet, bing, afinn, nrc, anger, anticipation, disgust, fear, joy, sadness, surprise, trust, negative, positive, n_words, anger_norm, anticipation_norm, disgust_norm, fear_norm, joy_norm, sadness_norm, surprise_norm, trust_norm, negative_norm, positive_norm, anger_norm2, anticipation_norm2, disgust_norm2, fear_norm2, joy_norm2, sadness_norm2, surprise_norm2, trust_norm2, negative_norm2, positive_norm2, negative_bog_jr, positive_bog_jr, Bayes, Negative_Bayes, Neutral_Bayes, Positive_Bayes, LDA_Topic, Celebrate, Desire, Explore, Fun, Hope, Love, Nostalgia, Thug, bing_norm_negative, bing_norm_neutral, bing_norm_positive, Argentina, Australia, Austria, Belgium, Brazil, Canada, Chile, Colombia, Costa Rica, Denmark, Ecuador, Finland, France, Germany, Global, Indonesia, Ireland, Italy, Malaysia, Mexico, Netherlands, New Zealand, Norway, Peru, Philippines, Poland, Portugal, Singapore, Spain, Sweden, Switzerland, Taiwan, Turkey, UK, USA, Popu_max, Top10_dummy, Top50_dummy, Cluster\n",
      "Expected: Country0 but found: Country\n",
      "CSV file: file:///home/mobile/miniSpark/data/Final%20database.csv\n"
     ]
    },
    {
     "name": "stderr",
     "output_type": "stream",
     "text": [
      "                                                                                \r"
     ]
    },
    {
     "name": "stdout",
     "output_type": "stream",
     "text": [
      "22/12/26 10:35:38 WARN CSVHeaderChecker: CSV header does not conform to the schema.\n",
      " Header: Country, Uri, Popularity, Title, Artist, Album/Single, Genre, Artist_followers, Explicit, Album, Release_date, Track_number, Tracks_in_album, danceability, energy, key, loudness, mode, speechiness, acoustics, instrumentalness, liveliness, valence, tempo, duration_ms, time_signature, Genre_new, Days_since_release, Released_after_2017, Explicit_false, Explicit_true, album, compilation, single, bolero, boy band, country, dance/electronic, else, funk, hip hop, house, indie, jazz, k-pop, latin, metal, opm, pop, r&b/soul, rap, reggae, reggaeton, rock, trap, syuzhet_norm, bing_norm, afinn_norm, nrc_norm, bing, afinn, nrc, anger, anticipation, disgust, fear, joy, sadness, surprise, trust, negative, positive, n_words, anger_norm, anticipation_norm, disgust_norm, fear_norm, joy_norm, sadness_norm, surprise_norm, trust_norm, negative_norm, positive_norm, anger_norm2, anticipation_norm2, disgust_norm2, fear_norm2, joy_norm2, sadness_norm2, surprise_norm2, trust_norm2, negative_norm2, positive_norm2, negative_bog_jr, positive_bog_jr, Bayes, Negative_Bayes, Neutral_Bayes, Positive_Bayes, LDA_Topic, Celebrate, Desire, Explore, Fun, Hope, Love, Nostalgia, Thug, bing_norm_negative, bing_norm_neutral, bing_norm_positive, Argentina, Australia, Austria, Belgium, Brazil, Canada, Chile, Colombia, Costa Rica, Denmark, Ecuador, Finland, France, Germany, Global, Indonesia, Ireland, Italy, Malaysia, Mexico, Netherlands, New Zealand, Norway, Peru, Philippines, Poland, Portugal, Singapore, Spain, Sweden, Switzerland, Taiwan, Turkey, UK, USA, Popu_max, Top10_dummy, Top50_dummy, Cluster\n",
      " Schema: Country0, Uri, Popularity, Title, Artist, Album/Single, Genre, Artist_followers, Explicit, Album9, Release_date, Track_number, Tracks_in_album, danceability, energy, key, loudness, mode, speechiness, acoustics, instrumentalness, liveliness, valence, tempo, duration_ms, time_signature, Genre_new, Days_since_release, Released_after_2017, Explicit_false, Explicit_true, album31, compilation, single, bolero, boy band, country36, dance/electronic, else, funk, hip hop, house, indie, jazz, k-pop, latin, metal, opm, pop, r&b/soul, rap, reggae, reggaeton, rock, trap, syuzhet_norm, bing_norm, afinn_norm, nrc_norm, bing, afinn, nrc, anger, anticipation, disgust, fear, joy, sadness, surprise, trust, negative, positive, n_words, anger_norm, anticipation_norm, disgust_norm, fear_norm, joy_norm, sadness_norm, surprise_norm, trust_norm, negative_norm, positive_norm, anger_norm2, anticipation_norm2, disgust_norm2, fear_norm2, joy_norm2, sadness_norm2, surprise_norm2, trust_norm2, negative_norm2, positive_norm2, negative_bog_jr, positive_bog_jr, Bayes, Negative_Bayes, Neutral_Bayes, Positive_Bayes, LDA_Topic, Celebrate, Desire, Explore, Fun, Hope, Love, Nostalgia, Thug, bing_norm_negative, bing_norm_neutral, bing_norm_positive, Argentina, Australia, Austria, Belgium, Brazil, Canada, Chile, Colombia, Costa Rica, Denmark, Ecuador, Finland, France, Germany, Global, Indonesia, Ireland, Italy, Malaysia, Mexico, Netherlands, New Zealand, Norway, Peru, Philippines, Poland, Portugal, Singapore, Spain, Sweden, Switzerland, Taiwan, Turkey, UK, USA, Popu_max, Top10_dummy, Top50_dummy, Cluster\n",
      "Expected: Country0 but found: Country\n",
      "CSV file: file:///home/mobile/miniSpark/data/Final%20database.csv\n"
     ]
    },
    {
     "name": "stderr",
     "output_type": "stream",
     "text": [
      "                                                                                \r"
     ]
    },
    {
     "name": "stdout",
     "output_type": "stream",
     "text": [
      "22/12/26 10:36:23 WARN CSVHeaderChecker: CSV header does not conform to the schema.\n",
      " Header: Country, Uri, Popularity, Title, Artist, Album/Single, Genre, Artist_followers, Explicit, Album, Release_date, Track_number, Tracks_in_album, danceability, energy, key, loudness, mode, speechiness, acoustics, instrumentalness, liveliness, valence, tempo, duration_ms, time_signature, Genre_new, Days_since_release, Released_after_2017, Explicit_false, Explicit_true, album, compilation, single, bolero, boy band, country, dance/electronic, else, funk, hip hop, house, indie, jazz, k-pop, latin, metal, opm, pop, r&b/soul, rap, reggae, reggaeton, rock, trap, syuzhet_norm, bing_norm, afinn_norm, nrc_norm, syuzhet, afinn, nrc, anger, anticipation, disgust, fear, joy, sadness, surprise, trust, negative, positive, n_words, anger_norm, anticipation_norm, disgust_norm, fear_norm, joy_norm, sadness_norm, surprise_norm, trust_norm, negative_norm, positive_norm, anger_norm2, anticipation_norm2, disgust_norm2, fear_norm2, joy_norm2, sadness_norm2, surprise_norm2, trust_norm2, negative_norm2, positive_norm2, negative_bog_jr, positive_bog_jr, Bayes, Negative_Bayes, Neutral_Bayes, Positive_Bayes, LDA_Topic, Celebrate, Desire, Explore, Fun, Hope, Love, Nostalgia, Thug, bing_norm_negative, bing_norm_neutral, bing_norm_positive, Argentina, Australia, Austria, Belgium, Brazil, Canada, Chile, Colombia, Costa Rica, Denmark, Ecuador, Finland, France, Germany, Global, Indonesia, Ireland, Italy, Malaysia, Mexico, Netherlands, New Zealand, Norway, Peru, Philippines, Poland, Portugal, Singapore, Spain, Sweden, Switzerland, Taiwan, Turkey, UK, USA, Popu_max, Top10_dummy, Top50_dummy, Cluster\n",
      " Schema: Country0, Uri, Popularity, Title, Artist, Album/Single, Genre, Artist_followers, Explicit, Album9, Release_date, Track_number, Tracks_in_album, danceability, energy, key, loudness, mode, speechiness, acoustics, instrumentalness, liveliness, valence, tempo, duration_ms, time_signature, Genre_new, Days_since_release, Released_after_2017, Explicit_false, Explicit_true, album31, compilation, single, bolero, boy band, country36, dance/electronic, else, funk, hip hop, house, indie, jazz, k-pop, latin, metal, opm, pop, r&b/soul, rap, reggae, reggaeton, rock, trap, syuzhet_norm, bing_norm, afinn_norm, nrc_norm, syuzhet, afinn, nrc, anger, anticipation, disgust, fear, joy, sadness, surprise, trust, negative, positive, n_words, anger_norm, anticipation_norm, disgust_norm, fear_norm, joy_norm, sadness_norm, surprise_norm, trust_norm, negative_norm, positive_norm, anger_norm2, anticipation_norm2, disgust_norm2, fear_norm2, joy_norm2, sadness_norm2, surprise_norm2, trust_norm2, negative_norm2, positive_norm2, negative_bog_jr, positive_bog_jr, Bayes, Negative_Bayes, Neutral_Bayes, Positive_Bayes, LDA_Topic, Celebrate, Desire, Explore, Fun, Hope, Love, Nostalgia, Thug, bing_norm_negative, bing_norm_neutral, bing_norm_positive, Argentina, Australia, Austria, Belgium, Brazil, Canada, Chile, Colombia, Costa Rica, Denmark, Ecuador, Finland, France, Germany, Global, Indonesia, Ireland, Italy, Malaysia, Mexico, Netherlands, New Zealand, Norway, Peru, Philippines, Poland, Portugal, Singapore, Spain, Sweden, Switzerland, Taiwan, Turkey, UK, USA, Popu_max, Top10_dummy, Top50_dummy, Cluster\n",
      "Expected: Country0 but found: Country\n",
      "CSV file: file:///home/mobile/miniSpark/data/Final%20database.csv\n"
     ]
    },
    {
     "name": "stderr",
     "output_type": "stream",
     "text": [
      "                                                                                \r"
     ]
    },
    {
     "name": "stdout",
     "output_type": "stream",
     "text": [
      "root\n",
      " |-- Country0: string (nullable = true)\n",
      " |-- Uri: string (nullable = true)\n",
      " |-- Popularity: string (nullable = true)\n",
      " |-- Title: string (nullable = true)\n",
      " |-- Artist: string (nullable = true)\n",
      " |-- Album/Single: string (nullable = true)\n",
      " |-- Genre: string (nullable = true)\n",
      " |-- Artist_followers: string (nullable = true)\n",
      " |-- Explicit: string (nullable = true)\n",
      " |-- Album9: string (nullable = true)\n",
      " |-- Release_date: date (nullable = true)\n",
      " |-- Track_number: string (nullable = true)\n",
      " |-- Tracks_in_album: string (nullable = true)\n",
      " |-- danceability: float (nullable = true)\n",
      " |-- energy: float (nullable = true)\n",
      " |-- key: string (nullable = true)\n",
      " |-- loudness: string (nullable = true)\n",
      " |-- mode: string (nullable = true)\n",
      " |-- speechiness: float (nullable = true)\n",
      " |-- acoustics: float (nullable = true)\n",
      " |-- instrumentalness: float (nullable = true)\n",
      " |-- liveliness: float (nullable = true)\n",
      " |-- valence: float (nullable = true)\n",
      " |-- tempo: float (nullable = true)\n",
      " |-- duration_ms: float (nullable = true)\n",
      " |-- time_signature: float (nullable = true)\n",
      " |-- Genre_new: string (nullable = true)\n",
      " |-- Days_since_release: float (nullable = true)\n",
      " |-- Released_after_2017: string (nullable = true)\n",
      " |-- Explicit_false: string (nullable = true)\n",
      " |-- Explicit_true: string (nullable = true)\n",
      " |-- album31: string (nullable = true)\n",
      " |-- compilation: string (nullable = true)\n",
      " |-- single: string (nullable = true)\n",
      " |-- bolero: string (nullable = true)\n",
      " |-- boy band: string (nullable = true)\n",
      " |-- country36: string (nullable = true)\n",
      " |-- dance/electronic: string (nullable = true)\n",
      " |-- else: string (nullable = true)\n",
      " |-- funk: string (nullable = true)\n",
      " |-- hip hop: string (nullable = true)\n",
      " |-- house: string (nullable = true)\n",
      " |-- indie: string (nullable = true)\n",
      " |-- jazz: string (nullable = true)\n",
      " |-- k-pop: string (nullable = true)\n",
      " |-- latin: string (nullable = true)\n",
      " |-- metal: string (nullable = true)\n",
      " |-- opm: string (nullable = true)\n",
      " |-- pop: string (nullable = true)\n",
      " |-- r&b/soul: string (nullable = true)\n",
      " |-- rap: string (nullable = true)\n",
      " |-- reggae: string (nullable = true)\n",
      " |-- reggaeton: string (nullable = true)\n",
      " |-- rock: string (nullable = true)\n",
      " |-- trap: string (nullable = true)\n",
      " |-- syuzhet_norm: string (nullable = true)\n",
      " |-- bing_norm: string (nullable = true)\n",
      " |-- afinn_norm: string (nullable = true)\n",
      " |-- nrc_norm: string (nullable = true)\n",
      " |-- syuzhet: string (nullable = true)\n",
      " |-- bing: string (nullable = true)\n",
      " |-- afinn: string (nullable = true)\n",
      " |-- nrc: string (nullable = true)\n",
      " |-- anger: string (nullable = true)\n",
      " |-- anticipation: string (nullable = true)\n",
      " |-- disgust: string (nullable = true)\n",
      " |-- fear: string (nullable = true)\n",
      " |-- joy: string (nullable = true)\n",
      " |-- sadness: string (nullable = true)\n",
      " |-- surprise: string (nullable = true)\n",
      " |-- trust: string (nullable = true)\n",
      " |-- negative: string (nullable = true)\n",
      " |-- positive: string (nullable = true)\n",
      " |-- n_words: float (nullable = true)\n",
      " |-- anger_norm: string (nullable = true)\n",
      " |-- anticipation_norm: string (nullable = true)\n",
      " |-- disgust_norm: string (nullable = true)\n",
      " |-- fear_norm: string (nullable = true)\n",
      " |-- joy_norm: string (nullable = true)\n",
      " |-- sadness_norm: string (nullable = true)\n",
      " |-- surprise_norm: string (nullable = true)\n",
      " |-- trust_norm: string (nullable = true)\n",
      " |-- negative_norm: string (nullable = true)\n",
      " |-- positive_norm: string (nullable = true)\n",
      " |-- anger_norm2: string (nullable = true)\n",
      " |-- anticipation_norm2: string (nullable = true)\n",
      " |-- disgust_norm2: string (nullable = true)\n",
      " |-- fear_norm2: string (nullable = true)\n",
      " |-- joy_norm2: string (nullable = true)\n",
      " |-- sadness_norm2: string (nullable = true)\n",
      " |-- surprise_norm2: string (nullable = true)\n",
      " |-- trust_norm2: string (nullable = true)\n",
      " |-- negative_norm2: string (nullable = true)\n",
      " |-- positive_norm2: string (nullable = true)\n",
      " |-- negative_bog_jr: string (nullable = true)\n",
      " |-- positive_bog_jr: string (nullable = true)\n",
      " |-- Bayes: string (nullable = true)\n",
      " |-- Negative_Bayes: string (nullable = true)\n",
      " |-- Neutral_Bayes: string (nullable = true)\n",
      " |-- Positive_Bayes: string (nullable = true)\n",
      " |-- LDA_Topic: string (nullable = true)\n",
      " |-- Celebrate: string (nullable = true)\n",
      " |-- Desire: string (nullable = true)\n",
      " |-- Explore: string (nullable = true)\n",
      " |-- Fun: string (nullable = true)\n",
      " |-- Hope: string (nullable = true)\n",
      " |-- Love: string (nullable = true)\n",
      " |-- Nostalgia: string (nullable = true)\n",
      " |-- Thug: string (nullable = true)\n",
      " |-- bing_norm_negative: string (nullable = true)\n",
      " |-- bing_norm_neutral: string (nullable = true)\n",
      " |-- bing_norm_positive: string (nullable = true)\n",
      " |-- Argentina: string (nullable = true)\n",
      " |-- Australia: string (nullable = true)\n",
      " |-- Austria: string (nullable = true)\n",
      " |-- Belgium: string (nullable = true)\n",
      " |-- Brazil: string (nullable = true)\n",
      " |-- Canada: string (nullable = true)\n",
      " |-- Chile: string (nullable = true)\n",
      " |-- Colombia: string (nullable = true)\n",
      " |-- Costa Rica: string (nullable = true)\n",
      " |-- Denmark: string (nullable = true)\n",
      " |-- Ecuador: string (nullable = true)\n",
      " |-- Finland: string (nullable = true)\n",
      " |-- France: string (nullable = true)\n",
      " |-- Germany: string (nullable = true)\n",
      " |-- Global: string (nullable = true)\n",
      " |-- Indonesia: string (nullable = true)\n",
      " |-- Ireland: string (nullable = true)\n",
      " |-- Italy: string (nullable = true)\n",
      " |-- Malaysia: string (nullable = true)\n",
      " |-- Mexico: string (nullable = true)\n",
      " |-- Netherlands: string (nullable = true)\n",
      " |-- New Zealand: string (nullable = true)\n",
      " |-- Norway: string (nullable = true)\n",
      " |-- Peru: string (nullable = true)\n",
      " |-- Philippines: string (nullable = true)\n",
      " |-- Poland: string (nullable = true)\n",
      " |-- Portugal: string (nullable = true)\n",
      " |-- Singapore: string (nullable = true)\n",
      " |-- Spain: string (nullable = true)\n",
      " |-- Sweden: string (nullable = true)\n",
      " |-- Switzerland: string (nullable = true)\n",
      " |-- Taiwan: string (nullable = true)\n",
      " |-- Turkey: string (nullable = true)\n",
      " |-- UK: string (nullable = true)\n",
      " |-- USA: string (nullable = true)\n",
      " |-- Popu_max: string (nullable = true)\n",
      " |-- Top10_dummy: string (nullable = true)\n",
      " |-- Top50_dummy: string (nullable = true)\n",
      " |-- Cluster: string (nullable = true)\n",
      "\n"
     ]
    }
   ],
   "source": [
    "df = spark.read.option(\"header\", True).csv(CSV_FILE)\n",
    "df = df.withColumn(\"Release_date\", F.to_date(\"Release_date\", \"yyyy-MM-dd\"))\n",
    "numerical_features = ['danceability', 'energy', 'instrumentalness', 'valence', 'liveliness', 'speechiness', 'acoustics',\n",
    "                      'instrumentalness', 'tempo', 'duration_ms', \n",
    "                      'time_signature', 'Days_since_release', 'n_words']\n",
    "\n",
    "for c in numerical_features:\n",
    "    df = df.withColumn(c, df[c].cast(\"float\"))\n",
    "    \n",
    "cols_to_drop = ['syuzhet_norm', 'bing_norm', 'afinn_norm', 'nrc_norm', 'syuzhet', 'bing'] \n",
    "for c in cols_to_drop:\n",
    "    df.drop(c).collect()\n",
    "    \n",
    "df.printSchema()\n",
    "# df.show(n=1, truncate=False, vertical=True)"
   ]
  },
  {
   "cell_type": "markdown",
   "id": "fca73d6a",
   "metadata": {},
   "source": [
    "##  EDA"
   ]
  },
  {
   "cell_type": "code",
   "execution_count": 18,
   "id": "a66bba62",
   "metadata": {},
   "outputs": [
    {
     "name": "stderr",
     "output_type": "stream",
     "text": [
      "                                                                                \r"
     ]
    },
    {
     "data": {
      "text/plain": [
       "56241"
      ]
     },
     "execution_count": 18,
     "metadata": {},
     "output_type": "execute_result"
    }
   ],
   "source": [
    "# data set 안에 고유한 노래 수\n",
    "df.select([\"Title\",\"Artist\"]).distinct().count()"
   ]
  },
  {
   "cell_type": "code",
   "execution_count": 19,
   "id": "22780aa9",
   "metadata": {},
   "outputs": [
    {
     "name": "stdout",
     "output_type": "stream",
     "text": [
      "Dataset Shape using spark syntax:\n",
      " (170633, 151)\n"
     ]
    },
    {
     "name": "stderr",
     "output_type": "stream",
     "text": [
      "\r",
      "[Stage 13:=============================>                            (1 + 1) / 2]\r",
      "\r",
      "                                                                                \r"
     ]
    }
   ],
   "source": [
    "print(\"Dataset Shape using spark syntax:\\n\",(df.count(), len(df.columns)))"
   ]
  },
  {
   "cell_type": "code",
   "execution_count": 20,
   "id": "95cd2bac",
   "metadata": {},
   "outputs": [
    {
     "name": "stderr",
     "output_type": "stream",
     "text": [
      "                                                                                \r"
     ]
    },
    {
     "data": {
      "application/vnd.plotly.v1+json": {
       "config": {
        "plotlyServerURL": "https://plot.ly"
       },
       "data": [
        {
         "alignmentgroup": "True",
         "hovertemplate": "count=%{x}<br>Artist=%{y}<extra></extra>",
         "legendgroup": "",
         "marker": {
          "color": "#636efa",
          "pattern": {
           "shape": ""
          }
         },
         "name": "",
         "offsetgroup": "",
         "orientation": "h",
         "showlegend": false,
         "textposition": "auto",
         "type": "bar",
         "x": [
          1487,
          1473,
          1376,
          1285,
          989,
          911,
          881,
          798,
          786,
          777
         ],
         "xaxis": "x",
         "y": [
          "Ariana Grande",
          "Drake",
          "BTS",
          "Taylor Swift",
          "XXXTENTACION",
          "Ed Sheeran",
          "The Weeknd",
          "Linkin Park",
          "Eminem",
          "Billie Eilish"
         ],
         "yaxis": "y"
        }
       ],
       "layout": {
        "barmode": "relative",
        "legend": {
         "tracegroupgap": 0
        },
        "template": {
         "data": {
          "bar": [
           {
            "error_x": {
             "color": "#2a3f5f"
            },
            "error_y": {
             "color": "#2a3f5f"
            },
            "marker": {
             "line": {
              "color": "#E5ECF6",
              "width": 0.5
             },
             "pattern": {
              "fillmode": "overlay",
              "size": 10,
              "solidity": 0.2
             }
            },
            "type": "bar"
           }
          ],
          "barpolar": [
           {
            "marker": {
             "line": {
              "color": "#E5ECF6",
              "width": 0.5
             },
             "pattern": {
              "fillmode": "overlay",
              "size": 10,
              "solidity": 0.2
             }
            },
            "type": "barpolar"
           }
          ],
          "carpet": [
           {
            "aaxis": {
             "endlinecolor": "#2a3f5f",
             "gridcolor": "white",
             "linecolor": "white",
             "minorgridcolor": "white",
             "startlinecolor": "#2a3f5f"
            },
            "baxis": {
             "endlinecolor": "#2a3f5f",
             "gridcolor": "white",
             "linecolor": "white",
             "minorgridcolor": "white",
             "startlinecolor": "#2a3f5f"
            },
            "type": "carpet"
           }
          ],
          "choropleth": [
           {
            "colorbar": {
             "outlinewidth": 0,
             "ticks": ""
            },
            "type": "choropleth"
           }
          ],
          "contour": [
           {
            "colorbar": {
             "outlinewidth": 0,
             "ticks": ""
            },
            "colorscale": [
             [
              0,
              "#0d0887"
             ],
             [
              0.1111111111111111,
              "#46039f"
             ],
             [
              0.2222222222222222,
              "#7201a8"
             ],
             [
              0.3333333333333333,
              "#9c179e"
             ],
             [
              0.4444444444444444,
              "#bd3786"
             ],
             [
              0.5555555555555556,
              "#d8576b"
             ],
             [
              0.6666666666666666,
              "#ed7953"
             ],
             [
              0.7777777777777778,
              "#fb9f3a"
             ],
             [
              0.8888888888888888,
              "#fdca26"
             ],
             [
              1,
              "#f0f921"
             ]
            ],
            "type": "contour"
           }
          ],
          "contourcarpet": [
           {
            "colorbar": {
             "outlinewidth": 0,
             "ticks": ""
            },
            "type": "contourcarpet"
           }
          ],
          "heatmap": [
           {
            "colorbar": {
             "outlinewidth": 0,
             "ticks": ""
            },
            "colorscale": [
             [
              0,
              "#0d0887"
             ],
             [
              0.1111111111111111,
              "#46039f"
             ],
             [
              0.2222222222222222,
              "#7201a8"
             ],
             [
              0.3333333333333333,
              "#9c179e"
             ],
             [
              0.4444444444444444,
              "#bd3786"
             ],
             [
              0.5555555555555556,
              "#d8576b"
             ],
             [
              0.6666666666666666,
              "#ed7953"
             ],
             [
              0.7777777777777778,
              "#fb9f3a"
             ],
             [
              0.8888888888888888,
              "#fdca26"
             ],
             [
              1,
              "#f0f921"
             ]
            ],
            "type": "heatmap"
           }
          ],
          "heatmapgl": [
           {
            "colorbar": {
             "outlinewidth": 0,
             "ticks": ""
            },
            "colorscale": [
             [
              0,
              "#0d0887"
             ],
             [
              0.1111111111111111,
              "#46039f"
             ],
             [
              0.2222222222222222,
              "#7201a8"
             ],
             [
              0.3333333333333333,
              "#9c179e"
             ],
             [
              0.4444444444444444,
              "#bd3786"
             ],
             [
              0.5555555555555556,
              "#d8576b"
             ],
             [
              0.6666666666666666,
              "#ed7953"
             ],
             [
              0.7777777777777778,
              "#fb9f3a"
             ],
             [
              0.8888888888888888,
              "#fdca26"
             ],
             [
              1,
              "#f0f921"
             ]
            ],
            "type": "heatmapgl"
           }
          ],
          "histogram": [
           {
            "marker": {
             "pattern": {
              "fillmode": "overlay",
              "size": 10,
              "solidity": 0.2
             }
            },
            "type": "histogram"
           }
          ],
          "histogram2d": [
           {
            "colorbar": {
             "outlinewidth": 0,
             "ticks": ""
            },
            "colorscale": [
             [
              0,
              "#0d0887"
             ],
             [
              0.1111111111111111,
              "#46039f"
             ],
             [
              0.2222222222222222,
              "#7201a8"
             ],
             [
              0.3333333333333333,
              "#9c179e"
             ],
             [
              0.4444444444444444,
              "#bd3786"
             ],
             [
              0.5555555555555556,
              "#d8576b"
             ],
             [
              0.6666666666666666,
              "#ed7953"
             ],
             [
              0.7777777777777778,
              "#fb9f3a"
             ],
             [
              0.8888888888888888,
              "#fdca26"
             ],
             [
              1,
              "#f0f921"
             ]
            ],
            "type": "histogram2d"
           }
          ],
          "histogram2dcontour": [
           {
            "colorbar": {
             "outlinewidth": 0,
             "ticks": ""
            },
            "colorscale": [
             [
              0,
              "#0d0887"
             ],
             [
              0.1111111111111111,
              "#46039f"
             ],
             [
              0.2222222222222222,
              "#7201a8"
             ],
             [
              0.3333333333333333,
              "#9c179e"
             ],
             [
              0.4444444444444444,
              "#bd3786"
             ],
             [
              0.5555555555555556,
              "#d8576b"
             ],
             [
              0.6666666666666666,
              "#ed7953"
             ],
             [
              0.7777777777777778,
              "#fb9f3a"
             ],
             [
              0.8888888888888888,
              "#fdca26"
             ],
             [
              1,
              "#f0f921"
             ]
            ],
            "type": "histogram2dcontour"
           }
          ],
          "mesh3d": [
           {
            "colorbar": {
             "outlinewidth": 0,
             "ticks": ""
            },
            "type": "mesh3d"
           }
          ],
          "parcoords": [
           {
            "line": {
             "colorbar": {
              "outlinewidth": 0,
              "ticks": ""
             }
            },
            "type": "parcoords"
           }
          ],
          "pie": [
           {
            "automargin": true,
            "type": "pie"
           }
          ],
          "scatter": [
           {
            "fillpattern": {
             "fillmode": "overlay",
             "size": 10,
             "solidity": 0.2
            },
            "type": "scatter"
           }
          ],
          "scatter3d": [
           {
            "line": {
             "colorbar": {
              "outlinewidth": 0,
              "ticks": ""
             }
            },
            "marker": {
             "colorbar": {
              "outlinewidth": 0,
              "ticks": ""
             }
            },
            "type": "scatter3d"
           }
          ],
          "scattercarpet": [
           {
            "marker": {
             "colorbar": {
              "outlinewidth": 0,
              "ticks": ""
             }
            },
            "type": "scattercarpet"
           }
          ],
          "scattergeo": [
           {
            "marker": {
             "colorbar": {
              "outlinewidth": 0,
              "ticks": ""
             }
            },
            "type": "scattergeo"
           }
          ],
          "scattergl": [
           {
            "marker": {
             "colorbar": {
              "outlinewidth": 0,
              "ticks": ""
             }
            },
            "type": "scattergl"
           }
          ],
          "scattermapbox": [
           {
            "marker": {
             "colorbar": {
              "outlinewidth": 0,
              "ticks": ""
             }
            },
            "type": "scattermapbox"
           }
          ],
          "scatterpolar": [
           {
            "marker": {
             "colorbar": {
              "outlinewidth": 0,
              "ticks": ""
             }
            },
            "type": "scatterpolar"
           }
          ],
          "scatterpolargl": [
           {
            "marker": {
             "colorbar": {
              "outlinewidth": 0,
              "ticks": ""
             }
            },
            "type": "scatterpolargl"
           }
          ],
          "scatterternary": [
           {
            "marker": {
             "colorbar": {
              "outlinewidth": 0,
              "ticks": ""
             }
            },
            "type": "scatterternary"
           }
          ],
          "surface": [
           {
            "colorbar": {
             "outlinewidth": 0,
             "ticks": ""
            },
            "colorscale": [
             [
              0,
              "#0d0887"
             ],
             [
              0.1111111111111111,
              "#46039f"
             ],
             [
              0.2222222222222222,
              "#7201a8"
             ],
             [
              0.3333333333333333,
              "#9c179e"
             ],
             [
              0.4444444444444444,
              "#bd3786"
             ],
             [
              0.5555555555555556,
              "#d8576b"
             ],
             [
              0.6666666666666666,
              "#ed7953"
             ],
             [
              0.7777777777777778,
              "#fb9f3a"
             ],
             [
              0.8888888888888888,
              "#fdca26"
             ],
             [
              1,
              "#f0f921"
             ]
            ],
            "type": "surface"
           }
          ],
          "table": [
           {
            "cells": {
             "fill": {
              "color": "#EBF0F8"
             },
             "line": {
              "color": "white"
             }
            },
            "header": {
             "fill": {
              "color": "#C8D4E3"
             },
             "line": {
              "color": "white"
             }
            },
            "type": "table"
           }
          ]
         },
         "layout": {
          "annotationdefaults": {
           "arrowcolor": "#2a3f5f",
           "arrowhead": 0,
           "arrowwidth": 1
          },
          "autotypenumbers": "strict",
          "coloraxis": {
           "colorbar": {
            "outlinewidth": 0,
            "ticks": ""
           }
          },
          "colorscale": {
           "diverging": [
            [
             0,
             "#8e0152"
            ],
            [
             0.1,
             "#c51b7d"
            ],
            [
             0.2,
             "#de77ae"
            ],
            [
             0.3,
             "#f1b6da"
            ],
            [
             0.4,
             "#fde0ef"
            ],
            [
             0.5,
             "#f7f7f7"
            ],
            [
             0.6,
             "#e6f5d0"
            ],
            [
             0.7,
             "#b8e186"
            ],
            [
             0.8,
             "#7fbc41"
            ],
            [
             0.9,
             "#4d9221"
            ],
            [
             1,
             "#276419"
            ]
           ],
           "sequential": [
            [
             0,
             "#0d0887"
            ],
            [
             0.1111111111111111,
             "#46039f"
            ],
            [
             0.2222222222222222,
             "#7201a8"
            ],
            [
             0.3333333333333333,
             "#9c179e"
            ],
            [
             0.4444444444444444,
             "#bd3786"
            ],
            [
             0.5555555555555556,
             "#d8576b"
            ],
            [
             0.6666666666666666,
             "#ed7953"
            ],
            [
             0.7777777777777778,
             "#fb9f3a"
            ],
            [
             0.8888888888888888,
             "#fdca26"
            ],
            [
             1,
             "#f0f921"
            ]
           ],
           "sequentialminus": [
            [
             0,
             "#0d0887"
            ],
            [
             0.1111111111111111,
             "#46039f"
            ],
            [
             0.2222222222222222,
             "#7201a8"
            ],
            [
             0.3333333333333333,
             "#9c179e"
            ],
            [
             0.4444444444444444,
             "#bd3786"
            ],
            [
             0.5555555555555556,
             "#d8576b"
            ],
            [
             0.6666666666666666,
             "#ed7953"
            ],
            [
             0.7777777777777778,
             "#fb9f3a"
            ],
            [
             0.8888888888888888,
             "#fdca26"
            ],
            [
             1,
             "#f0f921"
            ]
           ]
          },
          "colorway": [
           "#636efa",
           "#EF553B",
           "#00cc96",
           "#ab63fa",
           "#FFA15A",
           "#19d3f3",
           "#FF6692",
           "#B6E880",
           "#FF97FF",
           "#FECB52"
          ],
          "font": {
           "color": "#2a3f5f"
          },
          "geo": {
           "bgcolor": "white",
           "lakecolor": "white",
           "landcolor": "#E5ECF6",
           "showlakes": true,
           "showland": true,
           "subunitcolor": "white"
          },
          "hoverlabel": {
           "align": "left"
          },
          "hovermode": "closest",
          "mapbox": {
           "style": "light"
          },
          "paper_bgcolor": "white",
          "plot_bgcolor": "#E5ECF6",
          "polar": {
           "angularaxis": {
            "gridcolor": "white",
            "linecolor": "white",
            "ticks": ""
           },
           "bgcolor": "#E5ECF6",
           "radialaxis": {
            "gridcolor": "white",
            "linecolor": "white",
            "ticks": ""
           }
          },
          "scene": {
           "xaxis": {
            "backgroundcolor": "#E5ECF6",
            "gridcolor": "white",
            "gridwidth": 2,
            "linecolor": "white",
            "showbackground": true,
            "ticks": "",
            "zerolinecolor": "white"
           },
           "yaxis": {
            "backgroundcolor": "#E5ECF6",
            "gridcolor": "white",
            "gridwidth": 2,
            "linecolor": "white",
            "showbackground": true,
            "ticks": "",
            "zerolinecolor": "white"
           },
           "zaxis": {
            "backgroundcolor": "#E5ECF6",
            "gridcolor": "white",
            "gridwidth": 2,
            "linecolor": "white",
            "showbackground": true,
            "ticks": "",
            "zerolinecolor": "white"
           }
          },
          "shapedefaults": {
           "line": {
            "color": "#2a3f5f"
           }
          },
          "ternary": {
           "aaxis": {
            "gridcolor": "white",
            "linecolor": "white",
            "ticks": ""
           },
           "baxis": {
            "gridcolor": "white",
            "linecolor": "white",
            "ticks": ""
           },
           "bgcolor": "#E5ECF6",
           "caxis": {
            "gridcolor": "white",
            "linecolor": "white",
            "ticks": ""
           }
          },
          "title": {
           "x": 0.05
          },
          "xaxis": {
           "automargin": true,
           "gridcolor": "white",
           "linecolor": "white",
           "ticks": "",
           "title": {
            "standoff": 15
           },
           "zerolinecolor": "white",
           "zerolinewidth": 2
          },
          "yaxis": {
           "automargin": true,
           "gridcolor": "white",
           "linecolor": "white",
           "ticks": "",
           "title": {
            "standoff": 15
           },
           "zerolinecolor": "white",
           "zerolinewidth": 2
          }
         }
        },
        "title": {
         "text": "Most Prolific Artists"
        },
        "xaxis": {
         "anchor": "y",
         "domain": [
          0,
          1
         ],
         "title": {
          "text": "count"
         }
        },
        "yaxis": {
         "anchor": "x",
         "domain": [
          0,
          1
         ],
         "title": {
          "text": "Artist"
         }
        }
       }
      },
      "text/html": [
       "<div>                            <div id=\"3138c0a1-7d54-4f7b-91a3-e7d2e7a0ffc8\" class=\"plotly-graph-div\" style=\"height:525px; width:100%;\"></div>            <script type=\"text/javascript\">                require([\"plotly\"], function(Plotly) {                    window.PLOTLYENV=window.PLOTLYENV || {};                                    if (document.getElementById(\"3138c0a1-7d54-4f7b-91a3-e7d2e7a0ffc8\")) {                    Plotly.newPlot(                        \"3138c0a1-7d54-4f7b-91a3-e7d2e7a0ffc8\",                        [{\"alignmentgroup\":\"True\",\"hovertemplate\":\"count=%{x}<br>Artist=%{y}<extra></extra>\",\"legendgroup\":\"\",\"marker\":{\"color\":\"#636efa\",\"pattern\":{\"shape\":\"\"}},\"name\":\"\",\"offsetgroup\":\"\",\"orientation\":\"h\",\"showlegend\":false,\"textposition\":\"auto\",\"x\":[1487,1473,1376,1285,989,911,881,798,786,777],\"xaxis\":\"x\",\"y\":[\"Ariana Grande\",\"Drake\",\"BTS\",\"Taylor Swift\",\"XXXTENTACION\",\"Ed Sheeran\",\"The Weeknd\",\"Linkin Park\",\"Eminem\",\"Billie Eilish\"],\"yaxis\":\"y\",\"type\":\"bar\"}],                        {\"template\":{\"data\":{\"histogram2dcontour\":[{\"type\":\"histogram2dcontour\",\"colorbar\":{\"outlinewidth\":0,\"ticks\":\"\"},\"colorscale\":[[0.0,\"#0d0887\"],[0.1111111111111111,\"#46039f\"],[0.2222222222222222,\"#7201a8\"],[0.3333333333333333,\"#9c179e\"],[0.4444444444444444,\"#bd3786\"],[0.5555555555555556,\"#d8576b\"],[0.6666666666666666,\"#ed7953\"],[0.7777777777777778,\"#fb9f3a\"],[0.8888888888888888,\"#fdca26\"],[1.0,\"#f0f921\"]]}],\"choropleth\":[{\"type\":\"choropleth\",\"colorbar\":{\"outlinewidth\":0,\"ticks\":\"\"}}],\"histogram2d\":[{\"type\":\"histogram2d\",\"colorbar\":{\"outlinewidth\":0,\"ticks\":\"\"},\"colorscale\":[[0.0,\"#0d0887\"],[0.1111111111111111,\"#46039f\"],[0.2222222222222222,\"#7201a8\"],[0.3333333333333333,\"#9c179e\"],[0.4444444444444444,\"#bd3786\"],[0.5555555555555556,\"#d8576b\"],[0.6666666666666666,\"#ed7953\"],[0.7777777777777778,\"#fb9f3a\"],[0.8888888888888888,\"#fdca26\"],[1.0,\"#f0f921\"]]}],\"heatmap\":[{\"type\":\"heatmap\",\"colorbar\":{\"outlinewidth\":0,\"ticks\":\"\"},\"colorscale\":[[0.0,\"#0d0887\"],[0.1111111111111111,\"#46039f\"],[0.2222222222222222,\"#7201a8\"],[0.3333333333333333,\"#9c179e\"],[0.4444444444444444,\"#bd3786\"],[0.5555555555555556,\"#d8576b\"],[0.6666666666666666,\"#ed7953\"],[0.7777777777777778,\"#fb9f3a\"],[0.8888888888888888,\"#fdca26\"],[1.0,\"#f0f921\"]]}],\"heatmapgl\":[{\"type\":\"heatmapgl\",\"colorbar\":{\"outlinewidth\":0,\"ticks\":\"\"},\"colorscale\":[[0.0,\"#0d0887\"],[0.1111111111111111,\"#46039f\"],[0.2222222222222222,\"#7201a8\"],[0.3333333333333333,\"#9c179e\"],[0.4444444444444444,\"#bd3786\"],[0.5555555555555556,\"#d8576b\"],[0.6666666666666666,\"#ed7953\"],[0.7777777777777778,\"#fb9f3a\"],[0.8888888888888888,\"#fdca26\"],[1.0,\"#f0f921\"]]}],\"contourcarpet\":[{\"type\":\"contourcarpet\",\"colorbar\":{\"outlinewidth\":0,\"ticks\":\"\"}}],\"contour\":[{\"type\":\"contour\",\"colorbar\":{\"outlinewidth\":0,\"ticks\":\"\"},\"colorscale\":[[0.0,\"#0d0887\"],[0.1111111111111111,\"#46039f\"],[0.2222222222222222,\"#7201a8\"],[0.3333333333333333,\"#9c179e\"],[0.4444444444444444,\"#bd3786\"],[0.5555555555555556,\"#d8576b\"],[0.6666666666666666,\"#ed7953\"],[0.7777777777777778,\"#fb9f3a\"],[0.8888888888888888,\"#fdca26\"],[1.0,\"#f0f921\"]]}],\"surface\":[{\"type\":\"surface\",\"colorbar\":{\"outlinewidth\":0,\"ticks\":\"\"},\"colorscale\":[[0.0,\"#0d0887\"],[0.1111111111111111,\"#46039f\"],[0.2222222222222222,\"#7201a8\"],[0.3333333333333333,\"#9c179e\"],[0.4444444444444444,\"#bd3786\"],[0.5555555555555556,\"#d8576b\"],[0.6666666666666666,\"#ed7953\"],[0.7777777777777778,\"#fb9f3a\"],[0.8888888888888888,\"#fdca26\"],[1.0,\"#f0f921\"]]}],\"mesh3d\":[{\"type\":\"mesh3d\",\"colorbar\":{\"outlinewidth\":0,\"ticks\":\"\"}}],\"scatter\":[{\"fillpattern\":{\"fillmode\":\"overlay\",\"size\":10,\"solidity\":0.2},\"type\":\"scatter\"}],\"parcoords\":[{\"type\":\"parcoords\",\"line\":{\"colorbar\":{\"outlinewidth\":0,\"ticks\":\"\"}}}],\"scatterpolargl\":[{\"type\":\"scatterpolargl\",\"marker\":{\"colorbar\":{\"outlinewidth\":0,\"ticks\":\"\"}}}],\"bar\":[{\"error_x\":{\"color\":\"#2a3f5f\"},\"error_y\":{\"color\":\"#2a3f5f\"},\"marker\":{\"line\":{\"color\":\"#E5ECF6\",\"width\":0.5},\"pattern\":{\"fillmode\":\"overlay\",\"size\":10,\"solidity\":0.2}},\"type\":\"bar\"}],\"scattergeo\":[{\"type\":\"scattergeo\",\"marker\":{\"colorbar\":{\"outlinewidth\":0,\"ticks\":\"\"}}}],\"scatterpolar\":[{\"type\":\"scatterpolar\",\"marker\":{\"colorbar\":{\"outlinewidth\":0,\"ticks\":\"\"}}}],\"histogram\":[{\"marker\":{\"pattern\":{\"fillmode\":\"overlay\",\"size\":10,\"solidity\":0.2}},\"type\":\"histogram\"}],\"scattergl\":[{\"type\":\"scattergl\",\"marker\":{\"colorbar\":{\"outlinewidth\":0,\"ticks\":\"\"}}}],\"scatter3d\":[{\"type\":\"scatter3d\",\"line\":{\"colorbar\":{\"outlinewidth\":0,\"ticks\":\"\"}},\"marker\":{\"colorbar\":{\"outlinewidth\":0,\"ticks\":\"\"}}}],\"scattermapbox\":[{\"type\":\"scattermapbox\",\"marker\":{\"colorbar\":{\"outlinewidth\":0,\"ticks\":\"\"}}}],\"scatterternary\":[{\"type\":\"scatterternary\",\"marker\":{\"colorbar\":{\"outlinewidth\":0,\"ticks\":\"\"}}}],\"scattercarpet\":[{\"type\":\"scattercarpet\",\"marker\":{\"colorbar\":{\"outlinewidth\":0,\"ticks\":\"\"}}}],\"carpet\":[{\"aaxis\":{\"endlinecolor\":\"#2a3f5f\",\"gridcolor\":\"white\",\"linecolor\":\"white\",\"minorgridcolor\":\"white\",\"startlinecolor\":\"#2a3f5f\"},\"baxis\":{\"endlinecolor\":\"#2a3f5f\",\"gridcolor\":\"white\",\"linecolor\":\"white\",\"minorgridcolor\":\"white\",\"startlinecolor\":\"#2a3f5f\"},\"type\":\"carpet\"}],\"table\":[{\"cells\":{\"fill\":{\"color\":\"#EBF0F8\"},\"line\":{\"color\":\"white\"}},\"header\":{\"fill\":{\"color\":\"#C8D4E3\"},\"line\":{\"color\":\"white\"}},\"type\":\"table\"}],\"barpolar\":[{\"marker\":{\"line\":{\"color\":\"#E5ECF6\",\"width\":0.5},\"pattern\":{\"fillmode\":\"overlay\",\"size\":10,\"solidity\":0.2}},\"type\":\"barpolar\"}],\"pie\":[{\"automargin\":true,\"type\":\"pie\"}]},\"layout\":{\"autotypenumbers\":\"strict\",\"colorway\":[\"#636efa\",\"#EF553B\",\"#00cc96\",\"#ab63fa\",\"#FFA15A\",\"#19d3f3\",\"#FF6692\",\"#B6E880\",\"#FF97FF\",\"#FECB52\"],\"font\":{\"color\":\"#2a3f5f\"},\"hovermode\":\"closest\",\"hoverlabel\":{\"align\":\"left\"},\"paper_bgcolor\":\"white\",\"plot_bgcolor\":\"#E5ECF6\",\"polar\":{\"bgcolor\":\"#E5ECF6\",\"angularaxis\":{\"gridcolor\":\"white\",\"linecolor\":\"white\",\"ticks\":\"\"},\"radialaxis\":{\"gridcolor\":\"white\",\"linecolor\":\"white\",\"ticks\":\"\"}},\"ternary\":{\"bgcolor\":\"#E5ECF6\",\"aaxis\":{\"gridcolor\":\"white\",\"linecolor\":\"white\",\"ticks\":\"\"},\"baxis\":{\"gridcolor\":\"white\",\"linecolor\":\"white\",\"ticks\":\"\"},\"caxis\":{\"gridcolor\":\"white\",\"linecolor\":\"white\",\"ticks\":\"\"}},\"coloraxis\":{\"colorbar\":{\"outlinewidth\":0,\"ticks\":\"\"}},\"colorscale\":{\"sequential\":[[0.0,\"#0d0887\"],[0.1111111111111111,\"#46039f\"],[0.2222222222222222,\"#7201a8\"],[0.3333333333333333,\"#9c179e\"],[0.4444444444444444,\"#bd3786\"],[0.5555555555555556,\"#d8576b\"],[0.6666666666666666,\"#ed7953\"],[0.7777777777777778,\"#fb9f3a\"],[0.8888888888888888,\"#fdca26\"],[1.0,\"#f0f921\"]],\"sequentialminus\":[[0.0,\"#0d0887\"],[0.1111111111111111,\"#46039f\"],[0.2222222222222222,\"#7201a8\"],[0.3333333333333333,\"#9c179e\"],[0.4444444444444444,\"#bd3786\"],[0.5555555555555556,\"#d8576b\"],[0.6666666666666666,\"#ed7953\"],[0.7777777777777778,\"#fb9f3a\"],[0.8888888888888888,\"#fdca26\"],[1.0,\"#f0f921\"]],\"diverging\":[[0,\"#8e0152\"],[0.1,\"#c51b7d\"],[0.2,\"#de77ae\"],[0.3,\"#f1b6da\"],[0.4,\"#fde0ef\"],[0.5,\"#f7f7f7\"],[0.6,\"#e6f5d0\"],[0.7,\"#b8e186\"],[0.8,\"#7fbc41\"],[0.9,\"#4d9221\"],[1,\"#276419\"]]},\"xaxis\":{\"gridcolor\":\"white\",\"linecolor\":\"white\",\"ticks\":\"\",\"title\":{\"standoff\":15},\"zerolinecolor\":\"white\",\"automargin\":true,\"zerolinewidth\":2},\"yaxis\":{\"gridcolor\":\"white\",\"linecolor\":\"white\",\"ticks\":\"\",\"title\":{\"standoff\":15},\"zerolinecolor\":\"white\",\"automargin\":true,\"zerolinewidth\":2},\"scene\":{\"xaxis\":{\"backgroundcolor\":\"#E5ECF6\",\"gridcolor\":\"white\",\"linecolor\":\"white\",\"showbackground\":true,\"ticks\":\"\",\"zerolinecolor\":\"white\",\"gridwidth\":2},\"yaxis\":{\"backgroundcolor\":\"#E5ECF6\",\"gridcolor\":\"white\",\"linecolor\":\"white\",\"showbackground\":true,\"ticks\":\"\",\"zerolinecolor\":\"white\",\"gridwidth\":2},\"zaxis\":{\"backgroundcolor\":\"#E5ECF6\",\"gridcolor\":\"white\",\"linecolor\":\"white\",\"showbackground\":true,\"ticks\":\"\",\"zerolinecolor\":\"white\",\"gridwidth\":2}},\"shapedefaults\":{\"line\":{\"color\":\"#2a3f5f\"}},\"annotationdefaults\":{\"arrowcolor\":\"#2a3f5f\",\"arrowhead\":0,\"arrowwidth\":1},\"geo\":{\"bgcolor\":\"white\",\"landcolor\":\"#E5ECF6\",\"subunitcolor\":\"white\",\"showland\":true,\"showlakes\":true,\"lakecolor\":\"white\"},\"title\":{\"x\":0.05},\"mapbox\":{\"style\":\"light\"}}},\"xaxis\":{\"anchor\":\"y\",\"domain\":[0.0,1.0],\"title\":{\"text\":\"count\"}},\"yaxis\":{\"anchor\":\"x\",\"domain\":[0.0,1.0],\"title\":{\"text\":\"Artist\"}},\"legend\":{\"tracegroupgap\":0},\"title\":{\"text\":\"Most Prolific Artists\"},\"barmode\":\"relative\"},                        {\"responsive\": true}                    ).then(function(){\n",
       "                            \n",
       "var gd = document.getElementById('3138c0a1-7d54-4f7b-91a3-e7d2e7a0ffc8');\n",
       "var x = new MutationObserver(function (mutations, observer) {{\n",
       "        var display = window.getComputedStyle(gd).display;\n",
       "        if (!display || display === 'none') {{\n",
       "            console.log([gd, 'removed!']);\n",
       "            Plotly.purge(gd);\n",
       "            observer.disconnect();\n",
       "        }}\n",
       "}});\n",
       "\n",
       "// Listen for the removal of the full notebook cells\n",
       "var notebookContainer = gd.closest('#notebook-container');\n",
       "if (notebookContainer) {{\n",
       "    x.observe(notebookContainer, {childList: true});\n",
       "}}\n",
       "\n",
       "// Listen for the clearing of the current output cell\n",
       "var outputEl = gd.closest('.output');\n",
       "if (outputEl) {{\n",
       "    x.observe(outputEl, {childList: true});\n",
       "}}\n",
       "\n",
       "                        })                };                });            </script>        </div>"
      ]
     },
     "metadata": {},
     "output_type": "display_data"
    }
   ],
   "source": [
    "# 지난 3년 동안 스포티파이에서 하루에 가장 많이 재생된 상위 200위 안에 든 노래\n",
    "result_df = (df.groupBy(\"Artist\")\n",
    "               .count()\n",
    "               .orderBy(\"count\", ascending=False)\n",
    "               .limit(10)\n",
    "               .toPandas()\n",
    "            )\n",
    "px.bar(result_df, y='Artist', x='count', title='Most Prolific Artists')"
   ]
  },
  {
   "cell_type": "code",
   "execution_count": 21,
   "id": "8bc7f03f",
   "metadata": {},
   "outputs": [
    {
     "data": {
      "image/svg+xml": [
       "<?xml version=\"1.0\" encoding=\"utf-8\" standalone=\"no\"?>\n",
       "<!DOCTYPE svg PUBLIC \"-//W3C//DTD SVG 1.1//EN\"\n",
       "  \"http://www.w3.org/Graphics/SVG/1.1/DTD/svg11.dtd\">\n",
       "<svg xmlns:xlink=\"http://www.w3.org/1999/xlink\" width=\"469.765312pt\" height=\"325.986375pt\" viewBox=\"0 0 469.765312 325.986375\" xmlns=\"http://www.w3.org/2000/svg\" version=\"1.1\">\n",
       " <metadata>\n",
       "  <rdf:RDF xmlns:dc=\"http://purl.org/dc/elements/1.1/\" xmlns:cc=\"http://creativecommons.org/ns#\" xmlns:rdf=\"http://www.w3.org/1999/02/22-rdf-syntax-ns#\">\n",
       "   <cc:Work>\n",
       "    <dc:type rdf:resource=\"http://purl.org/dc/dcmitype/StillImage\"/>\n",
       "    <dc:date>2022-12-26T10:37:21.595881</dc:date>\n",
       "    <dc:format>image/svg+xml</dc:format>\n",
       "    <dc:creator>\n",
       "     <cc:Agent>\n",
       "      <dc:title>Matplotlib v3.5.2, https://matplotlib.org/</dc:title>\n",
       "     </cc:Agent>\n",
       "    </dc:creator>\n",
       "   </cc:Work>\n",
       "  </rdf:RDF>\n",
       " </metadata>\n",
       " <defs>\n",
       "  <style type=\"text/css\">*{stroke-linejoin: round; stroke-linecap: butt}</style>\n",
       " </defs>\n",
       " <g id=\"figure_1\">\n",
       "  <g id=\"patch_1\">\n",
       "   <path d=\"M 0 325.986375 \n",
       "L 469.765313 325.986375 \n",
       "L 469.765313 0 \n",
       "L 0 0 \n",
       "z\n",
       "\" style=\"fill: #ffffff\"/>\n",
       "  </g>\n",
       "  <g id=\"axes_1\">\n",
       "   <g id=\"patch_2\">\n",
       "    <path d=\"M 105.445313 288.430125 \n",
       "L 462.565313 288.430125 \n",
       "L 462.565313 22.318125 \n",
       "L 105.445313 22.318125 \n",
       "z\n",
       "\" style=\"fill: #eaeaf2\"/>\n",
       "   </g>\n",
       "   <g id=\"matplotlib.axis_1\">\n",
       "    <g id=\"xtick_1\">\n",
       "     <g id=\"line2d_1\">\n",
       "      <path d=\"M 105.445313 288.430125 \n",
       "L 105.445313 22.318125 \n",
       "\" clip-path=\"url(#p9d1fb19e0e)\" style=\"fill: none; stroke: #ffffff; stroke-width: 0.8; stroke-linecap: round\"/>\n",
       "     </g>\n",
       "     <g id=\"text_1\">\n",
       "      <!-- 0 -->\n",
       "      <g style=\"fill: #262626\" transform=\"translate(102.264063 303.028562)scale(0.1 -0.1)\">\n",
       "       <defs>\n",
       "        <path id=\"DejaVuSans-30\" d=\"M 2034 4250 \n",
       "Q 1547 4250 1301 3770 \n",
       "Q 1056 3291 1056 2328 \n",
       "Q 1056 1369 1301 889 \n",
       "Q 1547 409 2034 409 \n",
       "Q 2525 409 2770 889 \n",
       "Q 3016 1369 3016 2328 \n",
       "Q 3016 3291 2770 3770 \n",
       "Q 2525 4250 2034 4250 \n",
       "z\n",
       "M 2034 4750 \n",
       "Q 2819 4750 3233 4129 \n",
       "Q 3647 3509 3647 2328 \n",
       "Q 3647 1150 3233 529 \n",
       "Q 2819 -91 2034 -91 \n",
       "Q 1250 -91 836 529 \n",
       "Q 422 1150 422 2328 \n",
       "Q 422 3509 836 4129 \n",
       "Q 1250 4750 2034 4750 \n",
       "z\n",
       "\" transform=\"scale(0.015625)\"/>\n",
       "       </defs>\n",
       "       <use xlink:href=\"#DejaVuSans-30\"/>\n",
       "      </g>\n",
       "     </g>\n",
       "    </g>\n",
       "    <g id=\"xtick_2\">\n",
       "     <g id=\"line2d_2\">\n",
       "      <path d=\"M 151.190341 288.430125 \n",
       "L 151.190341 22.318125 \n",
       "\" clip-path=\"url(#p9d1fb19e0e)\" style=\"fill: none; stroke: #ffffff; stroke-width: 0.8; stroke-linecap: round\"/>\n",
       "     </g>\n",
       "     <g id=\"text_2\">\n",
       "      <!-- 200 -->\n",
       "      <g style=\"fill: #262626\" transform=\"translate(141.646591 303.028562)scale(0.1 -0.1)\">\n",
       "       <defs>\n",
       "        <path id=\"DejaVuSans-32\" d=\"M 1228 531 \n",
       "L 3431 531 \n",
       "L 3431 0 \n",
       "L 469 0 \n",
       "L 469 531 \n",
       "Q 828 903 1448 1529 \n",
       "Q 2069 2156 2228 2338 \n",
       "Q 2531 2678 2651 2914 \n",
       "Q 2772 3150 2772 3378 \n",
       "Q 2772 3750 2511 3984 \n",
       "Q 2250 4219 1831 4219 \n",
       "Q 1534 4219 1204 4116 \n",
       "Q 875 4013 500 3803 \n",
       "L 500 4441 \n",
       "Q 881 4594 1212 4672 \n",
       "Q 1544 4750 1819 4750 \n",
       "Q 2544 4750 2975 4387 \n",
       "Q 3406 4025 3406 3419 \n",
       "Q 3406 3131 3298 2873 \n",
       "Q 3191 2616 2906 2266 \n",
       "Q 2828 2175 2409 1742 \n",
       "Q 1991 1309 1228 531 \n",
       "z\n",
       "\" transform=\"scale(0.015625)\"/>\n",
       "       </defs>\n",
       "       <use xlink:href=\"#DejaVuSans-32\"/>\n",
       "       <use xlink:href=\"#DejaVuSans-30\" x=\"63.623047\"/>\n",
       "       <use xlink:href=\"#DejaVuSans-30\" x=\"127.246094\"/>\n",
       "      </g>\n",
       "     </g>\n",
       "    </g>\n",
       "    <g id=\"xtick_3\">\n",
       "     <g id=\"line2d_3\">\n",
       "      <path d=\"M 196.935369 288.430125 \n",
       "L 196.935369 22.318125 \n",
       "\" clip-path=\"url(#p9d1fb19e0e)\" style=\"fill: none; stroke: #ffffff; stroke-width: 0.8; stroke-linecap: round\"/>\n",
       "     </g>\n",
       "     <g id=\"text_3\">\n",
       "      <!-- 400 -->\n",
       "      <g style=\"fill: #262626\" transform=\"translate(187.391619 303.028562)scale(0.1 -0.1)\">\n",
       "       <defs>\n",
       "        <path id=\"DejaVuSans-34\" d=\"M 2419 4116 \n",
       "L 825 1625 \n",
       "L 2419 1625 \n",
       "L 2419 4116 \n",
       "z\n",
       "M 2253 4666 \n",
       "L 3047 4666 \n",
       "L 3047 1625 \n",
       "L 3713 1625 \n",
       "L 3713 1100 \n",
       "L 3047 1100 \n",
       "L 3047 0 \n",
       "L 2419 0 \n",
       "L 2419 1100 \n",
       "L 313 1100 \n",
       "L 313 1709 \n",
       "L 2253 4666 \n",
       "z\n",
       "\" transform=\"scale(0.015625)\"/>\n",
       "       </defs>\n",
       "       <use xlink:href=\"#DejaVuSans-34\"/>\n",
       "       <use xlink:href=\"#DejaVuSans-30\" x=\"63.623047\"/>\n",
       "       <use xlink:href=\"#DejaVuSans-30\" x=\"127.246094\"/>\n",
       "      </g>\n",
       "     </g>\n",
       "    </g>\n",
       "    <g id=\"xtick_4\">\n",
       "     <g id=\"line2d_4\">\n",
       "      <path d=\"M 242.680398 288.430125 \n",
       "L 242.680398 22.318125 \n",
       "\" clip-path=\"url(#p9d1fb19e0e)\" style=\"fill: none; stroke: #ffffff; stroke-width: 0.8; stroke-linecap: round\"/>\n",
       "     </g>\n",
       "     <g id=\"text_4\">\n",
       "      <!-- 600 -->\n",
       "      <g style=\"fill: #262626\" transform=\"translate(233.136648 303.028562)scale(0.1 -0.1)\">\n",
       "       <defs>\n",
       "        <path id=\"DejaVuSans-36\" d=\"M 2113 2584 \n",
       "Q 1688 2584 1439 2293 \n",
       "Q 1191 2003 1191 1497 \n",
       "Q 1191 994 1439 701 \n",
       "Q 1688 409 2113 409 \n",
       "Q 2538 409 2786 701 \n",
       "Q 3034 994 3034 1497 \n",
       "Q 3034 2003 2786 2293 \n",
       "Q 2538 2584 2113 2584 \n",
       "z\n",
       "M 3366 4563 \n",
       "L 3366 3988 \n",
       "Q 3128 4100 2886 4159 \n",
       "Q 2644 4219 2406 4219 \n",
       "Q 1781 4219 1451 3797 \n",
       "Q 1122 3375 1075 2522 \n",
       "Q 1259 2794 1537 2939 \n",
       "Q 1816 3084 2150 3084 \n",
       "Q 2853 3084 3261 2657 \n",
       "Q 3669 2231 3669 1497 \n",
       "Q 3669 778 3244 343 \n",
       "Q 2819 -91 2113 -91 \n",
       "Q 1303 -91 875 529 \n",
       "Q 447 1150 447 2328 \n",
       "Q 447 3434 972 4092 \n",
       "Q 1497 4750 2381 4750 \n",
       "Q 2619 4750 2861 4703 \n",
       "Q 3103 4656 3366 4563 \n",
       "z\n",
       "\" transform=\"scale(0.015625)\"/>\n",
       "       </defs>\n",
       "       <use xlink:href=\"#DejaVuSans-36\"/>\n",
       "       <use xlink:href=\"#DejaVuSans-30\" x=\"63.623047\"/>\n",
       "       <use xlink:href=\"#DejaVuSans-30\" x=\"127.246094\"/>\n",
       "      </g>\n",
       "     </g>\n",
       "    </g>\n",
       "    <g id=\"xtick_5\">\n",
       "     <g id=\"line2d_5\">\n",
       "      <path d=\"M 288.425426 288.430125 \n",
       "L 288.425426 22.318125 \n",
       "\" clip-path=\"url(#p9d1fb19e0e)\" style=\"fill: none; stroke: #ffffff; stroke-width: 0.8; stroke-linecap: round\"/>\n",
       "     </g>\n",
       "     <g id=\"text_5\">\n",
       "      <!-- 800 -->\n",
       "      <g style=\"fill: #262626\" transform=\"translate(278.881676 303.028562)scale(0.1 -0.1)\">\n",
       "       <defs>\n",
       "        <path id=\"DejaVuSans-38\" d=\"M 2034 2216 \n",
       "Q 1584 2216 1326 1975 \n",
       "Q 1069 1734 1069 1313 \n",
       "Q 1069 891 1326 650 \n",
       "Q 1584 409 2034 409 \n",
       "Q 2484 409 2743 651 \n",
       "Q 3003 894 3003 1313 \n",
       "Q 3003 1734 2745 1975 \n",
       "Q 2488 2216 2034 2216 \n",
       "z\n",
       "M 1403 2484 \n",
       "Q 997 2584 770 2862 \n",
       "Q 544 3141 544 3541 \n",
       "Q 544 4100 942 4425 \n",
       "Q 1341 4750 2034 4750 \n",
       "Q 2731 4750 3128 4425 \n",
       "Q 3525 4100 3525 3541 \n",
       "Q 3525 3141 3298 2862 \n",
       "Q 3072 2584 2669 2484 \n",
       "Q 3125 2378 3379 2068 \n",
       "Q 3634 1759 3634 1313 \n",
       "Q 3634 634 3220 271 \n",
       "Q 2806 -91 2034 -91 \n",
       "Q 1263 -91 848 271 \n",
       "Q 434 634 434 1313 \n",
       "Q 434 1759 690 2068 \n",
       "Q 947 2378 1403 2484 \n",
       "z\n",
       "M 1172 3481 \n",
       "Q 1172 3119 1398 2916 \n",
       "Q 1625 2713 2034 2713 \n",
       "Q 2441 2713 2670 2916 \n",
       "Q 2900 3119 2900 3481 \n",
       "Q 2900 3844 2670 4047 \n",
       "Q 2441 4250 2034 4250 \n",
       "Q 1625 4250 1398 4047 \n",
       "Q 1172 3844 1172 3481 \n",
       "z\n",
       "\" transform=\"scale(0.015625)\"/>\n",
       "       </defs>\n",
       "       <use xlink:href=\"#DejaVuSans-38\"/>\n",
       "       <use xlink:href=\"#DejaVuSans-30\" x=\"63.623047\"/>\n",
       "       <use xlink:href=\"#DejaVuSans-30\" x=\"127.246094\"/>\n",
       "      </g>\n",
       "     </g>\n",
       "    </g>\n",
       "    <g id=\"xtick_6\">\n",
       "     <g id=\"line2d_6\">\n",
       "      <path d=\"M 334.170454 288.430125 \n",
       "L 334.170454 22.318125 \n",
       "\" clip-path=\"url(#p9d1fb19e0e)\" style=\"fill: none; stroke: #ffffff; stroke-width: 0.8; stroke-linecap: round\"/>\n",
       "     </g>\n",
       "     <g id=\"text_6\">\n",
       "      <!-- 1000 -->\n",
       "      <g style=\"fill: #262626\" transform=\"translate(321.445454 303.028562)scale(0.1 -0.1)\">\n",
       "       <defs>\n",
       "        <path id=\"DejaVuSans-31\" d=\"M 794 531 \n",
       "L 1825 531 \n",
       "L 1825 4091 \n",
       "L 703 3866 \n",
       "L 703 4441 \n",
       "L 1819 4666 \n",
       "L 2450 4666 \n",
       "L 2450 531 \n",
       "L 3481 531 \n",
       "L 3481 0 \n",
       "L 794 0 \n",
       "L 794 531 \n",
       "z\n",
       "\" transform=\"scale(0.015625)\"/>\n",
       "       </defs>\n",
       "       <use xlink:href=\"#DejaVuSans-31\"/>\n",
       "       <use xlink:href=\"#DejaVuSans-30\" x=\"63.623047\"/>\n",
       "       <use xlink:href=\"#DejaVuSans-30\" x=\"127.246094\"/>\n",
       "       <use xlink:href=\"#DejaVuSans-30\" x=\"190.869141\"/>\n",
       "      </g>\n",
       "     </g>\n",
       "    </g>\n",
       "    <g id=\"xtick_7\">\n",
       "     <g id=\"line2d_7\">\n",
       "      <path d=\"M 379.915483 288.430125 \n",
       "L 379.915483 22.318125 \n",
       "\" clip-path=\"url(#p9d1fb19e0e)\" style=\"fill: none; stroke: #ffffff; stroke-width: 0.8; stroke-linecap: round\"/>\n",
       "     </g>\n",
       "     <g id=\"text_7\">\n",
       "      <!-- 1200 -->\n",
       "      <g style=\"fill: #262626\" transform=\"translate(367.190483 303.028562)scale(0.1 -0.1)\">\n",
       "       <use xlink:href=\"#DejaVuSans-31\"/>\n",
       "       <use xlink:href=\"#DejaVuSans-32\" x=\"63.623047\"/>\n",
       "       <use xlink:href=\"#DejaVuSans-30\" x=\"127.246094\"/>\n",
       "       <use xlink:href=\"#DejaVuSans-30\" x=\"190.869141\"/>\n",
       "      </g>\n",
       "     </g>\n",
       "    </g>\n",
       "    <g id=\"xtick_8\">\n",
       "     <g id=\"line2d_8\">\n",
       "      <path d=\"M 425.660511 288.430125 \n",
       "L 425.660511 22.318125 \n",
       "\" clip-path=\"url(#p9d1fb19e0e)\" style=\"fill: none; stroke: #ffffff; stroke-width: 0.8; stroke-linecap: round\"/>\n",
       "     </g>\n",
       "     <g id=\"text_8\">\n",
       "      <!-- 1400 -->\n",
       "      <g style=\"fill: #262626\" transform=\"translate(412.935511 303.028562)scale(0.1 -0.1)\">\n",
       "       <use xlink:href=\"#DejaVuSans-31\"/>\n",
       "       <use xlink:href=\"#DejaVuSans-34\" x=\"63.623047\"/>\n",
       "       <use xlink:href=\"#DejaVuSans-30\" x=\"127.246094\"/>\n",
       "       <use xlink:href=\"#DejaVuSans-30\" x=\"190.869141\"/>\n",
       "      </g>\n",
       "     </g>\n",
       "    </g>\n",
       "    <g id=\"text_9\">\n",
       "     <!-- count -->\n",
       "     <g style=\"fill: #262626\" transform=\"translate(269.899063 316.706687)scale(0.1 -0.1)\">\n",
       "      <defs>\n",
       "       <path id=\"DejaVuSans-63\" d=\"M 3122 3366 \n",
       "L 3122 2828 \n",
       "Q 2878 2963 2633 3030 \n",
       "Q 2388 3097 2138 3097 \n",
       "Q 1578 3097 1268 2742 \n",
       "Q 959 2388 959 1747 \n",
       "Q 959 1106 1268 751 \n",
       "Q 1578 397 2138 397 \n",
       "Q 2388 397 2633 464 \n",
       "Q 2878 531 3122 666 \n",
       "L 3122 134 \n",
       "Q 2881 22 2623 -34 \n",
       "Q 2366 -91 2075 -91 \n",
       "Q 1284 -91 818 406 \n",
       "Q 353 903 353 1747 \n",
       "Q 353 2603 823 3093 \n",
       "Q 1294 3584 2113 3584 \n",
       "Q 2378 3584 2631 3529 \n",
       "Q 2884 3475 3122 3366 \n",
       "z\n",
       "\" transform=\"scale(0.015625)\"/>\n",
       "       <path id=\"DejaVuSans-6f\" d=\"M 1959 3097 \n",
       "Q 1497 3097 1228 2736 \n",
       "Q 959 2375 959 1747 \n",
       "Q 959 1119 1226 758 \n",
       "Q 1494 397 1959 397 \n",
       "Q 2419 397 2687 759 \n",
       "Q 2956 1122 2956 1747 \n",
       "Q 2956 2369 2687 2733 \n",
       "Q 2419 3097 1959 3097 \n",
       "z\n",
       "M 1959 3584 \n",
       "Q 2709 3584 3137 3096 \n",
       "Q 3566 2609 3566 1747 \n",
       "Q 3566 888 3137 398 \n",
       "Q 2709 -91 1959 -91 \n",
       "Q 1206 -91 779 398 \n",
       "Q 353 888 353 1747 \n",
       "Q 353 2609 779 3096 \n",
       "Q 1206 3584 1959 3584 \n",
       "z\n",
       "\" transform=\"scale(0.015625)\"/>\n",
       "       <path id=\"DejaVuSans-75\" d=\"M 544 1381 \n",
       "L 544 3500 \n",
       "L 1119 3500 \n",
       "L 1119 1403 \n",
       "Q 1119 906 1312 657 \n",
       "Q 1506 409 1894 409 \n",
       "Q 2359 409 2629 706 \n",
       "Q 2900 1003 2900 1516 \n",
       "L 2900 3500 \n",
       "L 3475 3500 \n",
       "L 3475 0 \n",
       "L 2900 0 \n",
       "L 2900 538 \n",
       "Q 2691 219 2414 64 \n",
       "Q 2138 -91 1772 -91 \n",
       "Q 1169 -91 856 284 \n",
       "Q 544 659 544 1381 \n",
       "z\n",
       "M 1991 3584 \n",
       "L 1991 3584 \n",
       "z\n",
       "\" transform=\"scale(0.015625)\"/>\n",
       "       <path id=\"DejaVuSans-6e\" d=\"M 3513 2113 \n",
       "L 3513 0 \n",
       "L 2938 0 \n",
       "L 2938 2094 \n",
       "Q 2938 2591 2744 2837 \n",
       "Q 2550 3084 2163 3084 \n",
       "Q 1697 3084 1428 2787 \n",
       "Q 1159 2491 1159 1978 \n",
       "L 1159 0 \n",
       "L 581 0 \n",
       "L 581 3500 \n",
       "L 1159 3500 \n",
       "L 1159 2956 \n",
       "Q 1366 3272 1645 3428 \n",
       "Q 1925 3584 2291 3584 \n",
       "Q 2894 3584 3203 3211 \n",
       "Q 3513 2838 3513 2113 \n",
       "z\n",
       "\" transform=\"scale(0.015625)\"/>\n",
       "       <path id=\"DejaVuSans-74\" d=\"M 1172 4494 \n",
       "L 1172 3500 \n",
       "L 2356 3500 \n",
       "L 2356 3053 \n",
       "L 1172 3053 \n",
       "L 1172 1153 \n",
       "Q 1172 725 1289 603 \n",
       "Q 1406 481 1766 481 \n",
       "L 2356 481 \n",
       "L 2356 0 \n",
       "L 1766 0 \n",
       "Q 1100 0 847 248 \n",
       "Q 594 497 594 1153 \n",
       "L 594 3053 \n",
       "L 172 3053 \n",
       "L 172 3500 \n",
       "L 594 3500 \n",
       "L 594 4494 \n",
       "L 1172 4494 \n",
       "z\n",
       "\" transform=\"scale(0.015625)\"/>\n",
       "      </defs>\n",
       "      <use xlink:href=\"#DejaVuSans-63\"/>\n",
       "      <use xlink:href=\"#DejaVuSans-6f\" x=\"54.980469\"/>\n",
       "      <use xlink:href=\"#DejaVuSans-75\" x=\"116.162109\"/>\n",
       "      <use xlink:href=\"#DejaVuSans-6e\" x=\"179.541016\"/>\n",
       "      <use xlink:href=\"#DejaVuSans-74\" x=\"242.919922\"/>\n",
       "     </g>\n",
       "    </g>\n",
       "   </g>\n",
       "   <g id=\"matplotlib.axis_2\">\n",
       "    <g id=\"ytick_1\">\n",
       "     <g id=\"text_10\">\n",
       "      <!-- Ariana Grande -->\n",
       "      <g style=\"fill: #262626\" transform=\"translate(26.117188 39.422944)scale(0.1 -0.1)\">\n",
       "       <defs>\n",
       "        <path id=\"DejaVuSans-41\" d=\"M 2188 4044 \n",
       "L 1331 1722 \n",
       "L 3047 1722 \n",
       "L 2188 4044 \n",
       "z\n",
       "M 1831 4666 \n",
       "L 2547 4666 \n",
       "L 4325 0 \n",
       "L 3669 0 \n",
       "L 3244 1197 \n",
       "L 1141 1197 \n",
       "L 716 0 \n",
       "L 50 0 \n",
       "L 1831 4666 \n",
       "z\n",
       "\" transform=\"scale(0.015625)\"/>\n",
       "        <path id=\"DejaVuSans-72\" d=\"M 2631 2963 \n",
       "Q 2534 3019 2420 3045 \n",
       "Q 2306 3072 2169 3072 \n",
       "Q 1681 3072 1420 2755 \n",
       "Q 1159 2438 1159 1844 \n",
       "L 1159 0 \n",
       "L 581 0 \n",
       "L 581 3500 \n",
       "L 1159 3500 \n",
       "L 1159 2956 \n",
       "Q 1341 3275 1631 3429 \n",
       "Q 1922 3584 2338 3584 \n",
       "Q 2397 3584 2469 3576 \n",
       "Q 2541 3569 2628 3553 \n",
       "L 2631 2963 \n",
       "z\n",
       "\" transform=\"scale(0.015625)\"/>\n",
       "        <path id=\"DejaVuSans-69\" d=\"M 603 3500 \n",
       "L 1178 3500 \n",
       "L 1178 0 \n",
       "L 603 0 \n",
       "L 603 3500 \n",
       "z\n",
       "M 603 4863 \n",
       "L 1178 4863 \n",
       "L 1178 4134 \n",
       "L 603 4134 \n",
       "L 603 4863 \n",
       "z\n",
       "\" transform=\"scale(0.015625)\"/>\n",
       "        <path id=\"DejaVuSans-61\" d=\"M 2194 1759 \n",
       "Q 1497 1759 1228 1600 \n",
       "Q 959 1441 959 1056 \n",
       "Q 959 750 1161 570 \n",
       "Q 1363 391 1709 391 \n",
       "Q 2188 391 2477 730 \n",
       "Q 2766 1069 2766 1631 \n",
       "L 2766 1759 \n",
       "L 2194 1759 \n",
       "z\n",
       "M 3341 1997 \n",
       "L 3341 0 \n",
       "L 2766 0 \n",
       "L 2766 531 \n",
       "Q 2569 213 2275 61 \n",
       "Q 1981 -91 1556 -91 \n",
       "Q 1019 -91 701 211 \n",
       "Q 384 513 384 1019 \n",
       "Q 384 1609 779 1909 \n",
       "Q 1175 2209 1959 2209 \n",
       "L 2766 2209 \n",
       "L 2766 2266 \n",
       "Q 2766 2663 2505 2880 \n",
       "Q 2244 3097 1772 3097 \n",
       "Q 1472 3097 1187 3025 \n",
       "Q 903 2953 641 2809 \n",
       "L 641 3341 \n",
       "Q 956 3463 1253 3523 \n",
       "Q 1550 3584 1831 3584 \n",
       "Q 2591 3584 2966 3190 \n",
       "Q 3341 2797 3341 1997 \n",
       "z\n",
       "\" transform=\"scale(0.015625)\"/>\n",
       "        <path id=\"DejaVuSans-20\" transform=\"scale(0.015625)\"/>\n",
       "        <path id=\"DejaVuSans-47\" d=\"M 3809 666 \n",
       "L 3809 1919 \n",
       "L 2778 1919 \n",
       "L 2778 2438 \n",
       "L 4434 2438 \n",
       "L 4434 434 \n",
       "Q 4069 175 3628 42 \n",
       "Q 3188 -91 2688 -91 \n",
       "Q 1594 -91 976 548 \n",
       "Q 359 1188 359 2328 \n",
       "Q 359 3472 976 4111 \n",
       "Q 1594 4750 2688 4750 \n",
       "Q 3144 4750 3555 4637 \n",
       "Q 3966 4525 4313 4306 \n",
       "L 4313 3634 \n",
       "Q 3963 3931 3569 4081 \n",
       "Q 3175 4231 2741 4231 \n",
       "Q 1884 4231 1454 3753 \n",
       "Q 1025 3275 1025 2328 \n",
       "Q 1025 1384 1454 906 \n",
       "Q 1884 428 2741 428 \n",
       "Q 3075 428 3337 486 \n",
       "Q 3600 544 3809 666 \n",
       "z\n",
       "\" transform=\"scale(0.015625)\"/>\n",
       "        <path id=\"DejaVuSans-64\" d=\"M 2906 2969 \n",
       "L 2906 4863 \n",
       "L 3481 4863 \n",
       "L 3481 0 \n",
       "L 2906 0 \n",
       "L 2906 525 \n",
       "Q 2725 213 2448 61 \n",
       "Q 2172 -91 1784 -91 \n",
       "Q 1150 -91 751 415 \n",
       "Q 353 922 353 1747 \n",
       "Q 353 2572 751 3078 \n",
       "Q 1150 3584 1784 3584 \n",
       "Q 2172 3584 2448 3432 \n",
       "Q 2725 3281 2906 2969 \n",
       "z\n",
       "M 947 1747 \n",
       "Q 947 1113 1208 752 \n",
       "Q 1469 391 1925 391 \n",
       "Q 2381 391 2643 752 \n",
       "Q 2906 1113 2906 1747 \n",
       "Q 2906 2381 2643 2742 \n",
       "Q 2381 3103 1925 3103 \n",
       "Q 1469 3103 1208 2742 \n",
       "Q 947 2381 947 1747 \n",
       "z\n",
       "\" transform=\"scale(0.015625)\"/>\n",
       "        <path id=\"DejaVuSans-65\" d=\"M 3597 1894 \n",
       "L 3597 1613 \n",
       "L 953 1613 \n",
       "Q 991 1019 1311 708 \n",
       "Q 1631 397 2203 397 \n",
       "Q 2534 397 2845 478 \n",
       "Q 3156 559 3463 722 \n",
       "L 3463 178 \n",
       "Q 3153 47 2828 -22 \n",
       "Q 2503 -91 2169 -91 \n",
       "Q 1331 -91 842 396 \n",
       "Q 353 884 353 1716 \n",
       "Q 353 2575 817 3079 \n",
       "Q 1281 3584 2069 3584 \n",
       "Q 2775 3584 3186 3129 \n",
       "Q 3597 2675 3597 1894 \n",
       "z\n",
       "M 3022 2063 \n",
       "Q 3016 2534 2758 2815 \n",
       "Q 2500 3097 2075 3097 \n",
       "Q 1594 3097 1305 2825 \n",
       "Q 1016 2553 972 2059 \n",
       "L 3022 2063 \n",
       "z\n",
       "\" transform=\"scale(0.015625)\"/>\n",
       "       </defs>\n",
       "       <use xlink:href=\"#DejaVuSans-41\"/>\n",
       "       <use xlink:href=\"#DejaVuSans-72\" x=\"68.408203\"/>\n",
       "       <use xlink:href=\"#DejaVuSans-69\" x=\"109.521484\"/>\n",
       "       <use xlink:href=\"#DejaVuSans-61\" x=\"137.304688\"/>\n",
       "       <use xlink:href=\"#DejaVuSans-6e\" x=\"198.583984\"/>\n",
       "       <use xlink:href=\"#DejaVuSans-61\" x=\"261.962891\"/>\n",
       "       <use xlink:href=\"#DejaVuSans-20\" x=\"323.242188\"/>\n",
       "       <use xlink:href=\"#DejaVuSans-47\" x=\"355.029297\"/>\n",
       "       <use xlink:href=\"#DejaVuSans-72\" x=\"432.519531\"/>\n",
       "       <use xlink:href=\"#DejaVuSans-61\" x=\"473.632812\"/>\n",
       "       <use xlink:href=\"#DejaVuSans-6e\" x=\"534.912109\"/>\n",
       "       <use xlink:href=\"#DejaVuSans-64\" x=\"598.291016\"/>\n",
       "       <use xlink:href=\"#DejaVuSans-65\" x=\"661.767578\"/>\n",
       "      </g>\n",
       "     </g>\n",
       "    </g>\n",
       "    <g id=\"ytick_2\">\n",
       "     <g id=\"text_11\">\n",
       "      <!-- Drake -->\n",
       "      <g style=\"fill: #262626\" transform=\"translate(68.925 66.034144)scale(0.1 -0.1)\">\n",
       "       <defs>\n",
       "        <path id=\"DejaVuSans-44\" d=\"M 1259 4147 \n",
       "L 1259 519 \n",
       "L 2022 519 \n",
       "Q 2988 519 3436 956 \n",
       "Q 3884 1394 3884 2338 \n",
       "Q 3884 3275 3436 3711 \n",
       "Q 2988 4147 2022 4147 \n",
       "L 1259 4147 \n",
       "z\n",
       "M 628 4666 \n",
       "L 1925 4666 \n",
       "Q 3281 4666 3915 4102 \n",
       "Q 4550 3538 4550 2338 \n",
       "Q 4550 1131 3912 565 \n",
       "Q 3275 0 1925 0 \n",
       "L 628 0 \n",
       "L 628 4666 \n",
       "z\n",
       "\" transform=\"scale(0.015625)\"/>\n",
       "        <path id=\"DejaVuSans-6b\" d=\"M 581 4863 \n",
       "L 1159 4863 \n",
       "L 1159 1991 \n",
       "L 2875 3500 \n",
       "L 3609 3500 \n",
       "L 1753 1863 \n",
       "L 3688 0 \n",
       "L 2938 0 \n",
       "L 1159 1709 \n",
       "L 1159 0 \n",
       "L 581 0 \n",
       "L 581 4863 \n",
       "z\n",
       "\" transform=\"scale(0.015625)\"/>\n",
       "       </defs>\n",
       "       <use xlink:href=\"#DejaVuSans-44\"/>\n",
       "       <use xlink:href=\"#DejaVuSans-72\" x=\"77.001953\"/>\n",
       "       <use xlink:href=\"#DejaVuSans-61\" x=\"118.115234\"/>\n",
       "       <use xlink:href=\"#DejaVuSans-6b\" x=\"179.394531\"/>\n",
       "       <use xlink:href=\"#DejaVuSans-65\" x=\"233.679688\"/>\n",
       "      </g>\n",
       "     </g>\n",
       "    </g>\n",
       "    <g id=\"ytick_3\">\n",
       "     <g id=\"text_12\">\n",
       "      <!-- BTS -->\n",
       "      <g style=\"fill: #262626\" transform=\"translate(79.128125 92.645344)scale(0.1 -0.1)\">\n",
       "       <defs>\n",
       "        <path id=\"DejaVuSans-42\" d=\"M 1259 2228 \n",
       "L 1259 519 \n",
       "L 2272 519 \n",
       "Q 2781 519 3026 730 \n",
       "Q 3272 941 3272 1375 \n",
       "Q 3272 1813 3026 2020 \n",
       "Q 2781 2228 2272 2228 \n",
       "L 1259 2228 \n",
       "z\n",
       "M 1259 4147 \n",
       "L 1259 2741 \n",
       "L 2194 2741 \n",
       "Q 2656 2741 2882 2914 \n",
       "Q 3109 3088 3109 3444 \n",
       "Q 3109 3797 2882 3972 \n",
       "Q 2656 4147 2194 4147 \n",
       "L 1259 4147 \n",
       "z\n",
       "M 628 4666 \n",
       "L 2241 4666 \n",
       "Q 2963 4666 3353 4366 \n",
       "Q 3744 4066 3744 3513 \n",
       "Q 3744 3084 3544 2831 \n",
       "Q 3344 2578 2956 2516 \n",
       "Q 3422 2416 3680 2098 \n",
       "Q 3938 1781 3938 1306 \n",
       "Q 3938 681 3513 340 \n",
       "Q 3088 0 2303 0 \n",
       "L 628 0 \n",
       "L 628 4666 \n",
       "z\n",
       "\" transform=\"scale(0.015625)\"/>\n",
       "        <path id=\"DejaVuSans-54\" d=\"M -19 4666 \n",
       "L 3928 4666 \n",
       "L 3928 4134 \n",
       "L 2272 4134 \n",
       "L 2272 0 \n",
       "L 1638 0 \n",
       "L 1638 4134 \n",
       "L -19 4134 \n",
       "L -19 4666 \n",
       "z\n",
       "\" transform=\"scale(0.015625)\"/>\n",
       "        <path id=\"DejaVuSans-53\" d=\"M 3425 4513 \n",
       "L 3425 3897 \n",
       "Q 3066 4069 2747 4153 \n",
       "Q 2428 4238 2131 4238 \n",
       "Q 1616 4238 1336 4038 \n",
       "Q 1056 3838 1056 3469 \n",
       "Q 1056 3159 1242 3001 \n",
       "Q 1428 2844 1947 2747 \n",
       "L 2328 2669 \n",
       "Q 3034 2534 3370 2195 \n",
       "Q 3706 1856 3706 1288 \n",
       "Q 3706 609 3251 259 \n",
       "Q 2797 -91 1919 -91 \n",
       "Q 1588 -91 1214 -16 \n",
       "Q 841 59 441 206 \n",
       "L 441 856 \n",
       "Q 825 641 1194 531 \n",
       "Q 1563 422 1919 422 \n",
       "Q 2459 422 2753 634 \n",
       "Q 3047 847 3047 1241 \n",
       "Q 3047 1584 2836 1778 \n",
       "Q 2625 1972 2144 2069 \n",
       "L 1759 2144 \n",
       "Q 1053 2284 737 2584 \n",
       "Q 422 2884 422 3419 \n",
       "Q 422 4038 858 4394 \n",
       "Q 1294 4750 2059 4750 \n",
       "Q 2388 4750 2728 4690 \n",
       "Q 3069 4631 3425 4513 \n",
       "z\n",
       "\" transform=\"scale(0.015625)\"/>\n",
       "       </defs>\n",
       "       <use xlink:href=\"#DejaVuSans-42\"/>\n",
       "       <use xlink:href=\"#DejaVuSans-54\" x=\"68.603516\"/>\n",
       "       <use xlink:href=\"#DejaVuSans-53\" x=\"129.6875\"/>\n",
       "      </g>\n",
       "     </g>\n",
       "    </g>\n",
       "    <g id=\"ytick_4\">\n",
       "     <g id=\"text_13\">\n",
       "      <!-- Taylor Swift -->\n",
       "      <g style=\"fill: #262626\" transform=\"translate(41.184375 119.256544)scale(0.1 -0.1)\">\n",
       "       <defs>\n",
       "        <path id=\"DejaVuSans-79\" d=\"M 2059 -325 \n",
       "Q 1816 -950 1584 -1140 \n",
       "Q 1353 -1331 966 -1331 \n",
       "L 506 -1331 \n",
       "L 506 -850 \n",
       "L 844 -850 \n",
       "Q 1081 -850 1212 -737 \n",
       "Q 1344 -625 1503 -206 \n",
       "L 1606 56 \n",
       "L 191 3500 \n",
       "L 800 3500 \n",
       "L 1894 763 \n",
       "L 2988 3500 \n",
       "L 3597 3500 \n",
       "L 2059 -325 \n",
       "z\n",
       "\" transform=\"scale(0.015625)\"/>\n",
       "        <path id=\"DejaVuSans-6c\" d=\"M 603 4863 \n",
       "L 1178 4863 \n",
       "L 1178 0 \n",
       "L 603 0 \n",
       "L 603 4863 \n",
       "z\n",
       "\" transform=\"scale(0.015625)\"/>\n",
       "        <path id=\"DejaVuSans-77\" d=\"M 269 3500 \n",
       "L 844 3500 \n",
       "L 1563 769 \n",
       "L 2278 3500 \n",
       "L 2956 3500 \n",
       "L 3675 769 \n",
       "L 4391 3500 \n",
       "L 4966 3500 \n",
       "L 4050 0 \n",
       "L 3372 0 \n",
       "L 2619 2869 \n",
       "L 1863 0 \n",
       "L 1184 0 \n",
       "L 269 3500 \n",
       "z\n",
       "\" transform=\"scale(0.015625)\"/>\n",
       "        <path id=\"DejaVuSans-66\" d=\"M 2375 4863 \n",
       "L 2375 4384 \n",
       "L 1825 4384 \n",
       "Q 1516 4384 1395 4259 \n",
       "Q 1275 4134 1275 3809 \n",
       "L 1275 3500 \n",
       "L 2222 3500 \n",
       "L 2222 3053 \n",
       "L 1275 3053 \n",
       "L 1275 0 \n",
       "L 697 0 \n",
       "L 697 3053 \n",
       "L 147 3053 \n",
       "L 147 3500 \n",
       "L 697 3500 \n",
       "L 697 3744 \n",
       "Q 697 4328 969 4595 \n",
       "Q 1241 4863 1831 4863 \n",
       "L 2375 4863 \n",
       "z\n",
       "\" transform=\"scale(0.015625)\"/>\n",
       "       </defs>\n",
       "       <use xlink:href=\"#DejaVuSans-54\"/>\n",
       "       <use xlink:href=\"#DejaVuSans-61\" x=\"44.583984\"/>\n",
       "       <use xlink:href=\"#DejaVuSans-79\" x=\"105.863281\"/>\n",
       "       <use xlink:href=\"#DejaVuSans-6c\" x=\"165.042969\"/>\n",
       "       <use xlink:href=\"#DejaVuSans-6f\" x=\"192.826172\"/>\n",
       "       <use xlink:href=\"#DejaVuSans-72\" x=\"254.007812\"/>\n",
       "       <use xlink:href=\"#DejaVuSans-20\" x=\"295.121094\"/>\n",
       "       <use xlink:href=\"#DejaVuSans-53\" x=\"326.908203\"/>\n",
       "       <use xlink:href=\"#DejaVuSans-77\" x=\"390.384766\"/>\n",
       "       <use xlink:href=\"#DejaVuSans-69\" x=\"472.171875\"/>\n",
       "       <use xlink:href=\"#DejaVuSans-66\" x=\"499.955078\"/>\n",
       "       <use xlink:href=\"#DejaVuSans-74\" x=\"533.410156\"/>\n",
       "      </g>\n",
       "     </g>\n",
       "    </g>\n",
       "    <g id=\"ytick_5\">\n",
       "     <g id=\"text_14\">\n",
       "      <!-- XXXTENTACION -->\n",
       "      <g style=\"fill: #262626\" transform=\"translate(20.878125 145.867744)scale(0.1 -0.1)\">\n",
       "       <defs>\n",
       "        <path id=\"DejaVuSans-58\" d=\"M 403 4666 \n",
       "L 1081 4666 \n",
       "L 2241 2931 \n",
       "L 3406 4666 \n",
       "L 4084 4666 \n",
       "L 2584 2425 \n",
       "L 4184 0 \n",
       "L 3506 0 \n",
       "L 2194 1984 \n",
       "L 872 0 \n",
       "L 191 0 \n",
       "L 1856 2491 \n",
       "L 403 4666 \n",
       "z\n",
       "\" transform=\"scale(0.015625)\"/>\n",
       "        <path id=\"DejaVuSans-45\" d=\"M 628 4666 \n",
       "L 3578 4666 \n",
       "L 3578 4134 \n",
       "L 1259 4134 \n",
       "L 1259 2753 \n",
       "L 3481 2753 \n",
       "L 3481 2222 \n",
       "L 1259 2222 \n",
       "L 1259 531 \n",
       "L 3634 531 \n",
       "L 3634 0 \n",
       "L 628 0 \n",
       "L 628 4666 \n",
       "z\n",
       "\" transform=\"scale(0.015625)\"/>\n",
       "        <path id=\"DejaVuSans-4e\" d=\"M 628 4666 \n",
       "L 1478 4666 \n",
       "L 3547 763 \n",
       "L 3547 4666 \n",
       "L 4159 4666 \n",
       "L 4159 0 \n",
       "L 3309 0 \n",
       "L 1241 3903 \n",
       "L 1241 0 \n",
       "L 628 0 \n",
       "L 628 4666 \n",
       "z\n",
       "\" transform=\"scale(0.015625)\"/>\n",
       "        <path id=\"DejaVuSans-43\" d=\"M 4122 4306 \n",
       "L 4122 3641 \n",
       "Q 3803 3938 3442 4084 \n",
       "Q 3081 4231 2675 4231 \n",
       "Q 1875 4231 1450 3742 \n",
       "Q 1025 3253 1025 2328 \n",
       "Q 1025 1406 1450 917 \n",
       "Q 1875 428 2675 428 \n",
       "Q 3081 428 3442 575 \n",
       "Q 3803 722 4122 1019 \n",
       "L 4122 359 \n",
       "Q 3791 134 3420 21 \n",
       "Q 3050 -91 2638 -91 \n",
       "Q 1578 -91 968 557 \n",
       "Q 359 1206 359 2328 \n",
       "Q 359 3453 968 4101 \n",
       "Q 1578 4750 2638 4750 \n",
       "Q 3056 4750 3426 4639 \n",
       "Q 3797 4528 4122 4306 \n",
       "z\n",
       "\" transform=\"scale(0.015625)\"/>\n",
       "        <path id=\"DejaVuSans-49\" d=\"M 628 4666 \n",
       "L 1259 4666 \n",
       "L 1259 0 \n",
       "L 628 0 \n",
       "L 628 4666 \n",
       "z\n",
       "\" transform=\"scale(0.015625)\"/>\n",
       "        <path id=\"DejaVuSans-4f\" d=\"M 2522 4238 \n",
       "Q 1834 4238 1429 3725 \n",
       "Q 1025 3213 1025 2328 \n",
       "Q 1025 1447 1429 934 \n",
       "Q 1834 422 2522 422 \n",
       "Q 3209 422 3611 934 \n",
       "Q 4013 1447 4013 2328 \n",
       "Q 4013 3213 3611 3725 \n",
       "Q 3209 4238 2522 4238 \n",
       "z\n",
       "M 2522 4750 \n",
       "Q 3503 4750 4090 4092 \n",
       "Q 4678 3434 4678 2328 \n",
       "Q 4678 1225 4090 567 \n",
       "Q 3503 -91 2522 -91 \n",
       "Q 1538 -91 948 565 \n",
       "Q 359 1222 359 2328 \n",
       "Q 359 3434 948 4092 \n",
       "Q 1538 4750 2522 4750 \n",
       "z\n",
       "\" transform=\"scale(0.015625)\"/>\n",
       "       </defs>\n",
       "       <use xlink:href=\"#DejaVuSans-58\"/>\n",
       "       <use xlink:href=\"#DejaVuSans-58\" x=\"68.505859\"/>\n",
       "       <use xlink:href=\"#DejaVuSans-58\" x=\"137.011719\"/>\n",
       "       <use xlink:href=\"#DejaVuSans-54\" x=\"203.767578\"/>\n",
       "       <use xlink:href=\"#DejaVuSans-45\" x=\"264.851562\"/>\n",
       "       <use xlink:href=\"#DejaVuSans-4e\" x=\"328.035156\"/>\n",
       "       <use xlink:href=\"#DejaVuSans-54\" x=\"402.839844\"/>\n",
       "       <use xlink:href=\"#DejaVuSans-41\" x=\"456.173828\"/>\n",
       "       <use xlink:href=\"#DejaVuSans-43\" x=\"522.832031\"/>\n",
       "       <use xlink:href=\"#DejaVuSans-49\" x=\"592.65625\"/>\n",
       "       <use xlink:href=\"#DejaVuSans-4f\" x=\"622.148438\"/>\n",
       "       <use xlink:href=\"#DejaVuSans-4e\" x=\"700.859375\"/>\n",
       "      </g>\n",
       "     </g>\n",
       "    </g>\n",
       "    <g id=\"ytick_6\">\n",
       "     <g id=\"text_15\">\n",
       "      <!-- Ed Sheeran -->\n",
       "      <g style=\"fill: #262626\" transform=\"translate(41.03125 172.478944)scale(0.1 -0.1)\">\n",
       "       <defs>\n",
       "        <path id=\"DejaVuSans-68\" d=\"M 3513 2113 \n",
       "L 3513 0 \n",
       "L 2938 0 \n",
       "L 2938 2094 \n",
       "Q 2938 2591 2744 2837 \n",
       "Q 2550 3084 2163 3084 \n",
       "Q 1697 3084 1428 2787 \n",
       "Q 1159 2491 1159 1978 \n",
       "L 1159 0 \n",
       "L 581 0 \n",
       "L 581 4863 \n",
       "L 1159 4863 \n",
       "L 1159 2956 \n",
       "Q 1366 3272 1645 3428 \n",
       "Q 1925 3584 2291 3584 \n",
       "Q 2894 3584 3203 3211 \n",
       "Q 3513 2838 3513 2113 \n",
       "z\n",
       "\" transform=\"scale(0.015625)\"/>\n",
       "       </defs>\n",
       "       <use xlink:href=\"#DejaVuSans-45\"/>\n",
       "       <use xlink:href=\"#DejaVuSans-64\" x=\"63.183594\"/>\n",
       "       <use xlink:href=\"#DejaVuSans-20\" x=\"126.660156\"/>\n",
       "       <use xlink:href=\"#DejaVuSans-53\" x=\"158.447266\"/>\n",
       "       <use xlink:href=\"#DejaVuSans-68\" x=\"221.923828\"/>\n",
       "       <use xlink:href=\"#DejaVuSans-65\" x=\"285.302734\"/>\n",
       "       <use xlink:href=\"#DejaVuSans-65\" x=\"346.826172\"/>\n",
       "       <use xlink:href=\"#DejaVuSans-72\" x=\"408.349609\"/>\n",
       "       <use xlink:href=\"#DejaVuSans-61\" x=\"449.462891\"/>\n",
       "       <use xlink:href=\"#DejaVuSans-6e\" x=\"510.742188\"/>\n",
       "      </g>\n",
       "     </g>\n",
       "    </g>\n",
       "    <g id=\"ytick_7\">\n",
       "     <g id=\"text_16\">\n",
       "      <!-- The Weeknd -->\n",
       "      <g style=\"fill: #262626\" transform=\"translate(36.585938 199.090144)scale(0.1 -0.1)\">\n",
       "       <defs>\n",
       "        <path id=\"DejaVuSans-57\" d=\"M 213 4666 \n",
       "L 850 4666 \n",
       "L 1831 722 \n",
       "L 2809 4666 \n",
       "L 3519 4666 \n",
       "L 4500 722 \n",
       "L 5478 4666 \n",
       "L 6119 4666 \n",
       "L 4947 0 \n",
       "L 4153 0 \n",
       "L 3169 4050 \n",
       "L 2175 0 \n",
       "L 1381 0 \n",
       "L 213 4666 \n",
       "z\n",
       "\" transform=\"scale(0.015625)\"/>\n",
       "       </defs>\n",
       "       <use xlink:href=\"#DejaVuSans-54\"/>\n",
       "       <use xlink:href=\"#DejaVuSans-68\" x=\"61.083984\"/>\n",
       "       <use xlink:href=\"#DejaVuSans-65\" x=\"124.462891\"/>\n",
       "       <use xlink:href=\"#DejaVuSans-20\" x=\"185.986328\"/>\n",
       "       <use xlink:href=\"#DejaVuSans-57\" x=\"217.773438\"/>\n",
       "       <use xlink:href=\"#DejaVuSans-65\" x=\"310.775391\"/>\n",
       "       <use xlink:href=\"#DejaVuSans-65\" x=\"372.298828\"/>\n",
       "       <use xlink:href=\"#DejaVuSans-6b\" x=\"433.822266\"/>\n",
       "       <use xlink:href=\"#DejaVuSans-6e\" x=\"491.732422\"/>\n",
       "       <use xlink:href=\"#DejaVuSans-64\" x=\"555.111328\"/>\n",
       "      </g>\n",
       "     </g>\n",
       "    </g>\n",
       "    <g id=\"ytick_8\">\n",
       "     <g id=\"text_17\">\n",
       "      <!-- Linkin Park -->\n",
       "      <g style=\"fill: #262626\" transform=\"translate(44.064063 225.701344)scale(0.1 -0.1)\">\n",
       "       <defs>\n",
       "        <path id=\"DejaVuSans-4c\" d=\"M 628 4666 \n",
       "L 1259 4666 \n",
       "L 1259 531 \n",
       "L 3531 531 \n",
       "L 3531 0 \n",
       "L 628 0 \n",
       "L 628 4666 \n",
       "z\n",
       "\" transform=\"scale(0.015625)\"/>\n",
       "        <path id=\"DejaVuSans-50\" d=\"M 1259 4147 \n",
       "L 1259 2394 \n",
       "L 2053 2394 \n",
       "Q 2494 2394 2734 2622 \n",
       "Q 2975 2850 2975 3272 \n",
       "Q 2975 3691 2734 3919 \n",
       "Q 2494 4147 2053 4147 \n",
       "L 1259 4147 \n",
       "z\n",
       "M 628 4666 \n",
       "L 2053 4666 \n",
       "Q 2838 4666 3239 4311 \n",
       "Q 3641 3956 3641 3272 \n",
       "Q 3641 2581 3239 2228 \n",
       "Q 2838 1875 2053 1875 \n",
       "L 1259 1875 \n",
       "L 1259 0 \n",
       "L 628 0 \n",
       "L 628 4666 \n",
       "z\n",
       "\" transform=\"scale(0.015625)\"/>\n",
       "       </defs>\n",
       "       <use xlink:href=\"#DejaVuSans-4c\"/>\n",
       "       <use xlink:href=\"#DejaVuSans-69\" x=\"55.712891\"/>\n",
       "       <use xlink:href=\"#DejaVuSans-6e\" x=\"83.496094\"/>\n",
       "       <use xlink:href=\"#DejaVuSans-6b\" x=\"146.875\"/>\n",
       "       <use xlink:href=\"#DejaVuSans-69\" x=\"204.785156\"/>\n",
       "       <use xlink:href=\"#DejaVuSans-6e\" x=\"232.568359\"/>\n",
       "       <use xlink:href=\"#DejaVuSans-20\" x=\"295.947266\"/>\n",
       "       <use xlink:href=\"#DejaVuSans-50\" x=\"327.734375\"/>\n",
       "       <use xlink:href=\"#DejaVuSans-61\" x=\"383.537109\"/>\n",
       "       <use xlink:href=\"#DejaVuSans-72\" x=\"444.816406\"/>\n",
       "       <use xlink:href=\"#DejaVuSans-6b\" x=\"485.929688\"/>\n",
       "      </g>\n",
       "     </g>\n",
       "    </g>\n",
       "    <g id=\"ytick_9\">\n",
       "     <g id=\"text_18\">\n",
       "      <!-- Eminem -->\n",
       "      <g style=\"fill: #262626\" transform=\"translate(57.376563 252.312544)scale(0.1 -0.1)\">\n",
       "       <defs>\n",
       "        <path id=\"DejaVuSans-6d\" d=\"M 3328 2828 \n",
       "Q 3544 3216 3844 3400 \n",
       "Q 4144 3584 4550 3584 \n",
       "Q 5097 3584 5394 3201 \n",
       "Q 5691 2819 5691 2113 \n",
       "L 5691 0 \n",
       "L 5113 0 \n",
       "L 5113 2094 \n",
       "Q 5113 2597 4934 2840 \n",
       "Q 4756 3084 4391 3084 \n",
       "Q 3944 3084 3684 2787 \n",
       "Q 3425 2491 3425 1978 \n",
       "L 3425 0 \n",
       "L 2847 0 \n",
       "L 2847 2094 \n",
       "Q 2847 2600 2669 2842 \n",
       "Q 2491 3084 2119 3084 \n",
       "Q 1678 3084 1418 2786 \n",
       "Q 1159 2488 1159 1978 \n",
       "L 1159 0 \n",
       "L 581 0 \n",
       "L 581 3500 \n",
       "L 1159 3500 \n",
       "L 1159 2956 \n",
       "Q 1356 3278 1631 3431 \n",
       "Q 1906 3584 2284 3584 \n",
       "Q 2666 3584 2933 3390 \n",
       "Q 3200 3197 3328 2828 \n",
       "z\n",
       "\" transform=\"scale(0.015625)\"/>\n",
       "       </defs>\n",
       "       <use xlink:href=\"#DejaVuSans-45\"/>\n",
       "       <use xlink:href=\"#DejaVuSans-6d\" x=\"63.183594\"/>\n",
       "       <use xlink:href=\"#DejaVuSans-69\" x=\"160.595703\"/>\n",
       "       <use xlink:href=\"#DejaVuSans-6e\" x=\"188.378906\"/>\n",
       "       <use xlink:href=\"#DejaVuSans-65\" x=\"251.757812\"/>\n",
       "       <use xlink:href=\"#DejaVuSans-6d\" x=\"313.28125\"/>\n",
       "      </g>\n",
       "     </g>\n",
       "    </g>\n",
       "    <g id=\"ytick_10\">\n",
       "     <g id=\"text_19\">\n",
       "      <!-- Billie Eilish -->\n",
       "      <g style=\"fill: #262626\" transform=\"translate(44.940625 278.923744)scale(0.1 -0.1)\">\n",
       "       <defs>\n",
       "        <path id=\"DejaVuSans-73\" d=\"M 2834 3397 \n",
       "L 2834 2853 \n",
       "Q 2591 2978 2328 3040 \n",
       "Q 2066 3103 1784 3103 \n",
       "Q 1356 3103 1142 2972 \n",
       "Q 928 2841 928 2578 \n",
       "Q 928 2378 1081 2264 \n",
       "Q 1234 2150 1697 2047 \n",
       "L 1894 2003 \n",
       "Q 2506 1872 2764 1633 \n",
       "Q 3022 1394 3022 966 \n",
       "Q 3022 478 2636 193 \n",
       "Q 2250 -91 1575 -91 \n",
       "Q 1294 -91 989 -36 \n",
       "Q 684 19 347 128 \n",
       "L 347 722 \n",
       "Q 666 556 975 473 \n",
       "Q 1284 391 1588 391 \n",
       "Q 1994 391 2212 530 \n",
       "Q 2431 669 2431 922 \n",
       "Q 2431 1156 2273 1281 \n",
       "Q 2116 1406 1581 1522 \n",
       "L 1381 1569 \n",
       "Q 847 1681 609 1914 \n",
       "Q 372 2147 372 2553 \n",
       "Q 372 3047 722 3315 \n",
       "Q 1072 3584 1716 3584 \n",
       "Q 2034 3584 2315 3537 \n",
       "Q 2597 3491 2834 3397 \n",
       "z\n",
       "\" transform=\"scale(0.015625)\"/>\n",
       "       </defs>\n",
       "       <use xlink:href=\"#DejaVuSans-42\"/>\n",
       "       <use xlink:href=\"#DejaVuSans-69\" x=\"68.603516\"/>\n",
       "       <use xlink:href=\"#DejaVuSans-6c\" x=\"96.386719\"/>\n",
       "       <use xlink:href=\"#DejaVuSans-6c\" x=\"124.169922\"/>\n",
       "       <use xlink:href=\"#DejaVuSans-69\" x=\"151.953125\"/>\n",
       "       <use xlink:href=\"#DejaVuSans-65\" x=\"179.736328\"/>\n",
       "       <use xlink:href=\"#DejaVuSans-20\" x=\"241.259766\"/>\n",
       "       <use xlink:href=\"#DejaVuSans-45\" x=\"273.046875\"/>\n",
       "       <use xlink:href=\"#DejaVuSans-69\" x=\"336.230469\"/>\n",
       "       <use xlink:href=\"#DejaVuSans-6c\" x=\"364.013672\"/>\n",
       "       <use xlink:href=\"#DejaVuSans-69\" x=\"391.796875\"/>\n",
       "       <use xlink:href=\"#DejaVuSans-73\" x=\"419.580078\"/>\n",
       "       <use xlink:href=\"#DejaVuSans-68\" x=\"471.679688\"/>\n",
       "      </g>\n",
       "     </g>\n",
       "    </g>\n",
       "    <g id=\"text_20\">\n",
       "     <!-- Artist -->\n",
       "     <g style=\"fill: #262626\" transform=\"translate(14.798438 168.763969)rotate(-90)scale(0.1 -0.1)\">\n",
       "      <use xlink:href=\"#DejaVuSans-41\"/>\n",
       "      <use xlink:href=\"#DejaVuSans-72\" x=\"68.408203\"/>\n",
       "      <use xlink:href=\"#DejaVuSans-74\" x=\"109.521484\"/>\n",
       "      <use xlink:href=\"#DejaVuSans-69\" x=\"148.730469\"/>\n",
       "      <use xlink:href=\"#DejaVuSans-73\" x=\"176.513672\"/>\n",
       "      <use xlink:href=\"#DejaVuSans-74\" x=\"228.613281\"/>\n",
       "     </g>\n",
       "    </g>\n",
       "   </g>\n",
       "   <g id=\"patch_3\">\n",
       "    <path d=\"M 105.445313 24.979245 \n",
       "L 445.559598 24.979245 \n",
       "L 445.559598 46.268205 \n",
       "L 105.445313 46.268205 \n",
       "z\n",
       "\" clip-path=\"url(#p9d1fb19e0e)\" style=\"fill: #ea96a3; stroke: #ffffff; stroke-linejoin: miter\"/>\n",
       "   </g>\n",
       "   <g id=\"patch_4\">\n",
       "    <path d=\"M 105.445313 51.590445 \n",
       "L 442.357446 51.590445 \n",
       "L 442.357446 72.879405 \n",
       "L 105.445313 72.879405 \n",
       "z\n",
       "\" clip-path=\"url(#p9d1fb19e0e)\" style=\"fill: #d7944e; stroke: #ffffff; stroke-linejoin: miter\"/>\n",
       "   </g>\n",
       "   <g id=\"patch_5\">\n",
       "    <path d=\"M 105.445313 78.201645 \n",
       "L 420.171107 78.201645 \n",
       "L 420.171107 99.490605 \n",
       "L 105.445313 99.490605 \n",
       "z\n",
       "\" clip-path=\"url(#p9d1fb19e0e)\" style=\"fill: #ab9e47; stroke: #ffffff; stroke-linejoin: miter\"/>\n",
       "   </g>\n",
       "   <g id=\"patch_6\">\n",
       "    <path d=\"M 105.445313 104.812845 \n",
       "L 399.35712 104.812845 \n",
       "L 399.35712 126.101805 \n",
       "L 105.445313 126.101805 \n",
       "z\n",
       "\" clip-path=\"url(#p9d1fb19e0e)\" style=\"fill: #7fa946; stroke: #ffffff; stroke-linejoin: miter\"/>\n",
       "   </g>\n",
       "   <g id=\"patch_7\">\n",
       "    <path d=\"M 105.445313 131.424045 \n",
       "L 331.654478 131.424045 \n",
       "L 331.654478 152.713005 \n",
       "L 105.445313 152.713005 \n",
       "z\n",
       "\" clip-path=\"url(#p9d1fb19e0e)\" style=\"fill: #49ae83; stroke: #ffffff; stroke-linejoin: miter\"/>\n",
       "   </g>\n",
       "   <g id=\"patch_8\">\n",
       "    <path d=\"M 105.445313 158.035245 \n",
       "L 313.813917 158.035245 \n",
       "L 313.813917 179.324205 \n",
       "L 105.445313 179.324205 \n",
       "z\n",
       "\" clip-path=\"url(#p9d1fb19e0e)\" style=\"fill: #4baba4; stroke: #ffffff; stroke-linejoin: miter\"/>\n",
       "   </g>\n",
       "   <g id=\"patch_9\">\n",
       "    <path d=\"M 105.445313 184.646445 \n",
       "L 306.952162 184.646445 \n",
       "L 306.952162 205.935405 \n",
       "L 105.445313 205.935405 \n",
       "z\n",
       "\" clip-path=\"url(#p9d1fb19e0e)\" style=\"fill: #50acc3; stroke: #ffffff; stroke-linejoin: miter\"/>\n",
       "   </g>\n",
       "   <g id=\"patch_10\">\n",
       "    <path d=\"M 105.445313 211.257645 \n",
       "L 287.967976 211.257645 \n",
       "L 287.967976 232.546605 \n",
       "L 105.445313 232.546605 \n",
       "z\n",
       "\" clip-path=\"url(#p9d1fb19e0e)\" style=\"fill: #94aee8; stroke: #ffffff; stroke-linejoin: miter\"/>\n",
       "   </g>\n",
       "   <g id=\"patch_11\">\n",
       "    <path d=\"M 105.445313 237.868845 \n",
       "L 285.223274 237.868845 \n",
       "L 285.223274 259.157805 \n",
       "L 105.445313 259.157805 \n",
       "z\n",
       "\" clip-path=\"url(#p9d1fb19e0e)\" style=\"fill: #ce9be9; stroke: #ffffff; stroke-linejoin: miter\"/>\n",
       "   </g>\n",
       "   <g id=\"patch_12\">\n",
       "    <path d=\"M 105.445313 264.480045 \n",
       "L 283.164748 264.480045 \n",
       "L 283.164748 285.769005 \n",
       "L 105.445313 285.769005 \n",
       "z\n",
       "\" clip-path=\"url(#p9d1fb19e0e)\" style=\"fill: #e88fcc; stroke: #ffffff; stroke-linejoin: miter\"/>\n",
       "   </g>\n",
       "   <g id=\"line2d_9\">\n",
       "    <path clip-path=\"url(#p9d1fb19e0e)\" style=\"fill: none; stroke: #424242; stroke-width: 2.7; stroke-linecap: round\"/>\n",
       "   </g>\n",
       "   <g id=\"line2d_10\">\n",
       "    <path clip-path=\"url(#p9d1fb19e0e)\" style=\"fill: none; stroke: #424242; stroke-width: 2.7; stroke-linecap: round\"/>\n",
       "   </g>\n",
       "   <g id=\"line2d_11\">\n",
       "    <path clip-path=\"url(#p9d1fb19e0e)\" style=\"fill: none; stroke: #424242; stroke-width: 2.7; stroke-linecap: round\"/>\n",
       "   </g>\n",
       "   <g id=\"line2d_12\">\n",
       "    <path clip-path=\"url(#p9d1fb19e0e)\" style=\"fill: none; stroke: #424242; stroke-width: 2.7; stroke-linecap: round\"/>\n",
       "   </g>\n",
       "   <g id=\"line2d_13\">\n",
       "    <path clip-path=\"url(#p9d1fb19e0e)\" style=\"fill: none; stroke: #424242; stroke-width: 2.7; stroke-linecap: round\"/>\n",
       "   </g>\n",
       "   <g id=\"line2d_14\">\n",
       "    <path clip-path=\"url(#p9d1fb19e0e)\" style=\"fill: none; stroke: #424242; stroke-width: 2.7; stroke-linecap: round\"/>\n",
       "   </g>\n",
       "   <g id=\"line2d_15\">\n",
       "    <path clip-path=\"url(#p9d1fb19e0e)\" style=\"fill: none; stroke: #424242; stroke-width: 2.7; stroke-linecap: round\"/>\n",
       "   </g>\n",
       "   <g id=\"line2d_16\">\n",
       "    <path clip-path=\"url(#p9d1fb19e0e)\" style=\"fill: none; stroke: #424242; stroke-width: 2.7; stroke-linecap: round\"/>\n",
       "   </g>\n",
       "   <g id=\"line2d_17\">\n",
       "    <path clip-path=\"url(#p9d1fb19e0e)\" style=\"fill: none; stroke: #424242; stroke-width: 2.7; stroke-linecap: round\"/>\n",
       "   </g>\n",
       "   <g id=\"line2d_18\">\n",
       "    <path clip-path=\"url(#p9d1fb19e0e)\" style=\"fill: none; stroke: #424242; stroke-width: 2.7; stroke-linecap: round\"/>\n",
       "   </g>\n",
       "   <g id=\"patch_13\">\n",
       "    <path d=\"M 105.445313 288.430125 \n",
       "L 105.445313 22.318125 \n",
       "\" style=\"fill: none; stroke: #ffffff; stroke-width: 0.8; stroke-linejoin: miter; stroke-linecap: square\"/>\n",
       "   </g>\n",
       "   <g id=\"patch_14\">\n",
       "    <path d=\"M 462.565313 288.430125 \n",
       "L 462.565313 22.318125 \n",
       "\" style=\"fill: none; stroke: #ffffff; stroke-width: 0.8; stroke-linejoin: miter; stroke-linecap: square\"/>\n",
       "   </g>\n",
       "   <g id=\"patch_15\">\n",
       "    <path d=\"M 105.445313 288.430125 \n",
       "L 462.565313 288.430125 \n",
       "\" style=\"fill: none; stroke: #ffffff; stroke-width: 0.8; stroke-linejoin: miter; stroke-linecap: square\"/>\n",
       "   </g>\n",
       "   <g id=\"patch_16\">\n",
       "    <path d=\"M 105.445313 22.318125 \n",
       "L 462.565313 22.318125 \n",
       "\" style=\"fill: none; stroke: #ffffff; stroke-width: 0.8; stroke-linejoin: miter; stroke-linecap: square\"/>\n",
       "   </g>\n",
       "   <g id=\"text_21\">\n",
       "    <!-- Most Prolific Artists -->\n",
       "    <g style=\"fill: #262626\" transform=\"translate(226.744688 16.318125)scale(0.12 -0.12)\">\n",
       "     <defs>\n",
       "      <path id=\"DejaVuSans-4d\" d=\"M 628 4666 \n",
       "L 1569 4666 \n",
       "L 2759 1491 \n",
       "L 3956 4666 \n",
       "L 4897 4666 \n",
       "L 4897 0 \n",
       "L 4281 0 \n",
       "L 4281 4097 \n",
       "L 3078 897 \n",
       "L 2444 897 \n",
       "L 1241 4097 \n",
       "L 1241 0 \n",
       "L 628 0 \n",
       "L 628 4666 \n",
       "z\n",
       "\" transform=\"scale(0.015625)\"/>\n",
       "     </defs>\n",
       "     <use xlink:href=\"#DejaVuSans-4d\"/>\n",
       "     <use xlink:href=\"#DejaVuSans-6f\" x=\"86.279297\"/>\n",
       "     <use xlink:href=\"#DejaVuSans-73\" x=\"147.460938\"/>\n",
       "     <use xlink:href=\"#DejaVuSans-74\" x=\"199.560547\"/>\n",
       "     <use xlink:href=\"#DejaVuSans-20\" x=\"238.769531\"/>\n",
       "     <use xlink:href=\"#DejaVuSans-50\" x=\"270.556641\"/>\n",
       "     <use xlink:href=\"#DejaVuSans-72\" x=\"329.109375\"/>\n",
       "     <use xlink:href=\"#DejaVuSans-6f\" x=\"367.972656\"/>\n",
       "     <use xlink:href=\"#DejaVuSans-6c\" x=\"429.154297\"/>\n",
       "     <use xlink:href=\"#DejaVuSans-69\" x=\"456.9375\"/>\n",
       "     <use xlink:href=\"#DejaVuSans-66\" x=\"484.720703\"/>\n",
       "     <use xlink:href=\"#DejaVuSans-69\" x=\"519.925781\"/>\n",
       "     <use xlink:href=\"#DejaVuSans-63\" x=\"547.708984\"/>\n",
       "     <use xlink:href=\"#DejaVuSans-20\" x=\"602.689453\"/>\n",
       "     <use xlink:href=\"#DejaVuSans-41\" x=\"634.476562\"/>\n",
       "     <use xlink:href=\"#DejaVuSans-72\" x=\"702.884766\"/>\n",
       "     <use xlink:href=\"#DejaVuSans-74\" x=\"743.998047\"/>\n",
       "     <use xlink:href=\"#DejaVuSans-69\" x=\"783.207031\"/>\n",
       "     <use xlink:href=\"#DejaVuSans-73\" x=\"810.990234\"/>\n",
       "     <use xlink:href=\"#DejaVuSans-74\" x=\"863.089844\"/>\n",
       "     <use xlink:href=\"#DejaVuSans-73\" x=\"902.298828\"/>\n",
       "    </g>\n",
       "   </g>\n",
       "  </g>\n",
       " </g>\n",
       " <defs>\n",
       "  <clipPath id=\"p9d1fb19e0e\">\n",
       "   <rect x=\"105.445313\" y=\"22.318125\" width=\"357.12\" height=\"266.112\"/>\n",
       "  </clipPath>\n",
       " </defs>\n",
       "</svg>\n"
      ],
      "text/plain": [
       "<Figure size 640x480 with 1 Axes>"
      ]
     },
     "metadata": {},
     "output_type": "display_data"
    }
   ],
   "source": [
    "# 위와 같은 그림 이쁘게\n",
    "sns.barplot(data=result_df, y='Artist', x='count').set_title('Most Prolific Artists');"
   ]
  },
  {
   "cell_type": "code",
   "execution_count": 22,
   "id": "1584a2af",
   "metadata": {},
   "outputs": [],
   "source": [
    "#  메모리에 테이블의 임시 view 만들기\n",
    "df.createOrReplaceTempView(\"df_table\")"
   ]
  },
  {
   "cell_type": "code",
   "execution_count": 23,
   "id": "807559f9",
   "metadata": {},
   "outputs": [
    {
     "name": "stdout",
     "output_type": "stream",
     "text": [
      "Now using the SQL Context. We can check it's the same length as before\n",
      "+--------------+\n",
      "|Dataset_Length|\n",
      "+--------------+\n",
      "|        170633|\n",
      "+--------------+\n",
      "\n"
     ]
    }
   ],
   "source": [
    "print(\"Now using the SQL Context. We can check it's the same length as before\")\n",
    "query = \"\"\"\n",
    "    SELECT Count(*) as Dataset_Length\n",
    "    FROM df_table\n",
    "\"\"\"\n",
    "res = spark.sql(query).show()"
   ]
  },
  {
   "cell_type": "code",
   "execution_count": 24,
   "id": "34678ff5",
   "metadata": {},
   "outputs": [
    {
     "name": "stderr",
     "output_type": "stream",
     "text": [
      "\r",
      "[Stage 22:>                                                         (0 + 2) / 2]\r"
     ]
    },
    {
     "name": "stdout",
     "output_type": "stream",
     "text": [
      "+------------------------------+----------+\n",
      "|Artist                        |Populartiy|\n",
      "+------------------------------+----------+\n",
      "|Post Malone - Quavo           |130719.15 |\n",
      "|XXXTENTACION - Trippie Redd   |97016.35  |\n",
      "|Meek Mill - Drake             |83235.95  |\n",
      "|Post Malone - 21 Savage       |159633.25 |\n",
      "|Billie Eilish - Khalid        |79693.9   |\n",
      "|Marshmello - Bastille         |74560.5   |\n",
      "|Cardi B - Bad Bunny - J Balvin|74381.6   |\n",
      "|Migos - Lil Uzi Vert          |70138.2   |\n",
      "|BlocBoy JB - Drake            |69576.75  |\n",
      "|Kendrick Lamar - Zacari       |67838.15  |\n",
      "+------------------------------+----------+\n",
      "\n"
     ]
    },
    {
     "name": "stderr",
     "output_type": "stream",
     "text": [
      "\r",
      "                                                                                \r"
     ]
    }
   ],
   "source": [
    "# 미국에서 가장 인기 있는 아티스트(노래의 인기 합계)\n",
    "query = \"\"\"\n",
    "SELECT\n",
    "                                    Artist, \n",
    "       ROUND(SUM(Popularity), 2) AS Populartiy\n",
    "FROM df_table\n",
    "WHERE USA == 1\n",
    "GROUP BY Artist\n",
    "ORDER BY AVG(Popularity) DESC\n",
    "LIMIT 10\n",
    "\"\"\"\n",
    "\n",
    "res = spark.sql(query)\n",
    "res.show(10, truncate=False)"
   ]
  },
  {
   "cell_type": "code",
   "execution_count": 48,
   "id": "3e17f04c",
   "metadata": {},
   "outputs": [
    {
     "name": "stderr",
     "output_type": "stream",
     "text": [
      "\r",
      "[Stage 68:>                                                         (0 + 2) / 2]\r"
     ]
    },
    {
     "name": "stdout",
     "output_type": "stream",
     "text": [
      "+------------------------------+-----------------------------------+------------+-------------------------+\n",
      "|Title                         |Artist                             |Release_date|Genre                    |\n",
      "+------------------------------+-----------------------------------+------------+-------------------------+\n",
      "|instant destiny               |Tame Impala                        |2020-02-14  |australian psych         |\n",
      "|blinding lights               |The Weeknd                         |2020-03-20  |canadian contemporary r&b|\n",
      "|bichiyal                      |Bad Bunny - Yaviah                 |2020-02-28  |latin                    |\n",
      "|rich rich                     |Ufo361                             |2020-02-21  |german cloud rap         |\n",
      "|yummy                         |Justin Bieber                      |2020-02-14  |canadian pop             |\n",
      "|25/8                          |Bad Bunny                          |2020-02-28  |latin                    |\n",
      "|hawái                         |Maluma                             |2020-07-29  |reggaeton                |\n",
      "|quero você do jeito que quiser|Marília Mendonça - Maiara & Maraisa|2020-09-04  |sertanejo                |\n",
      "|forever after all             |Luke Combs                         |2020-10-23  |contemporary country     |\n",
      "|argentina                     |Gunna                              |2020-05-22  |atl hip hop              |\n",
      "+------------------------------+-----------------------------------+------------+-------------------------+\n",
      "only showing top 10 rows\n",
      "\n"
     ]
    },
    {
     "name": "stderr",
     "output_type": "stream",
     "text": [
      "\r",
      "                                                                                \r"
     ]
    }
   ],
   "source": [
    "# 2020년에 발표된 곡\n",
    "(df.filter(F.year(df['Release_date']) == 2020)\n",
    "   .select('Title', 'Artist','Release_date', 'Genre')\n",
    "   .distinct()\n",
    "   .show(10, truncate=False)\n",
    ")"
   ]
  },
  {
   "cell_type": "code",
   "execution_count": 25,
   "id": "af1dfb1e",
   "metadata": {},
   "outputs": [
    {
     "name": "stderr",
     "output_type": "stream",
     "text": [
      "\r",
      "[Stage 25:>                                                         (0 + 2) / 2]\r"
     ]
    },
    {
     "name": "stdout",
     "output_type": "stream",
     "text": [
      "+--------------------------------------------+------------+------------+---------------+\n",
      "|Title                                       |Artist      |Release_date|Genre          |\n",
      "+--------------------------------------------+------------+------------+---------------+\n",
      "|moonlight serenade - 2005 remastered version|Glenn Miller|1939-09-01  |adult standards|\n",
      "+--------------------------------------------+------------+------------+---------------+\n",
      "\n"
     ]
    },
    {
     "name": "stderr",
     "output_type": "stream",
     "text": [
      "\r",
      "                                                                                \r"
     ]
    }
   ],
   "source": [
    "# 1939년에 발표된 곡\n",
    "(df.filter(F.year(df['Release_date']) == 1939)\n",
    "   .select('Title', 'Artist','Release_date', 'Genre')\n",
    "   .distinct()\n",
    "   .show(5, truncate=False)\n",
    ")"
   ]
  },
  {
   "cell_type": "markdown",
   "id": "7e358740",
   "metadata": {},
   "source": [
    "## 10년간 가장 인기 있는 노래"
   ]
  },
  {
   "cell_type": "code",
   "execution_count": 49,
   "id": "e4b19034",
   "metadata": {},
   "outputs": [
    {
     "name": "stderr",
     "output_type": "stream",
     "text": [
      "                                                                                \r"
     ]
    },
    {
     "data": {
      "text/html": [
       "<div>\n",
       "<style scoped>\n",
       "    .dataframe tbody tr th:only-of-type {\n",
       "        vertical-align: middle;\n",
       "    }\n",
       "\n",
       "    .dataframe tbody tr th {\n",
       "        vertical-align: top;\n",
       "    }\n",
       "\n",
       "    .dataframe thead th {\n",
       "        text-align: right;\n",
       "    }\n",
       "</style>\n",
       "<table border=\"1\" class=\"dataframe\">\n",
       "  <thead>\n",
       "    <tr style=\"text-align: right;\">\n",
       "      <th></th>\n",
       "      <th>Decade</th>\n",
       "      <th>Popularity</th>\n",
       "      <th>Title</th>\n",
       "      <th>Artist</th>\n",
       "    </tr>\n",
       "  </thead>\n",
       "  <tbody>\n",
       "    <tr>\n",
       "      <th>10</th>\n",
       "      <td>NaN</td>\n",
       "      <td>98.60</td>\n",
       "      <td>say it loud - im black and im proud</td>\n",
       "      <td>James Brown</td>\n",
       "    </tr>\n",
       "    <tr>\n",
       "      <th>11</th>\n",
       "      <td>1940.0</td>\n",
       "      <td>840.50</td>\n",
       "      <td>have yourself a merry little christmas</td>\n",
       "      <td>Judy Garland</td>\n",
       "    </tr>\n",
       "    <tr>\n",
       "      <th>12</th>\n",
       "      <td>1950.0</td>\n",
       "      <td>997.60</td>\n",
       "      <td>mele kalikimaka</td>\n",
       "      <td>Bing Crosby - The Andrews Sisters</td>\n",
       "    </tr>\n",
       "    <tr>\n",
       "      <th>15</th>\n",
       "      <td>1960.0</td>\n",
       "      <td>9704.95</td>\n",
       "      <td>blue christmas</td>\n",
       "      <td>Elvis Presley</td>\n",
       "    </tr>\n",
       "    <tr>\n",
       "      <th>16</th>\n",
       "      <td>1970.0</td>\n",
       "      <td>98.40</td>\n",
       "      <td>me and julio down by the schoolyard</td>\n",
       "      <td>Paul Simon</td>\n",
       "    </tr>\n",
       "    <tr>\n",
       "      <th>24</th>\n",
       "      <td>1980.0</td>\n",
       "      <td>98.60</td>\n",
       "      <td>listen to her heart</td>\n",
       "      <td>Tom Petty and the Heartbreakers</td>\n",
       "    </tr>\n",
       "    <tr>\n",
       "      <th>32</th>\n",
       "      <td>1990.0</td>\n",
       "      <td>98.40</td>\n",
       "      <td>home for the holidays - 1959 version</td>\n",
       "      <td>Perry Como</td>\n",
       "    </tr>\n",
       "    <tr>\n",
       "      <th>40</th>\n",
       "      <td>2000.0</td>\n",
       "      <td>9476.05</td>\n",
       "      <td>feliz navidad</td>\n",
       "      <td>José Feliciano</td>\n",
       "    </tr>\n",
       "    <tr>\n",
       "      <th>75</th>\n",
       "      <td>2010.0</td>\n",
       "      <td>98.60</td>\n",
       "      <td>suomirokkia</td>\n",
       "      <td>Aknestik</td>\n",
       "    </tr>\n",
       "    <tr>\n",
       "      <th>383</th>\n",
       "      <td>2020.0</td>\n",
       "      <td>99912.30</td>\n",
       "      <td>drip too hard</td>\n",
       "      <td>Lil Baby - Gunna</td>\n",
       "    </tr>\n",
       "  </tbody>\n",
       "</table>\n",
       "</div>"
      ],
      "text/plain": [
       "     Decade  Popularity                                   Title  \\\n",
       "10      NaN       98.60     say it loud - im black and im proud   \n",
       "11   1940.0      840.50  have yourself a merry little christmas   \n",
       "12   1950.0      997.60                         mele kalikimaka   \n",
       "15   1960.0     9704.95                          blue christmas   \n",
       "16   1970.0       98.40     me and julio down by the schoolyard   \n",
       "24   1980.0       98.60                     listen to her heart   \n",
       "32   1990.0       98.40    home for the holidays - 1959 version   \n",
       "40   2000.0     9476.05                           feliz navidad   \n",
       "75   2010.0       98.60                             suomirokkia   \n",
       "383  2020.0    99912.30                           drip too hard   \n",
       "\n",
       "                                Artist  \n",
       "10                         James Brown  \n",
       "11                        Judy Garland  \n",
       "12   Bing Crosby - The Andrews Sisters  \n",
       "15                       Elvis Presley  \n",
       "16                          Paul Simon  \n",
       "24     Tom Petty and the Heartbreakers  \n",
       "32                          Perry Como  \n",
       "40                      José Feliciano  \n",
       "75                            Aknestik  \n",
       "383                   Lil Baby - Gunna  "
      ]
     },
     "execution_count": 49,
     "metadata": {},
     "output_type": "execute_result"
    }
   ],
   "source": [
    "query = \"\"\"\n",
    "SELECT\n",
    "        ROUND(Year(Release_date), -1) AS Decade,\n",
    "        Round(Popularity, 2)          AS Popularity,\n",
    "                                         Title,\n",
    "                                         Artist\n",
    "FROM df_table\n",
    "INNER JOIN (SELECT Max(Popularity) as mp\n",
    "            FROM df_table\n",
    "            WHERE ROUND(Year(Release_date), -1) IS NOT NULL\n",
    "            AND USA == 1\n",
    "            GROUP BY ROUND(Year(Release_date), -1)\n",
    "           ) AS temp\n",
    "ON temp.mp = df_table.Popularity\n",
    "ORDER BY Decade ASC, Popularity ASC\n",
    "\"\"\"\n",
    "\n",
    "res = spark.sql(query)\n",
    "res.toPandas().drop_duplicates(subset='Decade', keep=\"last\")"
   ]
  },
  {
   "cell_type": "code",
   "execution_count": 26,
   "id": "55c557b0",
   "metadata": {},
   "outputs": [
    {
     "name": "stderr",
     "output_type": "stream",
     "text": [
      "\r",
      "[Stage 28:>                                                         (0 + 2) / 2]\r"
     ]
    },
    {
     "name": "stdout",
     "output_type": "stream",
     "text": [
      "+------+----------+--------------------+--------------------+\n",
      "|Decade|Popularity|               Title|              Artist|\n",
      "+------+----------+--------------------+--------------------+\n",
      "|  1940|     840.5|     white christmas|Bing Crosby - Ken...|\n",
      "|  1950|     997.6|ill be home for c...|         Bing Crosby|\n",
      "|  1960|   9704.95|    jingle bell rock|         Bobby Helms|\n",
      "|  1970|      98.4|what christmas me...|       Stevie Wonder|\n",
      "|  1980|      98.6|dreams - 2004 rem...|       Fleetwood Mac|\n",
      "|  1990|     97.75|            spoonman|         Soundgarden|\n",
      "|  2000|   9476.05|       feliz navidad|      José Feliciano|\n",
      "|  2010|     97.75|         tongue tied|           Grouplove|\n",
      "|  2020|   99912.3|       drip too hard|    Lil Baby - Gunna|\n",
      "+------+----------+--------------------+--------------------+\n",
      "\n"
     ]
    },
    {
     "name": "stderr",
     "output_type": "stream",
     "text": [
      "\r",
      "                                                                                \r"
     ]
    }
   ],
   "source": [
    "# highly optimized version of the above query via scalar-aggregate-reduction\n",
    "query = \"\"\"\n",
    "SELECT\n",
    "    ROUND(Year(Release_date), -1) as Decade,\n",
    "    ROUND(Max(Popularity), 2) as Popularity,\n",
    "    SUBSTRING(MAX(CONCAT(LPAD(Popularity, 11, 0), Title)), 12) AS Title,\n",
    "    SUBSTRING(MAX(CONCAT(LPAD(Popularity, 11, 0), Artist)), 12) AS Artist\n",
    "FROM\n",
    "    df_table\n",
    "WHERE\n",
    "    ROUND(Year(Release_date), -1) IS NOT NULL\n",
    "    AND USA == 1\n",
    "GROUP BY Decade\n",
    "ORDER BY Decade ASC\n",
    "\"\"\"\n",
    "\n",
    "spark.sql(query).show()"
   ]
  },
  {
   "cell_type": "code",
   "execution_count": 27,
   "id": "66552941",
   "metadata": {},
   "outputs": [
    {
     "name": "stderr",
     "output_type": "stream",
     "text": [
      "\r",
      "[Stage 31:>                                                         (0 + 2) / 2]\r"
     ]
    },
    {
     "name": "stdout",
     "output_type": "stream",
     "text": [
      "+---------+-----+\n",
      "|    Genre|Tally|\n",
      "+---------+-----+\n",
      "|dance pop|25351|\n",
      "|    latin| 7591|\n",
      "|      pop| 7146|\n",
      "|    k-pop| 4053|\n",
      "|      n-a| 3952|\n",
      "+---------+-----+\n",
      "only showing top 5 rows\n",
      "\n"
     ]
    },
    {
     "name": "stderr",
     "output_type": "stream",
     "text": [
      "\r",
      "                                                                                \r"
     ]
    }
   ],
   "source": [
    "# 10년마다 가장 인기 있는 장르\n",
    "query = \"\"\"\n",
    "SELECT Genre, COUNT(*) AS Tally\n",
    "FROM df_table\n",
    "GROUP BY Genre\n",
    "ORDER BY Tally DESC\n",
    "\"\"\"\n",
    "spark.sql(query).show(5)"
   ]
  },
  {
   "cell_type": "code",
   "execution_count": 28,
   "id": "957516cf",
   "metadata": {},
   "outputs": [
    {
     "name": "stderr",
     "output_type": "stream",
     "text": [
      "                                                                                \r"
     ]
    },
    {
     "name": "stdout",
     "output_type": "stream",
     "text": [
      "+------+-------------------+------+\n",
      "|Decade|              Genre|counts|\n",
      "+------+-------------------+------+\n",
      "|  1900|vocal harmony group|     1|\n",
      "|  1930|        movie tunes|     1|\n",
      "|  1940|    adult standards|    39|\n",
      "|  1950|    adult standards|    36|\n",
      "|  1960|    adult standards|   186|\n",
      "|  1970|       classic soul|   152|\n",
      "|  1980|         album rock|   379|\n",
      "|  1990|         irish rock|   170|\n",
      "|  2000|  alternative metal|   477|\n",
      "|  2010|          dance pop|  1052|\n",
      "|  2020|          dance pop| 23496|\n",
      "+------+-------------------+------+\n",
      "\n"
     ]
    }
   ],
   "source": [
    "query = \"\"\"\n",
    "SELECT\n",
    "      ROUND(Year(Release_date), -1) AS Decade,\n",
    "      Genre, COUNT(Genre)           AS counts\n",
    "FROM  df_table\n",
    "WHERE ROUND(Year(Release_date), -1) IS NOT NULL\n",
    "GROUP BY Decade, Genre\n",
    "ORDER BY COUNT(Genre) DESC\n",
    "\"\"\"\n",
    "\n",
    "res = (spark.sql(query)\n",
    "            .dropDuplicates(subset=['Decade'])\n",
    "            .orderBy('Decade')\n",
    "            .show()\n",
    "      )\n",
    "# res.toPandas().drop_duplicates(subset='Decade', keep=\"first\")"
   ]
  },
  {
   "cell_type": "code",
   "execution_count": 65,
   "id": "20ab3305",
   "metadata": {},
   "outputs": [
    {
     "name": "stderr",
     "output_type": "stream",
     "text": [
      "[Stage 116:============================>                            (1 + 1) / 2]\r"
     ]
    },
    {
     "name": "stdout",
     "output_type": "stream",
     "text": [
      "+--------------------+----------------+------------+-----------------+\n",
      "|               Title|          Artist|Release_date|  max(Popularity)|\n",
      "+--------------------+----------------+------------+-----------------+\n",
      "|               tempo|             EXO|  2018-11-02|          9983.35|\n",
      "|    the truth untold|BTS - Steve Aoki|  2018-05-18|9965.099999999997|\n",
      "|          black swan|             BTS|  2020-01-17|            995.2|\n",
      "|               apple|         GFRIEND|  2020-07-13|           993.35|\n",
      "|           boombayah|       BLACKPINK|  2016-08-08|9924.850000000004|\n",
      "|  dont call me again|           TWICE|  2020-06-01|            99.45|\n",
      "|we are bulletproo...|             BTS|  2020-02-21|            99.45|\n",
      "|             im fine|             BTS|  2018-08-24|            99.35|\n",
      "|                 ddd|            EXID|  2017-11-07|99.20000000000002|\n",
      "|                 one|          SuperM|  2020-09-25|99.20000000000002|\n",
      "|  intro: serendipity|             BTS|  2017-09-18|             99.2|\n",
      "|  trivia 轉 : seesaw|             BTS|  2018-08-24|             99.2|\n",
      "|          what u do?|             EXO|  2017-07-18|             99.2|\n",
      "|   how you like that|       BLACKPINK|  2020-10-02|988.7500000000003|\n",
      "|              rookie|      Red Velvet|  2017-02-01|988.2000000000003|\n",
      "|         mikrokosmos|             BTS|  2019-04-12|          9851.45|\n",
      "|  bullshit - kr ver.|        G-DRAGON|  2017-06-09|           985.45|\n",
      "|              bbibbi|              IU|  2018-10-10|9804.649999999998|\n",
      "|      you never know|       BLACKPINK|  2020-10-02|             98.8|\n",
      "|    dont let me know|            iKON|  2018-10-01|             98.6|\n",
      "+--------------------+----------------+------------+-----------------+\n",
      "only showing top 20 rows\n",
      "\n"
     ]
    },
    {
     "name": "stderr",
     "output_type": "stream",
     "text": [
      "\r",
      "                                                                                \r"
     ]
    }
   ],
   "source": [
    "# k-pop 아티스트별 가장 인기있는 음방\n",
    "query = \"\"\"\n",
    "SELECT Title, Artist, Release_date, MAX(Popularity)\n",
    "FROM df_table\n",
    "WHERE Genre = \"k-pop\"\n",
    "GROUP BY Title, Artist, Release_date\n",
    "ORDER BY MAX(Popularity) DESC\n",
    "LIMIT 30\n",
    "\"\"\"\n",
    "\n",
    "res = spark.sql(query).show()"
   ]
  },
  {
   "cell_type": "code",
   "execution_count": 51,
   "id": "a4739303",
   "metadata": {},
   "outputs": [
    {
     "name": "stderr",
     "output_type": "stream",
     "text": [
      "\r",
      "[Stage 84:>                                                         (0 + 2) / 2]\r"
     ]
    },
    {
     "name": "stdout",
     "output_type": "stream",
     "text": [
      "+--------------------+-------------+------------+-----------------+\n",
      "|               Title|       Artist|Release_date|  max(Popularity)|\n",
      "+--------------------+-------------+------------+-----------------+\n",
      "|       all around me|Justin Bieber|  2020-02-14|            849.0|\n",
      "|as long as you lo...|Justin Bieber|  2013-01-01|65.60000000000001|\n",
      "|    at least for now|Justin Bieber|  2020-02-14|             71.2|\n",
      "|           available|Justin Bieber|  2020-02-14|            891.1|\n",
      "|            been you|Justin Bieber|  2015-11-13|             78.4|\n",
      "|           boyfriend|Justin Bieber|  2012-01-01|           153.95|\n",
      "|             changes|Justin Bieber|  2020-02-14|              9.6|\n",
      "|            children|Justin Bieber|  2015-11-13|             44.0|\n",
      "|      christmas love|Justin Bieber|  2011-01-01|             98.4|\n",
      "|      come around me|Justin Bieber|  2020-02-14|89.60000000000002|\n",
      "+--------------------+-------------+------------+-----------------+\n",
      "\n"
     ]
    },
    {
     "name": "stderr",
     "output_type": "stream",
     "text": [
      "\r",
      "                                                                                \r"
     ]
    }
   ],
   "source": [
    "# 저스틴 비버의 음반\n",
    "query = \"\"\"\n",
    "SELECT Title, Artist, Release_date, MAX(Popularity)\n",
    "FROM df_table\n",
    "WHERE Artist == \"Justin Bieber\"\n",
    "GROUP BY Title, Artist, Release_date\n",
    "LIMIT 10\n",
    "\"\"\"\n",
    "\n",
    "res = spark.sql(query).show()"
   ]
  },
  {
   "cell_type": "code",
   "execution_count": 29,
   "id": "bdf34bc0",
   "metadata": {},
   "outputs": [
    {
     "name": "stderr",
     "output_type": "stream",
     "text": [
      "\r",
      "[Stage 46:>                                                         (0 + 2) / 2]\r"
     ]
    },
    {
     "name": "stdout",
     "output_type": "stream",
     "text": [
      "+--------------------+------------+------------+------------------+\n",
      "|               Title|      Artist|Release_date|   max(Popularity)|\n",
      "+--------------------+------------+------------+------------------+\n",
      "|          adan y eva|Paulo Londra|  2018-11-05| 849.6000000000001|\n",
      "|          adan y eva|Paulo Londra|  2019-05-23| 57194.60000000001|\n",
      "|    chica paranormal|Paulo Londra|  2018-07-24|           6341.35|\n",
      "|    chica paranormal|Paulo Londra|  2019-05-23|           9409.05|\n",
      "|condenado para el...|Paulo Londra|  2017-12-04| 617.6000000000001|\n",
      "|condenado para el...|Paulo Londra|  2018-11-03|             852.0|\n",
      "|condenado para el...|Paulo Londra|  2019-05-23| 586.7500000000001|\n",
      "|confiado & tranquilo|Paulo Londra|  2017-05-30|375.20000000000016|\n",
      "|        cámara lenta|Paulo Londra|  2017-10-07| 8088.800000000004|\n",
      "|      demasiado loco|Paulo Londra|  2019-05-23| 6337.350000000001|\n",
      "+--------------------+------------+------------+------------------+\n",
      "\n"
     ]
    },
    {
     "name": "stderr",
     "output_type": "stream",
     "text": [
      "\r",
      "                                                                                \r"
     ]
    }
   ],
   "source": [
    "# 각 트랙마다 가장 인기가 많았던 날\n",
    "query = \"\"\"\n",
    "SELECT Title, Artist, Release_date, MAX(Popularity)\n",
    "FROM df_table\n",
    "WHERE Artist == \"Paulo Londra\"\n",
    "GROUP BY Title, Artist, Release_date\n",
    "LIMIT 10\n",
    "\"\"\"\n",
    "\n",
    "res = spark.sql(query).show()"
   ]
  },
  {
   "cell_type": "markdown",
   "id": "a7b76b9d",
   "metadata": {},
   "source": [
    "## 수십년 동안의 음악 변화"
   ]
  },
  {
   "cell_type": "code",
   "execution_count": 52,
   "id": "30dfccbe",
   "metadata": {},
   "outputs": [
    {
     "name": "stderr",
     "output_type": "stream",
     "text": [
      "                                                                                \r"
     ]
    },
    {
     "data": {
      "application/vnd.plotly.v1+json": {
       "config": {
        "plotlyServerURL": "https://plot.ly"
       },
       "data": [
        {
         "hovertemplate": "variable=danceability<br>Decade=%{x}<br>value=%{y}<extra></extra>",
         "legendgroup": "danceability",
         "line": {
          "color": "#636efa",
          "dash": "solid"
         },
         "marker": {
          "symbol": "circle"
         },
         "mode": "lines",
         "name": "danceability",
         "orientation": "v",
         "showlegend": true,
         "type": "scatter",
         "x": [
          1940,
          1950,
          1960,
          1970,
          1980,
          1990,
          2000,
          2010,
          2020
         ],
         "xaxis": "x",
         "y": [
          0.1629999980330467,
          0.5979999899864197,
          0.7537590349654117,
          0.697534591053267,
          0.6359236571489528,
          0.537390311930509,
          0.539000993869445,
          0.5130987081372617,
          0.4849220512284239
         ],
         "yaxis": "y"
        },
        {
         "hovertemplate": "variable=energy<br>Decade=%{x}<br>value=%{y}<extra></extra>",
         "legendgroup": "energy",
         "line": {
          "color": "#EF553B",
          "dash": "solid"
         },
         "marker": {
          "symbol": "circle"
         },
         "mode": "lines",
         "name": "energy",
         "orientation": "v",
         "showlegend": true,
         "type": "scatter",
         "x": [
          1940,
          1950,
          1960,
          1970,
          1980,
          1990,
          2000,
          2010,
          2020
         ],
         "xaxis": "x",
         "y": [
          0.1736000031232834,
          0.21800000220537186,
          0.41893614038645505,
          0.5298553480292266,
          0.5950580907065839,
          0.5826988602720434,
          0.6812751246013896,
          0.6238844894202186,
          0.6452382285808702
         ],
         "yaxis": "y"
        },
        {
         "hovertemplate": "variable=instrumentalness<br>Decade=%{x}<br>value=%{y}<extra></extra>",
         "legendgroup": "instrumentalness",
         "line": {
          "color": "#00cc96",
          "dash": "solid"
         },
         "marker": {
          "symbol": "circle"
         },
         "mode": "lines",
         "name": "instrumentalness",
         "orientation": "v",
         "showlegend": true,
         "type": "scatter",
         "x": [
          1940,
          1950,
          1960,
          1970,
          1980,
          1990,
          2000,
          2010,
          2020
         ],
         "xaxis": "x",
         "y": [
          0.03881999924778938,
          0.07155000232160091,
          0.04969277122921972,
          0.04645283010630113,
          0.05733900418296395,
          0.048801709470628334,
          0.06966650070217908,
          0.06415972799113413,
          0.130676016416699
         ],
         "yaxis": "y"
        },
        {
         "hovertemplate": "variable=valence<br>Decade=%{x}<br>value=%{y}<extra></extra>",
         "legendgroup": "valence",
         "line": {
          "color": "#ab63fa",
          "dash": "solid"
         },
         "marker": {
          "symbol": "circle"
         },
         "mode": "lines",
         "name": "valence",
         "orientation": "v",
         "showlegend": true,
         "type": "scatter",
         "x": [
          1940,
          1950,
          1960,
          1970,
          1980,
          1990,
          2000,
          2010,
          2020
         ],
         "xaxis": "x",
         "y": [
          0.29119999408721925,
          0.21000000834465027,
          0.1885578289897327,
          0.16832893156686668,
          0.20374647297614343,
          0.19768461703914522,
          0.2053907139853854,
          0.18051999987540196,
          0.17398031193620872
         ],
         "yaxis": "y"
        },
        {
         "hovertemplate": "variable=liveliness<br>Decade=%{x}<br>value=%{y}<extra></extra>",
         "legendgroup": "liveliness",
         "line": {
          "color": "#FFA15A",
          "dash": "solid"
         },
         "marker": {
          "symbol": "circle"
         },
         "mode": "lines",
         "name": "liveliness",
         "orientation": "v",
         "showlegend": true,
         "type": "scatter",
         "x": [
          1940,
          1950,
          1960,
          1970,
          1980,
          1990,
          2000,
          2010,
          2020
         ],
         "xaxis": "x",
         "y": [
          0.22040000259876252,
          0.48649999499320984,
          0.5439759006342256,
          0.589415097105428,
          0.6225767654378385,
          0.5335205124526622,
          0.5884577104355367,
          0.5791789119340935,
          0.6764057283601621
         ],
         "yaxis": "y"
        },
        {
         "hovertemplate": "variable=speechiness<br>Decade=%{x}<br>value=%{y}<extra></extra>",
         "legendgroup": "speechiness",
         "line": {
          "color": "#19d3f3",
          "dash": "solid"
         },
         "marker": {
          "symbol": "circle"
         },
         "mode": "lines",
         "name": "speechiness",
         "orientation": "v",
         "showlegend": true,
         "type": "scatter",
         "x": [
          1940,
          1950,
          1960,
          1970,
          1980,
          1990,
          2000,
          2010,
          2020
         ],
         "xaxis": "x",
         "y": [
          0.14394799405708908,
          0,
          0.00216362252679694,
          0.01362927766216723,
          0.01978714433706553,
          0.021211037666858164,
          0.027638037435053775,
          0.0206638213099155,
          0.014750475389264864
         ],
         "yaxis": "y"
        },
        {
         "hovertemplate": "variable=acoustics<br>Decade=%{x}<br>value=%{y}<extra></extra>",
         "legendgroup": "acoustics",
         "line": {
          "color": "#FF6692",
          "dash": "solid"
         },
         "marker": {
          "symbol": "circle"
         },
         "mode": "lines",
         "name": "acoustics",
         "orientation": "v",
         "showlegend": true,
         "type": "scatter",
         "x": [
          1940,
          1950,
          1960,
          1970,
          1980,
          1990,
          2000,
          2010,
          2020
         ],
         "xaxis": "x",
         "y": [
          0.851200008392334,
          0.7080000042915344,
          0.7397108443350677,
          0.3680238982416549,
          0.264182923550532,
          0.30420478979895027,
          0.24508908558260498,
          0.3195929980540511,
          0.23423167943171533
         ],
         "yaxis": "y"
        }
       ],
       "layout": {
        "legend": {
         "title": {
          "text": "variable"
         },
         "tracegroupgap": 0
        },
        "template": {
         "data": {
          "bar": [
           {
            "error_x": {
             "color": "#2a3f5f"
            },
            "error_y": {
             "color": "#2a3f5f"
            },
            "marker": {
             "line": {
              "color": "#E5ECF6",
              "width": 0.5
             },
             "pattern": {
              "fillmode": "overlay",
              "size": 10,
              "solidity": 0.2
             }
            },
            "type": "bar"
           }
          ],
          "barpolar": [
           {
            "marker": {
             "line": {
              "color": "#E5ECF6",
              "width": 0.5
             },
             "pattern": {
              "fillmode": "overlay",
              "size": 10,
              "solidity": 0.2
             }
            },
            "type": "barpolar"
           }
          ],
          "carpet": [
           {
            "aaxis": {
             "endlinecolor": "#2a3f5f",
             "gridcolor": "white",
             "linecolor": "white",
             "minorgridcolor": "white",
             "startlinecolor": "#2a3f5f"
            },
            "baxis": {
             "endlinecolor": "#2a3f5f",
             "gridcolor": "white",
             "linecolor": "white",
             "minorgridcolor": "white",
             "startlinecolor": "#2a3f5f"
            },
            "type": "carpet"
           }
          ],
          "choropleth": [
           {
            "colorbar": {
             "outlinewidth": 0,
             "ticks": ""
            },
            "type": "choropleth"
           }
          ],
          "contour": [
           {
            "colorbar": {
             "outlinewidth": 0,
             "ticks": ""
            },
            "colorscale": [
             [
              0,
              "#0d0887"
             ],
             [
              0.1111111111111111,
              "#46039f"
             ],
             [
              0.2222222222222222,
              "#7201a8"
             ],
             [
              0.3333333333333333,
              "#9c179e"
             ],
             [
              0.4444444444444444,
              "#bd3786"
             ],
             [
              0.5555555555555556,
              "#d8576b"
             ],
             [
              0.6666666666666666,
              "#ed7953"
             ],
             [
              0.7777777777777778,
              "#fb9f3a"
             ],
             [
              0.8888888888888888,
              "#fdca26"
             ],
             [
              1,
              "#f0f921"
             ]
            ],
            "type": "contour"
           }
          ],
          "contourcarpet": [
           {
            "colorbar": {
             "outlinewidth": 0,
             "ticks": ""
            },
            "type": "contourcarpet"
           }
          ],
          "heatmap": [
           {
            "colorbar": {
             "outlinewidth": 0,
             "ticks": ""
            },
            "colorscale": [
             [
              0,
              "#0d0887"
             ],
             [
              0.1111111111111111,
              "#46039f"
             ],
             [
              0.2222222222222222,
              "#7201a8"
             ],
             [
              0.3333333333333333,
              "#9c179e"
             ],
             [
              0.4444444444444444,
              "#bd3786"
             ],
             [
              0.5555555555555556,
              "#d8576b"
             ],
             [
              0.6666666666666666,
              "#ed7953"
             ],
             [
              0.7777777777777778,
              "#fb9f3a"
             ],
             [
              0.8888888888888888,
              "#fdca26"
             ],
             [
              1,
              "#f0f921"
             ]
            ],
            "type": "heatmap"
           }
          ],
          "heatmapgl": [
           {
            "colorbar": {
             "outlinewidth": 0,
             "ticks": ""
            },
            "colorscale": [
             [
              0,
              "#0d0887"
             ],
             [
              0.1111111111111111,
              "#46039f"
             ],
             [
              0.2222222222222222,
              "#7201a8"
             ],
             [
              0.3333333333333333,
              "#9c179e"
             ],
             [
              0.4444444444444444,
              "#bd3786"
             ],
             [
              0.5555555555555556,
              "#d8576b"
             ],
             [
              0.6666666666666666,
              "#ed7953"
             ],
             [
              0.7777777777777778,
              "#fb9f3a"
             ],
             [
              0.8888888888888888,
              "#fdca26"
             ],
             [
              1,
              "#f0f921"
             ]
            ],
            "type": "heatmapgl"
           }
          ],
          "histogram": [
           {
            "marker": {
             "pattern": {
              "fillmode": "overlay",
              "size": 10,
              "solidity": 0.2
             }
            },
            "type": "histogram"
           }
          ],
          "histogram2d": [
           {
            "colorbar": {
             "outlinewidth": 0,
             "ticks": ""
            },
            "colorscale": [
             [
              0,
              "#0d0887"
             ],
             [
              0.1111111111111111,
              "#46039f"
             ],
             [
              0.2222222222222222,
              "#7201a8"
             ],
             [
              0.3333333333333333,
              "#9c179e"
             ],
             [
              0.4444444444444444,
              "#bd3786"
             ],
             [
              0.5555555555555556,
              "#d8576b"
             ],
             [
              0.6666666666666666,
              "#ed7953"
             ],
             [
              0.7777777777777778,
              "#fb9f3a"
             ],
             [
              0.8888888888888888,
              "#fdca26"
             ],
             [
              1,
              "#f0f921"
             ]
            ],
            "type": "histogram2d"
           }
          ],
          "histogram2dcontour": [
           {
            "colorbar": {
             "outlinewidth": 0,
             "ticks": ""
            },
            "colorscale": [
             [
              0,
              "#0d0887"
             ],
             [
              0.1111111111111111,
              "#46039f"
             ],
             [
              0.2222222222222222,
              "#7201a8"
             ],
             [
              0.3333333333333333,
              "#9c179e"
             ],
             [
              0.4444444444444444,
              "#bd3786"
             ],
             [
              0.5555555555555556,
              "#d8576b"
             ],
             [
              0.6666666666666666,
              "#ed7953"
             ],
             [
              0.7777777777777778,
              "#fb9f3a"
             ],
             [
              0.8888888888888888,
              "#fdca26"
             ],
             [
              1,
              "#f0f921"
             ]
            ],
            "type": "histogram2dcontour"
           }
          ],
          "mesh3d": [
           {
            "colorbar": {
             "outlinewidth": 0,
             "ticks": ""
            },
            "type": "mesh3d"
           }
          ],
          "parcoords": [
           {
            "line": {
             "colorbar": {
              "outlinewidth": 0,
              "ticks": ""
             }
            },
            "type": "parcoords"
           }
          ],
          "pie": [
           {
            "automargin": true,
            "type": "pie"
           }
          ],
          "scatter": [
           {
            "fillpattern": {
             "fillmode": "overlay",
             "size": 10,
             "solidity": 0.2
            },
            "type": "scatter"
           }
          ],
          "scatter3d": [
           {
            "line": {
             "colorbar": {
              "outlinewidth": 0,
              "ticks": ""
             }
            },
            "marker": {
             "colorbar": {
              "outlinewidth": 0,
              "ticks": ""
             }
            },
            "type": "scatter3d"
           }
          ],
          "scattercarpet": [
           {
            "marker": {
             "colorbar": {
              "outlinewidth": 0,
              "ticks": ""
             }
            },
            "type": "scattercarpet"
           }
          ],
          "scattergeo": [
           {
            "marker": {
             "colorbar": {
              "outlinewidth": 0,
              "ticks": ""
             }
            },
            "type": "scattergeo"
           }
          ],
          "scattergl": [
           {
            "marker": {
             "colorbar": {
              "outlinewidth": 0,
              "ticks": ""
             }
            },
            "type": "scattergl"
           }
          ],
          "scattermapbox": [
           {
            "marker": {
             "colorbar": {
              "outlinewidth": 0,
              "ticks": ""
             }
            },
            "type": "scattermapbox"
           }
          ],
          "scatterpolar": [
           {
            "marker": {
             "colorbar": {
              "outlinewidth": 0,
              "ticks": ""
             }
            },
            "type": "scatterpolar"
           }
          ],
          "scatterpolargl": [
           {
            "marker": {
             "colorbar": {
              "outlinewidth": 0,
              "ticks": ""
             }
            },
            "type": "scatterpolargl"
           }
          ],
          "scatterternary": [
           {
            "marker": {
             "colorbar": {
              "outlinewidth": 0,
              "ticks": ""
             }
            },
            "type": "scatterternary"
           }
          ],
          "surface": [
           {
            "colorbar": {
             "outlinewidth": 0,
             "ticks": ""
            },
            "colorscale": [
             [
              0,
              "#0d0887"
             ],
             [
              0.1111111111111111,
              "#46039f"
             ],
             [
              0.2222222222222222,
              "#7201a8"
             ],
             [
              0.3333333333333333,
              "#9c179e"
             ],
             [
              0.4444444444444444,
              "#bd3786"
             ],
             [
              0.5555555555555556,
              "#d8576b"
             ],
             [
              0.6666666666666666,
              "#ed7953"
             ],
             [
              0.7777777777777778,
              "#fb9f3a"
             ],
             [
              0.8888888888888888,
              "#fdca26"
             ],
             [
              1,
              "#f0f921"
             ]
            ],
            "type": "surface"
           }
          ],
          "table": [
           {
            "cells": {
             "fill": {
              "color": "#EBF0F8"
             },
             "line": {
              "color": "white"
             }
            },
            "header": {
             "fill": {
              "color": "#C8D4E3"
             },
             "line": {
              "color": "white"
             }
            },
            "type": "table"
           }
          ]
         },
         "layout": {
          "annotationdefaults": {
           "arrowcolor": "#2a3f5f",
           "arrowhead": 0,
           "arrowwidth": 1
          },
          "autotypenumbers": "strict",
          "coloraxis": {
           "colorbar": {
            "outlinewidth": 0,
            "ticks": ""
           }
          },
          "colorscale": {
           "diverging": [
            [
             0,
             "#8e0152"
            ],
            [
             0.1,
             "#c51b7d"
            ],
            [
             0.2,
             "#de77ae"
            ],
            [
             0.3,
             "#f1b6da"
            ],
            [
             0.4,
             "#fde0ef"
            ],
            [
             0.5,
             "#f7f7f7"
            ],
            [
             0.6,
             "#e6f5d0"
            ],
            [
             0.7,
             "#b8e186"
            ],
            [
             0.8,
             "#7fbc41"
            ],
            [
             0.9,
             "#4d9221"
            ],
            [
             1,
             "#276419"
            ]
           ],
           "sequential": [
            [
             0,
             "#0d0887"
            ],
            [
             0.1111111111111111,
             "#46039f"
            ],
            [
             0.2222222222222222,
             "#7201a8"
            ],
            [
             0.3333333333333333,
             "#9c179e"
            ],
            [
             0.4444444444444444,
             "#bd3786"
            ],
            [
             0.5555555555555556,
             "#d8576b"
            ],
            [
             0.6666666666666666,
             "#ed7953"
            ],
            [
             0.7777777777777778,
             "#fb9f3a"
            ],
            [
             0.8888888888888888,
             "#fdca26"
            ],
            [
             1,
             "#f0f921"
            ]
           ],
           "sequentialminus": [
            [
             0,
             "#0d0887"
            ],
            [
             0.1111111111111111,
             "#46039f"
            ],
            [
             0.2222222222222222,
             "#7201a8"
            ],
            [
             0.3333333333333333,
             "#9c179e"
            ],
            [
             0.4444444444444444,
             "#bd3786"
            ],
            [
             0.5555555555555556,
             "#d8576b"
            ],
            [
             0.6666666666666666,
             "#ed7953"
            ],
            [
             0.7777777777777778,
             "#fb9f3a"
            ],
            [
             0.8888888888888888,
             "#fdca26"
            ],
            [
             1,
             "#f0f921"
            ]
           ]
          },
          "colorway": [
           "#636efa",
           "#EF553B",
           "#00cc96",
           "#ab63fa",
           "#FFA15A",
           "#19d3f3",
           "#FF6692",
           "#B6E880",
           "#FF97FF",
           "#FECB52"
          ],
          "font": {
           "color": "#2a3f5f"
          },
          "geo": {
           "bgcolor": "white",
           "lakecolor": "white",
           "landcolor": "#E5ECF6",
           "showlakes": true,
           "showland": true,
           "subunitcolor": "white"
          },
          "hoverlabel": {
           "align": "left"
          },
          "hovermode": "closest",
          "mapbox": {
           "style": "light"
          },
          "paper_bgcolor": "white",
          "plot_bgcolor": "#E5ECF6",
          "polar": {
           "angularaxis": {
            "gridcolor": "white",
            "linecolor": "white",
            "ticks": ""
           },
           "bgcolor": "#E5ECF6",
           "radialaxis": {
            "gridcolor": "white",
            "linecolor": "white",
            "ticks": ""
           }
          },
          "scene": {
           "xaxis": {
            "backgroundcolor": "#E5ECF6",
            "gridcolor": "white",
            "gridwidth": 2,
            "linecolor": "white",
            "showbackground": true,
            "ticks": "",
            "zerolinecolor": "white"
           },
           "yaxis": {
            "backgroundcolor": "#E5ECF6",
            "gridcolor": "white",
            "gridwidth": 2,
            "linecolor": "white",
            "showbackground": true,
            "ticks": "",
            "zerolinecolor": "white"
           },
           "zaxis": {
            "backgroundcolor": "#E5ECF6",
            "gridcolor": "white",
            "gridwidth": 2,
            "linecolor": "white",
            "showbackground": true,
            "ticks": "",
            "zerolinecolor": "white"
           }
          },
          "shapedefaults": {
           "line": {
            "color": "#2a3f5f"
           }
          },
          "ternary": {
           "aaxis": {
            "gridcolor": "white",
            "linecolor": "white",
            "ticks": ""
           },
           "baxis": {
            "gridcolor": "white",
            "linecolor": "white",
            "ticks": ""
           },
           "bgcolor": "#E5ECF6",
           "caxis": {
            "gridcolor": "white",
            "linecolor": "white",
            "ticks": ""
           }
          },
          "title": {
           "x": 0.05
          },
          "xaxis": {
           "automargin": true,
           "gridcolor": "white",
           "linecolor": "white",
           "ticks": "",
           "title": {
            "standoff": 15
           },
           "zerolinecolor": "white",
           "zerolinewidth": 2
          },
          "yaxis": {
           "automargin": true,
           "gridcolor": "white",
           "linecolor": "white",
           "ticks": "",
           "title": {
            "standoff": 15
           },
           "zerolinecolor": "white",
           "zerolinewidth": 2
          }
         }
        },
        "title": {
         "text": "수십년 동안의 음악 변화"
        },
        "xaxis": {
         "anchor": "y",
         "domain": [
          0,
          1
         ],
         "title": {
          "text": "Decade"
         }
        },
        "yaxis": {
         "anchor": "x",
         "domain": [
          0,
          1
         ],
         "title": {
          "text": "value"
         }
        }
       }
      },
      "text/html": [
       "<div>                            <div id=\"5d36f34e-6341-4ded-8167-dba04047c828\" class=\"plotly-graph-div\" style=\"height:525px; width:100%;\"></div>            <script type=\"text/javascript\">                require([\"plotly\"], function(Plotly) {                    window.PLOTLYENV=window.PLOTLYENV || {};                                    if (document.getElementById(\"5d36f34e-6341-4ded-8167-dba04047c828\")) {                    Plotly.newPlot(                        \"5d36f34e-6341-4ded-8167-dba04047c828\",                        [{\"hovertemplate\":\"variable=danceability<br>Decade=%{x}<br>value=%{y}<extra></extra>\",\"legendgroup\":\"danceability\",\"line\":{\"color\":\"#636efa\",\"dash\":\"solid\"},\"marker\":{\"symbol\":\"circle\"},\"mode\":\"lines\",\"name\":\"danceability\",\"orientation\":\"v\",\"showlegend\":true,\"x\":[1940.0,1950.0,1960.0,1970.0,1980.0,1990.0,2000.0,2010.0,2020.0],\"xaxis\":\"x\",\"y\":[0.1629999980330467,0.5979999899864197,0.7537590349654117,0.697534591053267,0.6359236571489528,0.537390311930509,0.539000993869445,0.5130987081372617,0.4849220512284239],\"yaxis\":\"y\",\"type\":\"scatter\"},{\"hovertemplate\":\"variable=energy<br>Decade=%{x}<br>value=%{y}<extra></extra>\",\"legendgroup\":\"energy\",\"line\":{\"color\":\"#EF553B\",\"dash\":\"solid\"},\"marker\":{\"symbol\":\"circle\"},\"mode\":\"lines\",\"name\":\"energy\",\"orientation\":\"v\",\"showlegend\":true,\"x\":[1940.0,1950.0,1960.0,1970.0,1980.0,1990.0,2000.0,2010.0,2020.0],\"xaxis\":\"x\",\"y\":[0.1736000031232834,0.21800000220537186,0.41893614038645505,0.5298553480292266,0.5950580907065839,0.5826988602720434,0.6812751246013896,0.6238844894202186,0.6452382285808702],\"yaxis\":\"y\",\"type\":\"scatter\"},{\"hovertemplate\":\"variable=instrumentalness<br>Decade=%{x}<br>value=%{y}<extra></extra>\",\"legendgroup\":\"instrumentalness\",\"line\":{\"color\":\"#00cc96\",\"dash\":\"solid\"},\"marker\":{\"symbol\":\"circle\"},\"mode\":\"lines\",\"name\":\"instrumentalness\",\"orientation\":\"v\",\"showlegend\":true,\"x\":[1940.0,1950.0,1960.0,1970.0,1980.0,1990.0,2000.0,2010.0,2020.0],\"xaxis\":\"x\",\"y\":[0.03881999924778938,0.07155000232160091,0.04969277122921972,0.04645283010630113,0.05733900418296395,0.048801709470628334,0.06966650070217908,0.06415972799113413,0.130676016416699],\"yaxis\":\"y\",\"type\":\"scatter\"},{\"hovertemplate\":\"variable=valence<br>Decade=%{x}<br>value=%{y}<extra></extra>\",\"legendgroup\":\"valence\",\"line\":{\"color\":\"#ab63fa\",\"dash\":\"solid\"},\"marker\":{\"symbol\":\"circle\"},\"mode\":\"lines\",\"name\":\"valence\",\"orientation\":\"v\",\"showlegend\":true,\"x\":[1940.0,1950.0,1960.0,1970.0,1980.0,1990.0,2000.0,2010.0,2020.0],\"xaxis\":\"x\",\"y\":[0.29119999408721925,0.21000000834465027,0.1885578289897327,0.16832893156686668,0.20374647297614343,0.19768461703914522,0.2053907139853854,0.18051999987540196,0.17398031193620872],\"yaxis\":\"y\",\"type\":\"scatter\"},{\"hovertemplate\":\"variable=liveliness<br>Decade=%{x}<br>value=%{y}<extra></extra>\",\"legendgroup\":\"liveliness\",\"line\":{\"color\":\"#FFA15A\",\"dash\":\"solid\"},\"marker\":{\"symbol\":\"circle\"},\"mode\":\"lines\",\"name\":\"liveliness\",\"orientation\":\"v\",\"showlegend\":true,\"x\":[1940.0,1950.0,1960.0,1970.0,1980.0,1990.0,2000.0,2010.0,2020.0],\"xaxis\":\"x\",\"y\":[0.22040000259876252,0.48649999499320984,0.5439759006342256,0.589415097105428,0.6225767654378385,0.5335205124526622,0.5884577104355367,0.5791789119340935,0.6764057283601621],\"yaxis\":\"y\",\"type\":\"scatter\"},{\"hovertemplate\":\"variable=speechiness<br>Decade=%{x}<br>value=%{y}<extra></extra>\",\"legendgroup\":\"speechiness\",\"line\":{\"color\":\"#19d3f3\",\"dash\":\"solid\"},\"marker\":{\"symbol\":\"circle\"},\"mode\":\"lines\",\"name\":\"speechiness\",\"orientation\":\"v\",\"showlegend\":true,\"x\":[1940.0,1950.0,1960.0,1970.0,1980.0,1990.0,2000.0,2010.0,2020.0],\"xaxis\":\"x\",\"y\":[0.14394799405708908,0.0,0.00216362252679694,0.01362927766216723,0.01978714433706553,0.021211037666858164,0.027638037435053775,0.0206638213099155,0.014750475389264864],\"yaxis\":\"y\",\"type\":\"scatter\"},{\"hovertemplate\":\"variable=acoustics<br>Decade=%{x}<br>value=%{y}<extra></extra>\",\"legendgroup\":\"acoustics\",\"line\":{\"color\":\"#FF6692\",\"dash\":\"solid\"},\"marker\":{\"symbol\":\"circle\"},\"mode\":\"lines\",\"name\":\"acoustics\",\"orientation\":\"v\",\"showlegend\":true,\"x\":[1940.0,1950.0,1960.0,1970.0,1980.0,1990.0,2000.0,2010.0,2020.0],\"xaxis\":\"x\",\"y\":[0.851200008392334,0.7080000042915344,0.7397108443350677,0.3680238982416549,0.264182923550532,0.30420478979895027,0.24508908558260498,0.3195929980540511,0.23423167943171533],\"yaxis\":\"y\",\"type\":\"scatter\"}],                        {\"template\":{\"data\":{\"histogram2dcontour\":[{\"type\":\"histogram2dcontour\",\"colorbar\":{\"outlinewidth\":0,\"ticks\":\"\"},\"colorscale\":[[0.0,\"#0d0887\"],[0.1111111111111111,\"#46039f\"],[0.2222222222222222,\"#7201a8\"],[0.3333333333333333,\"#9c179e\"],[0.4444444444444444,\"#bd3786\"],[0.5555555555555556,\"#d8576b\"],[0.6666666666666666,\"#ed7953\"],[0.7777777777777778,\"#fb9f3a\"],[0.8888888888888888,\"#fdca26\"],[1.0,\"#f0f921\"]]}],\"choropleth\":[{\"type\":\"choropleth\",\"colorbar\":{\"outlinewidth\":0,\"ticks\":\"\"}}],\"histogram2d\":[{\"type\":\"histogram2d\",\"colorbar\":{\"outlinewidth\":0,\"ticks\":\"\"},\"colorscale\":[[0.0,\"#0d0887\"],[0.1111111111111111,\"#46039f\"],[0.2222222222222222,\"#7201a8\"],[0.3333333333333333,\"#9c179e\"],[0.4444444444444444,\"#bd3786\"],[0.5555555555555556,\"#d8576b\"],[0.6666666666666666,\"#ed7953\"],[0.7777777777777778,\"#fb9f3a\"],[0.8888888888888888,\"#fdca26\"],[1.0,\"#f0f921\"]]}],\"heatmap\":[{\"type\":\"heatmap\",\"colorbar\":{\"outlinewidth\":0,\"ticks\":\"\"},\"colorscale\":[[0.0,\"#0d0887\"],[0.1111111111111111,\"#46039f\"],[0.2222222222222222,\"#7201a8\"],[0.3333333333333333,\"#9c179e\"],[0.4444444444444444,\"#bd3786\"],[0.5555555555555556,\"#d8576b\"],[0.6666666666666666,\"#ed7953\"],[0.7777777777777778,\"#fb9f3a\"],[0.8888888888888888,\"#fdca26\"],[1.0,\"#f0f921\"]]}],\"heatmapgl\":[{\"type\":\"heatmapgl\",\"colorbar\":{\"outlinewidth\":0,\"ticks\":\"\"},\"colorscale\":[[0.0,\"#0d0887\"],[0.1111111111111111,\"#46039f\"],[0.2222222222222222,\"#7201a8\"],[0.3333333333333333,\"#9c179e\"],[0.4444444444444444,\"#bd3786\"],[0.5555555555555556,\"#d8576b\"],[0.6666666666666666,\"#ed7953\"],[0.7777777777777778,\"#fb9f3a\"],[0.8888888888888888,\"#fdca26\"],[1.0,\"#f0f921\"]]}],\"contourcarpet\":[{\"type\":\"contourcarpet\",\"colorbar\":{\"outlinewidth\":0,\"ticks\":\"\"}}],\"contour\":[{\"type\":\"contour\",\"colorbar\":{\"outlinewidth\":0,\"ticks\":\"\"},\"colorscale\":[[0.0,\"#0d0887\"],[0.1111111111111111,\"#46039f\"],[0.2222222222222222,\"#7201a8\"],[0.3333333333333333,\"#9c179e\"],[0.4444444444444444,\"#bd3786\"],[0.5555555555555556,\"#d8576b\"],[0.6666666666666666,\"#ed7953\"],[0.7777777777777778,\"#fb9f3a\"],[0.8888888888888888,\"#fdca26\"],[1.0,\"#f0f921\"]]}],\"surface\":[{\"type\":\"surface\",\"colorbar\":{\"outlinewidth\":0,\"ticks\":\"\"},\"colorscale\":[[0.0,\"#0d0887\"],[0.1111111111111111,\"#46039f\"],[0.2222222222222222,\"#7201a8\"],[0.3333333333333333,\"#9c179e\"],[0.4444444444444444,\"#bd3786\"],[0.5555555555555556,\"#d8576b\"],[0.6666666666666666,\"#ed7953\"],[0.7777777777777778,\"#fb9f3a\"],[0.8888888888888888,\"#fdca26\"],[1.0,\"#f0f921\"]]}],\"mesh3d\":[{\"type\":\"mesh3d\",\"colorbar\":{\"outlinewidth\":0,\"ticks\":\"\"}}],\"scatter\":[{\"fillpattern\":{\"fillmode\":\"overlay\",\"size\":10,\"solidity\":0.2},\"type\":\"scatter\"}],\"parcoords\":[{\"type\":\"parcoords\",\"line\":{\"colorbar\":{\"outlinewidth\":0,\"ticks\":\"\"}}}],\"scatterpolargl\":[{\"type\":\"scatterpolargl\",\"marker\":{\"colorbar\":{\"outlinewidth\":0,\"ticks\":\"\"}}}],\"bar\":[{\"error_x\":{\"color\":\"#2a3f5f\"},\"error_y\":{\"color\":\"#2a3f5f\"},\"marker\":{\"line\":{\"color\":\"#E5ECF6\",\"width\":0.5},\"pattern\":{\"fillmode\":\"overlay\",\"size\":10,\"solidity\":0.2}},\"type\":\"bar\"}],\"scattergeo\":[{\"type\":\"scattergeo\",\"marker\":{\"colorbar\":{\"outlinewidth\":0,\"ticks\":\"\"}}}],\"scatterpolar\":[{\"type\":\"scatterpolar\",\"marker\":{\"colorbar\":{\"outlinewidth\":0,\"ticks\":\"\"}}}],\"histogram\":[{\"marker\":{\"pattern\":{\"fillmode\":\"overlay\",\"size\":10,\"solidity\":0.2}},\"type\":\"histogram\"}],\"scattergl\":[{\"type\":\"scattergl\",\"marker\":{\"colorbar\":{\"outlinewidth\":0,\"ticks\":\"\"}}}],\"scatter3d\":[{\"type\":\"scatter3d\",\"line\":{\"colorbar\":{\"outlinewidth\":0,\"ticks\":\"\"}},\"marker\":{\"colorbar\":{\"outlinewidth\":0,\"ticks\":\"\"}}}],\"scattermapbox\":[{\"type\":\"scattermapbox\",\"marker\":{\"colorbar\":{\"outlinewidth\":0,\"ticks\":\"\"}}}],\"scatterternary\":[{\"type\":\"scatterternary\",\"marker\":{\"colorbar\":{\"outlinewidth\":0,\"ticks\":\"\"}}}],\"scattercarpet\":[{\"type\":\"scattercarpet\",\"marker\":{\"colorbar\":{\"outlinewidth\":0,\"ticks\":\"\"}}}],\"carpet\":[{\"aaxis\":{\"endlinecolor\":\"#2a3f5f\",\"gridcolor\":\"white\",\"linecolor\":\"white\",\"minorgridcolor\":\"white\",\"startlinecolor\":\"#2a3f5f\"},\"baxis\":{\"endlinecolor\":\"#2a3f5f\",\"gridcolor\":\"white\",\"linecolor\":\"white\",\"minorgridcolor\":\"white\",\"startlinecolor\":\"#2a3f5f\"},\"type\":\"carpet\"}],\"table\":[{\"cells\":{\"fill\":{\"color\":\"#EBF0F8\"},\"line\":{\"color\":\"white\"}},\"header\":{\"fill\":{\"color\":\"#C8D4E3\"},\"line\":{\"color\":\"white\"}},\"type\":\"table\"}],\"barpolar\":[{\"marker\":{\"line\":{\"color\":\"#E5ECF6\",\"width\":0.5},\"pattern\":{\"fillmode\":\"overlay\",\"size\":10,\"solidity\":0.2}},\"type\":\"barpolar\"}],\"pie\":[{\"automargin\":true,\"type\":\"pie\"}]},\"layout\":{\"autotypenumbers\":\"strict\",\"colorway\":[\"#636efa\",\"#EF553B\",\"#00cc96\",\"#ab63fa\",\"#FFA15A\",\"#19d3f3\",\"#FF6692\",\"#B6E880\",\"#FF97FF\",\"#FECB52\"],\"font\":{\"color\":\"#2a3f5f\"},\"hovermode\":\"closest\",\"hoverlabel\":{\"align\":\"left\"},\"paper_bgcolor\":\"white\",\"plot_bgcolor\":\"#E5ECF6\",\"polar\":{\"bgcolor\":\"#E5ECF6\",\"angularaxis\":{\"gridcolor\":\"white\",\"linecolor\":\"white\",\"ticks\":\"\"},\"radialaxis\":{\"gridcolor\":\"white\",\"linecolor\":\"white\",\"ticks\":\"\"}},\"ternary\":{\"bgcolor\":\"#E5ECF6\",\"aaxis\":{\"gridcolor\":\"white\",\"linecolor\":\"white\",\"ticks\":\"\"},\"baxis\":{\"gridcolor\":\"white\",\"linecolor\":\"white\",\"ticks\":\"\"},\"caxis\":{\"gridcolor\":\"white\",\"linecolor\":\"white\",\"ticks\":\"\"}},\"coloraxis\":{\"colorbar\":{\"outlinewidth\":0,\"ticks\":\"\"}},\"colorscale\":{\"sequential\":[[0.0,\"#0d0887\"],[0.1111111111111111,\"#46039f\"],[0.2222222222222222,\"#7201a8\"],[0.3333333333333333,\"#9c179e\"],[0.4444444444444444,\"#bd3786\"],[0.5555555555555556,\"#d8576b\"],[0.6666666666666666,\"#ed7953\"],[0.7777777777777778,\"#fb9f3a\"],[0.8888888888888888,\"#fdca26\"],[1.0,\"#f0f921\"]],\"sequentialminus\":[[0.0,\"#0d0887\"],[0.1111111111111111,\"#46039f\"],[0.2222222222222222,\"#7201a8\"],[0.3333333333333333,\"#9c179e\"],[0.4444444444444444,\"#bd3786\"],[0.5555555555555556,\"#d8576b\"],[0.6666666666666666,\"#ed7953\"],[0.7777777777777778,\"#fb9f3a\"],[0.8888888888888888,\"#fdca26\"],[1.0,\"#f0f921\"]],\"diverging\":[[0,\"#8e0152\"],[0.1,\"#c51b7d\"],[0.2,\"#de77ae\"],[0.3,\"#f1b6da\"],[0.4,\"#fde0ef\"],[0.5,\"#f7f7f7\"],[0.6,\"#e6f5d0\"],[0.7,\"#b8e186\"],[0.8,\"#7fbc41\"],[0.9,\"#4d9221\"],[1,\"#276419\"]]},\"xaxis\":{\"gridcolor\":\"white\",\"linecolor\":\"white\",\"ticks\":\"\",\"title\":{\"standoff\":15},\"zerolinecolor\":\"white\",\"automargin\":true,\"zerolinewidth\":2},\"yaxis\":{\"gridcolor\":\"white\",\"linecolor\":\"white\",\"ticks\":\"\",\"title\":{\"standoff\":15},\"zerolinecolor\":\"white\",\"automargin\":true,\"zerolinewidth\":2},\"scene\":{\"xaxis\":{\"backgroundcolor\":\"#E5ECF6\",\"gridcolor\":\"white\",\"linecolor\":\"white\",\"showbackground\":true,\"ticks\":\"\",\"zerolinecolor\":\"white\",\"gridwidth\":2},\"yaxis\":{\"backgroundcolor\":\"#E5ECF6\",\"gridcolor\":\"white\",\"linecolor\":\"white\",\"showbackground\":true,\"ticks\":\"\",\"zerolinecolor\":\"white\",\"gridwidth\":2},\"zaxis\":{\"backgroundcolor\":\"#E5ECF6\",\"gridcolor\":\"white\",\"linecolor\":\"white\",\"showbackground\":true,\"ticks\":\"\",\"zerolinecolor\":\"white\",\"gridwidth\":2}},\"shapedefaults\":{\"line\":{\"color\":\"#2a3f5f\"}},\"annotationdefaults\":{\"arrowcolor\":\"#2a3f5f\",\"arrowhead\":0,\"arrowwidth\":1},\"geo\":{\"bgcolor\":\"white\",\"landcolor\":\"#E5ECF6\",\"subunitcolor\":\"white\",\"showland\":true,\"showlakes\":true,\"lakecolor\":\"white\"},\"title\":{\"x\":0.05},\"mapbox\":{\"style\":\"light\"}}},\"xaxis\":{\"anchor\":\"y\",\"domain\":[0.0,1.0],\"title\":{\"text\":\"Decade\"}},\"yaxis\":{\"anchor\":\"x\",\"domain\":[0.0,1.0],\"title\":{\"text\":\"value\"}},\"legend\":{\"title\":{\"text\":\"variable\"},\"tracegroupgap\":0},\"title\":{\"text\":\"\\uc218\\uc2ed\\ub144 \\ub3d9\\uc548\\uc758 \\uc74c\\uc545 \\ubcc0\\ud654\"}},                        {\"responsive\": true}                    ).then(function(){\n",
       "                            \n",
       "var gd = document.getElementById('5d36f34e-6341-4ded-8167-dba04047c828');\n",
       "var x = new MutationObserver(function (mutations, observer) {{\n",
       "        var display = window.getComputedStyle(gd).display;\n",
       "        if (!display || display === 'none') {{\n",
       "            console.log([gd, 'removed!']);\n",
       "            Plotly.purge(gd);\n",
       "            observer.disconnect();\n",
       "        }}\n",
       "}});\n",
       "\n",
       "// Listen for the removal of the full notebook cells\n",
       "var notebookContainer = gd.closest('#notebook-container');\n",
       "if (notebookContainer) {{\n",
       "    x.observe(notebookContainer, {childList: true});\n",
       "}}\n",
       "\n",
       "// Listen for the clearing of the current output cell\n",
       "var outputEl = gd.closest('.output');\n",
       "if (outputEl) {{\n",
       "    x.observe(outputEl, {childList: true});\n",
       "}}\n",
       "\n",
       "                        })                };                });            </script>        </div>"
      ]
     },
     "metadata": {},
     "output_type": "display_data"
    }
   ],
   "source": [
    "sound_features = ['danceability', 'energy', 'instrumentalness', 'valence', 'liveliness', 'speechiness', 'acoustics']\n",
    "col_names = ['Decade']\n",
    "col_names.extend(sound_features)\n",
    "\n",
    "df_music_features = (df.sample(.2, seed=42)\n",
    "                       .groupBy(F.round(F.year(df.Release_date), -1))\n",
    "                       .agg({feature: 'mean' for feature in sound_features})\n",
    "                       .toDF(*col_names)\n",
    "                       .orderBy('Decade')\n",
    "                       .toPandas()\n",
    "                       .dropna(axis=0)\n",
    "                    )\n",
    "fig = px.line(df_music_features, x='Decade', y=sound_features, title='수십년 동안의 음악 변화')\n",
    "fig.show()"
   ]
  },
  {
   "cell_type": "code",
   "execution_count": 57,
   "id": "fd3e4379",
   "metadata": {
    "collapsed": true
   },
   "outputs": [
    {
     "name": "stdout",
     "output_type": "stream",
     "text": [
      "Collecting koreanize-matplotlib\n",
      "  Downloading koreanize_matplotlib-0.0.1-py3-none-any.whl (2.5 MB)\n",
      "\u001b[2K     \u001b[38;2;114;156;31m━━━━━━━━━━━━━━━━━━━━━━━━━━━━━━━━━━━━━━━━\u001b[0m \u001b[32m2.5/2.5 MB\u001b[0m \u001b[31m5.8 MB/s\u001b[0m eta \u001b[36m0:00:00\u001b[0mm eta \u001b[36m0:00:01\u001b[0m[36m0:00:01\u001b[0mm\n",
      "\u001b[?25hRequirement already satisfied: matplotlib in /home/mobile/anaconda3/lib/python3.9/site-packages (from koreanize-matplotlib) (3.5.2)\n",
      "Requirement already satisfied: fonttools>=4.22.0 in /home/mobile/anaconda3/lib/python3.9/site-packages (from matplotlib->koreanize-matplotlib) (4.25.0)\n",
      "Requirement already satisfied: kiwisolver>=1.0.1 in /home/mobile/anaconda3/lib/python3.9/site-packages (from matplotlib->koreanize-matplotlib) (1.4.2)\n",
      "Requirement already satisfied: python-dateutil>=2.7 in /home/mobile/anaconda3/lib/python3.9/site-packages (from matplotlib->koreanize-matplotlib) (2.8.2)\n",
      "Requirement already satisfied: cycler>=0.10 in /home/mobile/anaconda3/lib/python3.9/site-packages (from matplotlib->koreanize-matplotlib) (0.11.0)\n",
      "Requirement already satisfied: pyparsing>=2.2.1 in /home/mobile/anaconda3/lib/python3.9/site-packages (from matplotlib->koreanize-matplotlib) (3.0.9)\n",
      "Requirement already satisfied: packaging>=20.0 in /home/mobile/anaconda3/lib/python3.9/site-packages (from matplotlib->koreanize-matplotlib) (21.3)\n",
      "Requirement already satisfied: pillow>=6.2.0 in /home/mobile/anaconda3/lib/python3.9/site-packages (from matplotlib->koreanize-matplotlib) (9.2.0)\n",
      "Requirement already satisfied: numpy>=1.17 in /home/mobile/anaconda3/lib/python3.9/site-packages (from matplotlib->koreanize-matplotlib) (1.21.5)\n",
      "Requirement already satisfied: six>=1.5 in /home/mobile/anaconda3/lib/python3.9/site-packages (from python-dateutil>=2.7->matplotlib->koreanize-matplotlib) (1.16.0)\n",
      "Installing collected packages: koreanize-matplotlib\n",
      "Successfully installed koreanize-matplotlib-0.0.1\n"
     ]
    }
   ],
   "source": [
    "# !pip install koreanize-matplotlib\n",
    "\n",
    "import koreanize_matplotlib"
   ]
  },
  {
   "cell_type": "code",
   "execution_count": 59,
   "id": "d27e9ce3",
   "metadata": {
    "scrolled": false
   },
   "outputs": [
    {
     "data": {
      "image/svg+xml": [
       "<?xml version=\"1.0\" encoding=\"utf-8\" standalone=\"no\"?>\n",
       "<!DOCTYPE svg PUBLIC \"-//W3C//DTD SVG 1.1//EN\"\n",
       "  \"http://www.w3.org/Graphics/SVG/1.1/DTD/svg11.dtd\">\n",
       "<svg xmlns:xlink=\"http://www.w3.org/1999/xlink\" width=\"408.10125pt\" height=\"325.986375pt\" viewBox=\"0 0 408.10125 325.986375\" xmlns=\"http://www.w3.org/2000/svg\" version=\"1.1\">\n",
       " <metadata>\n",
       "  <rdf:RDF xmlns:dc=\"http://purl.org/dc/elements/1.1/\" xmlns:cc=\"http://creativecommons.org/ns#\" xmlns:rdf=\"http://www.w3.org/1999/02/22-rdf-syntax-ns#\">\n",
       "   <cc:Work>\n",
       "    <dc:type rdf:resource=\"http://purl.org/dc/dcmitype/StillImage\"/>\n",
       "    <dc:date>2022-12-26T13:50:48.675624</dc:date>\n",
       "    <dc:format>image/svg+xml</dc:format>\n",
       "    <dc:creator>\n",
       "     <cc:Agent>\n",
       "      <dc:title>Matplotlib v3.5.2, https://matplotlib.org/</dc:title>\n",
       "     </cc:Agent>\n",
       "    </dc:creator>\n",
       "   </cc:Work>\n",
       "  </rdf:RDF>\n",
       " </metadata>\n",
       " <defs>\n",
       "  <style type=\"text/css\">*{stroke-linejoin: round; stroke-linecap: butt}</style>\n",
       " </defs>\n",
       " <g id=\"figure_1\">\n",
       "  <g id=\"patch_1\">\n",
       "   <path d=\"M 0 325.986375 \n",
       "L 408.10125 325.986375 \n",
       "L 408.10125 0 \n",
       "L 0 0 \n",
       "z\n",
       "\" style=\"fill: #ffffff\"/>\n",
       "  </g>\n",
       "  <g id=\"axes_1\">\n",
       "   <g id=\"patch_2\">\n",
       "    <path d=\"M 43.78125 288.430125 \n",
       "L 400.90125 288.430125 \n",
       "L 400.90125 22.318125 \n",
       "L 43.78125 22.318125 \n",
       "z\n",
       "\" style=\"fill: #eaeaf2\"/>\n",
       "   </g>\n",
       "   <g id=\"matplotlib.axis_1\">\n",
       "    <g id=\"xtick_1\">\n",
       "     <g id=\"line2d_1\">\n",
       "      <path d=\"M 60.013977 288.430125 \n",
       "L 60.013977 22.318125 \n",
       "\" clip-path=\"url(#p61e10d6f0d)\" style=\"fill: none; stroke: #ffffff; stroke-width: 0.8; stroke-linecap: round\"/>\n",
       "     </g>\n",
       "     <g id=\"text_1\">\n",
       "      <!-- 1940 -->\n",
       "      <g style=\"fill: #262626\" transform=\"translate(47.288977 303.028562)scale(0.1 -0.1)\">\n",
       "       <defs>\n",
       "        <path id=\"DejaVuSans-31\" d=\"M 794 531 \n",
       "L 1825 531 \n",
       "L 1825 4091 \n",
       "L 703 3866 \n",
       "L 703 4441 \n",
       "L 1819 4666 \n",
       "L 2450 4666 \n",
       "L 2450 531 \n",
       "L 3481 531 \n",
       "L 3481 0 \n",
       "L 794 0 \n",
       "L 794 531 \n",
       "z\n",
       "\" transform=\"scale(0.015625)\"/>\n",
       "        <path id=\"DejaVuSans-39\" d=\"M 703 97 \n",
       "L 703 672 \n",
       "Q 941 559 1184 500 \n",
       "Q 1428 441 1663 441 \n",
       "Q 2288 441 2617 861 \n",
       "Q 2947 1281 2994 2138 \n",
       "Q 2813 1869 2534 1725 \n",
       "Q 2256 1581 1919 1581 \n",
       "Q 1219 1581 811 2004 \n",
       "Q 403 2428 403 3163 \n",
       "Q 403 3881 828 4315 \n",
       "Q 1253 4750 1959 4750 \n",
       "Q 2769 4750 3195 4129 \n",
       "Q 3622 3509 3622 2328 \n",
       "Q 3622 1225 3098 567 \n",
       "Q 2575 -91 1691 -91 \n",
       "Q 1453 -91 1209 -44 \n",
       "Q 966 3 703 97 \n",
       "z\n",
       "M 1959 2075 \n",
       "Q 2384 2075 2632 2365 \n",
       "Q 2881 2656 2881 3163 \n",
       "Q 2881 3666 2632 3958 \n",
       "Q 2384 4250 1959 4250 \n",
       "Q 1534 4250 1286 3958 \n",
       "Q 1038 3666 1038 3163 \n",
       "Q 1038 2656 1286 2365 \n",
       "Q 1534 2075 1959 2075 \n",
       "z\n",
       "\" transform=\"scale(0.015625)\"/>\n",
       "        <path id=\"DejaVuSans-34\" d=\"M 2419 4116 \n",
       "L 825 1625 \n",
       "L 2419 1625 \n",
       "L 2419 4116 \n",
       "z\n",
       "M 2253 4666 \n",
       "L 3047 4666 \n",
       "L 3047 1625 \n",
       "L 3713 1625 \n",
       "L 3713 1100 \n",
       "L 3047 1100 \n",
       "L 3047 0 \n",
       "L 2419 0 \n",
       "L 2419 1100 \n",
       "L 313 1100 \n",
       "L 313 1709 \n",
       "L 2253 4666 \n",
       "z\n",
       "\" transform=\"scale(0.015625)\"/>\n",
       "        <path id=\"DejaVuSans-30\" d=\"M 2034 4250 \n",
       "Q 1547 4250 1301 3770 \n",
       "Q 1056 3291 1056 2328 \n",
       "Q 1056 1369 1301 889 \n",
       "Q 1547 409 2034 409 \n",
       "Q 2525 409 2770 889 \n",
       "Q 3016 1369 3016 2328 \n",
       "Q 3016 3291 2770 3770 \n",
       "Q 2525 4250 2034 4250 \n",
       "z\n",
       "M 2034 4750 \n",
       "Q 2819 4750 3233 4129 \n",
       "Q 3647 3509 3647 2328 \n",
       "Q 3647 1150 3233 529 \n",
       "Q 2819 -91 2034 -91 \n",
       "Q 1250 -91 836 529 \n",
       "Q 422 1150 422 2328 \n",
       "Q 422 3509 836 4129 \n",
       "Q 1250 4750 2034 4750 \n",
       "z\n",
       "\" transform=\"scale(0.015625)\"/>\n",
       "       </defs>\n",
       "       <use xlink:href=\"#DejaVuSans-31\"/>\n",
       "       <use xlink:href=\"#DejaVuSans-39\" x=\"63.623047\"/>\n",
       "       <use xlink:href=\"#DejaVuSans-34\" x=\"127.246094\"/>\n",
       "       <use xlink:href=\"#DejaVuSans-30\" x=\"190.869141\"/>\n",
       "      </g>\n",
       "     </g>\n",
       "    </g>\n",
       "    <g id=\"xtick_2\">\n",
       "     <g id=\"line2d_2\">\n",
       "      <path d=\"M 100.595795 288.430125 \n",
       "L 100.595795 22.318125 \n",
       "\" clip-path=\"url(#p61e10d6f0d)\" style=\"fill: none; stroke: #ffffff; stroke-width: 0.8; stroke-linecap: round\"/>\n",
       "     </g>\n",
       "     <g id=\"text_2\">\n",
       "      <!-- 1950 -->\n",
       "      <g style=\"fill: #262626\" transform=\"translate(87.870795 303.028562)scale(0.1 -0.1)\">\n",
       "       <defs>\n",
       "        <path id=\"DejaVuSans-35\" d=\"M 691 4666 \n",
       "L 3169 4666 \n",
       "L 3169 4134 \n",
       "L 1269 4134 \n",
       "L 1269 2991 \n",
       "Q 1406 3038 1543 3061 \n",
       "Q 1681 3084 1819 3084 \n",
       "Q 2600 3084 3056 2656 \n",
       "Q 3513 2228 3513 1497 \n",
       "Q 3513 744 3044 326 \n",
       "Q 2575 -91 1722 -91 \n",
       "Q 1428 -91 1123 -41 \n",
       "Q 819 9 494 109 \n",
       "L 494 744 \n",
       "Q 775 591 1075 516 \n",
       "Q 1375 441 1709 441 \n",
       "Q 2250 441 2565 725 \n",
       "Q 2881 1009 2881 1497 \n",
       "Q 2881 1984 2565 2268 \n",
       "Q 2250 2553 1709 2553 \n",
       "Q 1456 2553 1204 2497 \n",
       "Q 953 2441 691 2322 \n",
       "L 691 4666 \n",
       "z\n",
       "\" transform=\"scale(0.015625)\"/>\n",
       "       </defs>\n",
       "       <use xlink:href=\"#DejaVuSans-31\"/>\n",
       "       <use xlink:href=\"#DejaVuSans-39\" x=\"63.623047\"/>\n",
       "       <use xlink:href=\"#DejaVuSans-35\" x=\"127.246094\"/>\n",
       "       <use xlink:href=\"#DejaVuSans-30\" x=\"190.869141\"/>\n",
       "      </g>\n",
       "     </g>\n",
       "    </g>\n",
       "    <g id=\"xtick_3\">\n",
       "     <g id=\"line2d_3\">\n",
       "      <path d=\"M 141.177614 288.430125 \n",
       "L 141.177614 22.318125 \n",
       "\" clip-path=\"url(#p61e10d6f0d)\" style=\"fill: none; stroke: #ffffff; stroke-width: 0.8; stroke-linecap: round\"/>\n",
       "     </g>\n",
       "     <g id=\"text_3\">\n",
       "      <!-- 1960 -->\n",
       "      <g style=\"fill: #262626\" transform=\"translate(128.452614 303.028562)scale(0.1 -0.1)\">\n",
       "       <defs>\n",
       "        <path id=\"DejaVuSans-36\" d=\"M 2113 2584 \n",
       "Q 1688 2584 1439 2293 \n",
       "Q 1191 2003 1191 1497 \n",
       "Q 1191 994 1439 701 \n",
       "Q 1688 409 2113 409 \n",
       "Q 2538 409 2786 701 \n",
       "Q 3034 994 3034 1497 \n",
       "Q 3034 2003 2786 2293 \n",
       "Q 2538 2584 2113 2584 \n",
       "z\n",
       "M 3366 4563 \n",
       "L 3366 3988 \n",
       "Q 3128 4100 2886 4159 \n",
       "Q 2644 4219 2406 4219 \n",
       "Q 1781 4219 1451 3797 \n",
       "Q 1122 3375 1075 2522 \n",
       "Q 1259 2794 1537 2939 \n",
       "Q 1816 3084 2150 3084 \n",
       "Q 2853 3084 3261 2657 \n",
       "Q 3669 2231 3669 1497 \n",
       "Q 3669 778 3244 343 \n",
       "Q 2819 -91 2113 -91 \n",
       "Q 1303 -91 875 529 \n",
       "Q 447 1150 447 2328 \n",
       "Q 447 3434 972 4092 \n",
       "Q 1497 4750 2381 4750 \n",
       "Q 2619 4750 2861 4703 \n",
       "Q 3103 4656 3366 4563 \n",
       "z\n",
       "\" transform=\"scale(0.015625)\"/>\n",
       "       </defs>\n",
       "       <use xlink:href=\"#DejaVuSans-31\"/>\n",
       "       <use xlink:href=\"#DejaVuSans-39\" x=\"63.623047\"/>\n",
       "       <use xlink:href=\"#DejaVuSans-36\" x=\"127.246094\"/>\n",
       "       <use xlink:href=\"#DejaVuSans-30\" x=\"190.869141\"/>\n",
       "      </g>\n",
       "     </g>\n",
       "    </g>\n",
       "    <g id=\"xtick_4\">\n",
       "     <g id=\"line2d_4\">\n",
       "      <path d=\"M 181.759432 288.430125 \n",
       "L 181.759432 22.318125 \n",
       "\" clip-path=\"url(#p61e10d6f0d)\" style=\"fill: none; stroke: #ffffff; stroke-width: 0.8; stroke-linecap: round\"/>\n",
       "     </g>\n",
       "     <g id=\"text_4\">\n",
       "      <!-- 1970 -->\n",
       "      <g style=\"fill: #262626\" transform=\"translate(169.034432 303.028562)scale(0.1 -0.1)\">\n",
       "       <defs>\n",
       "        <path id=\"DejaVuSans-37\" d=\"M 525 4666 \n",
       "L 3525 4666 \n",
       "L 3525 4397 \n",
       "L 1831 0 \n",
       "L 1172 0 \n",
       "L 2766 4134 \n",
       "L 525 4134 \n",
       "L 525 4666 \n",
       "z\n",
       "\" transform=\"scale(0.015625)\"/>\n",
       "       </defs>\n",
       "       <use xlink:href=\"#DejaVuSans-31\"/>\n",
       "       <use xlink:href=\"#DejaVuSans-39\" x=\"63.623047\"/>\n",
       "       <use xlink:href=\"#DejaVuSans-37\" x=\"127.246094\"/>\n",
       "       <use xlink:href=\"#DejaVuSans-30\" x=\"190.869141\"/>\n",
       "      </g>\n",
       "     </g>\n",
       "    </g>\n",
       "    <g id=\"xtick_5\">\n",
       "     <g id=\"line2d_5\">\n",
       "      <path d=\"M 222.34125 288.430125 \n",
       "L 222.34125 22.318125 \n",
       "\" clip-path=\"url(#p61e10d6f0d)\" style=\"fill: none; stroke: #ffffff; stroke-width: 0.8; stroke-linecap: round\"/>\n",
       "     </g>\n",
       "     <g id=\"text_5\">\n",
       "      <!-- 1980 -->\n",
       "      <g style=\"fill: #262626\" transform=\"translate(209.61625 303.028562)scale(0.1 -0.1)\">\n",
       "       <defs>\n",
       "        <path id=\"DejaVuSans-38\" d=\"M 2034 2216 \n",
       "Q 1584 2216 1326 1975 \n",
       "Q 1069 1734 1069 1313 \n",
       "Q 1069 891 1326 650 \n",
       "Q 1584 409 2034 409 \n",
       "Q 2484 409 2743 651 \n",
       "Q 3003 894 3003 1313 \n",
       "Q 3003 1734 2745 1975 \n",
       "Q 2488 2216 2034 2216 \n",
       "z\n",
       "M 1403 2484 \n",
       "Q 997 2584 770 2862 \n",
       "Q 544 3141 544 3541 \n",
       "Q 544 4100 942 4425 \n",
       "Q 1341 4750 2034 4750 \n",
       "Q 2731 4750 3128 4425 \n",
       "Q 3525 4100 3525 3541 \n",
       "Q 3525 3141 3298 2862 \n",
       "Q 3072 2584 2669 2484 \n",
       "Q 3125 2378 3379 2068 \n",
       "Q 3634 1759 3634 1313 \n",
       "Q 3634 634 3220 271 \n",
       "Q 2806 -91 2034 -91 \n",
       "Q 1263 -91 848 271 \n",
       "Q 434 634 434 1313 \n",
       "Q 434 1759 690 2068 \n",
       "Q 947 2378 1403 2484 \n",
       "z\n",
       "M 1172 3481 \n",
       "Q 1172 3119 1398 2916 \n",
       "Q 1625 2713 2034 2713 \n",
       "Q 2441 2713 2670 2916 \n",
       "Q 2900 3119 2900 3481 \n",
       "Q 2900 3844 2670 4047 \n",
       "Q 2441 4250 2034 4250 \n",
       "Q 1625 4250 1398 4047 \n",
       "Q 1172 3844 1172 3481 \n",
       "z\n",
       "\" transform=\"scale(0.015625)\"/>\n",
       "       </defs>\n",
       "       <use xlink:href=\"#DejaVuSans-31\"/>\n",
       "       <use xlink:href=\"#DejaVuSans-39\" x=\"63.623047\"/>\n",
       "       <use xlink:href=\"#DejaVuSans-38\" x=\"127.246094\"/>\n",
       "       <use xlink:href=\"#DejaVuSans-30\" x=\"190.869141\"/>\n",
       "      </g>\n",
       "     </g>\n",
       "    </g>\n",
       "    <g id=\"xtick_6\">\n",
       "     <g id=\"line2d_6\">\n",
       "      <path d=\"M 262.923068 288.430125 \n",
       "L 262.923068 22.318125 \n",
       "\" clip-path=\"url(#p61e10d6f0d)\" style=\"fill: none; stroke: #ffffff; stroke-width: 0.8; stroke-linecap: round\"/>\n",
       "     </g>\n",
       "     <g id=\"text_6\">\n",
       "      <!-- 1990 -->\n",
       "      <g style=\"fill: #262626\" transform=\"translate(250.198068 303.028562)scale(0.1 -0.1)\">\n",
       "       <use xlink:href=\"#DejaVuSans-31\"/>\n",
       "       <use xlink:href=\"#DejaVuSans-39\" x=\"63.623047\"/>\n",
       "       <use xlink:href=\"#DejaVuSans-39\" x=\"127.246094\"/>\n",
       "       <use xlink:href=\"#DejaVuSans-30\" x=\"190.869141\"/>\n",
       "      </g>\n",
       "     </g>\n",
       "    </g>\n",
       "    <g id=\"xtick_7\">\n",
       "     <g id=\"line2d_7\">\n",
       "      <path d=\"M 303.504886 288.430125 \n",
       "L 303.504886 22.318125 \n",
       "\" clip-path=\"url(#p61e10d6f0d)\" style=\"fill: none; stroke: #ffffff; stroke-width: 0.8; stroke-linecap: round\"/>\n",
       "     </g>\n",
       "     <g id=\"text_7\">\n",
       "      <!-- 2000 -->\n",
       "      <g style=\"fill: #262626\" transform=\"translate(290.779886 303.028562)scale(0.1 -0.1)\">\n",
       "       <defs>\n",
       "        <path id=\"DejaVuSans-32\" d=\"M 1228 531 \n",
       "L 3431 531 \n",
       "L 3431 0 \n",
       "L 469 0 \n",
       "L 469 531 \n",
       "Q 828 903 1448 1529 \n",
       "Q 2069 2156 2228 2338 \n",
       "Q 2531 2678 2651 2914 \n",
       "Q 2772 3150 2772 3378 \n",
       "Q 2772 3750 2511 3984 \n",
       "Q 2250 4219 1831 4219 \n",
       "Q 1534 4219 1204 4116 \n",
       "Q 875 4013 500 3803 \n",
       "L 500 4441 \n",
       "Q 881 4594 1212 4672 \n",
       "Q 1544 4750 1819 4750 \n",
       "Q 2544 4750 2975 4387 \n",
       "Q 3406 4025 3406 3419 \n",
       "Q 3406 3131 3298 2873 \n",
       "Q 3191 2616 2906 2266 \n",
       "Q 2828 2175 2409 1742 \n",
       "Q 1991 1309 1228 531 \n",
       "z\n",
       "\" transform=\"scale(0.015625)\"/>\n",
       "       </defs>\n",
       "       <use xlink:href=\"#DejaVuSans-32\"/>\n",
       "       <use xlink:href=\"#DejaVuSans-30\" x=\"63.623047\"/>\n",
       "       <use xlink:href=\"#DejaVuSans-30\" x=\"127.246094\"/>\n",
       "       <use xlink:href=\"#DejaVuSans-30\" x=\"190.869141\"/>\n",
       "      </g>\n",
       "     </g>\n",
       "    </g>\n",
       "    <g id=\"xtick_8\">\n",
       "     <g id=\"line2d_8\">\n",
       "      <path d=\"M 344.086705 288.430125 \n",
       "L 344.086705 22.318125 \n",
       "\" clip-path=\"url(#p61e10d6f0d)\" style=\"fill: none; stroke: #ffffff; stroke-width: 0.8; stroke-linecap: round\"/>\n",
       "     </g>\n",
       "     <g id=\"text_8\">\n",
       "      <!-- 2010 -->\n",
       "      <g style=\"fill: #262626\" transform=\"translate(331.361705 303.028562)scale(0.1 -0.1)\">\n",
       "       <use xlink:href=\"#DejaVuSans-32\"/>\n",
       "       <use xlink:href=\"#DejaVuSans-30\" x=\"63.623047\"/>\n",
       "       <use xlink:href=\"#DejaVuSans-31\" x=\"127.246094\"/>\n",
       "       <use xlink:href=\"#DejaVuSans-30\" x=\"190.869141\"/>\n",
       "      </g>\n",
       "     </g>\n",
       "    </g>\n",
       "    <g id=\"xtick_9\">\n",
       "     <g id=\"line2d_9\">\n",
       "      <path d=\"M 384.668523 288.430125 \n",
       "L 384.668523 22.318125 \n",
       "\" clip-path=\"url(#p61e10d6f0d)\" style=\"fill: none; stroke: #ffffff; stroke-width: 0.8; stroke-linecap: round\"/>\n",
       "     </g>\n",
       "     <g id=\"text_9\">\n",
       "      <!-- 2020 -->\n",
       "      <g style=\"fill: #262626\" transform=\"translate(371.943523 303.028562)scale(0.1 -0.1)\">\n",
       "       <use xlink:href=\"#DejaVuSans-32\"/>\n",
       "       <use xlink:href=\"#DejaVuSans-30\" x=\"63.623047\"/>\n",
       "       <use xlink:href=\"#DejaVuSans-32\" x=\"127.246094\"/>\n",
       "       <use xlink:href=\"#DejaVuSans-30\" x=\"190.869141\"/>\n",
       "      </g>\n",
       "     </g>\n",
       "    </g>\n",
       "    <g id=\"text_10\">\n",
       "     <!-- Decade -->\n",
       "     <g style=\"fill: #262626\" transform=\"translate(203.350625 316.706687)scale(0.1 -0.1)\">\n",
       "      <defs>\n",
       "       <path id=\"DejaVuSans-44\" d=\"M 1259 4147 \n",
       "L 1259 519 \n",
       "L 2022 519 \n",
       "Q 2988 519 3436 956 \n",
       "Q 3884 1394 3884 2338 \n",
       "Q 3884 3275 3436 3711 \n",
       "Q 2988 4147 2022 4147 \n",
       "L 1259 4147 \n",
       "z\n",
       "M 628 4666 \n",
       "L 1925 4666 \n",
       "Q 3281 4666 3915 4102 \n",
       "Q 4550 3538 4550 2338 \n",
       "Q 4550 1131 3912 565 \n",
       "Q 3275 0 1925 0 \n",
       "L 628 0 \n",
       "L 628 4666 \n",
       "z\n",
       "\" transform=\"scale(0.015625)\"/>\n",
       "       <path id=\"DejaVuSans-65\" d=\"M 3597 1894 \n",
       "L 3597 1613 \n",
       "L 953 1613 \n",
       "Q 991 1019 1311 708 \n",
       "Q 1631 397 2203 397 \n",
       "Q 2534 397 2845 478 \n",
       "Q 3156 559 3463 722 \n",
       "L 3463 178 \n",
       "Q 3153 47 2828 -22 \n",
       "Q 2503 -91 2169 -91 \n",
       "Q 1331 -91 842 396 \n",
       "Q 353 884 353 1716 \n",
       "Q 353 2575 817 3079 \n",
       "Q 1281 3584 2069 3584 \n",
       "Q 2775 3584 3186 3129 \n",
       "Q 3597 2675 3597 1894 \n",
       "z\n",
       "M 3022 2063 \n",
       "Q 3016 2534 2758 2815 \n",
       "Q 2500 3097 2075 3097 \n",
       "Q 1594 3097 1305 2825 \n",
       "Q 1016 2553 972 2059 \n",
       "L 3022 2063 \n",
       "z\n",
       "\" transform=\"scale(0.015625)\"/>\n",
       "       <path id=\"DejaVuSans-63\" d=\"M 3122 3366 \n",
       "L 3122 2828 \n",
       "Q 2878 2963 2633 3030 \n",
       "Q 2388 3097 2138 3097 \n",
       "Q 1578 3097 1268 2742 \n",
       "Q 959 2388 959 1747 \n",
       "Q 959 1106 1268 751 \n",
       "Q 1578 397 2138 397 \n",
       "Q 2388 397 2633 464 \n",
       "Q 2878 531 3122 666 \n",
       "L 3122 134 \n",
       "Q 2881 22 2623 -34 \n",
       "Q 2366 -91 2075 -91 \n",
       "Q 1284 -91 818 406 \n",
       "Q 353 903 353 1747 \n",
       "Q 353 2603 823 3093 \n",
       "Q 1294 3584 2113 3584 \n",
       "Q 2378 3584 2631 3529 \n",
       "Q 2884 3475 3122 3366 \n",
       "z\n",
       "\" transform=\"scale(0.015625)\"/>\n",
       "       <path id=\"DejaVuSans-61\" d=\"M 2194 1759 \n",
       "Q 1497 1759 1228 1600 \n",
       "Q 959 1441 959 1056 \n",
       "Q 959 750 1161 570 \n",
       "Q 1363 391 1709 391 \n",
       "Q 2188 391 2477 730 \n",
       "Q 2766 1069 2766 1631 \n",
       "L 2766 1759 \n",
       "L 2194 1759 \n",
       "z\n",
       "M 3341 1997 \n",
       "L 3341 0 \n",
       "L 2766 0 \n",
       "L 2766 531 \n",
       "Q 2569 213 2275 61 \n",
       "Q 1981 -91 1556 -91 \n",
       "Q 1019 -91 701 211 \n",
       "Q 384 513 384 1019 \n",
       "Q 384 1609 779 1909 \n",
       "Q 1175 2209 1959 2209 \n",
       "L 2766 2209 \n",
       "L 2766 2266 \n",
       "Q 2766 2663 2505 2880 \n",
       "Q 2244 3097 1772 3097 \n",
       "Q 1472 3097 1187 3025 \n",
       "Q 903 2953 641 2809 \n",
       "L 641 3341 \n",
       "Q 956 3463 1253 3523 \n",
       "Q 1550 3584 1831 3584 \n",
       "Q 2591 3584 2966 3190 \n",
       "Q 3341 2797 3341 1997 \n",
       "z\n",
       "\" transform=\"scale(0.015625)\"/>\n",
       "       <path id=\"DejaVuSans-64\" d=\"M 2906 2969 \n",
       "L 2906 4863 \n",
       "L 3481 4863 \n",
       "L 3481 0 \n",
       "L 2906 0 \n",
       "L 2906 525 \n",
       "Q 2725 213 2448 61 \n",
       "Q 2172 -91 1784 -91 \n",
       "Q 1150 -91 751 415 \n",
       "Q 353 922 353 1747 \n",
       "Q 353 2572 751 3078 \n",
       "Q 1150 3584 1784 3584 \n",
       "Q 2172 3584 2448 3432 \n",
       "Q 2725 3281 2906 2969 \n",
       "z\n",
       "M 947 1747 \n",
       "Q 947 1113 1208 752 \n",
       "Q 1469 391 1925 391 \n",
       "Q 2381 391 2643 752 \n",
       "Q 2906 1113 2906 1747 \n",
       "Q 2906 2381 2643 2742 \n",
       "Q 2381 3103 1925 3103 \n",
       "Q 1469 3103 1208 2742 \n",
       "Q 947 2381 947 1747 \n",
       "z\n",
       "\" transform=\"scale(0.015625)\"/>\n",
       "      </defs>\n",
       "      <use xlink:href=\"#DejaVuSans-44\"/>\n",
       "      <use xlink:href=\"#DejaVuSans-65\" x=\"77.001953\"/>\n",
       "      <use xlink:href=\"#DejaVuSans-63\" x=\"138.525391\"/>\n",
       "      <use xlink:href=\"#DejaVuSans-61\" x=\"193.505859\"/>\n",
       "      <use xlink:href=\"#DejaVuSans-64\" x=\"254.785156\"/>\n",
       "      <use xlink:href=\"#DejaVuSans-65\" x=\"318.261719\"/>\n",
       "     </g>\n",
       "    </g>\n",
       "   </g>\n",
       "   <g id=\"matplotlib.axis_2\">\n",
       "    <g id=\"ytick_1\">\n",
       "     <g id=\"line2d_10\">\n",
       "      <path d=\"M 43.78125 276.334125 \n",
       "L 400.90125 276.334125 \n",
       "\" clip-path=\"url(#p61e10d6f0d)\" style=\"fill: none; stroke: #ffffff; stroke-width: 0.8; stroke-linecap: round\"/>\n",
       "     </g>\n",
       "     <g id=\"text_11\">\n",
       "      <!-- 0.0 -->\n",
       "      <g style=\"fill: #262626\" transform=\"translate(20.878125 280.133344)scale(0.1 -0.1)\">\n",
       "       <defs>\n",
       "        <path id=\"DejaVuSans-2e\" d=\"M 684 794 \n",
       "L 1344 794 \n",
       "L 1344 0 \n",
       "L 684 0 \n",
       "L 684 794 \n",
       "z\n",
       "\" transform=\"scale(0.015625)\"/>\n",
       "       </defs>\n",
       "       <use xlink:href=\"#DejaVuSans-30\"/>\n",
       "       <use xlink:href=\"#DejaVuSans-2e\" x=\"63.623047\"/>\n",
       "       <use xlink:href=\"#DejaVuSans-30\" x=\"95.410156\"/>\n",
       "      </g>\n",
       "     </g>\n",
       "    </g>\n",
       "    <g id=\"ytick_2\">\n",
       "     <g id=\"line2d_11\">\n",
       "      <path d=\"M 43.78125 219.49202 \n",
       "L 400.90125 219.49202 \n",
       "\" clip-path=\"url(#p61e10d6f0d)\" style=\"fill: none; stroke: #ffffff; stroke-width: 0.8; stroke-linecap: round\"/>\n",
       "     </g>\n",
       "     <g id=\"text_12\">\n",
       "      <!-- 0.2 -->\n",
       "      <g style=\"fill: #262626\" transform=\"translate(20.878125 223.291239)scale(0.1 -0.1)\">\n",
       "       <use xlink:href=\"#DejaVuSans-30\"/>\n",
       "       <use xlink:href=\"#DejaVuSans-2e\" x=\"63.623047\"/>\n",
       "       <use xlink:href=\"#DejaVuSans-32\" x=\"95.410156\"/>\n",
       "      </g>\n",
       "     </g>\n",
       "    </g>\n",
       "    <g id=\"ytick_3\">\n",
       "     <g id=\"line2d_12\">\n",
       "      <path d=\"M 43.78125 162.649916 \n",
       "L 400.90125 162.649916 \n",
       "\" clip-path=\"url(#p61e10d6f0d)\" style=\"fill: none; stroke: #ffffff; stroke-width: 0.8; stroke-linecap: round\"/>\n",
       "     </g>\n",
       "     <g id=\"text_13\">\n",
       "      <!-- 0.4 -->\n",
       "      <g style=\"fill: #262626\" transform=\"translate(20.878125 166.449134)scale(0.1 -0.1)\">\n",
       "       <use xlink:href=\"#DejaVuSans-30\"/>\n",
       "       <use xlink:href=\"#DejaVuSans-2e\" x=\"63.623047\"/>\n",
       "       <use xlink:href=\"#DejaVuSans-34\" x=\"95.410156\"/>\n",
       "      </g>\n",
       "     </g>\n",
       "    </g>\n",
       "    <g id=\"ytick_4\">\n",
       "     <g id=\"line2d_13\">\n",
       "      <path d=\"M 43.78125 105.807811 \n",
       "L 400.90125 105.807811 \n",
       "\" clip-path=\"url(#p61e10d6f0d)\" style=\"fill: none; stroke: #ffffff; stroke-width: 0.8; stroke-linecap: round\"/>\n",
       "     </g>\n",
       "     <g id=\"text_14\">\n",
       "      <!-- 0.6 -->\n",
       "      <g style=\"fill: #262626\" transform=\"translate(20.878125 109.60703)scale(0.1 -0.1)\">\n",
       "       <use xlink:href=\"#DejaVuSans-30\"/>\n",
       "       <use xlink:href=\"#DejaVuSans-2e\" x=\"63.623047\"/>\n",
       "       <use xlink:href=\"#DejaVuSans-36\" x=\"95.410156\"/>\n",
       "      </g>\n",
       "     </g>\n",
       "    </g>\n",
       "    <g id=\"ytick_5\">\n",
       "     <g id=\"line2d_14\">\n",
       "      <path d=\"M 43.78125 48.965706 \n",
       "L 400.90125 48.965706 \n",
       "\" clip-path=\"url(#p61e10d6f0d)\" style=\"fill: none; stroke: #ffffff; stroke-width: 0.8; stroke-linecap: round\"/>\n",
       "     </g>\n",
       "     <g id=\"text_15\">\n",
       "      <!-- 0.8 -->\n",
       "      <g style=\"fill: #262626\" transform=\"translate(20.878125 52.764925)scale(0.1 -0.1)\">\n",
       "       <use xlink:href=\"#DejaVuSans-30\"/>\n",
       "       <use xlink:href=\"#DejaVuSans-2e\" x=\"63.623047\"/>\n",
       "       <use xlink:href=\"#DejaVuSans-38\" x=\"95.410156\"/>\n",
       "      </g>\n",
       "     </g>\n",
       "    </g>\n",
       "    <g id=\"text_16\">\n",
       "     <!-- value -->\n",
       "     <g style=\"fill: #262626\" transform=\"translate(14.798438 169.031937)rotate(-90)scale(0.1 -0.1)\">\n",
       "      <defs>\n",
       "       <path id=\"DejaVuSans-76\" d=\"M 191 3500 \n",
       "L 800 3500 \n",
       "L 1894 563 \n",
       "L 2988 3500 \n",
       "L 3597 3500 \n",
       "L 2284 0 \n",
       "L 1503 0 \n",
       "L 191 3500 \n",
       "z\n",
       "\" transform=\"scale(0.015625)\"/>\n",
       "       <path id=\"DejaVuSans-6c\" d=\"M 603 4863 \n",
       "L 1178 4863 \n",
       "L 1178 0 \n",
       "L 603 0 \n",
       "L 603 4863 \n",
       "z\n",
       "\" transform=\"scale(0.015625)\"/>\n",
       "       <path id=\"DejaVuSans-75\" d=\"M 544 1381 \n",
       "L 544 3500 \n",
       "L 1119 3500 \n",
       "L 1119 1403 \n",
       "Q 1119 906 1312 657 \n",
       "Q 1506 409 1894 409 \n",
       "Q 2359 409 2629 706 \n",
       "Q 2900 1003 2900 1516 \n",
       "L 2900 3500 \n",
       "L 3475 3500 \n",
       "L 3475 0 \n",
       "L 2900 0 \n",
       "L 2900 538 \n",
       "Q 2691 219 2414 64 \n",
       "Q 2138 -91 1772 -91 \n",
       "Q 1169 -91 856 284 \n",
       "Q 544 659 544 1381 \n",
       "z\n",
       "M 1991 3584 \n",
       "L 1991 3584 \n",
       "z\n",
       "\" transform=\"scale(0.015625)\"/>\n",
       "      </defs>\n",
       "      <use xlink:href=\"#DejaVuSans-76\"/>\n",
       "      <use xlink:href=\"#DejaVuSans-61\" x=\"59.179688\"/>\n",
       "      <use xlink:href=\"#DejaVuSans-6c\" x=\"120.458984\"/>\n",
       "      <use xlink:href=\"#DejaVuSans-75\" x=\"148.242188\"/>\n",
       "      <use xlink:href=\"#DejaVuSans-65\" x=\"211.621094\"/>\n",
       "     </g>\n",
       "    </g>\n",
       "   </g>\n",
       "   <g id=\"line2d_15\">\n",
       "    <path d=\"M 60.013977 230.00781 \n",
       "L 100.595795 106.376235 \n",
       "L 141.177614 62.107875 \n",
       "L 181.759432 78.087454 \n",
       "L 222.34125 95.597929 \n",
       "L 262.923068 123.602143 \n",
       "L 303.504886 123.14437 \n",
       "L 344.086705 130.506073 \n",
       "L 384.668523 138.514175 \n",
       "\" clip-path=\"url(#p61e10d6f0d)\" style=\"fill: none; stroke: #f77189; stroke-width: 1.5; stroke-linecap: round\"/>\n",
       "   </g>\n",
       "   <g id=\"line2d_16\">\n",
       "    <path d=\"M 60.013977 226.995177 \n",
       "L 100.595795 214.37623 \n",
       "L 141.177614 157.268065 \n",
       "L 181.759432 125.743659 \n",
       "L 222.34125 107.212354 \n",
       "L 262.923068 110.724977 \n",
       "L 303.504886 82.708565 \n",
       "L 344.086705 99.019588 \n",
       "L 384.668523 92.95063 \n",
       "\" clip-path=\"url(#p61e10d6f0d)\" style=\"fill: none; stroke: #c69432; stroke-width: 1.5; stroke-linecap: round\"/>\n",
       "   </g>\n",
       "   <g id=\"line2d_17\">\n",
       "    <path d=\"M 60.013977 265.301073 \n",
       "L 100.595795 255.998861 \n",
       "L 141.177614 262.210916 \n",
       "L 181.759432 263.131742 \n",
       "L 222.34125 260.037777 \n",
       "L 262.923068 262.464166 \n",
       "L 303.504886 256.534172 \n",
       "L 344.086705 258.099255 \n",
       "L 384.668523 239.194626 \n",
       "\" clip-path=\"url(#p61e10d6f0d)\" style=\"fill: none; stroke: #82a931; stroke-width: 1.5; stroke-linecap: round\"/>\n",
       "   </g>\n",
       "   <g id=\"line2d_18\">\n",
       "    <path d=\"M 60.013977 193.572022 \n",
       "L 100.595795 216.649913 \n",
       "L 141.177614 222.744006 \n",
       "L 181.759432 228.493271 \n",
       "L 222.34125 218.427233 \n",
       "L 262.923068 220.150077 \n",
       "L 303.504886 217.959923 \n",
       "L 344.086705 225.028441 \n",
       "L 384.668523 226.887089 \n",
       "\" clip-path=\"url(#p61e10d6f0d)\" style=\"fill: none; stroke: #34af8a; stroke-width: 1.5; stroke-linecap: round\"/>\n",
       "   </g>\n",
       "   <g id=\"line2d_19\">\n",
       "    <path d=\"M 60.013977 213.694125 \n",
       "L 100.595795 138.065707 \n",
       "L 141.177614 121.73045 \n",
       "L 181.759432 108.816152 \n",
       "L 222.34125 99.391257 \n",
       "L 262.923068 124.701981 \n",
       "L 303.504886 109.088251 \n",
       "L 344.086705 111.725383 \n",
       "L 384.668523 84.092499 \n",
       "\" clip-path=\"url(#p61e10d6f0d)\" style=\"fill: none; stroke: #37aabb; stroke-width: 1.5; stroke-linecap: round\"/>\n",
       "   </g>\n",
       "   <g id=\"line2d_20\">\n",
       "    <path d=\"M 60.013977 235.42259 \n",
       "L 100.595795 276.334125 \n",
       "L 141.177614 275.719201 \n",
       "L 181.759432 272.460541 \n",
       "L 222.34125 270.71041 \n",
       "L 262.923068 270.305725 \n",
       "L 303.504886 268.479104 \n",
       "L 344.086705 270.46125 \n",
       "L 384.668523 272.141885 \n",
       "\" clip-path=\"url(#p61e10d6f0d)\" style=\"fill: none; stroke: #8197f4; stroke-width: 1.5; stroke-linecap: round\"/>\n",
       "   </g>\n",
       "   <g id=\"line2d_21\">\n",
       "    <path d=\"M 60.013977 34.414125 \n",
       "L 100.595795 75.113073 \n",
       "L 141.177614 66.100519 \n",
       "L 181.759432 171.73786 \n",
       "L 222.34125 201.250558 \n",
       "L 262.923068 189.875922 \n",
       "L 303.504886 206.677228 \n",
       "L 344.086705 185.502432 \n",
       "L 384.668523 209.763017 \n",
       "\" clip-path=\"url(#p61e10d6f0d)\" style=\"fill: none; stroke: #f45deb; stroke-width: 1.5; stroke-linecap: round\"/>\n",
       "   </g>\n",
       "   <g id=\"line2d_22\"/>\n",
       "   <g id=\"line2d_23\"/>\n",
       "   <g id=\"line2d_24\"/>\n",
       "   <g id=\"line2d_25\"/>\n",
       "   <g id=\"line2d_26\"/>\n",
       "   <g id=\"line2d_27\"/>\n",
       "   <g id=\"line2d_28\"/>\n",
       "   <g id=\"patch_3\">\n",
       "    <path d=\"M 43.78125 288.430125 \n",
       "L 43.78125 22.318125 \n",
       "\" style=\"fill: none; stroke: #ffffff; stroke-width: 0.8; stroke-linejoin: miter; stroke-linecap: square\"/>\n",
       "   </g>\n",
       "   <g id=\"patch_4\">\n",
       "    <path d=\"M 400.90125 288.430125 \n",
       "L 400.90125 22.318125 \n",
       "\" style=\"fill: none; stroke: #ffffff; stroke-width: 0.8; stroke-linejoin: miter; stroke-linecap: square\"/>\n",
       "   </g>\n",
       "   <g id=\"patch_5\">\n",
       "    <path d=\"M 43.78125 288.430125 \n",
       "L 400.90125 288.430125 \n",
       "\" style=\"fill: none; stroke: #ffffff; stroke-width: 0.8; stroke-linejoin: miter; stroke-linecap: square\"/>\n",
       "   </g>\n",
       "   <g id=\"patch_6\">\n",
       "    <path d=\"M 43.78125 22.318125 \n",
       "L 400.90125 22.318125 \n",
       "\" style=\"fill: none; stroke: #ffffff; stroke-width: 0.8; stroke-linejoin: miter; stroke-linecap: square\"/>\n",
       "   </g>\n",
       "   <g id=\"text_17\">\n",
       "    <!-- Song Characteristics Over the Decades -->\n",
       "    <g style=\"fill: #262626\" transform=\"translate(104.569688 16.318125)scale(0.12 -0.12)\">\n",
       "     <defs>\n",
       "      <path id=\"DejaVuSans-53\" d=\"M 3425 4513 \n",
       "L 3425 3897 \n",
       "Q 3066 4069 2747 4153 \n",
       "Q 2428 4238 2131 4238 \n",
       "Q 1616 4238 1336 4038 \n",
       "Q 1056 3838 1056 3469 \n",
       "Q 1056 3159 1242 3001 \n",
       "Q 1428 2844 1947 2747 \n",
       "L 2328 2669 \n",
       "Q 3034 2534 3370 2195 \n",
       "Q 3706 1856 3706 1288 \n",
       "Q 3706 609 3251 259 \n",
       "Q 2797 -91 1919 -91 \n",
       "Q 1588 -91 1214 -16 \n",
       "Q 841 59 441 206 \n",
       "L 441 856 \n",
       "Q 825 641 1194 531 \n",
       "Q 1563 422 1919 422 \n",
       "Q 2459 422 2753 634 \n",
       "Q 3047 847 3047 1241 \n",
       "Q 3047 1584 2836 1778 \n",
       "Q 2625 1972 2144 2069 \n",
       "L 1759 2144 \n",
       "Q 1053 2284 737 2584 \n",
       "Q 422 2884 422 3419 \n",
       "Q 422 4038 858 4394 \n",
       "Q 1294 4750 2059 4750 \n",
       "Q 2388 4750 2728 4690 \n",
       "Q 3069 4631 3425 4513 \n",
       "z\n",
       "\" transform=\"scale(0.015625)\"/>\n",
       "      <path id=\"DejaVuSans-6f\" d=\"M 1959 3097 \n",
       "Q 1497 3097 1228 2736 \n",
       "Q 959 2375 959 1747 \n",
       "Q 959 1119 1226 758 \n",
       "Q 1494 397 1959 397 \n",
       "Q 2419 397 2687 759 \n",
       "Q 2956 1122 2956 1747 \n",
       "Q 2956 2369 2687 2733 \n",
       "Q 2419 3097 1959 3097 \n",
       "z\n",
       "M 1959 3584 \n",
       "Q 2709 3584 3137 3096 \n",
       "Q 3566 2609 3566 1747 \n",
       "Q 3566 888 3137 398 \n",
       "Q 2709 -91 1959 -91 \n",
       "Q 1206 -91 779 398 \n",
       "Q 353 888 353 1747 \n",
       "Q 353 2609 779 3096 \n",
       "Q 1206 3584 1959 3584 \n",
       "z\n",
       "\" transform=\"scale(0.015625)\"/>\n",
       "      <path id=\"DejaVuSans-6e\" d=\"M 3513 2113 \n",
       "L 3513 0 \n",
       "L 2938 0 \n",
       "L 2938 2094 \n",
       "Q 2938 2591 2744 2837 \n",
       "Q 2550 3084 2163 3084 \n",
       "Q 1697 3084 1428 2787 \n",
       "Q 1159 2491 1159 1978 \n",
       "L 1159 0 \n",
       "L 581 0 \n",
       "L 581 3500 \n",
       "L 1159 3500 \n",
       "L 1159 2956 \n",
       "Q 1366 3272 1645 3428 \n",
       "Q 1925 3584 2291 3584 \n",
       "Q 2894 3584 3203 3211 \n",
       "Q 3513 2838 3513 2113 \n",
       "z\n",
       "\" transform=\"scale(0.015625)\"/>\n",
       "      <path id=\"DejaVuSans-67\" d=\"M 2906 1791 \n",
       "Q 2906 2416 2648 2759 \n",
       "Q 2391 3103 1925 3103 \n",
       "Q 1463 3103 1205 2759 \n",
       "Q 947 2416 947 1791 \n",
       "Q 947 1169 1205 825 \n",
       "Q 1463 481 1925 481 \n",
       "Q 2391 481 2648 825 \n",
       "Q 2906 1169 2906 1791 \n",
       "z\n",
       "M 3481 434 \n",
       "Q 3481 -459 3084 -895 \n",
       "Q 2688 -1331 1869 -1331 \n",
       "Q 1566 -1331 1297 -1286 \n",
       "Q 1028 -1241 775 -1147 \n",
       "L 775 -588 \n",
       "Q 1028 -725 1275 -790 \n",
       "Q 1522 -856 1778 -856 \n",
       "Q 2344 -856 2625 -561 \n",
       "Q 2906 -266 2906 331 \n",
       "L 2906 616 \n",
       "Q 2728 306 2450 153 \n",
       "Q 2172 0 1784 0 \n",
       "Q 1141 0 747 490 \n",
       "Q 353 981 353 1791 \n",
       "Q 353 2603 747 3093 \n",
       "Q 1141 3584 1784 3584 \n",
       "Q 2172 3584 2450 3431 \n",
       "Q 2728 3278 2906 2969 \n",
       "L 2906 3500 \n",
       "L 3481 3500 \n",
       "L 3481 434 \n",
       "z\n",
       "\" transform=\"scale(0.015625)\"/>\n",
       "      <path id=\"DejaVuSans-20\" transform=\"scale(0.015625)\"/>\n",
       "      <path id=\"DejaVuSans-43\" d=\"M 4122 4306 \n",
       "L 4122 3641 \n",
       "Q 3803 3938 3442 4084 \n",
       "Q 3081 4231 2675 4231 \n",
       "Q 1875 4231 1450 3742 \n",
       "Q 1025 3253 1025 2328 \n",
       "Q 1025 1406 1450 917 \n",
       "Q 1875 428 2675 428 \n",
       "Q 3081 428 3442 575 \n",
       "Q 3803 722 4122 1019 \n",
       "L 4122 359 \n",
       "Q 3791 134 3420 21 \n",
       "Q 3050 -91 2638 -91 \n",
       "Q 1578 -91 968 557 \n",
       "Q 359 1206 359 2328 \n",
       "Q 359 3453 968 4101 \n",
       "Q 1578 4750 2638 4750 \n",
       "Q 3056 4750 3426 4639 \n",
       "Q 3797 4528 4122 4306 \n",
       "z\n",
       "\" transform=\"scale(0.015625)\"/>\n",
       "      <path id=\"DejaVuSans-68\" d=\"M 3513 2113 \n",
       "L 3513 0 \n",
       "L 2938 0 \n",
       "L 2938 2094 \n",
       "Q 2938 2591 2744 2837 \n",
       "Q 2550 3084 2163 3084 \n",
       "Q 1697 3084 1428 2787 \n",
       "Q 1159 2491 1159 1978 \n",
       "L 1159 0 \n",
       "L 581 0 \n",
       "L 581 4863 \n",
       "L 1159 4863 \n",
       "L 1159 2956 \n",
       "Q 1366 3272 1645 3428 \n",
       "Q 1925 3584 2291 3584 \n",
       "Q 2894 3584 3203 3211 \n",
       "Q 3513 2838 3513 2113 \n",
       "z\n",
       "\" transform=\"scale(0.015625)\"/>\n",
       "      <path id=\"DejaVuSans-72\" d=\"M 2631 2963 \n",
       "Q 2534 3019 2420 3045 \n",
       "Q 2306 3072 2169 3072 \n",
       "Q 1681 3072 1420 2755 \n",
       "Q 1159 2438 1159 1844 \n",
       "L 1159 0 \n",
       "L 581 0 \n",
       "L 581 3500 \n",
       "L 1159 3500 \n",
       "L 1159 2956 \n",
       "Q 1341 3275 1631 3429 \n",
       "Q 1922 3584 2338 3584 \n",
       "Q 2397 3584 2469 3576 \n",
       "Q 2541 3569 2628 3553 \n",
       "L 2631 2963 \n",
       "z\n",
       "\" transform=\"scale(0.015625)\"/>\n",
       "      <path id=\"DejaVuSans-74\" d=\"M 1172 4494 \n",
       "L 1172 3500 \n",
       "L 2356 3500 \n",
       "L 2356 3053 \n",
       "L 1172 3053 \n",
       "L 1172 1153 \n",
       "Q 1172 725 1289 603 \n",
       "Q 1406 481 1766 481 \n",
       "L 2356 481 \n",
       "L 2356 0 \n",
       "L 1766 0 \n",
       "Q 1100 0 847 248 \n",
       "Q 594 497 594 1153 \n",
       "L 594 3053 \n",
       "L 172 3053 \n",
       "L 172 3500 \n",
       "L 594 3500 \n",
       "L 594 4494 \n",
       "L 1172 4494 \n",
       "z\n",
       "\" transform=\"scale(0.015625)\"/>\n",
       "      <path id=\"DejaVuSans-69\" d=\"M 603 3500 \n",
       "L 1178 3500 \n",
       "L 1178 0 \n",
       "L 603 0 \n",
       "L 603 3500 \n",
       "z\n",
       "M 603 4863 \n",
       "L 1178 4863 \n",
       "L 1178 4134 \n",
       "L 603 4134 \n",
       "L 603 4863 \n",
       "z\n",
       "\" transform=\"scale(0.015625)\"/>\n",
       "      <path id=\"DejaVuSans-73\" d=\"M 2834 3397 \n",
       "L 2834 2853 \n",
       "Q 2591 2978 2328 3040 \n",
       "Q 2066 3103 1784 3103 \n",
       "Q 1356 3103 1142 2972 \n",
       "Q 928 2841 928 2578 \n",
       "Q 928 2378 1081 2264 \n",
       "Q 1234 2150 1697 2047 \n",
       "L 1894 2003 \n",
       "Q 2506 1872 2764 1633 \n",
       "Q 3022 1394 3022 966 \n",
       "Q 3022 478 2636 193 \n",
       "Q 2250 -91 1575 -91 \n",
       "Q 1294 -91 989 -36 \n",
       "Q 684 19 347 128 \n",
       "L 347 722 \n",
       "Q 666 556 975 473 \n",
       "Q 1284 391 1588 391 \n",
       "Q 1994 391 2212 530 \n",
       "Q 2431 669 2431 922 \n",
       "Q 2431 1156 2273 1281 \n",
       "Q 2116 1406 1581 1522 \n",
       "L 1381 1569 \n",
       "Q 847 1681 609 1914 \n",
       "Q 372 2147 372 2553 \n",
       "Q 372 3047 722 3315 \n",
       "Q 1072 3584 1716 3584 \n",
       "Q 2034 3584 2315 3537 \n",
       "Q 2597 3491 2834 3397 \n",
       "z\n",
       "\" transform=\"scale(0.015625)\"/>\n",
       "      <path id=\"DejaVuSans-4f\" d=\"M 2522 4238 \n",
       "Q 1834 4238 1429 3725 \n",
       "Q 1025 3213 1025 2328 \n",
       "Q 1025 1447 1429 934 \n",
       "Q 1834 422 2522 422 \n",
       "Q 3209 422 3611 934 \n",
       "Q 4013 1447 4013 2328 \n",
       "Q 4013 3213 3611 3725 \n",
       "Q 3209 4238 2522 4238 \n",
       "z\n",
       "M 2522 4750 \n",
       "Q 3503 4750 4090 4092 \n",
       "Q 4678 3434 4678 2328 \n",
       "Q 4678 1225 4090 567 \n",
       "Q 3503 -91 2522 -91 \n",
       "Q 1538 -91 948 565 \n",
       "Q 359 1222 359 2328 \n",
       "Q 359 3434 948 4092 \n",
       "Q 1538 4750 2522 4750 \n",
       "z\n",
       "\" transform=\"scale(0.015625)\"/>\n",
       "     </defs>\n",
       "     <use xlink:href=\"#DejaVuSans-53\"/>\n",
       "     <use xlink:href=\"#DejaVuSans-6f\" x=\"63.476562\"/>\n",
       "     <use xlink:href=\"#DejaVuSans-6e\" x=\"124.658203\"/>\n",
       "     <use xlink:href=\"#DejaVuSans-67\" x=\"188.037109\"/>\n",
       "     <use xlink:href=\"#DejaVuSans-20\" x=\"251.513672\"/>\n",
       "     <use xlink:href=\"#DejaVuSans-43\" x=\"283.300781\"/>\n",
       "     <use xlink:href=\"#DejaVuSans-68\" x=\"353.125\"/>\n",
       "     <use xlink:href=\"#DejaVuSans-61\" x=\"416.503906\"/>\n",
       "     <use xlink:href=\"#DejaVuSans-72\" x=\"477.783203\"/>\n",
       "     <use xlink:href=\"#DejaVuSans-61\" x=\"518.896484\"/>\n",
       "     <use xlink:href=\"#DejaVuSans-63\" x=\"580.175781\"/>\n",
       "     <use xlink:href=\"#DejaVuSans-74\" x=\"635.15625\"/>\n",
       "     <use xlink:href=\"#DejaVuSans-65\" x=\"674.365234\"/>\n",
       "     <use xlink:href=\"#DejaVuSans-72\" x=\"735.888672\"/>\n",
       "     <use xlink:href=\"#DejaVuSans-69\" x=\"777.001953\"/>\n",
       "     <use xlink:href=\"#DejaVuSans-73\" x=\"804.785156\"/>\n",
       "     <use xlink:href=\"#DejaVuSans-74\" x=\"856.884766\"/>\n",
       "     <use xlink:href=\"#DejaVuSans-69\" x=\"896.09375\"/>\n",
       "     <use xlink:href=\"#DejaVuSans-63\" x=\"923.876953\"/>\n",
       "     <use xlink:href=\"#DejaVuSans-73\" x=\"978.857422\"/>\n",
       "     <use xlink:href=\"#DejaVuSans-20\" x=\"1030.957031\"/>\n",
       "     <use xlink:href=\"#DejaVuSans-4f\" x=\"1062.744141\"/>\n",
       "     <use xlink:href=\"#DejaVuSans-76\" x=\"1141.455078\"/>\n",
       "     <use xlink:href=\"#DejaVuSans-65\" x=\"1200.634766\"/>\n",
       "     <use xlink:href=\"#DejaVuSans-72\" x=\"1262.158203\"/>\n",
       "     <use xlink:href=\"#DejaVuSans-20\" x=\"1303.271484\"/>\n",
       "     <use xlink:href=\"#DejaVuSans-74\" x=\"1335.058594\"/>\n",
       "     <use xlink:href=\"#DejaVuSans-68\" x=\"1374.267578\"/>\n",
       "     <use xlink:href=\"#DejaVuSans-65\" x=\"1437.646484\"/>\n",
       "     <use xlink:href=\"#DejaVuSans-20\" x=\"1499.169922\"/>\n",
       "     <use xlink:href=\"#DejaVuSans-44\" x=\"1530.957031\"/>\n",
       "     <use xlink:href=\"#DejaVuSans-65\" x=\"1607.958984\"/>\n",
       "     <use xlink:href=\"#DejaVuSans-63\" x=\"1669.482422\"/>\n",
       "     <use xlink:href=\"#DejaVuSans-61\" x=\"1724.462891\"/>\n",
       "     <use xlink:href=\"#DejaVuSans-64\" x=\"1785.742188\"/>\n",
       "     <use xlink:href=\"#DejaVuSans-65\" x=\"1849.21875\"/>\n",
       "     <use xlink:href=\"#DejaVuSans-73\" x=\"1910.742188\"/>\n",
       "    </g>\n",
       "   </g>\n",
       "   <g id=\"legend_1\">\n",
       "    <g id=\"patch_7\">\n",
       "     <path d=\"M 50.78125 147.743125 \n",
       "L 169.442187 147.743125 \n",
       "Q 171.442187 147.743125 171.442187 145.743125 \n",
       "L 171.442187 29.318125 \n",
       "Q 171.442187 27.318125 169.442187 27.318125 \n",
       "L 50.78125 27.318125 \n",
       "Q 48.78125 27.318125 48.78125 29.318125 \n",
       "L 48.78125 145.743125 \n",
       "Q 48.78125 147.743125 50.78125 147.743125 \n",
       "z\n",
       "\" style=\"fill: #eaeaf2; opacity: 0.8; stroke: #cccccc; stroke-linejoin: miter\"/>\n",
       "    </g>\n",
       "    <g id=\"text_18\">\n",
       "     <!-- variable -->\n",
       "     <g style=\"fill: #262626\" transform=\"translate(89.939844 38.916562)scale(0.1 -0.1)\">\n",
       "      <defs>\n",
       "       <path id=\"DejaVuSans-62\" d=\"M 3116 1747 \n",
       "Q 3116 2381 2855 2742 \n",
       "Q 2594 3103 2138 3103 \n",
       "Q 1681 3103 1420 2742 \n",
       "Q 1159 2381 1159 1747 \n",
       "Q 1159 1113 1420 752 \n",
       "Q 1681 391 2138 391 \n",
       "Q 2594 391 2855 752 \n",
       "Q 3116 1113 3116 1747 \n",
       "z\n",
       "M 1159 2969 \n",
       "Q 1341 3281 1617 3432 \n",
       "Q 1894 3584 2278 3584 \n",
       "Q 2916 3584 3314 3078 \n",
       "Q 3713 2572 3713 1747 \n",
       "Q 3713 922 3314 415 \n",
       "Q 2916 -91 2278 -91 \n",
       "Q 1894 -91 1617 61 \n",
       "Q 1341 213 1159 525 \n",
       "L 1159 0 \n",
       "L 581 0 \n",
       "L 581 4863 \n",
       "L 1159 4863 \n",
       "L 1159 2969 \n",
       "z\n",
       "\" transform=\"scale(0.015625)\"/>\n",
       "      </defs>\n",
       "      <use xlink:href=\"#DejaVuSans-76\"/>\n",
       "      <use xlink:href=\"#DejaVuSans-61\" x=\"59.179688\"/>\n",
       "      <use xlink:href=\"#DejaVuSans-72\" x=\"120.458984\"/>\n",
       "      <use xlink:href=\"#DejaVuSans-69\" x=\"161.572266\"/>\n",
       "      <use xlink:href=\"#DejaVuSans-61\" x=\"189.355469\"/>\n",
       "      <use xlink:href=\"#DejaVuSans-62\" x=\"250.634766\"/>\n",
       "      <use xlink:href=\"#DejaVuSans-6c\" x=\"314.111328\"/>\n",
       "      <use xlink:href=\"#DejaVuSans-65\" x=\"341.894531\"/>\n",
       "     </g>\n",
       "    </g>\n",
       "    <g id=\"line2d_29\">\n",
       "     <path d=\"M 52.78125 50.094688 \n",
       "L 62.78125 50.094688 \n",
       "L 72.78125 50.094688 \n",
       "\" style=\"fill: none; stroke: #f77189; stroke-width: 1.5; stroke-linecap: round\"/>\n",
       "    </g>\n",
       "    <g id=\"text_19\">\n",
       "     <!-- danceability -->\n",
       "     <g style=\"fill: #262626\" transform=\"translate(80.78125 53.594688)scale(0.1 -0.1)\">\n",
       "      <defs>\n",
       "       <path id=\"DejaVuSans-79\" d=\"M 2059 -325 \n",
       "Q 1816 -950 1584 -1140 \n",
       "Q 1353 -1331 966 -1331 \n",
       "L 506 -1331 \n",
       "L 506 -850 \n",
       "L 844 -850 \n",
       "Q 1081 -850 1212 -737 \n",
       "Q 1344 -625 1503 -206 \n",
       "L 1606 56 \n",
       "L 191 3500 \n",
       "L 800 3500 \n",
       "L 1894 763 \n",
       "L 2988 3500 \n",
       "L 3597 3500 \n",
       "L 2059 -325 \n",
       "z\n",
       "\" transform=\"scale(0.015625)\"/>\n",
       "      </defs>\n",
       "      <use xlink:href=\"#DejaVuSans-64\"/>\n",
       "      <use xlink:href=\"#DejaVuSans-61\" x=\"63.476562\"/>\n",
       "      <use xlink:href=\"#DejaVuSans-6e\" x=\"124.755859\"/>\n",
       "      <use xlink:href=\"#DejaVuSans-63\" x=\"188.134766\"/>\n",
       "      <use xlink:href=\"#DejaVuSans-65\" x=\"243.115234\"/>\n",
       "      <use xlink:href=\"#DejaVuSans-61\" x=\"304.638672\"/>\n",
       "      <use xlink:href=\"#DejaVuSans-62\" x=\"365.917969\"/>\n",
       "      <use xlink:href=\"#DejaVuSans-69\" x=\"429.394531\"/>\n",
       "      <use xlink:href=\"#DejaVuSans-6c\" x=\"457.177734\"/>\n",
       "      <use xlink:href=\"#DejaVuSans-69\" x=\"484.960938\"/>\n",
       "      <use xlink:href=\"#DejaVuSans-74\" x=\"512.744141\"/>\n",
       "      <use xlink:href=\"#DejaVuSans-79\" x=\"551.953125\"/>\n",
       "     </g>\n",
       "    </g>\n",
       "    <g id=\"line2d_30\">\n",
       "     <path d=\"M 52.78125 64.772813 \n",
       "L 62.78125 64.772813 \n",
       "L 72.78125 64.772813 \n",
       "\" style=\"fill: none; stroke: #c69432; stroke-width: 1.5; stroke-linecap: round\"/>\n",
       "    </g>\n",
       "    <g id=\"text_20\">\n",
       "     <!-- energy -->\n",
       "     <g style=\"fill: #262626\" transform=\"translate(80.78125 68.272813)scale(0.1 -0.1)\">\n",
       "      <use xlink:href=\"#DejaVuSans-65\"/>\n",
       "      <use xlink:href=\"#DejaVuSans-6e\" x=\"61.523438\"/>\n",
       "      <use xlink:href=\"#DejaVuSans-65\" x=\"124.902344\"/>\n",
       "      <use xlink:href=\"#DejaVuSans-72\" x=\"186.425781\"/>\n",
       "      <use xlink:href=\"#DejaVuSans-67\" x=\"225.789062\"/>\n",
       "      <use xlink:href=\"#DejaVuSans-79\" x=\"289.265625\"/>\n",
       "     </g>\n",
       "    </g>\n",
       "    <g id=\"line2d_31\">\n",
       "     <path d=\"M 52.78125 79.450938 \n",
       "L 62.78125 79.450938 \n",
       "L 72.78125 79.450938 \n",
       "\" style=\"fill: none; stroke: #82a931; stroke-width: 1.5; stroke-linecap: round\"/>\n",
       "    </g>\n",
       "    <g id=\"text_21\">\n",
       "     <!-- instrumentalness -->\n",
       "     <g style=\"fill: #262626\" transform=\"translate(80.78125 82.950938)scale(0.1 -0.1)\">\n",
       "      <defs>\n",
       "       <path id=\"DejaVuSans-6d\" d=\"M 3328 2828 \n",
       "Q 3544 3216 3844 3400 \n",
       "Q 4144 3584 4550 3584 \n",
       "Q 5097 3584 5394 3201 \n",
       "Q 5691 2819 5691 2113 \n",
       "L 5691 0 \n",
       "L 5113 0 \n",
       "L 5113 2094 \n",
       "Q 5113 2597 4934 2840 \n",
       "Q 4756 3084 4391 3084 \n",
       "Q 3944 3084 3684 2787 \n",
       "Q 3425 2491 3425 1978 \n",
       "L 3425 0 \n",
       "L 2847 0 \n",
       "L 2847 2094 \n",
       "Q 2847 2600 2669 2842 \n",
       "Q 2491 3084 2119 3084 \n",
       "Q 1678 3084 1418 2786 \n",
       "Q 1159 2488 1159 1978 \n",
       "L 1159 0 \n",
       "L 581 0 \n",
       "L 581 3500 \n",
       "L 1159 3500 \n",
       "L 1159 2956 \n",
       "Q 1356 3278 1631 3431 \n",
       "Q 1906 3584 2284 3584 \n",
       "Q 2666 3584 2933 3390 \n",
       "Q 3200 3197 3328 2828 \n",
       "z\n",
       "\" transform=\"scale(0.015625)\"/>\n",
       "      </defs>\n",
       "      <use xlink:href=\"#DejaVuSans-69\"/>\n",
       "      <use xlink:href=\"#DejaVuSans-6e\" x=\"27.783203\"/>\n",
       "      <use xlink:href=\"#DejaVuSans-73\" x=\"91.162109\"/>\n",
       "      <use xlink:href=\"#DejaVuSans-74\" x=\"143.261719\"/>\n",
       "      <use xlink:href=\"#DejaVuSans-72\" x=\"182.470703\"/>\n",
       "      <use xlink:href=\"#DejaVuSans-75\" x=\"223.583984\"/>\n",
       "      <use xlink:href=\"#DejaVuSans-6d\" x=\"286.962891\"/>\n",
       "      <use xlink:href=\"#DejaVuSans-65\" x=\"384.375\"/>\n",
       "      <use xlink:href=\"#DejaVuSans-6e\" x=\"445.898438\"/>\n",
       "      <use xlink:href=\"#DejaVuSans-74\" x=\"509.277344\"/>\n",
       "      <use xlink:href=\"#DejaVuSans-61\" x=\"548.486328\"/>\n",
       "      <use xlink:href=\"#DejaVuSans-6c\" x=\"609.765625\"/>\n",
       "      <use xlink:href=\"#DejaVuSans-6e\" x=\"637.548828\"/>\n",
       "      <use xlink:href=\"#DejaVuSans-65\" x=\"700.927734\"/>\n",
       "      <use xlink:href=\"#DejaVuSans-73\" x=\"762.451172\"/>\n",
       "      <use xlink:href=\"#DejaVuSans-73\" x=\"814.550781\"/>\n",
       "     </g>\n",
       "    </g>\n",
       "    <g id=\"line2d_32\">\n",
       "     <path d=\"M 52.78125 94.129063 \n",
       "L 62.78125 94.129063 \n",
       "L 72.78125 94.129063 \n",
       "\" style=\"fill: none; stroke: #34af8a; stroke-width: 1.5; stroke-linecap: round\"/>\n",
       "    </g>\n",
       "    <g id=\"text_22\">\n",
       "     <!-- valence -->\n",
       "     <g style=\"fill: #262626\" transform=\"translate(80.78125 97.629063)scale(0.1 -0.1)\">\n",
       "      <use xlink:href=\"#DejaVuSans-76\"/>\n",
       "      <use xlink:href=\"#DejaVuSans-61\" x=\"59.179688\"/>\n",
       "      <use xlink:href=\"#DejaVuSans-6c\" x=\"120.458984\"/>\n",
       "      <use xlink:href=\"#DejaVuSans-65\" x=\"148.242188\"/>\n",
       "      <use xlink:href=\"#DejaVuSans-6e\" x=\"209.765625\"/>\n",
       "      <use xlink:href=\"#DejaVuSans-63\" x=\"273.144531\"/>\n",
       "      <use xlink:href=\"#DejaVuSans-65\" x=\"328.125\"/>\n",
       "     </g>\n",
       "    </g>\n",
       "    <g id=\"line2d_33\">\n",
       "     <path d=\"M 52.78125 108.807188 \n",
       "L 62.78125 108.807188 \n",
       "L 72.78125 108.807188 \n",
       "\" style=\"fill: none; stroke: #37aabb; stroke-width: 1.5; stroke-linecap: round\"/>\n",
       "    </g>\n",
       "    <g id=\"text_23\">\n",
       "     <!-- liveliness -->\n",
       "     <g style=\"fill: #262626\" transform=\"translate(80.78125 112.307188)scale(0.1 -0.1)\">\n",
       "      <use xlink:href=\"#DejaVuSans-6c\"/>\n",
       "      <use xlink:href=\"#DejaVuSans-69\" x=\"27.783203\"/>\n",
       "      <use xlink:href=\"#DejaVuSans-76\" x=\"55.566406\"/>\n",
       "      <use xlink:href=\"#DejaVuSans-65\" x=\"114.746094\"/>\n",
       "      <use xlink:href=\"#DejaVuSans-6c\" x=\"176.269531\"/>\n",
       "      <use xlink:href=\"#DejaVuSans-69\" x=\"204.052734\"/>\n",
       "      <use xlink:href=\"#DejaVuSans-6e\" x=\"231.835938\"/>\n",
       "      <use xlink:href=\"#DejaVuSans-65\" x=\"295.214844\"/>\n",
       "      <use xlink:href=\"#DejaVuSans-73\" x=\"356.738281\"/>\n",
       "      <use xlink:href=\"#DejaVuSans-73\" x=\"408.837891\"/>\n",
       "     </g>\n",
       "    </g>\n",
       "    <g id=\"line2d_34\">\n",
       "     <path d=\"M 52.78125 123.485313 \n",
       "L 62.78125 123.485313 \n",
       "L 72.78125 123.485313 \n",
       "\" style=\"fill: none; stroke: #8197f4; stroke-width: 1.5; stroke-linecap: round\"/>\n",
       "    </g>\n",
       "    <g id=\"text_24\">\n",
       "     <!-- speechiness -->\n",
       "     <g style=\"fill: #262626\" transform=\"translate(80.78125 126.985313)scale(0.1 -0.1)\">\n",
       "      <defs>\n",
       "       <path id=\"DejaVuSans-70\" d=\"M 1159 525 \n",
       "L 1159 -1331 \n",
       "L 581 -1331 \n",
       "L 581 3500 \n",
       "L 1159 3500 \n",
       "L 1159 2969 \n",
       "Q 1341 3281 1617 3432 \n",
       "Q 1894 3584 2278 3584 \n",
       "Q 2916 3584 3314 3078 \n",
       "Q 3713 2572 3713 1747 \n",
       "Q 3713 922 3314 415 \n",
       "Q 2916 -91 2278 -91 \n",
       "Q 1894 -91 1617 61 \n",
       "Q 1341 213 1159 525 \n",
       "z\n",
       "M 3116 1747 \n",
       "Q 3116 2381 2855 2742 \n",
       "Q 2594 3103 2138 3103 \n",
       "Q 1681 3103 1420 2742 \n",
       "Q 1159 2381 1159 1747 \n",
       "Q 1159 1113 1420 752 \n",
       "Q 1681 391 2138 391 \n",
       "Q 2594 391 2855 752 \n",
       "Q 3116 1113 3116 1747 \n",
       "z\n",
       "\" transform=\"scale(0.015625)\"/>\n",
       "      </defs>\n",
       "      <use xlink:href=\"#DejaVuSans-73\"/>\n",
       "      <use xlink:href=\"#DejaVuSans-70\" x=\"52.099609\"/>\n",
       "      <use xlink:href=\"#DejaVuSans-65\" x=\"115.576172\"/>\n",
       "      <use xlink:href=\"#DejaVuSans-65\" x=\"177.099609\"/>\n",
       "      <use xlink:href=\"#DejaVuSans-63\" x=\"238.623047\"/>\n",
       "      <use xlink:href=\"#DejaVuSans-68\" x=\"293.603516\"/>\n",
       "      <use xlink:href=\"#DejaVuSans-69\" x=\"356.982422\"/>\n",
       "      <use xlink:href=\"#DejaVuSans-6e\" x=\"384.765625\"/>\n",
       "      <use xlink:href=\"#DejaVuSans-65\" x=\"448.144531\"/>\n",
       "      <use xlink:href=\"#DejaVuSans-73\" x=\"509.667969\"/>\n",
       "      <use xlink:href=\"#DejaVuSans-73\" x=\"561.767578\"/>\n",
       "     </g>\n",
       "    </g>\n",
       "    <g id=\"line2d_35\">\n",
       "     <path d=\"M 52.78125 138.163438 \n",
       "L 62.78125 138.163438 \n",
       "L 72.78125 138.163438 \n",
       "\" style=\"fill: none; stroke: #f45deb; stroke-width: 1.5; stroke-linecap: round\"/>\n",
       "    </g>\n",
       "    <g id=\"text_25\">\n",
       "     <!-- acoustics -->\n",
       "     <g style=\"fill: #262626\" transform=\"translate(80.78125 141.663438)scale(0.1 -0.1)\">\n",
       "      <use xlink:href=\"#DejaVuSans-61\"/>\n",
       "      <use xlink:href=\"#DejaVuSans-63\" x=\"61.279297\"/>\n",
       "      <use xlink:href=\"#DejaVuSans-6f\" x=\"116.259766\"/>\n",
       "      <use xlink:href=\"#DejaVuSans-75\" x=\"177.441406\"/>\n",
       "      <use xlink:href=\"#DejaVuSans-73\" x=\"240.820312\"/>\n",
       "      <use xlink:href=\"#DejaVuSans-74\" x=\"292.919922\"/>\n",
       "      <use xlink:href=\"#DejaVuSans-69\" x=\"332.128906\"/>\n",
       "      <use xlink:href=\"#DejaVuSans-63\" x=\"359.912109\"/>\n",
       "      <use xlink:href=\"#DejaVuSans-73\" x=\"414.892578\"/>\n",
       "     </g>\n",
       "    </g>\n",
       "   </g>\n",
       "  </g>\n",
       " </g>\n",
       " <defs>\n",
       "  <clipPath id=\"p61e10d6f0d\">\n",
       "   <rect x=\"43.78125\" y=\"22.318125\" width=\"357.12\" height=\"266.112\"/>\n",
       "  </clipPath>\n",
       " </defs>\n",
       "</svg>\n"
      ],
      "text/plain": [
       "<Figure size 640x480 with 1 Axes>"
      ]
     },
     "metadata": {},
     "output_type": "display_data"
    }
   ],
   "source": [
    "# same as above but with seaborn. (sometimes plotly doesn't show up in the published notebok)\n",
    "sns.lineplot(data=pd.melt(df_music_features, ['Decade']), x='Decade', y='value', hue='variable').set_title('Song Characteristics Over the Decades');"
   ]
  },
  {
   "cell_type": "code",
   "execution_count": 39,
   "id": "1b8f5af5",
   "metadata": {
    "collapsed": true
   },
   "outputs": [
    {
     "name": "stdout",
     "output_type": "stream",
     "text": [
      "\u001b[31mERROR: Could not find a version that satisfies the requirement kaggle_secrets (from versions: none)\u001b[0m\u001b[31m\r\n",
      "\u001b[0m\u001b[31mERROR: No matching distribution found for kaggle_secrets\u001b[0m\u001b[31m\r\n",
      "\u001b[0m"
     ]
    }
   ],
   "source": [
    "## !pip install --quiet kaggle"
   ]
  },
  {
   "cell_type": "code",
   "execution_count": null,
   "id": "0ba936f7",
   "metadata": {},
   "outputs": [],
   "source": []
  },
  {
   "cell_type": "code",
   "execution_count": null,
   "id": "3efa6c83",
   "metadata": {},
   "outputs": [],
   "source": []
  }
 ],
 "metadata": {
  "kernelspec": {
   "display_name": "Python 3 (ipykernel)",
   "language": "python",
   "name": "python3"
  },
  "language_info": {
   "codemirror_mode": {
    "name": "ipython",
    "version": 3
   },
   "file_extension": ".py",
   "mimetype": "text/x-python",
   "name": "python",
   "nbconvert_exporter": "python",
   "pygments_lexer": "ipython3",
   "version": "3.9.13"
  }
 },
 "nbformat": 4,
 "nbformat_minor": 5
}
