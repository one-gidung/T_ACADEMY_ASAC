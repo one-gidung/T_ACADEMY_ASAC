{
 "cells": [
  {
   "cell_type": "markdown",
   "id": "388e3d00",
   "metadata": {},
   "source": [
    "## 리스트컴프리헨션 --> 속도보다는 코드의 가독성\n",
    "아주 복잡한 경우보다 간단한 1~2중 for정도에서"
   ]
  },
  {
   "cell_type": "code",
   "execution_count": null,
   "id": "3345d067",
   "metadata": {},
   "outputs": [],
   "source": []
  },
  {
   "cell_type": "markdown",
   "id": "e47795a5",
   "metadata": {},
   "source": [
    "# 구현"
   ]
  },
  {
   "cell_type": "code",
   "execution_count": 1,
   "id": "98f1ef82",
   "metadata": {
    "collapsed": true
   },
   "outputs": [
    {
     "name": "stdout",
     "output_type": "stream",
     "text": [
      "R\n",
      "1\n",
      "0\n",
      "---------------\n",
      "L\n",
      "-1\n",
      "0\n",
      "---------------\n",
      "U\n",
      "0\n",
      "1\n",
      "---------------\n",
      "D\n",
      "0\n",
      "-1\n",
      "---------------\n"
     ]
    }
   ],
   "source": [
    "n = 5\n",
    "plans = ['R', 'R', 'R', 'U', 'D', 'D']\n",
    "\n",
    "\n",
    "\n",
    "move_types = ['R', 'L', 'U', 'D']\n",
    "dx   = [1, -1, 0, 0]\n",
    "dy   = [0, 0, 1, -1]\n",
    "\n",
    "for m in range(len(move_types)):\n",
    "    print(move_types[m])\n",
    "    print(dx[m])\n",
    "    print(dy[m])\n",
    "    print('---------------')"
   ]
  },
  {
   "cell_type": "code",
   "execution_count": null,
   "id": "54ddff27",
   "metadata": {},
   "outputs": [],
   "source": [
    "if: # 이동가능한지\n",
    "    #이동가능하면\n",
    "elif: # 이동불가능\n",
    "    pass"
   ]
  },
  {
   "cell_type": "code",
   "execution_count": null,
   "id": "3ab0f121",
   "metadata": {},
   "outputs": [],
   "source": []
  },
  {
   "cell_type": "code",
   "execution_count": null,
   "id": "0fbdfdc9",
   "metadata": {},
   "outputs": [],
   "source": [
    "move_types = {'L': [0, -1],\n",
    "              'R': [0, 1],\n",
    "              'U': [],\n",
    "              'D' : []}"
   ]
  },
  {
   "cell_type": "code",
   "execution_count": null,
   "id": "b8c7ec71",
   "metadata": {},
   "outputs": [],
   "source": []
  },
  {
   "cell_type": "markdown",
   "id": "b12e8caf",
   "metadata": {},
   "source": [
    "# 2020 카카오 인턴십\n",
    "## 키패드 누르기"
   ]
  },
  {
   "cell_type": "markdown",
   "id": "5513b81e",
   "metadata": {},
   "source": [
    "1. 엄지손가락은 상하좌우 4가지 방향으로만 이동할 수 있으며 키패드 이동 한 칸은 거리로 1에 해당합니다.  \n",
    "2. 왼쪽 열의 3개의 숫자 1, 4, 7을 입력할 때는 왼손 엄지손가락을 사용합니다.  \n",
    "3. 오른쪽 열의 3개의 숫자 3, 6, 9를 입력할 때는 오른손 엄지손가락을 사용합니다.  \n",
    "4. 가운데 열의 4개의 숫자 2, 5, 8, 0을 입력할 때는 두 엄지손가락의 현재 키패드의 위치에서 더 가까운 엄지손가락을 사용합니다.  \n",
    "4-1. 만약 두 엄지손가락의 거리가 같다면, 오른손잡이는 오른손 엄지손가락, 왼손잡이는 왼손 엄지손가락을 사용합니다."
   ]
  },
  {
   "cell_type": "markdown",
   "id": "6c594779",
   "metadata": {},
   "source": [
    "L시작점은 \\*, R 시작점은 #  \n",
    "1, 4, 7 --> 무조건 L  \n",
    "3, 6, 9 --> 무조건 R  \n",
    "2, 5, 8, 0 --> 둘 중 가까운 거 (L, R)  \n"
   ]
  },
  {
   "cell_type": "markdown",
   "id": "d471ba83",
   "metadata": {},
   "source": [
    "numbers의 원소들이 for loop를 돌 때  \n",
    "1, 4, 7이면 L을 반환하고 현재위치 저장  \n",
    "3, 6, 9면 R을 반환하고 현재위치 저장  \n",
    "  \n",
    "2, 5, 8, 0이면  \n",
    "현재 왼손과 오른손의 위치에서 거리 계산  \n",
    "만약 거리가 같다면 hand에 따라 L, R 반환 후 현재위치 저장\n",
    "\n"
   ]
  },
  {
   "cell_type": "code",
   "execution_count": 35,
   "id": "3377825d",
   "metadata": {},
   "outputs": [],
   "source": [
    "# 예1\n",
    "numbers = [1, 3, 4, 5, 8, 2, 1, 4, 5, 9, 5]\n",
    "hand = \"right\""
   ]
  },
  {
   "cell_type": "code",
   "execution_count": 36,
   "id": "5a4a5af6",
   "metadata": {},
   "outputs": [],
   "source": [
    "key_pos = {\n",
    "                      '1': (0, 0), '2': (0, 1), '3': (0, 2),\n",
    "                      '4': (1, 0), '5': (1, 1), '6': (1, 2),\n",
    "                      '7': (2, 0), '8': (2, 1), '9': (2, 2),\n",
    "                      '*': (3, 0), '0': (3, 1), '#': (3, 2)\n",
    "             }"
   ]
  },
  {
   "cell_type": "code",
   "execution_count": 37,
   "id": "badf5b06",
   "metadata": {},
   "outputs": [],
   "source": [
    "# [2, 5, 8, 0] 일때 거리 계산하는 함수\n",
    "def sol(now, num):\n",
    "    L, R, ans = 0, 0, -1\n",
    "    \n",
    "#     key_pos[now[0]] # L\n",
    "#     key_pos[now[1]] # R\n",
    "#     key_pos[str(num)] # 현재 누르고자 하는 키\n",
    "    \n",
    "    for i in range(2):\n",
    "        L += abs(key_pos[now[0]][i] - key_pos[str(num)][i])\n",
    "        R += abs(key_pos[now[1]][i] - key_pos[str(num)][i])\n",
    "    \n",
    "    # L과 R 비교\n",
    "    if L == R: pass\n",
    "    elif L < R: ans = 0       # L 선택\n",
    "    else: ans = 1             # R 선택\n",
    "    \n",
    "    return ans"
   ]
  },
  {
   "cell_type": "code",
   "execution_count": 46,
   "id": "8dbbf485",
   "metadata": {},
   "outputs": [],
   "source": [
    "now = ['*', '#'] # L, R의 현재 손 위치\n",
    "answer = '' # 누른 손 결과를 저장할 문자열\n",
    "\n",
    "for num in numbers:\n",
    "    if num in [1, 4, 7]:                             # L인 경우\n",
    "        answer += 'L'\n",
    "        now[0] = str(num)                                 # 현재위치 저장\n",
    "        \n",
    "    elif num in [3, 6, 9]:                           # R인 경우\n",
    "        answer += 'R'\n",
    "        now[1] = str(num)                                 # 현재위치 저장\n",
    "        \n",
    "    else: # [2, 5, 8, 0]                             # L, R과 num과의 거리계산\n",
    "        \n",
    "        ans = sol(now, num)\n",
    "        \n",
    "        if ans == -1:                                # 거리가 같은 경우\n",
    "            # 현재위치 저장\n",
    "            if hand == 'right':\n",
    "                answer += 'R'\n",
    "                now[1] = str(num)\n",
    "            else:\n",
    "                answer += 'L'\n",
    "                now[0] = str(num)\n",
    "            \n",
    "        else:                                        # 거리가 다른 경우\n",
    "            # 가까운 손(R, L) 사용\n",
    "            if ans == 0:\n",
    "                answer += 'L'\n",
    "                now[ans] = str(num)         # 현재위치 저장\n",
    "            else:\n",
    "                answer += 'R'\n",
    "                now[ans] = str(num)         # 현재위치 저장"
   ]
  },
  {
   "cell_type": "code",
   "execution_count": 47,
   "id": "0d08995d",
   "metadata": {},
   "outputs": [
    {
     "data": {
      "text/plain": [
       "'LRLLLRLLRRL'"
      ]
     },
     "execution_count": 47,
     "metadata": {},
     "output_type": "execute_result"
    }
   ],
   "source": [
    "answer"
   ]
  },
  {
   "cell_type": "markdown",
   "id": "d16ca3ba",
   "metadata": {},
   "source": [
    "## 신고 결과 받기"
   ]
  },
  {
   "cell_type": "code",
   "execution_count": null,
   "id": "b5451b32",
   "metadata": {},
   "outputs": [],
   "source": [
    "def solution(id_list, report):\n",
    "    # 최종 결과에 대한 변수에 대한 초기화 작업: 카운팅 -> 초기값 0 세팅\n",
    "    answer\n",
    "    # 1) 신고한 사람들에 대한 정보 정리 초기화 --> dict\n",
    "    # 자료형은 dict : key(신고당한 사람),  value(신고한 사람들 리스트)\n",
    "    report_dict = {}\n",
    "    for id in id_list:\n",
    "        report_dict[id] = [] # 신고한 사람들을 담을 것이니 빈 리스트로\n",
    "\n",
    "    # 2) 실제 신고한 정보들을 정리해서 report_dict에 기록\n",
    "    for report_pair in report:\n",
    "        # report_pair = 'muzi frodo'\n",
    "        # 신고자, 신고당한 사람을 분리 --> 문자열, 파이썬, 공백분리 spllit(' ')\n",
    "        reporter = repoprt_pair.split(' ')[0]\n",
    "        reported = repoprt_pair.split(' ')[1]\n",
    "        # reporter = 'muzi', reported = 'frodo'\n",
    "        report_dict[reported].append(reporter)\n",
    "    \n",
    "    # 3) 이제는 시스템상 k번 이상 신고당한 사람이 누구인지\n",
    "    # dict의 값들을 돌려가면서 할 것이니, items(): k/v 분리해서 len(v) >= k\n",
    "    k_reported = [] # block 당한 사람들\n",
    "    for id, v in report_dict.items():\n",
    "        if len(v) >= k:\n",
    "            k_reported.append(id)\n",
    "        else:\n",
    "            pass\n",
    "\n",
    "    # 4) k_reported 돌아가면서 value에 있는 사람들에게 메일 보내기 카운팅\n",
    "    for reported_id in k_reported:\n",
    "        # block당한 사람을 신고한 사람들 id\n",
    "        mail_received_ids = report_dict[reported_id] #[neo, frodo]\n",
    "        # id_list에서 카운팅\n",
    "        for mail_received_id in mail_received_ids:\n",
    "            mail_received_id_index = id_list.index(mail_receiveced_)\n",
    "            # answer에 id_list와 동일하게\n",
    "            answer[mail_received_id_index]"
   ]
  },
  {
   "cell_type": "markdown",
   "id": "8b1e9d0d",
   "metadata": {},
   "source": [
    "## 교수님 코드"
   ]
  },
  {
   "cell_type": "code",
   "execution_count": null,
   "id": "61b50deb",
   "metadata": {},
   "outputs": [],
   "source": [
    "\n",
    "def solution(id_list, report, k):\n",
    "    # 최종 결과에 대한 변수에 대한 초기화 작업 : 카운팅!!!! --> 초기값 0 세팅!!!\n",
    "    answer = [0] * len(id_list)\n",
    "    report_dict = { id : set([]) for id in id_list }\n",
    "    \n",
    "    for report_pair in report:\n",
    "        reporter = report_pair.split(\" \")[0]\n",
    "        reported = report_pair.split(\" \")[1]\n",
    "        report_dict[reported].append(reporter)\n",
    "    \n",
    "    k_reported = [id for id, v in report_dict.items() if len(v)>=k]\n",
    "    \n",
    "    \n",
    "\n",
    "    # 4) k_reported 돌아가면서 value에 있는 사람들에게 메일 보내자~~~ 카운팅!!!!\n",
    "    for reported_id in k_reported:\n",
    "        # 블락당한 사람을 신고한 사람들 id\n",
    "        mail_received_ids = report_dict[reported_id] # [neo, frodo]\n",
    "        # id_list에서 카운팅!!!!!\n",
    "        for mail_received_id in mail_received_ids:\n",
    "            mail_received_id_index = id_list.index(mail_received_id)\n",
    "            # answer에 id_list와 동일하게 세팅한 카운팅 값들에...\n",
    "            answer[mail_received_id_index] += 1\n",
    "\n",
    "\n",
    "    ###########\n",
    "    return answer"
   ]
  }
 ],
 "metadata": {
  "kernelspec": {
   "display_name": "Python 3 (ipykernel)",
   "language": "python",
   "name": "python3"
  },
  "language_info": {
   "codemirror_mode": {
    "name": "ipython",
    "version": 3
   },
   "file_extension": ".py",
   "mimetype": "text/x-python",
   "name": "python",
   "nbconvert_exporter": "python",
   "pygments_lexer": "ipython3",
   "version": "3.9.12"
  }
 },
 "nbformat": 4,
 "nbformat_minor": 5
}
