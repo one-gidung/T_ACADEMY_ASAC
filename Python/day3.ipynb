{
 "cells": [
  {
   "cell_type": "markdown",
   "id": "17958bbc",
   "metadata": {},
   "source": [
    "## 리스트컴프리헨션 --> 속도보다는 코드의 가독성\n",
    "아주 복잡한 경우보다 간단한 1~2중 for정도에서"
   ]
  },
  {
   "cell_type": "code",
   "execution_count": null,
   "id": "ca0c7dbc",
   "metadata": {},
   "outputs": [],
   "source": []
  },
  {
   "cell_type": "markdown",
   "id": "8a6cb744",
   "metadata": {},
   "source": [
    "# 구현"
   ]
  },
  {
   "cell_type": "code",
   "execution_count": 1,
   "id": "57dce8fe",
   "metadata": {
    "collapsed": true
   },
   "outputs": [
    {
     "name": "stdout",
     "output_type": "stream",
     "text": [
      "R\n",
      "1\n",
      "0\n",
      "---------------\n",
      "L\n",
      "-1\n",
      "0\n",
      "---------------\n",
      "U\n",
      "0\n",
      "1\n",
      "---------------\n",
      "D\n",
      "0\n",
      "-1\n",
      "---------------\n"
     ]
    }
   ],
   "source": [
    "n = 5\n",
    "plans = ['R', 'R', 'R', 'U', 'D', 'D']\n",
    "\n",
    "\n",
    "\n",
    "move_types = ['R', 'L', 'U', 'D']\n",
    "dx   = [1, -1, 0, 0]\n",
    "dy   = [0, 0, 1, -1]\n",
    "\n",
    "for m in range(len(move_types)):\n",
    "    print(move_types[m])\n",
    "    print(dx[m])\n",
    "    print(dy[m])\n",
    "    print('---------------')"
   ]
  },
  {
   "cell_type": "code",
   "execution_count": null,
   "id": "f9b04251",
   "metadata": {},
   "outputs": [],
   "source": [
    "if: # 이동가능한지\n",
    "    #이동가능하면\n",
    "elif: # 이동불가능\n",
    "    pass"
   ]
  },
  {
   "cell_type": "code",
   "execution_count": null,
   "id": "6d2e39d8",
   "metadata": {},
   "outputs": [],
   "source": []
  },
  {
   "cell_type": "code",
   "execution_count": null,
   "id": "2ca41042",
   "metadata": {},
   "outputs": [],
   "source": [
    "move_types = {'L': [0, -1],\n",
    "              'R': [0, 1],\n",
    "              'U': [],\n",
    "              'D' : []}"
   ]
  },
  {
   "cell_type": "code",
   "execution_count": null,
   "id": "9b81e7e5",
   "metadata": {},
   "outputs": [],
   "source": []
  },
  {
   "cell_type": "markdown",
   "id": "0d137321",
   "metadata": {},
   "source": [
    "# 2020 카카오 인턴십\n",
    "## 키패드 누르기"
   ]
  },
  {
   "cell_type": "markdown",
   "id": "da990763",
   "metadata": {},
   "source": [
    "1. 엄지손가락은 상하좌우 4가지 방향으로만 이동할 수 있으며 키패드 이동 한 칸은 거리로 1에 해당합니다.  \n",
    "2. 왼쪽 열의 3개의 숫자 1, 4, 7을 입력할 때는 왼손 엄지손가락을 사용합니다.  \n",
    "3. 오른쪽 열의 3개의 숫자 3, 6, 9를 입력할 때는 오른손 엄지손가락을 사용합니다.  \n",
    "4. 가운데 열의 4개의 숫자 2, 5, 8, 0을 입력할 때는 두 엄지손가락의 현재 키패드의 위치에서 더 가까운 엄지손가락을 사용합니다.  \n",
    "4-1. 만약 두 엄지손가락의 거리가 같다면, 오른손잡이는 오른손 엄지손가락, 왼손잡이는 왼손 엄지손가락을 사용합니다."
   ]
  },
  {
   "cell_type": "markdown",
   "id": "eec658ec",
   "metadata": {},
   "source": [
    "L시작점은 \\*, R 시작점은 #  \n",
    "1, 4, 7 --> 무조건 L  \n",
    "3, 6, 9 --> 무조건 R  \n",
    "2, 5, 8, 0 --> 둘 중 가까운 거 (L, R)  \n"
   ]
  },
  {
   "cell_type": "markdown",
   "id": "b0930c6f",
   "metadata": {},
   "source": [
    "numbers의 원소들이 for loop를 돌 때  \n",
    "1, 4, 7이면 L을 반환하고 현재위치 저장  \n",
    "3, 6, 9면 R을 반환하고 현재위치 저장  \n",
    "  \n",
    "2, 5, 8, 0이면  \n",
    "현재 왼손과 오른손의 위치에서 거리 계산  \n",
    "만약 거리가 같다면 hand에 따라 L, R 반환 후 현재위치 저장\n",
    "\n"
   ]
  },
  {
   "cell_type": "code",
   "execution_count": 35,
   "id": "90d204a7",
   "metadata": {},
   "outputs": [],
   "source": [
    "# 예1\n",
    "numbers = [1, 3, 4, 5, 8, 2, 1, 4, 5, 9, 5]\n",
    "hand = \"right\""
   ]
  },
  {
   "cell_type": "code",
   "execution_count": 36,
   "id": "eda52733",
   "metadata": {},
   "outputs": [],
   "source": [
    "key_pos = {\n",
    "                      '1': (0, 0), '2': (0, 1), '3': (0, 2),\n",
    "                      '4': (1, 0), '5': (1, 1), '6': (1, 2),\n",
    "                      '7': (2, 0), '8': (2, 1), '9': (2, 2),\n",
    "                      '*': (3, 0), '0': (3, 1), '#': (3, 2)\n",
    "             }"
   ]
  },
  {
   "cell_type": "code",
   "execution_count": 37,
   "id": "123dd8cb",
   "metadata": {},
   "outputs": [],
   "source": [
    "# [2, 5, 8, 0] 일때 거리 계산하는 함수\n",
    "def sol(now, num):\n",
    "    L, R, ans = 0, 0, -1\n",
    "    \n",
    "#     key_pos[now[0]] # L\n",
    "#     key_pos[now[1]] # R\n",
    "#     key_pos[str(num)] # 현재 누르고자 하는 키\n",
    "    \n",
    "    for i in range(2):\n",
    "        L += abs(key_pos[now[0]][i] - key_pos[str(num)][i])\n",
    "        R += abs(key_pos[now[1]][i] - key_pos[str(num)][i])\n",
    "    \n",
    "    # L과 R 비교\n",
    "    if L == R: pass\n",
    "    elif L < R: ans = 0       # L 선택\n",
    "    else: ans = 1             # R 선택\n",
    "    \n",
    "    return ans"
   ]
  },
  {
   "cell_type": "code",
   "execution_count": 41,
   "id": "c1c0b490",
   "metadata": {},
   "outputs": [],
   "source": [
    "now = ['*', '#'] # L, R의 현재 손 위치\n",
    "result = [] # 누른 손 결과를 저장할 리스트\n",
    "\n",
    "for num in numbers:\n",
    "    if num in [1, 4, 7]:                             # L인 경우\n",
    "        result.append(\"L\")\n",
    "        now[0] = str(num)                                 # 현재위치 저장\n",
    "        \n",
    "    elif num in [3, 6, 9]:                           # R인 경우\n",
    "        result.append(\"R\")\n",
    "        now[1] = str(num)                                 # 현재위치 저장\n",
    "        \n",
    "    else: # [2, 5, 8, 0]                             # L, R과 num과의 거리계산\n",
    "        \n",
    "        ans = sol(now, num)\n",
    "        \n",
    "        if ans == -1:                                # 거리가 같은 경우\n",
    "            # 현재위치 저장\n",
    "            if hand == 'right':\n",
    "                result.append('R')\n",
    "                now[1] = str(num)\n",
    "            else:\n",
    "                result.append('L')\n",
    "                now[0] = str(num)\n",
    "            \n",
    "        else:                                        # 거리가 다른 경우\n",
    "            # 가까운 손(R, L) 사용\n",
    "            if ans == 0:\n",
    "                result.append('L')\n",
    "                now[ans] = str(num)         # 현재위치 저장\n",
    "            else:\n",
    "                result.append('R')\n",
    "                now[ans] = str(num)         # 현재위치 저장"
   ]
  },
  {
   "cell_type": "code",
   "execution_count": 45,
   "id": "38cf5519",
   "metadata": {},
   "outputs": [
    {
     "data": {
      "text/plain": [
       "'LRLLLRLLRRL'"
      ]
     },
     "execution_count": 45,
     "metadata": {},
     "output_type": "execute_result"
    }
   ],
   "source": [
    "answer = ''.join(result)\n",
    "answer"
   ]
  },
  {
   "cell_type": "code",
   "execution_count": null,
   "id": "cca7a088",
   "metadata": {},
   "outputs": [],
   "source": []
  }
 ],
 "metadata": {
  "kernelspec": {
   "display_name": "Python 3 (ipykernel)",
   "language": "python",
   "name": "python3"
  },
  "language_info": {
   "codemirror_mode": {
    "name": "ipython",
    "version": 3
   },
   "file_extension": ".py",
   "mimetype": "text/x-python",
   "name": "python",
   "nbconvert_exporter": "python",
   "pygments_lexer": "ipython3",
   "version": "3.9.12"
  }
 },
 "nbformat": 4,
 "nbformat_minor": 5
}
