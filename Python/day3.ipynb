{
 "cells": [
  {
   "cell_type": "markdown",
   "id": "7d2cb17e",
   "metadata": {},
   "source": [
    "## 리스트컴프리헨션 --> 속도보다는 코드의 가독성\n",
    "아주 복잡한 경우보다 간단한 1~2중 for정도에서"
   ]
  },
  {
   "cell_type": "code",
   "execution_count": null,
   "id": "8e1a5310",
   "metadata": {},
   "outputs": [],
   "source": []
  }
 ],
 "metadata": {
  "kernelspec": {
   "display_name": "Python 3 (ipykernel)",
   "language": "python",
   "name": "python3"
  },
  "language_info": {
   "codemirror_mode": {
    "name": "ipython",
    "version": 3
   },
   "file_extension": ".py",
   "mimetype": "text/x-python",
   "name": "python",
   "nbconvert_exporter": "python",
   "pygments_lexer": "ipython3",
   "version": "3.9.12"
  }
 },
 "nbformat": 4,
 "nbformat_minor": 5
}
