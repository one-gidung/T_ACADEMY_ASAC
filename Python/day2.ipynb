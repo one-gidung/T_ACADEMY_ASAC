{
 "cells": [
  {
   "cell_type": "markdown",
   "id": "bf8e40d1",
   "metadata": {},
   "source": [
    "추가:  \n",
    "append( 그냥 뒤에 추가 )  \n",
    "insert( 중간에 끼워 젛기 -> where, what )  \n",
    "\n",
    "제거:  \n",
    "remove( 값 -> 동일 값 존재 시 맨 앞의 원소만 제거가 됨)  \n",
    "pop( 위치 )  \n",
    "리스트의 기능(메서드)을 활용하면 리스트 자체가 바로 값이 변화 -> 재할당 필요가 없음"
   ]
  },
  {
   "cell_type": "code",
   "execution_count": null,
   "id": "cafd4a7e",
   "metadata": {},
   "outputs": [],
   "source": []
  },
  {
   "cell_type": "code",
   "execution_count": 4,
   "id": "028f0f22",
   "metadata": {},
   "outputs": [
    {
     "name": "stdout",
     "output_type": "stream",
     "text": [
      "43\n",
      "Jack\n"
     ]
    }
   ],
   "source": [
    "ages = {'Matt': 30, 'Katie': 29, 'Nik': 31, 'Jack': 43, 'Alison': 32, 'Kevin': 38}\n",
    "\n",
    "# Get the max value in a Python dict\n",
    "max_value = max(ages.values())\n",
    "print(max_value)\n",
    "# Returns: 43\n",
    "\n",
    "\n",
    "# Get the key for a dict's max value\n",
    "max_key = max(ages, key=ages.get)\n",
    "print(max_key)\n",
    "# Returns Jack"
   ]
  },
  {
   "cell_type": "code",
   "execution_count": 14,
   "id": "550d35ec",
   "metadata": {},
   "outputs": [
    {
     "name": "stdout",
     "output_type": "stream",
     "text": [
      "0 Matt 30\n",
      "1 Katie 29\n",
      "2 Nik 31\n",
      "3 Jack 43\n",
      "4 Alison 32\n",
      "5 Kevin 38\n"
     ]
    }
   ],
   "source": [
    "for i, (k, v) in enumerate(ages.items()):\n",
    "    print(i, k, v)"
   ]
  },
  {
   "cell_type": "code",
   "execution_count": 7,
   "id": "345bdfe5",
   "metadata": {},
   "outputs": [
    {
     "name": "stdout",
     "output_type": "stream",
     "text": [
      "Matt\n",
      "30\n",
      "Katie\n",
      "29\n",
      "Nik\n",
      "31\n",
      "Jack\n",
      "43\n",
      "Alison\n",
      "32\n",
      "Kevin\n",
      "38\n"
     ]
    }
   ],
   "source": [
    "for k, v in ages.items():\n",
    "    print(k)\n",
    "    print(v)"
   ]
  },
  {
   "cell_type": "code",
   "execution_count": 8,
   "id": "2e23eb72",
   "metadata": {},
   "outputs": [
    {
     "name": "stdout",
     "output_type": "stream",
     "text": [
      "('Matt', 30)\n",
      "('Katie', 29)\n",
      "('Nik', 31)\n",
      "('Jack', 43)\n",
      "('Alison', 32)\n",
      "('Kevin', 38)\n"
     ]
    }
   ],
   "source": [
    "for i in ages.items():\n",
    "    print(i)"
   ]
  },
  {
   "cell_type": "code",
   "execution_count": 16,
   "id": "338763d6",
   "metadata": {},
   "outputs": [
    {
     "name": "stdout",
     "output_type": "stream",
     "text": [
      "0 A\n",
      "1 B\n",
      "2 C\n",
      "1 A\n",
      "2 B\n",
      "3 C\n"
     ]
    }
   ],
   "source": [
    "for i, letter in enumerate(['A', 'B', 'C']):\n",
    "    print(i, letter)\n",
    "for i, letter in enumerate(['A', 'B', 'C'], start=1):\n",
    "    print(i, letter)"
   ]
  },
  {
   "cell_type": "markdown",
   "id": "86138033",
   "metadata": {},
   "source": [
    "## 잠시 퀴즈"
   ]
  },
  {
   "cell_type": "code",
   "execution_count": 19,
   "id": "2cac0978",
   "metadata": {},
   "outputs": [],
   "source": [
    "grade = {'원빈': [100, 80], '장동건': [95, 90], '송중기': [91, 98], '공유': [85, 99]}"
   ]
  },
  {
   "cell_type": "code",
   "execution_count": 22,
   "id": "e22ea161",
   "metadata": {
    "scrolled": true
   },
   "outputs": [
    {
     "name": "stdout",
     "output_type": "stream",
     "text": [
      "{'원빈': [100, 80, 90.0], '장동건': [95, 90, 92.5], '송중기': [91, 98, 94.5], '공유': [85, 99, 92.0]}\n"
     ]
    }
   ],
   "source": [
    "for k, v in grade.items():\n",
    "    grade[k].append((v[0]+v[1])/2)\n",
    "print(grade)"
   ]
  },
  {
   "cell_type": "markdown",
   "id": "6c69e449",
   "metadata": {},
   "source": [
    "## 자료유형 잘 선택\n",
    "### 완주하지 못한 선수 연습문제"
   ]
  },
  {
   "cell_type": "code",
   "execution_count": 75,
   "id": "76409c40",
   "metadata": {},
   "outputs": [],
   "source": [
    "# participant: 마라톤에 참여한 선수들 명단\n",
    "# completion: 완주한 선수들 명단\n",
    "# return: 완주하지 못한 선수들 명단\n",
    "\n",
    "participant = [\"marina\", \"josipa\", \"nikola\", \"vinko\", \"filipa\"]\n",
    "completion = [\"josipa\", \"filipa\", \"marina\", \"nikola\"]"
   ]
  },
  {
   "cell_type": "code",
   "execution_count": 39,
   "id": "39f39968",
   "metadata": {},
   "outputs": [],
   "source": [
    "def solution(participant, completion):\n",
    "    answer = ''\n",
    "    \n",
    "    for i in completion:\n",
    "        participant.remove(i)\n",
    "        \n",
    "    answer = participant[0]\n",
    "    return answer"
   ]
  },
  {
   "cell_type": "code",
   "execution_count": 76,
   "id": "1f8bb797",
   "metadata": {},
   "outputs": [],
   "source": [
    "def solution(participant, completion):\n",
    "    answer = ''\n",
    "    \n",
    "    for i in participant:\n",
    "        try:\n",
    "            completion.remove(i)\n",
    "        except ValueError:\n",
    "            answer = i\n",
    "            break\n",
    "\n",
    "    return answer"
   ]
  },
  {
   "cell_type": "code",
   "execution_count": 77,
   "id": "95bbe01a",
   "metadata": {},
   "outputs": [
    {
     "name": "stdout",
     "output_type": "stream",
     "text": [
      "marina\n",
      "josipa\n",
      "nikola\n",
      "vinko\n"
     ]
    },
    {
     "data": {
      "text/plain": [
       "'vinko'"
      ]
     },
     "execution_count": 77,
     "metadata": {},
     "output_type": "execute_result"
    }
   ],
   "source": [
    "solution(participant, completion)"
   ]
  },
  {
   "cell_type": "code",
   "execution_count": null,
   "id": "1125ff1e",
   "metadata": {},
   "outputs": [],
   "source": []
  }
 ],
 "metadata": {
  "kernelspec": {
   "display_name": "Python 3 (ipykernel)",
   "language": "python",
   "name": "python3"
  },
  "language_info": {
   "codemirror_mode": {
    "name": "ipython",
    "version": 3
   },
   "file_extension": ".py",
   "mimetype": "text/x-python",
   "name": "python",
   "nbconvert_exporter": "python",
   "pygments_lexer": "ipython3",
   "version": "3.9.12"
  }
 },
 "nbformat": 4,
 "nbformat_minor": 5
}
