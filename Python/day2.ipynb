{
 "cells": [
  {
   "cell_type": "markdown",
   "id": "58469972",
   "metadata": {},
   "source": [
    "추가:  \n",
    "append( 그냥 뒤에 추가 )  \n",
    "insert( 중간에 끼워 젛기 -> where, what )  \n",
    "\n",
    "제거:  \n",
    "remove( 값 -> 동일 값 존재 시 맨 앞의 원소만 제거가 됨)  \n",
    "pop( 위치 )  \n",
    "리스트의 기능(메서드)을 활용하면 리스트 자체가 바로 값이 변화 -> 재할당 필요가 없음"
   ]
  },
  {
   "cell_type": "code",
   "execution_count": null,
   "id": "8b60af6e",
   "metadata": {},
   "outputs": [],
   "source": []
  },
  {
   "cell_type": "code",
   "execution_count": 4,
   "id": "3cfe716a",
   "metadata": {},
   "outputs": [
    {
     "name": "stdout",
     "output_type": "stream",
     "text": [
      "43\n",
      "Jack\n"
     ]
    }
   ],
   "source": [
    "ages = {'Matt': 30, 'Katie': 29, 'Nik': 31, 'Jack': 43, 'Alison': 32, 'Kevin': 38}\n",
    "\n",
    "# Get the max value in a Python dict\n",
    "max_value = max(ages.values())\n",
    "print(max_value)\n",
    "# Returns: 43\n",
    "\n",
    "\n",
    "# Get the key for a dict's max value\n",
    "max_key = max(ages, key=ages.get)\n",
    "print(max_key)\n",
    "# Returns Jack"
   ]
  },
  {
   "cell_type": "code",
   "execution_count": 14,
   "id": "2eba6321",
   "metadata": {},
   "outputs": [
    {
     "name": "stdout",
     "output_type": "stream",
     "text": [
      "0 Matt 30\n",
      "1 Katie 29\n",
      "2 Nik 31\n",
      "3 Jack 43\n",
      "4 Alison 32\n",
      "5 Kevin 38\n"
     ]
    }
   ],
   "source": [
    "for i, (k, v) in enumerate(ages.items()):\n",
    "    print(i, k, v)"
   ]
  },
  {
   "cell_type": "code",
   "execution_count": 7,
   "id": "0c4347d9",
   "metadata": {},
   "outputs": [
    {
     "name": "stdout",
     "output_type": "stream",
     "text": [
      "Matt\n",
      "30\n",
      "Katie\n",
      "29\n",
      "Nik\n",
      "31\n",
      "Jack\n",
      "43\n",
      "Alison\n",
      "32\n",
      "Kevin\n",
      "38\n"
     ]
    }
   ],
   "source": [
    "for k, v in ages.items():\n",
    "    print(k)\n",
    "    print(v)"
   ]
  },
  {
   "cell_type": "code",
   "execution_count": 8,
   "id": "3e3b0729",
   "metadata": {},
   "outputs": [
    {
     "name": "stdout",
     "output_type": "stream",
     "text": [
      "('Matt', 30)\n",
      "('Katie', 29)\n",
      "('Nik', 31)\n",
      "('Jack', 43)\n",
      "('Alison', 32)\n",
      "('Kevin', 38)\n"
     ]
    }
   ],
   "source": [
    "for i in ages.items():\n",
    "    print(i)"
   ]
  },
  {
   "cell_type": "code",
   "execution_count": 16,
   "id": "ac263a55",
   "metadata": {},
   "outputs": [
    {
     "name": "stdout",
     "output_type": "stream",
     "text": [
      "0 A\n",
      "1 B\n",
      "2 C\n",
      "1 A\n",
      "2 B\n",
      "3 C\n"
     ]
    }
   ],
   "source": [
    "for i, letter in enumerate(['A', 'B', 'C']):\n",
    "    print(i, letter)\n",
    "for i, letter in enumerate(['A', 'B', 'C'], start=1):\n",
    "    print(i, letter)"
   ]
  },
  {
   "cell_type": "markdown",
   "id": "58e3db3b",
   "metadata": {},
   "source": [
    "## 잠시 퀴즈"
   ]
  },
  {
   "cell_type": "code",
   "execution_count": 19,
   "id": "1571b7a9",
   "metadata": {},
   "outputs": [],
   "source": [
    "grade = {'원빈': [100, 80], '장동건': [95, 90], '송중기': [91, 98], '공유': [85, 99]}"
   ]
  },
  {
   "cell_type": "code",
   "execution_count": 22,
   "id": "c563b687",
   "metadata": {
    "scrolled": true
   },
   "outputs": [
    {
     "name": "stdout",
     "output_type": "stream",
     "text": [
      "{'원빈': [100, 80, 90.0], '장동건': [95, 90, 92.5], '송중기': [91, 98, 94.5], '공유': [85, 99, 92.0]}\n"
     ]
    }
   ],
   "source": [
    "for k, v in grade.items():\n",
    "    grade[k].append((v[0]+v[1])/2)\n",
    "print(grade)"
   ]
  },
  {
   "cell_type": "markdown",
   "id": "2eef9535",
   "metadata": {},
   "source": [
    "## 자료유형 잘 선택\n",
    "### 완주하지 못한 선수 연습문제"
   ]
  },
  {
   "cell_type": "code",
   "execution_count": 92,
   "id": "810b394c",
   "metadata": {},
   "outputs": [],
   "source": [
    "# participant: 마라톤에 참여한 선수들 명단\n",
    "# completion: 완주한 선수들 명단\n",
    "# return: 완주하지 못한 선수들 명단\n",
    "\n",
    "participant = [\"marina\", \"josipa\", \"nikola\", \"vinko\", \"filipa\"]\n",
    "completion = [\"josipa\", \"filipa\", \"marina\", \"nikola\"]"
   ]
  },
  {
   "cell_type": "code",
   "execution_count": 39,
   "id": "15a8eb91",
   "metadata": {},
   "outputs": [],
   "source": [
    "def solution(participant, completion):\n",
    "    answer = ''\n",
    "    \n",
    "    for i in completion:\n",
    "        participant.remove(i)\n",
    "        \n",
    "    answer = participant[0]\n",
    "    return answer"
   ]
  },
  {
   "cell_type": "code",
   "execution_count": 81,
   "id": "efda468b",
   "metadata": {},
   "outputs": [],
   "source": [
    "def solution(participant, completion):\n",
    "    answer = ''\n",
    "    \n",
    "    for i in participant:\n",
    "        try:\n",
    "            completion.remove(i)\n",
    "        except ValueError:\n",
    "            answer = i\n",
    "            break\n",
    "\n",
    "    return answer"
   ]
  },
  {
   "cell_type": "code",
   "execution_count": 100,
   "id": "2e857144",
   "metadata": {},
   "outputs": [],
   "source": [
    "def solution(participant, completion):\n",
    "    answer = ''\n",
    "    counts = { }                         # 빈 딕셔너리\n",
    "    \n",
    "    for i in participant:                # 참여자 loop\n",
    "        if i not in counts:             # 신규참여자 딕셔너리에 value 1로 할당\n",
    "            counts[i] = 1                \n",
    "        else:                            # 동명이인 딕셔너리에 value +1 증가시킴\n",
    "            counts[i] += 1\n",
    "            \n",
    "    for k in completion:                 # 완주자 loop\n",
    "        if k in counts:                  # 딕셔너리에 value -1 감소시킴\n",
    "            counts[k] -= 1\n",
    "    \n",
    "    answer = max(counts, key=counts.get)  # 완주자 value값=0, 미완주자 value값=1\n",
    "    \n",
    "    return answer"
   ]
  },
  {
   "cell_type": "code",
   "execution_count": 101,
   "id": "84905c7f",
   "metadata": {},
   "outputs": [
    {
     "data": {
      "text/plain": [
       "'vinko'"
      ]
     },
     "execution_count": 101,
     "metadata": {},
     "output_type": "execute_result"
    }
   ],
   "source": [
    "solution(participant, completion)"
   ]
  },
  {
   "cell_type": "markdown",
   "id": "8498c171",
   "metadata": {},
   "source": [
    "## 자료유형 잘 선택\n",
    "### 위장 연습문제"
   ]
  },
  {
   "cell_type": "code",
   "execution_count": 102,
   "id": "0b70e1b3",
   "metadata": {},
   "outputs": [],
   "source": [
    "clothes = [[\"yellow_hat\", \"headgear\"], \n",
    "           [\"blue_sunglasses\", \"eyewear\"], \n",
    "           [\"green_turban\", \"headgear\"]]"
   ]
  },
  {
   "cell_type": "code",
   "execution_count": 114,
   "id": "fc0095f4",
   "metadata": {},
   "outputs": [
    {
     "name": "stdout",
     "output_type": "stream",
     "text": [
      "yellow_hat headgear\n",
      "blue_sunglasses eyewear\n",
      "green_turban headgear\n"
     ]
    }
   ],
   "source": [
    "for v, k in clothes:\n",
    "    print(v, k)"
   ]
  },
  {
   "cell_type": "code",
   "execution_count": 125,
   "id": "b129a66d",
   "metadata": {},
   "outputs": [],
   "source": [
    "from collections import defaultdict\n",
    "\n",
    "def solution(clothes):\n",
    "    answer = 1\n",
    "    dict = defaultdict(list)               # dict의 value형을 list로 정함\n",
    "    \n",
    "    for v, k in clothes:\n",
    "        dict[k].append(v)                  # dict 생성\n",
    "    \n",
    "    for i in dict.keys():\n",
    "        answer *= (len(dict[i]) + 1)       # 각 key마다 (value의 길이+1)해서 (선택할 경우의 수= 각 key마다 0개, 1개, ..., n개)\n",
    "                                           # 정답에 곱해준다\n",
    "    answer -= 1                            # 1을 빼준다\n",
    "                                           # 적어도 1개의 옷은 입어야 하니 (전체 경우의 수 - 1)\n",
    "    return answer"
   ]
  },
  {
   "cell_type": "code",
   "execution_count": 126,
   "id": "1148a98a",
   "metadata": {},
   "outputs": [
    {
     "data": {
      "text/plain": [
       "5"
      ]
     },
     "execution_count": 126,
     "metadata": {},
     "output_type": "execute_result"
    }
   ],
   "source": [
    "solution(clothes)"
   ]
  },
  {
   "cell_type": "markdown",
   "id": "a4adb176",
   "metadata": {},
   "source": [
    "# lambda"
   ]
  },
  {
   "cell_type": "code",
   "execution_count": 127,
   "id": "412901a4",
   "metadata": {},
   "outputs": [],
   "source": [
    "score = [('A', 0), ('B', 1), ('C', 5), ('D', 3), ('E', 5)]"
   ]
  },
  {
   "cell_type": "code",
   "execution_count": 128,
   "id": "6e9c1d18",
   "metadata": {},
   "outputs": [
    {
     "data": {
      "text/plain": [
       "[('A', 0), ('B', 1), ('C', 5), ('D', 3), ('E', 5)]"
      ]
     },
     "execution_count": 128,
     "metadata": {},
     "output_type": "execute_result"
    }
   ],
   "source": [
    "sorted(score, key = lambda x : x[0])"
   ]
  },
  {
   "cell_type": "code",
   "execution_count": 129,
   "id": "078479e5",
   "metadata": {},
   "outputs": [
    {
     "data": {
      "text/plain": [
       "[('A', 0), ('B', 1), ('D', 3), ('C', 5), ('E', 5)]"
      ]
     },
     "execution_count": 129,
     "metadata": {},
     "output_type": "execute_result"
    }
   ],
   "source": [
    "sorted(score, key = lambda x : x[1])"
   ]
  },
  {
   "cell_type": "code",
   "execution_count": 130,
   "id": "16d83774",
   "metadata": {},
   "outputs": [
    {
     "data": {
      "text/plain": [
       "[('C', 5), ('E', 5), ('D', 3), ('B', 1), ('A', 0)]"
      ]
     },
     "execution_count": 130,
     "metadata": {},
     "output_type": "execute_result"
    }
   ],
   "source": [
    "sorted(score, key = lambda x : x[1], reverse=True)"
   ]
  },
  {
   "cell_type": "markdown",
   "id": "f2c8f731",
   "metadata": {},
   "source": [
    "## 정렬기준이 여러개일 때"
   ]
  },
  {
   "cell_type": "code",
   "execution_count": 131,
   "id": "a69cba87",
   "metadata": {},
   "outputs": [
    {
     "data": {
      "text/plain": [
       "[('A', 0),\n",
       " ('B', 5),\n",
       " ('AA', 3),\n",
       " ('C', 5),\n",
       " ('B', 1),\n",
       " ('Z', 5),\n",
       " ('D', 3),\n",
       " ('E', 5)]"
      ]
     },
     "execution_count": 131,
     "metadata": {},
     "output_type": "execute_result"
    }
   ],
   "source": [
    "score_list = [('A', 0), ('B', 5), ('AA', 3),\n",
    "             ('C', 5), ('B', 1), ('Z', 5),\n",
    "             ('D', 3), ('E', 5)]\n",
    "score_list"
   ]
  },
  {
   "cell_type": "code",
   "execution_count": 132,
   "id": "02968aa1",
   "metadata": {},
   "outputs": [
    {
     "data": {
      "text/plain": [
       "[('A', 0),\n",
       " ('AA', 3),\n",
       " ('B', 1),\n",
       " ('B', 5),\n",
       " ('C', 5),\n",
       " ('D', 3),\n",
       " ('E', 5),\n",
       " ('Z', 5)]"
      ]
     },
     "execution_count": 132,
     "metadata": {},
     "output_type": "execute_result"
    }
   ],
   "source": [
    "sorted(score_list)"
   ]
  },
  {
   "cell_type": "code",
   "execution_count": 133,
   "id": "56f39ea4",
   "metadata": {},
   "outputs": [
    {
     "data": {
      "text/plain": [
       "[('A', 0),\n",
       " ('AA', 3),\n",
       " ('B', 5),\n",
       " ('B', 1),\n",
       " ('C', 5),\n",
       " ('D', 3),\n",
       " ('E', 5),\n",
       " ('Z', 5)]"
      ]
     },
     "execution_count": 133,
     "metadata": {},
     "output_type": "execute_result"
    }
   ],
   "source": [
    "# 첫번째 기준으로만 정렬\n",
    "sorted(score_list, key = lambda x:x[0])"
   ]
  },
  {
   "cell_type": "code",
   "execution_count": 137,
   "id": "fdf63ad1",
   "metadata": {},
   "outputs": [
    {
     "data": {
      "text/plain": [
       "[('A', 0),\n",
       " ('AA', 3),\n",
       " ('B', 1),\n",
       " ('B', 5),\n",
       " ('C', 5),\n",
       " ('D', 3),\n",
       " ('E', 5),\n",
       " ('Z', 5)]"
      ]
     },
     "execution_count": 137,
     "metadata": {},
     "output_type": "execute_result"
    }
   ],
   "source": [
    "# 첫번째 기준으로 정렬 후, 같은 값들은 두번째 기준으로 재정렬\n",
    "sorted(score_list, key = lambda x:(x[0], x[1]))"
   ]
  },
  {
   "cell_type": "code",
   "execution_count": 138,
   "id": "8692d99c",
   "metadata": {},
   "outputs": [
    {
     "data": {
      "text/plain": [
       "[('A', 0),\n",
       " ('AA', 3),\n",
       " ('B', 5),\n",
       " ('B', 1),\n",
       " ('C', 5),\n",
       " ('D', 3),\n",
       " ('E', 5),\n",
       " ('Z', 5)]"
      ]
     },
     "execution_count": 138,
     "metadata": {},
     "output_type": "execute_result"
    }
   ],
   "source": [
    "# 첫번째 기준으로 오름차순 정렬 후, 같은 값들은 두번째 기준으로 내림차순 재정렬\n",
    "sorted(score_list, key = lambda x:(x[0], -x[1]))"
   ]
  },
  {
   "cell_type": "code",
   "execution_count": null,
   "id": "53031528",
   "metadata": {},
   "outputs": [],
   "source": []
  }
 ],
 "metadata": {
  "kernelspec": {
   "display_name": "Python 3 (ipykernel)",
   "language": "python",
   "name": "python3"
  },
  "language_info": {
   "codemirror_mode": {
    "name": "ipython",
    "version": 3
   },
   "file_extension": ".py",
   "mimetype": "text/x-python",
   "name": "python",
   "nbconvert_exporter": "python",
   "pygments_lexer": "ipython3",
   "version": "3.9.12"
  }
 },
 "nbformat": 4,
 "nbformat_minor": 5
}
