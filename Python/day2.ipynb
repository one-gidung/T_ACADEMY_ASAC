{
 "cells": [
  {
   "cell_type": "markdown",
   "id": "35308a4c",
   "metadata": {},
   "source": [
    "추가:  \n",
    "append( 그냥 뒤에 추가 )  \n",
    "insert( 중간에 끼워 젛기 -> where, what )  \n",
    "\n",
    "제거:  \n",
    "remove( 값 -> 동일 값 존재 시 맨 앞의 원소만 제거가 됨)  \n",
    "pop( 위치 )  \n",
    "리스트의 기능(메서드)을 활용하면 리스트 자체가 바로 값이 변화 -> 재할당 필요가 없음"
   ]
  },
  {
   "cell_type": "code",
   "execution_count": null,
   "id": "92c5f512",
   "metadata": {},
   "outputs": [],
   "source": []
  },
  {
   "cell_type": "code",
   "execution_count": 4,
   "id": "793f651b",
   "metadata": {},
   "outputs": [
    {
     "name": "stdout",
     "output_type": "stream",
     "text": [
      "43\n",
      "Jack\n"
     ]
    }
   ],
   "source": [
    "ages = {'Matt': 30, 'Katie': 29, 'Nik': 31, 'Jack': 43, 'Alison': 32, 'Kevin': 38}\n",
    "\n",
    "# Get the max value in a Python dict\n",
    "max_value = max(ages.values())\n",
    "print(max_value)\n",
    "# Returns: 43\n",
    "\n",
    "\n",
    "# Get the key for a dict's max value\n",
    "max_key = max(ages, key=ages.get)\n",
    "print(max_key)\n",
    "# Returns Jack"
   ]
  }
 ],
 "metadata": {
  "kernelspec": {
   "display_name": "Python 3 (ipykernel)",
   "language": "python",
   "name": "python3"
  },
  "language_info": {
   "codemirror_mode": {
    "name": "ipython",
    "version": 3
   },
   "file_extension": ".py",
   "mimetype": "text/x-python",
   "name": "python",
   "nbconvert_exporter": "python",
   "pygments_lexer": "ipython3",
   "version": "3.9.12"
  }
 },
 "nbformat": 4,
 "nbformat_minor": 5
}
