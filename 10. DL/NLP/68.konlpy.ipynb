{
 "cells": [
  {
   "cell_type": "code",
   "execution_count": 1,
   "metadata": {},
   "outputs": [],
   "source": [
    "from konlpy.tag import Hannanum, Kkma, Komoran, Okt"
   ]
  },
  {
   "cell_type": "code",
   "execution_count": 2,
   "metadata": {},
   "outputs": [],
   "source": [
    "s = '나는 자랑스런 태극기 앞에 조국과 민족의 무궁한 영광을 위하여'"
   ]
  },
  {
   "cell_type": "code",
   "execution_count": 3,
   "metadata": {},
   "outputs": [],
   "source": [
    "han = Hannanum()"
   ]
  },
  {
   "cell_type": "code",
   "execution_count": 4,
   "metadata": {},
   "outputs": [
    {
     "data": {
      "text/plain": [
       "['나',\n",
       " '는',\n",
       " '자랑',\n",
       " '스런',\n",
       " '태극기',\n",
       " '앞',\n",
       " '에',\n",
       " '조국',\n",
       " '과',\n",
       " '민족',\n",
       " '의',\n",
       " '무궁한',\n",
       " '영광',\n",
       " '을',\n",
       " '위하여']"
      ]
     },
     "execution_count": 4,
     "metadata": {},
     "output_type": "execute_result"
    }
   ],
   "source": [
    "han.morphs(s)"
   ]
  },
  {
   "cell_type": "code",
   "execution_count": 5,
   "metadata": {},
   "outputs": [
    {
     "data": {
      "text/plain": [
       "['나', '자랑', '태극기', '앞', '조국', '민족', '무궁한', '영광', '위하여']"
      ]
     },
     "execution_count": 5,
     "metadata": {},
     "output_type": "execute_result"
    }
   ],
   "source": [
    "han.nouns(s)"
   ]
  },
  {
   "cell_type": "code",
   "execution_count": 6,
   "metadata": {},
   "outputs": [
    {
     "data": {
      "text/plain": [
       "[('나', 'N'),\n",
       " ('는', 'J'),\n",
       " ('자랑', 'N'),\n",
       " ('스런', 'J'),\n",
       " ('태극기', 'N'),\n",
       " ('앞', 'N'),\n",
       " ('에', 'J'),\n",
       " ('조국', 'N'),\n",
       " ('과', 'J'),\n",
       " ('민족', 'N'),\n",
       " ('의', 'J'),\n",
       " ('무궁한', 'N'),\n",
       " ('영광', 'N'),\n",
       " ('을', 'J'),\n",
       " ('위하여', 'N')]"
      ]
     },
     "execution_count": 6,
     "metadata": {},
     "output_type": "execute_result"
    }
   ],
   "source": [
    "han.pos(s)"
   ]
  },
  {
   "cell_type": "code",
   "execution_count": null,
   "metadata": {},
   "outputs": [],
   "source": []
  },
  {
   "cell_type": "code",
   "execution_count": null,
   "metadata": {},
   "outputs": [],
   "source": []
  },
  {
   "cell_type": "code",
   "execution_count": null,
   "metadata": {},
   "outputs": [],
   "source": []
  }
 ],
 "metadata": {
  "kernelspec": {
   "display_name": "base",
   "language": "python",
   "name": "python3"
  },
  "language_info": {
   "codemirror_mode": {
    "name": "ipython",
    "version": 3
   },
   "file_extension": ".py",
   "mimetype": "text/x-python",
   "name": "python",
   "nbconvert_exporter": "python",
   "pygments_lexer": "ipython3",
   "version": "3.9.13"
  },
  "orig_nbformat": 4,
  "vscode": {
   "interpreter": {
    "hash": "ad2bdc8ecc057115af97d19610ffacc2b4e99fae6737bb82f5d7fb13d2f2c186"
   }
  }
 },
 "nbformat": 4,
 "nbformat_minor": 2
}
