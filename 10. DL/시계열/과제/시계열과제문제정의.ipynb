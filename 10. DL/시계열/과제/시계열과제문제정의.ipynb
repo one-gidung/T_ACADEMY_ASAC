{
 "cells": [
  {
   "cell_type": "code",
   "execution_count": null,
   "id": "c56896a1",
   "metadata": {},
   "outputs": [],
   "source": [
    "http://www.kma.go.kr/weather/forecast/mid-term-rss3.jsp?stnId=109"
   ]
  },
  {
   "cell_type": "code",
   "execution_count": null,
   "id": "94c3087a",
   "metadata": {},
   "outputs": [],
   "source": [
    "1. 지역 날짜 날씨 최고 최저 기온\n",
    "2. 최고기온이 가장높은 지역 날짜 날씨 최고\n",
    "3. 일교차가 가장큰 지역 날짜 날씨 일교차\n",
    "4. 12월22일마지막 다음 3일의 최고 최저기온 예측 :\n",
    "(adfuller:\n",
    "p, d, q 값\n",
    "arima 모델로\n",
    "예측( 2001-11-13, 2001-11-20)\n",
    "실제값 예측값을 그래프로 그리시요. )"
   ]
  }
 ],
 "metadata": {
  "kernelspec": {
   "display_name": "Python 3 (ipykernel)",
   "language": "python",
   "name": "python3"
  },
  "language_info": {
   "codemirror_mode": {
    "name": "ipython",
    "version": 3
   },
   "file_extension": ".py",
   "mimetype": "text/x-python",
   "name": "python",
   "nbconvert_exporter": "python",
   "pygments_lexer": "ipython3",
   "version": "3.9.13"
  }
 },
 "nbformat": 4,
 "nbformat_minor": 5
}
