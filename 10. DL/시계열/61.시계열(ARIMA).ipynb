{
 "cells": [
  {
   "cell_type": "code",
   "execution_count": 1,
   "id": "60a4a7a3",
   "metadata": {},
   "outputs": [],
   "source": [
    "from statsmodels.tsa.ar_model import AR\n",
    "from statsmodels.tsa.arima_model import ARIMA\n",
    "from statsmodels.tsa.stattools import adfuller\n",
    "\n",
    "import pandas as pd\n",
    "import matplotlib.pyplot as plt\n",
    "import numpy as np"
   ]
  },
  {
   "cell_type": "code",
   "execution_count": 9,
   "id": "3608d914",
   "metadata": {},
   "outputs": [
    {
     "data": {
      "text/html": [
       "<div>\n",
       "<style scoped>\n",
       "    .dataframe tbody tr th:only-of-type {\n",
       "        vertical-align: middle;\n",
       "    }\n",
       "\n",
       "    .dataframe tbody tr th {\n",
       "        vertical-align: top;\n",
       "    }\n",
       "\n",
       "    .dataframe thead th {\n",
       "        text-align: right;\n",
       "    }\n",
       "</style>\n",
       "<table border=\"1\" class=\"dataframe\">\n",
       "  <thead>\n",
       "    <tr style=\"text-align: right;\">\n",
       "      <th></th>\n",
       "      <th>Births</th>\n",
       "    </tr>\n",
       "    <tr>\n",
       "      <th>Date</th>\n",
       "      <th></th>\n",
       "    </tr>\n",
       "  </thead>\n",
       "  <tbody>\n",
       "    <tr>\n",
       "      <th>1959-01-01</th>\n",
       "      <td>35</td>\n",
       "    </tr>\n",
       "    <tr>\n",
       "      <th>1959-01-02</th>\n",
       "      <td>32</td>\n",
       "    </tr>\n",
       "    <tr>\n",
       "      <th>1959-01-03</th>\n",
       "      <td>30</td>\n",
       "    </tr>\n",
       "    <tr>\n",
       "      <th>1959-01-04</th>\n",
       "      <td>31</td>\n",
       "    </tr>\n",
       "    <tr>\n",
       "      <th>1959-01-05</th>\n",
       "      <td>44</td>\n",
       "    </tr>\n",
       "    <tr>\n",
       "      <th>...</th>\n",
       "      <td>...</td>\n",
       "    </tr>\n",
       "    <tr>\n",
       "      <th>1959-12-27</th>\n",
       "      <td>37</td>\n",
       "    </tr>\n",
       "    <tr>\n",
       "      <th>1959-12-28</th>\n",
       "      <td>52</td>\n",
       "    </tr>\n",
       "    <tr>\n",
       "      <th>1959-12-29</th>\n",
       "      <td>48</td>\n",
       "    </tr>\n",
       "    <tr>\n",
       "      <th>1959-12-30</th>\n",
       "      <td>55</td>\n",
       "    </tr>\n",
       "    <tr>\n",
       "      <th>1959-12-31</th>\n",
       "      <td>50</td>\n",
       "    </tr>\n",
       "  </tbody>\n",
       "</table>\n",
       "<p>365 rows × 1 columns</p>\n",
       "</div>"
      ],
      "text/plain": [
       "            Births\n",
       "Date              \n",
       "1959-01-01      35\n",
       "1959-01-02      32\n",
       "1959-01-03      30\n",
       "1959-01-04      31\n",
       "1959-01-05      44\n",
       "...            ...\n",
       "1959-12-27      37\n",
       "1959-12-28      52\n",
       "1959-12-29      48\n",
       "1959-12-30      55\n",
       "1959-12-31      50\n",
       "\n",
       "[365 rows x 1 columns]"
      ]
     },
     "execution_count": 9,
     "metadata": {},
     "output_type": "execute_result"
    }
   ],
   "source": [
    "birthDF = pd.read_csv('data/daily-total-female-births.txt', \n",
    "                      index_col='Date', parse_dates=['Date'] )\n",
    "birthDF"
   ]
  },
  {
   "cell_type": "code",
   "execution_count": 10,
   "id": "544c0b46",
   "metadata": {},
   "outputs": [
    {
     "data": {
      "text/plain": [
       "DatetimeIndex(['1959-01-01', '1959-01-02', '1959-01-03', '1959-01-04',\n",
       "               '1959-01-05', '1959-01-06', '1959-01-07', '1959-01-08',\n",
       "               '1959-01-09', '1959-01-10',\n",
       "               ...\n",
       "               '1959-12-22', '1959-12-23', '1959-12-24', '1959-12-25',\n",
       "               '1959-12-26', '1959-12-27', '1959-12-28', '1959-12-29',\n",
       "               '1959-12-30', '1959-12-31'],\n",
       "              dtype='datetime64[ns]', name='Date', length=365, freq=None)"
      ]
     },
     "execution_count": 10,
     "metadata": {},
     "output_type": "execute_result"
    }
   ],
   "source": [
    "birthDF.index"
   ]
  },
  {
   "cell_type": "code",
   "execution_count": 12,
   "id": "5380904c",
   "metadata": {},
   "outputs": [
    {
     "data": {
      "text/html": [
       "<div>\n",
       "<style scoped>\n",
       "    .dataframe tbody tr th:only-of-type {\n",
       "        vertical-align: middle;\n",
       "    }\n",
       "\n",
       "    .dataframe tbody tr th {\n",
       "        vertical-align: top;\n",
       "    }\n",
       "\n",
       "    .dataframe thead th {\n",
       "        text-align: right;\n",
       "    }\n",
       "</style>\n",
       "<table border=\"1\" class=\"dataframe\">\n",
       "  <thead>\n",
       "    <tr style=\"text-align: right;\">\n",
       "      <th></th>\n",
       "      <th>Temp</th>\n",
       "    </tr>\n",
       "    <tr>\n",
       "      <th>date</th>\n",
       "      <th></th>\n",
       "    </tr>\n",
       "  </thead>\n",
       "  <tbody>\n",
       "    <tr>\n",
       "      <th>1981-01-01</th>\n",
       "      <td>20.7</td>\n",
       "    </tr>\n",
       "    <tr>\n",
       "      <th>1981-01-02</th>\n",
       "      <td>17.9</td>\n",
       "    </tr>\n",
       "    <tr>\n",
       "      <th>1981-01-03</th>\n",
       "      <td>18.8</td>\n",
       "    </tr>\n",
       "    <tr>\n",
       "      <th>1981-01-04</th>\n",
       "      <td>14.6</td>\n",
       "    </tr>\n",
       "    <tr>\n",
       "      <th>1981-01-05</th>\n",
       "      <td>15.8</td>\n",
       "    </tr>\n",
       "    <tr>\n",
       "      <th>...</th>\n",
       "      <td>...</td>\n",
       "    </tr>\n",
       "    <tr>\n",
       "      <th>1990-12-27</th>\n",
       "      <td>14.0</td>\n",
       "    </tr>\n",
       "    <tr>\n",
       "      <th>1990-12-28</th>\n",
       "      <td>13.6</td>\n",
       "    </tr>\n",
       "    <tr>\n",
       "      <th>1990-12-29</th>\n",
       "      <td>13.5</td>\n",
       "    </tr>\n",
       "    <tr>\n",
       "      <th>1990-12-30</th>\n",
       "      <td>15.7</td>\n",
       "    </tr>\n",
       "    <tr>\n",
       "      <th>1990-12-31</th>\n",
       "      <td>13.0</td>\n",
       "    </tr>\n",
       "  </tbody>\n",
       "</table>\n",
       "<p>3650 rows × 1 columns</p>\n",
       "</div>"
      ],
      "text/plain": [
       "            Temp\n",
       "date            \n",
       "1981-01-01  20.7\n",
       "1981-01-02  17.9\n",
       "1981-01-03  18.8\n",
       "1981-01-04  14.6\n",
       "1981-01-05  15.8\n",
       "...          ...\n",
       "1990-12-27  14.0\n",
       "1990-12-28  13.6\n",
       "1990-12-29  13.5\n",
       "1990-12-30  15.7\n",
       "1990-12-31  13.0\n",
       "\n",
       "[3650 rows x 1 columns]"
      ]
     },
     "execution_count": 12,
     "metadata": {},
     "output_type": "execute_result"
    }
   ],
   "source": [
    "tempDF = pd.read_csv('data/daily-min-temperatures.csv',\n",
    "                    index_col='date', parse_dates=['date'])\n",
    "tempDF"
   ]
  },
  {
   "cell_type": "code",
   "execution_count": 22,
   "id": "cde2237f",
   "metadata": {},
   "outputs": [
    {
     "data": {
      "text/html": [
       "<div>\n",
       "<style scoped>\n",
       "    .dataframe tbody tr th:only-of-type {\n",
       "        vertical-align: middle;\n",
       "    }\n",
       "\n",
       "    .dataframe tbody tr th {\n",
       "        vertical-align: top;\n",
       "    }\n",
       "\n",
       "    .dataframe thead th {\n",
       "        text-align: right;\n",
       "    }\n",
       "</style>\n",
       "<table border=\"1\" class=\"dataframe\">\n",
       "  <thead>\n",
       "    <tr style=\"text-align: right;\">\n",
       "      <th></th>\n",
       "      <th>passengers</th>\n",
       "    </tr>\n",
       "    <tr>\n",
       "      <th>time</th>\n",
       "      <th></th>\n",
       "    </tr>\n",
       "  </thead>\n",
       "  <tbody>\n",
       "    <tr>\n",
       "      <th>1949-01-01</th>\n",
       "      <td>112</td>\n",
       "    </tr>\n",
       "    <tr>\n",
       "      <th>1949-02-01</th>\n",
       "      <td>118</td>\n",
       "    </tr>\n",
       "    <tr>\n",
       "      <th>1949-03-01</th>\n",
       "      <td>132</td>\n",
       "    </tr>\n",
       "    <tr>\n",
       "      <th>1949-04-01</th>\n",
       "      <td>129</td>\n",
       "    </tr>\n",
       "    <tr>\n",
       "      <th>1949-05-01</th>\n",
       "      <td>121</td>\n",
       "    </tr>\n",
       "    <tr>\n",
       "      <th>...</th>\n",
       "      <td>...</td>\n",
       "    </tr>\n",
       "    <tr>\n",
       "      <th>1960-08-01</th>\n",
       "      <td>606</td>\n",
       "    </tr>\n",
       "    <tr>\n",
       "      <th>1960-09-01</th>\n",
       "      <td>508</td>\n",
       "    </tr>\n",
       "    <tr>\n",
       "      <th>1960-10-01</th>\n",
       "      <td>461</td>\n",
       "    </tr>\n",
       "    <tr>\n",
       "      <th>1960-11-01</th>\n",
       "      <td>390</td>\n",
       "    </tr>\n",
       "    <tr>\n",
       "      <th>1960-12-01</th>\n",
       "      <td>432</td>\n",
       "    </tr>\n",
       "  </tbody>\n",
       "</table>\n",
       "<p>144 rows × 1 columns</p>\n",
       "</div>"
      ],
      "text/plain": [
       "            passengers\n",
       "time                  \n",
       "1949-01-01         112\n",
       "1949-02-01         118\n",
       "1949-03-01         132\n",
       "1949-04-01         129\n",
       "1949-05-01         121\n",
       "...                ...\n",
       "1960-08-01         606\n",
       "1960-09-01         508\n",
       "1960-10-01         461\n",
       "1960-11-01         390\n",
       "1960-12-01         432\n",
       "\n",
       "[144 rows x 1 columns]"
      ]
     },
     "execution_count": 22,
     "metadata": {},
     "output_type": "execute_result"
    }
   ],
   "source": [
    "airDF = pd.read_csv('data/international-airline-passengers.txt',\n",
    "                   index_col='time', parse_dates=['time'])\n",
    "airDF"
   ]
  },
  {
   "cell_type": "code",
   "execution_count": 15,
   "id": "aa06d898",
   "metadata": {},
   "outputs": [
    {
     "data": {
      "text/plain": [
       "182"
      ]
     },
     "execution_count": 15,
     "metadata": {},
     "output_type": "execute_result"
    }
   ],
   "source": [
    "n = len(birthDF)//2\n",
    "n"
   ]
  },
  {
   "cell_type": "markdown",
   "id": "d5d51008",
   "metadata": {},
   "source": [
    "## stationary"
   ]
  },
  {
   "cell_type": "code",
   "execution_count": 20,
   "id": "49db2ef0",
   "metadata": {},
   "outputs": [
    {
     "data": {
      "image/png": "[encoded data removed]",
      "text/plain": [
       "<Figure size 432x288 with 1 Axes>"
      ]
     },
     "metadata": {
      "needs_background": "light"
     },
     "output_type": "display_data"
    }
   ],
   "source": [
    "birthDF.plot( )\n",
    "plt.show()"
   ]
  },
  {
   "cell_type": "code",
   "execution_count": 18,
   "id": "15cf4ff5",
   "metadata": {
    "collapsed": true
   },
   "outputs": [
    {
     "name": "stdout",
     "output_type": "stream",
     "text": [
      "Births    39.763736\n",
      "dtype: float64\n",
      "Births    49.485308\n",
      "dtype: float64\n"
     ]
    }
   ],
   "source": [
    "print( birthDF.iloc[:n].mean() )\n",
    "print( birthDF.iloc[:n].var() )"
   ]
  },
  {
   "cell_type": "code",
   "execution_count": 19,
   "id": "85c97b9b",
   "metadata": {
    "collapsed": true
   },
   "outputs": [
    {
     "name": "stdout",
     "output_type": "stream",
     "text": [
      "Births    44.185792\n",
      "dtype: float64\n",
      "Births    48.976281\n",
      "dtype: float64\n"
     ]
    }
   ],
   "source": [
    "print( birthDF.iloc[n:].mean() )\n",
    "print( birthDF.iloc[n:].var() )"
   ]
  },
  {
   "cell_type": "markdown",
   "id": "a1901063",
   "metadata": {},
   "source": [
    "### non stationary"
   ]
  },
  {
   "cell_type": "code",
   "execution_count": 28,
   "id": "7e5da3d1",
   "metadata": {},
   "outputs": [
    {
     "data": {
      "image/png": "[encoded data removed]",
      "text/plain": [
       "<Figure size 432x288 with 1 Axes>"
      ]
     },
     "metadata": {
      "needs_background": "light"
     },
     "output_type": "display_data"
    }
   ],
   "source": [
    "airDF.plot()\n",
    "plt.show()"
   ]
  },
  {
   "cell_type": "code",
   "execution_count": 24,
   "id": "67ca1cb8",
   "metadata": {},
   "outputs": [],
   "source": [
    "n = len(airDF)//2"
   ]
  },
  {
   "cell_type": "code",
   "execution_count": 25,
   "id": "17303a54",
   "metadata": {},
   "outputs": [
    {
     "name": "stdout",
     "output_type": "stream",
     "text": [
      "passengers    182.902778\n",
      "dtype: float64\n",
      "passengers    2275.69464\n",
      "dtype: float64\n"
     ]
    }
   ],
   "source": [
    "print( airDF.iloc[:n].mean() )\n",
    "print( airDF.iloc[:n].var() )"
   ]
  },
  {
   "cell_type": "code",
   "execution_count": 27,
   "id": "12114811",
   "metadata": {},
   "outputs": [
    {
     "name": "stdout",
     "output_type": "stream",
     "text": [
      "passengers    377.694444\n",
      "dtype: float64\n",
      "passengers    7471.736307\n",
      "dtype: float64\n"
     ]
    }
   ],
   "source": [
    "print( airDF.iloc[n:].mean() )\n",
    "print( airDF.iloc[n:].var() )"
   ]
  },
  {
   "cell_type": "code",
   "execution_count": 29,
   "id": "febca74f",
   "metadata": {},
   "outputs": [
    {
     "data": {
      "image/png": "[encoded data removed]",
      "text/plain": [
       "<Figure size 432x288 with 1 Axes>"
      ]
     },
     "metadata": {
      "needs_background": "light"
     },
     "output_type": "display_data"
    }
   ],
   "source": [
    "tempDF.plot()\n",
    "plt.show()"
   ]
  },
  {
   "cell_type": "code",
   "execution_count": 30,
   "id": "27457be3",
   "metadata": {},
   "outputs": [],
   "source": [
    "tempDF['days'] = range(0, len(tempDF))"
   ]
  },
  {
   "cell_type": "code",
   "execution_count": 31,
   "id": "d88ccb2c",
   "metadata": {},
   "outputs": [
    {
     "data": {
      "text/html": [
       "<div>\n",
       "<style scoped>\n",
       "    .dataframe tbody tr th:only-of-type {\n",
       "        vertical-align: middle;\n",
       "    }\n",
       "\n",
       "    .dataframe tbody tr th {\n",
       "        vertical-align: top;\n",
       "    }\n",
       "\n",
       "    .dataframe thead th {\n",
       "        text-align: right;\n",
       "    }\n",
       "</style>\n",
       "<table border=\"1\" class=\"dataframe\">\n",
       "  <thead>\n",
       "    <tr style=\"text-align: right;\">\n",
       "      <th></th>\n",
       "      <th>Temp</th>\n",
       "      <th>days</th>\n",
       "    </tr>\n",
       "    <tr>\n",
       "      <th>date</th>\n",
       "      <th></th>\n",
       "      <th></th>\n",
       "    </tr>\n",
       "  </thead>\n",
       "  <tbody>\n",
       "    <tr>\n",
       "      <th>1981-01-01</th>\n",
       "      <td>20.7</td>\n",
       "      <td>0</td>\n",
       "    </tr>\n",
       "    <tr>\n",
       "      <th>1981-01-02</th>\n",
       "      <td>17.9</td>\n",
       "      <td>1</td>\n",
       "    </tr>\n",
       "    <tr>\n",
       "      <th>1981-01-03</th>\n",
       "      <td>18.8</td>\n",
       "      <td>2</td>\n",
       "    </tr>\n",
       "    <tr>\n",
       "      <th>1981-01-04</th>\n",
       "      <td>14.6</td>\n",
       "      <td>3</td>\n",
       "    </tr>\n",
       "    <tr>\n",
       "      <th>1981-01-05</th>\n",
       "      <td>15.8</td>\n",
       "      <td>4</td>\n",
       "    </tr>\n",
       "    <tr>\n",
       "      <th>...</th>\n",
       "      <td>...</td>\n",
       "      <td>...</td>\n",
       "    </tr>\n",
       "    <tr>\n",
       "      <th>1990-12-27</th>\n",
       "      <td>14.0</td>\n",
       "      <td>3645</td>\n",
       "    </tr>\n",
       "    <tr>\n",
       "      <th>1990-12-28</th>\n",
       "      <td>13.6</td>\n",
       "      <td>3646</td>\n",
       "    </tr>\n",
       "    <tr>\n",
       "      <th>1990-12-29</th>\n",
       "      <td>13.5</td>\n",
       "      <td>3647</td>\n",
       "    </tr>\n",
       "    <tr>\n",
       "      <th>1990-12-30</th>\n",
       "      <td>15.7</td>\n",
       "      <td>3648</td>\n",
       "    </tr>\n",
       "    <tr>\n",
       "      <th>1990-12-31</th>\n",
       "      <td>13.0</td>\n",
       "      <td>3649</td>\n",
       "    </tr>\n",
       "  </tbody>\n",
       "</table>\n",
       "<p>3650 rows × 2 columns</p>\n",
       "</div>"
      ],
      "text/plain": [
       "            Temp  days\n",
       "date                  \n",
       "1981-01-01  20.7     0\n",
       "1981-01-02  17.9     1\n",
       "1981-01-03  18.8     2\n",
       "1981-01-04  14.6     3\n",
       "1981-01-05  15.8     4\n",
       "...          ...   ...\n",
       "1990-12-27  14.0  3645\n",
       "1990-12-28  13.6  3646\n",
       "1990-12-29  13.5  3647\n",
       "1990-12-30  15.7  3648\n",
       "1990-12-31  13.0  3649\n",
       "\n",
       "[3650 rows x 2 columns]"
      ]
     },
     "execution_count": 31,
     "metadata": {},
     "output_type": "execute_result"
    }
   ],
   "source": [
    "tempDF"
   ]
  },
  {
   "cell_type": "code",
   "execution_count": 34,
   "id": "fbd5ae5f",
   "metadata": {},
   "outputs": [
    {
     "data": {
      "text/plain": [
       "array([20.7, 17.9, 18.8, ..., 13.5, 15.7, 13. ])"
      ]
     },
     "execution_count": 34,
     "metadata": {},
     "output_type": "execute_result"
    }
   ],
   "source": [
    "temps = tempDF['Temp'].values\n",
    "temps"
   ]
  },
  {
   "cell_type": "code",
   "execution_count": 36,
   "id": "cfdf107f",
   "metadata": {},
   "outputs": [
    {
     "data": {
      "text/plain": [
       "array([17.9, 18.8, 14.6, ..., 13.5, 15.7, 13. ])"
      ]
     },
     "execution_count": 36,
     "metadata": {},
     "output_type": "execute_result"
    }
   ],
   "source": [
    "temps[1:]"
   ]
  },
  {
   "cell_type": "code",
   "execution_count": 37,
   "id": "5320717e",
   "metadata": {},
   "outputs": [
    {
     "data": {
      "text/plain": [
       "array([20.7, 17.9, 18.8, ..., 13.6, 13.5, 15.7])"
      ]
     },
     "execution_count": 37,
     "metadata": {},
     "output_type": "execute_result"
    }
   ],
   "source": [
    "temps[:-1]"
   ]
  },
  {
   "cell_type": "code",
   "execution_count": 38,
   "id": "ec19e03a",
   "metadata": {},
   "outputs": [
    {
     "data": {
      "text/plain": [
       "array([[1.        , 0.77487022],\n",
       "       [0.77487022, 1.        ]])"
      ]
     },
     "execution_count": 38,
     "metadata": {},
     "output_type": "execute_result"
    }
   ],
   "source": [
    "np.corrcoef( temps[1:] ,temps[:-1] ) #lag 1"
   ]
  },
  {
   "cell_type": "code",
   "execution_count": 39,
   "id": "bce239f4",
   "metadata": {},
   "outputs": [
    {
     "data": {
      "text/plain": [
       "array([[1.        , 0.63111946],\n",
       "       [0.63111946, 1.        ]])"
      ]
     },
     "execution_count": 39,
     "metadata": {},
     "output_type": "execute_result"
    }
   ],
   "source": [
    "np.corrcoef( temps[2:] ,temps[:-2] ) #lag 2"
   ]
  },
  {
   "cell_type": "code",
   "execution_count": 40,
   "id": "c7c19762",
   "metadata": {},
   "outputs": [
    {
     "data": {
      "text/plain": [
       "array([[1.        , 0.58637486],\n",
       "       [0.58637486, 1.        ]])"
      ]
     },
     "execution_count": 40,
     "metadata": {},
     "output_type": "execute_result"
    }
   ],
   "source": [
    "np.corrcoef( temps[3:] ,temps[:-3] ) #lag 3"
   ]
  },
  {
   "cell_type": "code",
   "execution_count": 41,
   "id": "f1211dfd",
   "metadata": {},
   "outputs": [
    {
     "data": {
      "text/plain": [
       "0.5863748620126273"
      ]
     },
     "execution_count": 41,
     "metadata": {},
     "output_type": "execute_result"
    }
   ],
   "source": [
    "np.corrcoef( temps[3:] ,temps[:-3] )[0,1]"
   ]
  },
  {
   "cell_type": "code",
   "execution_count": 42,
   "id": "4338abd4",
   "metadata": {},
   "outputs": [
    {
     "data": {
      "text/plain": [
       "[0.7748702165384459,\n",
       " 0.6311194620684832,\n",
       " 0.5863748620126275,\n",
       " 0.5788976133377617,\n",
       " 0.578571574411206,\n",
       " 0.5765484145122559,\n",
       " 0.5759289535831575,\n",
       " 0.5695569780397494,\n",
       " 0.5634747178408281]"
      ]
     },
     "execution_count": 42,
     "metadata": {},
     "output_type": "execute_result"
    }
   ],
   "source": [
    "autocorrelation =[]\n",
    "for shift in range( 1,10):\n",
    "    c = np.corrcoef( temps[:-shift],temps[shift:] )[0,1]\n",
    "    autocorrelation.append( c )\n",
    "autocorrelation"
   ]
  },
  {
   "cell_type": "code",
   "execution_count": 43,
   "id": "55d62fa0",
   "metadata": {},
   "outputs": [
    {
     "data": {
      "image/png": "[encoded data removed]",
      "text/plain": [
       "<Figure size 432x288 with 1 Axes>"
      ]
     },
     "metadata": {
      "needs_background": "light"
     },
     "output_type": "display_data"
    }
   ],
   "source": [
    "plt.scatter( range(0,len(autocorrelation) ), autocorrelation )\n",
    "plt.show()"
   ]
  },
  {
   "cell_type": "code",
   "execution_count": 44,
   "id": "e941208c",
   "metadata": {},
   "outputs": [],
   "source": [
    "from statsmodels.graphics.tsaplots import plot_acf, acf"
   ]
  },
  {
   "cell_type": "code",
   "execution_count": 45,
   "id": "934f49b4",
   "metadata": {},
   "outputs": [
    {
     "data": {
      "text/plain": [
       "array([1.        , 0.774268  , 0.6302866 , 0.58529312, 0.57774567,\n",
       "       0.57728013, 0.57510412, 0.57437039, 0.56782622, 0.56120131,\n",
       "       0.54668689, 0.53793111, 0.54012564, 0.54247126, 0.53688723,\n",
       "       0.53429917, 0.53043593, 0.52911166, 0.53037444, 0.52280732,\n",
       "       0.52303677, 0.52224579, 0.51426684, 0.49837745, 0.49302665,\n",
       "       0.49946731, 0.50428521, 0.50068173, 0.49157081, 0.48146406,\n",
       "       0.47421245, 0.47568054, 0.46311862, 0.46215585, 0.46630567,\n",
       "       0.45459092])"
      ]
     },
     "execution_count": 45,
     "metadata": {},
     "output_type": "execute_result"
    }
   ],
   "source": [
    "result = acf( tempDF['Temp'] )\n",
    "result"
   ]
  },
  {
   "cell_type": "code",
   "execution_count": 46,
   "id": "ebf1ac1b",
   "metadata": {},
   "outputs": [
    {
     "data": {
      "image/png": "[encoded data removed]",
      "text/plain": [
       "<Figure size 432x288 with 1 Axes>"
      ]
     },
     "metadata": {
      "needs_background": "light"
     },
     "output_type": "display_data"
    }
   ],
   "source": [
    "plt.scatter( range(0,len(result) ), result)\n",
    "plt.show()"
   ]
  },
  {
   "cell_type": "code",
   "execution_count": 47,
   "id": "2e6ef530",
   "metadata": {},
   "outputs": [
    {
     "data": {
      "image/png": "[encoded data removed]",
      "text/plain": [
       "<Figure size 432x288 with 1 Axes>"
      ]
     },
     "metadata": {
      "needs_background": "light"
     },
     "output_type": "display_data"
    }
   ],
   "source": [
    "plot_acf( tempDF['Temp'] )\n",
    "plt.show()"
   ]
  },
  {
   "cell_type": "markdown",
   "id": "ae212b9a",
   "metadata": {},
   "source": [
    "adfuller 판단지표\n",
    "- 검증조건( p-value:5% 이내면 기각)\n",
    "- 귀무가설(HO):non-stationary\n",
    "- 데체가설(H1):stationary     "
   ]
  },
  {
   "cell_type": "code",
   "execution_count": 48,
   "id": "7f1e7792",
   "metadata": {},
   "outputs": [],
   "source": [
    "from statsmodels.tsa.stattools import adfuller"
   ]
  },
  {
   "cell_type": "code",
   "execution_count": 50,
   "id": "9cfc7bc8",
   "metadata": {},
   "outputs": [
    {
     "name": "stdout",
     "output_type": "stream",
     "text": [
      "(-4.808291253559767, 5.243412990149787e-05, 6, 358, {'1%': -3.448748905151901, '5%': -2.8696473721448728, '10%': -2.5710891239349585}, 2343.8290926464197)\n",
      "----------------\n",
      "-4.808291253559767\n",
      "5.243412990149787e-05\n"
     ]
    }
   ],
   "source": [
    "result = adfuller( birthDF['Births'])\n",
    "print( result )\n",
    "print('----------------')\n",
    "print( result[0]) # adf (적을수록:귀무가설을 기각시킬 확률이 높다)\n",
    "print( result[1]) # p-value  귀무가설 기각"
   ]
  },
  {
   "cell_type": "code",
   "execution_count": 51,
   "id": "b6a52f23",
   "metadata": {},
   "outputs": [
    {
     "name": "stdout",
     "output_type": "stream",
     "text": [
      "(0.8153688792060502, 0.991880243437641, 13, 130, {'1%': -3.4816817173418295, '5%': -2.8840418343195267, '10%': -2.578770059171598}, 996.692930839019)\n",
      "----------------\n",
      "0.8153688792060502\n",
      "0.991880243437641\n"
     ]
    }
   ],
   "source": [
    "result = adfuller( airDF['passengers'])\n",
    "print( result )\n",
    "print('----------------')\n",
    "print( result[0]) # adf (적을수록:귀무가설을 기각시킬 확률이 높다)\n",
    "print( result[1])"
   ]
  },
  {
   "cell_type": "code",
   "execution_count": 56,
   "id": "c96e9c04",
   "metadata": {},
   "outputs": [],
   "source": [
    "import statsmodels as sm"
   ]
  },
  {
   "cell_type": "code",
   "execution_count": 57,
   "id": "58931705",
   "metadata": {},
   "outputs": [
    {
     "data": {
      "text/plain": [
       "'0.13.2'"
      ]
     },
     "execution_count": 57,
     "metadata": {},
     "output_type": "execute_result"
    }
   ],
   "source": [
    "sm.__version__"
   ]
  },
  {
   "cell_type": "code",
   "execution_count": 64,
   "id": "4cff4dac",
   "metadata": {},
   "outputs": [],
   "source": [
    "from statsmodels.tsa.arima.model import ARIMA"
   ]
  },
  {
   "cell_type": "code",
   "execution_count": 66,
   "id": "aeca5aa1",
   "metadata": {},
   "outputs": [
    {
     "name": "stderr",
     "output_type": "stream",
     "text": [
      "C:\\Users\\NTX550\\anaconda3\\lib\\site-packages\\statsmodels\\tsa\\base\\tsa_model.py:471: ValueWarning: No frequency information was provided, so inferred frequency MS will be used.\n",
      "  self._init_dates(dates, freq)\n",
      "C:\\Users\\NTX550\\anaconda3\\lib\\site-packages\\statsmodels\\tsa\\base\\tsa_model.py:471: ValueWarning: No frequency information was provided, so inferred frequency MS will be used.\n",
      "  self._init_dates(dates, freq)\n",
      "C:\\Users\\NTX550\\anaconda3\\lib\\site-packages\\statsmodels\\tsa\\base\\tsa_model.py:471: ValueWarning: No frequency information was provided, so inferred frequency MS will be used.\n",
      "  self._init_dates(dates, freq)\n",
      "C:\\Users\\NTX550\\anaconda3\\lib\\site-packages\\statsmodels\\base\\model.py:604: ConvergenceWarning: Maximum Likelihood optimization failed to converge. Check mle_retvals\n",
      "  warnings.warn(\"Maximum Likelihood optimization failed to \"\n"
     ]
    }
   ],
   "source": [
    "model = ARIMA( airDF, order= (2,1,2) )\n",
    "rfit = model.fit()"
   ]
  },
  {
   "cell_type": "code",
   "execution_count": 67,
   "id": "e452fef1",
   "metadata": {},
   "outputs": [
    {
     "data": {
      "text/html": [
       "<table class=\"simpletable\">\n",
       "<caption>SARIMAX Results</caption>\n",
       "<tr>\n",
       "  <th>Dep. Variable:</th>      <td>passengers</td>    <th>  No. Observations:  </th>    <td>144</td>  \n",
       "</tr>\n",
       "<tr>\n",
       "  <th>Model:</th>            <td>ARIMA(2, 1, 2)</td>  <th>  Log Likelihood     </th> <td>-671.673</td>\n",
       "</tr>\n",
       "<tr>\n",
       "  <th>Date:</th>            <td>Mon, 12 Dec 2022</td> <th>  AIC                </th> <td>1353.347</td>\n",
       "</tr>\n",
       "<tr>\n",
       "  <th>Time:</th>                <td>14:37:27</td>     <th>  BIC                </th> <td>1368.161</td>\n",
       "</tr>\n",
       "<tr>\n",
       "  <th>Sample:</th>             <td>01-01-1949</td>    <th>  HQIC               </th> <td>1359.366</td>\n",
       "</tr>\n",
       "<tr>\n",
       "  <th></th>                   <td>- 12-01-1960</td>   <th>                     </th>     <td> </td>   \n",
       "</tr>\n",
       "<tr>\n",
       "  <th>Covariance Type:</th>        <td>opg</td>       <th>                     </th>     <td> </td>   \n",
       "</tr>\n",
       "</table>\n",
       "<table class=\"simpletable\">\n",
       "<tr>\n",
       "     <td></td>       <th>coef</th>     <th>std err</th>      <th>z</th>      <th>P>|z|</th>  <th>[0.025</th>    <th>0.975]</th>  \n",
       "</tr>\n",
       "<tr>\n",
       "  <th>ar.L1</th>  <td>    1.6850</td> <td>    0.020</td> <td>   83.060</td> <td> 0.000</td> <td>    1.645</td> <td>    1.725</td>\n",
       "</tr>\n",
       "<tr>\n",
       "  <th>ar.L2</th>  <td>   -0.9548</td> <td>    0.017</td> <td>  -55.420</td> <td> 0.000</td> <td>   -0.989</td> <td>   -0.921</td>\n",
       "</tr>\n",
       "<tr>\n",
       "  <th>ma.L1</th>  <td>   -1.8432</td> <td>    0.124</td> <td>  -14.819</td> <td> 0.000</td> <td>   -2.087</td> <td>   -1.599</td>\n",
       "</tr>\n",
       "<tr>\n",
       "  <th>ma.L2</th>  <td>    0.9953</td> <td>    0.135</td> <td>    7.385</td> <td> 0.000</td> <td>    0.731</td> <td>    1.259</td>\n",
       "</tr>\n",
       "<tr>\n",
       "  <th>sigma2</th> <td>  665.9599</td> <td>  114.008</td> <td>    5.841</td> <td> 0.000</td> <td>  442.508</td> <td>  889.412</td>\n",
       "</tr>\n",
       "</table>\n",
       "<table class=\"simpletable\">\n",
       "<tr>\n",
       "  <th>Ljung-Box (L1) (Q):</th>     <td>0.30</td> <th>  Jarque-Bera (JB):  </th> <td>1.84</td>\n",
       "</tr>\n",
       "<tr>\n",
       "  <th>Prob(Q):</th>                <td>0.59</td> <th>  Prob(JB):          </th> <td>0.40</td>\n",
       "</tr>\n",
       "<tr>\n",
       "  <th>Heteroskedasticity (H):</th> <td>7.38</td> <th>  Skew:              </th> <td>0.27</td>\n",
       "</tr>\n",
       "<tr>\n",
       "  <th>Prob(H) (two-sided):</th>    <td>0.00</td> <th>  Kurtosis:          </th> <td>3.14</td>\n",
       "</tr>\n",
       "</table><br/><br/>Warnings:<br/>[1] Covariance matrix calculated using the outer product of gradients (complex-step)."
      ],
      "text/plain": [
       "<class 'statsmodels.iolib.summary.Summary'>\n",
       "\"\"\"\n",
       "                               SARIMAX Results                                \n",
       "==============================================================================\n",
       "Dep. Variable:             passengers   No. Observations:                  144\n",
       "Model:                 ARIMA(2, 1, 2)   Log Likelihood                -671.673\n",
       "Date:                Mon, 12 Dec 2022   AIC                           1353.347\n",
       "Time:                        14:37:27   BIC                           1368.161\n",
       "Sample:                    01-01-1949   HQIC                          1359.366\n",
       "                         - 12-01-1960                                         \n",
       "Covariance Type:                  opg                                         \n",
       "==============================================================================\n",
       "                 coef    std err          z      P>|z|      [0.025      0.975]\n",
       "------------------------------------------------------------------------------\n",
       "ar.L1          1.6850      0.020     83.060      0.000       1.645       1.725\n",
       "ar.L2         -0.9548      0.017    -55.420      0.000      -0.989      -0.921\n",
       "ma.L1         -1.8432      0.124    -14.819      0.000      -2.087      -1.599\n",
       "ma.L2          0.9953      0.135      7.385      0.000       0.731       1.259\n",
       "sigma2       665.9599    114.008      5.841      0.000     442.508     889.412\n",
       "===================================================================================\n",
       "Ljung-Box (L1) (Q):                   0.30   Jarque-Bera (JB):                 1.84\n",
       "Prob(Q):                              0.59   Prob(JB):                         0.40\n",
       "Heteroskedasticity (H):               7.38   Skew:                             0.27\n",
       "Prob(H) (two-sided):                  0.00   Kurtosis:                         3.14\n",
       "===================================================================================\n",
       "\n",
       "Warnings:\n",
       "[1] Covariance matrix calculated using the outer product of gradients (complex-step).\n",
       "\"\"\""
      ]
     },
     "execution_count": 67,
     "metadata": {},
     "output_type": "execute_result"
    }
   ],
   "source": [
    "rfit.summary()"
   ]
  },
  {
   "cell_type": "markdown",
   "id": "acacd496",
   "metadata": {},
   "source": [
    "ARIMA(2,1,2)\n",
    "\\begin{equation}\n",
    "y_t = 1.6850 y'_{t-1} -0.9548 y'_{t-2} + e_t -1.8432e_{t-1} +0.9953e_{t-2}\n",
    "\\end{equation}\n",
    "</h3>\n",
    "를 따르는 ARIMA모델임을 확인할 수 있다."
   ]
  },
  {
   "cell_type": "code",
   "execution_count": 68,
   "id": "3a19d34e",
   "metadata": {},
   "outputs": [
    {
     "data": {
      "text/plain": [
       "1353.3466411072477"
      ]
     },
     "execution_count": 68,
     "metadata": {},
     "output_type": "execute_result"
    }
   ],
   "source": [
    "rfit.aic"
   ]
  },
  {
   "cell_type": "code",
   "execution_count": 72,
   "id": "4e9b6cf3",
   "metadata": {},
   "outputs": [],
   "source": [
    "from warnings import filterwarnings\n",
    "filterwarnings(\"ignore\")"
   ]
  },
  {
   "cell_type": "code",
   "execution_count": 70,
   "id": "da841a98",
   "metadata": {},
   "outputs": [],
   "source": [
    "def arima_aic_check(data, order,sort = 'AIC'):\n",
    "    order_list = []\n",
    "    aic_list = []\n",
    "    bic_lsit = []\n",
    "    for p in range(order[0]):\n",
    "        for d in range(order[1]):\n",
    "            for q in range(order[2]):\n",
    "                model = ARIMA(data, order=(p,d,q))\n",
    "                try:\n",
    "                    model_fit = model.fit()\n",
    "                    c_order = f'p:{p} d:{d} q:{q}'\n",
    "                    aic = model_fit.aic\n",
    "                    bic = model_fit.bic\n",
    "                    order_list.append(c_order)\n",
    "                    aic_list.append(aic)\n",
    "                    bic_list.append(bic)\n",
    "                except:\n",
    "                    pass\n",
    "    result_df = pd.DataFrame(list(zip(order_list, aic_list)),columns=['order','AIC'])\n",
    "    result_df.sort_values(sort, inplace=True)\n",
    "    return result_df"
   ]
  },
  {
   "cell_type": "code",
   "execution_count": 73,
   "id": "78ce0eb4",
   "metadata": {},
   "outputs": [
    {
     "data": {
      "text/html": [
       "<div>\n",
       "<style scoped>\n",
       "    .dataframe tbody tr th:only-of-type {\n",
       "        vertical-align: middle;\n",
       "    }\n",
       "\n",
       "    .dataframe tbody tr th {\n",
       "        vertical-align: top;\n",
       "    }\n",
       "\n",
       "    .dataframe thead th {\n",
       "        text-align: right;\n",
       "    }\n",
       "</style>\n",
       "<table border=\"1\" class=\"dataframe\">\n",
       "  <thead>\n",
       "    <tr style=\"text-align: right;\">\n",
       "      <th></th>\n",
       "      <th>order</th>\n",
       "      <th>AIC</th>\n",
       "    </tr>\n",
       "  </thead>\n",
       "  <tbody>\n",
       "    <tr>\n",
       "      <th>23</th>\n",
       "      <td>p:2 d:1 q:2</td>\n",
       "      <td>1353.346641</td>\n",
       "    </tr>\n",
       "    <tr>\n",
       "      <th>22</th>\n",
       "      <td>p:2 d:1 q:1</td>\n",
       "      <td>1378.338320</td>\n",
       "    </tr>\n",
       "    <tr>\n",
       "      <th>14</th>\n",
       "      <td>p:1 d:1 q:2</td>\n",
       "      <td>1385.497545</td>\n",
       "    </tr>\n",
       "    <tr>\n",
       "      <th>17</th>\n",
       "      <td>p:1 d:2 q:2</td>\n",
       "      <td>1391.908469</td>\n",
       "    </tr>\n",
       "    <tr>\n",
       "      <th>26</th>\n",
       "      <td>p:2 d:2 q:2</td>\n",
       "      <td>1392.656888</td>\n",
       "    </tr>\n",
       "    <tr>\n",
       "      <th>25</th>\n",
       "      <td>p:2 d:2 q:1</td>\n",
       "      <td>1393.886573</td>\n",
       "    </tr>\n",
       "    <tr>\n",
       "      <th>8</th>\n",
       "      <td>p:0 d:2 q:2</td>\n",
       "      <td>1394.372843</td>\n",
       "    </tr>\n",
       "    <tr>\n",
       "      <th>13</th>\n",
       "      <td>p:1 d:1 q:1</td>\n",
       "      <td>1394.682505</td>\n",
       "    </tr>\n",
       "    <tr>\n",
       "      <th>21</th>\n",
       "      <td>p:2 d:1 q:0</td>\n",
       "      <td>1396.587695</td>\n",
       "    </tr>\n",
       "    <tr>\n",
       "      <th>5</th>\n",
       "      <td>p:0 d:1 q:2</td>\n",
       "      <td>1397.093462</td>\n",
       "    </tr>\n",
       "    <tr>\n",
       "      <th>4</th>\n",
       "      <td>p:0 d:1 q:1</td>\n",
       "      <td>1397.257575</td>\n",
       "    </tr>\n",
       "    <tr>\n",
       "      <th>16</th>\n",
       "      <td>p:1 d:2 q:1</td>\n",
       "      <td>1398.928398</td>\n",
       "    </tr>\n",
       "    <tr>\n",
       "      <th>12</th>\n",
       "      <td>p:1 d:1 q:0</td>\n",
       "      <td>1401.852127</td>\n",
       "    </tr>\n",
       "    <tr>\n",
       "      <th>19</th>\n",
       "      <td>p:2 d:0 q:1</td>\n",
       "      <td>1408.249787</td>\n",
       "    </tr>\n",
       "    <tr>\n",
       "      <th>20</th>\n",
       "      <td>p:2 d:0 q:2</td>\n",
       "      <td>1408.343560</td>\n",
       "    </tr>\n",
       "    <tr>\n",
       "      <th>10</th>\n",
       "      <td>p:1 d:0 q:1</td>\n",
       "      <td>1409.748723</td>\n",
       "    </tr>\n",
       "    <tr>\n",
       "      <th>11</th>\n",
       "      <td>p:1 d:0 q:2</td>\n",
       "      <td>1411.051018</td>\n",
       "    </tr>\n",
       "    <tr>\n",
       "      <th>7</th>\n",
       "      <td>p:0 d:2 q:1</td>\n",
       "      <td>1411.374906</td>\n",
       "    </tr>\n",
       "    <tr>\n",
       "      <th>18</th>\n",
       "      <td>p:2 d:0 q:0</td>\n",
       "      <td>1413.638801</td>\n",
       "    </tr>\n",
       "    <tr>\n",
       "      <th>3</th>\n",
       "      <td>p:0 d:1 q:0</td>\n",
       "      <td>1413.909117</td>\n",
       "    </tr>\n",
       "    <tr>\n",
       "      <th>9</th>\n",
       "      <td>p:1 d:0 q:0</td>\n",
       "      <td>1428.180531</td>\n",
       "    </tr>\n",
       "    <tr>\n",
       "      <th>24</th>\n",
       "      <td>p:2 d:2 q:0</td>\n",
       "      <td>1440.077833</td>\n",
       "    </tr>\n",
       "    <tr>\n",
       "      <th>15</th>\n",
       "      <td>p:1 d:2 q:0</td>\n",
       "      <td>1447.027241</td>\n",
       "    </tr>\n",
       "    <tr>\n",
       "      <th>6</th>\n",
       "      <td>p:0 d:2 q:0</td>\n",
       "      <td>1450.595947</td>\n",
       "    </tr>\n",
       "    <tr>\n",
       "      <th>2</th>\n",
       "      <td>p:0 d:0 q:2</td>\n",
       "      <td>1522.126144</td>\n",
       "    </tr>\n",
       "    <tr>\n",
       "      <th>1</th>\n",
       "      <td>p:0 d:0 q:1</td>\n",
       "      <td>1618.862527</td>\n",
       "    </tr>\n",
       "    <tr>\n",
       "      <th>0</th>\n",
       "      <td>p:0 d:0 q:0</td>\n",
       "      <td>1790.367581</td>\n",
       "    </tr>\n",
       "  </tbody>\n",
       "</table>\n",
       "</div>"
      ],
      "text/plain": [
       "          order          AIC\n",
       "23  p:2 d:1 q:2  1353.346641\n",
       "22  p:2 d:1 q:1  1378.338320\n",
       "14  p:1 d:1 q:2  1385.497545\n",
       "17  p:1 d:2 q:2  1391.908469\n",
       "26  p:2 d:2 q:2  1392.656888\n",
       "25  p:2 d:2 q:1  1393.886573\n",
       "8   p:0 d:2 q:2  1394.372843\n",
       "13  p:1 d:1 q:1  1394.682505\n",
       "21  p:2 d:1 q:0  1396.587695\n",
       "5   p:0 d:1 q:2  1397.093462\n",
       "4   p:0 d:1 q:1  1397.257575\n",
       "16  p:1 d:2 q:1  1398.928398\n",
       "12  p:1 d:1 q:0  1401.852127\n",
       "19  p:2 d:0 q:1  1408.249787\n",
       "20  p:2 d:0 q:2  1408.343560\n",
       "10  p:1 d:0 q:1  1409.748723\n",
       "11  p:1 d:0 q:2  1411.051018\n",
       "7   p:0 d:2 q:1  1411.374906\n",
       "18  p:2 d:0 q:0  1413.638801\n",
       "3   p:0 d:1 q:0  1413.909117\n",
       "9   p:1 d:0 q:0  1428.180531\n",
       "24  p:2 d:2 q:0  1440.077833\n",
       "15  p:1 d:2 q:0  1447.027241\n",
       "6   p:0 d:2 q:0  1450.595947\n",
       "2   p:0 d:0 q:2  1522.126144\n",
       "1   p:0 d:0 q:1  1618.862527\n",
       "0   p:0 d:0 q:0  1790.367581"
      ]
     },
     "execution_count": 73,
     "metadata": {},
     "output_type": "execute_result"
    }
   ],
   "source": [
    "arima_aic_check( airDF, [3,3,3] )"
   ]
  },
  {
   "cell_type": "code",
   "execution_count": 75,
   "id": "e3c8b395",
   "metadata": {},
   "outputs": [
    {
     "data": {
      "text/plain": [
       "1949-02-01    112.032230\n",
       "1949-03-01    119.536617\n",
       "1949-04-01    135.567443\n",
       "1949-05-01    127.820772\n",
       "1949-06-01    116.249778\n",
       "1949-07-01    133.166036\n",
       "1949-08-01    145.790178\n",
       "1949-09-01    142.843199\n",
       "1949-10-01    129.019962\n",
       "1949-11-01    113.254382\n",
       "Freq: MS, Name: predicted_mean, dtype: float64"
      ]
     },
     "execution_count": 75,
     "metadata": {},
     "output_type": "execute_result"
    }
   ],
   "source": [
    "rfit.predict(1,10,typ='levels')"
   ]
  },
  {
   "cell_type": "code",
   "execution_count": 77,
   "id": "9a86d3d8",
   "metadata": {
    "collapsed": true
   },
   "outputs": [
    {
     "data": {
      "text/plain": [
       "1950-01-01    121.156884\n",
       "1950-02-01    120.594755\n",
       "1950-03-01    132.840008\n",
       "1950-04-01    146.351337\n",
       "1950-05-01    137.425743\n",
       "1950-06-01    125.610460\n",
       "1950-07-01    146.731516\n",
       "1950-08-01    162.647379\n",
       "1950-09-01    158.158822\n",
       "1950-10-01    144.754874\n",
       "1950-11-01    122.915525\n",
       "1950-12-01    110.900743\n",
       "Freq: MS, Name: predicted_mean, dtype: float64"
      ]
     },
     "execution_count": 77,
     "metadata": {},
     "output_type": "execute_result"
    }
   ],
   "source": [
    "rfit.predict('1950-01-01','1950-12-01',typ='levels')"
   ]
  },
  {
   "cell_type": "code",
   "execution_count": 83,
   "id": "13c5a1a4",
   "metadata": {
    "collapsed": true
   },
   "outputs": [
    {
     "data": {
      "text/plain": [
       "1960-07-01    539.260504\n",
       "1960-08-01    594.968681\n",
       "1960-09-01    557.268725\n",
       "1960-10-01    459.377853\n",
       "1960-11-01    423.852010\n",
       "1960-12-01    378.931501\n",
       "1961-01-01    439.854879\n",
       "1961-02-01    465.296610\n",
       "1961-03-01    500.666186\n",
       "1961-04-01    535.971606\n",
       "1961-05-01    561.689346\n",
       "1961-06-01    571.312929\n",
       "1961-07-01    562.972332\n",
       "Freq: MS, Name: predicted_mean, dtype: float64"
      ]
     },
     "execution_count": 83,
     "metadata": {},
     "output_type": "execute_result"
    }
   ],
   "source": [
    "pred = rfit.predict('1960-07-01','1961-07-01',typ='levels')\n",
    "pred"
   ]
  },
  {
   "cell_type": "code",
   "execution_count": 81,
   "id": "6bf0037c",
   "metadata": {},
   "outputs": [],
   "source": [
    "train = airDF.loc[:'1960-07-01']\n",
    "test = airDF.loc['1960-07-01':]"
   ]
  },
  {
   "cell_type": "code",
   "execution_count": 82,
   "id": "7ab445d6",
   "metadata": {
    "collapsed": true
   },
   "outputs": [
    {
     "data": {
      "text/html": [
       "<div>\n",
       "<style scoped>\n",
       "    .dataframe tbody tr th:only-of-type {\n",
       "        vertical-align: middle;\n",
       "    }\n",
       "\n",
       "    .dataframe tbody tr th {\n",
       "        vertical-align: top;\n",
       "    }\n",
       "\n",
       "    .dataframe thead th {\n",
       "        text-align: right;\n",
       "    }\n",
       "</style>\n",
       "<table border=\"1\" class=\"dataframe\">\n",
       "  <thead>\n",
       "    <tr style=\"text-align: right;\">\n",
       "      <th></th>\n",
       "      <th>passengers</th>\n",
       "    </tr>\n",
       "    <tr>\n",
       "      <th>time</th>\n",
       "      <th></th>\n",
       "    </tr>\n",
       "  </thead>\n",
       "  <tbody>\n",
       "    <tr>\n",
       "      <th>1960-07-01</th>\n",
       "      <td>622</td>\n",
       "    </tr>\n",
       "    <tr>\n",
       "      <th>1960-08-01</th>\n",
       "      <td>606</td>\n",
       "    </tr>\n",
       "    <tr>\n",
       "      <th>1960-09-01</th>\n",
       "      <td>508</td>\n",
       "    </tr>\n",
       "    <tr>\n",
       "      <th>1960-10-01</th>\n",
       "      <td>461</td>\n",
       "    </tr>\n",
       "    <tr>\n",
       "      <th>1960-11-01</th>\n",
       "      <td>390</td>\n",
       "    </tr>\n",
       "    <tr>\n",
       "      <th>1960-12-01</th>\n",
       "      <td>432</td>\n",
       "    </tr>\n",
       "  </tbody>\n",
       "</table>\n",
       "</div>"
      ],
      "text/plain": [
       "            passengers\n",
       "time                  \n",
       "1960-07-01         622\n",
       "1960-08-01         606\n",
       "1960-09-01         508\n",
       "1960-10-01         461\n",
       "1960-11-01         390\n",
       "1960-12-01         432"
      ]
     },
     "execution_count": 82,
     "metadata": {},
     "output_type": "execute_result"
    }
   ],
   "source": [
    "test"
   ]
  },
  {
   "cell_type": "code",
   "execution_count": 85,
   "id": "40ab11a8",
   "metadata": {},
   "outputs": [
    {
     "data": {
      "image/png": "[encoded data removed]",
      "text/plain": [
       "<Figure size 432x288 with 1 Axes>"
      ]
     },
     "metadata": {
      "needs_background": "light"
     },
     "output_type": "display_data"
    }
   ],
   "source": [
    "plt.plot( train)\n",
    "plt.plot( test,'r--')\n",
    "plt.plot( pred ,'g-')\n",
    "plt.show()"
   ]
  },
  {
   "cell_type": "code",
   "execution_count": 76,
   "id": "41c7590c",
   "metadata": {},
   "outputs": [
    {
     "data": {
      "text/html": [
       "<div>\n",
       "<style scoped>\n",
       "    .dataframe tbody tr th:only-of-type {\n",
       "        vertical-align: middle;\n",
       "    }\n",
       "\n",
       "    .dataframe tbody tr th {\n",
       "        vertical-align: top;\n",
       "    }\n",
       "\n",
       "    .dataframe thead th {\n",
       "        text-align: right;\n",
       "    }\n",
       "</style>\n",
       "<table border=\"1\" class=\"dataframe\">\n",
       "  <thead>\n",
       "    <tr style=\"text-align: right;\">\n",
       "      <th></th>\n",
       "      <th>passengers</th>\n",
       "    </tr>\n",
       "    <tr>\n",
       "      <th>time</th>\n",
       "      <th></th>\n",
       "    </tr>\n",
       "  </thead>\n",
       "  <tbody>\n",
       "    <tr>\n",
       "      <th>1949-01-01</th>\n",
       "      <td>112</td>\n",
       "    </tr>\n",
       "    <tr>\n",
       "      <th>1949-02-01</th>\n",
       "      <td>118</td>\n",
       "    </tr>\n",
       "    <tr>\n",
       "      <th>1949-03-01</th>\n",
       "      <td>132</td>\n",
       "    </tr>\n",
       "    <tr>\n",
       "      <th>1949-04-01</th>\n",
       "      <td>129</td>\n",
       "    </tr>\n",
       "    <tr>\n",
       "      <th>1949-05-01</th>\n",
       "      <td>121</td>\n",
       "    </tr>\n",
       "    <tr>\n",
       "      <th>...</th>\n",
       "      <td>...</td>\n",
       "    </tr>\n",
       "    <tr>\n",
       "      <th>1960-08-01</th>\n",
       "      <td>606</td>\n",
       "    </tr>\n",
       "    <tr>\n",
       "      <th>1960-09-01</th>\n",
       "      <td>508</td>\n",
       "    </tr>\n",
       "    <tr>\n",
       "      <th>1960-10-01</th>\n",
       "      <td>461</td>\n",
       "    </tr>\n",
       "    <tr>\n",
       "      <th>1960-11-01</th>\n",
       "      <td>390</td>\n",
       "    </tr>\n",
       "    <tr>\n",
       "      <th>1960-12-01</th>\n",
       "      <td>432</td>\n",
       "    </tr>\n",
       "  </tbody>\n",
       "</table>\n",
       "<p>144 rows × 1 columns</p>\n",
       "</div>"
      ],
      "text/plain": [
       "            passengers\n",
       "time                  \n",
       "1949-01-01         112\n",
       "1949-02-01         118\n",
       "1949-03-01         132\n",
       "1949-04-01         129\n",
       "1949-05-01         121\n",
       "...                ...\n",
       "1960-08-01         606\n",
       "1960-09-01         508\n",
       "1960-10-01         461\n",
       "1960-11-01         390\n",
       "1960-12-01         432\n",
       "\n",
       "[144 rows x 1 columns]"
      ]
     },
     "execution_count": 76,
     "metadata": {},
     "output_type": "execute_result"
    }
   ],
   "source": [
    "airDF"
   ]
  }
 ],
 "metadata": {
  "kernelspec": {
   "display_name": "Python 3 (ipykernel)",
   "language": "python",
   "name": "python3"
  },
  "language_info": {
   "codemirror_mode": {
    "name": "ipython",
    "version": 3
   },
   "file_extension": ".py",
   "mimetype": "text/x-python",
   "name": "python",
   "nbconvert_exporter": "python",
   "pygments_lexer": "ipython3",
   "version": "3.9.13"
  }
 },
 "nbformat": 4,
 "nbformat_minor": 5
}
