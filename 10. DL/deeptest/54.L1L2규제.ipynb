{
 "cells": [
  {
   "cell_type": "code",
   "execution_count": 5,
   "id": "0431d023",
   "metadata": {},
   "outputs": [],
   "source": [
    "import tensorflow as tf\n",
    "import numpy as np\n",
    "import matplotlib.pyplot as plt\n",
    "\n",
    "from tensorflow.keras.layers import Dense, Flatten, Conv2D, MaxPool2D\n",
    "from tensorflow.keras import Sequential\n",
    "from tensorflow.keras.utils import to_categorical\n",
    "\n",
    "from tensorflow.keras.datasets.mnist import load_data\n",
    "\n",
    "from tensorflow.keras.regularizers import l1\n",
    "from tensorflow.keras.regularizers import l1_l2\n",
    "from tensorflow.keras.regularizers import l2"
   ]
  },
  {
   "cell_type": "code",
   "execution_count": 2,
   "id": "c91f5f9a",
   "metadata": {},
   "outputs": [],
   "source": [
    "mnistData = load_data()"
   ]
  },
  {
   "cell_type": "code",
   "execution_count": 3,
   "id": "ef2ca54b",
   "metadata": {},
   "outputs": [],
   "source": [
    "(x_train, y_train), (x_test,y_test) = mnistData"
   ]
  },
  {
   "cell_type": "code",
   "execution_count": 4,
   "id": "cc2eef27",
   "metadata": {},
   "outputs": [],
   "source": [
    "y_trainOne = to_categorical( y_train)"
   ]
  },
  {
   "cell_type": "code",
   "execution_count": null,
   "id": "20316163",
   "metadata": {},
   "outputs": [
    {
     "name": "stdout",
     "output_type": "stream",
     "text": [
      "Epoch 1/10\n",
      " 315/1875 [====>.........................] - ETA: 1:03 - loss: 1.1416 - acc: 0.8756"
     ]
    }
   ],
   "source": [
    "model =Sequential()\n",
    "model.add( Conv2D( 32, kernel_size=(3,3), strides=1, \n",
    "                  input_shape=(28,28,1), activation='relu', padding='same' ) )\n",
    "model.add( Conv2D( 64, kernel_size=(3,3), activation='relu' , \n",
    "                  kernel_regularizer=l1(0.001) ) )\n",
    "model.add( MaxPool2D( pool_size=(2, 2) ) )\n",
    "\n",
    "model.add( Conv2D( 32, kernel_size=(3,3), strides=1, \n",
    "                   activation='relu', padding='same' ) )\n",
    "model.add( Conv2D( 64, kernel_size=(3,3), activation='relu' ) )\n",
    "model.add( MaxPool2D( pool_size=(2, 2) ) )\n",
    "\n",
    "model.add( Flatten() )\n",
    "model.add( Dense( units=64, activation='relu' ,kernel_regularizer=l2(0.001) ) )\n",
    "model.add( Dense(units=10, activation='softmax') )\n",
    "model.compile( loss='categorical_crossentropy', optimizer='adam', metrics=['acc']  )\n",
    "model.fit( x_train.reshape(-1, 28,28,1), y_trainOne, epochs=10 )"
   ]
  }
 ],
 "metadata": {
  "kernelspec": {
   "display_name": "Python 3 (ipykernel)",
   "language": "python",
   "name": "python3"
  },
  "language_info": {
   "codemirror_mode": {
    "name": "ipython",
    "version": 3
   },
   "file_extension": ".py",
   "mimetype": "text/x-python",
   "name": "python",
   "nbconvert_exporter": "python",
   "pygments_lexer": "ipython3",
   "version": "3.10.8"
  }
 },
 "nbformat": 4,
 "nbformat_minor": 5
}
