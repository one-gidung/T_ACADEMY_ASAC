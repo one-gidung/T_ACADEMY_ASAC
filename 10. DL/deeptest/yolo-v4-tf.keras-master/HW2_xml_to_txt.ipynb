{
 "cells": [
  {
   "cell_type": "code",
   "execution_count": 1,
   "id": "636abd6c",
   "metadata": {},
   "outputs": [
    {
     "name": "stdout",
     "output_type": "stream",
     "text": [
      "num classes: 2\n",
      "tigerlion_1.jpg\n",
      "tigerlion_10.jpg\n",
      "tigerlion_11.jpg\n",
      "tigerlion_12.jpg\n",
      "tigerlion_13.jpg\n",
      "tigerlion_14.jpg\n",
      "tigerlion_15.jpg\n",
      "tigerlion_16.jpg\n",
      "tigerlion_17.jpg\n",
      "tigerlion_18.jpg\n",
      "tigerlion_19.jpg\n",
      "tigerlion_2.jpg\n",
      "tigerlion_20.jpg\n",
      "tigerlion_21.jpg\n",
      "tigerlion_22.jpg\n",
      "tigerlion_3.jpg\n",
      "tigerlion_4.jpg\n",
      "tigerlion_5.jpg\n",
      "tigerlion_6.jpg\n",
      "tigerlion_7.jpg\n",
      "tigerlion_8.jpg\n",
      "tigerlion_9.jpg\n"
     ]
    }
   ],
   "source": [
    "import xml.etree.ElementTree as ET\n",
    "import os\n",
    "from glob import glob\n",
    "\n",
    "XML_PATH = './dataset2/xml'\n",
    "CLASSES_PATH = './class_names/classes2.txt'\n",
    "TXT_PATH = './dataset2/txt/anno.txt'\n",
    "\n",
    "\n",
    "'''loads the classes'''\n",
    "def get_classes(classes_path):\n",
    "    with open(classes_path) as f:\n",
    "        class_names = f.readlines()\n",
    "    class_names = [c.strip() for c in class_names]\n",
    "    return class_names\n",
    "\n",
    "\n",
    "classes = get_classes(CLASSES_PATH)\n",
    "assert len(classes) > 0, 'no class names detected!'\n",
    "print(f'num classes: {len(classes)}')\n",
    "\n",
    "# output file\n",
    "list_file = open(TXT_PATH, 'w')\n",
    "\n",
    "for path in glob(os.path.join(XML_PATH, '*.xml')):\n",
    "    in_file = open(path)\n",
    "\n",
    "    # Parse .xml file\n",
    "    tree = ET.parse(in_file)\n",
    "    root = tree.getroot()\n",
    "    # Write object information to .txt file\n",
    "    file_name = root.find('filename').text\n",
    "    print(file_name)\n",
    "    list_file.write(file_name)\n",
    "    for obj in root.iter('object'):\n",
    "        cls = obj.find('name').text \n",
    "        cls_id = classes.index(cls)\n",
    "        xmlbox = obj.find('bndbox')\n",
    "        b = (int(xmlbox.find('xmin').text), int(xmlbox.find('ymin').text), int(xmlbox.find('xmax').text), int(xmlbox.find('ymax').text))\n",
    "        list_file.write(\" \" + \",\".join([str(a) for a in b]) + ',' + str(cls_id))\n",
    "    list_file.write('\\n')\n",
    "list_file.close()"
   ]
  },
  {
   "cell_type": "code",
   "execution_count": null,
   "id": "b0d7e238",
   "metadata": {},
   "outputs": [],
   "source": []
  }
 ],
 "metadata": {
  "kernelspec": {
   "display_name": "Python 3 (ipykernel)",
   "language": "python",
   "name": "python3"
  },
  "language_info": {
   "codemirror_mode": {
    "name": "ipython",
    "version": 3
   },
   "file_extension": ".py",
   "mimetype": "text/x-python",
   "name": "python",
   "nbconvert_exporter": "python",
   "pygments_lexer": "ipython3",
   "version": "3.9.13"
  }
 },
 "nbformat": 4,
 "nbformat_minor": 5
}
