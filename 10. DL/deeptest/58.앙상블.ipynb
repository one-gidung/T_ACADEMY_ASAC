{
 "cells": [
  {
   "cell_type": "code",
   "execution_count": null,
   "id": "588489ce",
   "metadata": {},
   "outputs": [],
   "source": [
    "# %pip install scikeras"
   ]
  },
  {
   "cell_type": "code",
   "execution_count": 1,
   "id": "1a386c7c",
   "metadata": {},
   "outputs": [],
   "source": [
    "import numpy as np\n",
    "# from tensorflow.keras.wrappers.scikit_learn import KerasClassifier\n",
    "from scikeras.wrappers import KerasClassifier\n",
    "\n",
    "from sklearn.ensemble import VotingClassifier\n",
    "from sklearn.metrics import accuracy_score\n",
    "from tensorflow.keras.utils import to_categorical\n",
    "from tensorflow.keras.datasets.mnist import load_data\n",
    "\n",
    "from tensorflow.keras.layers import Dense, Activation, Flatten\n",
    "from tensorflow.keras import Sequential\n",
    "from tensorflow.keras.optimizers import Adam"
   ]
  },
  {
   "cell_type": "code",
   "execution_count": 2,
   "id": "ba22ce9d",
   "metadata": {},
   "outputs": [
    {
     "name": "stdout",
     "output_type": "stream",
     "text": [
      "Downloading data from https://storage.googleapis.com/tensorflow/tf-keras-datasets/mnist.npz\n",
      "11490434/11490434 [==============================] - 3s 0us/step\n"
     ]
    }
   ],
   "source": [
    "mnistData = load_data()\n",
    "(x_train,y_train),(x_test,y_test) = mnistData"
   ]
  },
  {
   "cell_type": "code",
   "execution_count": 13,
   "id": "89a14e8f",
   "metadata": {},
   "outputs": [],
   "source": [
    "def keras_model1():\n",
    "    model = Sequential()\n",
    "    model.add( Flatten( input_shape=(28,28)))\n",
    "    model.add(Dense(50))\n",
    "    model.add(Activation('relu'))    \n",
    "    model.add(Dense(50))\n",
    "    model.add(Activation('relu'))    \n",
    "    model.add(Dense(50))\n",
    "    model.add(Activation('relu'))    \n",
    "    model.add(Dense(10))\n",
    "    model.add(Activation('softmax'))\n",
    "\n",
    "    adam = Adam(learning_rate = 0.01)\n",
    "    model.compile(optimizer = \"adam\", loss = 'sparse_categorical_crossentropy', metrics = ['accuracy'])\n",
    "\n",
    "    return model"
   ]
  },
  {
   "cell_type": "code",
   "execution_count": 14,
   "id": "646b4919",
   "metadata": {},
   "outputs": [],
   "source": [
    "def keras_model2():\n",
    "    model = Sequential()\n",
    "    model.add( Flatten( input_shape=(28,28)))\n",
    "    model.add(Dense(50))\n",
    "    model.add(Activation('relu'))    \n",
    "    model.add(Dense(50))\n",
    "    model.add(Activation('relu'))      \n",
    "    model.add(Dense(10))\n",
    "    model.add(Activation('softmax'))\n",
    "\n",
    "    adma = Adam(learning_rate = 0.01)\n",
    "    model.compile(optimizer = \"adam\", loss = 'sparse_categorical_crossentropy', metrics = ['accuracy'])\n",
    "\n",
    "    return model"
   ]
  },
  {
   "cell_type": "code",
   "execution_count": 15,
   "id": "52080b07",
   "metadata": {},
   "outputs": [],
   "source": [
    "model1 = KerasClassifier( model=keras_model1, epochs=3, verbose=1 )\n",
    "model2 = KerasClassifier( model=keras_model2, epochs=3, verbose=1 )"
   ]
  },
  {
   "cell_type": "code",
   "execution_count": 16,
   "id": "e6a8a231",
   "metadata": {},
   "outputs": [
    {
     "name": "stdout",
     "output_type": "stream",
     "text": [
      "Epoch 1/3\n",
      "1875/1875 [==============================] - 11s 5ms/step - loss: 0.9618 - accuracy: 0.8244\n",
      "Epoch 2/3\n",
      "1875/1875 [==============================] - 11s 6ms/step - loss: 0.2813 - accuracy: 0.9209\n",
      "Epoch 3/3\n",
      "1875/1875 [==============================] - 11s 6ms/step - loss: 0.2225 - accuracy: 0.9372\n",
      "Epoch 1/3\n",
      "1875/1875 [==============================] - 13s 5ms/step - loss: 1.3939 - accuracy: 0.8058\n",
      "Epoch 2/3\n",
      "1875/1875 [==============================] - 11s 6ms/step - loss: 0.4004 - accuracy: 0.8945\n",
      "Epoch 3/3\n",
      "1875/1875 [==============================] - 11s 6ms/step - loss: 0.3487 - accuracy: 0.9091\n"
     ]
    },
    {
     "data": {
      "text/plain": [
       "VotingClassifier(estimators=[('model1',\n",
       "                              KerasClassifier(epochs=3, model=<function keras_model1 at 0x0000017A05789820>)),\n",
       "                             ('model2',\n",
       "                              KerasClassifier(epochs=3, model=<function keras_model2 at 0x0000017A00E42820>))],\n",
       "                 voting='soft')"
      ]
     },
     "execution_count": 16,
     "metadata": {},
     "output_type": "execute_result"
    }
   ],
   "source": [
    "ensemble_clf = VotingClassifier( estimators=[('model1', model1), ('model2', model2)], voting='soft')\n",
    "ensemble_clf.fit( x_train, y_train)"
   ]
  },
  {
   "cell_type": "code",
   "execution_count": 17,
   "id": "142a5b55",
   "metadata": {},
   "outputs": [
    {
     "name": "stdout",
     "output_type": "stream",
     "text": [
      "313/313 [==============================] - 1s 2ms/step\n",
      "313/313 [==============================] - 1s 2ms/step\n"
     ]
    },
    {
     "data": {
      "text/plain": [
       "array([7, 2, 1, ..., 4, 5, 6], dtype=uint8)"
      ]
     },
     "execution_count": 17,
     "metadata": {},
     "output_type": "execute_result"
    }
   ],
   "source": [
    "ensemble_clf.predict( x_test )"
   ]
  },
  {
   "cell_type": "code",
   "execution_count": null,
   "id": "fe2471f5",
   "metadata": {},
   "outputs": [],
   "source": []
  }
 ],
 "metadata": {
  "kernelspec": {
   "display_name": "Python 3.9.13 ('base')",
   "language": "python",
   "name": "python3"
  },
  "language_info": {
   "codemirror_mode": {
    "name": "ipython",
    "version": 3
   },
   "file_extension": ".py",
   "mimetype": "text/x-python",
   "name": "python",
   "nbconvert_exporter": "python",
   "pygments_lexer": "ipython3",
   "version": "3.9.13"
  },
  "vscode": {
   "interpreter": {
    "hash": "ad2bdc8ecc057115af97d19610ffacc2b4e99fae6737bb82f5d7fb13d2f2c186"
   }
  }
 },
 "nbformat": 4,
 "nbformat_minor": 5
}
