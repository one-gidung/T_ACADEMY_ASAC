{
 "cells": [
  {
   "cell_type": "code",
   "execution_count": 1,
   "id": "e1c69d3a",
   "metadata": {},
   "outputs": [],
   "source": [
    "import tensorflow as tf\n",
    "import numpy as np\n",
    "import matplotlib.pyplot as plt"
   ]
  },
  {
   "cell_type": "code",
   "execution_count": 2,
   "id": "bcf03601",
   "metadata": {},
   "outputs": [],
   "source": [
    "x_data = np.array( [1,2,3,4,2,6,7,8,9,10]) #출석일수\n",
    "y_data = np.array( [0,0,0,0,0,1,1,1,1,1]) #합격여부"
   ]
  },
  {
   "cell_type": "code",
   "execution_count": 10,
   "id": "b4814500",
   "metadata": {},
   "outputs": [],
   "source": [
    "def cost(x,y,w):\n",
    "    z = w*x # 연속데이터\n",
    "    hx = tf.nn.sigmoid(z) # 0~ 1사이 확률값\n",
    "#     c = tf.reduce_mean( (hx-y)**2 )\n",
    "#     c = -tf.reduce_mean( y * tf.math.log(hx) + (1 - y) * (tf.math.log(1 - hx)) )\n",
    "    c_i = tf.nn.sigmoid_cross_entropy_with_logits( labels=y, logits=z)\n",
    "    c = tf.reduce_mean( c_i )\n",
    "    return c"
   ]
  },
  {
   "cell_type": "code",
   "execution_count": 8,
   "id": "2baff9ec",
   "metadata": {},
   "outputs": [],
   "source": [
    "x = tf.constant( x_data, tf.float32)\n",
    "y = tf.constant( y_data, tf.float32)"
   ]
  },
  {
   "cell_type": "code",
   "execution_count": 5,
   "id": "be6b2075",
   "metadata": {},
   "outputs": [
    {
     "data": {
      "text/plain": [
       "<tf.Tensor: shape=(), dtype=float32, numpy=145.6>"
      ]
     },
     "execution_count": 5,
     "metadata": {},
     "output_type": "execute_result"
    }
   ],
   "source": [
    "cost( x,y, 3)"
   ]
  },
  {
   "cell_type": "code",
   "execution_count": 11,
   "id": "a8d067e8",
   "metadata": {},
   "outputs": [
    {
     "data": {
      "image/png": "[encoded data removed]",
      "text/plain": [
       "<Figure size 432x288 with 1 Axes>"
      ]
     },
     "metadata": {
      "needs_background": "light"
     },
     "output_type": "display_data"
    }
   ],
   "source": [
    "for w in np.linspace( -1, 5, 50):\n",
    "    c = cost( x,y, w)\n",
    "    plt.plot( w,c,'ro')\n",
    "plt.show()"
   ]
  }
 ],
 "metadata": {
  "kernelspec": {
   "display_name": "Python 3 (ipykernel)",
   "language": "python",
   "name": "python3"
  },
  "language_info": {
   "codemirror_mode": {
    "name": "ipython",
    "version": 3
   },
   "file_extension": ".py",
   "mimetype": "text/x-python",
   "name": "python",
   "nbconvert_exporter": "python",
   "pygments_lexer": "ipython3",
   "version": "3.9.12"
  }
 },
 "nbformat": 4,
 "nbformat_minor": 5
}
