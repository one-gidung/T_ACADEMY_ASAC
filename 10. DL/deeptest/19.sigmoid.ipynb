{
 "cells": [
  {
   "cell_type": "code",
   "execution_count": 1,
   "id": "4ffe1d4d",
   "metadata": {},
   "outputs": [],
   "source": [
    "import numpy as np\n",
    "import math\n",
    "import matplotlib.pyplot as plt"
   ]
  },
  {
   "cell_type": "code",
   "execution_count": 2,
   "id": "60443a0b",
   "metadata": {},
   "outputs": [
    {
     "name": "stdout",
     "output_type": "stream",
     "text": [
      "4\n",
      "0.25\n",
      "8\n",
      "0.125\n"
     ]
    }
   ],
   "source": [
    "print( 2**2 )\n",
    "print( 2**-2 )\n",
    "print( 2**3 )\n",
    "print( 2**-3 )"
   ]
  },
  {
   "cell_type": "code",
   "execution_count": 4,
   "id": "638d16df",
   "metadata": {},
   "outputs": [
    {
     "data": {
      "text/plain": [
       "2.718281828459045"
      ]
     },
     "execution_count": 4,
     "metadata": {},
     "output_type": "execute_result"
    }
   ],
   "source": [
    "math.e"
   ]
  },
  {
   "cell_type": "code",
   "execution_count": 3,
   "id": "79197d0a",
   "metadata": {},
   "outputs": [],
   "source": [
    "def sigmoid( z ):\n",
    "    return 1/(1+math.e**-z)"
   ]
  },
  {
   "cell_type": "code",
   "execution_count": null,
   "id": "d63c19ef",
   "metadata": {},
   "outputs": [],
   "source": [
    "# 0 :0.5  음수 0.5보다 작은값  양수 : 05 보다 큰값"
   ]
  },
  {
   "cell_type": "code",
   "execution_count": 5,
   "id": "f818a0b7",
   "metadata": {
    "collapsed": true
   },
   "outputs": [
    {
     "name": "stdout",
     "output_type": "stream",
     "text": [
      "4.539786870243442e-05\n",
      "0.2689414213699951\n",
      "0.5\n",
      "0.7310585786300049\n",
      "0.9999546021312976\n"
     ]
    }
   ],
   "source": [
    "print( sigmoid(-10) )\n",
    "print( sigmoid(-1) )\n",
    "print( sigmoid(0) )\n",
    "print( sigmoid(1) )\n",
    "print( sigmoid(10) )"
   ]
  },
  {
   "cell_type": "code",
   "execution_count": 6,
   "id": "e1464fbe",
   "metadata": {
    "collapsed": true
   },
   "outputs": [
    {
     "data": {
      "image/png": "[encoded data removed]",
      "text/plain": [
       "<Figure size 432x288 with 1 Axes>"
      ]
     },
     "metadata": {
      "needs_background": "light"
     },
     "output_type": "display_data"
    }
   ],
   "source": [
    "for z in np.linspace( -10,10,50):\n",
    "    s = sigmoid( z )\n",
    "    plt.plot( z, s, 'ro')\n",
    "plt.show()"
   ]
  }
 ],
 "metadata": {
  "kernelspec": {
   "display_name": "Python 3 (ipykernel)",
   "language": "python",
   "name": "python3"
  },
  "language_info": {
   "codemirror_mode": {
    "name": "ipython",
    "version": 3
   },
   "file_extension": ".py",
   "mimetype": "text/x-python",
   "name": "python",
   "nbconvert_exporter": "python",
   "pygments_lexer": "ipython3",
   "version": "3.9.12"
  }
 },
 "nbformat": 4,
 "nbformat_minor": 5
}
