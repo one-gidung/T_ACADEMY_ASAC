{
 "cells": [
  {
   "cell_type": "code",
   "execution_count": 1,
   "id": "f82a3499",
   "metadata": {},
   "outputs": [],
   "source": [
    "from tensorflow.keras.applications import vgg16"
   ]
  },
  {
   "cell_type": "code",
   "execution_count": 3,
   "id": "8e985819",
   "metadata": {},
   "outputs": [
    {
     "name": "stdout",
     "output_type": "stream",
     "text": [
      "Downloading data from https://storage.googleapis.com/tensorflow/keras-applications/vgg16/vgg16_weights_tf_dim_ordering_tf_kernels.h5\n",
      "553467096/553467096 [==============================] - 443s 1us/step\n"
     ]
    }
   ],
   "source": [
    "modelvgg16 = vgg16.VGG16()"
   ]
  },
  {
   "cell_type": "code",
   "execution_count": 4,
   "id": "3f26c1dd",
   "metadata": {
    "collapsed": true
   },
   "outputs": [
    {
     "name": "stdout",
     "output_type": "stream",
     "text": [
      "Model: \"vgg16\"\n",
      "_________________________________________________________________\n",
      " Layer (type)                Output Shape              Param #   \n",
      "=================================================================\n",
      " input_1 (InputLayer)        [(None, 224, 224, 3)]     0         \n",
      "                                                                 \n",
      " block1_conv1 (Conv2D)       (None, 224, 224, 64)      1792      \n",
      "                                                                 \n",
      " block1_conv2 (Conv2D)       (None, 224, 224, 64)      36928     \n",
      "                                                                 \n",
      " block1_pool (MaxPooling2D)  (None, 112, 112, 64)      0         \n",
      "                                                                 \n",
      " block2_conv1 (Conv2D)       (None, 112, 112, 128)     73856     \n",
      "                                                                 \n",
      " block2_conv2 (Conv2D)       (None, 112, 112, 128)     147584    \n",
      "                                                                 \n",
      " block2_pool (MaxPooling2D)  (None, 56, 56, 128)       0         \n",
      "                                                                 \n",
      " block3_conv1 (Conv2D)       (None, 56, 56, 256)       295168    \n",
      "                                                                 \n",
      " block3_conv2 (Conv2D)       (None, 56, 56, 256)       590080    \n",
      "                                                                 \n",
      " block3_conv3 (Conv2D)       (None, 56, 56, 256)       590080    \n",
      "                                                                 \n",
      " block3_pool (MaxPooling2D)  (None, 28, 28, 256)       0         \n",
      "                                                                 \n",
      " block4_conv1 (Conv2D)       (None, 28, 28, 512)       1180160   \n",
      "                                                                 \n",
      " block4_conv2 (Conv2D)       (None, 28, 28, 512)       2359808   \n",
      "                                                                 \n",
      " block4_conv3 (Conv2D)       (None, 28, 28, 512)       2359808   \n",
      "                                                                 \n",
      " block4_pool (MaxPooling2D)  (None, 14, 14, 512)       0         \n",
      "                                                                 \n",
      " block5_conv1 (Conv2D)       (None, 14, 14, 512)       2359808   \n",
      "                                                                 \n",
      " block5_conv2 (Conv2D)       (None, 14, 14, 512)       2359808   \n",
      "                                                                 \n",
      " block5_conv3 (Conv2D)       (None, 14, 14, 512)       2359808   \n",
      "                                                                 \n",
      " block5_pool (MaxPooling2D)  (None, 7, 7, 512)         0         \n",
      "                                                                 \n",
      " flatten (Flatten)           (None, 25088)             0         \n",
      "                                                                 \n",
      " fc1 (Dense)                 (None, 4096)              102764544 \n",
      "                                                                 \n",
      " fc2 (Dense)                 (None, 4096)              16781312  \n",
      "                                                                 \n",
      " predictions (Dense)         (None, 1000)              4097000   \n",
      "                                                                 \n",
      "=================================================================\n",
      "Total params: 138,357,544\n",
      "Trainable params: 138,357,544\n",
      "Non-trainable params: 0\n",
      "_________________________________________________________________\n"
     ]
    }
   ],
   "source": [
    "modelvgg16.summary()"
   ]
  },
  {
   "cell_type": "code",
   "execution_count": 5,
   "id": "a19d102c",
   "metadata": {},
   "outputs": [],
   "source": [
    "import tensorflow.keras.preprocessing.image as p\n",
    "from tensorflow.keras.applications.vgg16 import preprocess_input, decode_predictions"
   ]
  },
  {
   "cell_type": "code",
   "execution_count": 6,
   "id": "0714fd16",
   "metadata": {
    "collapsed": true
   },
   "outputs": [
    {
     "data": {
      "image/png": "[encoded data removed]",
      "text/plain": [
       "<PIL.Image.Image image mode=RGB size=224x224>"
      ]
     },
     "execution_count": 6,
     "metadata": {},
     "output_type": "execute_result"
    }
   ],
   "source": [
    "testImg = p.load_img('test.jpg',target_size=(224,224))\n",
    "testImg"
   ]
  },
  {
   "cell_type": "code",
   "execution_count": 8,
   "id": "b26dd19e",
   "metadata": {
    "collapsed": true
   },
   "outputs": [
    {
     "data": {
      "text/plain": [
       "array([[[[204., 207., 216.],\n",
       "         [204., 207., 216.],\n",
       "         [204., 207., 216.],\n",
       "         ...,\n",
       "         [215., 218., 227.],\n",
       "         [214., 217., 226.],\n",
       "         [214., 217., 226.]],\n",
       "\n",
       "        [[204., 207., 216.],\n",
       "         [204., 207., 216.],\n",
       "         [204., 207., 216.],\n",
       "         ...,\n",
       "         [215., 218., 227.],\n",
       "         [214., 217., 226.],\n",
       "         [214., 217., 226.]],\n",
       "\n",
       "        [[205., 208., 217.],\n",
       "         [205., 208., 217.],\n",
       "         [205., 208., 217.],\n",
       "         ...,\n",
       "         [214., 217., 226.],\n",
       "         [213., 216., 225.],\n",
       "         [213., 216., 225.]],\n",
       "\n",
       "        ...,\n",
       "\n",
       "        [[143., 131., 131.],\n",
       "         [150., 138., 138.],\n",
       "         [154., 142., 142.],\n",
       "         ...,\n",
       "         [145., 148., 163.],\n",
       "         [145., 148., 163.],\n",
       "         [143., 149., 163.]],\n",
       "\n",
       "        [[145., 133., 133.],\n",
       "         [148., 136., 136.],\n",
       "         [147., 135., 135.],\n",
       "         ...,\n",
       "         [142., 145., 160.],\n",
       "         [142., 145., 160.],\n",
       "         [141., 147., 161.]],\n",
       "\n",
       "        [[145., 133., 133.],\n",
       "         [148., 136., 136.],\n",
       "         [147., 135., 135.],\n",
       "         ...,\n",
       "         [142., 145., 160.],\n",
       "         [142., 145., 160.],\n",
       "         [141., 147., 161.]]]], dtype=float32)"
      ]
     },
     "execution_count": 8,
     "metadata": {},
     "output_type": "execute_result"
    }
   ],
   "source": [
    "imgArr = p.img_to_array( testImg )\n",
    "imgArr.reshape(1,224,224,3)"
   ]
  },
  {
   "cell_type": "code",
   "execution_count": 11,
   "id": "f9ae0ecc",
   "metadata": {},
   "outputs": [
    {
     "name": "stdout",
     "output_type": "stream",
     "text": [
      "1/1 [==============================] - 0s 158ms/step\n"
     ]
    }
   ],
   "source": [
    "pred = modelvgg16.predict( preprocess_input( imgArr.reshape(1,224,224,3) )  )"
   ]
  },
  {
   "cell_type": "code",
   "execution_count": 12,
   "id": "5f1cc035",
   "metadata": {},
   "outputs": [
    {
     "name": "stdout",
     "output_type": "stream",
     "text": [
      "Downloading data from https://storage.googleapis.com/download.tensorflow.org/data/imagenet_class_index.json\n",
      "35363/35363 [==============================] - 0s 1us/step\n"
     ]
    },
    {
     "data": {
      "text/plain": [
       "[[('n02124075', 'Egyptian_cat', 0.98905575),\n",
       "  ('n02127052', 'lynx', 0.008507357),\n",
       "  ('n02123159', 'tiger_cat', 0.0012594402),\n",
       "  ('n02123045', 'tabby', 0.0010506391),\n",
       "  ('n04522168', 'vase', 2.5645284e-05)]]"
      ]
     },
     "execution_count": 12,
     "metadata": {},
     "output_type": "execute_result"
    }
   ],
   "source": [
    "decode_predictions(pred)"
   ]
  }
 ],
 "metadata": {
  "kernelspec": {
   "display_name": "Python 3.9.13 ('base')",
   "language": "python",
   "name": "python3"
  },
  "language_info": {
   "codemirror_mode": {
    "name": "ipython",
    "version": 3
   },
   "file_extension": ".py",
   "mimetype": "text/x-python",
   "name": "python",
   "nbconvert_exporter": "python",
   "pygments_lexer": "ipython3",
   "version": "3.9.13 (main, Aug 25 2022, 23:51:50) [MSC v.1916 64 bit (AMD64)]"
  },
  "vscode": {
   "interpreter": {
    "hash": "ad2bdc8ecc057115af97d19610ffacc2b4e99fae6737bb82f5d7fb13d2f2c186"
   }
  }
 },
 "nbformat": 4,
 "nbformat_minor": 5
}
