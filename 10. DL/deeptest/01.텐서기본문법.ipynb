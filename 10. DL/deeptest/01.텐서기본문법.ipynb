{
 "cells": [
  {
   "cell_type": "code",
   "execution_count": 1,
   "id": "e1a97236",
   "metadata": {},
   "outputs": [],
   "source": [
    "import tensorflow as tf"
   ]
  },
  {
   "cell_type": "markdown",
   "id": "52603436",
   "metadata": {},
   "source": [
    "### scalar data"
   ]
  },
  {
   "cell_type": "code",
   "execution_count": 2,
   "id": "edd3062d",
   "metadata": {},
   "outputs": [],
   "source": [
    "s1 = 10\n",
    "s2 = 'abc'\n",
    "s3 = 3.14"
   ]
  },
  {
   "cell_type": "markdown",
   "id": "96070251",
   "metadata": {},
   "source": [
    "### vector data"
   ]
  },
  {
   "cell_type": "code",
   "execution_count": null,
   "id": "ac156301",
   "metadata": {},
   "outputs": [],
   "source": [
    "v = [10,20,30] #shape (3,)"
   ]
  },
  {
   "cell_type": "markdown",
   "id": "70947909",
   "metadata": {},
   "source": [
    "### matrix data"
   ]
  },
  {
   "cell_type": "code",
   "execution_count": null,
   "id": "0fcdb897",
   "metadata": {},
   "outputs": [],
   "source": [
    "m = [ [10,20,30], [10,20,30] ] #shape( 2,3)"
   ]
  },
  {
   "cell_type": "markdown",
   "id": "de8395f5",
   "metadata": {},
   "source": [
    "### 3d "
   ]
  },
  {
   "cell_type": "code",
   "execution_count": null,
   "id": "59b1f50d",
   "metadata": {},
   "outputs": [],
   "source": [
    "d3= [ [ [10,20,30], [10,20,30] ], [ [10,20,30], [10,20,30] ] ] #shape( 2, 2, 3)"
   ]
  },
  {
   "cell_type": "markdown",
   "id": "2fda81eb",
   "metadata": {},
   "source": [
    "### 4d"
   ]
  },
  {
   "cell_type": "code",
   "execution_count": null,
   "id": "79c9baef",
   "metadata": {},
   "outputs": [],
   "source": [
    "d4 = [ [ [ [10,20,30], [10,20,30] ], [ [10,20,30], [10,20,30] ] ],\n",
    "[ [ [10,20,30], [10,20,30] ], [ [10,20,30], [10,20,30] ] ] ] #shape( 2, 2, 2, 3)"
   ]
  },
  {
   "cell_type": "markdown",
   "id": "7669e8a8",
   "metadata": {},
   "source": [
    "### 텐서 데이터 노드를 정의 하는 방법\n",
    "1. constant: 읽기전용\n",
    "2. Variable: 읽기 쓰기"
   ]
  },
  {
   "cell_type": "code",
   "execution_count": 5,
   "id": "92f47bd6",
   "metadata": {},
   "outputs": [
    {
     "data": {
      "text/plain": [
       "<tf.Tensor: shape=(), dtype=int32, numpy=10>"
      ]
     },
     "execution_count": 5,
     "metadata": {},
     "output_type": "execute_result"
    }
   ],
   "source": [
    "s1 = 10\n",
    "c1 = tf.constant( s1 )\n",
    "c1"
   ]
  },
  {
   "cell_type": "code",
   "execution_count": 6,
   "id": "331c0479",
   "metadata": {},
   "outputs": [
    {
     "data": {
      "text/plain": [
       "10"
      ]
     },
     "execution_count": 6,
     "metadata": {},
     "output_type": "execute_result"
    }
   ],
   "source": [
    "c1.numpy()"
   ]
  },
  {
   "cell_type": "code",
   "execution_count": 7,
   "id": "8171ac70",
   "metadata": {},
   "outputs": [
    {
     "data": {
      "text/plain": [
       "<tf.Tensor: shape=(3,), dtype=int32, numpy=array([10, 20, 30])>"
      ]
     },
     "execution_count": 7,
     "metadata": {},
     "output_type": "execute_result"
    }
   ],
   "source": [
    "v1 = [10,20,30]\n",
    "t1 = tf.constant( v1 )\n",
    "t1"
   ]
  },
  {
   "cell_type": "code",
   "execution_count": 8,
   "id": "ddf7b5d0",
   "metadata": {},
   "outputs": [
    {
     "data": {
      "text/plain": [
       "tensorflow.python.framework.ops.EagerTensor"
      ]
     },
     "execution_count": 8,
     "metadata": {},
     "output_type": "execute_result"
    }
   ],
   "source": [
    "type( t1 )"
   ]
  },
  {
   "cell_type": "code",
   "execution_count": 9,
   "id": "0bc205eb",
   "metadata": {},
   "outputs": [
    {
     "data": {
      "text/plain": [
       "array([10, 20, 30])"
      ]
     },
     "execution_count": 9,
     "metadata": {},
     "output_type": "execute_result"
    }
   ],
   "source": [
    "t1.numpy()"
   ]
  },
  {
   "cell_type": "code",
   "execution_count": 10,
   "id": "07f32278",
   "metadata": {},
   "outputs": [
    {
     "data": {
      "text/plain": [
       "<tf.Tensor: shape=(2, 3), dtype=int32, numpy=\n",
       "array([[10, 20, 30],\n",
       "       [40, 50, 60]])>"
      ]
     },
     "execution_count": 10,
     "metadata": {},
     "output_type": "execute_result"
    }
   ],
   "source": [
    "m1 = tf.constant( [[10,20,30],[40,50,60]] )\n",
    "m1"
   ]
  },
  {
   "cell_type": "markdown",
   "id": "5175a099",
   "metadata": {},
   "source": [
    "### 산술연산 : \n",
    "1. element wise(요소별연산): 동일한 인덱스 끼리 연산\n",
    "2. broad castring :자동확장( 연산대상 사이즈로)"
   ]
  },
  {
   "cell_type": "code",
   "execution_count": 11,
   "id": "6b1c683b",
   "metadata": {},
   "outputs": [],
   "source": [
    "a = tf.constant( 3 )\n",
    "b = tf.constant( [1,2,3])"
   ]
  },
  {
   "cell_type": "code",
   "execution_count": 12,
   "id": "d7f24bf5",
   "metadata": {},
   "outputs": [
    {
     "data": {
      "text/plain": [
       "<tf.Tensor: shape=(3,), dtype=int32, numpy=array([3, 6, 9])>"
      ]
     },
     "execution_count": 12,
     "metadata": {},
     "output_type": "execute_result"
    }
   ],
   "source": [
    "c = tf.multiply( a,b) # c= a*b\n",
    "c"
   ]
  },
  {
   "cell_type": "code",
   "execution_count": null,
   "id": "b622974e",
   "metadata": {},
   "outputs": [],
   "source": [
    "[3,3,3] x [1,2,3]"
   ]
  },
  {
   "cell_type": "code",
   "execution_count": 13,
   "id": "f75369d4",
   "metadata": {},
   "outputs": [
    {
     "data": {
      "text/plain": [
       "array([3, 6, 9])"
      ]
     },
     "execution_count": 13,
     "metadata": {},
     "output_type": "execute_result"
    }
   ],
   "source": [
    "c.numpy()"
   ]
  },
  {
   "cell_type": "code",
   "execution_count": 19,
   "id": "dd6fbfc1",
   "metadata": {},
   "outputs": [],
   "source": [
    "f = tf.constant( [1,2,3] )\n",
    "g = tf.constant( [ [1,2,3],[4,5,6],[7,8,9] ] )"
   ]
  },
  {
   "cell_type": "code",
   "execution_count": 20,
   "id": "8a128e97",
   "metadata": {},
   "outputs": [],
   "source": [
    "h = tf.add( f,g ) # h = f+g"
   ]
  },
  {
   "cell_type": "code",
   "execution_count": 16,
   "id": "ffe9004c",
   "metadata": {},
   "outputs": [
    {
     "data": {
      "text/plain": [
       "array([[ 2,  4,  6],\n",
       "       [ 5,  7,  9],\n",
       "       [ 8, 10, 12]])"
      ]
     },
     "execution_count": 16,
     "metadata": {},
     "output_type": "execute_result"
    }
   ],
   "source": [
    "h.numpy()"
   ]
  },
  {
   "cell_type": "code",
   "execution_count": 21,
   "id": "25af17c1",
   "metadata": {},
   "outputs": [],
   "source": [
    "i = tf.constant( [[1],[2],[3]] ) # 3x1\n",
    "j = tf.constant( [ [1,2,3],[4,5,6],[7,8,9] ] )"
   ]
  },
  {
   "cell_type": "code",
   "execution_count": 22,
   "id": "a0d2bbfc",
   "metadata": {},
   "outputs": [],
   "source": [
    "k = i*j # tf.multiply( i,j)"
   ]
  },
  {
   "cell_type": "code",
   "execution_count": 23,
   "id": "7d49f832",
   "metadata": {},
   "outputs": [
    {
     "data": {
      "text/plain": [
       "<tf.Tensor: shape=(3, 3), dtype=int32, numpy=\n",
       "array([[ 1,  2,  3],\n",
       "       [ 8, 10, 12],\n",
       "       [21, 24, 27]])>"
      ]
     },
     "execution_count": 23,
     "metadata": {},
     "output_type": "execute_result"
    }
   ],
   "source": [
    "k"
   ]
  },
  {
   "cell_type": "markdown",
   "id": "57e6c6b7",
   "metadata": {},
   "source": [
    "### 행렬곱"
   ]
  },
  {
   "cell_type": "code",
   "execution_count": 24,
   "id": "7a8746e5",
   "metadata": {},
   "outputs": [],
   "source": [
    "o = tf.constant( [ [1,2],[3,4] ] ) # 행렬\n",
    "p = tf.constant( [ [5,6],[7,8] ] ) #행렬\n",
    "q = tf.multiply( o,p )\n",
    "r = tf.matmul( o,p ) #  행렬곱"
   ]
  },
  {
   "cell_type": "code",
   "execution_count": 25,
   "id": "9256f0ab",
   "metadata": {},
   "outputs": [
    {
     "data": {
      "text/plain": [
       "array([[ 5, 12],\n",
       "       [21, 32]])"
      ]
     },
     "execution_count": 25,
     "metadata": {},
     "output_type": "execute_result"
    }
   ],
   "source": [
    "q.numpy()"
   ]
  },
  {
   "cell_type": "code",
   "execution_count": 26,
   "id": "ae7f6cbe",
   "metadata": {},
   "outputs": [
    {
     "data": {
      "text/plain": [
       "array([[19, 22],\n",
       "       [43, 50]])"
      ]
     },
     "execution_count": 26,
     "metadata": {},
     "output_type": "execute_result"
    }
   ],
   "source": [
    "r.numpy()"
   ]
  },
  {
   "cell_type": "markdown",
   "id": "de08206d",
   "metadata": {},
   "source": [
    "## 많이 사용하는 operation"
   ]
  },
  {
   "cell_type": "code",
   "execution_count": 27,
   "id": "91be820f",
   "metadata": {},
   "outputs": [
    {
     "data": {
      "text/plain": [
       "<tf.Tensor: shape=(3,), dtype=int32, numpy=array([1, 4, 9])>"
      ]
     },
     "execution_count": 27,
     "metadata": {},
     "output_type": "execute_result"
    }
   ],
   "source": [
    "s = [1,2,3]\n",
    "t = tf.square( s ) # s**2\n",
    "t"
   ]
  },
  {
   "cell_type": "code",
   "execution_count": 28,
   "id": "eec7dd0e",
   "metadata": {},
   "outputs": [
    {
     "data": {
      "text/plain": [
       "<tf.Tensor: shape=(), dtype=int32, numpy=2>"
      ]
     },
     "execution_count": 28,
     "metadata": {},
     "output_type": "execute_result"
    }
   ],
   "source": [
    "u = tf.reduce_mean( s )\n",
    "u"
   ]
  },
  {
   "cell_type": "markdown",
   "id": "cceb94b6",
   "metadata": {},
   "source": [
    "### Variable"
   ]
  },
  {
   "cell_type": "code",
   "execution_count": 29,
   "id": "fec4b24e",
   "metadata": {},
   "outputs": [
    {
     "data": {
      "text/plain": [
       "<tf.Variable 'Variable:0' shape=() dtype=int32, numpy=10>"
      ]
     },
     "execution_count": 29,
     "metadata": {},
     "output_type": "execute_result"
    }
   ],
   "source": [
    "v = tf.Variable( 10 )\n",
    "v"
   ]
  },
  {
   "cell_type": "code",
   "execution_count": 30,
   "id": "784dbc44",
   "metadata": {},
   "outputs": [
    {
     "data": {
      "text/plain": [
       "tensorflow.python.ops.resource_variable_ops.ResourceVariable"
      ]
     },
     "execution_count": 30,
     "metadata": {},
     "output_type": "execute_result"
    }
   ],
   "source": [
    "type(v)"
   ]
  },
  {
   "cell_type": "code",
   "execution_count": null,
   "id": "5d2acd10",
   "metadata": {},
   "outputs": [],
   "source": [
    "# v.assign( 3 )\n",
    "# v.assign_add( 3 )\n",
    "v.assign_sub( 3 )"
   ]
  }
 ],
 "metadata": {
  "kernelspec": {
   "display_name": "Python 3 (ipykernel)",
   "language": "python",
   "name": "python3"
  },
  "language_info": {
   "codemirror_mode": {
    "name": "ipython",
    "version": 3
   },
   "file_extension": ".py",
   "mimetype": "text/x-python",
   "name": "python",
   "nbconvert_exporter": "python",
   "pygments_lexer": "ipython3",
   "version": "3.10.8"
  }
 },
 "nbformat": 4,
 "nbformat_minor": 5
}
