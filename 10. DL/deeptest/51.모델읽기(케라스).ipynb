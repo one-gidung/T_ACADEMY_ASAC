{
 "cells": [
  {
   "cell_type": "code",
   "execution_count": 6,
   "id": "f58f263b",
   "metadata": {},
   "outputs": [],
   "source": [
    "from tensorflow.keras.models import load_model\n",
    "import tensorflow.keras.preprocessing.image as p"
   ]
  },
  {
   "cell_type": "code",
   "execution_count": 2,
   "id": "abb93039",
   "metadata": {},
   "outputs": [],
   "source": [
    "model = load_model('finger.h5')"
   ]
  },
  {
   "cell_type": "code",
   "execution_count": 3,
   "id": "32f1a519",
   "metadata": {
    "collapsed": true
   },
   "outputs": [
    {
     "name": "stdout",
     "output_type": "stream",
     "text": [
      "Model: \"sequential\"\n",
      "_________________________________________________________________\n",
      " Layer (type)                Output Shape              Param #   \n",
      "=================================================================\n",
      " conv2d (Conv2D)             (None, 28, 28, 32)        320       \n",
      "                                                                 \n",
      " conv2d_1 (Conv2D)           (None, 26, 26, 64)        18496     \n",
      "                                                                 \n",
      " max_pooling2d (MaxPooling2D  (None, 13, 13, 64)       0         \n",
      " )                                                               \n",
      "                                                                 \n",
      " flatten (Flatten)           (None, 10816)             0         \n",
      "                                                                 \n",
      " dense (Dense)               (None, 64)                692288    \n",
      "                                                                 \n",
      " dense_1 (Dense)             (None, 10)                650       \n",
      "                                                                 \n",
      "=================================================================\n",
      "Total params: 711,754\n",
      "Trainable params: 711,754\n",
      "Non-trainable params: 0\n",
      "_________________________________________________________________\n"
     ]
    }
   ],
   "source": [
    "model.summary()"
   ]
  },
  {
   "cell_type": "code",
   "execution_count": 4,
   "id": "9c3cb32c",
   "metadata": {},
   "outputs": [],
   "source": [
    "catdogmodel = load_model('catdog.h5')"
   ]
  },
  {
   "cell_type": "code",
   "execution_count": 5,
   "id": "aaf661b3",
   "metadata": {
    "collapsed": true
   },
   "outputs": [
    {
     "name": "stdout",
     "output_type": "stream",
     "text": [
      "Model: \"sequential\"\n",
      "_________________________________________________________________\n",
      " Layer (type)                Output Shape              Param #   \n",
      "=================================================================\n",
      " conv2d (Conv2D)             (None, 98, 98, 32)        896       \n",
      "                                                                 \n",
      " conv2d_1 (Conv2D)           (None, 96, 96, 64)        18496     \n",
      "                                                                 \n",
      " max_pooling2d (MaxPooling2D  (None, 48, 48, 64)       0         \n",
      " )                                                               \n",
      "                                                                 \n",
      " flatten (Flatten)           (None, 147456)            0         \n",
      "                                                                 \n",
      " dense (Dense)               (None, 64)                9437248   \n",
      "                                                                 \n",
      " dense_1 (Dense)             (None, 2)                 130       \n",
      "                                                                 \n",
      "=================================================================\n",
      "Total params: 9,456,770\n",
      "Trainable params: 9,456,770\n",
      "Non-trainable params: 0\n",
      "_________________________________________________________________\n"
     ]
    }
   ],
   "source": [
    "catdogmodel.summary()"
   ]
  },
  {
   "cell_type": "code",
   "execution_count": 7,
   "id": "5f0eca6b",
   "metadata": {},
   "outputs": [
    {
     "data": {
      "image/png": "[encoded data removed]",
      "text/plain": [
       "<PIL.Image.Image image mode=RGB size=98x98>"
      ]
     },
     "execution_count": 7,
     "metadata": {},
     "output_type": "execute_result"
    }
   ],
   "source": [
    "testImg = p.load_img('test.jpg',target_size=(98,98))\n",
    "testImg"
   ]
  },
  {
   "cell_type": "code",
   "execution_count": 8,
   "id": "c68bea23",
   "metadata": {
    "collapsed": true
   },
   "outputs": [
    {
     "data": {
      "text/plain": [
       "array([[[0.8       , 0.8117647 , 0.84705883],\n",
       "        [0.8039216 , 0.8156863 , 0.8509804 ],\n",
       "        [0.8039216 , 0.8156863 , 0.8509804 ],\n",
       "        ...,\n",
       "        [0.83137256, 0.84313726, 0.8784314 ],\n",
       "        [0.8392157 , 0.8509804 , 0.8862745 ],\n",
       "        [0.8392157 , 0.8509804 , 0.8862745 ]],\n",
       "\n",
       "       [[0.8039216 , 0.8156863 , 0.8509804 ],\n",
       "        [0.8039216 , 0.8156863 , 0.8509804 ],\n",
       "        [0.8039216 , 0.8156863 , 0.8509804 ],\n",
       "        ...,\n",
       "        [0.8352941 , 0.84705883, 0.88235295],\n",
       "        [0.8352941 , 0.84705883, 0.88235295],\n",
       "        [0.827451  , 0.8392157 , 0.8745098 ]],\n",
       "\n",
       "       [[0.80784315, 0.81960785, 0.85490197],\n",
       "        [0.8039216 , 0.8156863 , 0.8509804 ],\n",
       "        [0.8       , 0.8117647 , 0.84705883],\n",
       "        ...,\n",
       "        [0.8352941 , 0.84705883, 0.88235295],\n",
       "        [0.827451  , 0.8392157 , 0.8745098 ],\n",
       "        [0.81960785, 0.83137256, 0.8666667 ]],\n",
       "\n",
       "       ...,\n",
       "\n",
       "       [[0.57254905, 0.5254902 , 0.5254902 ],\n",
       "        [0.6509804 , 0.6039216 , 0.6039216 ],\n",
       "        [0.62352943, 0.5686275 , 0.5647059 ],\n",
       "        ...,\n",
       "        [0.59607846, 0.6039216 , 0.6627451 ],\n",
       "        [0.59607846, 0.60784316, 0.6666667 ],\n",
       "        [0.59607846, 0.60784316, 0.6666667 ]],\n",
       "\n",
       "       [[0.58431375, 0.5372549 , 0.5372549 ],\n",
       "        [0.62352943, 0.5764706 , 0.5764706 ],\n",
       "        [0.6156863 , 0.56078434, 0.5568628 ],\n",
       "        ...,\n",
       "        [0.5803922 , 0.5882353 , 0.64705884],\n",
       "        [0.5803922 , 0.5921569 , 0.6509804 ],\n",
       "        [0.58431375, 0.59607846, 0.654902  ]],\n",
       "\n",
       "       [[0.5803922 , 0.53333336, 0.53333336],\n",
       "        [0.56078434, 0.5137255 , 0.5137255 ],\n",
       "        [0.59607846, 0.5411765 , 0.5372549 ],\n",
       "        ...,\n",
       "        [0.5568628 , 0.5647059 , 0.62352943],\n",
       "        [0.5568628 , 0.5686275 , 0.627451  ],\n",
       "        [0.5568628 , 0.5686275 , 0.627451  ]]], dtype=float32)"
      ]
     },
     "execution_count": 8,
     "metadata": {},
     "output_type": "execute_result"
    }
   ],
   "source": [
    "imgArr = p.img_to_array( testImg )/255\n",
    "imgArr"
   ]
  },
  {
   "cell_type": "code",
   "execution_count": 14,
   "id": "216267a2",
   "metadata": {},
   "outputs": [],
   "source": [
    "catdog = ['cat', 'dog']"
   ]
  },
  {
   "cell_type": "code",
   "execution_count": 16,
   "id": "03617adb",
   "metadata": {},
   "outputs": [
    {
     "name": "stdout",
     "output_type": "stream",
     "text": [
      "1/1 [==============================] - 0s 22ms/step\n"
     ]
    },
    {
     "data": {
      "text/plain": [
       "'cat'"
      ]
     },
     "execution_count": 16,
     "metadata": {},
     "output_type": "execute_result"
    }
   ],
   "source": [
    "catdog[ int(catdogmodel.predict( imgArr.reshape(1,98,98,3) ).argmax(axis=1)) ]"
   ]
  },
  {
   "cell_type": "code",
   "execution_count": 19,
   "id": "a84a113f",
   "metadata": {},
   "outputs": [],
   "source": [
    "def classCatDog(img):\n",
    "    catdog = ['cat', 'dog']\n",
    "    testImg = p.load_img( img,target_size=(98,98))\n",
    "    imgArr = p.img_to_array( testImg )/255\n",
    "    return catdog[ int(catdogmodel.predict( imgArr.reshape(1,98,98,3) ).argmax(axis=1)) ]"
   ]
  },
  {
   "cell_type": "code",
   "execution_count": 20,
   "id": "08a3a95f",
   "metadata": {},
   "outputs": [
    {
     "name": "stdout",
     "output_type": "stream",
     "text": [
      "1/1 [==============================] - 0s 31ms/step\n"
     ]
    },
    {
     "data": {
      "text/plain": [
       "'cat'"
      ]
     },
     "execution_count": 20,
     "metadata": {},
     "output_type": "execute_result"
    }
   ],
   "source": [
    "classCatDog( 'test.jpg' )"
   ]
  }
 ],
 "metadata": {
  "kernelspec": {
   "display_name": "Python 3 (ipykernel)",
   "language": "python",
   "name": "python3"
  },
  "language_info": {
   "codemirror_mode": {
    "name": "ipython",
    "version": 3
   },
   "file_extension": ".py",
   "mimetype": "text/x-python",
   "name": "python",
   "nbconvert_exporter": "python",
   "pygments_lexer": "ipython3",
   "version": "3.10.8"
  }
 },
 "nbformat": 4,
 "nbformat_minor": 5
}
