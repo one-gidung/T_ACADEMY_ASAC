{
 "cells": [
  {
   "cell_type": "code",
   "execution_count": 1,
   "id": "a988d0b9",
   "metadata": {},
   "outputs": [],
   "source": [
    "from tensorflow.keras.applications import vgg16\n",
    "import tensorflow.keras.preprocessing.image as p\n",
    "from tensorflow.keras.applications.vgg16 import preprocess_input, decode_predictions\n",
    "\n",
    "import tensorflow as tf\n",
    "import numpy as np\n",
    "import matplotlib.pyplot as plt\n",
    "\n",
    "from tensorflow.keras.layers import Dense, Flatten, Conv2D, MaxPool2D\n",
    "from tensorflow.keras import Sequential"
   ]
  },
  {
   "cell_type": "code",
   "execution_count": 8,
   "id": "4eefde61",
   "metadata": {},
   "outputs": [],
   "source": [
    "model_vgg = vgg16.VGG16(include_top=False,input_shape=(98,98,3))"
   ]
  },
  {
   "cell_type": "code",
   "execution_count": 9,
   "id": "354ccf05",
   "metadata": {
    "collapsed": true
   },
   "outputs": [
    {
     "name": "stdout",
     "output_type": "stream",
     "text": [
      "Model: \"vgg16\"\n",
      "_________________________________________________________________\n",
      " Layer (type)                Output Shape              Param #   \n",
      "=================================================================\n",
      " input_3 (InputLayer)        [(None, 98, 98, 3)]       0         \n",
      "                                                                 \n",
      " block1_conv1 (Conv2D)       (None, 98, 98, 64)        1792      \n",
      "                                                                 \n",
      " block1_conv2 (Conv2D)       (None, 98, 98, 64)        36928     \n",
      "                                                                 \n",
      " block1_pool (MaxPooling2D)  (None, 49, 49, 64)        0         \n",
      "                                                                 \n",
      " block2_conv1 (Conv2D)       (None, 49, 49, 128)       73856     \n",
      "                                                                 \n",
      " block2_conv2 (Conv2D)       (None, 49, 49, 128)       147584    \n",
      "                                                                 \n",
      " block2_pool (MaxPooling2D)  (None, 24, 24, 128)       0         \n",
      "                                                                 \n",
      " block3_conv1 (Conv2D)       (None, 24, 24, 256)       295168    \n",
      "                                                                 \n",
      " block3_conv2 (Conv2D)       (None, 24, 24, 256)       590080    \n",
      "                                                                 \n",
      " block3_conv3 (Conv2D)       (None, 24, 24, 256)       590080    \n",
      "                                                                 \n",
      " block3_pool (MaxPooling2D)  (None, 12, 12, 256)       0         \n",
      "                                                                 \n",
      " block4_conv1 (Conv2D)       (None, 12, 12, 512)       1180160   \n",
      "                                                                 \n",
      " block4_conv2 (Conv2D)       (None, 12, 12, 512)       2359808   \n",
      "                                                                 \n",
      " block4_conv3 (Conv2D)       (None, 12, 12, 512)       2359808   \n",
      "                                                                 \n",
      " block4_pool (MaxPooling2D)  (None, 6, 6, 512)         0         \n",
      "                                                                 \n",
      " block5_conv1 (Conv2D)       (None, 6, 6, 512)         2359808   \n",
      "                                                                 \n",
      " block5_conv2 (Conv2D)       (None, 6, 6, 512)         2359808   \n",
      "                                                                 \n",
      " block5_conv3 (Conv2D)       (None, 6, 6, 512)         2359808   \n",
      "                                                                 \n",
      " block5_pool (MaxPooling2D)  (None, 3, 3, 512)         0         \n",
      "                                                                 \n",
      "=================================================================\n",
      "Total params: 14,714,688\n",
      "Trainable params: 14,714,688\n",
      "Non-trainable params: 0\n",
      "_________________________________________________________________\n"
     ]
    }
   ],
   "source": [
    "model_vgg.summary()"
   ]
  },
  {
   "cell_type": "code",
   "execution_count": 11,
   "id": "eab66ace",
   "metadata": {},
   "outputs": [],
   "source": [
    "for layer in model_vgg.layers:\n",
    "    layer.trainable = False"
   ]
  },
  {
   "cell_type": "code",
   "execution_count": 7,
   "id": "a5e737ab",
   "metadata": {},
   "outputs": [
    {
     "name": "stdout",
     "output_type": "stream",
     "text": [
      "Found 20 images belonging to 2 classes.\n"
     ]
    }
   ],
   "source": [
    "dataGen = p.ImageDataGenerator( rescale= 1./255  )\n",
    "trainGen = dataGen.flow_from_directory( 'myimg', target_size=(98,98) )"
   ]
  },
  {
   "cell_type": "code",
   "execution_count": 12,
   "id": "5801e037",
   "metadata": {
    "collapsed": true
   },
   "outputs": [
    {
     "name": "stdout",
     "output_type": "stream",
     "text": [
      "Epoch 1/10\n",
      "1/1 [==============================] - 1s 1s/step - loss: 1.0247 - acc: 0.5000\n",
      "Epoch 2/10\n",
      "1/1 [==============================] - 0s 413ms/step - loss: 0.9945 - acc: 0.5000\n",
      "Epoch 3/10\n",
      "1/1 [==============================] - 1s 501ms/step - loss: 0.3776 - acc: 0.8500\n",
      "Epoch 4/10\n",
      "1/1 [==============================] - 0s 432ms/step - loss: 0.2371 - acc: 1.0000\n",
      "Epoch 5/10\n",
      "1/1 [==============================] - 0s 385ms/step - loss: 0.2939 - acc: 0.9500\n",
      "Epoch 6/10\n",
      "1/1 [==============================] - 0s 450ms/step - loss: 0.2239 - acc: 1.0000\n",
      "Epoch 7/10\n",
      "1/1 [==============================] - 0s 427ms/step - loss: 0.1199 - acc: 1.0000\n",
      "Epoch 8/10\n",
      "1/1 [==============================] - 0s 499ms/step - loss: 0.0601 - acc: 1.0000\n",
      "Epoch 9/10\n",
      "1/1 [==============================] - 0s 451ms/step - loss: 0.0377 - acc: 1.0000\n",
      "Epoch 10/10\n",
      "1/1 [==============================] - 0s 443ms/step - loss: 0.0316 - acc: 1.0000\n"
     ]
    },
    {
     "data": {
      "text/plain": [
       "<keras.callbacks.History at 0x2593bac4610>"
      ]
     },
     "execution_count": 12,
     "metadata": {},
     "output_type": "execute_result"
    }
   ],
   "source": [
    "model = Sequential()\n",
    "model.add( model_vgg )\n",
    "model.add( Flatten() )\n",
    "model.add( Dense( units=64, activation='relu') )\n",
    "model.add( Dense( units=2, activation='softmax') )\n",
    "model.compile( loss='categorical_crossentropy', optimizer='adam',metrics=['acc'] )\n",
    "model.fit( trainGen ,epochs=10)"
   ]
  },
  {
   "cell_type": "code",
   "execution_count": 13,
   "id": "4451f940",
   "metadata": {},
   "outputs": [
    {
     "name": "stdout",
     "output_type": "stream",
     "text": [
      "Model: \"sequential\"\n",
      "_________________________________________________________________\n",
      " Layer (type)                Output Shape              Param #   \n",
      "=================================================================\n",
      " vgg16 (Functional)          (None, 3, 3, 512)         14714688  \n",
      "                                                                 \n",
      " flatten (Flatten)           (None, 4608)              0         \n",
      "                                                                 \n",
      " dense (Dense)               (None, 64)                294976    \n",
      "                                                                 \n",
      " dense_1 (Dense)             (None, 2)                 130       \n",
      "                                                                 \n",
      "=================================================================\n",
      "Total params: 15,009,794\n",
      "Trainable params: 295,106\n",
      "Non-trainable params: 14,714,688\n",
      "_________________________________________________________________\n"
     ]
    }
   ],
   "source": [
    "model.summary()"
   ]
  }
 ],
 "metadata": {
  "kernelspec": {
   "display_name": "Python 3 (ipykernel)",
   "language": "python",
   "name": "python3"
  },
  "language_info": {
   "codemirror_mode": {
    "name": "ipython",
    "version": 3
   },
   "file_extension": ".py",
   "mimetype": "text/x-python",
   "name": "python",
   "nbconvert_exporter": "python",
   "pygments_lexer": "ipython3",
   "version": "3.10.8"
  }
 },
 "nbformat": 4,
 "nbformat_minor": 5
}
