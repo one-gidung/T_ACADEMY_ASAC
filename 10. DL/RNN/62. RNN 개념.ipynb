{
 "cells": [
  {
   "cell_type": "code",
   "execution_count": 1,
   "id": "4e53202c",
   "metadata": {},
   "outputs": [],
   "source": [
    "import numpy as np\n",
    "import pandas as pd\n",
    "from tensorflow.keras.models import Sequential\n",
    "from tensorflow.keras.layers import Dense, SimpleRNN, LSTM, GRU"
   ]
  },
  {
   "cell_type": "code",
   "execution_count": 2,
   "id": "833fc348",
   "metadata": {},
   "outputs": [],
   "source": [
    "x = np.array( [[1,2,3], [2,3,4], [3,4,5], [4,5,6]] )\n",
    "y = np.array( [4,5,6,7] )"
   ]
  },
  {
   "cell_type": "code",
   "execution_count": 3,
   "id": "8f7f9627",
   "metadata": {},
   "outputs": [
    {
     "data": {
      "text/plain": [
       "array([[[1],\n",
       "        [2],\n",
       "        [3]],\n",
       "\n",
       "       [[2],\n",
       "        [3],\n",
       "        [4]],\n",
       "\n",
       "       [[3],\n",
       "        [4],\n",
       "        [5]],\n",
       "\n",
       "       [[4],\n",
       "        [5],\n",
       "        [6]]])"
      ]
     },
     "execution_count": 3,
     "metadata": {},
     "output_type": "execute_result"
    }
   ],
   "source": [
    "# ( batch_size, sequence length, hidden size)\n",
    "x = x.reshape( 4, 3, 1)\n",
    "x"
   ]
  },
  {
   "cell_type": "code",
   "execution_count": null,
   "id": "ea7a1c3c",
   "metadata": {},
   "outputs": [],
   "source": []
  },
  {
   "cell_type": "code",
   "execution_count": null,
   "id": "985673a6",
   "metadata": {},
   "outputs": [],
   "source": [
    "model = Sequential()\n",
    "model.add( SimpleRNN(50, activation='relu', input_shape=(3,1)))"
   ]
  },
  {
   "cell_type": "code",
   "execution_count": null,
   "id": "0d831dae",
   "metadata": {},
   "outputs": [],
   "source": [
    "s = model.layers[1].get_weights()"
   ]
  },
  {
   "cell_type": "code",
   "execution_count": null,
   "id": "ebbc511d",
   "metadata": {},
   "outputs": [],
   "source": [
    "len(w)"
   ]
  },
  {
   "cell_type": "code",
   "execution_count": null,
   "id": "9d59f137",
   "metadata": {},
   "outputs": [],
   "source": [
    "print(w[0].shape)\n",
    "print(w[1].shape)\n",
    "print(w[2].shape)"
   ]
  },
  {
   "cell_type": "code",
   "execution_count": null,
   "id": "9c14e74d",
   "metadata": {},
   "outputs": [],
   "source": [
    "model.predict( np.array([5,6,7]).reshape(1,2,3))"
   ]
  },
  {
   "cell_type": "code",
   "execution_count": null,
   "id": "6cdcc525",
   "metadata": {},
   "outputs": [],
   "source": []
  }
 ],
 "metadata": {
  "kernelspec": {
   "display_name": "base",
   "language": "python",
   "name": "python3"
  },
  "language_info": {
   "codemirror_mode": {
    "name": "ipython",
    "version": 3
   },
   "file_extension": ".py",
   "mimetype": "text/x-python",
   "name": "python",
   "nbconvert_exporter": "python",
   "pygments_lexer": "ipython3",
   "version": "3.9.13"
  },
  "vscode": {
   "interpreter": {
    "hash": "ad2bdc8ecc057115af97d19610ffacc2b4e99fae6737bb82f5d7fb13d2f2c186"
   }
  }
 },
 "nbformat": 4,
 "nbformat_minor": 5
}
