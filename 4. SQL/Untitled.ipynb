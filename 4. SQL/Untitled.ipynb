{
 "cells": [
  {
   "cell_type": "code",
   "execution_count": 1,
   "id": "53cca997",
   "metadata": {},
   "outputs": [
    {
     "name": "stdout",
     "output_type": "stream",
     "text": [
      "My Factorial 불렀으? n값은?4\n",
      "My Factorial 불렀으? n값은?3\n",
      "My Factorial 불렀으? n값은?2\n",
      "My Factorial 불렀으? n값은?1\n"
     ]
    },
    {
     "data": {
      "text/plain": [
       "24"
      ]
     },
     "execution_count": 1,
     "metadata": {},
     "output_type": "execute_result"
    }
   ],
   "source": [
    "def my_factorial(n):\n",
    "\t\t# 진짜 불러지는지 확인을 위해서 print 함수를 사용을 함..\n",
    "    print(\"My Factorial 불렀으? n값은?\" + str(n))\n",
    "    if n <=1 :\n",
    "        return 1\n",
    "    else:\n",
    "        return  n * my_factorial(n - 1)\n",
    "\n",
    "### 실제 4!에 대한 계산 시행\n",
    "my_factorial(4)\n"
   ]
  },
  {
   "cell_type": "code",
   "execution_count": null,
   "id": "e79ec091",
   "metadata": {},
   "outputs": [],
   "source": []
  }
 ],
 "metadata": {
  "kernelspec": {
   "display_name": "Python 3 (ipykernel)",
   "language": "python",
   "name": "python3"
  },
  "language_info": {
   "codemirror_mode": {
    "name": "ipython",
    "version": 3
   },
   "file_extension": ".py",
   "mimetype": "text/x-python",
   "name": "python",
   "nbconvert_exporter": "python",
   "pygments_lexer": "ipython3",
   "version": "3.9.12"
  }
 },
 "nbformat": 4,
 "nbformat_minor": 5
}
